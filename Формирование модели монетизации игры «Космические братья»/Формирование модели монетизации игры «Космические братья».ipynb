{
 "cells": [
  {
   "cell_type": "markdown",
   "metadata": {},
   "source": [
    "### Формирование модели монетизации игры «Космические братья»"
   ]
  },
  {
   "cell_type": "markdown",
   "metadata": {},
   "source": [
    "<b>Описание:</b>\n",
    "#### проанализировать рекламные источники</br>\n",
    "#### сформировать модель монетизации игры</br>\n",
    "#### презентовать полученные результаты</br>\n",
    "<br><b>Цель:</b></br>\n",
    "<br>Найти самый перспективный рекламный источник</br>\n",
    "<br></br>\n",
    "<br><b>Данные:</b></br>\n",
    "#### **Описание данных:**\n",
    "\n",
    "Основной датасет содержит данные о событиях, совершенных в мобильной игре «Космические братья». В ней пользователи строят свою космическую программу и пытаются преуспеть в нелёгком деле колонизации галактики.\n",
    "\n",
    "Основная монетизация игры — только планируется. Но предполагается, что в приложении будет происходить показ рекламы на экране с выбором типа объекта для постройки.\n",
    "\n",
    "В датасете представлены данные по игре пользователей на первом уровне. Завершение первого уровня требует от игрока выполнения одного из двух условий:\n",
    "\n",
    "- Победа над первым врагом\n",
    "- Реализация проекта - разработка орбитальной сборки спутников\n",
    "\n",
    "В датасете содержатся данные первых пользователей приложения — когорты пользователей, которые начали пользоваться приложением в период с 4 по 10 мая включительно.\n",
    "\n",
    "Датасет *game_actions.csv*:\n",
    "\n",
    "- `event_datetime` — время события;\n",
    "- `event` — одно из трёх событий:\n",
    "    1. `building` — объект построен,\n",
    "    2. `finished_stage_1` — первый уровень завершён,\n",
    "    3. `project` — проект завершён;\n",
    "- `building_type` — один из трёх типов здания:\n",
    "    1. `assembly_shop` — сборочный цех,\n",
    "    2. `spaceport` — космопорт,\n",
    "    3. `research_center` — исследовательский центр;\n",
    "- `user_id` — идентификатор пользователя;\n",
    "- `project_type` — тип реализованного проекта;\n",
    "\n",
    "Помимо основного датасета есть два датасета с информацией о рекламных активностях.\n",
    "\n",
    "Датасет *ad_costs.csv* содержит колонки:\n",
    "\n",
    "- `day` - день, в который был совершен клик по объявлению\n",
    "- `source` - источник трафика\n",
    "- `cost` - стоимость кликов\n",
    "\n",
    "Датасет user_source.csv содержит колонки:\n",
    "\n",
    "- `user_id` - идентификатор пользователя\n",
    "- `source` - источников, с которого пришёл пользователь, установивший приложение"
   ]
  },
  {
   "cell_type": "markdown",
   "metadata": {},
   "source": [
    "### Загрузка данных и изучение общей информации"
   ]
  },
  {
   "cell_type": "markdown",
   "metadata": {},
   "source": [
    "#### Импортируем необходимые библиотеки для работы"
   ]
  },
  {
   "cell_type": "code",
   "execution_count": 1,
   "metadata": {},
   "outputs": [],
   "source": [
    "#Импортируем все необходимые библиотеки для работы \n",
    "import pandas as pd\n",
    "import datetime as dt\n",
    "import seaborn as sns\n",
    "import numpy as np\n",
    "import math as mth\n",
    "from scipy import stats as st\n",
    "import matplotlib.pyplot as plt\n",
    "from pandas.plotting import register_matplotlib_converters\n",
    "import warnings\n",
    "warnings.simplefilter('ignore')\n",
    "import folium \n",
    "from folium import Map, Marker, Choropleth\n",
    "from folium.plugins import MarkerCluster\n",
    "import json"
   ]
  },
  {
   "cell_type": "markdown",
   "metadata": {},
   "source": [
    "#### Смотрим на содержание датасетов"
   ]
  },
  {
   "cell_type": "code",
   "execution_count": 2,
   "metadata": {},
   "outputs": [],
   "source": [
    "game_actions = pd.read_csv('/datasets/game_actions.csv')"
   ]
  },
  {
   "cell_type": "code",
   "execution_count": 3,
   "metadata": {},
   "outputs": [
    {
     "data": {
      "text/html": [
       "<div>\n",
       "<style scoped>\n",
       "    .dataframe tbody tr th:only-of-type {\n",
       "        vertical-align: middle;\n",
       "    }\n",
       "\n",
       "    .dataframe tbody tr th {\n",
       "        vertical-align: top;\n",
       "    }\n",
       "\n",
       "    .dataframe thead th {\n",
       "        text-align: right;\n",
       "    }\n",
       "</style>\n",
       "<table border=\"1\" class=\"dataframe\">\n",
       "  <thead>\n",
       "    <tr style=\"text-align: right;\">\n",
       "      <th></th>\n",
       "      <th>event_datetime</th>\n",
       "      <th>event</th>\n",
       "      <th>building_type</th>\n",
       "      <th>user_id</th>\n",
       "      <th>project_type</th>\n",
       "    </tr>\n",
       "  </thead>\n",
       "  <tbody>\n",
       "    <tr>\n",
       "      <th>0</th>\n",
       "      <td>2020-05-04 00:00:01</td>\n",
       "      <td>building</td>\n",
       "      <td>assembly_shop</td>\n",
       "      <td>55e92310-cb8e-4754-b622-597e124b03de</td>\n",
       "      <td>NaN</td>\n",
       "    </tr>\n",
       "    <tr>\n",
       "      <th>1</th>\n",
       "      <td>2020-05-04 00:00:03</td>\n",
       "      <td>building</td>\n",
       "      <td>assembly_shop</td>\n",
       "      <td>c07b1c10-f477-44dc-81dc-ec82254b1347</td>\n",
       "      <td>NaN</td>\n",
       "    </tr>\n",
       "    <tr>\n",
       "      <th>2</th>\n",
       "      <td>2020-05-04 00:00:16</td>\n",
       "      <td>building</td>\n",
       "      <td>assembly_shop</td>\n",
       "      <td>6edd42cc-e753-4ff6-a947-2107cd560710</td>\n",
       "      <td>NaN</td>\n",
       "    </tr>\n",
       "    <tr>\n",
       "      <th>3</th>\n",
       "      <td>2020-05-04 00:00:16</td>\n",
       "      <td>building</td>\n",
       "      <td>assembly_shop</td>\n",
       "      <td>92c69003-d60a-444a-827f-8cc51bf6bf4c</td>\n",
       "      <td>NaN</td>\n",
       "    </tr>\n",
       "    <tr>\n",
       "      <th>4</th>\n",
       "      <td>2020-05-04 00:00:35</td>\n",
       "      <td>building</td>\n",
       "      <td>assembly_shop</td>\n",
       "      <td>cdc6bb92-0ccb-4490-9866-ef142f09139d</td>\n",
       "      <td>NaN</td>\n",
       "    </tr>\n",
       "    <tr>\n",
       "      <th>5</th>\n",
       "      <td>2020-05-04 00:00:36</td>\n",
       "      <td>building</td>\n",
       "      <td>assembly_shop</td>\n",
       "      <td>06c592ca-902d-42bb-bac3-75ce84cca159</td>\n",
       "      <td>NaN</td>\n",
       "    </tr>\n",
       "    <tr>\n",
       "      <th>6</th>\n",
       "      <td>2020-05-04 00:00:36</td>\n",
       "      <td>building</td>\n",
       "      <td>assembly_shop</td>\n",
       "      <td>4fe0f101-694b-4e31-9740-d1d87f7208ea</td>\n",
       "      <td>NaN</td>\n",
       "    </tr>\n",
       "    <tr>\n",
       "      <th>7</th>\n",
       "      <td>2020-05-04 00:00:38</td>\n",
       "      <td>building</td>\n",
       "      <td>assembly_shop</td>\n",
       "      <td>beb8ca15-33a9-465d-b47b-89aa96f89c9a</td>\n",
       "      <td>NaN</td>\n",
       "    </tr>\n",
       "    <tr>\n",
       "      <th>8</th>\n",
       "      <td>2020-05-04 00:00:44</td>\n",
       "      <td>building</td>\n",
       "      <td>assembly_shop</td>\n",
       "      <td>65a92713-5969-48b1-8945-bfefa5063887</td>\n",
       "      <td>NaN</td>\n",
       "    </tr>\n",
       "    <tr>\n",
       "      <th>9</th>\n",
       "      <td>2020-05-04 00:01:33</td>\n",
       "      <td>building</td>\n",
       "      <td>assembly_shop</td>\n",
       "      <td>fa352362-d258-472c-b295-2796ccc39fa3</td>\n",
       "      <td>NaN</td>\n",
       "    </tr>\n",
       "  </tbody>\n",
       "</table>\n",
       "</div>"
      ],
      "text/plain": [
       "        event_datetime     event  building_type  \\\n",
       "0  2020-05-04 00:00:01  building  assembly_shop   \n",
       "1  2020-05-04 00:00:03  building  assembly_shop   \n",
       "2  2020-05-04 00:00:16  building  assembly_shop   \n",
       "3  2020-05-04 00:00:16  building  assembly_shop   \n",
       "4  2020-05-04 00:00:35  building  assembly_shop   \n",
       "5  2020-05-04 00:00:36  building  assembly_shop   \n",
       "6  2020-05-04 00:00:36  building  assembly_shop   \n",
       "7  2020-05-04 00:00:38  building  assembly_shop   \n",
       "8  2020-05-04 00:00:44  building  assembly_shop   \n",
       "9  2020-05-04 00:01:33  building  assembly_shop   \n",
       "\n",
       "                                user_id project_type  \n",
       "0  55e92310-cb8e-4754-b622-597e124b03de          NaN  \n",
       "1  c07b1c10-f477-44dc-81dc-ec82254b1347          NaN  \n",
       "2  6edd42cc-e753-4ff6-a947-2107cd560710          NaN  \n",
       "3  92c69003-d60a-444a-827f-8cc51bf6bf4c          NaN  \n",
       "4  cdc6bb92-0ccb-4490-9866-ef142f09139d          NaN  \n",
       "5  06c592ca-902d-42bb-bac3-75ce84cca159          NaN  \n",
       "6  4fe0f101-694b-4e31-9740-d1d87f7208ea          NaN  \n",
       "7  beb8ca15-33a9-465d-b47b-89aa96f89c9a          NaN  \n",
       "8  65a92713-5969-48b1-8945-bfefa5063887          NaN  \n",
       "9  fa352362-d258-472c-b295-2796ccc39fa3          NaN  "
      ]
     },
     "execution_count": 3,
     "metadata": {},
     "output_type": "execute_result"
    }
   ],
   "source": [
    "game_actions.head(10)"
   ]
  },
  {
   "cell_type": "code",
   "execution_count": 4,
   "metadata": {},
   "outputs": [],
   "source": [
    "ad_costs = pd.read_csv('/datasets/ad_costs.csv')"
   ]
  },
  {
   "cell_type": "code",
   "execution_count": 5,
   "metadata": {},
   "outputs": [
    {
     "data": {
      "text/html": [
       "<div>\n",
       "<style scoped>\n",
       "    .dataframe tbody tr th:only-of-type {\n",
       "        vertical-align: middle;\n",
       "    }\n",
       "\n",
       "    .dataframe tbody tr th {\n",
       "        vertical-align: top;\n",
       "    }\n",
       "\n",
       "    .dataframe thead th {\n",
       "        text-align: right;\n",
       "    }\n",
       "</style>\n",
       "<table border=\"1\" class=\"dataframe\">\n",
       "  <thead>\n",
       "    <tr style=\"text-align: right;\">\n",
       "      <th></th>\n",
       "      <th>source</th>\n",
       "      <th>day</th>\n",
       "      <th>cost</th>\n",
       "    </tr>\n",
       "  </thead>\n",
       "  <tbody>\n",
       "    <tr>\n",
       "      <th>0</th>\n",
       "      <td>facebook_ads</td>\n",
       "      <td>2020-05-03</td>\n",
       "      <td>935.882786</td>\n",
       "    </tr>\n",
       "    <tr>\n",
       "      <th>1</th>\n",
       "      <td>facebook_ads</td>\n",
       "      <td>2020-05-04</td>\n",
       "      <td>548.354480</td>\n",
       "    </tr>\n",
       "    <tr>\n",
       "      <th>2</th>\n",
       "      <td>facebook_ads</td>\n",
       "      <td>2020-05-05</td>\n",
       "      <td>260.185754</td>\n",
       "    </tr>\n",
       "    <tr>\n",
       "      <th>3</th>\n",
       "      <td>facebook_ads</td>\n",
       "      <td>2020-05-06</td>\n",
       "      <td>177.982200</td>\n",
       "    </tr>\n",
       "    <tr>\n",
       "      <th>4</th>\n",
       "      <td>facebook_ads</td>\n",
       "      <td>2020-05-07</td>\n",
       "      <td>111.766796</td>\n",
       "    </tr>\n",
       "    <tr>\n",
       "      <th>5</th>\n",
       "      <td>facebook_ads</td>\n",
       "      <td>2020-05-08</td>\n",
       "      <td>68.009276</td>\n",
       "    </tr>\n",
       "    <tr>\n",
       "      <th>6</th>\n",
       "      <td>facebook_ads</td>\n",
       "      <td>2020-05-09</td>\n",
       "      <td>38.723350</td>\n",
       "    </tr>\n",
       "    <tr>\n",
       "      <th>7</th>\n",
       "      <td>instagram_new_adverts</td>\n",
       "      <td>2020-05-03</td>\n",
       "      <td>943.204717</td>\n",
       "    </tr>\n",
       "    <tr>\n",
       "      <th>8</th>\n",
       "      <td>instagram_new_adverts</td>\n",
       "      <td>2020-05-04</td>\n",
       "      <td>502.925451</td>\n",
       "    </tr>\n",
       "    <tr>\n",
       "      <th>9</th>\n",
       "      <td>instagram_new_adverts</td>\n",
       "      <td>2020-05-05</td>\n",
       "      <td>313.970984</td>\n",
       "    </tr>\n",
       "  </tbody>\n",
       "</table>\n",
       "</div>"
      ],
      "text/plain": [
       "                  source         day        cost\n",
       "0           facebook_ads  2020-05-03  935.882786\n",
       "1           facebook_ads  2020-05-04  548.354480\n",
       "2           facebook_ads  2020-05-05  260.185754\n",
       "3           facebook_ads  2020-05-06  177.982200\n",
       "4           facebook_ads  2020-05-07  111.766796\n",
       "5           facebook_ads  2020-05-08   68.009276\n",
       "6           facebook_ads  2020-05-09   38.723350\n",
       "7  instagram_new_adverts  2020-05-03  943.204717\n",
       "8  instagram_new_adverts  2020-05-04  502.925451\n",
       "9  instagram_new_adverts  2020-05-05  313.970984"
      ]
     },
     "execution_count": 5,
     "metadata": {},
     "output_type": "execute_result"
    }
   ],
   "source": [
    "ad_costs.head(10)"
   ]
  },
  {
   "cell_type": "code",
   "execution_count": 6,
   "metadata": {},
   "outputs": [],
   "source": [
    "user_source = pd.read_csv('/datasets/user_source.csv')"
   ]
  },
  {
   "cell_type": "code",
   "execution_count": 7,
   "metadata": {},
   "outputs": [
    {
     "data": {
      "text/html": [
       "<div>\n",
       "<style scoped>\n",
       "    .dataframe tbody tr th:only-of-type {\n",
       "        vertical-align: middle;\n",
       "    }\n",
       "\n",
       "    .dataframe tbody tr th {\n",
       "        vertical-align: top;\n",
       "    }\n",
       "\n",
       "    .dataframe thead th {\n",
       "        text-align: right;\n",
       "    }\n",
       "</style>\n",
       "<table border=\"1\" class=\"dataframe\">\n",
       "  <thead>\n",
       "    <tr style=\"text-align: right;\">\n",
       "      <th></th>\n",
       "      <th>user_id</th>\n",
       "      <th>source</th>\n",
       "    </tr>\n",
       "  </thead>\n",
       "  <tbody>\n",
       "    <tr>\n",
       "      <th>0</th>\n",
       "      <td>0001f83c-c6ac-4621-b7f0-8a28b283ac30</td>\n",
       "      <td>facebook_ads</td>\n",
       "    </tr>\n",
       "    <tr>\n",
       "      <th>1</th>\n",
       "      <td>00151b4f-ba38-44a8-a650-d7cf130a0105</td>\n",
       "      <td>yandex_direct</td>\n",
       "    </tr>\n",
       "    <tr>\n",
       "      <th>2</th>\n",
       "      <td>001aaea6-3d14-43f1-8ca8-7f48820f17aa</td>\n",
       "      <td>youtube_channel_reklama</td>\n",
       "    </tr>\n",
       "    <tr>\n",
       "      <th>3</th>\n",
       "      <td>001d39dc-366c-4021-9604-6a3b9ff01e25</td>\n",
       "      <td>instagram_new_adverts</td>\n",
       "    </tr>\n",
       "    <tr>\n",
       "      <th>4</th>\n",
       "      <td>002f508f-67b6-479f-814b-b05f00d4e995</td>\n",
       "      <td>facebook_ads</td>\n",
       "    </tr>\n",
       "    <tr>\n",
       "      <th>5</th>\n",
       "      <td>003b80c6-4164-4157-bb2a-03d0181d39c4</td>\n",
       "      <td>yandex_direct</td>\n",
       "    </tr>\n",
       "    <tr>\n",
       "      <th>6</th>\n",
       "      <td>003ee7e8-6356-4286-a715-62f22a18d2a1</td>\n",
       "      <td>instagram_new_adverts</td>\n",
       "    </tr>\n",
       "    <tr>\n",
       "      <th>7</th>\n",
       "      <td>004074f8-251a-4776-922c-8348dca1a2f6</td>\n",
       "      <td>facebook_ads</td>\n",
       "    </tr>\n",
       "    <tr>\n",
       "      <th>8</th>\n",
       "      <td>00440efd-aa50-4b4b-aae8-ffcd1782729d</td>\n",
       "      <td>facebook_ads</td>\n",
       "    </tr>\n",
       "    <tr>\n",
       "      <th>9</th>\n",
       "      <td>00464e5e-28ed-4be6-bf44-517ef7b3937b</td>\n",
       "      <td>yandex_direct</td>\n",
       "    </tr>\n",
       "  </tbody>\n",
       "</table>\n",
       "</div>"
      ],
      "text/plain": [
       "                                user_id                   source\n",
       "0  0001f83c-c6ac-4621-b7f0-8a28b283ac30             facebook_ads\n",
       "1  00151b4f-ba38-44a8-a650-d7cf130a0105            yandex_direct\n",
       "2  001aaea6-3d14-43f1-8ca8-7f48820f17aa  youtube_channel_reklama\n",
       "3  001d39dc-366c-4021-9604-6a3b9ff01e25    instagram_new_adverts\n",
       "4  002f508f-67b6-479f-814b-b05f00d4e995             facebook_ads\n",
       "5  003b80c6-4164-4157-bb2a-03d0181d39c4            yandex_direct\n",
       "6  003ee7e8-6356-4286-a715-62f22a18d2a1    instagram_new_adverts\n",
       "7  004074f8-251a-4776-922c-8348dca1a2f6             facebook_ads\n",
       "8  00440efd-aa50-4b4b-aae8-ffcd1782729d             facebook_ads\n",
       "9  00464e5e-28ed-4be6-bf44-517ef7b3937b            yandex_direct"
      ]
     },
     "execution_count": 7,
     "metadata": {},
     "output_type": "execute_result"
    }
   ],
   "source": [
    "user_source.head(10)"
   ]
  },
  {
   "cell_type": "markdown",
   "metadata": {},
   "source": [
    "На первый взгляд, все датасеты вполне нормально выглядят, пока не понятно на что обращать внимание. Нужно провести предобработку данных, посмотреть дубликаты, пропуски, посмотреь на типы данных. "
   ]
  },
  {
   "cell_type": "markdown",
   "metadata": {},
   "source": [
    "### Предобработка данных "
   ]
  },
  {
   "cell_type": "markdown",
   "metadata": {},
   "source": [
    "#### Проверка датасетов на дубликаты(явные/неявные)\n",
    "\n",
    "#### Проверка датасетов на пропуски\n",
    "\n",
    "#### Проверка датасетов на верные типы данных\n",
    "\n",
    "#### Проверка регистров полей, датасетов"
   ]
  },
  {
   "cell_type": "code",
   "execution_count": 56,
   "metadata": {
    "scrolled": false
   },
   "outputs": [
    {
     "data": {
      "text/plain": [
       "'Получение первых 5 строк датасетов'"
      ]
     },
     "metadata": {},
     "output_type": "display_data"
    },
    {
     "data": {
      "text/html": [
       "<div>\n",
       "<style scoped>\n",
       "    .dataframe tbody tr th:only-of-type {\n",
       "        vertical-align: middle;\n",
       "    }\n",
       "\n",
       "    .dataframe tbody tr th {\n",
       "        vertical-align: top;\n",
       "    }\n",
       "\n",
       "    .dataframe thead th {\n",
       "        text-align: right;\n",
       "    }\n",
       "</style>\n",
       "<table border=\"1\" class=\"dataframe\">\n",
       "  <thead>\n",
       "    <tr style=\"text-align: right;\">\n",
       "      <th></th>\n",
       "      <th>event_datetime</th>\n",
       "      <th>event</th>\n",
       "      <th>building_type</th>\n",
       "      <th>user_id</th>\n",
       "      <th>project_type</th>\n",
       "      <th>day</th>\n",
       "    </tr>\n",
       "  </thead>\n",
       "  <tbody>\n",
       "    <tr>\n",
       "      <th>0</th>\n",
       "      <td>2020-05-04 00:00:01</td>\n",
       "      <td>building</td>\n",
       "      <td>assembly_shop</td>\n",
       "      <td>55e92310-cb8e-4754-b622-597e124b03de</td>\n",
       "      <td>NaN</td>\n",
       "      <td>2020-05-04</td>\n",
       "    </tr>\n",
       "    <tr>\n",
       "      <th>1</th>\n",
       "      <td>2020-05-04 00:00:03</td>\n",
       "      <td>building</td>\n",
       "      <td>assembly_shop</td>\n",
       "      <td>c07b1c10-f477-44dc-81dc-ec82254b1347</td>\n",
       "      <td>NaN</td>\n",
       "      <td>2020-05-04</td>\n",
       "    </tr>\n",
       "    <tr>\n",
       "      <th>2</th>\n",
       "      <td>2020-05-04 00:00:16</td>\n",
       "      <td>building</td>\n",
       "      <td>assembly_shop</td>\n",
       "      <td>6edd42cc-e753-4ff6-a947-2107cd560710</td>\n",
       "      <td>NaN</td>\n",
       "      <td>2020-05-04</td>\n",
       "    </tr>\n",
       "    <tr>\n",
       "      <th>3</th>\n",
       "      <td>2020-05-04 00:00:16</td>\n",
       "      <td>building</td>\n",
       "      <td>assembly_shop</td>\n",
       "      <td>92c69003-d60a-444a-827f-8cc51bf6bf4c</td>\n",
       "      <td>NaN</td>\n",
       "      <td>2020-05-04</td>\n",
       "    </tr>\n",
       "    <tr>\n",
       "      <th>4</th>\n",
       "      <td>2020-05-04 00:00:35</td>\n",
       "      <td>building</td>\n",
       "      <td>assembly_shop</td>\n",
       "      <td>cdc6bb92-0ccb-4490-9866-ef142f09139d</td>\n",
       "      <td>NaN</td>\n",
       "      <td>2020-05-04</td>\n",
       "    </tr>\n",
       "  </tbody>\n",
       "</table>\n",
       "</div>"
      ],
      "text/plain": [
       "       event_datetime     event  building_type  \\\n",
       "0 2020-05-04 00:00:01  building  assembly_shop   \n",
       "1 2020-05-04 00:00:03  building  assembly_shop   \n",
       "2 2020-05-04 00:00:16  building  assembly_shop   \n",
       "3 2020-05-04 00:00:16  building  assembly_shop   \n",
       "4 2020-05-04 00:00:35  building  assembly_shop   \n",
       "\n",
       "                                user_id project_type        day  \n",
       "0  55e92310-cb8e-4754-b622-597e124b03de          NaN 2020-05-04  \n",
       "1  c07b1c10-f477-44dc-81dc-ec82254b1347          NaN 2020-05-04  \n",
       "2  6edd42cc-e753-4ff6-a947-2107cd560710          NaN 2020-05-04  \n",
       "3  92c69003-d60a-444a-827f-8cc51bf6bf4c          NaN 2020-05-04  \n",
       "4  cdc6bb92-0ccb-4490-9866-ef142f09139d          NaN 2020-05-04  "
      ]
     },
     "metadata": {},
     "output_type": "display_data"
    },
    {
     "data": {
      "text/html": [
       "<div>\n",
       "<style scoped>\n",
       "    .dataframe tbody tr th:only-of-type {\n",
       "        vertical-align: middle;\n",
       "    }\n",
       "\n",
       "    .dataframe tbody tr th {\n",
       "        vertical-align: top;\n",
       "    }\n",
       "\n",
       "    .dataframe thead th {\n",
       "        text-align: right;\n",
       "    }\n",
       "</style>\n",
       "<table border=\"1\" class=\"dataframe\">\n",
       "  <thead>\n",
       "    <tr style=\"text-align: right;\">\n",
       "      <th></th>\n",
       "      <th>source</th>\n",
       "      <th>day</th>\n",
       "      <th>cost</th>\n",
       "    </tr>\n",
       "  </thead>\n",
       "  <tbody>\n",
       "    <tr>\n",
       "      <th>0</th>\n",
       "      <td>facebook_ads</td>\n",
       "      <td>2020-05-04</td>\n",
       "      <td>935.882786</td>\n",
       "    </tr>\n",
       "    <tr>\n",
       "      <th>1</th>\n",
       "      <td>facebook_ads</td>\n",
       "      <td>2020-05-05</td>\n",
       "      <td>548.354480</td>\n",
       "    </tr>\n",
       "    <tr>\n",
       "      <th>2</th>\n",
       "      <td>facebook_ads</td>\n",
       "      <td>2020-05-06</td>\n",
       "      <td>260.185754</td>\n",
       "    </tr>\n",
       "    <tr>\n",
       "      <th>3</th>\n",
       "      <td>facebook_ads</td>\n",
       "      <td>2020-05-07</td>\n",
       "      <td>177.982200</td>\n",
       "    </tr>\n",
       "    <tr>\n",
       "      <th>4</th>\n",
       "      <td>facebook_ads</td>\n",
       "      <td>2020-05-08</td>\n",
       "      <td>111.766796</td>\n",
       "    </tr>\n",
       "  </tbody>\n",
       "</table>\n",
       "</div>"
      ],
      "text/plain": [
       "         source        day        cost\n",
       "0  facebook_ads 2020-05-04  935.882786\n",
       "1  facebook_ads 2020-05-05  548.354480\n",
       "2  facebook_ads 2020-05-06  260.185754\n",
       "3  facebook_ads 2020-05-07  177.982200\n",
       "4  facebook_ads 2020-05-08  111.766796"
      ]
     },
     "metadata": {},
     "output_type": "display_data"
    },
    {
     "data": {
      "text/html": [
       "<div>\n",
       "<style scoped>\n",
       "    .dataframe tbody tr th:only-of-type {\n",
       "        vertical-align: middle;\n",
       "    }\n",
       "\n",
       "    .dataframe tbody tr th {\n",
       "        vertical-align: top;\n",
       "    }\n",
       "\n",
       "    .dataframe thead th {\n",
       "        text-align: right;\n",
       "    }\n",
       "</style>\n",
       "<table border=\"1\" class=\"dataframe\">\n",
       "  <thead>\n",
       "    <tr style=\"text-align: right;\">\n",
       "      <th></th>\n",
       "      <th>user_id</th>\n",
       "      <th>source</th>\n",
       "    </tr>\n",
       "  </thead>\n",
       "  <tbody>\n",
       "    <tr>\n",
       "      <th>0</th>\n",
       "      <td>0001f83c-c6ac-4621-b7f0-8a28b283ac30</td>\n",
       "      <td>facebook_ads</td>\n",
       "    </tr>\n",
       "    <tr>\n",
       "      <th>1</th>\n",
       "      <td>00151b4f-ba38-44a8-a650-d7cf130a0105</td>\n",
       "      <td>yandex_direct</td>\n",
       "    </tr>\n",
       "    <tr>\n",
       "      <th>2</th>\n",
       "      <td>001aaea6-3d14-43f1-8ca8-7f48820f17aa</td>\n",
       "      <td>youtube_channel_reklama</td>\n",
       "    </tr>\n",
       "    <tr>\n",
       "      <th>3</th>\n",
       "      <td>001d39dc-366c-4021-9604-6a3b9ff01e25</td>\n",
       "      <td>instagram_new_adverts</td>\n",
       "    </tr>\n",
       "    <tr>\n",
       "      <th>4</th>\n",
       "      <td>002f508f-67b6-479f-814b-b05f00d4e995</td>\n",
       "      <td>facebook_ads</td>\n",
       "    </tr>\n",
       "  </tbody>\n",
       "</table>\n",
       "</div>"
      ],
      "text/plain": [
       "                                user_id                   source\n",
       "0  0001f83c-c6ac-4621-b7f0-8a28b283ac30             facebook_ads\n",
       "1  00151b4f-ba38-44a8-a650-d7cf130a0105            yandex_direct\n",
       "2  001aaea6-3d14-43f1-8ca8-7f48820f17aa  youtube_channel_reklama\n",
       "3  001d39dc-366c-4021-9604-6a3b9ff01e25    instagram_new_adverts\n",
       "4  002f508f-67b6-479f-814b-b05f00d4e995             facebook_ads"
      ]
     },
     "metadata": {},
     "output_type": "display_data"
    },
    {
     "name": "stdout",
     "output_type": "stream",
     "text": [
      "**************************************************\n"
     ]
    },
    {
     "data": {
      "text/plain": [
       "'Статистические показатели датасетов'"
      ]
     },
     "metadata": {},
     "output_type": "display_data"
    },
    {
     "data": {
      "text/html": [
       "<div>\n",
       "<style scoped>\n",
       "    .dataframe tbody tr th:only-of-type {\n",
       "        vertical-align: middle;\n",
       "    }\n",
       "\n",
       "    .dataframe tbody tr th {\n",
       "        vertical-align: top;\n",
       "    }\n",
       "\n",
       "    .dataframe thead th {\n",
       "        text-align: right;\n",
       "    }\n",
       "</style>\n",
       "<table border=\"1\" class=\"dataframe\">\n",
       "  <thead>\n",
       "    <tr style=\"text-align: right;\">\n",
       "      <th></th>\n",
       "      <th>event_datetime</th>\n",
       "      <th>event</th>\n",
       "      <th>building_type</th>\n",
       "      <th>user_id</th>\n",
       "      <th>project_type</th>\n",
       "      <th>day</th>\n",
       "    </tr>\n",
       "  </thead>\n",
       "  <tbody>\n",
       "    <tr>\n",
       "      <th>count</th>\n",
       "      <td>135640</td>\n",
       "      <td>135640</td>\n",
       "      <td>127957</td>\n",
       "      <td>135640</td>\n",
       "      <td>1866</td>\n",
       "      <td>135640</td>\n",
       "    </tr>\n",
       "    <tr>\n",
       "      <th>unique</th>\n",
       "      <td>128790</td>\n",
       "      <td>3</td>\n",
       "      <td>3</td>\n",
       "      <td>13576</td>\n",
       "      <td>1</td>\n",
       "      <td>33</td>\n",
       "    </tr>\n",
       "    <tr>\n",
       "      <th>top</th>\n",
       "      <td>2020-05-07 03:10:43</td>\n",
       "      <td>building</td>\n",
       "      <td>spaceport</td>\n",
       "      <td>bf542075-e3a2-4e79-82d8-3838e86d2a25</td>\n",
       "      <td>satellite_orbital_assembly</td>\n",
       "      <td>2020-05-10 00:00:00</td>\n",
       "    </tr>\n",
       "    <tr>\n",
       "      <th>freq</th>\n",
       "      <td>4</td>\n",
       "      <td>127957</td>\n",
       "      <td>59325</td>\n",
       "      <td>22</td>\n",
       "      <td>1866</td>\n",
       "      <td>15208</td>\n",
       "    </tr>\n",
       "    <tr>\n",
       "      <th>first</th>\n",
       "      <td>2020-05-04 00:00:01</td>\n",
       "      <td>NaN</td>\n",
       "      <td>NaN</td>\n",
       "      <td>NaN</td>\n",
       "      <td>NaN</td>\n",
       "      <td>2020-05-04 00:00:00</td>\n",
       "    </tr>\n",
       "    <tr>\n",
       "      <th>last</th>\n",
       "      <td>2020-06-05 12:32:49</td>\n",
       "      <td>NaN</td>\n",
       "      <td>NaN</td>\n",
       "      <td>NaN</td>\n",
       "      <td>NaN</td>\n",
       "      <td>2020-06-05 00:00:00</td>\n",
       "    </tr>\n",
       "  </tbody>\n",
       "</table>\n",
       "</div>"
      ],
      "text/plain": [
       "             event_datetime     event building_type  \\\n",
       "count                135640    135640        127957   \n",
       "unique               128790         3             3   \n",
       "top     2020-05-07 03:10:43  building     spaceport   \n",
       "freq                      4    127957         59325   \n",
       "first   2020-05-04 00:00:01       NaN           NaN   \n",
       "last    2020-06-05 12:32:49       NaN           NaN   \n",
       "\n",
       "                                     user_id                project_type  \\\n",
       "count                                 135640                        1866   \n",
       "unique                                 13576                           1   \n",
       "top     bf542075-e3a2-4e79-82d8-3838e86d2a25  satellite_orbital_assembly   \n",
       "freq                                      22                        1866   \n",
       "first                                    NaN                         NaN   \n",
       "last                                     NaN                         NaN   \n",
       "\n",
       "                        day  \n",
       "count                135640  \n",
       "unique                   33  \n",
       "top     2020-05-10 00:00:00  \n",
       "freq                  15208  \n",
       "first   2020-05-04 00:00:00  \n",
       "last    2020-06-05 00:00:00  "
      ]
     },
     "metadata": {},
     "output_type": "display_data"
    },
    {
     "data": {
      "text/html": [
       "<div>\n",
       "<style scoped>\n",
       "    .dataframe tbody tr th:only-of-type {\n",
       "        vertical-align: middle;\n",
       "    }\n",
       "\n",
       "    .dataframe tbody tr th {\n",
       "        vertical-align: top;\n",
       "    }\n",
       "\n",
       "    .dataframe thead th {\n",
       "        text-align: right;\n",
       "    }\n",
       "</style>\n",
       "<table border=\"1\" class=\"dataframe\">\n",
       "  <thead>\n",
       "    <tr style=\"text-align: right;\">\n",
       "      <th></th>\n",
       "      <th>cost</th>\n",
       "    </tr>\n",
       "  </thead>\n",
       "  <tbody>\n",
       "    <tr>\n",
       "      <th>count</th>\n",
       "      <td>28.000000</td>\n",
       "    </tr>\n",
       "    <tr>\n",
       "      <th>mean</th>\n",
       "      <td>271.556321</td>\n",
       "    </tr>\n",
       "    <tr>\n",
       "      <th>std</th>\n",
       "      <td>286.867650</td>\n",
       "    </tr>\n",
       "    <tr>\n",
       "      <th>min</th>\n",
       "      <td>23.314669</td>\n",
       "    </tr>\n",
       "    <tr>\n",
       "      <th>25%</th>\n",
       "      <td>66.747365</td>\n",
       "    </tr>\n",
       "    <tr>\n",
       "      <th>50%</th>\n",
       "      <td>160.056443</td>\n",
       "    </tr>\n",
       "    <tr>\n",
       "      <th>75%</th>\n",
       "      <td>349.034473</td>\n",
       "    </tr>\n",
       "    <tr>\n",
       "      <th>max</th>\n",
       "      <td>969.139394</td>\n",
       "    </tr>\n",
       "  </tbody>\n",
       "</table>\n",
       "</div>"
      ],
      "text/plain": [
       "             cost\n",
       "count   28.000000\n",
       "mean   271.556321\n",
       "std    286.867650\n",
       "min     23.314669\n",
       "25%     66.747365\n",
       "50%    160.056443\n",
       "75%    349.034473\n",
       "max    969.139394"
      ]
     },
     "metadata": {},
     "output_type": "display_data"
    },
    {
     "data": {
      "text/html": [
       "<div>\n",
       "<style scoped>\n",
       "    .dataframe tbody tr th:only-of-type {\n",
       "        vertical-align: middle;\n",
       "    }\n",
       "\n",
       "    .dataframe tbody tr th {\n",
       "        vertical-align: top;\n",
       "    }\n",
       "\n",
       "    .dataframe thead th {\n",
       "        text-align: right;\n",
       "    }\n",
       "</style>\n",
       "<table border=\"1\" class=\"dataframe\">\n",
       "  <thead>\n",
       "    <tr style=\"text-align: right;\">\n",
       "      <th></th>\n",
       "      <th>user_id</th>\n",
       "      <th>source</th>\n",
       "    </tr>\n",
       "  </thead>\n",
       "  <tbody>\n",
       "    <tr>\n",
       "      <th>count</th>\n",
       "      <td>13576</td>\n",
       "      <td>13576</td>\n",
       "    </tr>\n",
       "    <tr>\n",
       "      <th>unique</th>\n",
       "      <td>13576</td>\n",
       "      <td>4</td>\n",
       "    </tr>\n",
       "    <tr>\n",
       "      <th>top</th>\n",
       "      <td>a2987f04-5c30-4738-93c0-9004f98ac945</td>\n",
       "      <td>yandex_direct</td>\n",
       "    </tr>\n",
       "    <tr>\n",
       "      <th>freq</th>\n",
       "      <td>1</td>\n",
       "      <td>4817</td>\n",
       "    </tr>\n",
       "  </tbody>\n",
       "</table>\n",
       "</div>"
      ],
      "text/plain": [
       "                                     user_id         source\n",
       "count                                  13576          13576\n",
       "unique                                 13576              4\n",
       "top     a2987f04-5c30-4738-93c0-9004f98ac945  yandex_direct\n",
       "freq                                       1           4817"
      ]
     },
     "metadata": {},
     "output_type": "display_data"
    },
    {
     "name": "stdout",
     "output_type": "stream",
     "text": [
      "**************************************************\n"
     ]
    },
    {
     "data": {
      "text/plain": [
       "'Количество строк и столбцов'"
      ]
     },
     "metadata": {},
     "output_type": "display_data"
    },
    {
     "data": {
      "text/plain": [
       "(135640, 6)"
      ]
     },
     "metadata": {},
     "output_type": "display_data"
    },
    {
     "data": {
      "text/plain": [
       "(28, 3)"
      ]
     },
     "metadata": {},
     "output_type": "display_data"
    },
    {
     "data": {
      "text/plain": [
       "(13576, 2)"
      ]
     },
     "metadata": {},
     "output_type": "display_data"
    },
    {
     "name": "stdout",
     "output_type": "stream",
     "text": [
      "**************************************************\n"
     ]
    },
    {
     "data": {
      "text/plain": [
       "'Наличие дубликатов в датасетах'"
      ]
     },
     "metadata": {},
     "output_type": "display_data"
    },
    {
     "data": {
      "text/plain": [
       "1"
      ]
     },
     "metadata": {},
     "output_type": "display_data"
    },
    {
     "data": {
      "text/plain": [
       "0"
      ]
     },
     "metadata": {},
     "output_type": "display_data"
    },
    {
     "data": {
      "text/plain": [
       "0"
      ]
     },
     "metadata": {},
     "output_type": "display_data"
    },
    {
     "name": "stdout",
     "output_type": "stream",
     "text": [
      "**************************************************\n"
     ]
    },
    {
     "data": {
      "text/plain": [
       "'Наличие пропусков в датасетах'"
      ]
     },
     "metadata": {},
     "output_type": "display_data"
    },
    {
     "data": {
      "text/plain": [
       "event_datetime         0\n",
       "event                  0\n",
       "building_type       7683\n",
       "user_id                0\n",
       "project_type      133774\n",
       "day                    0\n",
       "dtype: int64"
      ]
     },
     "metadata": {},
     "output_type": "display_data"
    },
    {
     "data": {
      "text/plain": [
       "source    0\n",
       "day       0\n",
       "cost      0\n",
       "dtype: int64"
      ]
     },
     "metadata": {},
     "output_type": "display_data"
    },
    {
     "data": {
      "text/plain": [
       "user_id    0\n",
       "source     0\n",
       "dtype: int64"
      ]
     },
     "metadata": {},
     "output_type": "display_data"
    }
   ],
   "source": [
    "#Напишем функцию для первичной проверки датасетов\n",
    "def primary_processing(x, y, z):\n",
    "    display('Получение первых 5 строк датасетов')\n",
    "    display(x.head())\n",
    "    display(y.head())\n",
    "    display(z.head())\n",
    "    print('*'*50)\n",
    "    display('Статистические показатели датасетов')\n",
    "    display(x.describe())\n",
    "    display(y.describe())\n",
    "    display(z.describe())\n",
    "    print('*'*50)\n",
    "    display('Количество строк и столбцов')\n",
    "    display(x.shape)\n",
    "    display(y.shape)\n",
    "    display(z.shape)\n",
    "    print('*'*50)\n",
    "    display('Наличие дубликатов в датасетах')\n",
    "    display(x.duplicated().sum())\n",
    "    display(y.duplicated().sum())\n",
    "    display(z.duplicated().sum())\n",
    "    print('*'*50)\n",
    "    display('Наличие пропусков в датасетах')\n",
    "    display(x.isna().sum())\n",
    "    display(y.isna().sum())\n",
    "    display(z.isna().sum())\n",
    "    # преобразование названий столбцов к нижнему регистру и заполнение пробелов на нижнее подчеркивание\n",
    "    x.columns = [a.lower().replace(' ', '_') for a in x.columns]\n",
    "    y.columns = [a.lower().replace(' ', '_') for a in y.columns]\n",
    "    z.columns = [a.lower().replace(' ', '_') for a in z.columns]\n",
    "\n",
    "primary_processing(game_actions, ad_costs, user_source)"
   ]
  },
  {
   "cell_type": "code",
   "execution_count": 53,
   "metadata": {},
   "outputs": [],
   "source": [
    "#меняем тип данных в датасетах с obj на data \n",
    "game_actions['event_datetime'] = pd.to_datetime(game_actions['event_datetime'])\n",
    "ad_costs['day'] = pd.to_datetime(ad_costs['day'])\n"
   ]
  },
  {
   "cell_type": "code",
   "execution_count": 10,
   "metadata": {},
   "outputs": [
    {
     "data": {
      "text/plain": [
       "count     28.000000\n",
       "mean     271.556321\n",
       "std      286.867650\n",
       "min       23.314669\n",
       "25%       66.747365\n",
       "50%      160.056443\n",
       "75%      349.034473\n",
       "max      969.139394\n",
       "Name: cost, dtype: float64"
      ]
     },
     "execution_count": 10,
     "metadata": {},
     "output_type": "execute_result"
    }
   ],
   "source": [
    "ad_costs['cost'].describe()"
   ]
  },
  {
   "cell_type": "markdown",
   "metadata": {},
   "source": [
    "<div class=\"alert alert-info\"> <b>Вывод: Все поля датасета, изначально соответствовали нижнему регистру, и менять их не было необходимости. Так же все поля соответсвуют своим описаниям. В датасете game_actions был найден 1 дубликат, остальные не имели дубликатов. Было установлено, что датасет game_actions так же содержит большое количество пропусков в столбцах с типом проекта и типом построения. Пока не понятно с чем это может быть связано, но заполнять или же избавляться от них будет не корректно, т.к. они очень велики и исказят анализ. Были изменены типы данных в столбцах event_datetime и day, датасетов game_actions и ad_costs, с obj на datetime.</b></div>"
   ]
  },
  {
   "cell_type": "markdown",
   "metadata": {},
   "source": [
    "### Исследовательский анализ"
   ]
  },
  {
   "cell_type": "code",
   "execution_count": 11,
   "metadata": {},
   "outputs": [],
   "source": [
    "#Добавим в датасет столбец с датой события\n",
    "game_actions['day'] = game_actions['event_datetime'].dt.date.astype('datetime64[D]')"
   ]
  },
  {
   "cell_type": "code",
   "execution_count": 12,
   "metadata": {},
   "outputs": [],
   "source": [
    "#найдем время первого действия, последнего действия, количество действий, количество зданий, признак постройки проекта\n",
    "profile = game_actions.sort_values(\n",
    "    by=(['user_id', 'event_datetime'])).groupby('user_id').agg({\n",
    "        'event_datetime': ['first', 'last'],\n",
    "        'day':\n",
    "        'first',\n",
    "        'event':\n",
    "        'count',\n",
    "        'building_type':\n",
    "        'count',\n",
    "        'project_type':\n",
    "        'nunique'\n",
    "    }).reset_index()\n",
    "\n",
    "profile.columns = [\n",
    "    'user_id', 'first_event_time', 'last_event_time', 'first_day',\n",
    "    'events_count', 'buildings_count', 'project_mark'\n",
    "]"
   ]
  },
  {
   "cell_type": "code",
   "execution_count": 13,
   "metadata": {},
   "outputs": [],
   "source": [
    "#считаем время затраченое на прохождение уровня\n",
    "profile['stage_duration'] = (\n",
    "    (profile['last_event_time'] - profile['first_event_time']) /\n",
    "    np.timedelta64(1, 'D')).astype(int)"
   ]
  },
  {
   "cell_type": "code",
   "execution_count": 14,
   "metadata": {},
   "outputs": [],
   "source": [
    "#добавляем маркер о завершении раунда\n",
    "finished_users = game_actions.query(\n",
    "    'event == \"finished_stage_1\"')['user_id'].unique()\n",
    "\n",
    "\n",
    "def finish_mark(df):\n",
    "    if df['user_id'] in finished_users:\n",
    "        if df['project_mark'] == 1:\n",
    "            return 'made_project'\n",
    "        else:\n",
    "            return \"defeated_enemy\"\n",
    "    else:\n",
    "        return \"dont_finished\"\n",
    "\n",
    "\n",
    "profile['finish_mark'] = profile.apply(finish_mark, axis=1)\n",
    "\n",
    "profile = profile.drop('project_mark', axis=1)\n"
   ]
  },
  {
   "cell_type": "code",
   "execution_count": 15,
   "metadata": {
    "scrolled": true
   },
   "outputs": [
    {
     "data": {
      "text/html": [
       "<div>\n",
       "<style scoped>\n",
       "    .dataframe tbody tr th:only-of-type {\n",
       "        vertical-align: middle;\n",
       "    }\n",
       "\n",
       "    .dataframe tbody tr th {\n",
       "        vertical-align: top;\n",
       "    }\n",
       "\n",
       "    .dataframe thead th {\n",
       "        text-align: right;\n",
       "    }\n",
       "</style>\n",
       "<table border=\"1\" class=\"dataframe\">\n",
       "  <thead>\n",
       "    <tr style=\"text-align: right;\">\n",
       "      <th></th>\n",
       "      <th>user_id</th>\n",
       "      <th>first_event_time</th>\n",
       "      <th>last_event_time</th>\n",
       "      <th>first_day</th>\n",
       "      <th>events_count</th>\n",
       "      <th>buildings_count</th>\n",
       "      <th>stage_duration</th>\n",
       "      <th>finish_mark</th>\n",
       "      <th>source</th>\n",
       "      <th>cost_per_user</th>\n",
       "    </tr>\n",
       "  </thead>\n",
       "  <tbody>\n",
       "    <tr>\n",
       "      <th>0</th>\n",
       "      <td>0001f83c-c6ac-4621-b7f0-8a28b283ac30</td>\n",
       "      <td>2020-05-06 01:07:37</td>\n",
       "      <td>2020-05-20 11:26:06</td>\n",
       "      <td>2020-05-06</td>\n",
       "      <td>13</td>\n",
       "      <td>13</td>\n",
       "      <td>14</td>\n",
       "      <td>dont_finished</td>\n",
       "      <td>facebook_ads</td>\n",
       "      <td>0.754162</td>\n",
       "    </tr>\n",
       "    <tr>\n",
       "      <th>1</th>\n",
       "      <td>01303c2e-7de1-4742-8c3e-daf182b67b9f</td>\n",
       "      <td>2020-05-06 07:05:11</td>\n",
       "      <td>2020-05-08 22:30:49</td>\n",
       "      <td>2020-05-06</td>\n",
       "      <td>4</td>\n",
       "      <td>4</td>\n",
       "      <td>2</td>\n",
       "      <td>dont_finished</td>\n",
       "      <td>facebook_ads</td>\n",
       "      <td>0.754162</td>\n",
       "    </tr>\n",
       "    <tr>\n",
       "      <th>2</th>\n",
       "      <td>0136963c-c45c-4edb-92d8-205bd50a4d36</td>\n",
       "      <td>2020-05-06 14:00:20</td>\n",
       "      <td>2020-05-25 08:56:48</td>\n",
       "      <td>2020-05-06</td>\n",
       "      <td>12</td>\n",
       "      <td>10</td>\n",
       "      <td>18</td>\n",
       "      <td>made_project</td>\n",
       "      <td>facebook_ads</td>\n",
       "      <td>0.754162</td>\n",
       "    </tr>\n",
       "    <tr>\n",
       "      <th>3</th>\n",
       "      <td>018793d6-38c8-450a-bd54-8c181d920f1a</td>\n",
       "      <td>2020-05-06 07:05:52</td>\n",
       "      <td>2020-05-24 23:52:53</td>\n",
       "      <td>2020-05-06</td>\n",
       "      <td>14</td>\n",
       "      <td>12</td>\n",
       "      <td>18</td>\n",
       "      <td>made_project</td>\n",
       "      <td>facebook_ads</td>\n",
       "      <td>0.754162</td>\n",
       "    </tr>\n",
       "    <tr>\n",
       "      <th>4</th>\n",
       "      <td>01e2b256-4519-493f-b010-4a90a2755245</td>\n",
       "      <td>2020-05-06 22:16:07</td>\n",
       "      <td>2020-05-21 04:52:31</td>\n",
       "      <td>2020-05-06</td>\n",
       "      <td>9</td>\n",
       "      <td>9</td>\n",
       "      <td>14</td>\n",
       "      <td>dont_finished</td>\n",
       "      <td>facebook_ads</td>\n",
       "      <td>0.754162</td>\n",
       "    </tr>\n",
       "  </tbody>\n",
       "</table>\n",
       "</div>"
      ],
      "text/plain": [
       "                                user_id    first_event_time  \\\n",
       "0  0001f83c-c6ac-4621-b7f0-8a28b283ac30 2020-05-06 01:07:37   \n",
       "1  01303c2e-7de1-4742-8c3e-daf182b67b9f 2020-05-06 07:05:11   \n",
       "2  0136963c-c45c-4edb-92d8-205bd50a4d36 2020-05-06 14:00:20   \n",
       "3  018793d6-38c8-450a-bd54-8c181d920f1a 2020-05-06 07:05:52   \n",
       "4  01e2b256-4519-493f-b010-4a90a2755245 2020-05-06 22:16:07   \n",
       "\n",
       "      last_event_time  first_day  events_count  buildings_count  \\\n",
       "0 2020-05-20 11:26:06 2020-05-06            13               13   \n",
       "1 2020-05-08 22:30:49 2020-05-06             4                4   \n",
       "2 2020-05-25 08:56:48 2020-05-06            12               10   \n",
       "3 2020-05-24 23:52:53 2020-05-06            14               12   \n",
       "4 2020-05-21 04:52:31 2020-05-06             9                9   \n",
       "\n",
       "   stage_duration    finish_mark        source  cost_per_user  \n",
       "0              14  dont_finished  facebook_ads       0.754162  \n",
       "1               2  dont_finished  facebook_ads       0.754162  \n",
       "2              18   made_project  facebook_ads       0.754162  \n",
       "3              18   made_project  facebook_ads       0.754162  \n",
       "4              14  dont_finished  facebook_ads       0.754162  "
      ]
     },
     "execution_count": 15,
     "metadata": {},
     "output_type": "execute_result"
    }
   ],
   "source": [
    "# считаем затраты на каждого пользователя\n",
    "profile = profile.merge(user_source, on='user_id')\n",
    "\n",
    "ad_costs['day'] = ad_costs['day'] + np.timedelta64(1, 'D')\n",
    "\n",
    "users_costs = profile.groupby(['first_day', 'source']).agg({\n",
    "    'user_id': 'nunique'\n",
    "}).reset_index()\n",
    "\n",
    "users_costs = users_costs.merge(ad_costs,\n",
    "                                left_on=['source', 'first_day'],\n",
    "                                right_on=['source', 'day']).reset_index()\n",
    "\n",
    "users_costs['cost_per_user'] = users_costs['cost'] / users_costs['user_id']\n",
    "\n",
    "users_costs = users_costs[['source', 'first_day', 'cost_per_user']]\n",
    "\n",
    "profile = profile.merge(users_costs, on=['source', 'first_day'])\n",
    "\n",
    "profile.head()"
   ]
  },
  {
   "cell_type": "markdown",
   "metadata": {},
   "source": [
    "<div class=\"alert alert-info\"> <b>Собрали профили пользователей для удобного анализа. Посчитали средние затраты на 1 пользователя, добавили метки стратегий пользователей (pve,researcher,dont_finished).Количество затрачиваемого времени на прохождение уровня, дату события, и источник с которого пришёл пользователь.</b></div>"
   ]
  },
  {
   "cell_type": "markdown",
   "metadata": {},
   "source": [
    "#### Проверить количество рекламных источников и среднюю стоимость кликов"
   ]
  },
  {
   "cell_type": "code",
   "execution_count": 16,
   "metadata": {},
   "outputs": [
    {
     "data": {
      "text/plain": [
       "source\n",
       "facebook_ads               1\n",
       "instagram_new_adverts      1\n",
       "yandex_direct              1\n",
       "youtube_channel_reklama    1\n",
       "Name: source, dtype: int64"
      ]
     },
     "execution_count": 16,
     "metadata": {},
     "output_type": "execute_result"
    }
   ],
   "source": [
    "#Смотрим на количество рекламных источников\n",
    "number_of_sources = ad_costs.groupby('source')['source'].nunique()\n",
    "number_of_sources"
   ]
  },
  {
   "cell_type": "markdown",
   "metadata": {},
   "source": [
    "<div class=\"alert alert-info\"> <b>В датасете всего 4 источника. Посмотрим на среднюю стоимость всех кликов по источникам, узнаем сколько потратили денежных средств и куда.</b></div>"
   ]
  },
  {
   "cell_type": "code",
   "execution_count": 17,
   "metadata": {},
   "outputs": [
    {
     "data": {
      "text/html": [
       "<div>\n",
       "<style scoped>\n",
       "    .dataframe tbody tr th:only-of-type {\n",
       "        vertical-align: middle;\n",
       "    }\n",
       "\n",
       "    .dataframe tbody tr th {\n",
       "        vertical-align: top;\n",
       "    }\n",
       "\n",
       "    .dataframe thead th {\n",
       "        text-align: right;\n",
       "    }\n",
       "</style>\n",
       "<table border=\"1\" class=\"dataframe\">\n",
       "  <thead>\n",
       "    <tr style=\"text-align: right;\">\n",
       "      <th></th>\n",
       "      <th>source</th>\n",
       "      <th>cost</th>\n",
       "    </tr>\n",
       "  </thead>\n",
       "  <tbody>\n",
       "    <tr>\n",
       "      <th>0</th>\n",
       "      <td>yandex_direct</td>\n",
       "      <td>319.02</td>\n",
       "    </tr>\n",
       "    <tr>\n",
       "      <th>1</th>\n",
       "      <td>instagram_new_adverts</td>\n",
       "      <td>308.78</td>\n",
       "    </tr>\n",
       "    <tr>\n",
       "      <th>2</th>\n",
       "      <td>facebook_ads</td>\n",
       "      <td>305.84</td>\n",
       "    </tr>\n",
       "    <tr>\n",
       "      <th>3</th>\n",
       "      <td>youtube_channel_reklama</td>\n",
       "      <td>152.59</td>\n",
       "    </tr>\n",
       "  </tbody>\n",
       "</table>\n",
       "</div>"
      ],
      "text/plain": [
       "                    source    cost\n",
       "0            yandex_direct  319.02\n",
       "1    instagram_new_adverts  308.78\n",
       "2             facebook_ads  305.84\n",
       "3  youtube_channel_reklama  152.59"
      ]
     },
     "execution_count": 17,
     "metadata": {},
     "output_type": "execute_result"
    }
   ],
   "source": [
    "#Смотрим на медиану стоимости всех кликов по источникам привлечения\n",
    "avg_costs = round((ad_costs.pivot_table(index='source',values='cost',aggfunc='mean')\n",
    "             .sort_values(by='cost',ascending=False)\n",
    "             .reset_index()),2)\n",
    "avg_costs"
   ]
  },
  {
   "cell_type": "markdown",
   "metadata": {},
   "source": [
    "<div class=\"alert alert-info\"> <b>Самым дорогим источником оказался yandex_direct со средними затратами почти в 320 долларов и самым дешёвым youtube_channel_reklama почти в 153 доллара. Теперь нужно посмотреть на среднюю стоимость 1 клика на 1 пользователя по источникам, так будет понятнее пользователи какого источника нам дороже обходятся.</b></div>"
   ]
  },
  {
   "cell_type": "code",
   "execution_count": 18,
   "metadata": {},
   "outputs": [
    {
     "data": {
      "text/html": [
       "<div>\n",
       "<style scoped>\n",
       "    .dataframe tbody tr th:only-of-type {\n",
       "        vertical-align: middle;\n",
       "    }\n",
       "\n",
       "    .dataframe tbody tr th {\n",
       "        vertical-align: top;\n",
       "    }\n",
       "\n",
       "    .dataframe thead th {\n",
       "        text-align: right;\n",
       "    }\n",
       "</style>\n",
       "<table border=\"1\" class=\"dataframe\">\n",
       "  <thead>\n",
       "    <tr style=\"text-align: right;\">\n",
       "      <th></th>\n",
       "      <th>source</th>\n",
       "      <th>cost_per_user</th>\n",
       "    </tr>\n",
       "  </thead>\n",
       "  <tbody>\n",
       "    <tr>\n",
       "      <th>0</th>\n",
       "      <td>facebook_ads</td>\n",
       "      <td>0.79</td>\n",
       "    </tr>\n",
       "    <tr>\n",
       "      <th>1</th>\n",
       "      <td>instagram_new_adverts</td>\n",
       "      <td>0.65</td>\n",
       "    </tr>\n",
       "    <tr>\n",
       "      <th>2</th>\n",
       "      <td>yandex_direct</td>\n",
       "      <td>0.46</td>\n",
       "    </tr>\n",
       "    <tr>\n",
       "      <th>3</th>\n",
       "      <td>youtube_channel_reklama</td>\n",
       "      <td>0.40</td>\n",
       "    </tr>\n",
       "  </tbody>\n",
       "</table>\n",
       "</div>"
      ],
      "text/plain": [
       "                    source  cost_per_user\n",
       "0             facebook_ads           0.79\n",
       "1    instagram_new_adverts           0.65\n",
       "2            yandex_direct           0.46\n",
       "3  youtube_channel_reklama           0.40"
      ]
     },
     "execution_count": 18,
     "metadata": {},
     "output_type": "execute_result"
    }
   ],
   "source": [
    "#Смотрим на среднюю стоимость клика на 1 пользователя по источникам \n",
    "costs_per_user = round((profile.pivot_table(index='source',values='cost_per_user',aggfunc='mean')\n",
    "             .sort_values(by='cost_per_user',ascending=False)\n",
    "             .reset_index()),2)\n",
    "costs_per_user"
   ]
  },
  {
   "cell_type": "markdown",
   "metadata": {},
   "source": [
    "<div class=\"alert alert-info\"> <b>Как странно, если на все клики мы тратили больше по источнику yandex_direct, то в разрезе на 1 пользователя, картина совершенно иная. Самый дорогой клик нам обходится в 0.79 доллара и принадлежит источнику facebook_ads, yandex_direct теперь расположился лишь на третьеё позиции со скромными 0.46 доллара. Но есть один источник который себе не изменяет это youtube_channel_reklama, он по прежнему замыкает таблицу, с нименьшей стоимостью клика в 0.40 доллара.</b></div>"
   ]
  },
  {
   "cell_type": "markdown",
   "metadata": {},
   "source": [
    "##### Визуализация данных"
   ]
  },
  {
   "cell_type": "code",
   "execution_count": 58,
   "metadata": {},
   "outputs": [
    {
     "data": {
      "image/png": "[encoded data removed]",
      "text/plain": [
       "<Figure size 936x432 with 1 Axes>"
      ]
     },
     "metadata": {},
     "output_type": "display_data"
    }
   ],
   "source": [
    "#Визуализируем данные из сводной таблицы\n",
    "plt.figure(figsize=(13,6))\n",
    "sns.barplot(x=avg_costs['source'],y=avg_costs['cost'],color='yellow')\n",
    "plt.title(\"Медианная стоимость всех кликов по источникам\")\n",
    "plt.xlabel(\"Источник\")\n",
    "plt.ylabel(\"Стоимость кликов\")\n",
    "plt.show()"
   ]
  },
  {
   "cell_type": "markdown",
   "metadata": {},
   "source": [
    "<div class=\"alert alert-info\"> <b>Наглядно можно увидеть разницу в средней стоимости всех кликов по источникам. Как ранее уже говорилось yandex_direct занимает лидирующую позицию по затратам, и youtube самую низкую.</b></div>"
   ]
  },
  {
   "cell_type": "code",
   "execution_count": 59,
   "metadata": {},
   "outputs": [
    {
     "data": {
      "image/png": "[encoded data removed]",
      "text/plain": [
       "<Figure size 936x432 with 1 Axes>"
      ]
     },
     "metadata": {},
     "output_type": "display_data"
    }
   ],
   "source": [
    "#Визуализируем данные из сводной таблицы\n",
    "plt.figure(figsize=(13,6))\n",
    "sns.barplot(x=costs_per_user['source'],y=costs_per_user['cost_per_user'],color='yellow')\n",
    "plt.title(\"Медианная стоимость одного клика по источникам\")\n",
    "plt.xlabel(\"Источник\")\n",
    "plt.ylabel(\"Стоимость кликов\")\n",
    "plt.show()"
   ]
  },
  {
   "cell_type": "markdown",
   "metadata": {},
   "source": [
    "<div class=\"alert alert-info\"> <b>График говорит нам о средней стоимости за 1 клик на 1 пользователя по источникам. Самый дорогой facebook, самый дешёвый youtube.</b></div>"
   ]
  },
  {
   "cell_type": "markdown",
   "metadata": {},
   "source": [
    "#### Оценить среднее число построек на пользователя по стратегиям, каналам"
   ]
  },
  {
   "cell_type": "code",
   "execution_count": 21,
   "metadata": {},
   "outputs": [
    {
     "data": {
      "text/plain": [
       "3951"
      ]
     },
     "execution_count": 21,
     "metadata": {},
     "output_type": "execute_result"
    }
   ],
   "source": [
    "#Посмотрим на количество пользователей со стратегией PVE\n",
    "quantity_bild_pve = (profile.query('finish_mark ==\"defeated_enemy\"'))\n",
    "quantity_bild_pve['user_id'].count()"
   ]
  },
  {
   "cell_type": "markdown",
   "metadata": {},
   "source": [
    "<div class=\"alert alert-info\"> <b>Всего имеется 3951 пользователь со стратегией PVE. Посмотрим какое количество построек в среднем возводят такие пользователи. И посмотрим на то с какого источника таких пользователей больше приходит. </b></div>"
   ]
  },
  {
   "cell_type": "code",
   "execution_count": 22,
   "metadata": {},
   "outputs": [
    {
     "data": {
      "text/html": [
       "<div>\n",
       "<style scoped>\n",
       "    .dataframe tbody tr th:only-of-type {\n",
       "        vertical-align: middle;\n",
       "    }\n",
       "\n",
       "    .dataframe tbody tr th {\n",
       "        vertical-align: top;\n",
       "    }\n",
       "\n",
       "    .dataframe thead th {\n",
       "        text-align: right;\n",
       "    }\n",
       "</style>\n",
       "<table border=\"1\" class=\"dataframe\">\n",
       "  <thead>\n",
       "    <tr style=\"text-align: right;\">\n",
       "      <th></th>\n",
       "      <th>finish_mark</th>\n",
       "      <th>buildings_count</th>\n",
       "    </tr>\n",
       "  </thead>\n",
       "  <tbody>\n",
       "    <tr>\n",
       "      <th>0</th>\n",
       "      <td>defeated_enemy</td>\n",
       "      <td>10</td>\n",
       "    </tr>\n",
       "  </tbody>\n",
       "</table>\n",
       "</div>"
      ],
      "text/plain": [
       "      finish_mark  buildings_count\n",
       "0  defeated_enemy               10"
      ]
     },
     "execution_count": 22,
     "metadata": {},
     "output_type": "execute_result"
    }
   ],
   "source": [
    "#Найдём сначала среднее число построек на пользователя со стратегией победы над персонажем\n",
    "quantity_bild_pve = (profile.query('finish_mark ==\"defeated_enemy\"')\n",
    "            .pivot_table(index='finish_mark',values='buildings_count',aggfunc='median')\n",
    "            .sort_values(by='buildings_count',ascending=False)\n",
    "            .reset_index())\n",
    "quantity_bild_pve"
   ]
  },
  {
   "cell_type": "markdown",
   "metadata": {},
   "source": [
    "<div class=\"alert alert-info\"> <b>В среднем пользователи со стратегией PVE, возводят по 10 строений. Пока не понятно плохо эти или хорошо, т.к. основная стратегия этих пользователей всё таки победить врага, а не завершить проект. Нужно посмотреть на пользователей которые придерживаются стратегии исследования, они должны оприоре строить больше.</b></div>"
   ]
  },
  {
   "cell_type": "code",
   "execution_count": 23,
   "metadata": {},
   "outputs": [
    {
     "data": {
      "text/html": [
       "<div>\n",
       "<style scoped>\n",
       "    .dataframe tbody tr th:only-of-type {\n",
       "        vertical-align: middle;\n",
       "    }\n",
       "\n",
       "    .dataframe tbody tr th {\n",
       "        vertical-align: top;\n",
       "    }\n",
       "\n",
       "    .dataframe thead th {\n",
       "        text-align: right;\n",
       "    }\n",
       "</style>\n",
       "<table border=\"1\" class=\"dataframe\">\n",
       "  <thead>\n",
       "    <tr style=\"text-align: right;\">\n",
       "      <th></th>\n",
       "      <th>source</th>\n",
       "      <th>user_id</th>\n",
       "    </tr>\n",
       "  </thead>\n",
       "  <tbody>\n",
       "    <tr>\n",
       "      <th>0</th>\n",
       "      <td>yandex_direct</td>\n",
       "      <td>1422</td>\n",
       "    </tr>\n",
       "    <tr>\n",
       "      <th>1</th>\n",
       "      <td>instagram_new_adverts</td>\n",
       "      <td>990</td>\n",
       "    </tr>\n",
       "    <tr>\n",
       "      <th>2</th>\n",
       "      <td>youtube_channel_reklama</td>\n",
       "      <td>780</td>\n",
       "    </tr>\n",
       "    <tr>\n",
       "      <th>3</th>\n",
       "      <td>facebook_ads</td>\n",
       "      <td>759</td>\n",
       "    </tr>\n",
       "  </tbody>\n",
       "</table>\n",
       "</div>"
      ],
      "text/plain": [
       "                    source  user_id\n",
       "0            yandex_direct     1422\n",
       "1    instagram_new_adverts      990\n",
       "2  youtube_channel_reklama      780\n",
       "3             facebook_ads      759"
      ]
     },
     "execution_count": 23,
     "metadata": {},
     "output_type": "execute_result"
    }
   ],
   "source": [
    "#посмотреть на то с какого канала приходит больше пользователей со стратегией pve.\n",
    "pve_users_by_source = (profile.query('finish_mark ==\"defeated_enemy\"')\n",
    "                       .pivot_table(index='source',values='user_id',aggfunc='count')\n",
    "                       .sort_values(by='user_id',ascending=False)\n",
    "                       .reset_index())\n",
    "\n",
    "pve_users_by_source"
   ]
  },
  {
   "cell_type": "markdown",
   "metadata": {},
   "source": [
    "<div class=\"alert alert-info\"> <b>Пользователи со стратегией PVE, отдают \"предпочтение\" yandex_direct, с этого канала в игру поступило 1422 человека. Самым маленьким количеством таких пользователей обладает канал facebook, у него всего 759 что почти на 50% меньше чем у лидера данного \"топа\". </b></div>"
   ]
  },
  {
   "cell_type": "code",
   "execution_count": 24,
   "metadata": {},
   "outputs": [
    {
     "data": {
      "image/png": "[encoded data removed]",
      "text/plain": [
       "<Figure size 936x432 with 1 Axes>"
      ]
     },
     "metadata": {
      "needs_background": "light"
     },
     "output_type": "display_data"
    }
   ],
   "source": [
    "#Визуализируем данные из сводной таблицы\n",
    "plt.figure(figsize=(13,6))\n",
    "sns.barplot(x=pve_users_by_source['source'],y=pve_users_by_source['user_id'])\n",
    "plt.title(\"График PVE игроков по источникам\")\n",
    "plt.xlabel(\"Источник\")\n",
    "plt.ylabel(\"Кол-во игроков\")\n",
    "plt.show()"
   ]
  },
  {
   "cell_type": "markdown",
   "metadata": {},
   "source": [
    "<div class=\"alert alert-info\"> <b>Наглядно можно видеть разницу в количестве пользователей между yandex_direct и facebook.</b></div>"
   ]
  },
  {
   "cell_type": "code",
   "execution_count": 25,
   "metadata": {},
   "outputs": [
    {
     "data": {
      "text/plain": [
       "1866"
      ]
     },
     "execution_count": 25,
     "metadata": {},
     "output_type": "execute_result"
    }
   ],
   "source": [
    "#Посмотрим на количество исследователей \n",
    "quantity_bild_researchers = profile.query('finish_mark == \"made_project\"')\n",
    "quantity_bild_researchers['user_id'].count()"
   ]
  },
  {
   "cell_type": "markdown",
   "metadata": {},
   "source": [
    "<div class=\"alert alert-info\"> <b>Всего 1866 пользователей со стратегией исследователей, что почти в 2,1 раза меньше чем PVE игроков. Посмотрим на поведение этих пользователей, среднее количество построек и с какого источника таких пользователей приходит больше всего. </b></div>"
   ]
  },
  {
   "cell_type": "code",
   "execution_count": 26,
   "metadata": {},
   "outputs": [
    {
     "data": {
      "text/html": [
       "<div>\n",
       "<style scoped>\n",
       "    .dataframe tbody tr th:only-of-type {\n",
       "        vertical-align: middle;\n",
       "    }\n",
       "\n",
       "    .dataframe tbody tr th {\n",
       "        vertical-align: top;\n",
       "    }\n",
       "\n",
       "    .dataframe thead th {\n",
       "        text-align: right;\n",
       "    }\n",
       "</style>\n",
       "<table border=\"1\" class=\"dataframe\">\n",
       "  <thead>\n",
       "    <tr style=\"text-align: right;\">\n",
       "      <th></th>\n",
       "      <th>finish_mark</th>\n",
       "      <th>buildings_count</th>\n",
       "    </tr>\n",
       "  </thead>\n",
       "  <tbody>\n",
       "    <tr>\n",
       "      <th>0</th>\n",
       "      <td>made_project</td>\n",
       "      <td>12</td>\n",
       "    </tr>\n",
       "  </tbody>\n",
       "</table>\n",
       "</div>"
      ],
      "text/plain": [
       "    finish_mark  buildings_count\n",
       "0  made_project               12"
      ]
     },
     "execution_count": 26,
     "metadata": {},
     "output_type": "execute_result"
    }
   ],
   "source": [
    "#Смотрим на среднее количество построек у исследователей\n",
    "quantity_bild_researchers = (profile.query('finish_mark == \"made_project\"')\n",
    "                             .pivot_table(index='finish_mark',values='buildings_count',aggfunc='median')\n",
    "                             .reset_index())\n",
    "quantity_bild_researchers"
   ]
  },
  {
   "cell_type": "markdown",
   "metadata": {},
   "source": [
    "<div class=\"alert alert-info\"> <b>Как оказалось исследователи и вправду строят чуть больше в реднем чем пользователи PVE стратегии, если у них было значение в 10 построек, то в данном же случае мы можем наблюдать прирост в среднем количестве построек на 2, и получам среднее количество в 12 сооружений в среднем на пользователя. </b></div>"
   ]
  },
  {
   "cell_type": "code",
   "execution_count": 27,
   "metadata": {},
   "outputs": [
    {
     "data": {
      "text/html": [
       "<div>\n",
       "<style scoped>\n",
       "    .dataframe tbody tr th:only-of-type {\n",
       "        vertical-align: middle;\n",
       "    }\n",
       "\n",
       "    .dataframe tbody tr th {\n",
       "        vertical-align: top;\n",
       "    }\n",
       "\n",
       "    .dataframe thead th {\n",
       "        text-align: right;\n",
       "    }\n",
       "</style>\n",
       "<table border=\"1\" class=\"dataframe\">\n",
       "  <thead>\n",
       "    <tr style=\"text-align: right;\">\n",
       "      <th></th>\n",
       "      <th>source</th>\n",
       "      <th>user_id</th>\n",
       "    </tr>\n",
       "  </thead>\n",
       "  <tbody>\n",
       "    <tr>\n",
       "      <th>0</th>\n",
       "      <td>yandex_direct</td>\n",
       "      <td>620</td>\n",
       "    </tr>\n",
       "    <tr>\n",
       "      <th>1</th>\n",
       "      <td>instagram_new_adverts</td>\n",
       "      <td>476</td>\n",
       "    </tr>\n",
       "    <tr>\n",
       "      <th>2</th>\n",
       "      <td>facebook_ads</td>\n",
       "      <td>391</td>\n",
       "    </tr>\n",
       "    <tr>\n",
       "      <th>3</th>\n",
       "      <td>youtube_channel_reklama</td>\n",
       "      <td>379</td>\n",
       "    </tr>\n",
       "  </tbody>\n",
       "</table>\n",
       "</div>"
      ],
      "text/plain": [
       "                    source  user_id\n",
       "0            yandex_direct      620\n",
       "1    instagram_new_adverts      476\n",
       "2             facebook_ads      391\n",
       "3  youtube_channel_reklama      379"
      ]
     },
     "execution_count": 27,
     "metadata": {},
     "output_type": "execute_result"
    }
   ],
   "source": [
    "#посмотреть на то с какого канала приходит больше исследователей.\n",
    "researcher_users_by_source = (profile.query('finish_mark ==\"made_project\"')\n",
    "                       .pivot_table(index='source',values='user_id',aggfunc='count')\n",
    "                       .sort_values(by='user_id',ascending=False)\n",
    "                       .reset_index())\n",
    "\n",
    "researcher_users_by_source"
   ]
  },
  {
   "cell_type": "markdown",
   "metadata": {},
   "source": [
    "<div class=\"alert alert-info\"> <b>В случае с исследователями лидером так же является yandex_direct со 620 пользователями, и аутсайдером youtube с 379 пользователями. Но в отличае от PVE игроков, падение по каналам более или менее плавное.</b></div>"
   ]
  },
  {
   "cell_type": "code",
   "execution_count": 28,
   "metadata": {},
   "outputs": [
    {
     "data": {
      "image/png": "[encoded data removed]",
      "text/plain": [
       "<Figure size 936x432 with 1 Axes>"
      ]
     },
     "metadata": {
      "needs_background": "light"
     },
     "output_type": "display_data"
    }
   ],
   "source": [
    "#Визуализируем данные из сводной таблицы\n",
    "plt.figure(figsize=(13,6))\n",
    "sns.barplot(x=researcher_users_by_source['source'],y=researcher_users_by_source['user_id'])\n",
    "plt.title(\"График количества 'Исследователей' по источникам\")\n",
    "plt.xlabel(\"Источник\")\n",
    "plt.ylabel(\"Кол-во игроков\")\n",
    "plt.show()"
   ]
  },
  {
   "cell_type": "markdown",
   "metadata": {},
   "source": [
    "<div class=\"alert alert-info\"> <b>Как и в случае с PVE пользователями лидером остаётся yandex_direct - 620 пользователей. Что можно наблюдать на графике. Теперь остались только те кто не завершил уровень. Посмотрим общее количество таких пользователей и среднее количество построек.</b></div>"
   ]
  },
  {
   "cell_type": "code",
   "execution_count": 29,
   "metadata": {},
   "outputs": [
    {
     "data": {
      "text/plain": [
       "7759"
      ]
     },
     "execution_count": 29,
     "metadata": {},
     "output_type": "execute_result"
    }
   ],
   "source": [
    "#Посмотрим на количество пользователей не завершивших уровень \n",
    "number_of_buildings_dont_finished = (profile.query('finish_mark ==\"dont_finished\"'))\n",
    "number_of_buildings_dont_finished['user_id'].count()"
   ]
  },
  {
   "cell_type": "markdown",
   "metadata": {},
   "source": [
    "<div class=\"alert alert-info\"> <b>Пользователей не завершивших уровень оказалось практически на 40% больше чем исследователей и PVE игроков. Посмотрим чем они вообще занимаются, сколько строят, с какого источника приходят.</b></div>"
   ]
  },
  {
   "cell_type": "code",
   "execution_count": 30,
   "metadata": {},
   "outputs": [
    {
     "data": {
      "text/html": [
       "<div>\n",
       "<style scoped>\n",
       "    .dataframe tbody tr th:only-of-type {\n",
       "        vertical-align: middle;\n",
       "    }\n",
       "\n",
       "    .dataframe tbody tr th {\n",
       "        vertical-align: top;\n",
       "    }\n",
       "\n",
       "    .dataframe thead th {\n",
       "        text-align: right;\n",
       "    }\n",
       "</style>\n",
       "<table border=\"1\" class=\"dataframe\">\n",
       "  <thead>\n",
       "    <tr style=\"text-align: right;\">\n",
       "      <th></th>\n",
       "      <th>finish_mark</th>\n",
       "      <th>buildings_count</th>\n",
       "    </tr>\n",
       "  </thead>\n",
       "  <tbody>\n",
       "    <tr>\n",
       "      <th>0</th>\n",
       "      <td>dont_finished</td>\n",
       "      <td>8</td>\n",
       "    </tr>\n",
       "  </tbody>\n",
       "</table>\n",
       "</div>"
      ],
      "text/plain": [
       "     finish_mark  buildings_count\n",
       "0  dont_finished                8"
      ]
     },
     "execution_count": 30,
     "metadata": {},
     "output_type": "execute_result"
    }
   ],
   "source": [
    "#Смотрим на среднее количество построек у пользователей не закончивших уровень\n",
    "number_of_buildings_dont_finished = (profile.query('finish_mark == \"dont_finished\"')\n",
    "                             .pivot_table(index='finish_mark',values='buildings_count',aggfunc='median')\n",
    "                             .reset_index())\n",
    "number_of_buildings_dont_finished"
   ]
  },
  {
   "cell_type": "markdown",
   "metadata": {},
   "source": [
    "<div class=\"alert alert-info\"> <b>Как и следовало ожидать \"тунеядцы\" не завершившие уровень строят в среднем по 8 сооружений. Посмотрим теперь откуда они к нам приходят.</b></div>"
   ]
  },
  {
   "cell_type": "code",
   "execution_count": 31,
   "metadata": {},
   "outputs": [
    {
     "data": {
      "text/html": [
       "<div>\n",
       "<style scoped>\n",
       "    .dataframe tbody tr th:only-of-type {\n",
       "        vertical-align: middle;\n",
       "    }\n",
       "\n",
       "    .dataframe tbody tr th {\n",
       "        vertical-align: top;\n",
       "    }\n",
       "\n",
       "    .dataframe thead th {\n",
       "        text-align: right;\n",
       "    }\n",
       "</style>\n",
       "<table border=\"1\" class=\"dataframe\">\n",
       "  <thead>\n",
       "    <tr style=\"text-align: right;\">\n",
       "      <th></th>\n",
       "      <th>source</th>\n",
       "      <th>user_id</th>\n",
       "    </tr>\n",
       "  </thead>\n",
       "  <tbody>\n",
       "    <tr>\n",
       "      <th>0</th>\n",
       "      <td>yandex_direct</td>\n",
       "      <td>2775</td>\n",
       "    </tr>\n",
       "    <tr>\n",
       "      <th>1</th>\n",
       "      <td>instagram_new_adverts</td>\n",
       "      <td>1881</td>\n",
       "    </tr>\n",
       "    <tr>\n",
       "      <th>2</th>\n",
       "      <td>facebook_ads</td>\n",
       "      <td>1576</td>\n",
       "    </tr>\n",
       "    <tr>\n",
       "      <th>3</th>\n",
       "      <td>youtube_channel_reklama</td>\n",
       "      <td>1527</td>\n",
       "    </tr>\n",
       "  </tbody>\n",
       "</table>\n",
       "</div>"
      ],
      "text/plain": [
       "                    source  user_id\n",
       "0            yandex_direct     2775\n",
       "1    instagram_new_adverts     1881\n",
       "2             facebook_ads     1576\n",
       "3  youtube_channel_reklama     1527"
      ]
     },
     "execution_count": 31,
     "metadata": {},
     "output_type": "execute_result"
    }
   ],
   "source": [
    "#посмотреть на то с какого канала приходит больше пользователей с незавершённым уровнем.\n",
    "dont_finished_users_by_source = (profile.query('finish_mark ==\"dont_finished\"')\n",
    "                       .pivot_table(index='source',values='user_id',aggfunc='count')\n",
    "                       .sort_values(by='user_id',ascending=False)\n",
    "                       .reset_index())\n",
    "\n",
    "dont_finished_users_by_source"
   ]
  },
  {
   "cell_type": "code",
   "execution_count": 60,
   "metadata": {},
   "outputs": [
    {
     "data": {
      "image/png": "[encoded data removed]",
      "text/plain": [
       "<Figure size 936x432 with 1 Axes>"
      ]
     },
     "metadata": {},
     "output_type": "display_data"
    }
   ],
   "source": [
    "#Визуализируем данные из сводной таблицы\n",
    "plt.figure(figsize=(13,6))\n",
    "sns.barplot(x=dont_finished_users_by_source['source'],y=dont_finished_users_by_source['user_id'],color='yellow')\n",
    "plt.title(\"График количества 'Исследователей' по источникам\")\n",
    "plt.xlabel(\"Источник\")\n",
    "plt.ylabel(\"Кол-во игроков\")\n",
    "plt.show()"
   ]
  },
  {
   "cell_type": "markdown",
   "metadata": {},
   "source": [
    "<div class=\"alert alert-info\"> <b>Основная масса таких пользователей приходит из yandex_direct 2775 пользователей, самым минимальным показателем обладает youtube 1527 пользователей.</b></div>"
   ]
  },
  {
   "cell_type": "code",
   "execution_count": 33,
   "metadata": {},
   "outputs": [
    {
     "data": {
      "text/html": [
       "<div>\n",
       "<style scoped>\n",
       "    .dataframe tbody tr th:only-of-type {\n",
       "        vertical-align: middle;\n",
       "    }\n",
       "\n",
       "    .dataframe tbody tr th {\n",
       "        vertical-align: top;\n",
       "    }\n",
       "\n",
       "    .dataframe thead th {\n",
       "        text-align: right;\n",
       "    }\n",
       "</style>\n",
       "<table border=\"1\" class=\"dataframe\">\n",
       "  <thead>\n",
       "    <tr style=\"text-align: right;\">\n",
       "      <th>building_type</th>\n",
       "      <th>user_id</th>\n",
       "      <th>assembly_shop</th>\n",
       "      <th>research_center</th>\n",
       "      <th>spaceport</th>\n",
       "    </tr>\n",
       "  </thead>\n",
       "  <tbody>\n",
       "    <tr>\n",
       "      <th>0</th>\n",
       "      <td>ffff69cc-fec1-4fd3-9f98-93be1112a6b8</td>\n",
       "      <td>3.0</td>\n",
       "      <td>3.0</td>\n",
       "      <td>6.0</td>\n",
       "    </tr>\n",
       "    <tr>\n",
       "      <th>1</th>\n",
       "      <td>ffff194a-56b7-4c12-860d-3485242ae7f5</td>\n",
       "      <td>6.0</td>\n",
       "      <td>NaN</td>\n",
       "      <td>1.0</td>\n",
       "    </tr>\n",
       "    <tr>\n",
       "      <th>2</th>\n",
       "      <td>fffb626c-5ab6-47c9-8113-2062a2f18494</td>\n",
       "      <td>4.0</td>\n",
       "      <td>2.0</td>\n",
       "      <td>3.0</td>\n",
       "    </tr>\n",
       "    <tr>\n",
       "      <th>3</th>\n",
       "      <td>fffab3da-da0e-4e30-ae62-10d0a2e24a4e</td>\n",
       "      <td>5.0</td>\n",
       "      <td>3.0</td>\n",
       "      <td>8.0</td>\n",
       "    </tr>\n",
       "    <tr>\n",
       "      <th>4</th>\n",
       "      <td>ffef4fed-164c-40e1-bde1-3980f76d0fb5</td>\n",
       "      <td>7.0</td>\n",
       "      <td>1.0</td>\n",
       "      <td>1.0</td>\n",
       "    </tr>\n",
       "    <tr>\n",
       "      <th>...</th>\n",
       "      <td>...</td>\n",
       "      <td>...</td>\n",
       "      <td>...</td>\n",
       "      <td>...</td>\n",
       "    </tr>\n",
       "    <tr>\n",
       "      <th>13571</th>\n",
       "      <td>002f508f-67b6-479f-814b-b05f00d4e995</td>\n",
       "      <td>3.0</td>\n",
       "      <td>1.0</td>\n",
       "      <td>8.0</td>\n",
       "    </tr>\n",
       "    <tr>\n",
       "      <th>13572</th>\n",
       "      <td>001d39dc-366c-4021-9604-6a3b9ff01e25</td>\n",
       "      <td>4.0</td>\n",
       "      <td>NaN</td>\n",
       "      <td>4.0</td>\n",
       "    </tr>\n",
       "    <tr>\n",
       "      <th>13573</th>\n",
       "      <td>001aaea6-3d14-43f1-8ca8-7f48820f17aa</td>\n",
       "      <td>2.0</td>\n",
       "      <td>NaN</td>\n",
       "      <td>2.0</td>\n",
       "    </tr>\n",
       "    <tr>\n",
       "      <th>13574</th>\n",
       "      <td>00151b4f-ba38-44a8-a650-d7cf130a0105</td>\n",
       "      <td>4.0</td>\n",
       "      <td>NaN</td>\n",
       "      <td>5.0</td>\n",
       "    </tr>\n",
       "    <tr>\n",
       "      <th>13575</th>\n",
       "      <td>0001f83c-c6ac-4621-b7f0-8a28b283ac30</td>\n",
       "      <td>6.0</td>\n",
       "      <td>1.0</td>\n",
       "      <td>6.0</td>\n",
       "    </tr>\n",
       "  </tbody>\n",
       "</table>\n",
       "<p>13576 rows × 4 columns</p>\n",
       "</div>"
      ],
      "text/plain": [
       "building_type                               user_id  assembly_shop  \\\n",
       "0              ffff69cc-fec1-4fd3-9f98-93be1112a6b8            3.0   \n",
       "1              ffff194a-56b7-4c12-860d-3485242ae7f5            6.0   \n",
       "2              fffb626c-5ab6-47c9-8113-2062a2f18494            4.0   \n",
       "3              fffab3da-da0e-4e30-ae62-10d0a2e24a4e            5.0   \n",
       "4              ffef4fed-164c-40e1-bde1-3980f76d0fb5            7.0   \n",
       "...                                             ...            ...   \n",
       "13571          002f508f-67b6-479f-814b-b05f00d4e995            3.0   \n",
       "13572          001d39dc-366c-4021-9604-6a3b9ff01e25            4.0   \n",
       "13573          001aaea6-3d14-43f1-8ca8-7f48820f17aa            2.0   \n",
       "13574          00151b4f-ba38-44a8-a650-d7cf130a0105            4.0   \n",
       "13575          0001f83c-c6ac-4621-b7f0-8a28b283ac30            6.0   \n",
       "\n",
       "building_type  research_center  spaceport  \n",
       "0                          3.0        6.0  \n",
       "1                          NaN        1.0  \n",
       "2                          2.0        3.0  \n",
       "3                          3.0        8.0  \n",
       "4                          1.0        1.0  \n",
       "...                        ...        ...  \n",
       "13571                      1.0        8.0  \n",
       "13572                      NaN        4.0  \n",
       "13573                      NaN        2.0  \n",
       "13574                      NaN        5.0  \n",
       "13575                      1.0        6.0  \n",
       "\n",
       "[13576 rows x 4 columns]"
      ]
     },
     "execution_count": 33,
     "metadata": {},
     "output_type": "execute_result"
    }
   ],
   "source": [
    "#Смотрим на количество построек по их категориям \n",
    "building = (game_actions.pivot_table(index='user_id',columns='building_type',values='event',aggfunc='count')\n",
    "           .sort_values(by='user_id',ascending=False)\n",
    "           .reset_index())\n",
    "building"
   ]
  },
  {
   "cell_type": "markdown",
   "metadata": {},
   "source": [
    "<div class=\"alert alert-info\"> <b>Мы это делаем для того что бы в дальнейшем посмотреть на то как распределяются разные типы строений на пользователей с разными стратегиями.</b></div>"
   ]
  },
  {
   "cell_type": "code",
   "execution_count": 34,
   "metadata": {},
   "outputs": [
    {
     "data": {
      "text/html": [
       "<div>\n",
       "<style scoped>\n",
       "    .dataframe tbody tr th:only-of-type {\n",
       "        vertical-align: middle;\n",
       "    }\n",
       "\n",
       "    .dataframe tbody tr th {\n",
       "        vertical-align: top;\n",
       "    }\n",
       "\n",
       "    .dataframe thead th {\n",
       "        text-align: right;\n",
       "    }\n",
       "</style>\n",
       "<table border=\"1\" class=\"dataframe\">\n",
       "  <thead>\n",
       "    <tr style=\"text-align: right;\">\n",
       "      <th></th>\n",
       "      <th>finish_mark</th>\n",
       "      <th>assembly_shop</th>\n",
       "      <th>research_center</th>\n",
       "      <th>spaceport</th>\n",
       "    </tr>\n",
       "  </thead>\n",
       "  <tbody>\n",
       "    <tr>\n",
       "      <th>0</th>\n",
       "      <td>made_project</td>\n",
       "      <td>9116.0</td>\n",
       "      <td>3697.0</td>\n",
       "      <td>10788.0</td>\n",
       "    </tr>\n",
       "    <tr>\n",
       "      <th>1</th>\n",
       "      <td>defeated_enemy</td>\n",
       "      <td>16298.0</td>\n",
       "      <td>3755.0</td>\n",
       "      <td>17132.0</td>\n",
       "    </tr>\n",
       "    <tr>\n",
       "      <th>2</th>\n",
       "      <td>dont_finished</td>\n",
       "      <td>29080.0</td>\n",
       "      <td>6686.0</td>\n",
       "      <td>31405.0</td>\n",
       "    </tr>\n",
       "  </tbody>\n",
       "</table>\n",
       "</div>"
      ],
      "text/plain": [
       "      finish_mark  assembly_shop  research_center  spaceport\n",
       "0    made_project         9116.0           3697.0    10788.0\n",
       "1  defeated_enemy        16298.0           3755.0    17132.0\n",
       "2   dont_finished        29080.0           6686.0    31405.0"
      ]
     },
     "execution_count": 34,
     "metadata": {},
     "output_type": "execute_result"
    }
   ],
   "source": [
    "#Смотрим на количество построек по стратегиям и категориям\n",
    "buildings_by_source = profile.merge(building[['user_id','assembly_shop','research_center','spaceport']], on='user_id'\n",
    "    )\n",
    "buildings = (buildings_by_source.pivot_table(index='finish_mark',values=['assembly_shop','research_center','spaceport'],aggfunc='sum')\n",
    "             .sort_values(by='spaceport',ascending=True)\n",
    "             .reset_index()\n",
    "            )\n",
    "buildings"
   ]
  },
  {
   "cell_type": "code",
   "execution_count": 35,
   "metadata": {},
   "outputs": [
    {
     "data": {
      "image/png": "[encoded data removed]",
      "text/plain": [
       "<Figure size 432x288 with 1 Axes>"
      ]
     },
     "metadata": {},
     "output_type": "display_data"
    }
   ],
   "source": [
    "sns.set_style('dark')\n",
    "# назначаем размер графика\n",
    "\n",
    "buildings.plot(x='finish_mark',y= ['assembly_shop','research_center','spaceport'],\\\n",
    "              kind='barh', stacked= True )\n",
    "plt.title('График количества построек по источникам')\n",
    "plt.xlabel('Количество')\n",
    "plt.ylabel('Источник')\n",
    "# выбираем положение легенды и указываем размер шрифта\n",
    "plt.legend(loc='lower right', fontsize=10)\n",
    "# добавляем сетку\n",
    "plt.grid()\n",
    "# отображаем график на экране\n",
    "plt.show()"
   ]
  },
  {
   "cell_type": "markdown",
   "metadata": {},
   "source": [
    "<div class=\"alert alert-info\"> <b>Видно что в основном все пользователи строят в равных долях spaceport и assembly_shop, и минимальное количество исследовательских центров. Видимо согласно логики игры достаточно небольшого количество данных сооружений. Что косается общего количества построек, то пользователи которые не прошли уровень, построили куда больше чем исследователи и PVE игроки. Теперь нужно взглянуть на среднее количество времени проведённом в игре и затрачиваемое на прохождение уровня.</b></div>"
   ]
  },
  {
   "cell_type": "code",
   "execution_count": 36,
   "metadata": {},
   "outputs": [
    {
     "data": {
      "image/png": "[encoded data removed]",
      "text/plain": [
       "<Figure size 864x720 with 1 Axes>"
      ]
     },
     "metadata": {},
     "output_type": "display_data"
    }
   ],
   "source": [
    "#Строим график проведённого времени в игре\n",
    "plt.figure(figsize=(12, 10))\n",
    "\n",
    "sns.distplot(profile['stage_duration'], bins=50, kde_kws={'label': 'all_users'})\n",
    "\n",
    "plt.title('Распределение времени нахождения пользователей в игре');\n",
    "plt.legend(loc='upper right', fontsize=10)\n",
    "plt.xlabel('Продолжительность уровня')\n",
    "plt.show()"
   ]
  },
  {
   "cell_type": "code",
   "execution_count": 37,
   "metadata": {},
   "outputs": [
    {
     "name": "stdout",
     "output_type": "stream",
     "text": [
      "Медианное значение времени нахождения пользователей в игре 10.0 дней\n"
     ]
    }
   ],
   "source": [
    "print('Медианное значение времени нахождения пользователей в игре {} дней'.\n",
    "      format(profile['stage_duration'].median()))"
   ]
  },
  {
   "cell_type": "markdown",
   "metadata": {},
   "source": [
    "<div class=\"alert alert-info\"> <b>Как покуазывает график, среднее время в игре пользователи проводят 10 дней.</b></div>"
   ]
  },
  {
   "cell_type": "code",
   "execution_count": 38,
   "metadata": {
    "scrolled": false
   },
   "outputs": [
    {
     "data": {
      "image/png": "[encoded data removed]",
      "text/plain": [
       "<Figure size 864x720 with 1 Axes>"
      ]
     },
     "metadata": {},
     "output_type": "display_data"
    }
   ],
   "source": [
    "#Строим график количетва времения необходимого для проходжения уровня для пользователей всех стратегий\n",
    "plt.figure(figsize=(12, 10))\n",
    "\n",
    "sns.set_style('darkgrid')\n",
    "\n",
    "made_project = profile.query('finish_mark == \"made_project\"')['stage_duration']\n",
    "\n",
    "sns.distplot(profile.query('finish_mark == \"made_project\"')['stage_duration'],\n",
    "             bins=50,\n",
    "             kde_kws={'label': 'made_project'})\n",
    "\n",
    "sns.distplot(profile.query('finish_mark == \"defeated_enemy\"')['stage_duration'],\n",
    "             bins=50,\n",
    "             kde_kws={'label': 'defeated_enemy'})\n",
    "\n",
    "sns.distplot(profile.query('finish_mark == \"dont_finished\"')['stage_duration'],\n",
    "             bins=50,\n",
    "             kde_kws={'label': 'dont_finished'})\n",
    "\n",
    "plt.title('Распределение времени нахождения пользователей в игре')\n",
    "plt.legend(loc='upper right', fontsize=10)\n",
    "plt.xlabel('Продолжительность уровня')\n",
    "plt.show()"
   ]
  },
  {
   "cell_type": "code",
   "execution_count": 39,
   "metadata": {},
   "outputs": [
    {
     "name": "stdout",
     "output_type": "stream",
     "text": [
      "Медианное значение продолжительности уровня, для тех кто завершил уровень созданием проекта 13.0 дней\n",
      "Медианное значение продолжительности уровня, для тех кто завершил уровень победой на врагом 10.0 дней\n",
      "Медианное значение продолжительности уровня, для тех кто не завершил уровень 9.0 дней\n"
     ]
    }
   ],
   "source": [
    "print(\n",
    "    'Медианное значение продолжительности уровня, для тех кто завершил уровень созданием проекта {} дней'\n",
    "    .format(\n",
    "        profile.query('finish_mark == \"made_project\"')\n",
    "        ['stage_duration'].median()))\n",
    "print(\n",
    "    'Медианное значение продолжительности уровня, для тех кто завершил уровень победой на врагом {} дней'\n",
    "    .format(\n",
    "        profile.query('finish_mark == \"defeated_enemy\"')\n",
    "        ['stage_duration'].median()))\n",
    "print(\n",
    "    'Медианное значение продолжительности уровня, для тех кто не завершил уровень {} дней'\n",
    "    .format(\n",
    "        profile.query('finish_mark == \"dont_finished\"')\n",
    "        ['stage_duration'].median()))"
   ]
  },
  {
   "cell_type": "markdown",
   "metadata": {},
   "source": [
    "<div class=\"alert alert-info\"> <b>Как видно по графику распределения и медианным значениям, пользователи находятся в игре 10 дней, кому-то этого времени хватает на прохождения уровня, а кто-то просто перестаёт играть. При этом, дольше всех проходят уровень исследователи - 13 дней. Кто идет путем победы над врагом, в среднем проходят уровень 10 дней. А те, кто в итоге уровень так и не проходит находятся в игре 9 дней.</b></div>"
   ]
  },
  {
   "cell_type": "markdown",
   "metadata": {},
   "source": [
    "#### Визуализация динамики изменения расходов во времени (по дням) по каждому источнику."
   ]
  },
  {
   "cell_type": "code",
   "execution_count": 40,
   "metadata": {},
   "outputs": [
    {
     "data": {
      "text/html": [
       "<div>\n",
       "<style scoped>\n",
       "    .dataframe tbody tr th:only-of-type {\n",
       "        vertical-align: middle;\n",
       "    }\n",
       "\n",
       "    .dataframe tbody tr th {\n",
       "        vertical-align: top;\n",
       "    }\n",
       "\n",
       "    .dataframe thead th {\n",
       "        text-align: right;\n",
       "    }\n",
       "</style>\n",
       "<table border=\"1\" class=\"dataframe\">\n",
       "  <thead>\n",
       "    <tr style=\"text-align: right;\">\n",
       "      <th></th>\n",
       "      <th>user_id</th>\n",
       "      <th>first_event_time</th>\n",
       "      <th>last_event_time</th>\n",
       "      <th>first_day</th>\n",
       "      <th>events_count</th>\n",
       "      <th>buildings_count</th>\n",
       "      <th>stage_duration</th>\n",
       "      <th>finish_mark</th>\n",
       "      <th>source</th>\n",
       "      <th>cost_per_user</th>\n",
       "    </tr>\n",
       "  </thead>\n",
       "  <tbody>\n",
       "    <tr>\n",
       "      <th>0</th>\n",
       "      <td>0001f83c-c6ac-4621-b7f0-8a28b283ac30</td>\n",
       "      <td>2020-05-06 01:07:37</td>\n",
       "      <td>2020-05-20 11:26:06</td>\n",
       "      <td>2020-05-06</td>\n",
       "      <td>13</td>\n",
       "      <td>13</td>\n",
       "      <td>14</td>\n",
       "      <td>dont_finished</td>\n",
       "      <td>facebook_ads</td>\n",
       "      <td>0.754162</td>\n",
       "    </tr>\n",
       "    <tr>\n",
       "      <th>1</th>\n",
       "      <td>01303c2e-7de1-4742-8c3e-daf182b67b9f</td>\n",
       "      <td>2020-05-06 07:05:11</td>\n",
       "      <td>2020-05-08 22:30:49</td>\n",
       "      <td>2020-05-06</td>\n",
       "      <td>4</td>\n",
       "      <td>4</td>\n",
       "      <td>2</td>\n",
       "      <td>dont_finished</td>\n",
       "      <td>facebook_ads</td>\n",
       "      <td>0.754162</td>\n",
       "    </tr>\n",
       "    <tr>\n",
       "      <th>2</th>\n",
       "      <td>0136963c-c45c-4edb-92d8-205bd50a4d36</td>\n",
       "      <td>2020-05-06 14:00:20</td>\n",
       "      <td>2020-05-25 08:56:48</td>\n",
       "      <td>2020-05-06</td>\n",
       "      <td>12</td>\n",
       "      <td>10</td>\n",
       "      <td>18</td>\n",
       "      <td>made_project</td>\n",
       "      <td>facebook_ads</td>\n",
       "      <td>0.754162</td>\n",
       "    </tr>\n",
       "    <tr>\n",
       "      <th>3</th>\n",
       "      <td>018793d6-38c8-450a-bd54-8c181d920f1a</td>\n",
       "      <td>2020-05-06 07:05:52</td>\n",
       "      <td>2020-05-24 23:52:53</td>\n",
       "      <td>2020-05-06</td>\n",
       "      <td>14</td>\n",
       "      <td>12</td>\n",
       "      <td>18</td>\n",
       "      <td>made_project</td>\n",
       "      <td>facebook_ads</td>\n",
       "      <td>0.754162</td>\n",
       "    </tr>\n",
       "    <tr>\n",
       "      <th>4</th>\n",
       "      <td>01e2b256-4519-493f-b010-4a90a2755245</td>\n",
       "      <td>2020-05-06 22:16:07</td>\n",
       "      <td>2020-05-21 04:52:31</td>\n",
       "      <td>2020-05-06</td>\n",
       "      <td>9</td>\n",
       "      <td>9</td>\n",
       "      <td>14</td>\n",
       "      <td>dont_finished</td>\n",
       "      <td>facebook_ads</td>\n",
       "      <td>0.754162</td>\n",
       "    </tr>\n",
       "  </tbody>\n",
       "</table>\n",
       "</div>"
      ],
      "text/plain": [
       "                                user_id    first_event_time  \\\n",
       "0  0001f83c-c6ac-4621-b7f0-8a28b283ac30 2020-05-06 01:07:37   \n",
       "1  01303c2e-7de1-4742-8c3e-daf182b67b9f 2020-05-06 07:05:11   \n",
       "2  0136963c-c45c-4edb-92d8-205bd50a4d36 2020-05-06 14:00:20   \n",
       "3  018793d6-38c8-450a-bd54-8c181d920f1a 2020-05-06 07:05:52   \n",
       "4  01e2b256-4519-493f-b010-4a90a2755245 2020-05-06 22:16:07   \n",
       "\n",
       "      last_event_time  first_day  events_count  buildings_count  \\\n",
       "0 2020-05-20 11:26:06 2020-05-06            13               13   \n",
       "1 2020-05-08 22:30:49 2020-05-06             4                4   \n",
       "2 2020-05-25 08:56:48 2020-05-06            12               10   \n",
       "3 2020-05-24 23:52:53 2020-05-06            14               12   \n",
       "4 2020-05-21 04:52:31 2020-05-06             9                9   \n",
       "\n",
       "   stage_duration    finish_mark        source  cost_per_user  \n",
       "0              14  dont_finished  facebook_ads       0.754162  \n",
       "1               2  dont_finished  facebook_ads       0.754162  \n",
       "2              18   made_project  facebook_ads       0.754162  \n",
       "3              18   made_project  facebook_ads       0.754162  \n",
       "4              14  dont_finished  facebook_ads       0.754162  "
      ]
     },
     "execution_count": 40,
     "metadata": {},
     "output_type": "execute_result"
    }
   ],
   "source": [
    "#Соберём все необходимые данные для анализа из 3 таблиц \n",
    "spending_dynamics = profile\n",
    "spending_dynamics.head()"
   ]
  },
  {
   "cell_type": "code",
   "execution_count": 41,
   "metadata": {},
   "outputs": [
    {
     "data": {
      "text/html": [
       "<div>\n",
       "<style scoped>\n",
       "    .dataframe tbody tr th:only-of-type {\n",
       "        vertical-align: middle;\n",
       "    }\n",
       "\n",
       "    .dataframe tbody tr th {\n",
       "        vertical-align: top;\n",
       "    }\n",
       "\n",
       "    .dataframe thead th {\n",
       "        text-align: right;\n",
       "    }\n",
       "</style>\n",
       "<table border=\"1\" class=\"dataframe\">\n",
       "  <thead>\n",
       "    <tr style=\"text-align: right;\">\n",
       "      <th>source</th>\n",
       "      <th>first_day</th>\n",
       "      <th>facebook_ads</th>\n",
       "      <th>instagram_new_adverts</th>\n",
       "      <th>yandex_direct</th>\n",
       "      <th>youtube_channel_reklama</th>\n",
       "      <th>total_costs</th>\n",
       "    </tr>\n",
       "  </thead>\n",
       "  <tbody>\n",
       "    <tr>\n",
       "      <th>0</th>\n",
       "      <td>2020-05-04</td>\n",
       "      <td>0.790442</td>\n",
       "      <td>0.649590</td>\n",
       "      <td>0.466381</td>\n",
       "      <td>0.396357</td>\n",
       "      <td>2.302769</td>\n",
       "    </tr>\n",
       "    <tr>\n",
       "      <th>1</th>\n",
       "      <td>2020-05-05</td>\n",
       "      <td>0.790136</td>\n",
       "      <td>0.631816</td>\n",
       "      <td>0.459149</td>\n",
       "      <td>0.390759</td>\n",
       "      <td>2.271860</td>\n",
       "    </tr>\n",
       "    <tr>\n",
       "      <th>2</th>\n",
       "      <td>2020-05-06</td>\n",
       "      <td>0.754162</td>\n",
       "      <td>0.665193</td>\n",
       "      <td>0.464206</td>\n",
       "      <td>0.401753</td>\n",
       "      <td>2.285314</td>\n",
       "    </tr>\n",
       "    <tr>\n",
       "      <th>3</th>\n",
       "      <td>2020-05-07</td>\n",
       "      <td>0.794563</td>\n",
       "      <td>0.641004</td>\n",
       "      <td>0.458018</td>\n",
       "      <td>0.402300</td>\n",
       "      <td>2.295886</td>\n",
       "    </tr>\n",
       "    <tr>\n",
       "      <th>4</th>\n",
       "      <td>2020-05-08</td>\n",
       "      <td>0.804078</td>\n",
       "      <td>0.628087</td>\n",
       "      <td>0.478784</td>\n",
       "      <td>0.412894</td>\n",
       "      <td>2.323842</td>\n",
       "    </tr>\n",
       "    <tr>\n",
       "      <th>5</th>\n",
       "      <td>2020-05-09</td>\n",
       "      <td>0.809634</td>\n",
       "      <td>0.639096</td>\n",
       "      <td>0.437234</td>\n",
       "      <td>0.402179</td>\n",
       "      <td>2.288143</td>\n",
       "    </tr>\n",
       "    <tr>\n",
       "      <th>6</th>\n",
       "      <td>2020-05-10</td>\n",
       "      <td>0.691488</td>\n",
       "      <td>0.668220</td>\n",
       "      <td>0.480669</td>\n",
       "      <td>0.416333</td>\n",
       "      <td>2.256710</td>\n",
       "    </tr>\n",
       "  </tbody>\n",
       "</table>\n",
       "</div>"
      ],
      "text/plain": [
       "source  first_day  facebook_ads  instagram_new_adverts  yandex_direct  \\\n",
       "0      2020-05-04      0.790442               0.649590       0.466381   \n",
       "1      2020-05-05      0.790136               0.631816       0.459149   \n",
       "2      2020-05-06      0.754162               0.665193       0.464206   \n",
       "3      2020-05-07      0.794563               0.641004       0.458018   \n",
       "4      2020-05-08      0.804078               0.628087       0.478784   \n",
       "5      2020-05-09      0.809634               0.639096       0.437234   \n",
       "6      2020-05-10      0.691488               0.668220       0.480669   \n",
       "\n",
       "source  youtube_channel_reklama  total_costs  \n",
       "0                      0.396357     2.302769  \n",
       "1                      0.390759     2.271860  \n",
       "2                      0.401753     2.285314  \n",
       "3                      0.402300     2.295886  \n",
       "4                      0.412894     2.323842  \n",
       "5                      0.402179     2.288143  \n",
       "6                      0.416333     2.256710  "
      ]
     },
     "execution_count": 41,
     "metadata": {},
     "output_type": "execute_result"
    }
   ],
   "source": [
    "spending_dynamics = (profile.pivot_table(index='first_day',columns='source',values='cost_per_user')\n",
    "        .reset_index())\n",
    "spending_dynamics['total_costs'] = (spending_dynamics['facebook_ads'] \n",
    "                                    +spending_dynamics['instagram_new_adverts']\n",
    "                                    +spending_dynamics['yandex_direct']\n",
    "                                    +spending_dynamics['youtube_channel_reklama'])\n",
    "spending_dynamics"
   ]
  },
  {
   "cell_type": "code",
   "execution_count": 42,
   "metadata": {},
   "outputs": [
    {
     "data": {
      "image/png": "[encoded data removed]",
      "text/plain": [
       "<Figure size 720x432 with 1 Axes>"
      ]
     },
     "metadata": {},
     "output_type": "display_data"
    }
   ],
   "source": [
    "# Задаём размер графика \n",
    "plt.figure(figsize=(10,6))\n",
    "# Строим график по источникам \n",
    "plt.plot(spending_dynamics['first_day'], spending_dynamics['facebook_ads'], label='facebook_ads')\n",
    "\n",
    "plt.plot(spending_dynamics['first_day'], spending_dynamics['instagram_new_adverts'], label='instagram_new_adverts')\n",
    "\n",
    "plt.plot(spending_dynamics['first_day'], spending_dynamics['yandex_direct'], label='yandex_direct')\n",
    "\n",
    "plt.plot(spending_dynamics['first_day'], spending_dynamics['youtube_channel_reklama'], label='youtube_channel_reklama')\n",
    "\n",
    "plt.ylabel('Стоимость клика')\n",
    "plt.xlabel('Дата')\n",
    "plt.title('График динамики изменения расходов во времени по источникам')\n",
    "plt.legend() \n",
    "plt.show()"
   ]
  },
  {
   "cell_type": "markdown",
   "metadata": {},
   "source": [
    "<div class=\"alert alert-info\"> <b>Итак, если взглянуть на график, то можно увидеть тенденции движения цены за клик, согласно времени. Лидером этого \"топа\" является facebook c отметки в 0.79 доларов за клик и далее невысоким ростом а после и грандиозным падением до 0.69 доллара. Остальные же начиная со своей первоначальной цены за клик, наоборот сохраняют тенденцию роста. Так instagram_new_adverts начинал с 0.64 и в данный период цена стоит на отметке 0.66 долларов. yandex_direct с 0.46 до 0.48 долларов за клик, и youtube_channel_reklama с 0.39 до 0.41 доллара за клик. В последние дни имеется не так много событий и по этой причине излишняя волатильность может быть связана с малым числом наблюдений.</b></div>"
   ]
  },
  {
   "cell_type": "markdown",
   "metadata": {},
   "source": [
    "### Проверка гипотез "
   ]
  },
  {
   "cell_type": "markdown",
   "metadata": {},
   "source": [
    "##### H0: Имеются различия времени прохождения уровня между пользователями, которые заканчивают уровень через реализацию проекта, и пользователями, которые заканчивают уровень победой над другим игроком.\n",
    "##### H1: Нет различий времени прохождения уровня между пользователями, которые заканчивают уровень через реализацию проекта, и пользователями, которые заканчивают уровень победой над другим игроком"
   ]
  },
  {
   "cell_type": "code",
   "execution_count": 43,
   "metadata": {},
   "outputs": [],
   "source": [
    "#Собираем пользователей по времени прохождению и стратегиям \n",
    "duration_of_pve_players = profile.query(\n",
    "    'finish_mark == \"defeated_enemy\"')['stage_duration']\n",
    "\n",
    "researcher_duration = profile.query(\n",
    "    'finish_mark == \"made_project\"')['stage_duration']"
   ]
  },
  {
   "cell_type": "markdown",
   "metadata": {},
   "source": [
    "##### H0:Имеются различия в распределении данных \n",
    "##### H1:Различий в распределении данных нет "
   ]
  },
  {
   "cell_type": "code",
   "execution_count": 44,
   "metadata": {},
   "outputs": [
    {
     "name": "stdout",
     "output_type": "stream",
     "text": [
      "p-значение:  3.3002471258616425e-24\n",
      "Отвергаем нулевую гипотезу: распределение не нормально\n"
     ]
    }
   ],
   "source": [
    "#Посмотрим на то, нормально ли распределены данные в duration_of_pve_players\n",
    "alpha = .05 \n",
    "\n",
    "results = st.shapiro(duration_of_pve_players)# ваш код\n",
    "p_value = results[\n",
    "    1\n",
    "]\n",
    "\n",
    "print('p-значение: ', p_value)\n",
    "\n",
    "if p_value < alpha:\n",
    "    print('Отвергаем нулевую гипотезу: распределение не нормально')\n",
    "else:\n",
    "    print('Не получилось отвергнуть нулевую гипотезу, всё нормально')# ваш код"
   ]
  },
  {
   "cell_type": "code",
   "execution_count": 45,
   "metadata": {},
   "outputs": [
    {
     "name": "stdout",
     "output_type": "stream",
     "text": [
      "p-значение:  4.1633364896051043e-22\n",
      "Отвергаем нулевую гипотезу: распределение не нормально\n"
     ]
    }
   ],
   "source": [
    "#Посмотрим на то, нормально ли распределены данные в researcher_duration\n",
    "alpha = .05 \n",
    "\n",
    "results = st.shapiro(researcher_duration)# ваш код\n",
    "p_value = results[\n",
    "    1\n",
    "]\n",
    "\n",
    "print('p-значение: ', p_value)\n",
    "\n",
    "if p_value < alpha:\n",
    "    print('Отвергаем нулевую гипотезу: распределение не нормально')\n",
    "else:\n",
    "    print('Не получилось отвергнуть нулевую гипотезу, всё нормально')# ваш код"
   ]
  },
  {
   "cell_type": "markdown",
   "metadata": {},
   "source": [
    "<div class=\"alert alert-info\"> <b>Оба распределения оказались не нормальны, что не позволяет нам применить критерий Стьюдента при проверке основной гипотезы, будем использовать критерий Манна-Уитни</b></div>"
   ]
  },
  {
   "cell_type": "code",
   "execution_count": 46,
   "metadata": {},
   "outputs": [
    {
     "name": "stdout",
     "output_type": "stream",
     "text": [
      "p-значение:  7.405201249039567e-106\n",
      "Отвергаем нулевую гипотезу: разница статистически значима\n"
     ]
    }
   ],
   "source": [
    "#Проверка основных гипотез \n",
    "alpha = .05\n",
    "\n",
    "results = st.mannwhitneyu(duration_of_pve_players, researcher_duration,True,'less')# ваш код\n",
    "\n",
    "print('p-значение: ', results.pvalue)\n",
    "\n",
    "if results.pvalue < alpha:\n",
    "      print('Отвергаем нулевую гипотезу: разница статистически значима')\n",
    "else:\n",
    "      print(\n",
    "        'Не получилось отвергнуть нулевую гипотезу, вывод о различии сделать нельзя'\n",
    "    ) "
   ]
  },
  {
   "cell_type": "code",
   "execution_count": 66,
   "metadata": {},
   "outputs": [
    {
     "name": "stdout",
     "output_type": "stream",
     "text": [
      "Медианное значение продолжительности уровня, для тех кто завершил уровень созданием проекта 13.0 дней\n",
      "Медианное значение продолжительности уровня, для тех кто завершил уровень победой на врагом 10.0 дней\n",
      "Медианное значение продолжительности уровня, для тех кто не завершил уровень 9.0 дней\n",
      "**************************************************\n"
     ]
    },
    {
     "data": {
      "image/png": "[encoded data removed]",
      "text/plain": [
       "<Figure size 864x720 with 1 Axes>"
      ]
     },
     "metadata": {},
     "output_type": "display_data"
    }
   ],
   "source": [
    "plt.figure(figsize=(12, 10))\n",
    "\n",
    "sns.set_style('darkgrid')\n",
    "\n",
    "sns.distplot(profile.query('finish_mark == \"made_project\"')['stage_duration'],\n",
    "             bins=50,\n",
    "             kde_kws={'label': 'made_project'})\n",
    "\n",
    "sns.distplot(profile.query('finish_mark == \"defeated_enemy\"')['stage_duration'],\n",
    "             bins=50,\n",
    "             kde_kws={'label': 'defeated_enemy'})\n",
    "\n",
    "sns.distplot(profile.query('finish_mark == \"dont_finished\"')['stage_duration'],\n",
    "             bins=50,\n",
    "             kde_kws={'label': 'dont_finished'})\n",
    "\n",
    "plt.title('Распределение времени нахождения пользователей в игре');\n",
    "plt.legend(loc='upper right', fontsize=10)\n",
    "plt.xlabel('Продолжительность уровня');\n",
    "print(\n",
    "    'Медианное значение продолжительности уровня, для тех кто завершил уровень созданием проекта {} дней'\n",
    "    .format(\n",
    "        profile.query('finish_mark == \"made_project\"')\n",
    "        ['stage_duration'].median()))\n",
    "print(\n",
    "    'Медианное значение продолжительности уровня, для тех кто завершил уровень победой на врагом {} дней'\n",
    "    .format(\n",
    "        profile.query('finish_mark == \"defeated_enemy\"')\n",
    "        ['stage_duration'].median()))\n",
    "print(\n",
    "    'Медианное значение продолжительности уровня, для тех кто не завершил уровень {} дней'\n",
    "    .format(\n",
    "        profile.query('finish_mark == \"dont_finished\"')\n",
    "        ['stage_duration'].median()))\n",
    "print('*'*50)"
   ]
  },
  {
   "cell_type": "markdown",
   "metadata": {},
   "source": [
    "<div class=\"alert alert-info\"> <b>По результатам статистического теста мы отвергаем нулевую гипотезу, это позволяет нам говорить о том, что между пользователями со стратегией PVE и стратегией исследователей есть разница во времени на прохождение уровня. Исследователи дольше проходят уровень чем пользователи PVE.</b></div>"
   ]
  },
  {
   "cell_type": "markdown",
   "metadata": {},
   "source": [
    "##### H0: Есть различие в количестве денежных затрат на пользователей завершившеих уровень победой над другим игроком и пользователями завершившими уровень через реализацию проекта.\n",
    "\n",
    "##### H1: Нет различий в количестве денежных затрат на пользователей завершившеих уровень победой над другим игроком и пользователями завершившими уровень через реализацию проекта."
   ]
  },
  {
   "cell_type": "code",
   "execution_count": 106,
   "metadata": {},
   "outputs": [],
   "source": [
    "#Собираем пользователей по времени прохождению и стратегиям \n",
    "rich_of_pve_players = profile.query(\n",
    "    'finish_mark == \"defeated_enemy\"')['cost_per_user']\n",
    "\n",
    "rich_of_researcher_duration = profile.query(\n",
    "    'finish_mark == \"made_project\"')['cost_per_user']"
   ]
  },
  {
   "cell_type": "markdown",
   "metadata": {},
   "source": [
    "##### H0:Имеются различия в распределении данных \n",
    "##### H1:Различий в распределении данных нет "
   ]
  },
  {
   "cell_type": "code",
   "execution_count": 107,
   "metadata": {},
   "outputs": [
    {
     "name": "stdout",
     "output_type": "stream",
     "text": [
      "p-значение:  0.0\n",
      "Отвергаем нулевую гипотезу: распределение не нормально\n"
     ]
    }
   ],
   "source": [
    "#Посмотрим на то, нормально ли распределены данные в rich_of_pve_players\n",
    "alpha = .05 \n",
    "\n",
    "results = st.shapiro(rich_of_pve_players)# ваш код\n",
    "p_value = results[\n",
    "    1\n",
    "]\n",
    "\n",
    "print('p-значение: ', p_value)\n",
    "\n",
    "if p_value < alpha:\n",
    "    print('Отвергаем нулевую гипотезу: распределение не нормально')\n",
    "else:\n",
    "    print('Не получилось отвергнуть нулевую гипотезу, всё нормально')# ваш код"
   ]
  },
  {
   "cell_type": "code",
   "execution_count": 108,
   "metadata": {},
   "outputs": [
    {
     "name": "stdout",
     "output_type": "stream",
     "text": [
      "p-значение:  2.1033181663853353e-39\n",
      "Отвергаем нулевую гипотезу: распределение не нормально\n"
     ]
    }
   ],
   "source": [
    "#Посмотрим на то, нормально ли распределены данные в rich_of_researcher_duration\n",
    "alpha = .05 \n",
    "\n",
    "results = st.shapiro(rich_of_researcher_duration)# ваш код\n",
    "p_value = results[\n",
    "    1\n",
    "]\n",
    "\n",
    "print('p-значение: ', p_value)\n",
    "\n",
    "if p_value < alpha:\n",
    "    print('Отвергаем нулевую гипотезу: распределение не нормально')\n",
    "else:\n",
    "    print('Не получилось отвергнуть нулевую гипотезу, всё нормально')# ваш код"
   ]
  },
  {
   "cell_type": "markdown",
   "metadata": {},
   "source": [
    "<div class=\"alert alert-info\"> <b>Оба распределения оказались не нормальны, что не позволяет нам применить критерий Стьюдента при проверке основной гипотезы, будем использовать критерий Манна-Уитни</b></div>"
   ]
  },
  {
   "cell_type": "code",
   "execution_count": 109,
   "metadata": {},
   "outputs": [
    {
     "name": "stdout",
     "output_type": "stream",
     "text": [
      "p-значение:  0.18207002082938123\n",
      "Не получилось отвергнуть нулевую гипотезу, вывод о различии сделать нельзя\n"
     ]
    }
   ],
   "source": [
    "#Проверка основных гипотез \n",
    "alpha = .05\n",
    "\n",
    "results = st.mannwhitneyu(rich_of_pve_players, rich_of_researcher_duration,True,'less')# ваш код\n",
    "\n",
    "print('p-значение: ', results.pvalue)\n",
    "\n",
    "if results.pvalue < alpha:\n",
    "      print('Отвергаем нулевую гипотезу: разница статистически значима')\n",
    "else:\n",
    "      print(\n",
    "        'Не получилось отвергнуть нулевую гипотезу, вывод о различии сделать нельзя'\n",
    "    ) "
   ]
  },
  {
   "cell_type": "markdown",
   "metadata": {},
   "source": [
    "<div class=\"alert alert-info\"> <b>По результатам статистического теста мы не можем отвергнуть нулевую гипотезу, это позволяет нам говорить о том, что между пользователями со стратегией PVE и стратегией исследователей нет разницы в денежных затратах.      На привлечение пользователей со стратегиями исследователи и PVE денежные затраты одинаковы.</b></div>"
   ]
  },
  {
   "cell_type": "markdown",
   "metadata": {},
   "source": [
    "### Вывод"
   ]
  },
  {
   "cell_type": "markdown",
   "metadata": {},
   "source": [
    "В ходе работы был проведен комплексный исследователский анализ данных о внутриигровых действиях пользователей, в ходе анализа выяснили:\n",
    "Всего в датасетах присутствуют 4 рекламных источника:\n",
    "<br>- facebook_ads </br>\n",
    "<br>- instagram_new_adverts </br>\n",
    "<br>- yandex_direct </br>\n",
    "<br>- youtube_channel_reklama </br>\n",
    "\n",
    "<br>Средняя стоимость кликов по источникам:</br>\n",
    "<br>- facebook_ads 0.79 у.е.</br>\n",
    "<br>- instagram_new_adverts 0.65 у.е.</br>\n",
    "<br>- yandex_direct 0.46 у.е.</br>\n",
    "<br>- youtube_channel_reklama 0.40 у.е.</br>\n",
    "\n",
    "<br>Средняя количество построек на пользователей со стратегиями(победили врага/исследователи/не завершили уровень):</br>\n",
    "<br>- defeated_enemy 10 сооружений</br>\n",
    "<br>- made_project 12 сооружений</br>\n",
    "<br>- dont_finished 8 сооружений</br>\n",
    "\n",
    "<br>Выяснили какой тип строений чаще строится пользователями разных стратегий(победили врага/исследователи/не завершили уровень):</br>          \n",
    "<br>made_project:</br>\n",
    "<br>assembly_shop - 9116 сооружений</br>\n",
    "<br>research_center - 3697 сооружений</br>\t\n",
    "spaceport - 10788 сооружений\n",
    "\n",
    "<br>defeated_enemy:</br>\n",
    "<br>assembly_shop - 16298 сооружений</br>\n",
    "<br>research_center - 3755 сооружений</br>\n",
    "<br>spaceport - 17132 сооружений</br>\n",
    "\n",
    "<br>dont_finished:</br>\n",
    "<br>assembly_shop - 29080 сооружений</br>\n",
    "<br>research_center - 6686 сооружений</br>\n",
    "<br>spaceport - 31405 сооружений</br>\n",
    "\n",
    "Медианное значение количества дней нахождения на уровне пользователями 10 дней.\n",
    "<br>Самым популярным объектом постройки является spaceport, наименее популярным - research_center.</br>\n",
    "<br>Проверены гипотезы о наличии статистически значимой разницы во времени прохождения и количестве денежных затрат между теми пользователями, кто проходит уровень путем реализации проекта и теми, кто проходит путем победы над врагом. При проверке обеих гипотез статистически значимая разница обнаружена только по времени прохождения, можно утверждать, что время прохождения меньше у польхователей которые победили врага, а количество потраченых дненежных стредств одинаковы, независимо от стратегии.</br>"
   ]
  },
  {
   "cell_type": "markdown",
   "metadata": {},
   "source": [
    "### Рекомендации"
   ]
  },
  {
   "cell_type": "markdown",
   "metadata": {},
   "source": [
    "Исходя из того что, планируется располагать рекламу на экране постройки объектов, рекомендую обратить внимание на пользователей со стратегией исследователи. Во первых данная категория игроков тратит больше времени на прохождение уровня в отличае от PVE игроков, что нам показали результаты проверки гипотезы, так же они априо́ри строят больше сооружений согласно остальных стратегий пользователей. В данном случае их среднее количество построек равно 12 строениям, PVE игроки строят по 10, а те кто не завершил уровень строят по 8 строений. Так же следует добавить дополнительные награды за постройку сооружений для пользователей, в момент выбора стратегии игры, что бы увеличить количество исследователей, всвязи с чем увеличится количество просмотров рекламмы, что в конечном итоге увеличит прибыль. Так же нужно расмсотреть добавление механик удержания пользователей в игре, к примеру:\"нужно заходить в игру 1 раз в день в течении недели, для получения доп. внутреигровых наград\". Что косается источника на который стоит обратить внимание, то лидером в привлечении пользователей является yandex_direct, на ряду с этим имеет одну из наменьших стоимостей одного клика равную 0,46 долларов."
   ]
  },
  {
   "cell_type": "markdown",
   "metadata": {},
   "source": [
    "### Презентация"
   ]
  },
  {
   "cell_type": "markdown",
   "metadata": {},
   "source": [
    "##### Ссылка на презентацию: https://disk.yandex.ru/i/YM4yLK8HrDh_ug"
   ]
  },
  {
   "cell_type": "markdown",
   "metadata": {},
   "source": [
    "### Дашборд "
   ]
  },
  {
   "cell_type": "markdown",
   "metadata": {},
   "source": [
    "##### Ссыдка на дашборд: https://public.tableau.com/views/_16808657235400/Dashboard1?:language=en-US&publish=yes&:display_count=n&:origin=viz_share_link"
   ]
  }
 ],
 "metadata": {
  "ExecuteTimeLog": [
   {
    "duration": 1962,
    "start_time": "2023-04-04T09:32:06.213Z"
   },
   {
    "duration": 1642,
    "start_time": "2023-04-04T09:34:19.841Z"
   },
   {
    "duration": 820,
    "start_time": "2023-04-04T09:34:21.485Z"
   },
   {
    "duration": 29,
    "start_time": "2023-04-04T09:34:22.307Z"
   },
   {
    "duration": 104,
    "start_time": "2023-04-04T09:34:22.339Z"
   },
   {
    "duration": 11,
    "start_time": "2023-04-04T09:34:22.446Z"
   },
   {
    "duration": 223,
    "start_time": "2023-04-04T09:34:22.460Z"
   },
   {
    "duration": 11,
    "start_time": "2023-04-04T09:34:22.686Z"
   },
   {
    "duration": 626,
    "start_time": "2023-04-04T11:19:52.745Z"
   },
   {
    "duration": 553,
    "start_time": "2023-04-04T11:29:06.686Z"
   },
   {
    "duration": 1743,
    "start_time": "2023-04-04T12:05:21.606Z"
   },
   {
    "duration": 47,
    "start_time": "2023-04-04T12:05:30.690Z"
   },
   {
    "duration": 398,
    "start_time": "2023-04-04T12:07:48.086Z"
   },
   {
    "duration": 382,
    "start_time": "2023-04-04T12:08:06.948Z"
   },
   {
    "duration": 19,
    "start_time": "2023-04-04T12:09:40.241Z"
   },
   {
    "duration": 14,
    "start_time": "2023-04-04T12:10:05.558Z"
   },
   {
    "duration": 5,
    "start_time": "2023-04-04T12:14:39.255Z"
   },
   {
    "duration": 6,
    "start_time": "2023-04-04T12:14:43.499Z"
   },
   {
    "duration": 22,
    "start_time": "2023-04-04T12:14:54.229Z"
   },
   {
    "duration": 7,
    "start_time": "2023-04-04T12:15:08.246Z"
   },
   {
    "duration": 10,
    "start_time": "2023-04-04T12:18:13.063Z"
   },
   {
    "duration": 11,
    "start_time": "2023-04-04T12:18:41.909Z"
   },
   {
    "duration": 9,
    "start_time": "2023-04-04T12:19:29.790Z"
   },
   {
    "duration": 14,
    "start_time": "2023-04-04T12:19:33.793Z"
   },
   {
    "duration": 21,
    "start_time": "2023-04-04T12:19:56.372Z"
   },
   {
    "duration": 200,
    "start_time": "2023-04-04T12:20:26.687Z"
   },
   {
    "duration": 20,
    "start_time": "2023-04-04T12:20:34.340Z"
   },
   {
    "duration": 428,
    "start_time": "2023-04-04T12:21:22.175Z"
   },
   {
    "duration": 21,
    "start_time": "2023-04-04T12:21:34.499Z"
   },
   {
    "duration": 22,
    "start_time": "2023-04-04T12:21:52.562Z"
   },
   {
    "duration": 18,
    "start_time": "2023-04-04T12:22:38.355Z"
   },
   {
    "duration": 19,
    "start_time": "2023-04-04T12:23:26.675Z"
   },
   {
    "duration": 21,
    "start_time": "2023-04-04T12:23:37.041Z"
   },
   {
    "duration": 23,
    "start_time": "2023-04-04T12:23:51.429Z"
   },
   {
    "duration": 14,
    "start_time": "2023-04-04T12:24:26.398Z"
   },
   {
    "duration": 18,
    "start_time": "2023-04-04T12:25:01.345Z"
   },
   {
    "duration": 175,
    "start_time": "2023-04-04T12:26:49.799Z"
   },
   {
    "duration": 167,
    "start_time": "2023-04-04T12:27:19.511Z"
   },
   {
    "duration": 169,
    "start_time": "2023-04-04T12:28:29.619Z"
   },
   {
    "duration": 53,
    "start_time": "2023-04-04T12:31:57.525Z"
   },
   {
    "duration": 76,
    "start_time": "2023-04-04T12:32:01.815Z"
   },
   {
    "duration": 80,
    "start_time": "2023-04-04T12:32:56.708Z"
   },
   {
    "duration": 75,
    "start_time": "2023-04-04T12:33:09.132Z"
   },
   {
    "duration": 105,
    "start_time": "2023-04-04T12:34:59.238Z"
   },
   {
    "duration": 30,
    "start_time": "2023-04-04T12:35:57.934Z"
   },
   {
    "duration": 37,
    "start_time": "2023-04-04T12:36:09.502Z"
   },
   {
    "duration": 30,
    "start_time": "2023-04-04T12:36:23.732Z"
   },
   {
    "duration": 29,
    "start_time": "2023-04-04T12:36:32.258Z"
   },
   {
    "duration": 38,
    "start_time": "2023-04-04T12:37:32.999Z"
   },
   {
    "duration": 29,
    "start_time": "2023-04-04T12:37:41.941Z"
   },
   {
    "duration": 30,
    "start_time": "2023-04-04T12:38:46.027Z"
   },
   {
    "duration": 38,
    "start_time": "2023-04-04T12:38:55.791Z"
   },
   {
    "duration": 27,
    "start_time": "2023-04-04T12:40:07.857Z"
   },
   {
    "duration": 35,
    "start_time": "2023-04-04T12:40:18.443Z"
   },
   {
    "duration": 45,
    "start_time": "2023-04-04T12:40:51.989Z"
   },
   {
    "duration": 12,
    "start_time": "2023-04-04T12:41:29.618Z"
   },
   {
    "duration": 5,
    "start_time": "2023-04-04T12:42:32.611Z"
   },
   {
    "duration": 12,
    "start_time": "2023-04-04T13:04:14.772Z"
   },
   {
    "duration": 31,
    "start_time": "2023-04-04T13:04:26.518Z"
   },
   {
    "duration": 12,
    "start_time": "2023-04-04T13:05:46.540Z"
   },
   {
    "duration": 21,
    "start_time": "2023-04-04T13:06:28.763Z"
   },
   {
    "duration": 23,
    "start_time": "2023-04-04T13:07:07.632Z"
   },
   {
    "duration": 21,
    "start_time": "2023-04-04T13:07:22.979Z"
   },
   {
    "duration": 21,
    "start_time": "2023-04-04T13:07:26.779Z"
   },
   {
    "duration": 26,
    "start_time": "2023-04-04T13:07:36.407Z"
   },
   {
    "duration": 6,
    "start_time": "2023-04-04T13:08:01.971Z"
   },
   {
    "duration": 17,
    "start_time": "2023-04-04T13:09:20.336Z"
   },
   {
    "duration": 1432,
    "start_time": "2023-04-04T13:11:34.850Z"
   },
   {
    "duration": 34,
    "start_time": "2023-04-04T13:11:52.545Z"
   },
   {
    "duration": 51,
    "start_time": "2023-04-04T13:12:20.245Z"
   },
   {
    "duration": 19,
    "start_time": "2023-04-04T13:12:24.781Z"
   },
   {
    "duration": 77,
    "start_time": "2023-04-04T13:12:44.333Z"
   },
   {
    "duration": 20,
    "start_time": "2023-04-04T13:12:47.960Z"
   },
   {
    "duration": 18,
    "start_time": "2023-04-04T13:14:08.478Z"
   },
   {
    "duration": 9,
    "start_time": "2023-04-04T13:15:58.846Z"
   },
   {
    "duration": 11,
    "start_time": "2023-04-04T13:16:05.547Z"
   },
   {
    "duration": 1029,
    "start_time": "2023-04-04T13:16:25.597Z"
   },
   {
    "duration": 10,
    "start_time": "2023-04-04T13:17:07.805Z"
   },
   {
    "duration": 11,
    "start_time": "2023-04-04T13:17:15.053Z"
   },
   {
    "duration": 12,
    "start_time": "2023-04-04T13:19:06.596Z"
   },
   {
    "duration": 16,
    "start_time": "2023-04-04T13:19:15.708Z"
   },
   {
    "duration": 15,
    "start_time": "2023-04-04T13:19:27.268Z"
   },
   {
    "duration": 13,
    "start_time": "2023-04-04T13:19:30.774Z"
   },
   {
    "duration": 16,
    "start_time": "2023-04-04T13:19:37.055Z"
   },
   {
    "duration": 30,
    "start_time": "2023-04-04T13:19:43.949Z"
   },
   {
    "duration": 24,
    "start_time": "2023-04-04T13:20:02.809Z"
   },
   {
    "duration": 13,
    "start_time": "2023-04-04T13:20:54.700Z"
   },
   {
    "duration": 8,
    "start_time": "2023-04-04T13:20:57.887Z"
   },
   {
    "duration": 29,
    "start_time": "2023-04-04T13:21:00.244Z"
   },
   {
    "duration": 29,
    "start_time": "2023-04-04T13:21:12.213Z"
   },
   {
    "duration": 31,
    "start_time": "2023-04-04T13:21:32.944Z"
   },
   {
    "duration": 25,
    "start_time": "2023-04-04T13:21:55.284Z"
   },
   {
    "duration": 47,
    "start_time": "2023-04-04T13:22:02.718Z"
   },
   {
    "duration": 27,
    "start_time": "2023-04-04T13:22:11.932Z"
   },
   {
    "duration": 82,
    "start_time": "2023-04-04T13:22:27.190Z"
   },
   {
    "duration": 49,
    "start_time": "2023-04-04T13:22:31.116Z"
   },
   {
    "duration": 15,
    "start_time": "2023-04-04T13:22:59.800Z"
   },
   {
    "duration": 15,
    "start_time": "2023-04-04T13:24:13.388Z"
   },
   {
    "duration": 12,
    "start_time": "2023-04-04T13:24:31.136Z"
   },
   {
    "duration": 10,
    "start_time": "2023-04-04T13:24:43.068Z"
   },
   {
    "duration": 8,
    "start_time": "2023-04-04T13:24:45.800Z"
   },
   {
    "duration": 14,
    "start_time": "2023-04-04T13:24:49.400Z"
   },
   {
    "duration": 7,
    "start_time": "2023-04-04T13:24:50.175Z"
   },
   {
    "duration": 13,
    "start_time": "2023-04-04T13:24:51.176Z"
   },
   {
    "duration": 13,
    "start_time": "2023-04-04T13:24:59.996Z"
   },
   {
    "duration": 30,
    "start_time": "2023-04-04T13:25:06.016Z"
   },
   {
    "duration": 10,
    "start_time": "2023-04-04T13:25:06.743Z"
   },
   {
    "duration": 15,
    "start_time": "2023-04-04T13:25:07.463Z"
   },
   {
    "duration": 205,
    "start_time": "2023-04-04T13:25:52.888Z"
   },
   {
    "duration": 195,
    "start_time": "2023-04-04T13:26:25.881Z"
   },
   {
    "duration": 219,
    "start_time": "2023-04-04T13:27:01.897Z"
   },
   {
    "duration": 29,
    "start_time": "2023-04-04T13:31:18.444Z"
   },
   {
    "duration": 31,
    "start_time": "2023-04-04T13:31:24.849Z"
   },
   {
    "duration": 33,
    "start_time": "2023-04-04T13:31:30.836Z"
   },
   {
    "duration": 29,
    "start_time": "2023-04-04T13:32:22.340Z"
   },
   {
    "duration": 16,
    "start_time": "2023-04-04T13:32:28.716Z"
   },
   {
    "duration": 16,
    "start_time": "2023-04-04T13:32:29.741Z"
   },
   {
    "duration": 14,
    "start_time": "2023-04-04T13:32:30.388Z"
   },
   {
    "duration": 186,
    "start_time": "2023-04-04T13:32:31.549Z"
   },
   {
    "duration": 39,
    "start_time": "2023-04-04T13:32:54.853Z"
   },
   {
    "duration": 42,
    "start_time": "2023-04-04T13:32:59.700Z"
   },
   {
    "duration": 39,
    "start_time": "2023-04-04T13:33:09.500Z"
   },
   {
    "duration": 56,
    "start_time": "2023-04-04T13:33:33.001Z"
   },
   {
    "duration": 28,
    "start_time": "2023-04-04T13:33:39.345Z"
   },
   {
    "duration": 5,
    "start_time": "2023-04-04T13:33:58.237Z"
   },
   {
    "duration": 17,
    "start_time": "2023-04-04T13:34:03.741Z"
   },
   {
    "duration": 16,
    "start_time": "2023-04-04T13:34:06.253Z"
   },
   {
    "duration": 181,
    "start_time": "2023-04-04T13:34:07.765Z"
   },
   {
    "duration": 55,
    "start_time": "2023-04-04T13:35:48.526Z"
   },
   {
    "duration": 36,
    "start_time": "2023-04-04T13:36:14.886Z"
   },
   {
    "duration": 20,
    "start_time": "2023-04-04T13:36:35.910Z"
   },
   {
    "duration": 24,
    "start_time": "2023-04-04T13:36:47.269Z"
   },
   {
    "duration": 21,
    "start_time": "2023-04-04T13:37:04.726Z"
   },
   {
    "duration": 15,
    "start_time": "2023-04-04T13:37:10.454Z"
   },
   {
    "duration": 17,
    "start_time": "2023-04-04T13:37:17.598Z"
   },
   {
    "duration": 19,
    "start_time": "2023-04-04T13:38:33.095Z"
   },
   {
    "duration": 18,
    "start_time": "2023-04-04T13:38:36.754Z"
   },
   {
    "duration": 19,
    "start_time": "2023-04-04T13:38:38.722Z"
   },
   {
    "duration": 93,
    "start_time": "2023-04-04T13:39:33.063Z"
   },
   {
    "duration": 31,
    "start_time": "2023-04-04T13:39:39.146Z"
   },
   {
    "duration": 34,
    "start_time": "2023-04-04T13:39:56.928Z"
   },
   {
    "duration": 19,
    "start_time": "2023-04-04T13:40:03.334Z"
   },
   {
    "duration": 9,
    "start_time": "2023-04-04T13:53:23.096Z"
   },
   {
    "duration": 10,
    "start_time": "2023-04-04T13:55:25.968Z"
   },
   {
    "duration": 12,
    "start_time": "2023-04-04T13:55:39.873Z"
   },
   {
    "duration": 15,
    "start_time": "2023-04-04T14:00:01.231Z"
   },
   {
    "duration": 23,
    "start_time": "2023-04-04T14:00:42.608Z"
   },
   {
    "duration": 1674,
    "start_time": "2023-04-04T14:00:55.019Z"
   },
   {
    "duration": 614,
    "start_time": "2023-04-04T14:00:56.695Z"
   },
   {
    "duration": 20,
    "start_time": "2023-04-04T14:00:57.312Z"
   },
   {
    "duration": 71,
    "start_time": "2023-04-04T14:00:57.335Z"
   },
   {
    "duration": 11,
    "start_time": "2023-04-04T14:00:57.408Z"
   },
   {
    "duration": 178,
    "start_time": "2023-04-04T14:00:57.421Z"
   },
   {
    "duration": 9,
    "start_time": "2023-04-04T14:00:57.601Z"
   },
   {
    "duration": 476,
    "start_time": "2023-04-04T14:00:57.612Z"
   },
   {
    "duration": 60,
    "start_time": "2023-04-04T14:00:58.090Z"
   },
   {
    "duration": 23,
    "start_time": "2023-04-04T14:00:58.153Z"
   },
   {
    "duration": 24,
    "start_time": "2023-04-04T14:00:58.177Z"
   },
   {
    "duration": 42,
    "start_time": "2023-04-04T14:00:58.202Z"
   },
   {
    "duration": 190,
    "start_time": "2023-04-04T14:00:58.245Z"
   },
   {
    "duration": 24,
    "start_time": "2023-04-04T14:00:58.437Z"
   },
   {
    "duration": 4,
    "start_time": "2023-04-04T14:00:58.463Z"
   },
   {
    "duration": 23,
    "start_time": "2023-04-04T14:00:58.469Z"
   },
   {
    "duration": 38,
    "start_time": "2023-04-04T14:00:58.494Z"
   },
   {
    "duration": 180,
    "start_time": "2023-04-04T14:00:58.534Z"
   },
   {
    "duration": 25,
    "start_time": "2023-04-04T14:00:58.717Z"
   },
   {
    "duration": 31,
    "start_time": "2023-04-04T14:00:58.744Z"
   },
   {
    "duration": 20,
    "start_time": "2023-04-04T14:01:07.079Z"
   },
   {
    "duration": 21,
    "start_time": "2023-04-04T14:02:07.132Z"
   },
   {
    "duration": 19,
    "start_time": "2023-04-04T14:02:14.538Z"
   },
   {
    "duration": 10,
    "start_time": "2023-04-04T14:02:31.791Z"
   },
   {
    "duration": 16,
    "start_time": "2023-04-04T14:03:31.053Z"
   },
   {
    "duration": 12,
    "start_time": "2023-04-04T14:03:59.812Z"
   },
   {
    "duration": 17,
    "start_time": "2023-04-04T14:04:36.129Z"
   },
   {
    "duration": 16,
    "start_time": "2023-04-04T14:04:50.646Z"
   },
   {
    "duration": 10,
    "start_time": "2023-04-04T14:05:03.674Z"
   },
   {
    "duration": 18,
    "start_time": "2023-04-04T14:05:09.051Z"
   },
   {
    "duration": 55,
    "start_time": "2023-04-04T14:05:24.062Z"
   },
   {
    "duration": 9,
    "start_time": "2023-04-04T14:05:26.857Z"
   },
   {
    "duration": 9,
    "start_time": "2023-04-04T14:05:37.897Z"
   },
   {
    "duration": 11,
    "start_time": "2023-04-04T14:05:41.337Z"
   },
   {
    "duration": 16,
    "start_time": "2023-04-04T14:05:46.521Z"
   },
   {
    "duration": 15,
    "start_time": "2023-04-04T14:09:19.872Z"
   },
   {
    "duration": 17,
    "start_time": "2023-04-04T14:09:33.304Z"
   },
   {
    "duration": 29,
    "start_time": "2023-04-04T14:10:54.048Z"
   },
   {
    "duration": 43,
    "start_time": "2023-04-04T14:10:58.808Z"
   },
   {
    "duration": 51,
    "start_time": "2023-04-04T14:13:22.816Z"
   },
   {
    "duration": 129,
    "start_time": "2023-04-04T14:13:30.056Z"
   },
   {
    "duration": 43,
    "start_time": "2023-04-04T14:13:35.400Z"
   },
   {
    "duration": 65,
    "start_time": "2023-04-04T14:15:25.695Z"
   },
   {
    "duration": 15,
    "start_time": "2023-04-04T14:19:37.059Z"
   },
   {
    "duration": 18,
    "start_time": "2023-04-04T14:19:41.180Z"
   },
   {
    "duration": 19,
    "start_time": "2023-04-04T14:20:41.395Z"
   },
   {
    "duration": 5,
    "start_time": "2023-04-04T14:22:06.483Z"
   },
   {
    "duration": 4,
    "start_time": "2023-04-04T14:22:12.467Z"
   },
   {
    "duration": 26,
    "start_time": "2023-04-04T14:22:25.059Z"
   },
   {
    "duration": 23,
    "start_time": "2023-04-04T14:22:45.858Z"
   },
   {
    "duration": 13,
    "start_time": "2023-04-04T14:23:18.962Z"
   },
   {
    "duration": 17,
    "start_time": "2023-04-04T14:23:36.186Z"
   },
   {
    "duration": 53,
    "start_time": "2023-04-04T14:25:14.450Z"
   },
   {
    "duration": 18,
    "start_time": "2023-04-04T14:28:02.618Z"
   },
   {
    "duration": 46,
    "start_time": "2023-04-04T14:28:17.253Z"
   },
   {
    "duration": 18,
    "start_time": "2023-04-04T14:28:28.858Z"
   },
   {
    "duration": 24,
    "start_time": "2023-04-04T14:28:47.155Z"
   },
   {
    "duration": 26,
    "start_time": "2023-04-04T14:28:51.266Z"
   },
   {
    "duration": 62,
    "start_time": "2023-04-04T14:29:57.938Z"
   },
   {
    "duration": 18,
    "start_time": "2023-04-04T14:30:01.862Z"
   },
   {
    "duration": 24,
    "start_time": "2023-04-04T14:30:15.806Z"
   },
   {
    "duration": 18,
    "start_time": "2023-04-04T14:32:40.685Z"
   },
   {
    "duration": 32,
    "start_time": "2023-04-04T14:33:15.884Z"
   },
   {
    "duration": 31,
    "start_time": "2023-04-04T14:33:50.541Z"
   },
   {
    "duration": 37,
    "start_time": "2023-04-04T14:34:10.022Z"
   },
   {
    "duration": 62,
    "start_time": "2023-04-04T14:34:15.631Z"
   },
   {
    "duration": 15,
    "start_time": "2023-04-04T14:36:45.036Z"
   },
   {
    "duration": 18,
    "start_time": "2023-04-04T14:38:47.157Z"
   },
   {
    "duration": 29,
    "start_time": "2023-04-04T14:39:07.213Z"
   },
   {
    "duration": 40,
    "start_time": "2023-04-04T14:43:03.161Z"
   },
   {
    "duration": 33,
    "start_time": "2023-04-04T14:43:15.433Z"
   },
   {
    "duration": 114,
    "start_time": "2023-04-04T14:51:46.697Z"
   },
   {
    "duration": 139,
    "start_time": "2023-04-04T14:52:19.408Z"
   },
   {
    "duration": 148,
    "start_time": "2023-04-04T14:52:23.921Z"
   },
   {
    "duration": 151,
    "start_time": "2023-04-04T14:52:33.385Z"
   },
   {
    "duration": 52,
    "start_time": "2023-04-04T14:54:53.278Z"
   },
   {
    "duration": 543,
    "start_time": "2023-04-04T14:57:32.143Z"
   },
   {
    "duration": 36,
    "start_time": "2023-04-04T14:58:27.099Z"
   },
   {
    "duration": 12,
    "start_time": "2023-04-04T15:00:07.740Z"
   },
   {
    "duration": 16,
    "start_time": "2023-04-04T15:00:20.232Z"
   },
   {
    "duration": 13,
    "start_time": "2023-04-04T15:00:23.980Z"
   },
   {
    "duration": 66,
    "start_time": "2023-04-04T15:00:59.403Z"
   },
   {
    "duration": 20,
    "start_time": "2023-04-04T15:01:04.981Z"
   },
   {
    "duration": 20,
    "start_time": "2023-04-04T15:01:15.107Z"
   },
   {
    "duration": 13,
    "start_time": "2023-04-04T15:01:16.788Z"
   },
   {
    "duration": 85,
    "start_time": "2023-04-04T15:01:22.580Z"
   },
   {
    "duration": 21,
    "start_time": "2023-04-04T15:01:23.964Z"
   },
   {
    "duration": 15,
    "start_time": "2023-04-04T15:01:26.347Z"
   },
   {
    "duration": 61,
    "start_time": "2023-04-04T15:02:00.340Z"
   },
   {
    "duration": 27,
    "start_time": "2023-04-04T15:02:19.107Z"
   },
   {
    "duration": 16,
    "start_time": "2023-04-04T15:02:21.747Z"
   },
   {
    "duration": 65,
    "start_time": "2023-04-04T15:02:39.623Z"
   },
   {
    "duration": 21,
    "start_time": "2023-04-04T15:04:01.331Z"
   },
   {
    "duration": 22,
    "start_time": "2023-04-04T15:04:04.068Z"
   },
   {
    "duration": 16,
    "start_time": "2023-04-04T15:05:10.130Z"
   },
   {
    "duration": 21,
    "start_time": "2023-04-04T15:05:11.836Z"
   },
   {
    "duration": 17,
    "start_time": "2023-04-04T15:05:19.851Z"
   },
   {
    "duration": 17,
    "start_time": "2023-04-04T15:05:23.263Z"
   },
   {
    "duration": 14,
    "start_time": "2023-04-04T15:05:33.463Z"
   },
   {
    "duration": 17,
    "start_time": "2023-04-04T15:05:34.203Z"
   },
   {
    "duration": 71,
    "start_time": "2023-04-04T15:08:09.383Z"
   },
   {
    "duration": 16,
    "start_time": "2023-04-04T15:08:37.723Z"
   },
   {
    "duration": 19,
    "start_time": "2023-04-04T15:08:40.621Z"
   },
   {
    "duration": 41,
    "start_time": "2023-04-04T15:08:53.534Z"
   },
   {
    "duration": 136,
    "start_time": "2023-04-04T15:08:58.807Z"
   },
   {
    "duration": 16,
    "start_time": "2023-04-04T15:09:06.503Z"
   },
   {
    "duration": 16,
    "start_time": "2023-04-04T15:09:19.254Z"
   },
   {
    "duration": 15,
    "start_time": "2023-04-04T15:09:20.063Z"
   },
   {
    "duration": 1164,
    "start_time": "2023-04-04T15:10:53.399Z"
   },
   {
    "duration": 10,
    "start_time": "2023-04-04T15:11:34.065Z"
   },
   {
    "duration": 23,
    "start_time": "2023-04-04T15:12:26.863Z"
   },
   {
    "duration": 16,
    "start_time": "2023-04-04T15:12:30.280Z"
   },
   {
    "duration": 20,
    "start_time": "2023-04-04T15:12:51.209Z"
   },
   {
    "duration": 26,
    "start_time": "2023-04-04T15:14:32.476Z"
   },
   {
    "duration": 14,
    "start_time": "2023-04-04T15:14:36.655Z"
   },
   {
    "duration": 60,
    "start_time": "2023-04-04T15:26:17.062Z"
   },
   {
    "duration": 63,
    "start_time": "2023-04-04T15:26:20.990Z"
   },
   {
    "duration": 59,
    "start_time": "2023-04-04T15:26:41.654Z"
   },
   {
    "duration": 12,
    "start_time": "2023-04-04T15:26:51.058Z"
   },
   {
    "duration": 1712,
    "start_time": "2023-04-04T15:32:22.067Z"
   },
   {
    "duration": 249,
    "start_time": "2023-04-04T15:32:23.781Z"
   },
   {
    "duration": 16,
    "start_time": "2023-04-04T15:32:24.033Z"
   },
   {
    "duration": 41,
    "start_time": "2023-04-04T15:32:24.051Z"
   },
   {
    "duration": 11,
    "start_time": "2023-04-04T15:32:24.094Z"
   },
   {
    "duration": 56,
    "start_time": "2023-04-04T15:32:24.106Z"
   },
   {
    "duration": 10,
    "start_time": "2023-04-04T15:32:24.165Z"
   },
   {
    "duration": 587,
    "start_time": "2023-04-04T15:32:24.177Z"
   },
   {
    "duration": 32,
    "start_time": "2023-04-04T15:32:24.766Z"
   },
   {
    "duration": 37,
    "start_time": "2023-04-04T15:32:24.817Z"
   },
   {
    "duration": 12,
    "start_time": "2023-04-04T15:32:24.855Z"
   },
   {
    "duration": 38,
    "start_time": "2023-04-04T15:32:24.869Z"
   },
   {
    "duration": 226,
    "start_time": "2023-04-04T15:32:24.909Z"
   },
   {
    "duration": 26,
    "start_time": "2023-04-04T15:32:25.138Z"
   },
   {
    "duration": 5,
    "start_time": "2023-04-04T15:32:25.166Z"
   },
   {
    "duration": 38,
    "start_time": "2023-04-04T15:32:25.173Z"
   },
   {
    "duration": 46,
    "start_time": "2023-04-04T15:32:25.213Z"
   },
   {
    "duration": 181,
    "start_time": "2023-04-04T15:32:25.261Z"
   },
   {
    "duration": 19,
    "start_time": "2023-04-04T15:32:25.445Z"
   },
   {
    "duration": 90,
    "start_time": "2023-04-04T15:32:25.466Z"
   },
   {
    "duration": 148,
    "start_time": "2023-04-04T15:32:25.558Z"
   },
   {
    "duration": 0,
    "start_time": "2023-04-04T15:32:25.708Z"
   },
   {
    "duration": 23,
    "start_time": "2023-04-04T15:33:20.678Z"
   },
   {
    "duration": 23,
    "start_time": "2023-04-04T15:33:41.062Z"
   },
   {
    "duration": 255697,
    "start_time": "2023-04-04T15:34:22.052Z"
   },
   {
    "duration": 468,
    "start_time": "2023-04-04T15:38:37.751Z"
   },
   {
    "duration": 15,
    "start_time": "2023-04-04T15:46:28.105Z"
   },
   {
    "duration": 174,
    "start_time": "2023-04-04T15:47:00.913Z"
   },
   {
    "duration": 26,
    "start_time": "2023-04-04T15:47:04.226Z"
   },
   {
    "duration": 444,
    "start_time": "2023-04-04T15:48:30.069Z"
   },
   {
    "duration": 291464,
    "start_time": "2023-04-04T15:59:25.092Z"
   },
   {
    "duration": 16,
    "start_time": "2023-04-04T16:07:11.520Z"
   },
   {
    "duration": 22,
    "start_time": "2023-04-04T16:07:28.607Z"
   },
   {
    "duration": 40,
    "start_time": "2023-04-04T16:09:42.664Z"
   },
   {
    "duration": 297109,
    "start_time": "2023-04-04T16:10:23.723Z"
   },
   {
    "duration": 59,
    "start_time": "2023-04-04T16:15:20.866Z"
   },
   {
    "duration": 31,
    "start_time": "2023-04-04T16:47:52.720Z"
   },
   {
    "duration": 7927,
    "start_time": "2023-04-04T16:47:55.013Z"
   },
   {
    "duration": 34,
    "start_time": "2023-04-04T16:49:35.920Z"
   },
   {
    "duration": 43,
    "start_time": "2023-04-04T16:49:41.593Z"
   },
   {
    "duration": 212,
    "start_time": "2023-04-04T16:49:46.173Z"
   },
   {
    "duration": 38,
    "start_time": "2023-04-04T16:50:29.610Z"
   },
   {
    "duration": 32,
    "start_time": "2023-04-04T16:50:44.808Z"
   },
   {
    "duration": 43,
    "start_time": "2023-04-04T16:51:33.549Z"
   },
   {
    "duration": 284,
    "start_time": "2023-04-04T16:51:35.380Z"
   },
   {
    "duration": 49,
    "start_time": "2023-04-04T16:51:43.912Z"
   },
   {
    "duration": 274,
    "start_time": "2023-04-04T16:51:45.205Z"
   },
   {
    "duration": 215,
    "start_time": "2023-04-04T16:52:16.356Z"
   },
   {
    "duration": 22,
    "start_time": "2023-04-04T16:55:12.641Z"
   },
   {
    "duration": 16,
    "start_time": "2023-04-04T16:55:37.320Z"
   },
   {
    "duration": 19,
    "start_time": "2023-04-04T16:55:42.992Z"
   },
   {
    "duration": 25,
    "start_time": "2023-04-04T16:56:06.697Z"
   },
   {
    "duration": 50,
    "start_time": "2023-04-04T16:56:22.032Z"
   },
   {
    "duration": 26,
    "start_time": "2023-04-04T16:56:38.256Z"
   },
   {
    "duration": 203,
    "start_time": "2023-04-04T16:56:54.208Z"
   },
   {
    "duration": 11,
    "start_time": "2023-04-04T17:52:57.830Z"
   },
   {
    "duration": 96,
    "start_time": "2023-04-04T17:54:53.132Z"
   },
   {
    "duration": 160,
    "start_time": "2023-04-04T17:56:25.787Z"
   },
   {
    "duration": 9,
    "start_time": "2023-04-04T17:58:33.315Z"
   },
   {
    "duration": 4,
    "start_time": "2023-04-04T17:58:42.620Z"
   },
   {
    "duration": 11,
    "start_time": "2023-04-04T17:58:48.297Z"
   },
   {
    "duration": 4,
    "start_time": "2023-04-04T17:58:52.544Z"
   },
   {
    "duration": 12,
    "start_time": "2023-04-04T18:00:19.931Z"
   },
   {
    "duration": 11,
    "start_time": "2023-04-04T18:00:21.987Z"
   },
   {
    "duration": 10,
    "start_time": "2023-04-04T18:00:30.893Z"
   },
   {
    "duration": 13,
    "start_time": "2023-04-04T18:00:51.260Z"
   },
   {
    "duration": 15,
    "start_time": "2023-04-04T18:00:57.193Z"
   },
   {
    "duration": 14,
    "start_time": "2023-04-04T18:01:51.940Z"
   },
   {
    "duration": 2412,
    "start_time": "2023-04-04T18:01:57.093Z"
   },
   {
    "duration": 2314,
    "start_time": "2023-04-04T18:02:15.431Z"
   },
   {
    "duration": 2328,
    "start_time": "2023-04-04T18:02:22.963Z"
   },
   {
    "duration": 1865,
    "start_time": "2023-04-04T18:05:03.563Z"
   },
   {
    "duration": 12,
    "start_time": "2023-04-04T18:05:23.103Z"
   },
   {
    "duration": 12,
    "start_time": "2023-04-04T18:05:23.933Z"
   },
   {
    "duration": 2175,
    "start_time": "2023-04-04T18:05:25.327Z"
   },
   {
    "duration": 12,
    "start_time": "2023-04-04T18:07:07.470Z"
   },
   {
    "duration": 34,
    "start_time": "2023-04-04T18:08:28.231Z"
   },
   {
    "duration": 56,
    "start_time": "2023-04-06T09:31:16.252Z"
   },
   {
    "duration": 1595,
    "start_time": "2023-04-06T09:31:23.264Z"
   },
   {
    "duration": 558,
    "start_time": "2023-04-06T09:31:24.861Z"
   },
   {
    "duration": 15,
    "start_time": "2023-04-06T09:31:25.420Z"
   },
   {
    "duration": 76,
    "start_time": "2023-04-06T09:31:25.437Z"
   },
   {
    "duration": 8,
    "start_time": "2023-04-06T09:31:25.515Z"
   },
   {
    "duration": 170,
    "start_time": "2023-04-06T09:31:25.524Z"
   },
   {
    "duration": 7,
    "start_time": "2023-04-06T09:31:25.695Z"
   },
   {
    "duration": 366,
    "start_time": "2023-04-06T09:31:25.703Z"
   },
   {
    "duration": 26,
    "start_time": "2023-04-06T09:31:26.070Z"
   },
   {
    "duration": 8,
    "start_time": "2023-04-06T09:31:26.099Z"
   },
   {
    "duration": 174,
    "start_time": "2023-04-06T09:31:26.109Z"
   },
   {
    "duration": 9,
    "start_time": "2023-04-06T09:31:26.284Z"
   },
   {
    "duration": 15,
    "start_time": "2023-04-06T09:31:26.294Z"
   },
   {
    "duration": 1817,
    "start_time": "2023-04-06T09:31:26.311Z"
   },
   {
    "duration": 126,
    "start_time": "2023-04-06T09:31:28.134Z"
   },
   {
    "duration": 0,
    "start_time": "2023-04-06T09:31:28.261Z"
   },
   {
    "duration": 0,
    "start_time": "2023-04-06T09:31:28.262Z"
   },
   {
    "duration": 0,
    "start_time": "2023-04-06T09:31:28.264Z"
   },
   {
    "duration": 0,
    "start_time": "2023-04-06T09:31:28.265Z"
   },
   {
    "duration": 0,
    "start_time": "2023-04-06T09:31:28.266Z"
   },
   {
    "duration": 0,
    "start_time": "2023-04-06T09:31:28.267Z"
   },
   {
    "duration": 0,
    "start_time": "2023-04-06T09:31:28.268Z"
   },
   {
    "duration": 0,
    "start_time": "2023-04-06T09:31:28.269Z"
   },
   {
    "duration": 0,
    "start_time": "2023-04-06T09:31:28.269Z"
   },
   {
    "duration": 0,
    "start_time": "2023-04-06T09:31:28.271Z"
   },
   {
    "duration": 0,
    "start_time": "2023-04-06T09:31:28.272Z"
   },
   {
    "duration": 0,
    "start_time": "2023-04-06T09:31:28.272Z"
   },
   {
    "duration": 0,
    "start_time": "2023-04-06T09:31:28.273Z"
   },
   {
    "duration": 0,
    "start_time": "2023-04-06T09:31:28.274Z"
   },
   {
    "duration": 10,
    "start_time": "2023-04-06T09:33:24.362Z"
   },
   {
    "duration": 113,
    "start_time": "2023-04-06T09:33:34.580Z"
   },
   {
    "duration": 90,
    "start_time": "2023-04-06T09:34:40.524Z"
   },
   {
    "duration": 8,
    "start_time": "2023-04-06T09:37:57.988Z"
   },
   {
    "duration": 87,
    "start_time": "2023-04-06T09:37:59.151Z"
   },
   {
    "duration": 9,
    "start_time": "2023-04-06T09:38:06.187Z"
   },
   {
    "duration": 63,
    "start_time": "2023-04-06T09:38:08.972Z"
   },
   {
    "duration": 189,
    "start_time": "2023-04-06T09:38:10.775Z"
   },
   {
    "duration": 175,
    "start_time": "2023-04-06T09:39:27.191Z"
   },
   {
    "duration": 3,
    "start_time": "2023-04-06T09:39:31.883Z"
   },
   {
    "duration": 13,
    "start_time": "2023-04-06T09:39:39.102Z"
   },
   {
    "duration": 15,
    "start_time": "2023-04-06T09:40:32.323Z"
   },
   {
    "duration": 107,
    "start_time": "2023-04-06T09:41:11.163Z"
   },
   {
    "duration": 10,
    "start_time": "2023-04-06T09:41:19.164Z"
   },
   {
    "duration": 1751,
    "start_time": "2023-04-06T09:42:35.815Z"
   },
   {
    "duration": 1696,
    "start_time": "2023-04-06T09:42:47.990Z"
   },
   {
    "duration": 1583,
    "start_time": "2023-04-06T09:43:08.175Z"
   },
   {
    "duration": 1791,
    "start_time": "2023-04-06T09:43:48.962Z"
   },
   {
    "duration": 37,
    "start_time": "2023-04-06T09:44:34.162Z"
   },
   {
    "duration": 22,
    "start_time": "2023-04-06T09:45:49.208Z"
   },
   {
    "duration": 85,
    "start_time": "2023-04-06T09:47:59.075Z"
   },
   {
    "duration": 19,
    "start_time": "2023-04-06T09:48:03.515Z"
   },
   {
    "duration": 24,
    "start_time": "2023-04-06T09:48:09.404Z"
   },
   {
    "duration": 14,
    "start_time": "2023-04-06T09:49:57.379Z"
   },
   {
    "duration": 14,
    "start_time": "2023-04-06T09:50:41.712Z"
   },
   {
    "duration": 38,
    "start_time": "2023-04-06T09:50:45.507Z"
   },
   {
    "duration": 52,
    "start_time": "2023-04-06T09:51:46.602Z"
   },
   {
    "duration": 24,
    "start_time": "2023-04-06T09:51:48.867Z"
   },
   {
    "duration": 35,
    "start_time": "2023-04-06T09:51:54.067Z"
   },
   {
    "duration": 22,
    "start_time": "2023-04-06T09:52:08.979Z"
   },
   {
    "duration": 34,
    "start_time": "2023-04-06T09:52:10.268Z"
   },
   {
    "duration": 22,
    "start_time": "2023-04-06T09:52:19.407Z"
   },
   {
    "duration": 18,
    "start_time": "2023-04-06T09:52:22.531Z"
   },
   {
    "duration": 22,
    "start_time": "2023-04-06T09:52:56.015Z"
   },
   {
    "duration": 20,
    "start_time": "2023-04-06T09:52:57.262Z"
   },
   {
    "duration": 19,
    "start_time": "2023-04-06T09:52:58.963Z"
   },
   {
    "duration": 17,
    "start_time": "2023-04-06T09:52:59.671Z"
   },
   {
    "duration": 21,
    "start_time": "2023-04-06T09:53:03.967Z"
   },
   {
    "duration": 32,
    "start_time": "2023-04-06T09:53:07.748Z"
   },
   {
    "duration": 10,
    "start_time": "2023-04-06T09:53:34.112Z"
   },
   {
    "duration": 20,
    "start_time": "2023-04-06T09:53:37.591Z"
   },
   {
    "duration": 1591,
    "start_time": "2023-04-06T09:53:41.179Z"
   },
   {
    "duration": 14,
    "start_time": "2023-04-06T09:53:49.074Z"
   },
   {
    "duration": 12,
    "start_time": "2023-04-06T09:53:51.081Z"
   },
   {
    "duration": 1575,
    "start_time": "2023-04-06T09:54:05.218Z"
   },
   {
    "duration": 210,
    "start_time": "2023-04-06T09:54:06.795Z"
   },
   {
    "duration": 12,
    "start_time": "2023-04-06T09:54:07.006Z"
   },
   {
    "duration": 15,
    "start_time": "2023-04-06T09:54:07.020Z"
   },
   {
    "duration": 8,
    "start_time": "2023-04-06T09:54:07.036Z"
   },
   {
    "duration": 32,
    "start_time": "2023-04-06T09:54:07.045Z"
   },
   {
    "duration": 6,
    "start_time": "2023-04-06T09:54:07.079Z"
   },
   {
    "duration": 374,
    "start_time": "2023-04-06T09:54:07.087Z"
   },
   {
    "duration": 26,
    "start_time": "2023-04-06T09:54:07.462Z"
   },
   {
    "duration": 6,
    "start_time": "2023-04-06T09:54:07.491Z"
   },
   {
    "duration": 93,
    "start_time": "2023-04-06T09:54:07.498Z"
   },
   {
    "duration": 194,
    "start_time": "2023-04-06T09:54:07.592Z"
   },
   {
    "duration": 13,
    "start_time": "2023-04-06T09:54:07.788Z"
   },
   {
    "duration": 13,
    "start_time": "2023-04-06T09:54:07.802Z"
   },
   {
    "duration": 279,
    "start_time": "2023-04-06T09:54:07.816Z"
   },
   {
    "duration": 0,
    "start_time": "2023-04-06T09:54:08.097Z"
   },
   {
    "duration": 0,
    "start_time": "2023-04-06T09:54:08.099Z"
   },
   {
    "duration": 0,
    "start_time": "2023-04-06T09:54:08.100Z"
   },
   {
    "duration": 0,
    "start_time": "2023-04-06T09:54:08.102Z"
   },
   {
    "duration": 0,
    "start_time": "2023-04-06T09:54:08.103Z"
   },
   {
    "duration": 0,
    "start_time": "2023-04-06T09:54:08.105Z"
   },
   {
    "duration": 0,
    "start_time": "2023-04-06T09:54:08.106Z"
   },
   {
    "duration": 0,
    "start_time": "2023-04-06T09:54:08.108Z"
   },
   {
    "duration": 0,
    "start_time": "2023-04-06T09:54:08.109Z"
   },
   {
    "duration": 0,
    "start_time": "2023-04-06T09:54:08.134Z"
   },
   {
    "duration": 0,
    "start_time": "2023-04-06T09:54:08.135Z"
   },
   {
    "duration": 0,
    "start_time": "2023-04-06T09:54:08.137Z"
   },
   {
    "duration": 0,
    "start_time": "2023-04-06T09:54:08.138Z"
   },
   {
    "duration": 0,
    "start_time": "2023-04-06T09:54:08.140Z"
   },
   {
    "duration": 0,
    "start_time": "2023-04-06T09:54:08.141Z"
   },
   {
    "duration": 95,
    "start_time": "2023-04-06T09:54:37.587Z"
   },
   {
    "duration": 1759,
    "start_time": "2023-04-06T09:54:53.491Z"
   },
   {
    "duration": 24,
    "start_time": "2023-04-06T09:54:56.551Z"
   },
   {
    "duration": 24,
    "start_time": "2023-04-06T09:55:14.904Z"
   },
   {
    "duration": 22,
    "start_time": "2023-04-06T09:55:32.711Z"
   },
   {
    "duration": 22,
    "start_time": "2023-04-06T09:55:37.191Z"
   },
   {
    "duration": 16,
    "start_time": "2023-04-06T09:56:13.331Z"
   },
   {
    "duration": 15,
    "start_time": "2023-04-06T10:00:59.043Z"
   },
   {
    "duration": 14,
    "start_time": "2023-04-06T10:01:16.750Z"
   },
   {
    "duration": 14,
    "start_time": "2023-04-06T10:01:27.574Z"
   },
   {
    "duration": 13,
    "start_time": "2023-04-06T10:01:32.855Z"
   },
   {
    "duration": 26,
    "start_time": "2023-04-06T10:01:39.821Z"
   },
   {
    "duration": 28,
    "start_time": "2023-04-06T10:01:49.695Z"
   },
   {
    "duration": 21,
    "start_time": "2023-04-06T10:02:38.191Z"
   },
   {
    "duration": 30,
    "start_time": "2023-04-06T10:02:42.319Z"
   },
   {
    "duration": 38,
    "start_time": "2023-04-06T10:02:48.759Z"
   },
   {
    "duration": 16,
    "start_time": "2023-04-06T10:03:24.899Z"
   },
   {
    "duration": 259,
    "start_time": "2023-04-06T10:03:43.155Z"
   },
   {
    "duration": 1997,
    "start_time": "2023-04-06T10:04:05.102Z"
   },
   {
    "duration": 1909,
    "start_time": "2023-04-06T10:04:58.975Z"
   },
   {
    "duration": 1334,
    "start_time": "2023-04-06T10:06:13.150Z"
   },
   {
    "duration": 249,
    "start_time": "2023-04-06T10:06:14.486Z"
   },
   {
    "duration": 13,
    "start_time": "2023-04-06T10:06:14.737Z"
   },
   {
    "duration": 19,
    "start_time": "2023-04-06T10:06:14.752Z"
   },
   {
    "duration": 7,
    "start_time": "2023-04-06T10:06:14.772Z"
   },
   {
    "duration": 46,
    "start_time": "2023-04-06T10:06:14.781Z"
   },
   {
    "duration": 6,
    "start_time": "2023-04-06T10:06:14.829Z"
   },
   {
    "duration": 387,
    "start_time": "2023-04-06T10:06:14.837Z"
   },
   {
    "duration": 26,
    "start_time": "2023-04-06T10:06:15.234Z"
   },
   {
    "duration": 7,
    "start_time": "2023-04-06T10:06:15.263Z"
   },
   {
    "duration": 87,
    "start_time": "2023-04-06T10:06:15.271Z"
   },
   {
    "duration": 310,
    "start_time": "2023-04-06T10:06:15.360Z"
   },
   {
    "duration": 0,
    "start_time": "2023-04-06T10:06:15.672Z"
   },
   {
    "duration": 0,
    "start_time": "2023-04-06T10:06:15.674Z"
   },
   {
    "duration": 0,
    "start_time": "2023-04-06T10:06:15.675Z"
   },
   {
    "duration": 0,
    "start_time": "2023-04-06T10:06:15.676Z"
   },
   {
    "duration": 0,
    "start_time": "2023-04-06T10:06:15.677Z"
   },
   {
    "duration": 0,
    "start_time": "2023-04-06T10:06:15.678Z"
   },
   {
    "duration": 0,
    "start_time": "2023-04-06T10:06:15.679Z"
   },
   {
    "duration": 0,
    "start_time": "2023-04-06T10:06:15.680Z"
   },
   {
    "duration": 0,
    "start_time": "2023-04-06T10:06:15.681Z"
   },
   {
    "duration": 0,
    "start_time": "2023-04-06T10:06:15.682Z"
   },
   {
    "duration": 0,
    "start_time": "2023-04-06T10:06:15.683Z"
   },
   {
    "duration": 0,
    "start_time": "2023-04-06T10:06:15.684Z"
   },
   {
    "duration": 0,
    "start_time": "2023-04-06T10:06:15.685Z"
   },
   {
    "duration": 0,
    "start_time": "2023-04-06T10:06:15.686Z"
   },
   {
    "duration": 0,
    "start_time": "2023-04-06T10:06:15.687Z"
   },
   {
    "duration": 0,
    "start_time": "2023-04-06T10:06:15.688Z"
   },
   {
    "duration": 0,
    "start_time": "2023-04-06T10:06:15.689Z"
   },
   {
    "duration": 0,
    "start_time": "2023-04-06T10:06:15.690Z"
   },
   {
    "duration": 0,
    "start_time": "2023-04-06T10:06:15.691Z"
   },
   {
    "duration": 0,
    "start_time": "2023-04-06T10:06:15.692Z"
   },
   {
    "duration": 174,
    "start_time": "2023-04-06T10:06:36.776Z"
   },
   {
    "duration": 2196,
    "start_time": "2023-04-06T10:06:59.599Z"
   },
   {
    "duration": 2040,
    "start_time": "2023-04-06T10:08:07.208Z"
   },
   {
    "duration": 1968,
    "start_time": "2023-04-06T10:09:08.920Z"
   },
   {
    "duration": 2075,
    "start_time": "2023-04-06T10:09:41.376Z"
   },
   {
    "duration": 2157,
    "start_time": "2023-04-06T10:09:57.558Z"
   },
   {
    "duration": 2130,
    "start_time": "2023-04-06T10:10:41.727Z"
   },
   {
    "duration": 2039,
    "start_time": "2023-04-06T10:11:17.028Z"
   },
   {
    "duration": 2267,
    "start_time": "2023-04-06T10:11:53.680Z"
   },
   {
    "duration": 2167,
    "start_time": "2023-04-06T10:12:43.807Z"
   },
   {
    "duration": 2010,
    "start_time": "2023-04-06T10:13:05.351Z"
   },
   {
    "duration": 2178,
    "start_time": "2023-04-06T10:13:56.404Z"
   },
   {
    "duration": 1938,
    "start_time": "2023-04-06T10:14:02.142Z"
   },
   {
    "duration": 13,
    "start_time": "2023-04-06T10:14:54.235Z"
   },
   {
    "duration": 2319,
    "start_time": "2023-04-06T10:15:28.685Z"
   },
   {
    "duration": 1332,
    "start_time": "2023-04-06T10:15:41.441Z"
   },
   {
    "duration": 206,
    "start_time": "2023-04-06T10:15:42.775Z"
   },
   {
    "duration": 15,
    "start_time": "2023-04-06T10:15:42.983Z"
   },
   {
    "duration": 16,
    "start_time": "2023-04-06T10:15:43.001Z"
   },
   {
    "duration": 16,
    "start_time": "2023-04-06T10:15:43.018Z"
   },
   {
    "duration": 37,
    "start_time": "2023-04-06T10:15:43.035Z"
   },
   {
    "duration": 7,
    "start_time": "2023-04-06T10:15:43.073Z"
   },
   {
    "duration": 403,
    "start_time": "2023-04-06T10:15:43.081Z"
   },
   {
    "duration": 27,
    "start_time": "2023-04-06T10:15:43.486Z"
   },
   {
    "duration": 26,
    "start_time": "2023-04-06T10:15:43.515Z"
   },
   {
    "duration": 77,
    "start_time": "2023-04-06T10:15:43.542Z"
   },
   {
    "duration": 2198,
    "start_time": "2023-04-06T10:15:43.621Z"
   },
   {
    "duration": 190,
    "start_time": "2023-04-06T10:15:45.821Z"
   },
   {
    "duration": 23,
    "start_time": "2023-04-06T10:15:46.012Z"
   },
   {
    "duration": 20,
    "start_time": "2023-04-06T10:15:46.036Z"
   },
   {
    "duration": 1964,
    "start_time": "2023-04-06T10:15:46.058Z"
   },
   {
    "duration": 22,
    "start_time": "2023-04-06T10:15:48.024Z"
   },
   {
    "duration": 35,
    "start_time": "2023-04-06T10:15:48.048Z"
   },
   {
    "duration": 5,
    "start_time": "2023-04-06T10:15:48.085Z"
   },
   {
    "duration": 34,
    "start_time": "2023-04-06T10:15:48.091Z"
   },
   {
    "duration": 157,
    "start_time": "2023-04-06T10:15:48.126Z"
   },
   {
    "duration": 23,
    "start_time": "2023-04-06T10:15:48.284Z"
   },
   {
    "duration": 3,
    "start_time": "2023-04-06T10:15:48.309Z"
   },
   {
    "duration": 29,
    "start_time": "2023-04-06T10:15:48.313Z"
   },
   {
    "duration": 15,
    "start_time": "2023-04-06T10:15:48.344Z"
   },
   {
    "duration": 166,
    "start_time": "2023-04-06T10:15:48.361Z"
   },
   {
    "duration": 21,
    "start_time": "2023-04-06T10:15:48.528Z"
   },
   {
    "duration": 108,
    "start_time": "2023-04-06T10:15:48.552Z"
   },
   {
    "duration": 29,
    "start_time": "2023-04-06T10:15:48.662Z"
   },
   {
    "duration": 219,
    "start_time": "2023-04-06T10:15:48.692Z"
   },
   {
    "duration": 27,
    "start_time": "2023-04-06T10:15:48.912Z"
   },
   {
    "duration": 271,
    "start_time": "2023-04-06T10:15:48.941Z"
   },
   {
    "duration": 171,
    "start_time": "2023-04-06T10:17:15.810Z"
   },
   {
    "duration": 6,
    "start_time": "2023-04-06T10:17:16.805Z"
   },
   {
    "duration": 1854,
    "start_time": "2023-04-06T10:17:17.521Z"
   },
   {
    "duration": 38,
    "start_time": "2023-04-06T10:17:19.377Z"
   },
   {
    "duration": 123,
    "start_time": "2023-04-06T10:17:49.546Z"
   },
   {
    "duration": 40,
    "start_time": "2023-04-06T10:17:52.122Z"
   },
   {
    "duration": 1355,
    "start_time": "2023-04-06T10:18:07.757Z"
   },
   {
    "duration": 216,
    "start_time": "2023-04-06T10:18:09.114Z"
   },
   {
    "duration": 13,
    "start_time": "2023-04-06T10:18:09.332Z"
   },
   {
    "duration": 15,
    "start_time": "2023-04-06T10:18:09.348Z"
   },
   {
    "duration": 8,
    "start_time": "2023-04-06T10:18:09.364Z"
   },
   {
    "duration": 31,
    "start_time": "2023-04-06T10:18:09.374Z"
   },
   {
    "duration": 6,
    "start_time": "2023-04-06T10:18:09.406Z"
   },
   {
    "duration": 398,
    "start_time": "2023-04-06T10:18:09.414Z"
   },
   {
    "duration": 39,
    "start_time": "2023-04-06T10:18:09.813Z"
   },
   {
    "duration": 6,
    "start_time": "2023-04-06T10:18:09.855Z"
   },
   {
    "duration": 78,
    "start_time": "2023-04-06T10:18:09.862Z"
   },
   {
    "duration": 189,
    "start_time": "2023-04-06T10:18:09.941Z"
   },
   {
    "duration": 4,
    "start_time": "2023-04-06T10:18:10.132Z"
   },
   {
    "duration": 2001,
    "start_time": "2023-04-06T10:18:10.138Z"
   },
   {
    "duration": 42,
    "start_time": "2023-04-06T10:18:12.140Z"
   },
   {
    "duration": 7,
    "start_time": "2023-04-06T10:18:12.184Z"
   },
   {
    "duration": 16,
    "start_time": "2023-04-06T10:18:12.193Z"
   },
   {
    "duration": 159,
    "start_time": "2023-04-06T10:18:12.211Z"
   },
   {
    "duration": 23,
    "start_time": "2023-04-06T10:18:12.371Z"
   },
   {
    "duration": 3,
    "start_time": "2023-04-06T10:18:12.396Z"
   },
   {
    "duration": 15,
    "start_time": "2023-04-06T10:18:12.401Z"
   },
   {
    "duration": 12,
    "start_time": "2023-04-06T10:18:12.435Z"
   },
   {
    "duration": 146,
    "start_time": "2023-04-06T10:18:12.448Z"
   },
   {
    "duration": 17,
    "start_time": "2023-04-06T10:18:12.595Z"
   },
   {
    "duration": 105,
    "start_time": "2023-04-06T10:18:12.613Z"
   },
   {
    "duration": 35,
    "start_time": "2023-04-06T10:18:12.719Z"
   },
   {
    "duration": 192,
    "start_time": "2023-04-06T10:18:12.756Z"
   },
   {
    "duration": 17,
    "start_time": "2023-04-06T10:18:12.951Z"
   },
   {
    "duration": 194,
    "start_time": "2023-04-06T10:18:12.970Z"
   },
   {
    "duration": 15,
    "start_time": "2023-04-06T10:20:08.945Z"
   },
   {
    "duration": 1283,
    "start_time": "2023-04-06T10:22:02.900Z"
   },
   {
    "duration": 215,
    "start_time": "2023-04-06T10:22:04.185Z"
   },
   {
    "duration": 12,
    "start_time": "2023-04-06T10:22:04.402Z"
   },
   {
    "duration": 15,
    "start_time": "2023-04-06T10:22:04.416Z"
   },
   {
    "duration": 18,
    "start_time": "2023-04-06T10:22:04.432Z"
   },
   {
    "duration": 49,
    "start_time": "2023-04-06T10:22:04.451Z"
   },
   {
    "duration": 8,
    "start_time": "2023-04-06T10:22:04.501Z"
   },
   {
    "duration": 447,
    "start_time": "2023-04-06T10:22:04.511Z"
   },
   {
    "duration": 34,
    "start_time": "2023-04-06T10:22:04.960Z"
   },
   {
    "duration": 148,
    "start_time": "2023-04-06T10:22:04.998Z"
   },
   {
    "duration": 88,
    "start_time": "2023-04-06T10:22:05.148Z"
   },
   {
    "duration": 205,
    "start_time": "2023-04-06T10:22:05.237Z"
   },
   {
    "duration": 4,
    "start_time": "2023-04-06T10:22:05.445Z"
   },
   {
    "duration": 1888,
    "start_time": "2023-04-06T10:22:05.451Z"
   },
   {
    "duration": 118,
    "start_time": "2023-04-06T10:22:07.341Z"
   },
   {
    "duration": 0,
    "start_time": "2023-04-06T10:22:07.461Z"
   },
   {
    "duration": 0,
    "start_time": "2023-04-06T10:22:07.462Z"
   },
   {
    "duration": 0,
    "start_time": "2023-04-06T10:22:07.464Z"
   },
   {
    "duration": 0,
    "start_time": "2023-04-06T10:22:07.465Z"
   },
   {
    "duration": 0,
    "start_time": "2023-04-06T10:22:07.467Z"
   },
   {
    "duration": 0,
    "start_time": "2023-04-06T10:22:07.468Z"
   },
   {
    "duration": 0,
    "start_time": "2023-04-06T10:22:07.469Z"
   },
   {
    "duration": 0,
    "start_time": "2023-04-06T10:22:07.470Z"
   },
   {
    "duration": 0,
    "start_time": "2023-04-06T10:22:07.472Z"
   },
   {
    "duration": 0,
    "start_time": "2023-04-06T10:22:07.473Z"
   },
   {
    "duration": 0,
    "start_time": "2023-04-06T10:22:07.474Z"
   },
   {
    "duration": 0,
    "start_time": "2023-04-06T10:22:07.476Z"
   },
   {
    "duration": 0,
    "start_time": "2023-04-06T10:22:07.477Z"
   },
   {
    "duration": 0,
    "start_time": "2023-04-06T10:22:07.478Z"
   },
   {
    "duration": 1343,
    "start_time": "2023-04-06T10:22:31.548Z"
   },
   {
    "duration": 208,
    "start_time": "2023-04-06T10:22:32.893Z"
   },
   {
    "duration": 16,
    "start_time": "2023-04-06T10:22:33.102Z"
   },
   {
    "duration": 16,
    "start_time": "2023-04-06T10:22:33.120Z"
   },
   {
    "duration": 14,
    "start_time": "2023-04-06T10:22:33.138Z"
   },
   {
    "duration": 45,
    "start_time": "2023-04-06T10:22:33.153Z"
   },
   {
    "duration": 6,
    "start_time": "2023-04-06T10:22:33.200Z"
   },
   {
    "duration": 384,
    "start_time": "2023-04-06T10:22:33.207Z"
   },
   {
    "duration": 48,
    "start_time": "2023-04-06T10:22:33.592Z"
   },
   {
    "duration": 8,
    "start_time": "2023-04-06T10:22:33.643Z"
   },
   {
    "duration": 74,
    "start_time": "2023-04-06T10:22:33.652Z"
   },
   {
    "duration": 187,
    "start_time": "2023-04-06T10:22:33.734Z"
   },
   {
    "duration": 13,
    "start_time": "2023-04-06T10:22:33.922Z"
   },
   {
    "duration": 2075,
    "start_time": "2023-04-06T10:22:33.936Z"
   },
   {
    "duration": 42,
    "start_time": "2023-04-06T10:22:36.012Z"
   },
   {
    "duration": 5,
    "start_time": "2023-04-06T10:22:36.056Z"
   },
   {
    "duration": 31,
    "start_time": "2023-04-06T10:22:36.063Z"
   },
   {
    "duration": 161,
    "start_time": "2023-04-06T10:22:36.096Z"
   },
   {
    "duration": 27,
    "start_time": "2023-04-06T10:22:36.259Z"
   },
   {
    "duration": 3,
    "start_time": "2023-04-06T10:22:36.287Z"
   },
   {
    "duration": 28,
    "start_time": "2023-04-06T10:22:36.291Z"
   },
   {
    "duration": 22,
    "start_time": "2023-04-06T10:22:36.320Z"
   },
   {
    "duration": 144,
    "start_time": "2023-04-06T10:22:36.343Z"
   },
   {
    "duration": 17,
    "start_time": "2023-04-06T10:22:36.489Z"
   },
   {
    "duration": 96,
    "start_time": "2023-04-06T10:22:36.508Z"
   },
   {
    "duration": 37,
    "start_time": "2023-04-06T10:22:36.606Z"
   },
   {
    "duration": 180,
    "start_time": "2023-04-06T10:22:36.645Z"
   },
   {
    "duration": 16,
    "start_time": "2023-04-06T10:22:36.834Z"
   },
   {
    "duration": 176,
    "start_time": "2023-04-06T10:22:36.852Z"
   },
   {
    "duration": 128,
    "start_time": "2023-04-06T10:24:19.211Z"
   },
   {
    "duration": 15,
    "start_time": "2023-04-06T10:24:27.750Z"
   },
   {
    "duration": 22,
    "start_time": "2023-04-06T10:24:57.894Z"
   },
   {
    "duration": 23,
    "start_time": "2023-04-06T10:25:05.097Z"
   },
   {
    "duration": 22,
    "start_time": "2023-04-06T10:25:15.397Z"
   },
   {
    "duration": 23,
    "start_time": "2023-04-06T10:25:21.412Z"
   },
   {
    "duration": 18,
    "start_time": "2023-04-06T10:25:47.909Z"
   },
   {
    "duration": 142,
    "start_time": "2023-04-06T10:26:49.844Z"
   },
   {
    "duration": 233,
    "start_time": "2023-04-06T10:28:49.628Z"
   },
   {
    "duration": 199,
    "start_time": "2023-04-06T10:29:04.168Z"
   },
   {
    "duration": 181,
    "start_time": "2023-04-06T10:29:09.744Z"
   },
   {
    "duration": 16,
    "start_time": "2023-04-06T10:31:17.356Z"
   },
   {
    "duration": 148,
    "start_time": "2023-04-06T10:31:40.595Z"
   },
   {
    "duration": 218,
    "start_time": "2023-04-06T10:32:15.925Z"
   },
   {
    "duration": 139,
    "start_time": "2023-04-06T10:33:39.693Z"
   },
   {
    "duration": 149,
    "start_time": "2023-04-06T10:33:47.258Z"
   },
   {
    "duration": 141,
    "start_time": "2023-04-06T10:34:26.852Z"
   },
   {
    "duration": 157,
    "start_time": "2023-04-06T10:35:10.339Z"
   },
   {
    "duration": 148,
    "start_time": "2023-04-06T10:35:20.995Z"
   },
   {
    "duration": 172,
    "start_time": "2023-04-06T10:35:25.278Z"
   },
   {
    "duration": 159,
    "start_time": "2023-04-06T10:35:33.419Z"
   },
   {
    "duration": 151,
    "start_time": "2023-04-06T10:36:05.247Z"
   },
   {
    "duration": 15,
    "start_time": "2023-04-06T10:36:25.015Z"
   },
   {
    "duration": 2668,
    "start_time": "2023-04-06T10:37:02.704Z"
   },
   {
    "duration": 21,
    "start_time": "2023-04-06T10:37:17.159Z"
   },
   {
    "duration": 4089,
    "start_time": "2023-04-06T10:37:21.280Z"
   },
   {
    "duration": 22,
    "start_time": "2023-04-06T10:37:36.475Z"
   },
   {
    "duration": 17,
    "start_time": "2023-04-06T10:37:39.787Z"
   },
   {
    "duration": 17,
    "start_time": "2023-04-06T10:37:41.092Z"
   },
   {
    "duration": 17,
    "start_time": "2023-04-06T10:37:45.777Z"
   },
   {
    "duration": 16,
    "start_time": "2023-04-06T10:37:50.919Z"
   },
   {
    "duration": 15,
    "start_time": "2023-04-06T10:37:54.103Z"
   },
   {
    "duration": 163,
    "start_time": "2023-04-06T10:37:56.744Z"
   },
   {
    "duration": 1029,
    "start_time": "2023-04-06T10:37:58.127Z"
   },
   {
    "duration": 11,
    "start_time": "2023-04-06T10:38:52.170Z"
   },
   {
    "duration": 2710,
    "start_time": "2023-04-06T10:39:38.583Z"
   },
   {
    "duration": 18,
    "start_time": "2023-04-06T10:39:52.875Z"
   },
   {
    "duration": 151,
    "start_time": "2023-04-06T10:39:54.731Z"
   },
   {
    "duration": 1830,
    "start_time": "2023-04-06T10:39:55.800Z"
   },
   {
    "duration": 146,
    "start_time": "2023-04-06T10:40:08.191Z"
   },
   {
    "duration": 14,
    "start_time": "2023-04-06T10:44:33.103Z"
   },
   {
    "duration": 15,
    "start_time": "2023-04-06T10:44:40.922Z"
   },
   {
    "duration": 25,
    "start_time": "2023-04-06T10:45:23.539Z"
   },
   {
    "duration": 24,
    "start_time": "2023-04-06T10:47:48.755Z"
   },
   {
    "duration": 14,
    "start_time": "2023-04-06T10:48:38.154Z"
   },
   {
    "duration": 5,
    "start_time": "2023-04-06T10:49:34.386Z"
   },
   {
    "duration": 20,
    "start_time": "2023-04-06T10:52:34.814Z"
   },
   {
    "duration": 26,
    "start_time": "2023-04-06T10:53:16.386Z"
   },
   {
    "duration": 17,
    "start_time": "2023-04-06T10:53:22.219Z"
   },
   {
    "duration": 141,
    "start_time": "2023-04-06T10:53:57.067Z"
   },
   {
    "duration": 13,
    "start_time": "2023-04-06T10:58:44.030Z"
   },
   {
    "duration": 17,
    "start_time": "2023-04-06T10:58:54.814Z"
   },
   {
    "duration": 22,
    "start_time": "2023-04-06T10:59:22.454Z"
   },
   {
    "duration": 17,
    "start_time": "2023-04-06T11:01:19.789Z"
   },
   {
    "duration": 221,
    "start_time": "2023-04-06T11:02:40.445Z"
   },
   {
    "duration": 18,
    "start_time": "2023-04-06T11:13:56.792Z"
   },
   {
    "duration": 13,
    "start_time": "2023-04-06T11:14:06.544Z"
   },
   {
    "duration": 9,
    "start_time": "2023-04-06T11:14:19.900Z"
   },
   {
    "duration": 19,
    "start_time": "2023-04-06T11:14:23.573Z"
   },
   {
    "duration": 20,
    "start_time": "2023-04-06T11:14:24.794Z"
   },
   {
    "duration": 166,
    "start_time": "2023-04-06T11:14:25.689Z"
   },
   {
    "duration": 8,
    "start_time": "2023-04-06T11:15:13.552Z"
   },
   {
    "duration": 9,
    "start_time": "2023-04-06T11:19:19.095Z"
   },
   {
    "duration": 7,
    "start_time": "2023-04-06T11:19:42.556Z"
   },
   {
    "duration": 26,
    "start_time": "2023-04-06T11:20:03.740Z"
   },
   {
    "duration": 39,
    "start_time": "2023-04-06T11:20:08.253Z"
   },
   {
    "duration": 16,
    "start_time": "2023-04-06T11:22:43.832Z"
   },
   {
    "duration": 15,
    "start_time": "2023-04-06T11:23:16.717Z"
   },
   {
    "duration": 147,
    "start_time": "2023-04-06T11:23:32.164Z"
   },
   {
    "duration": 132,
    "start_time": "2023-04-06T11:23:38.311Z"
   },
   {
    "duration": 18,
    "start_time": "2023-04-06T11:26:11.680Z"
   },
   {
    "duration": 178,
    "start_time": "2023-04-06T11:26:16.958Z"
   },
   {
    "duration": 25,
    "start_time": "2023-04-06T11:29:58.640Z"
   },
   {
    "duration": 47,
    "start_time": "2023-04-06T11:30:00.535Z"
   },
   {
    "duration": 26,
    "start_time": "2023-04-06T11:30:05.792Z"
   },
   {
    "duration": 42,
    "start_time": "2023-04-06T11:30:07.141Z"
   },
   {
    "duration": 1437,
    "start_time": "2023-04-06T11:30:28.554Z"
   },
   {
    "duration": 232,
    "start_time": "2023-04-06T11:30:29.992Z"
   },
   {
    "duration": 25,
    "start_time": "2023-04-06T11:30:30.225Z"
   },
   {
    "duration": 16,
    "start_time": "2023-04-06T11:30:30.252Z"
   },
   {
    "duration": 10,
    "start_time": "2023-04-06T11:30:30.270Z"
   },
   {
    "duration": 58,
    "start_time": "2023-04-06T11:30:30.282Z"
   },
   {
    "duration": 8,
    "start_time": "2023-04-06T11:30:30.342Z"
   },
   {
    "duration": 494,
    "start_time": "2023-04-06T11:30:30.351Z"
   },
   {
    "duration": 27,
    "start_time": "2023-04-06T11:30:30.847Z"
   },
   {
    "duration": 44,
    "start_time": "2023-04-06T11:30:30.877Z"
   },
   {
    "duration": 104,
    "start_time": "2023-04-06T11:30:30.922Z"
   },
   {
    "duration": 232,
    "start_time": "2023-04-06T11:30:31.028Z"
   },
   {
    "duration": 5,
    "start_time": "2023-04-06T11:30:31.261Z"
   },
   {
    "duration": 2072,
    "start_time": "2023-04-06T11:30:31.267Z"
   },
   {
    "duration": 40,
    "start_time": "2023-04-06T11:30:33.341Z"
   },
   {
    "duration": 5,
    "start_time": "2023-04-06T11:30:33.382Z"
   },
   {
    "duration": 18,
    "start_time": "2023-04-06T11:30:33.389Z"
   },
   {
    "duration": 29,
    "start_time": "2023-04-06T11:30:33.408Z"
   },
   {
    "duration": 161,
    "start_time": "2023-04-06T11:30:33.439Z"
   },
   {
    "duration": 151,
    "start_time": "2023-04-06T11:30:33.602Z"
   },
   {
    "duration": 9,
    "start_time": "2023-04-06T11:30:33.756Z"
   },
   {
    "duration": 18,
    "start_time": "2023-04-06T11:30:33.766Z"
   },
   {
    "duration": 15,
    "start_time": "2023-04-06T11:30:33.785Z"
   },
   {
    "duration": 162,
    "start_time": "2023-04-06T11:30:33.801Z"
   },
   {
    "duration": 7,
    "start_time": "2023-04-06T11:30:33.965Z"
   },
   {
    "duration": 30,
    "start_time": "2023-04-06T11:30:33.973Z"
   },
   {
    "duration": 15,
    "start_time": "2023-04-06T11:30:34.005Z"
   },
   {
    "duration": 140,
    "start_time": "2023-04-06T11:30:34.023Z"
   },
   {
    "duration": 8,
    "start_time": "2023-04-06T11:30:34.164Z"
   },
   {
    "duration": 20,
    "start_time": "2023-04-06T11:30:34.174Z"
   },
   {
    "duration": 15,
    "start_time": "2023-04-06T11:30:34.195Z"
   },
   {
    "duration": 149,
    "start_time": "2023-04-06T11:30:34.211Z"
   },
   {
    "duration": 101,
    "start_time": "2023-04-06T11:30:34.361Z"
   },
   {
    "duration": 25,
    "start_time": "2023-04-06T11:30:34.464Z"
   },
   {
    "duration": 227,
    "start_time": "2023-04-06T11:30:34.490Z"
   },
   {
    "duration": 33,
    "start_time": "2023-04-06T11:30:34.719Z"
   },
   {
    "duration": 220,
    "start_time": "2023-04-06T11:30:34.753Z"
   },
   {
    "duration": 2,
    "start_time": "2023-04-06T11:30:34.974Z"
   },
   {
    "duration": 1429,
    "start_time": "2023-04-06T11:38:48.046Z"
   },
   {
    "duration": 37,
    "start_time": "2023-04-06T11:38:54.167Z"
   },
   {
    "duration": 63,
    "start_time": "2023-04-06T11:40:35.414Z"
   },
   {
    "duration": 85,
    "start_time": "2023-04-06T11:43:34.462Z"
   },
   {
    "duration": 154,
    "start_time": "2023-04-06T11:44:08.790Z"
   },
   {
    "duration": 110,
    "start_time": "2023-04-06T11:44:10.754Z"
   },
   {
    "duration": 13,
    "start_time": "2023-04-06T11:44:14.390Z"
   },
   {
    "duration": 49,
    "start_time": "2023-04-06T11:44:25.586Z"
   },
   {
    "duration": 4,
    "start_time": "2023-04-06T11:44:26.098Z"
   },
   {
    "duration": 5,
    "start_time": "2023-04-06T11:44:28.353Z"
   },
   {
    "duration": 187,
    "start_time": "2023-04-06T11:44:34.822Z"
   },
   {
    "duration": 15,
    "start_time": "2023-04-06T11:44:35.266Z"
   },
   {
    "duration": 138,
    "start_time": "2023-04-06T11:45:10.702Z"
   },
   {
    "duration": 13,
    "start_time": "2023-04-06T11:45:14.362Z"
   },
   {
    "duration": 162,
    "start_time": "2023-04-06T11:45:16.938Z"
   },
   {
    "duration": 15,
    "start_time": "2023-04-06T11:45:17.393Z"
   },
   {
    "duration": 57,
    "start_time": "2023-04-06T11:45:26.277Z"
   },
   {
    "duration": 110,
    "start_time": "2023-04-06T11:45:40.988Z"
   },
   {
    "duration": 15,
    "start_time": "2023-04-06T11:45:43.514Z"
   },
   {
    "duration": 44,
    "start_time": "2023-04-06T11:45:56.902Z"
   },
   {
    "duration": 15,
    "start_time": "2023-04-06T11:45:57.418Z"
   },
   {
    "duration": 47,
    "start_time": "2023-04-06T11:46:16.434Z"
   },
   {
    "duration": 21,
    "start_time": "2023-04-06T11:46:17.306Z"
   },
   {
    "duration": 106,
    "start_time": "2023-04-06T11:47:03.925Z"
   },
   {
    "duration": 15,
    "start_time": "2023-04-06T11:47:04.404Z"
   },
   {
    "duration": 70,
    "start_time": "2023-04-06T11:48:13.969Z"
   },
   {
    "duration": 15,
    "start_time": "2023-04-06T11:48:24.394Z"
   },
   {
    "duration": 13,
    "start_time": "2023-04-06T11:48:32.465Z"
   },
   {
    "duration": 12,
    "start_time": "2023-04-06T11:48:37.361Z"
   },
   {
    "duration": 12,
    "start_time": "2023-04-06T11:48:38.194Z"
   },
   {
    "duration": 13,
    "start_time": "2023-04-06T11:48:38.873Z"
   },
   {
    "duration": 12,
    "start_time": "2023-04-06T11:48:39.578Z"
   },
   {
    "duration": 8,
    "start_time": "2023-04-06T11:48:54.570Z"
   },
   {
    "duration": 19,
    "start_time": "2023-04-06T11:48:58.753Z"
   },
   {
    "duration": 82,
    "start_time": "2023-04-06T11:49:13.164Z"
   },
   {
    "duration": 16,
    "start_time": "2023-04-06T11:49:13.676Z"
   },
   {
    "duration": 3,
    "start_time": "2023-04-06T11:51:28.154Z"
   },
   {
    "duration": 21,
    "start_time": "2023-04-06T11:51:31.921Z"
   },
   {
    "duration": 17,
    "start_time": "2023-04-06T11:51:40.833Z"
   },
   {
    "duration": 15,
    "start_time": "2023-04-06T11:54:21.041Z"
   },
   {
    "duration": 21,
    "start_time": "2023-04-06T11:54:25.800Z"
   },
   {
    "duration": 18,
    "start_time": "2023-04-06T11:55:35.658Z"
   },
   {
    "duration": 19,
    "start_time": "2023-04-06T11:56:52.017Z"
   },
   {
    "duration": 255,
    "start_time": "2023-04-06T11:58:10.017Z"
   },
   {
    "duration": 510,
    "start_time": "2023-04-06T11:58:58.273Z"
   },
   {
    "duration": 441,
    "start_time": "2023-04-06T11:59:18.585Z"
   },
   {
    "duration": 323,
    "start_time": "2023-04-06T12:01:39.252Z"
   },
   {
    "duration": 256,
    "start_time": "2023-04-06T12:02:38.612Z"
   },
   {
    "duration": 318,
    "start_time": "2023-04-06T12:03:17.580Z"
   },
   {
    "duration": 182,
    "start_time": "2023-04-06T12:03:34.245Z"
   },
   {
    "duration": 256,
    "start_time": "2023-04-06T12:03:40.302Z"
   },
   {
    "duration": 340,
    "start_time": "2023-04-06T12:03:53.038Z"
   },
   {
    "duration": 15,
    "start_time": "2023-04-06T12:07:17.460Z"
   },
   {
    "duration": 21,
    "start_time": "2023-04-06T12:07:23.225Z"
   },
   {
    "duration": 189,
    "start_time": "2023-04-06T12:07:58.933Z"
   },
   {
    "duration": 297,
    "start_time": "2023-04-06T12:08:13.468Z"
   },
   {
    "duration": 333,
    "start_time": "2023-04-06T12:08:21.078Z"
   },
   {
    "duration": 267,
    "start_time": "2023-04-06T12:09:24.388Z"
   },
   {
    "duration": 21,
    "start_time": "2023-04-06T12:09:52.572Z"
   },
   {
    "duration": 617,
    "start_time": "2023-04-06T12:10:49.520Z"
   },
   {
    "duration": 746,
    "start_time": "2023-04-06T12:11:08.056Z"
   },
   {
    "duration": 202,
    "start_time": "2023-04-06T12:12:34.504Z"
   },
   {
    "duration": 182,
    "start_time": "2023-04-06T12:20:22.880Z"
   },
   {
    "duration": 227,
    "start_time": "2023-04-06T12:20:48.552Z"
   },
   {
    "duration": 211,
    "start_time": "2023-04-06T12:21:15.964Z"
   },
   {
    "duration": 247,
    "start_time": "2023-04-06T12:21:45.368Z"
   },
   {
    "duration": 236,
    "start_time": "2023-04-06T12:23:13.728Z"
   },
   {
    "duration": 249,
    "start_time": "2023-04-06T12:24:04.152Z"
   },
   {
    "duration": 247,
    "start_time": "2023-04-06T12:24:14.832Z"
   },
   {
    "duration": 260,
    "start_time": "2023-04-06T12:24:24.224Z"
   },
   {
    "duration": 257,
    "start_time": "2023-04-06T12:24:46.848Z"
   },
   {
    "duration": 268,
    "start_time": "2023-04-06T12:26:00.808Z"
   },
   {
    "duration": 12,
    "start_time": "2023-04-06T12:54:33.302Z"
   },
   {
    "duration": 11,
    "start_time": "2023-04-06T12:54:37.616Z"
   },
   {
    "duration": 9,
    "start_time": "2023-04-06T12:54:49.865Z"
   },
   {
    "duration": 5,
    "start_time": "2023-04-06T12:54:51.542Z"
   },
   {
    "duration": 5,
    "start_time": "2023-04-06T12:55:41.990Z"
   },
   {
    "duration": 5,
    "start_time": "2023-04-06T13:00:02.953Z"
   },
   {
    "duration": 5,
    "start_time": "2023-04-06T13:00:04.529Z"
   },
   {
    "duration": 3,
    "start_time": "2023-04-06T13:01:09.093Z"
   },
   {
    "duration": 11,
    "start_time": "2023-04-06T13:03:17.761Z"
   },
   {
    "duration": 11,
    "start_time": "2023-04-06T13:05:16.921Z"
   },
   {
    "duration": 10,
    "start_time": "2023-04-06T13:06:07.653Z"
   },
   {
    "duration": 11,
    "start_time": "2023-04-06T13:06:28.276Z"
   },
   {
    "duration": 11,
    "start_time": "2023-04-06T13:06:38.861Z"
   },
   {
    "duration": 15,
    "start_time": "2023-04-06T13:06:45.851Z"
   },
   {
    "duration": 214,
    "start_time": "2023-04-06T13:07:43.175Z"
   },
   {
    "duration": 10,
    "start_time": "2023-04-06T13:09:02.180Z"
   },
   {
    "duration": 11,
    "start_time": "2023-04-06T13:09:03.569Z"
   },
   {
    "duration": 11,
    "start_time": "2023-04-06T13:09:10.446Z"
   },
   {
    "duration": 8,
    "start_time": "2023-04-06T13:13:26.047Z"
   },
   {
    "duration": 256,
    "start_time": "2023-04-06T13:13:27.388Z"
   },
   {
    "duration": 10,
    "start_time": "2023-04-06T13:28:57.883Z"
   },
   {
    "duration": 4,
    "start_time": "2023-04-06T13:29:02.653Z"
   },
   {
    "duration": 8,
    "start_time": "2023-04-06T13:31:36.323Z"
   },
   {
    "duration": 147,
    "start_time": "2023-04-06T13:31:37.967Z"
   },
   {
    "duration": 11,
    "start_time": "2023-04-06T13:36:08.643Z"
   },
   {
    "duration": 10,
    "start_time": "2023-04-06T13:37:36.663Z"
   },
   {
    "duration": 120,
    "start_time": "2023-04-06T13:38:54.179Z"
   },
   {
    "duration": 35,
    "start_time": "2023-04-06T13:39:05.918Z"
   },
   {
    "duration": 38,
    "start_time": "2023-04-06T13:39:31.551Z"
   },
   {
    "duration": 10,
    "start_time": "2023-04-06T13:41:07.311Z"
   },
   {
    "duration": 9,
    "start_time": "2023-04-06T13:41:12.057Z"
   },
   {
    "duration": 5,
    "start_time": "2023-04-06T13:41:14.782Z"
   },
   {
    "duration": 9,
    "start_time": "2023-04-06T13:41:28.714Z"
   },
   {
    "duration": 9,
    "start_time": "2023-04-06T13:41:36.054Z"
   },
   {
    "duration": 33,
    "start_time": "2023-04-06T13:41:37.205Z"
   },
   {
    "duration": 8,
    "start_time": "2023-04-06T13:41:55.027Z"
   },
   {
    "duration": 5,
    "start_time": "2023-04-06T13:41:58.238Z"
   },
   {
    "duration": 11,
    "start_time": "2023-04-06T13:42:13.004Z"
   },
   {
    "duration": 11,
    "start_time": "2023-04-06T13:42:25.035Z"
   },
   {
    "duration": 11,
    "start_time": "2023-04-06T13:42:33.978Z"
   },
   {
    "duration": 8,
    "start_time": "2023-04-06T13:43:18.358Z"
   },
   {
    "duration": 33,
    "start_time": "2023-04-06T13:51:13.188Z"
   },
   {
    "duration": 148,
    "start_time": "2023-04-06T13:51:18.459Z"
   },
   {
    "duration": 26,
    "start_time": "2023-04-06T13:52:50.818Z"
   },
   {
    "duration": 10,
    "start_time": "2023-04-06T13:52:57.824Z"
   },
   {
    "duration": 25,
    "start_time": "2023-04-06T13:52:59.438Z"
   },
   {
    "duration": 37,
    "start_time": "2023-04-06T13:53:01.299Z"
   },
   {
    "duration": 137,
    "start_time": "2023-04-06T13:53:02.621Z"
   },
   {
    "duration": 10,
    "start_time": "2023-04-06T13:56:14.849Z"
   },
   {
    "duration": 1105,
    "start_time": "2023-04-06T13:57:27.249Z"
   },
   {
    "duration": 28,
    "start_time": "2023-04-06T13:59:48.458Z"
   },
   {
    "duration": 34,
    "start_time": "2023-04-06T14:00:57.742Z"
   },
   {
    "duration": 14,
    "start_time": "2023-04-06T14:01:22.025Z"
   },
   {
    "duration": 15,
    "start_time": "2023-04-06T14:01:26.813Z"
   },
   {
    "duration": 13,
    "start_time": "2023-04-06T14:01:28.009Z"
   },
   {
    "duration": 13,
    "start_time": "2023-04-06T14:01:57.345Z"
   },
   {
    "duration": 1280,
    "start_time": "2023-04-06T14:02:40.793Z"
   },
   {
    "duration": 213,
    "start_time": "2023-04-06T14:02:42.076Z"
   },
   {
    "duration": 12,
    "start_time": "2023-04-06T14:02:42.290Z"
   },
   {
    "duration": 17,
    "start_time": "2023-04-06T14:02:42.304Z"
   },
   {
    "duration": 7,
    "start_time": "2023-04-06T14:02:42.322Z"
   },
   {
    "duration": 30,
    "start_time": "2023-04-06T14:02:42.334Z"
   },
   {
    "duration": 6,
    "start_time": "2023-04-06T14:02:42.365Z"
   },
   {
    "duration": 395,
    "start_time": "2023-04-06T14:02:42.373Z"
   },
   {
    "duration": 27,
    "start_time": "2023-04-06T14:02:42.770Z"
   },
   {
    "duration": 7,
    "start_time": "2023-04-06T14:02:42.799Z"
   },
   {
    "duration": 87,
    "start_time": "2023-04-06T14:02:42.807Z"
   },
   {
    "duration": 188,
    "start_time": "2023-04-06T14:02:42.896Z"
   },
   {
    "duration": 6,
    "start_time": "2023-04-06T14:02:43.085Z"
   },
   {
    "duration": 1918,
    "start_time": "2023-04-06T14:02:43.092Z"
   },
   {
    "duration": 50,
    "start_time": "2023-04-06T14:02:45.011Z"
   },
   {
    "duration": 5,
    "start_time": "2023-04-06T14:02:45.063Z"
   },
   {
    "duration": 21,
    "start_time": "2023-04-06T14:02:45.070Z"
   },
   {
    "duration": 28,
    "start_time": "2023-04-06T14:02:45.093Z"
   },
   {
    "duration": 144,
    "start_time": "2023-04-06T14:02:45.122Z"
   },
   {
    "duration": 179,
    "start_time": "2023-04-06T14:02:45.267Z"
   },
   {
    "duration": 8,
    "start_time": "2023-04-06T14:02:45.448Z"
   },
   {
    "duration": 21,
    "start_time": "2023-04-06T14:02:45.458Z"
   },
   {
    "duration": 15,
    "start_time": "2023-04-06T14:02:45.481Z"
   },
   {
    "duration": 167,
    "start_time": "2023-04-06T14:02:45.497Z"
   },
   {
    "duration": 8,
    "start_time": "2023-04-06T14:02:45.665Z"
   },
   {
    "duration": 20,
    "start_time": "2023-04-06T14:02:45.674Z"
   },
   {
    "duration": 27,
    "start_time": "2023-04-06T14:02:45.696Z"
   },
   {
    "duration": 145,
    "start_time": "2023-04-06T14:02:45.726Z"
   },
   {
    "duration": 8,
    "start_time": "2023-04-06T14:02:45.872Z"
   },
   {
    "duration": 18,
    "start_time": "2023-04-06T14:02:45.881Z"
   },
   {
    "duration": 15,
    "start_time": "2023-04-06T14:02:45.900Z"
   },
   {
    "duration": 133,
    "start_time": "2023-04-06T14:02:45.934Z"
   },
   {
    "duration": 119,
    "start_time": "2023-04-06T14:02:46.069Z"
   },
   {
    "duration": 25,
    "start_time": "2023-04-06T14:02:46.189Z"
   },
   {
    "duration": 201,
    "start_time": "2023-04-06T14:02:46.215Z"
   },
   {
    "duration": 25,
    "start_time": "2023-04-06T14:02:46.418Z"
   },
   {
    "duration": 190,
    "start_time": "2023-04-06T14:02:46.445Z"
   },
   {
    "duration": 11,
    "start_time": "2023-04-06T14:02:46.636Z"
   },
   {
    "duration": 23,
    "start_time": "2023-04-06T14:02:46.649Z"
   },
   {
    "duration": 342,
    "start_time": "2023-04-06T14:02:46.673Z"
   },
   {
    "duration": 8,
    "start_time": "2023-04-06T14:02:47.017Z"
   },
   {
    "duration": 10,
    "start_time": "2023-04-06T14:02:47.026Z"
   },
   {
    "duration": 19,
    "start_time": "2023-04-06T14:02:47.038Z"
   },
   {
    "duration": 13,
    "start_time": "2023-04-06T14:02:47.059Z"
   },
   {
    "duration": 8,
    "start_time": "2023-04-06T14:02:47.073Z"
   },
   {
    "duration": 122,
    "start_time": "2023-04-06T14:02:47.082Z"
   },
   {
    "duration": 0,
    "start_time": "2023-04-06T14:02:47.206Z"
   },
   {
    "duration": 0,
    "start_time": "2023-04-06T14:02:47.208Z"
   },
   {
    "duration": 0,
    "start_time": "2023-04-06T14:02:47.209Z"
   },
   {
    "duration": 27,
    "start_time": "2023-04-06T14:02:54.473Z"
   },
   {
    "duration": 34,
    "start_time": "2023-04-06T14:03:10.657Z"
   },
   {
    "duration": 1419,
    "start_time": "2023-04-06T14:04:12.925Z"
   },
   {
    "duration": 826,
    "start_time": "2023-04-06T14:04:28.661Z"
   },
   {
    "duration": 9,
    "start_time": "2023-04-06T14:04:41.524Z"
   },
   {
    "duration": 6,
    "start_time": "2023-04-06T14:04:47.893Z"
   },
   {
    "duration": 5,
    "start_time": "2023-04-06T14:05:00.569Z"
   },
   {
    "duration": 6,
    "start_time": "2023-04-06T14:05:20.318Z"
   },
   {
    "duration": 5,
    "start_time": "2023-04-06T14:05:21.577Z"
   },
   {
    "duration": 25,
    "start_time": "2023-04-06T14:06:39.617Z"
   },
   {
    "duration": 8,
    "start_time": "2023-04-06T14:06:40.773Z"
   },
   {
    "duration": 5,
    "start_time": "2023-04-06T14:06:42.385Z"
   },
   {
    "duration": 6,
    "start_time": "2023-04-06T14:06:48.357Z"
   },
   {
    "duration": 4,
    "start_time": "2023-04-06T14:06:49.393Z"
   },
   {
    "duration": 23,
    "start_time": "2023-04-06T14:07:58.616Z"
   },
   {
    "duration": 26,
    "start_time": "2023-04-06T14:09:23.537Z"
   },
   {
    "duration": 41,
    "start_time": "2023-04-06T14:10:09.049Z"
   },
   {
    "duration": 20,
    "start_time": "2023-04-06T14:11:25.293Z"
   },
   {
    "duration": 26,
    "start_time": "2023-04-06T14:11:55.357Z"
   },
   {
    "duration": 31,
    "start_time": "2023-04-06T14:12:13.016Z"
   },
   {
    "duration": 43,
    "start_time": "2023-04-06T14:12:46.172Z"
   },
   {
    "duration": 22,
    "start_time": "2023-04-06T14:12:53.800Z"
   },
   {
    "duration": 24,
    "start_time": "2023-04-06T14:12:56.844Z"
   },
   {
    "duration": 10,
    "start_time": "2023-04-06T14:13:06.752Z"
   },
   {
    "duration": 5,
    "start_time": "2023-04-06T14:13:07.396Z"
   },
   {
    "duration": 24,
    "start_time": "2023-04-06T14:15:48.356Z"
   },
   {
    "duration": 8,
    "start_time": "2023-04-06T14:15:58.353Z"
   },
   {
    "duration": 5,
    "start_time": "2023-04-06T14:16:02.668Z"
   },
   {
    "duration": 6,
    "start_time": "2023-04-06T14:16:08.545Z"
   },
   {
    "duration": 4,
    "start_time": "2023-04-06T14:16:38.876Z"
   },
   {
    "duration": 8,
    "start_time": "2023-04-06T14:16:58.844Z"
   },
   {
    "duration": 8,
    "start_time": "2023-04-06T14:17:30.844Z"
   },
   {
    "duration": 23,
    "start_time": "2023-04-06T14:19:21.220Z"
   },
   {
    "duration": 22,
    "start_time": "2023-04-06T14:20:23.780Z"
   },
   {
    "duration": 8,
    "start_time": "2023-04-06T14:21:29.448Z"
   },
   {
    "duration": 6,
    "start_time": "2023-04-06T14:21:29.964Z"
   },
   {
    "duration": 6,
    "start_time": "2023-04-06T14:21:51.280Z"
   },
   {
    "duration": 6,
    "start_time": "2023-04-06T14:21:51.859Z"
   },
   {
    "duration": 8,
    "start_time": "2023-04-06T14:21:59.452Z"
   },
   {
    "duration": 18,
    "start_time": "2023-04-06T14:58:52.313Z"
   },
   {
    "duration": 18,
    "start_time": "2023-04-06T14:58:58.489Z"
   },
   {
    "duration": 17,
    "start_time": "2023-04-06T15:54:33.569Z"
   },
   {
    "duration": 2073,
    "start_time": "2023-04-07T09:10:00.042Z"
   },
   {
    "duration": 621,
    "start_time": "2023-04-07T09:10:02.118Z"
   },
   {
    "duration": 15,
    "start_time": "2023-04-07T09:10:02.741Z"
   },
   {
    "duration": 107,
    "start_time": "2023-04-07T09:10:02.758Z"
   },
   {
    "duration": 9,
    "start_time": "2023-04-07T09:10:02.868Z"
   },
   {
    "duration": 166,
    "start_time": "2023-04-07T09:10:02.879Z"
   },
   {
    "duration": 10,
    "start_time": "2023-04-07T09:10:03.047Z"
   },
   {
    "duration": 474,
    "start_time": "2023-04-07T09:10:03.059Z"
   },
   {
    "duration": 40,
    "start_time": "2023-04-07T09:10:03.548Z"
   },
   {
    "duration": 34,
    "start_time": "2023-04-07T09:10:03.590Z"
   },
   {
    "duration": 93,
    "start_time": "2023-04-07T09:10:03.625Z"
   },
   {
    "duration": 205,
    "start_time": "2023-04-07T09:10:03.720Z"
   },
   {
    "duration": 4,
    "start_time": "2023-04-07T09:10:03.927Z"
   },
   {
    "duration": 2078,
    "start_time": "2023-04-07T09:10:03.934Z"
   },
   {
    "duration": 66,
    "start_time": "2023-04-07T09:10:06.014Z"
   },
   {
    "duration": 7,
    "start_time": "2023-04-07T09:10:06.082Z"
   },
   {
    "duration": 26,
    "start_time": "2023-04-07T09:10:06.091Z"
   },
   {
    "duration": 35,
    "start_time": "2023-04-07T09:10:06.118Z"
   },
   {
    "duration": 181,
    "start_time": "2023-04-07T09:10:06.155Z"
   },
   {
    "duration": 186,
    "start_time": "2023-04-07T09:10:06.338Z"
   },
   {
    "duration": 10,
    "start_time": "2023-04-07T09:10:06.525Z"
   },
   {
    "duration": 46,
    "start_time": "2023-04-07T09:10:06.549Z"
   },
   {
    "duration": 16,
    "start_time": "2023-04-07T09:10:06.597Z"
   },
   {
    "duration": 155,
    "start_time": "2023-04-07T09:10:06.615Z"
   },
   {
    "duration": 9,
    "start_time": "2023-04-07T09:10:06.772Z"
   },
   {
    "duration": 21,
    "start_time": "2023-04-07T09:10:06.784Z"
   },
   {
    "duration": 19,
    "start_time": "2023-04-07T09:10:06.807Z"
   },
   {
    "duration": 175,
    "start_time": "2023-04-07T09:10:06.827Z"
   },
   {
    "duration": 9,
    "start_time": "2023-04-07T09:10:07.003Z"
   },
   {
    "duration": 39,
    "start_time": "2023-04-07T09:10:07.015Z"
   },
   {
    "duration": 25,
    "start_time": "2023-04-07T09:10:07.056Z"
   },
   {
    "duration": 188,
    "start_time": "2023-04-07T09:10:07.083Z"
   },
   {
    "duration": 112,
    "start_time": "2023-04-07T09:10:07.273Z"
   },
   {
    "duration": 30,
    "start_time": "2023-04-07T09:10:07.387Z"
   },
   {
    "duration": 218,
    "start_time": "2023-04-07T09:10:07.419Z"
   },
   {
    "duration": 25,
    "start_time": "2023-04-07T09:10:07.639Z"
   },
   {
    "duration": 212,
    "start_time": "2023-04-07T09:10:07.666Z"
   },
   {
    "duration": 12,
    "start_time": "2023-04-07T09:10:07.879Z"
   },
   {
    "duration": 52,
    "start_time": "2023-04-07T09:10:07.892Z"
   },
   {
    "duration": 353,
    "start_time": "2023-04-07T09:10:07.946Z"
   },
   {
    "duration": 9,
    "start_time": "2023-04-07T09:10:08.303Z"
   },
   {
    "duration": 15,
    "start_time": "2023-04-07T09:10:08.313Z"
   },
   {
    "duration": 43,
    "start_time": "2023-04-07T09:10:08.330Z"
   },
   {
    "duration": 30,
    "start_time": "2023-04-07T09:10:08.375Z"
   },
   {
    "duration": 36,
    "start_time": "2023-04-07T09:10:08.407Z"
   },
   {
    "duration": 11,
    "start_time": "2023-04-07T09:10:08.445Z"
   },
   {
    "duration": 25,
    "start_time": "2023-04-07T09:10:08.458Z"
   },
   {
    "duration": 11,
    "start_time": "2023-04-07T09:10:08.484Z"
   },
   {
    "duration": 5,
    "start_time": "2023-04-07T09:10:08.496Z"
   },
   {
    "duration": 11,
    "start_time": "2023-04-07T09:10:08.502Z"
   },
   {
    "duration": 16,
    "start_time": "2023-04-07T09:10:08.515Z"
   },
   {
    "duration": 427,
    "start_time": "2023-04-07T09:11:26.256Z"
   },
   {
    "duration": 5,
    "start_time": "2023-04-07T09:31:40.333Z"
   },
   {
    "duration": 23,
    "start_time": "2023-04-07T09:31:56.808Z"
   },
   {
    "duration": 134,
    "start_time": "2023-04-07T09:32:17.145Z"
   },
   {
    "duration": 25,
    "start_time": "2023-04-07T09:32:25.193Z"
   },
   {
    "duration": 67,
    "start_time": "2023-04-07T09:32:41.800Z"
   },
   {
    "duration": 45,
    "start_time": "2023-04-07T09:32:51.937Z"
   },
   {
    "duration": 31,
    "start_time": "2023-04-07T09:33:36.704Z"
   },
   {
    "duration": 69,
    "start_time": "2023-04-07T09:36:10.608Z"
   },
   {
    "duration": 53,
    "start_time": "2023-04-07T09:37:09.988Z"
   },
   {
    "duration": 13,
    "start_time": "2023-04-07T09:37:23.088Z"
   },
   {
    "duration": 51,
    "start_time": "2023-04-07T09:37:30.392Z"
   },
   {
    "duration": 59,
    "start_time": "2023-04-07T09:41:29.603Z"
   },
   {
    "duration": 143,
    "start_time": "2023-04-07T09:41:37.089Z"
   },
   {
    "duration": 50,
    "start_time": "2023-04-07T09:42:24.095Z"
   },
   {
    "duration": 1677,
    "start_time": "2023-04-07T09:43:00.939Z"
   },
   {
    "duration": 21,
    "start_time": "2023-04-07T09:44:09.419Z"
   },
   {
    "duration": 8,
    "start_time": "2023-04-07T09:44:49.579Z"
   },
   {
    "duration": 9,
    "start_time": "2023-04-07T09:44:59.427Z"
   },
   {
    "duration": 14,
    "start_time": "2023-04-07T09:45:06.021Z"
   },
   {
    "duration": 23,
    "start_time": "2023-04-07T09:45:15.584Z"
   },
   {
    "duration": 5,
    "start_time": "2023-04-07T09:45:20.092Z"
   },
   {
    "duration": 84,
    "start_time": "2023-04-07T09:45:25.693Z"
   },
   {
    "duration": 95,
    "start_time": "2023-04-07T09:45:38.290Z"
   },
   {
    "duration": 5101,
    "start_time": "2023-04-07T09:45:52.243Z"
   },
   {
    "duration": 28,
    "start_time": "2023-04-07T11:20:47.044Z"
   },
   {
    "duration": 11,
    "start_time": "2023-04-07T11:21:02.598Z"
   },
   {
    "duration": 16,
    "start_time": "2023-04-07T11:21:44.972Z"
   },
   {
    "duration": 6,
    "start_time": "2023-04-07T11:22:03.697Z"
   },
   {
    "duration": 8,
    "start_time": "2023-04-07T11:22:57.144Z"
   },
   {
    "duration": 5,
    "start_time": "2023-04-07T11:23:01.498Z"
   },
   {
    "duration": 8,
    "start_time": "2023-04-07T11:23:05.177Z"
   },
   {
    "duration": 6,
    "start_time": "2023-04-07T11:23:46.210Z"
   },
   {
    "duration": 8,
    "start_time": "2023-04-07T11:24:03.400Z"
   },
   {
    "duration": 6,
    "start_time": "2023-04-07T11:40:35.601Z"
   },
   {
    "duration": 367,
    "start_time": "2023-04-07T11:43:08.307Z"
   },
   {
    "duration": 70,
    "start_time": "2023-04-07T11:50:37.470Z"
   },
   {
    "duration": 1751,
    "start_time": "2023-04-07T11:51:15.316Z"
   },
   {
    "duration": 1746,
    "start_time": "2023-04-07T11:51:25.305Z"
   },
   {
    "duration": 2461,
    "start_time": "2023-04-07T11:51:35.012Z"
   },
   {
    "duration": 1602,
    "start_time": "2023-04-07T11:51:53.346Z"
   },
   {
    "duration": 336,
    "start_time": "2023-04-07T11:51:54.950Z"
   },
   {
    "duration": 19,
    "start_time": "2023-04-07T11:51:55.288Z"
   },
   {
    "duration": 24,
    "start_time": "2023-04-07T11:51:55.310Z"
   },
   {
    "duration": 27,
    "start_time": "2023-04-07T11:51:55.336Z"
   },
   {
    "duration": 103,
    "start_time": "2023-04-07T11:51:55.368Z"
   },
   {
    "duration": 12,
    "start_time": "2023-04-07T11:51:55.473Z"
   },
   {
    "duration": 642,
    "start_time": "2023-04-07T11:51:55.487Z"
   },
   {
    "duration": 44,
    "start_time": "2023-04-07T11:51:56.131Z"
   },
   {
    "duration": 7,
    "start_time": "2023-04-07T11:51:56.178Z"
   },
   {
    "duration": 96,
    "start_time": "2023-04-07T11:51:56.187Z"
   },
   {
    "duration": 287,
    "start_time": "2023-04-07T11:51:56.285Z"
   },
   {
    "duration": 6,
    "start_time": "2023-04-07T11:51:56.574Z"
   },
   {
    "duration": 1915,
    "start_time": "2023-04-07T11:51:56.582Z"
   },
   {
    "duration": 57,
    "start_time": "2023-04-07T11:51:58.499Z"
   },
   {
    "duration": 9,
    "start_time": "2023-04-07T11:51:58.558Z"
   },
   {
    "duration": 45,
    "start_time": "2023-04-07T11:51:58.568Z"
   },
   {
    "duration": 19,
    "start_time": "2023-04-07T11:51:58.615Z"
   },
   {
    "duration": 166,
    "start_time": "2023-04-07T11:51:58.636Z"
   },
   {
    "duration": 218,
    "start_time": "2023-04-07T11:51:58.805Z"
   },
   {
    "duration": 10,
    "start_time": "2023-04-07T11:51:59.025Z"
   },
   {
    "duration": 77,
    "start_time": "2023-04-07T11:51:59.036Z"
   },
   {
    "duration": 19,
    "start_time": "2023-04-07T11:51:59.115Z"
   },
   {
    "duration": 165,
    "start_time": "2023-04-07T11:51:59.135Z"
   },
   {
    "duration": 8,
    "start_time": "2023-04-07T11:51:59.302Z"
   },
   {
    "duration": 21,
    "start_time": "2023-04-07T11:51:59.311Z"
   },
   {
    "duration": 37,
    "start_time": "2023-04-07T11:51:59.333Z"
   },
   {
    "duration": 194,
    "start_time": "2023-04-07T11:51:59.377Z"
   },
   {
    "duration": 9,
    "start_time": "2023-04-07T11:51:59.575Z"
   },
   {
    "duration": 24,
    "start_time": "2023-04-07T11:51:59.586Z"
   },
   {
    "duration": 52,
    "start_time": "2023-04-07T11:51:59.611Z"
   },
   {
    "duration": 214,
    "start_time": "2023-04-07T11:51:59.665Z"
   },
   {
    "duration": 131,
    "start_time": "2023-04-07T11:51:59.880Z"
   },
   {
    "duration": 64,
    "start_time": "2023-04-07T11:52:00.013Z"
   },
   {
    "duration": 306,
    "start_time": "2023-04-07T11:52:00.079Z"
   },
   {
    "duration": 19,
    "start_time": "2023-04-07T11:52:00.387Z"
   },
   {
    "duration": 225,
    "start_time": "2023-04-07T11:52:00.408Z"
   },
   {
    "duration": 36,
    "start_time": "2023-04-07T11:52:00.635Z"
   },
   {
    "duration": 44,
    "start_time": "2023-04-07T11:52:00.673Z"
   },
   {
    "duration": 411,
    "start_time": "2023-04-07T11:52:00.719Z"
   },
   {
    "duration": 19,
    "start_time": "2023-04-07T11:52:01.134Z"
   },
   {
    "duration": 46,
    "start_time": "2023-04-07T11:52:01.155Z"
   },
   {
    "duration": 48,
    "start_time": "2023-04-07T11:52:01.203Z"
   },
   {
    "duration": 45,
    "start_time": "2023-04-07T11:52:01.253Z"
   },
   {
    "duration": 38,
    "start_time": "2023-04-07T11:52:01.300Z"
   },
   {
    "duration": 57,
    "start_time": "2023-04-07T11:52:01.340Z"
   },
   {
    "duration": 95,
    "start_time": "2023-04-07T11:52:01.399Z"
   },
   {
    "duration": 38,
    "start_time": "2023-04-07T11:52:01.498Z"
   },
   {
    "duration": 17,
    "start_time": "2023-04-07T15:07:37.972Z"
   },
   {
    "duration": 51,
    "start_time": "2023-04-07T15:11:16.271Z"
   },
   {
    "duration": 45,
    "start_time": "2023-04-07T15:12:06.177Z"
   },
   {
    "duration": 57,
    "start_time": "2023-04-07T15:12:35.471Z"
   },
   {
    "duration": 2320,
    "start_time": "2023-04-07T15:12:39.347Z"
   },
   {
    "duration": 278,
    "start_time": "2023-04-07T15:12:50.534Z"
   },
   {
    "duration": 547,
    "start_time": "2023-04-07T15:22:43.229Z"
   },
   {
    "duration": 458,
    "start_time": "2023-04-07T15:23:40.546Z"
   },
   {
    "duration": 414,
    "start_time": "2023-04-07T15:23:56.726Z"
   },
   {
    "duration": 403,
    "start_time": "2023-04-07T15:26:25.473Z"
   },
   {
    "duration": 12,
    "start_time": "2023-04-07T15:26:36.312Z"
   },
   {
    "duration": 18,
    "start_time": "2023-04-07T15:26:54.713Z"
   },
   {
    "duration": 15,
    "start_time": "2023-04-07T15:27:19.816Z"
   },
   {
    "duration": 507,
    "start_time": "2023-04-07T15:27:31.263Z"
   },
   {
    "duration": 416,
    "start_time": "2023-04-07T15:27:48.345Z"
   },
   {
    "duration": 453,
    "start_time": "2023-04-07T15:28:02.913Z"
   },
   {
    "duration": 431,
    "start_time": "2023-04-07T15:28:12.313Z"
   },
   {
    "duration": 546,
    "start_time": "2023-04-07T15:29:54.170Z"
   },
   {
    "duration": 462,
    "start_time": "2023-04-07T15:30:22.009Z"
   },
   {
    "duration": 459,
    "start_time": "2023-04-07T15:31:10.481Z"
   },
   {
    "duration": 429,
    "start_time": "2023-04-07T15:31:14.409Z"
   },
   {
    "duration": 576,
    "start_time": "2023-04-07T15:31:29.287Z"
   },
   {
    "duration": 478,
    "start_time": "2023-04-07T15:32:11.089Z"
   },
   {
    "duration": 477,
    "start_time": "2023-04-07T15:32:34.088Z"
   },
   {
    "duration": 562,
    "start_time": "2023-04-07T15:32:43.481Z"
   },
   {
    "duration": 459,
    "start_time": "2023-04-07T15:32:48.767Z"
   },
   {
    "duration": 360,
    "start_time": "2023-04-07T15:32:52.521Z"
   },
   {
    "duration": 419,
    "start_time": "2023-04-07T15:35:03.827Z"
   },
   {
    "duration": 504,
    "start_time": "2023-04-07T15:35:33.608Z"
   },
   {
    "duration": 604,
    "start_time": "2023-04-07T15:35:40.989Z"
   },
   {
    "duration": 486,
    "start_time": "2023-04-07T15:37:10.732Z"
   },
   {
    "duration": 428,
    "start_time": "2023-04-07T15:37:17.779Z"
   },
   {
    "duration": 519,
    "start_time": "2023-04-07T15:37:34.725Z"
   },
   {
    "duration": 651,
    "start_time": "2023-04-07T15:37:51.445Z"
   },
   {
    "duration": 301,
    "start_time": "2023-04-07T15:38:00.645Z"
   },
   {
    "duration": 460,
    "start_time": "2023-04-07T15:39:47.109Z"
   },
   {
    "duration": 82,
    "start_time": "2023-04-07T15:39:52.925Z"
   },
   {
    "duration": 466,
    "start_time": "2023-04-07T15:39:57.077Z"
   },
   {
    "duration": 596,
    "start_time": "2023-04-07T15:40:00.787Z"
   },
   {
    "duration": 38,
    "start_time": "2023-04-07T15:40:22.549Z"
   },
   {
    "duration": 481,
    "start_time": "2023-04-07T15:40:32.516Z"
   },
   {
    "duration": 513,
    "start_time": "2023-04-07T15:40:55.540Z"
   },
   {
    "duration": 574,
    "start_time": "2023-04-07T15:41:02.201Z"
   },
   {
    "duration": 588,
    "start_time": "2023-04-07T15:41:25.884Z"
   },
   {
    "duration": 19,
    "start_time": "2023-04-07T15:41:28.291Z"
   },
   {
    "duration": 23,
    "start_time": "2023-04-07T15:41:53.244Z"
   },
   {
    "duration": 62,
    "start_time": "2023-04-07T15:42:01.168Z"
   },
   {
    "duration": 224,
    "start_time": "2023-04-07T15:42:05.471Z"
   },
   {
    "duration": 199,
    "start_time": "2023-04-07T15:42:24.404Z"
   },
   {
    "duration": 505,
    "start_time": "2023-04-07T15:42:43.513Z"
   },
   {
    "duration": 534,
    "start_time": "2023-04-07T15:43:03.369Z"
   },
   {
    "duration": 633,
    "start_time": "2023-04-07T15:43:14.592Z"
   },
   {
    "duration": 539,
    "start_time": "2023-04-07T15:43:30.992Z"
   },
   {
    "duration": 12,
    "start_time": "2023-04-07T15:47:03.493Z"
   },
   {
    "duration": 595,
    "start_time": "2023-04-07T15:47:15.019Z"
   },
   {
    "duration": 644,
    "start_time": "2023-04-07T15:47:35.144Z"
   },
   {
    "duration": 17,
    "start_time": "2023-04-07T15:47:57.584Z"
   },
   {
    "duration": 10,
    "start_time": "2023-04-07T15:48:06.020Z"
   },
   {
    "duration": 18,
    "start_time": "2023-04-07T15:48:13.648Z"
   },
   {
    "duration": 1915,
    "start_time": "2023-04-09T07:56:09.039Z"
   },
   {
    "duration": 587,
    "start_time": "2023-04-09T07:56:10.957Z"
   },
   {
    "duration": 17,
    "start_time": "2023-04-09T07:56:11.546Z"
   },
   {
    "duration": 73,
    "start_time": "2023-04-09T07:56:11.566Z"
   },
   {
    "duration": 14,
    "start_time": "2023-04-09T07:56:11.642Z"
   },
   {
    "duration": 179,
    "start_time": "2023-04-09T07:56:11.658Z"
   },
   {
    "duration": 13,
    "start_time": "2023-04-09T07:56:11.840Z"
   },
   {
    "duration": 841,
    "start_time": "2023-04-09T07:56:11.858Z"
   },
   {
    "duration": 70,
    "start_time": "2023-04-09T07:56:12.701Z"
   },
   {
    "duration": 9,
    "start_time": "2023-04-09T07:56:12.774Z"
   },
   {
    "duration": 148,
    "start_time": "2023-04-09T07:56:12.785Z"
   },
   {
    "duration": 306,
    "start_time": "2023-04-09T07:56:12.936Z"
   },
   {
    "duration": 8,
    "start_time": "2023-04-09T07:56:13.245Z"
   },
   {
    "duration": 2303,
    "start_time": "2023-04-09T07:56:13.255Z"
   },
   {
    "duration": 81,
    "start_time": "2023-04-09T07:56:15.560Z"
   },
   {
    "duration": 8,
    "start_time": "2023-04-09T07:56:15.644Z"
   },
   {
    "duration": 28,
    "start_time": "2023-04-09T07:56:15.654Z"
   },
   {
    "duration": 57,
    "start_time": "2023-04-09T07:56:15.685Z"
   },
   {
    "duration": 219,
    "start_time": "2023-04-09T07:56:15.744Z"
   },
   {
    "duration": 301,
    "start_time": "2023-04-09T07:56:15.966Z"
   },
   {
    "duration": 15,
    "start_time": "2023-04-09T07:56:16.270Z"
   },
   {
    "duration": 48,
    "start_time": "2023-04-09T07:56:16.288Z"
   },
   {
    "duration": 27,
    "start_time": "2023-04-09T07:56:16.338Z"
   },
   {
    "duration": 251,
    "start_time": "2023-04-09T07:56:16.368Z"
   },
   {
    "duration": 28,
    "start_time": "2023-04-09T07:56:16.621Z"
   },
   {
    "duration": 38,
    "start_time": "2023-04-09T07:56:16.653Z"
   },
   {
    "duration": 43,
    "start_time": "2023-04-09T07:56:16.694Z"
   },
   {
    "duration": 230,
    "start_time": "2023-04-09T07:56:16.743Z"
   },
   {
    "duration": 16,
    "start_time": "2023-04-09T07:56:16.976Z"
   },
   {
    "duration": 51,
    "start_time": "2023-04-09T07:56:16.995Z"
   },
   {
    "duration": 35,
    "start_time": "2023-04-09T07:56:17.049Z"
   },
   {
    "duration": 246,
    "start_time": "2023-04-09T07:56:17.087Z"
   },
   {
    "duration": 143,
    "start_time": "2023-04-09T07:56:17.335Z"
   },
   {
    "duration": 38,
    "start_time": "2023-04-09T07:56:17.479Z"
   },
   {
    "duration": 298,
    "start_time": "2023-04-09T07:56:17.519Z"
   },
   {
    "duration": 688,
    "start_time": "2023-04-09T07:56:17.820Z"
   },
   {
    "duration": 6,
    "start_time": "2023-04-09T07:56:18.511Z"
   },
   {
    "duration": 830,
    "start_time": "2023-04-09T07:56:18.519Z"
   },
   {
    "duration": 18,
    "start_time": "2023-04-09T07:56:19.352Z"
   },
   {
    "duration": 15,
    "start_time": "2023-04-09T07:56:19.373Z"
   },
   {
    "duration": 45,
    "start_time": "2023-04-09T07:56:19.390Z"
   },
   {
    "duration": 428,
    "start_time": "2023-04-09T07:56:19.437Z"
   },
   {
    "duration": 14,
    "start_time": "2023-04-09T07:56:19.868Z"
   },
   {
    "duration": 15,
    "start_time": "2023-04-09T07:56:19.884Z"
   },
   {
    "duration": 11,
    "start_time": "2023-04-09T07:56:19.902Z"
   },
   {
    "duration": 39,
    "start_time": "2023-04-09T07:56:19.915Z"
   },
   {
    "duration": 16,
    "start_time": "2023-04-09T07:56:19.956Z"
   },
   {
    "duration": 8,
    "start_time": "2023-04-09T07:56:19.974Z"
   },
   {
    "duration": 14,
    "start_time": "2023-04-09T07:56:19.984Z"
   },
   {
    "duration": 44,
    "start_time": "2023-04-09T07:56:20.000Z"
   },
   {
    "duration": 1782,
    "start_time": "2023-04-10T05:54:57.968Z"
   },
   {
    "duration": 716,
    "start_time": "2023-04-10T05:54:59.752Z"
   },
   {
    "duration": 23,
    "start_time": "2023-04-10T05:55:00.474Z"
   },
   {
    "duration": 53,
    "start_time": "2023-04-10T05:55:00.500Z"
   },
   {
    "duration": 13,
    "start_time": "2023-04-10T05:55:00.557Z"
   },
   {
    "duration": 90,
    "start_time": "2023-04-10T05:55:00.573Z"
   },
   {
    "duration": 8,
    "start_time": "2023-04-10T05:55:00.665Z"
   },
   {
    "duration": 514,
    "start_time": "2023-04-10T05:55:00.675Z"
   },
   {
    "duration": 57,
    "start_time": "2023-04-10T05:55:01.192Z"
   },
   {
    "duration": 31,
    "start_time": "2023-04-10T05:55:01.251Z"
   },
   {
    "duration": 125,
    "start_time": "2023-04-10T05:55:01.285Z"
   },
   {
    "duration": 217,
    "start_time": "2023-04-10T05:55:01.412Z"
   },
   {
    "duration": 5,
    "start_time": "2023-04-10T05:55:01.631Z"
   },
   {
    "duration": 2136,
    "start_time": "2023-04-10T05:55:01.638Z"
   },
   {
    "duration": 55,
    "start_time": "2023-04-10T05:55:03.776Z"
   },
   {
    "duration": 7,
    "start_time": "2023-04-10T05:55:03.833Z"
   },
   {
    "duration": 21,
    "start_time": "2023-04-10T05:55:03.841Z"
   },
   {
    "duration": 19,
    "start_time": "2023-04-10T05:55:03.864Z"
   },
   {
    "duration": 188,
    "start_time": "2023-04-10T05:55:03.884Z"
   },
   {
    "duration": 177,
    "start_time": "2023-04-10T05:55:04.074Z"
   },
   {
    "duration": 10,
    "start_time": "2023-04-10T05:55:04.253Z"
   },
   {
    "duration": 22,
    "start_time": "2023-04-10T05:55:04.265Z"
   },
   {
    "duration": 39,
    "start_time": "2023-04-10T05:55:04.289Z"
   },
   {
    "duration": 173,
    "start_time": "2023-04-10T05:55:04.329Z"
   },
   {
    "duration": 20,
    "start_time": "2023-04-10T05:55:04.504Z"
   },
   {
    "duration": 23,
    "start_time": "2023-04-10T05:55:04.527Z"
   },
   {
    "duration": 24,
    "start_time": "2023-04-10T05:55:04.555Z"
   },
   {
    "duration": 197,
    "start_time": "2023-04-10T05:55:04.581Z"
   },
   {
    "duration": 11,
    "start_time": "2023-04-10T05:55:04.780Z"
   },
   {
    "duration": 38,
    "start_time": "2023-04-10T05:55:04.794Z"
   },
   {
    "duration": 23,
    "start_time": "2023-04-10T05:55:04.834Z"
   },
   {
    "duration": 220,
    "start_time": "2023-04-10T05:55:04.859Z"
   },
   {
    "duration": 108,
    "start_time": "2023-04-10T05:55:05.081Z"
   },
   {
    "duration": 41,
    "start_time": "2023-04-10T05:55:05.190Z"
   },
   {
    "duration": 218,
    "start_time": "2023-04-10T05:55:05.233Z"
   },
   {
    "duration": 531,
    "start_time": "2023-04-10T05:55:05.452Z"
   },
   {
    "duration": 5,
    "start_time": "2023-04-10T05:55:05.985Z"
   },
   {
    "duration": 677,
    "start_time": "2023-04-10T05:55:05.991Z"
   },
   {
    "duration": 17,
    "start_time": "2023-04-10T05:55:06.669Z"
   },
   {
    "duration": 16,
    "start_time": "2023-04-10T05:55:06.688Z"
   },
   {
    "duration": 38,
    "start_time": "2023-04-10T05:55:06.706Z"
   },
   {
    "duration": 369,
    "start_time": "2023-04-10T05:55:06.745Z"
   },
   {
    "duration": 15,
    "start_time": "2023-04-10T05:55:07.116Z"
   },
   {
    "duration": 5,
    "start_time": "2023-04-10T05:55:07.133Z"
   },
   {
    "duration": 12,
    "start_time": "2023-04-10T05:55:07.140Z"
   },
   {
    "duration": 18,
    "start_time": "2023-04-10T05:55:07.153Z"
   },
   {
    "duration": 40,
    "start_time": "2023-04-10T05:55:07.172Z"
   },
   {
    "duration": 7,
    "start_time": "2023-04-10T05:55:07.214Z"
   },
   {
    "duration": 20,
    "start_time": "2023-04-10T05:55:07.222Z"
   },
   {
    "duration": 12,
    "start_time": "2023-04-10T05:55:07.244Z"
   },
   {
    "duration": 257,
    "start_time": "2023-04-10T05:55:22.213Z"
   },
   {
    "duration": 13,
    "start_time": "2023-04-10T05:56:47.133Z"
   },
   {
    "duration": 13,
    "start_time": "2023-04-10T05:56:54.581Z"
   },
   {
    "duration": 312,
    "start_time": "2023-04-10T05:57:01.713Z"
   },
   {
    "duration": 280,
    "start_time": "2023-04-10T05:57:08.449Z"
   },
   {
    "duration": 283,
    "start_time": "2023-04-10T05:57:25.561Z"
   },
   {
    "duration": 175,
    "start_time": "2023-04-10T06:02:18.002Z"
   },
   {
    "duration": 175,
    "start_time": "2023-04-10T06:02:58.595Z"
   },
   {
    "duration": 201,
    "start_time": "2023-04-10T06:03:15.940Z"
   },
   {
    "duration": 165,
    "start_time": "2023-04-10T06:04:49.136Z"
   },
   {
    "duration": 593,
    "start_time": "2023-04-10T06:08:54.436Z"
   },
   {
    "duration": 525,
    "start_time": "2023-04-10T06:09:16.420Z"
   },
   {
    "duration": 741,
    "start_time": "2023-04-10T06:09:30.592Z"
   },
   {
    "duration": 547,
    "start_time": "2023-04-10T06:09:41.928Z"
   },
   {
    "duration": 80,
    "start_time": "2023-04-10T06:10:55.008Z"
   },
   {
    "duration": 684,
    "start_time": "2023-04-10T06:10:58.619Z"
   },
   {
    "duration": 28,
    "start_time": "2023-04-10T06:15:10.224Z"
   },
   {
    "duration": 20,
    "start_time": "2023-04-10T06:16:28.601Z"
   },
   {
    "duration": 5,
    "start_time": "2023-04-10T06:18:22.711Z"
   },
   {
    "duration": 8,
    "start_time": "2023-04-10T06:18:36.824Z"
   },
   {
    "duration": 81,
    "start_time": "2023-04-10T06:19:16.156Z"
   },
   {
    "duration": 5,
    "start_time": "2023-04-10T06:19:20.607Z"
   },
   {
    "duration": 14,
    "start_time": "2023-04-10T06:21:49.138Z"
   },
   {
    "duration": 12,
    "start_time": "2023-04-10T06:22:41.838Z"
   },
   {
    "duration": 12,
    "start_time": "2023-04-10T06:22:45.637Z"
   },
   {
    "duration": 12,
    "start_time": "2023-04-10T06:22:58.103Z"
   },
   {
    "duration": 10,
    "start_time": "2023-04-10T06:23:32.504Z"
   },
   {
    "duration": 11,
    "start_time": "2023-04-10T06:23:41.938Z"
   },
   {
    "duration": 25,
    "start_time": "2023-04-10T06:26:52.311Z"
   },
   {
    "duration": 19,
    "start_time": "2023-04-10T06:29:29.847Z"
   },
   {
    "duration": 19,
    "start_time": "2023-04-10T06:31:17.462Z"
   },
   {
    "duration": 13,
    "start_time": "2023-04-10T06:31:52.983Z"
   },
   {
    "duration": 12,
    "start_time": "2023-04-10T06:32:04.034Z"
   },
   {
    "duration": 1365,
    "start_time": "2023-04-10T06:32:52.407Z"
   },
   {
    "duration": 1299,
    "start_time": "2023-04-10T06:33:13.615Z"
   },
   {
    "duration": 1352,
    "start_time": "2023-04-10T06:33:21.114Z"
   },
   {
    "duration": 20,
    "start_time": "2023-04-10T06:33:45.883Z"
   },
   {
    "duration": 18,
    "start_time": "2023-04-10T06:33:58.503Z"
   },
   {
    "duration": 20,
    "start_time": "2023-04-10T06:34:27.850Z"
   },
   {
    "duration": 23,
    "start_time": "2023-04-10T06:35:29.441Z"
   },
   {
    "duration": 7,
    "start_time": "2023-04-10T06:36:09.211Z"
   },
   {
    "duration": 6,
    "start_time": "2023-04-10T06:36:13.008Z"
   },
   {
    "duration": 26,
    "start_time": "2023-04-10T06:37:04.658Z"
   },
   {
    "duration": 35,
    "start_time": "2023-04-10T06:38:20.109Z"
   },
   {
    "duration": 33,
    "start_time": "2023-04-10T06:38:38.786Z"
   },
   {
    "duration": 31,
    "start_time": "2023-04-10T06:38:43.043Z"
   },
   {
    "duration": 28,
    "start_time": "2023-04-10T06:38:54.982Z"
   },
   {
    "duration": 32,
    "start_time": "2023-04-10T06:39:52.322Z"
   },
   {
    "duration": 20,
    "start_time": "2023-04-10T06:42:42.079Z"
   },
   {
    "duration": 14,
    "start_time": "2023-04-10T06:42:55.411Z"
   },
   {
    "duration": 19,
    "start_time": "2023-04-10T06:43:04.046Z"
   },
   {
    "duration": 4,
    "start_time": "2023-04-10T06:44:27.010Z"
   },
   {
    "duration": 5,
    "start_time": "2023-04-10T06:44:28.552Z"
   },
   {
    "duration": 15,
    "start_time": "2023-04-10T06:44:32.319Z"
   },
   {
    "duration": 11,
    "start_time": "2023-04-10T06:44:44.721Z"
   },
   {
    "duration": 10,
    "start_time": "2023-04-10T07:00:33.816Z"
   },
   {
    "duration": 6,
    "start_time": "2023-04-10T07:00:35.233Z"
   },
   {
    "duration": 7,
    "start_time": "2023-04-10T07:00:36.398Z"
   },
   {
    "duration": 11,
    "start_time": "2023-04-10T07:00:38.873Z"
   },
   {
    "duration": 13,
    "start_time": "2023-04-10T07:00:39.429Z"
   },
   {
    "duration": 13,
    "start_time": "2023-04-10T13:44:22.375Z"
   },
   {
    "duration": 24,
    "start_time": "2023-04-10T13:44:35.638Z"
   },
   {
    "duration": 11,
    "start_time": "2023-04-10T13:44:41.398Z"
   },
   {
    "duration": 23,
    "start_time": "2023-04-10T13:44:45.390Z"
   }
  ],
  "kernelspec": {
   "display_name": "Python 3 (ipykernel)",
   "language": "python",
   "name": "python3"
  },
  "language_info": {
   "codemirror_mode": {
    "name": "ipython",
    "version": 3
   },
   "file_extension": ".py",
   "mimetype": "text/x-python",
   "name": "python",
   "nbconvert_exporter": "python",
   "pygments_lexer": "ipython3",
   "version": "3.9.13"
  },
  "toc": {
   "base_numbering": 1,
   "nav_menu": {},
   "number_sections": true,
   "sideBar": true,
   "skip_h1_title": true,
   "title_cell": "Table of Contents",
   "title_sidebar": "Contents",
   "toc_cell": false,
   "toc_position": {},
   "toc_section_display": true,
   "toc_window_display": true
  }
 },
 "nbformat": 4,
 "nbformat_minor": 2
}
