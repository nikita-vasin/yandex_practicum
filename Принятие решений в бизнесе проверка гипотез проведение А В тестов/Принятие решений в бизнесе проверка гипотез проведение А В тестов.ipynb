{
 "cells": [
  {
   "cell_type": "markdown",
   "metadata": {},
   "source": [
    "### Принятие решений в бизнесе"
   ]
  },
  {
   "cell_type": "markdown",
   "metadata": {},
   "source": [
    "<br><b>Описание проекта </b></br>\n",
    "<br>Цель:</br>\n",
    "<br>Увеличение выручки интернет магазина.</br>\n",
    "<br>Предстоит изучить:</br>\n",
    "<br>1)Приоритезировать гипотезы</br>\n",
    "<br>2)Запустить A/B-тест </br>\n",
    "<br>3)Проанализировать результаты</br>\n"
   ]
  },
  {
   "cell_type": "markdown",
   "metadata": {},
   "source": [
    "<b>Подготовка и проверка данных</b> "
   ]
  },
  {
   "cell_type": "code",
   "execution_count": 1,
   "metadata": {},
   "outputs": [],
   "source": [
    "#импортируем необходимые библиотеки\n",
    "import pandas as pd\n",
    "import datetime as dt\n",
    "import numpy as np\n",
    "import scipy.stats as stats\n",
    "import matplotlib.pyplot as plt\n",
    "from pandas.plotting import register_matplotlib_converters\n",
    "import warnings"
   ]
  },
  {
   "cell_type": "code",
   "execution_count": 2,
   "metadata": {},
   "outputs": [
    {
     "name": "stdout",
     "output_type": "stream",
     "text": [
      "<class 'pandas.core.frame.DataFrame'>\n",
      "RangeIndex: 1197 entries, 0 to 1196\n",
      "Data columns (total 5 columns):\n",
      " #   Column         Non-Null Count  Dtype         \n",
      "---  ------         --------------  -----         \n",
      " 0   transactionId  1197 non-null   int64         \n",
      " 1   visitorId      1197 non-null   int64         \n",
      " 2   date           1197 non-null   datetime64[ns]\n",
      " 3   revenue        1197 non-null   int64         \n",
      " 4   group          1197 non-null   object        \n",
      "dtypes: datetime64[ns](1), int64(3), object(1)\n",
      "memory usage: 46.9+ KB\n"
     ]
    },
    {
     "data": {
      "text/html": [
       "<div>\n",
       "<style scoped>\n",
       "    .dataframe tbody tr th:only-of-type {\n",
       "        vertical-align: middle;\n",
       "    }\n",
       "\n",
       "    .dataframe tbody tr th {\n",
       "        vertical-align: top;\n",
       "    }\n",
       "\n",
       "    .dataframe thead th {\n",
       "        text-align: right;\n",
       "    }\n",
       "</style>\n",
       "<table border=\"1\" class=\"dataframe\">\n",
       "  <thead>\n",
       "    <tr style=\"text-align: right;\">\n",
       "      <th></th>\n",
       "      <th>transactionId</th>\n",
       "      <th>visitorId</th>\n",
       "      <th>date</th>\n",
       "      <th>revenue</th>\n",
       "      <th>group</th>\n",
       "    </tr>\n",
       "  </thead>\n",
       "  <tbody>\n",
       "    <tr>\n",
       "      <th>0</th>\n",
       "      <td>3667963787</td>\n",
       "      <td>3312258926</td>\n",
       "      <td>2019-08-15</td>\n",
       "      <td>1650</td>\n",
       "      <td>B</td>\n",
       "    </tr>\n",
       "    <tr>\n",
       "      <th>1</th>\n",
       "      <td>2804400009</td>\n",
       "      <td>3642806036</td>\n",
       "      <td>2019-08-15</td>\n",
       "      <td>730</td>\n",
       "      <td>B</td>\n",
       "    </tr>\n",
       "    <tr>\n",
       "      <th>2</th>\n",
       "      <td>2961555356</td>\n",
       "      <td>4069496402</td>\n",
       "      <td>2019-08-15</td>\n",
       "      <td>400</td>\n",
       "      <td>A</td>\n",
       "    </tr>\n",
       "    <tr>\n",
       "      <th>3</th>\n",
       "      <td>3797467345</td>\n",
       "      <td>1196621759</td>\n",
       "      <td>2019-08-15</td>\n",
       "      <td>9759</td>\n",
       "      <td>B</td>\n",
       "    </tr>\n",
       "    <tr>\n",
       "      <th>4</th>\n",
       "      <td>2282983706</td>\n",
       "      <td>2322279887</td>\n",
       "      <td>2019-08-15</td>\n",
       "      <td>2308</td>\n",
       "      <td>B</td>\n",
       "    </tr>\n",
       "  </tbody>\n",
       "</table>\n",
       "</div>"
      ],
      "text/plain": [
       "   transactionId   visitorId       date  revenue group\n",
       "0     3667963787  3312258926 2019-08-15     1650     B\n",
       "1     2804400009  3642806036 2019-08-15      730     B\n",
       "2     2961555356  4069496402 2019-08-15      400     A\n",
       "3     3797467345  1196621759 2019-08-15     9759     B\n",
       "4     2282983706  2322279887 2019-08-15     2308     B"
      ]
     },
     "execution_count": 2,
     "metadata": {},
     "output_type": "execute_result"
    }
   ],
   "source": [
    "# Открываем датасет orders\n",
    "orders = pd.read_csv('/datasets/orders.csv',sep=',')\n",
    "orders['date'] = orders['date'].map(\n",
    "    lambda x: dt.datetime.strptime(x, '%Y-%m-%d')\n",
    ")\n",
    "orders.info()\n",
    "orders.head(5)"
   ]
  },
  {
   "cell_type": "code",
   "execution_count": 3,
   "metadata": {},
   "outputs": [
    {
     "name": "stdout",
     "output_type": "stream",
     "text": [
      "<class 'pandas.core.frame.DataFrame'>\n",
      "RangeIndex: 62 entries, 0 to 61\n",
      "Data columns (total 3 columns):\n",
      " #   Column    Non-Null Count  Dtype         \n",
      "---  ------    --------------  -----         \n",
      " 0   date      62 non-null     datetime64[ns]\n",
      " 1   group     62 non-null     object        \n",
      " 2   visitors  62 non-null     int64         \n",
      "dtypes: datetime64[ns](1), int64(1), object(1)\n",
      "memory usage: 1.6+ KB\n"
     ]
    },
    {
     "data": {
      "text/html": [
       "<div>\n",
       "<style scoped>\n",
       "    .dataframe tbody tr th:only-of-type {\n",
       "        vertical-align: middle;\n",
       "    }\n",
       "\n",
       "    .dataframe tbody tr th {\n",
       "        vertical-align: top;\n",
       "    }\n",
       "\n",
       "    .dataframe thead th {\n",
       "        text-align: right;\n",
       "    }\n",
       "</style>\n",
       "<table border=\"1\" class=\"dataframe\">\n",
       "  <thead>\n",
       "    <tr style=\"text-align: right;\">\n",
       "      <th></th>\n",
       "      <th>date</th>\n",
       "      <th>group</th>\n",
       "      <th>visitors</th>\n",
       "    </tr>\n",
       "  </thead>\n",
       "  <tbody>\n",
       "    <tr>\n",
       "      <th>0</th>\n",
       "      <td>2019-08-01</td>\n",
       "      <td>A</td>\n",
       "      <td>719</td>\n",
       "    </tr>\n",
       "    <tr>\n",
       "      <th>1</th>\n",
       "      <td>2019-08-02</td>\n",
       "      <td>A</td>\n",
       "      <td>619</td>\n",
       "    </tr>\n",
       "    <tr>\n",
       "      <th>2</th>\n",
       "      <td>2019-08-03</td>\n",
       "      <td>A</td>\n",
       "      <td>507</td>\n",
       "    </tr>\n",
       "    <tr>\n",
       "      <th>3</th>\n",
       "      <td>2019-08-04</td>\n",
       "      <td>A</td>\n",
       "      <td>717</td>\n",
       "    </tr>\n",
       "    <tr>\n",
       "      <th>4</th>\n",
       "      <td>2019-08-05</td>\n",
       "      <td>A</td>\n",
       "      <td>756</td>\n",
       "    </tr>\n",
       "  </tbody>\n",
       "</table>\n",
       "</div>"
      ],
      "text/plain": [
       "        date group  visitors\n",
       "0 2019-08-01     A       719\n",
       "1 2019-08-02     A       619\n",
       "2 2019-08-03     A       507\n",
       "3 2019-08-04     A       717\n",
       "4 2019-08-05     A       756"
      ]
     },
     "execution_count": 3,
     "metadata": {},
     "output_type": "execute_result"
    }
   ],
   "source": [
    "# Открываем датасет visitors\n",
    "visitors = pd.read_csv('/datasets/visitors.csv',sep=',')\n",
    "visitors['date'] = visitors['date'].map(\n",
    "    lambda x: dt.datetime.strptime(x, '%Y-%m-%d')\n",
    ")\n",
    "visitors.info()\n",
    "visitors.head(5)"
   ]
  },
  {
   "cell_type": "code",
   "execution_count": 4,
   "metadata": {},
   "outputs": [
    {
     "data": {
      "text/plain": [
       "0"
      ]
     },
     "metadata": {},
     "output_type": "display_data"
    }
   ],
   "source": [
    "# Проверяем датасет на наилчие дубликатов \n",
    "display(orders.duplicated().sum())"
   ]
  },
  {
   "cell_type": "code",
   "execution_count": 5,
   "metadata": {},
   "outputs": [
    {
     "data": {
      "text/plain": [
       "transactionId    0\n",
       "visitorId        0\n",
       "date             0\n",
       "revenue          0\n",
       "group            0\n",
       "dtype: int64"
      ]
     },
     "execution_count": 5,
     "metadata": {},
     "output_type": "execute_result"
    }
   ],
   "source": [
    "# Проверяем датасет на наилчие пропусков\n",
    "orders.isna().sum()"
   ]
  },
  {
   "cell_type": "code",
   "execution_count": 6,
   "metadata": {},
   "outputs": [
    {
     "data": {
      "text/plain": [
       "0"
      ]
     },
     "execution_count": 6,
     "metadata": {},
     "output_type": "execute_result"
    }
   ],
   "source": [
    "# Проверяем датасет на наилчие дубликатов \n",
    "visitors.duplicated().sum()"
   ]
  },
  {
   "cell_type": "code",
   "execution_count": 7,
   "metadata": {},
   "outputs": [
    {
     "data": {
      "text/plain": [
       "date        0\n",
       "group       0\n",
       "visitors    0\n",
       "dtype: int64"
      ]
     },
     "execution_count": 7,
     "metadata": {},
     "output_type": "execute_result"
    }
   ],
   "source": [
    "# Проверяем датасет на наилчие пропусков\n",
    "visitors.isna().sum()"
   ]
  },
  {
   "cell_type": "markdown",
   "metadata": {},
   "source": [
    "Согласно подготовки данных, в датасетах нет дубликатов и пропусков, так же практически все столбцы имеют верный тип данных. Единственные изменения понадобились колонкам с датами, их мы привели к единому формату и типу datetime."
   ]
  },
  {
   "cell_type": "markdown",
   "metadata": {},
   "source": [
    "<b>Приоритизация гипотез.</b>"
   ]
  },
  {
   "cell_type": "code",
   "execution_count": 8,
   "metadata": {},
   "outputs": [],
   "source": [
    "#Читаем датасет с результатами A/B теста \n",
    "hypothesis = pd.read_csv('/datasets/hypothesis.csv')  "
   ]
  },
  {
   "cell_type": "code",
   "execution_count": 9,
   "metadata": {},
   "outputs": [
    {
     "data": {
      "text/html": [
       "<div>\n",
       "<style scoped>\n",
       "    .dataframe tbody tr th:only-of-type {\n",
       "        vertical-align: middle;\n",
       "    }\n",
       "\n",
       "    .dataframe tbody tr th {\n",
       "        vertical-align: top;\n",
       "    }\n",
       "\n",
       "    .dataframe thead th {\n",
       "        text-align: right;\n",
       "    }\n",
       "</style>\n",
       "<table border=\"1\" class=\"dataframe\">\n",
       "  <thead>\n",
       "    <tr style=\"text-align: right;\">\n",
       "      <th></th>\n",
       "      <th>Hypothesis</th>\n",
       "      <th>Reach</th>\n",
       "      <th>Impact</th>\n",
       "      <th>Confidence</th>\n",
       "      <th>Efforts</th>\n",
       "    </tr>\n",
       "  </thead>\n",
       "  <tbody>\n",
       "    <tr>\n",
       "      <th>0</th>\n",
       "      <td>Добавить два новых канала привлечения трафика,...</td>\n",
       "      <td>3</td>\n",
       "      <td>10</td>\n",
       "      <td>8</td>\n",
       "      <td>6</td>\n",
       "    </tr>\n",
       "    <tr>\n",
       "      <th>1</th>\n",
       "      <td>Запустить собственную службу доставки, что сок...</td>\n",
       "      <td>2</td>\n",
       "      <td>5</td>\n",
       "      <td>4</td>\n",
       "      <td>10</td>\n",
       "    </tr>\n",
       "    <tr>\n",
       "      <th>2</th>\n",
       "      <td>Добавить блоки рекомендаций товаров на сайт ин...</td>\n",
       "      <td>8</td>\n",
       "      <td>3</td>\n",
       "      <td>7</td>\n",
       "      <td>3</td>\n",
       "    </tr>\n",
       "    <tr>\n",
       "      <th>3</th>\n",
       "      <td>Изменить структура категорий, что увеличит кон...</td>\n",
       "      <td>8</td>\n",
       "      <td>3</td>\n",
       "      <td>3</td>\n",
       "      <td>8</td>\n",
       "    </tr>\n",
       "    <tr>\n",
       "      <th>4</th>\n",
       "      <td>Изменить цвет фона главной страницы, чтобы уве...</td>\n",
       "      <td>3</td>\n",
       "      <td>1</td>\n",
       "      <td>1</td>\n",
       "      <td>1</td>\n",
       "    </tr>\n",
       "  </tbody>\n",
       "</table>\n",
       "</div>"
      ],
      "text/plain": [
       "                                          Hypothesis  Reach  Impact  \\\n",
       "0  Добавить два новых канала привлечения трафика,...      3      10   \n",
       "1  Запустить собственную службу доставки, что сок...      2       5   \n",
       "2  Добавить блоки рекомендаций товаров на сайт ин...      8       3   \n",
       "3  Изменить структура категорий, что увеличит кон...      8       3   \n",
       "4  Изменить цвет фона главной страницы, чтобы уве...      3       1   \n",
       "\n",
       "   Confidence  Efforts  \n",
       "0           8        6  \n",
       "1           4       10  \n",
       "2           7        3  \n",
       "3           3        8  \n",
       "4           1        1  "
      ]
     },
     "execution_count": 9,
     "metadata": {},
     "output_type": "execute_result"
    }
   ],
   "source": [
    "hypothesis.head(5)"
   ]
  },
  {
   "cell_type": "code",
   "execution_count": 10,
   "metadata": {},
   "outputs": [],
   "source": [
    "#Для удобства анализа, имена колонок приводим к нижнему регистру  \n",
    "hypothesis.columns = hypothesis.columns.str.lower()"
   ]
  },
  {
   "cell_type": "code",
   "execution_count": 11,
   "metadata": {},
   "outputs": [],
   "source": [
    "#Добавляем столбец с приоритезацией по методу ICE к датасету с результатами А/В теста\n",
    "hypothesis['ICE'] = (hypothesis['impact'] * hypothesis['confidence']/hypothesis['efforts'])"
   ]
  },
  {
   "cell_type": "code",
   "execution_count": 12,
   "metadata": {},
   "outputs": [
    {
     "data": {
      "text/html": [
       "<div>\n",
       "<style scoped>\n",
       "    .dataframe tbody tr th:only-of-type {\n",
       "        vertical-align: middle;\n",
       "    }\n",
       "\n",
       "    .dataframe tbody tr th {\n",
       "        vertical-align: top;\n",
       "    }\n",
       "\n",
       "    .dataframe thead th {\n",
       "        text-align: right;\n",
       "    }\n",
       "</style>\n",
       "<table border=\"1\" class=\"dataframe\">\n",
       "  <thead>\n",
       "    <tr style=\"text-align: right;\">\n",
       "      <th></th>\n",
       "      <th>hypothesis</th>\n",
       "      <th>reach</th>\n",
       "      <th>impact</th>\n",
       "      <th>confidence</th>\n",
       "      <th>efforts</th>\n",
       "      <th>ICE</th>\n",
       "    </tr>\n",
       "  </thead>\n",
       "  <tbody>\n",
       "    <tr>\n",
       "      <th>8</th>\n",
       "      <td>Запустить акцию, дающую скидку на товар в день...</td>\n",
       "      <td>1</td>\n",
       "      <td>9</td>\n",
       "      <td>9</td>\n",
       "      <td>5</td>\n",
       "      <td>16.200000</td>\n",
       "    </tr>\n",
       "    <tr>\n",
       "      <th>0</th>\n",
       "      <td>Добавить два новых канала привлечения трафика,...</td>\n",
       "      <td>3</td>\n",
       "      <td>10</td>\n",
       "      <td>8</td>\n",
       "      <td>6</td>\n",
       "      <td>13.333333</td>\n",
       "    </tr>\n",
       "    <tr>\n",
       "      <th>7</th>\n",
       "      <td>Добавить форму подписки на все основные страни...</td>\n",
       "      <td>10</td>\n",
       "      <td>7</td>\n",
       "      <td>8</td>\n",
       "      <td>5</td>\n",
       "      <td>11.200000</td>\n",
       "    </tr>\n",
       "    <tr>\n",
       "      <th>6</th>\n",
       "      <td>Показать на главной странице баннеры с актуаль...</td>\n",
       "      <td>5</td>\n",
       "      <td>3</td>\n",
       "      <td>8</td>\n",
       "      <td>3</td>\n",
       "      <td>8.000000</td>\n",
       "    </tr>\n",
       "    <tr>\n",
       "      <th>2</th>\n",
       "      <td>Добавить блоки рекомендаций товаров на сайт ин...</td>\n",
       "      <td>8</td>\n",
       "      <td>3</td>\n",
       "      <td>7</td>\n",
       "      <td>3</td>\n",
       "      <td>7.000000</td>\n",
       "    </tr>\n",
       "  </tbody>\n",
       "</table>\n",
       "</div>"
      ],
      "text/plain": [
       "                                          hypothesis  reach  impact  \\\n",
       "8  Запустить акцию, дающую скидку на товар в день...      1       9   \n",
       "0  Добавить два новых канала привлечения трафика,...      3      10   \n",
       "7  Добавить форму подписки на все основные страни...     10       7   \n",
       "6  Показать на главной странице баннеры с актуаль...      5       3   \n",
       "2  Добавить блоки рекомендаций товаров на сайт ин...      8       3   \n",
       "\n",
       "   confidence  efforts        ICE  \n",
       "8           9        5  16.200000  \n",
       "0           8        6  13.333333  \n",
       "7           8        5  11.200000  \n",
       "6           8        3   8.000000  \n",
       "2           7        3   7.000000  "
      ]
     },
     "execution_count": 12,
     "metadata": {},
     "output_type": "execute_result"
    }
   ],
   "source": [
    "#Выводим датасет с результатами.\n",
    "hypothesis.sort_values(by='ICE',ascending=False).head(5)"
   ]
  },
  {
   "cell_type": "markdown",
   "metadata": {},
   "source": [
    "ICE (от англ. impact, confidence, effort / ease «влияние, уверенность, усилия / простота») — один из самых популярных способов приоритизации задач. Согласно таблице наиболее приритетные гипотезы под номерами 8,0,7. Но спешить и выбирать данные гипотезы для проверки не стоит нужно посмотреть на модифицированный метод приоритезации RICE."
   ]
  },
  {
   "cell_type": "code",
   "execution_count": 13,
   "metadata": {},
   "outputs": [],
   "source": [
    "#Добавляем столбец с приоритезацией по методу RICE к датасету с результатами А/В теста\n",
    "hypothesis['RICE'] = (hypothesis['reach'] * hypothesis['impact'] * hypothesis['confidence']/hypothesis['efforts'])"
   ]
  },
  {
   "cell_type": "code",
   "execution_count": 52,
   "metadata": {},
   "outputs": [
    {
     "data": {
      "text/html": [
       "<div>\n",
       "<style scoped>\n",
       "    .dataframe tbody tr th:only-of-type {\n",
       "        vertical-align: middle;\n",
       "    }\n",
       "\n",
       "    .dataframe tbody tr th {\n",
       "        vertical-align: top;\n",
       "    }\n",
       "\n",
       "    .dataframe thead th {\n",
       "        text-align: right;\n",
       "    }\n",
       "</style>\n",
       "<table border=\"1\" class=\"dataframe\">\n",
       "  <thead>\n",
       "    <tr style=\"text-align: right;\">\n",
       "      <th></th>\n",
       "      <th>hypothesis</th>\n",
       "      <th>reach</th>\n",
       "      <th>impact</th>\n",
       "      <th>confidence</th>\n",
       "      <th>efforts</th>\n",
       "      <th>ICE</th>\n",
       "      <th>RICE</th>\n",
       "    </tr>\n",
       "  </thead>\n",
       "  <tbody>\n",
       "    <tr>\n",
       "      <th>7</th>\n",
       "      <td>Добавить форму подписки на все основные страницы, чтобы собрать базу клиентов для email-рассылок</td>\n",
       "      <td>10</td>\n",
       "      <td>7</td>\n",
       "      <td>8</td>\n",
       "      <td>5</td>\n",
       "      <td>11.200000</td>\n",
       "      <td>112.0</td>\n",
       "    </tr>\n",
       "    <tr>\n",
       "      <th>2</th>\n",
       "      <td>Добавить блоки рекомендаций товаров на сайт интернет магазина, чтобы повысить конверсию и средний чек заказа</td>\n",
       "      <td>8</td>\n",
       "      <td>3</td>\n",
       "      <td>7</td>\n",
       "      <td>3</td>\n",
       "      <td>7.000000</td>\n",
       "      <td>56.0</td>\n",
       "    </tr>\n",
       "    <tr>\n",
       "      <th>0</th>\n",
       "      <td>Добавить два новых канала привлечения трафика, что позволит привлекать на 30% больше пользователей</td>\n",
       "      <td>3</td>\n",
       "      <td>10</td>\n",
       "      <td>8</td>\n",
       "      <td>6</td>\n",
       "      <td>13.333333</td>\n",
       "      <td>40.0</td>\n",
       "    </tr>\n",
       "    <tr>\n",
       "      <th>6</th>\n",
       "      <td>Показать на главной странице баннеры с актуальными акциями и распродажами, чтобы увеличить конверсию</td>\n",
       "      <td>5</td>\n",
       "      <td>3</td>\n",
       "      <td>8</td>\n",
       "      <td>3</td>\n",
       "      <td>8.000000</td>\n",
       "      <td>40.0</td>\n",
       "    </tr>\n",
       "    <tr>\n",
       "      <th>8</th>\n",
       "      <td>Запустить акцию, дающую скидку на товар в день рождения</td>\n",
       "      <td>1</td>\n",
       "      <td>9</td>\n",
       "      <td>9</td>\n",
       "      <td>5</td>\n",
       "      <td>16.200000</td>\n",
       "      <td>16.2</td>\n",
       "    </tr>\n",
       "  </tbody>\n",
       "</table>\n",
       "</div>"
      ],
      "text/plain": [
       "                                                                                                     hypothesis  \\\n",
       "7              Добавить форму подписки на все основные страницы, чтобы собрать базу клиентов для email-рассылок   \n",
       "2  Добавить блоки рекомендаций товаров на сайт интернет магазина, чтобы повысить конверсию и средний чек заказа   \n",
       "0            Добавить два новых канала привлечения трафика, что позволит привлекать на 30% больше пользователей   \n",
       "6          Показать на главной странице баннеры с актуальными акциями и распродажами, чтобы увеличить конверсию   \n",
       "8                                                       Запустить акцию, дающую скидку на товар в день рождения   \n",
       "\n",
       "   reach  impact  confidence  efforts        ICE   RICE  \n",
       "7     10       7           8        5  11.200000  112.0  \n",
       "2      8       3           7        3   7.000000   56.0  \n",
       "0      3      10           8        6  13.333333   40.0  \n",
       "6      5       3           8        3   8.000000   40.0  \n",
       "8      1       9           9        5  16.200000   16.2  "
      ]
     },
     "execution_count": 52,
     "metadata": {},
     "output_type": "execute_result"
    }
   ],
   "source": [
    "#Выводим датасет с результатами.\n",
    "pd.options.display.max_colwidth = 120\n",
    "hypothesis.sort_values(by='RICE',ascending=False).head(5)"
   ]
  },
  {
   "cell_type": "markdown",
   "metadata": {},
   "source": [
    "Если обратить внимание на метод ICE, то можно выделить гипотезы под номерами 8,0,7. А в методике RICE, лидирующие позиции занимают гипотезы под номерами 7,2,0. В данном случае изменение произошло всвязи с ключевой метрикой reach, в методе RICE. Он равен 10 и 8 у 7 и 2 гипотезы. Важно обращать внимание не только на силу гипотезы но и на количество пользователей которых она затронет. В данном случае приоритетные гипотезы будут под номерами 2,0,7.\n",
    "Reach — параметр указывает на то какое количество пользователей затронит изменение, которое захотим внести."
   ]
  },
  {
   "cell_type": "markdown",
   "metadata": {},
   "source": [
    "<b>Анализ A/B-теста</b>"
   ]
  },
  {
   "cell_type": "code",
   "execution_count": 15,
   "metadata": {},
   "outputs": [],
   "source": [
    "# создаем массив уникальных пар значений дат и групп теста\n",
    "datesGroups = orders[['date','group']].drop_duplicates()"
   ]
  },
  {
   "cell_type": "code",
   "execution_count": 16,
   "metadata": {},
   "outputs": [],
   "source": [
    "# получаем агрегированные кумулятивные по дням данные о заказах \n",
    "ordersAggregated = datesGroups.apply(\n",
    "    lambda x:orders[np.logical_and(orders['date'] <= x['date'], orders['group'] == x['group'])].agg({\n",
    "'date' : 'max',\n",
    "'group' : 'max',\n",
    "'transactionId' : 'nunique',\n",
    "'visitorId' : 'nunique',\n",
    "'revenue' : 'sum'}), axis=1).sort_values(by=['date','group'])"
   ]
  },
  {
   "cell_type": "code",
   "execution_count": 17,
   "metadata": {},
   "outputs": [],
   "source": [
    "#получаем агрегированные кумулятивные по дням данные о посетителях интернет-магазина \n",
    "visitorsAggregated = datesGroups.apply(\n",
    "    lambda x: visitors[np.logical_and(visitors['date'] <= x['date'], visitors['group'] == x['group'])].agg({\n",
    "'date' : 'max',\n",
    "'group' : 'max',\n",
    "'visitors' : 'sum'}), axis=1).sort_values(by=['date','group'])"
   ]
  },
  {
   "cell_type": "code",
   "execution_count": 18,
   "metadata": {},
   "outputs": [],
   "source": [
    "#объединяем кумулятивные данные в одной таблице и присваиваем ее столбцам понятные названия\n",
    "cumulativeData = ordersAggregated.merge(visitorsAggregated, left_on=['date', 'group'], right_on=['date', 'group'])\n",
    "cumulativeData.columns = ['date', 'group', 'orders', 'buyers', 'revenue', 'visitors']"
   ]
  },
  {
   "cell_type": "code",
   "execution_count": 19,
   "metadata": {},
   "outputs": [
    {
     "name": "stdout",
     "output_type": "stream",
     "text": [
      "        date group  orders  buyers  revenue  visitors\n",
      "0 2019-08-01     A      24      20   148579       719\n",
      "1 2019-08-01     B      21      20   101217       713\n",
      "2 2019-08-02     A      44      38   242401      1338\n",
      "3 2019-08-02     B      45      43   266748      1294\n",
      "4 2019-08-03     A      68      62   354874      1845\n"
     ]
    }
   ],
   "source": [
    "#Выводим датасет с агригированными комулятивными значениями \n",
    "print(cumulativeData.head(5))"
   ]
  },
  {
   "cell_type": "code",
   "execution_count": 20,
   "metadata": {},
   "outputs": [
    {
     "data": {
      "image/png": "[encoded data removed]",
      "text/plain": [
       "<Figure size 864x432 with 1 Axes>"
      ]
     },
     "metadata": {
      "needs_background": "light"
     },
     "output_type": "display_data"
    }
   ],
   "source": [
    "# датафрейм с кумулятивной выручкой в группе А\n",
    "cumulativeRevenueA = cumulativeData[cumulativeData['group']=='A']\n",
    "\n",
    "# датафрейм с кумулятивной выручкой в группе B\n",
    "cumulativeRevenueB = cumulativeData[cumulativeData['group']=='B']\n",
    "# Задаём размер графика \n",
    "plt.figure(figsize=(12,6))\n",
    "# Строим график выручки группы А\n",
    "plt.plot(cumulativeRevenueA['date'], cumulativeRevenueA['revenue'], label='A')\n",
    "\n",
    "# Строим график выручки группы B\n",
    "plt.plot(cumulativeRevenueB['date'], cumulativeRevenueB['revenue'], label='B')\n",
    "plt.ylabel('Выручка')\n",
    "plt.xlabel('Дата')\n",
    "plt.title('Графики кумулятивной выручки по группам A/B')\n",
    "plt.legend() \n",
    "plt.show()"
   ]
  },
  {
   "cell_type": "markdown",
   "metadata": {},
   "source": [
    "Выручка почти равномерно увеличивается в течение всего теста. Хороший знак. Однако по графику видно что в некоторых точках выручка группы В резко растёт. Это может сигнализировать о всплесках числа заказов, либо о появлении очень дорогих заказов в выборке."
   ]
  },
  {
   "cell_type": "code",
   "execution_count": 21,
   "metadata": {},
   "outputs": [
    {
     "data": {
      "image/png": "[encoded data removed]",
      "text/plain": [
       "<Figure size 864x432 with 1 Axes>"
      ]
     },
     "metadata": {
      "needs_background": "light"
     },
     "output_type": "display_data"
    }
   ],
   "source": [
    "# Задаём размер графика \n",
    "plt.figure(figsize=(12,6))\n",
    "\n",
    "plt.plot(cumulativeRevenueA['date'], cumulativeRevenueA['revenue']/cumulativeRevenueA['orders'], label='A')\n",
    "plt.plot(cumulativeRevenueB['date'], cumulativeRevenueB['revenue']/cumulativeRevenueB['orders'], label='B')\n",
    "\n",
    "plt.ylabel('Выручка')\n",
    "plt.xlabel('Дата')\n",
    "plt.title('График кумулятивного среднего чека по группам A/B')\n",
    "plt.legend() \n",
    "plt.show()"
   ]
  },
  {
   "cell_type": "markdown",
   "metadata": {},
   "source": [
    "Согласно графику наблюдается всё так же рост среднего чека с резкими перепадами в начале теста по обеим группам. Однако ближе к концу теста видно что обе группы стабилизируются, но грауппа А продолжает увеличивать размер среднего чека а вот группа В наоборот падает. "
   ]
  },
  {
   "cell_type": "code",
   "execution_count": 22,
   "metadata": {},
   "outputs": [
    {
     "data": {
      "image/png": "[encoded data removed]",
      "text/plain": [
       "<Figure size 864x432 with 1 Axes>"
      ]
     },
     "metadata": {
      "needs_background": "light"
     },
     "output_type": "display_data"
    }
   ],
   "source": [
    "# собираем данные в одном датафрейме\n",
    "mergedCumulativeRevenue = cumulativeRevenueA.merge(cumulativeRevenueB, left_on='date', right_on='date', how='left', suffixes=['A', 'B'])\n",
    "plt.figure(figsize=(12,6))\n",
    "# cтроим отношение средних чеков\n",
    "plt.plot(mergedCumulativeRevenue['date'], (mergedCumulativeRevenue['revenueB']/mergedCumulativeRevenue['ordersB'])/(mergedCumulativeRevenue['revenueA']/mergedCumulativeRevenue['ordersA'])-1)\n",
    "\n",
    "# добавляем ось X\n",
    "plt.axhline(y=0, color='black', linestyle='--') \n",
    "plt.xlabel('Дата')\n",
    "plt.title('График относительного изменения кумулятивного среднего чека группы B к группе A')\n",
    "plt.show()"
   ]
  },
  {
   "cell_type": "markdown",
   "metadata": {},
   "source": [
    "В нескольких точках график различия между сегментами резко «скачет». Где-то уж точно спрятались крупные заказы и выбросы!"
   ]
  },
  {
   "cell_type": "code",
   "execution_count": 23,
   "metadata": {},
   "outputs": [
    {
     "data": {
      "image/png": "[encoded data removed]",
      "text/plain": [
       "<Figure size 864x432 with 1 Axes>"
      ]
     },
     "metadata": {
      "needs_background": "light"
     },
     "output_type": "display_data"
    }
   ],
   "source": [
    "plt.figure(figsize=(12,6))\n",
    "plt.plot(cumulativeRevenueA['date'], cumulativeRevenueA['orders']/cumulativeRevenueA['visitors'], label='A')\n",
    "plt.plot(cumulativeRevenueB['date'], cumulativeRevenueB['orders']/cumulativeRevenueB['visitors'], label='B')\n",
    "\n",
    "# добавляем ось X\n",
    "plt.xlabel('Дата')\n",
    "plt.title('График кумулятивного среднего количества заказов на посетителя по группам')\n",
    "plt.legend()\n",
    "plt.show()"
   ]
  },
  {
   "cell_type": "markdown",
   "metadata": {},
   "source": [
    "Среднее количество заказов относительно начала теста между группами примерно колебалось в одном диапазоне однако, далее группа В резко вырвалась вперёд и более или менее начала выравниваться к концу теста с дальнейшим предположительным ростом. Что нельзя сказать о группе А т.к. В начале теста был зафиксирован максимум кумулятивного среднего количества заказов на посетителя, но далее показатель начал стремительно падать с относительным выравниванием и дальнейшим падением к концу теста. "
   ]
  },
  {
   "cell_type": "code",
   "execution_count": 37,
   "metadata": {},
   "outputs": [
    {
     "data": {
      "image/png": "[encoded data removed]",
      "text/plain": [
       "<Figure size 864x432 with 1 Axes>"
      ]
     },
     "metadata": {
      "needs_background": "light"
     },
     "output_type": "display_data"
    }
   ],
   "source": [
    "plt.figure(figsize=(12,6))\n",
    "# cтроим отношение средних чеков\n",
    "plt.plot(mergedCumulativeRevenue['date'], (mergedCumulativeRevenue['ordersB']/mergedCumulativeRevenue['visitorsB'])/(mergedCumulativeRevenue['ordersA']/mergedCumulativeRevenue['visitorsA'])-1)\n",
    "\n",
    "# добавляем ось X\n",
    "plt.axhline(y=0, color='black', linestyle='--') \n",
    "plt.axhline(y=0.1, color='grey', linestyle='--') \n",
    "plt.xlabel('Дата')\n",
    "plt.title('График относительного изменения кумулятивного среднего количества заказов на посетителя группы B к группе A')\n",
    "plt.show()"
   ]
  },
  {
   "cell_type": "markdown",
   "metadata": {},
   "source": [
    "В начале теста группа B значительно проигрывала группе A, затем резко вырвалась вперёд.\n",
    "В целом отношение конверсии ещё не установилось, и сейчас делать какие-либо выводы по тесту нельзя. Впрочем, сперва стоит проанализировать аномалии, возможно, они изменят картину"
   ]
  },
  {
   "cell_type": "code",
   "execution_count": 25,
   "metadata": {},
   "outputs": [
    {
     "data": {
      "image/png": "[encoded data removed]",
      "text/plain": [
       "<Figure size 720x432 with 1 Axes>"
      ]
     },
     "metadata": {
      "needs_background": "light"
     },
     "output_type": "display_data"
    }
   ],
   "source": [
    "ordersByUsers = orders.groupby('visitorId', as_index = False).agg({'transactionId':'nunique'}).sort_values(by='transactionId', ascending = False)\n",
    "ordersByUsers.columns = ['visitorId', 'orders']\n",
    "plt.figure(figsize=(10,6))\n",
    "plt.hist(ordersByUsers['orders'], bins = 10)\n",
    "plt.title('Гистрограмма распределения заказов на одного пользователя')\n",
    "plt.show()"
   ]
  },
  {
   "cell_type": "code",
   "execution_count": 26,
   "metadata": {},
   "outputs": [
    {
     "data": {
      "image/png": "[encoded data removed]",
      "text/plain": [
       "<Figure size 720x432 with 1 Axes>"
      ]
     },
     "metadata": {
      "needs_background": "light"
     },
     "output_type": "display_data"
    }
   ],
   "source": [
    "x_values = pd.Series(range(0, len(ordersByUsers)))\n",
    "plt.figure(figsize=(10,6))\n",
    "plt.scatter(x_values, ordersByUsers['orders'])\n",
    "plt.title('Точечная диаграмма числа заказов на одного пользователя')\n",
    "plt.xlabel('Кол-во пользователей')\n",
    "plt.ylabel('Кол-во заказов')\n",
    "plt.show()"
   ]
  },
  {
   "cell_type": "markdown",
   "metadata": {},
   "source": [
    "Как и требовалось доказать. Согласно графикам Мужно заметить редких клиентов с количеством заказов более 2 и даже более 10. Как говориться выбросы очевидны. Теперь есть понимание о том какие данные следует отбросить для более точной проверки гипотез. "
   ]
  },
  {
   "cell_type": "code",
   "execution_count": 27,
   "metadata": {},
   "outputs": [
    {
     "name": "stdout",
     "output_type": "stream",
     "text": [
      "Перцентили:\n",
      "95: 2.0\n",
      "99: 4.0\n"
     ]
    }
   ],
   "source": [
    "# Считаем 95-й и 99-й перцентили количества заказов на пользователя.\n",
    "percentiles = np.percentile(ordersByUsers['orders'], [95, 99])\n",
    "print('Перцентили:\\n95: {}\\n99: {}'.format(percentiles[0],percentiles[1]))"
   ]
  },
  {
   "cell_type": "markdown",
   "metadata": {},
   "source": [
    "Не более 5% пользователей оформляли больше чем 2 заказа. И 1% пользователей заказывали более 4 раз. "
   ]
  },
  {
   "cell_type": "code",
   "execution_count": 28,
   "metadata": {},
   "outputs": [
    {
     "data": {
      "image/png": "[encoded data removed]",
      "text/plain": [
       "<Figure size 720x432 with 1 Axes>"
      ]
     },
     "metadata": {
      "needs_background": "light"
     },
     "output_type": "display_data"
    }
   ],
   "source": [
    "plt.figure(figsize=(10,6))\n",
    "plt.hist(orders['revenue'], range=(0,100000), bins = 100)\n",
    "plt.title('Гистрограмма распределения сумм заказов на одного пользователя')\n",
    "plt.show()"
   ]
  },
  {
   "cell_type": "code",
   "execution_count": 29,
   "metadata": {},
   "outputs": [
    {
     "data": {
      "image/png": "[encoded data removed]",
      "text/plain": [
       "<Figure size 720x432 with 1 Axes>"
      ]
     },
     "metadata": {
      "needs_background": "light"
     },
     "output_type": "display_data"
    }
   ],
   "source": [
    "x_values = pd.Series(range(0,len(orders['revenue'])))\n",
    "plt.figure(figsize=(10,6))\n",
    "plt.scatter(x_values, orders['revenue']) \n",
    "plt.title('Точечный график стоимостей заказов')\n",
    "plt.xlabel('Заказы')\n",
    "plt.ylabel('Стоимость заказов')\n",
    "plt.show()"
   ]
  },
  {
   "cell_type": "markdown",
   "metadata": {},
   "source": [
    "Согласно графиков основное количество заказов оформляются до 20 тыс. и более редко свыше примерно 30 тыс. Но так же следует обратить внимание на точечный график. на нём видно что есть очень редкие заказы свыше 100 тыс. и один заказ стоимостью более 1.2 млн. "
   ]
  },
  {
   "cell_type": "code",
   "execution_count": 30,
   "metadata": {},
   "outputs": [
    {
     "name": "stdout",
     "output_type": "stream",
     "text": [
      "Перцентили:\n",
      "95: 28000\n",
      "99: 58233\n"
     ]
    }
   ],
   "source": [
    "# Считаем 95-й и 99-й перцентили стоимости заказов.\n",
    "percentiles = np.percentile(orders['revenue'],[95, 99])\n",
    "print('Перцентили:\\n95: {:.0f}\\n99: {:.0f}'.format(percentiles[0],percentiles[1]))"
   ]
  },
  {
   "cell_type": "markdown",
   "metadata": {},
   "source": [
    "Не более 5% заказов дороже 28000 рублей и не более 1% дороже 58233 рублей."
   ]
  },
  {
   "cell_type": "markdown",
   "metadata": {},
   "source": [
    "Сформулируем гипотезы. \n",
    "Нулевая: различий в среднем количестве заказов между группами нет. \n",
    "Альтернативная: различия в среднем между группами есть.\n",
    "\n",
    "Нулевая: различий в среднем чеке заказов между группами нет. \n",
    "Альтернативная: различия в среднем между группами есть."
   ]
  },
  {
   "cell_type": "code",
   "execution_count": 31,
   "metadata": {},
   "outputs": [],
   "source": [
    "visitorsADaily = visitors[visitors['group'] == 'A'][['date', 'visitors']]\n",
    "visitorsADaily.columns = ['date', 'visitorsPerDateA']\n",
    "\n",
    "visitorsACummulative = visitorsADaily.apply(\n",
    "    lambda x: visitorsADaily[visitorsADaily['date'] <= x['date']].agg(\n",
    "        {'date': 'max', 'visitorsPerDateA': 'sum'}\n",
    "    ),\n",
    "    axis=1,\n",
    ")\n",
    "visitorsACummulative.columns = ['date', 'visitorsCummulativeA']\n",
    "\n",
    "visitorsBDaily = visitors[visitors['group'] == 'B'][['date', 'visitors']]\n",
    "visitorsBDaily.columns = ['date', 'visitorsPerDateB']\n",
    "\n",
    "visitorsBCummulative = visitorsBDaily.apply(\n",
    "    lambda x: visitorsBDaily[visitorsBDaily['date'] <= x['date']].agg(\n",
    "        {'date': 'max', 'visitorsPerDateB': 'sum'}\n",
    "    ),\n",
    "    axis=1,\n",
    ")\n",
    "visitorsBCummulative.columns = ['date', 'visitorsCummulativeB']\n",
    "\n",
    "ordersADaily = (\n",
    "    orders[orders['group'] == 'A'][['date', 'transactionId', 'visitorId', 'revenue']]\n",
    "    .groupby('date', as_index=False)\n",
    "    .agg({'transactionId': pd.Series.nunique, 'revenue': 'sum'})\n",
    ")\n",
    "ordersADaily.columns = ['date', 'ordersPerDateA', 'revenuePerDateA']\n",
    "\n",
    "ordersACummulative = ordersADaily.apply(\n",
    "    lambda x: ordersADaily[ordersADaily['date'] <= x['date']].agg(\n",
    "        {'date': 'max', 'ordersPerDateA': 'sum', 'revenuePerDateA': 'sum'}\n",
    "    ),\n",
    "    axis=1,\n",
    ").sort_values(by=['date'])\n",
    "ordersACummulative.columns = [\n",
    "    'date',\n",
    "    'ordersCummulativeA',\n",
    "    'revenueCummulativeA',\n",
    "]\n",
    "\n",
    "ordersBDaily = (\n",
    "    orders[orders['group'] == 'B'][['date', 'transactionId', 'visitorId', 'revenue']]\n",
    "    .groupby('date', as_index=False)\n",
    "    .agg({'transactionId': pd.Series.nunique, 'revenue': 'sum'})\n",
    ")\n",
    "ordersBDaily.columns = ['date', 'ordersPerDateB', 'revenuePerDateB']\n",
    "\n",
    "ordersBCummulative = ordersBDaily.apply(\n",
    "    lambda x: ordersBDaily[ordersBDaily['date'] <= x['date']].agg(\n",
    "        {'date': 'max', 'ordersPerDateB': 'sum', 'revenuePerDateB': 'sum'}\n",
    "    ),\n",
    "    axis=1,\n",
    ").sort_values(by=['date'])\n",
    "ordersBCummulative.columns = [\n",
    "    'date',\n",
    "    'ordersCummulativeB',\n",
    "    'revenueCummulativeB',\n",
    "]\n",
    "\n",
    "data = (\n",
    "    ordersADaily.merge(\n",
    "        ordersBDaily, left_on='date', right_on='date', how='left'\n",
    "    )\n",
    "    .merge(ordersACummulative, left_on='date', right_on='date', how='left')\n",
    "    .merge(ordersBCummulative, left_on='date', right_on='date', how='left')\n",
    "    .merge(visitorsADaily, left_on='date', right_on='date', how='left')\n",
    "    .merge(visitorsBDaily, left_on='date', right_on='date', how='left')\n",
    "    .merge(visitorsACummulative, left_on='date', right_on='date', how='left')\n",
    "    .merge(visitorsBCummulative, left_on='date', right_on='date', how='left')\n",
    ")\n"
   ]
  },
  {
   "cell_type": "code",
   "execution_count": 32,
   "metadata": {},
   "outputs": [
    {
     "name": "stdout",
     "output_type": "stream",
     "text": [
      "Относительный 'выигрыш' группы B по отношению к группе A: 0.138\n",
      "P-value: 0.017\n",
      "По неочищенным данным групп A и B разница есть\n"
     ]
    }
   ],
   "source": [
    "ordersByUsersA = (\n",
    "    orders[orders['group'] == 'A']\n",
    "    .groupby('visitorId', as_index=False)\n",
    "    .agg({'transactionId': pd.Series.nunique})\n",
    ")\n",
    "ordersByUsersA.columns = ['userId', 'orders']\n",
    "\n",
    "ordersByUsersB = (\n",
    "    orders[orders['group'] == 'B']\n",
    "    .groupby('visitorId', as_index=False)\n",
    "    .agg({'transactionId': pd.Series.nunique})\n",
    ")\n",
    "ordersByUsersB.columns = ['userId', 'orders']\n",
    "\n",
    "sampleA = pd.concat(\n",
    "    [\n",
    "        ordersByUsersA['orders'],\n",
    "        pd.Series(\n",
    "            0,\n",
    "            index=np.arange(\n",
    "                data['visitorsPerDateA'].sum() - len(ordersByUsersA['orders'])\n",
    "            ),\n",
    "            name='orders',\n",
    "        ),\n",
    "    ],\n",
    "    axis=0,\n",
    ")\n",
    "\n",
    "sampleB = pd.concat(\n",
    "    [\n",
    "        ordersByUsersB['orders'],\n",
    "        pd.Series(\n",
    "            0,\n",
    "            index=np.arange(\n",
    "                data['visitorsPerDateB'].sum() - len(ordersByUsersB['orders'])\n",
    "            ),\n",
    "            name='orders',\n",
    "        ),\n",
    "    ],\n",
    "    axis=0,\n",
    ")\n",
    "alpha = .05\n",
    "results = stats.mannwhitneyu(sampleA, sampleB)\n",
    "\n",
    "print(\"Относительный 'выигрыш' группы B по отношению к группе A: {0:.3f}\".format(sampleB.mean() / sampleA.mean() - 1))\n",
    "print('P-value: {:.3f}'.format(results.pvalue))\n",
    "if results.pvalue < alpha:\n",
    "    print('По неочищенным данным групп A и B разница есть')\n",
    "else:\n",
    "    print('По неочищенным данным различий между группами A и B нет')"
   ]
  },
  {
   "cell_type": "markdown",
   "metadata": {},
   "source": [
    "p-value = 0.017 меньше 0.05. Значит, нулевую гипотезу о том что, различий в среднем количестве заказов между группами нет, отвергаем. Так же и относительный проигрыш группы А равен 13.8%"
   ]
  },
  {
   "cell_type": "code",
   "execution_count": 33,
   "metadata": {},
   "outputs": [
    {
     "name": "stdout",
     "output_type": "stream",
     "text": [
      "Относительное изменение среднего чека в группе B по отношению группы A: 0.259\n",
      "P-value: 0.729\n",
      "По неочищенным данным различий между группами A и B нет\n"
     ]
    }
   ],
   "source": [
    "results = stats.mannwhitneyu(orders[orders['group']=='A']['revenue'], orders[orders['group']=='B']['revenue'])\n",
    "\n",
    "print('Относительное изменение среднего чека в группе B по отношению группы A: {0:.3f}'.format(orders[orders['group']=='B']['revenue'].mean()/orders[orders['group']=='A']['revenue'].mean()-1))\n",
    "print('P-value: {:.3f}'.format(results.pvalue))\n",
    "if results.pvalue < alpha:\n",
    "    print('По неочищенным данным групп A и B разница есть')\n",
    "else:\n",
    "    print('По неочищенным данным различий между группами A и B нет')"
   ]
  },
  {
   "cell_type": "markdown",
   "metadata": {},
   "source": [
    "p-value = 0.729 больше 0.05. Значит, нулевую гипотезу о том что, различий в среднем чеке заказов между группами нет, не отвергаем. В то же время относительный проигрыш группы А равен 25.9%"
   ]
  },
  {
   "cell_type": "code",
   "execution_count": 34,
   "metadata": {},
   "outputs": [
    {
     "name": "stdout",
     "output_type": "stream",
     "text": [
      "Количество аномальных пользователей: 74\n"
     ]
    }
   ],
   "source": [
    "#Посчитаем количество аномальных пользователей \n",
    "usersWithManyOrders = pd.concat(\n",
    "    [\n",
    "        ordersByUsersA[ordersByUsersA['orders'] > 2]['userId'],\n",
    "        ordersByUsersB[ordersByUsersB['orders'] > 2]['userId'],\n",
    "    ],\n",
    "    axis=0,\n",
    ")\n",
    "usersWithExpensiveOrders = orders[orders['revenue'] > 28000]['visitorId']\n",
    "abnormalUsers = (\n",
    "    pd.concat([usersWithManyOrders, usersWithExpensiveOrders], axis=0)\n",
    "    .drop_duplicates()\n",
    "    .sort_values()\n",
    ")\n",
    "print('Количество аномальных пользователей:',abnormalUsers.shape[0]) "
   ]
  },
  {
   "cell_type": "markdown",
   "metadata": {},
   "source": [
    "Ранее мы выяснили что : <br>Не более 5% пользователей оформляли больше чем 2 заказа.</br><br>Не более 5% пользователей оформляли больше чем 28000 тыс.</br><br>Эти параметры мы передали отдельным выборкам что бы посмотреть на то повлияли как то эти аномальные пользователи на результат или нет.</br>"
   ]
  },
  {
   "cell_type": "code",
   "execution_count": 35,
   "metadata": {},
   "outputs": [
    {
     "name": "stdout",
     "output_type": "stream",
     "text": [
      "Относительный 'выигрыш' группы B по отношению к группе A после отчистки данных: 0.173\n",
      "P-value: 0.013\n",
      "По очищенным данным групп A и B разница есть\n"
     ]
    }
   ],
   "source": [
    "sampleAFiltered = pd.concat(\n",
    "    [\n",
    "        ordersByUsersA[\n",
    "            np.logical_not(ordersByUsersA['userId'].isin(abnormalUsers))\n",
    "        ]['orders'],\n",
    "        pd.Series(\n",
    "            0,\n",
    "            index=np.arange(\n",
    "                data['visitorsPerDateA'].sum() - len(ordersByUsersA['orders'])\n",
    "            ),\n",
    "            name='orders',\n",
    "        ),\n",
    "    ],\n",
    "    axis=0,\n",
    ")\n",
    "\n",
    "sampleBFiltered = pd.concat(\n",
    "    [\n",
    "        ordersByUsersB[\n",
    "            np.logical_not(ordersByUsersB['userId'].isin(abnormalUsers))\n",
    "        ]['orders'],\n",
    "        pd.Series(\n",
    "            0,\n",
    "            index=np.arange(\n",
    "                data['visitorsPerDateB'].sum() - len(ordersByUsersB['orders'])\n",
    "            ),\n",
    "            name='orders',\n",
    "        ),\n",
    "    ],\n",
    "    axis=0,\n",
    ") \n",
    "\n",
    "results = stats.mannwhitneyu(sampleAFiltered, sampleBFiltered)\n",
    "\n",
    "print(\"Относительный 'выигрыш' группы B по отношению к группе A после отчистки данных: {0:.3f}\".format(sampleBFiltered.mean() / sampleAFiltered.mean() - 1))\n",
    "print('P-value: {:.3f}'.format(results.pvalue))\n",
    "if results.pvalue < alpha:\n",
    "    print('По очищенным данным групп A и B разница есть')\n",
    "else:\n",
    "    print('По очищенным данным различий в среднем количестве заказов между группами A и B нет')"
   ]
  },
  {
   "cell_type": "markdown",
   "metadata": {},
   "source": [
    "p-value = 0.0130 меньше 0.05. Значит, нулевую гипотезу о том что, различий в среднем количестве заказов между группами нет, отвергаем. Однако относительный проигрыш группы А равен 17.3%.<br>По сравнению с сырыми данными результаты проверки гипотезы показали рост разницы между группами с 13 до 17 процентов.</br>"
   ]
  },
  {
   "cell_type": "code",
   "execution_count": 36,
   "metadata": {},
   "outputs": [
    {
     "name": "stdout",
     "output_type": "stream",
     "text": [
      "Относительный 'выигрыш' группы B по отношению к группе A после отчистки данных: -0.020\n",
      "P-value: 0.738\n",
      "По очищенным данным различий в среднем чеке между группами A и B нет\n"
     ]
    }
   ],
   "source": [
    "\n",
    "results = stats.mannwhitneyu(orders[\n",
    "                np.logical_and(\n",
    "                    orders['group'] == 'A',\n",
    "                    np.logical_not(orders['visitorId'].isin(abnormalUsers)),\n",
    "                )\n",
    "            ]['revenue'],\n",
    "            orders[\n",
    "                np.logical_and(\n",
    "                    orders['group'] == 'B',\n",
    "                    np.logical_not(orders['visitorId'].isin(abnormalUsers)),\n",
    "                )\n",
    "            ]['revenue'],\n",
    "        )\n",
    "\n",
    "print(\n",
    "    \"Относительный 'выигрыш' группы B по отношению к группе A после отчистки данных: {0:.3f}\".format(\n",
    "        orders[\n",
    "            np.logical_and(\n",
    "                orders['group'] == 'B',\n",
    "                np.logical_not(orders['visitorId'].isin(abnormalUsers)),\n",
    "            )\n",
    "        ]['revenue'].mean()\n",
    "        / orders[\n",
    "            np.logical_and(\n",
    "                orders['group'] == 'A',\n",
    "                np.logical_not(orders['visitorId'].isin(abnormalUsers)),\n",
    "            )\n",
    "        ]['revenue'].mean()\n",
    "        - 1\n",
    "    )\n",
    ") \n",
    "print('P-value: {:.3f}'.format(results.pvalue))\n",
    "if results.pvalue < alpha:\n",
    "    print('По очищенным данным групп A и B разница есть')\n",
    "else:\n",
    "    print('По очищенным данным различий в среднем чеке между группами A и B нет')\n"
   ]
  },
  {
   "cell_type": "markdown",
   "metadata": {},
   "source": [
    "p-value = 0.738 больше 0.05. Значит, нулевую гипотезу о том что, различий в среднем чеке заказов между группами нет, не отвергаем. Однако относительный проигрыш группы B равен 25%.<br>P-value увеличился, но и разница между сегментами сократилась с 25% до 2%.Хотя общие выводы по результатам теста не изменились, данная проверка хорошо показывает, как сильно аномалии могут влиять на результаты A/B-теста.</br>"
   ]
  },
  {
   "cell_type": "markdown",
   "metadata": {},
   "source": [
    "<b>Примем решение по результатам теста</b> \n",
    "<br>Варианты решений:</br>\n",
    "1. Остановить тест, зафиксировать победу одной из групп.\n",
    "2. Остановить тест, зафиксировать отсутствие различий между группами.\n",
    "3. Продолжить тест."
   ]
  },
  {
   "cell_type": "markdown",
   "metadata": {},
   "source": [
    "Есть статистически значимое различие по среднему числу заказов между группами как по сырым данным, так и после фильтрации аномалий.<br>\n",
    "По сырым данным нет статистически значимого различия по среднему чеку между группами. Та же картина наблюдается и после удаления аномалий.</br>\n",
    "<br>График различия по среднему числу заказов между группами сообщает, что результаты группы B лучше группы A и имеют тенденцию к росту.</br>\n",
    "<br>Исходя из Фактов выше:</br>\n",
    "<br>Следует остановить тест, признать его успешным и зафиксировать победу группы B.</b>"
   ]
  }
 ],
 "metadata": {
  "ExecuteTimeLog": [
   {
    "duration": 72,
    "start_time": "2023-02-05T18:33:26.041Z"
   },
   {
    "duration": 1255,
    "start_time": "2023-02-05T18:33:53.544Z"
   },
   {
    "duration": 3,
    "start_time": "2023-02-05T18:33:55.223Z"
   },
   {
    "duration": 59,
    "start_time": "2023-02-05T18:35:06.711Z"
   },
   {
    "duration": 10,
    "start_time": "2023-02-05T18:35:10.923Z"
   },
   {
    "duration": 7,
    "start_time": "2023-02-05T18:36:55.410Z"
   },
   {
    "duration": 3,
    "start_time": "2023-02-05T18:38:31.490Z"
   },
   {
    "duration": 7,
    "start_time": "2023-02-05T18:38:35.630Z"
   },
   {
    "duration": 6,
    "start_time": "2023-02-05T18:38:54.662Z"
   },
   {
    "duration": 9,
    "start_time": "2023-02-05T18:39:36.183Z"
   },
   {
    "duration": 9,
    "start_time": "2023-02-05T18:40:07.243Z"
   },
   {
    "duration": 4,
    "start_time": "2023-02-05T18:41:05.754Z"
   },
   {
    "duration": 11,
    "start_time": "2023-02-05T18:41:32.179Z"
   },
   {
    "duration": 3,
    "start_time": "2023-02-05T18:51:21.548Z"
   },
   {
    "duration": 2,
    "start_time": "2023-02-05T18:57:33.476Z"
   },
   {
    "duration": 3,
    "start_time": "2023-02-05T18:58:41.483Z"
   },
   {
    "duration": 83,
    "start_time": "2023-02-05T18:59:47.463Z"
   },
   {
    "duration": 49,
    "start_time": "2023-02-05T18:59:52.067Z"
   },
   {
    "duration": 432,
    "start_time": "2023-02-05T19:00:35.679Z"
   },
   {
    "duration": 57,
    "start_time": "2023-02-05T19:06:47.568Z"
   },
   {
    "duration": 86,
    "start_time": "2023-02-05T19:07:56.438Z"
   },
   {
    "duration": 5,
    "start_time": "2023-02-05T19:10:27.590Z"
   },
   {
    "duration": 8,
    "start_time": "2023-02-05T19:11:30.791Z"
   },
   {
    "duration": 6,
    "start_time": "2023-02-05T19:11:57.086Z"
   },
   {
    "duration": 3,
    "start_time": "2023-02-05T19:36:16.883Z"
   },
   {
    "duration": 4,
    "start_time": "2023-02-05T20:07:59.744Z"
   },
   {
    "duration": 337,
    "start_time": "2023-02-05T20:12:43.708Z"
   },
   {
    "duration": 325,
    "start_time": "2023-02-05T20:16:24.207Z"
   },
   {
    "duration": 311,
    "start_time": "2023-02-05T20:16:37.992Z"
   },
   {
    "duration": 335,
    "start_time": "2023-02-05T20:17:16.271Z"
   },
   {
    "duration": 60,
    "start_time": "2023-02-05T20:17:47.544Z"
   },
   {
    "duration": 60,
    "start_time": "2023-02-05T20:18:08.852Z"
   },
   {
    "duration": 323,
    "start_time": "2023-02-05T20:18:23.087Z"
   },
   {
    "duration": 45,
    "start_time": "2023-02-05T20:18:48.392Z"
   },
   {
    "duration": 60,
    "start_time": "2023-02-05T20:19:08.392Z"
   },
   {
    "duration": 7,
    "start_time": "2023-02-05T20:20:13.566Z"
   },
   {
    "duration": 5,
    "start_time": "2023-02-05T20:20:14.465Z"
   },
   {
    "duration": 440,
    "start_time": "2023-02-05T20:20:16.454Z"
   },
   {
    "duration": 5,
    "start_time": "2023-02-05T20:21:35.051Z"
   },
   {
    "duration": 32,
    "start_time": "2023-02-05T20:22:32.555Z"
   },
   {
    "duration": 23,
    "start_time": "2023-02-05T20:28:21.923Z"
   },
   {
    "duration": 23,
    "start_time": "2023-02-05T20:29:34.875Z"
   },
   {
    "duration": 153,
    "start_time": "2023-02-05T20:29:47.340Z"
   },
   {
    "duration": 20,
    "start_time": "2023-02-05T20:29:52.427Z"
   },
   {
    "duration": 143,
    "start_time": "2023-02-05T20:32:16.239Z"
   },
   {
    "duration": 6,
    "start_time": "2023-02-05T20:33:00.848Z"
   },
   {
    "duration": 6,
    "start_time": "2023-02-05T20:33:15.268Z"
   },
   {
    "duration": 237,
    "start_time": "2023-02-05T20:34:04.339Z"
   },
   {
    "duration": 164,
    "start_time": "2023-02-05T20:34:32.252Z"
   },
   {
    "duration": 181,
    "start_time": "2023-02-05T20:36:44.019Z"
   },
   {
    "duration": 163,
    "start_time": "2023-02-05T20:37:13.123Z"
   },
   {
    "duration": 183,
    "start_time": "2023-02-05T20:40:08.739Z"
   },
   {
    "duration": 231,
    "start_time": "2023-02-05T20:40:33.371Z"
   },
   {
    "duration": 199,
    "start_time": "2023-02-05T20:41:29.514Z"
   },
   {
    "duration": 179,
    "start_time": "2023-02-05T20:42:24.428Z"
   },
   {
    "duration": 346,
    "start_time": "2023-02-05T20:43:09.398Z"
   },
   {
    "duration": 262,
    "start_time": "2023-02-05T20:43:23.758Z"
   },
   {
    "duration": 264,
    "start_time": "2023-02-05T20:43:37.758Z"
   },
   {
    "duration": 300,
    "start_time": "2023-02-05T20:44:02.354Z"
   },
   {
    "duration": 273,
    "start_time": "2023-02-05T20:44:18.797Z"
   },
   {
    "duration": 330,
    "start_time": "2023-02-05T20:46:16.015Z"
   },
   {
    "duration": 196,
    "start_time": "2023-02-05T20:48:56.858Z"
   },
   {
    "duration": 195,
    "start_time": "2023-02-05T20:49:03.070Z"
   },
   {
    "duration": 189,
    "start_time": "2023-02-05T20:49:10.084Z"
   },
   {
    "duration": 187,
    "start_time": "2023-02-05T20:49:23.563Z"
   },
   {
    "duration": 322,
    "start_time": "2023-02-05T20:49:38.915Z"
   },
   {
    "duration": 372,
    "start_time": "2023-02-05T20:51:44.726Z"
   },
   {
    "duration": 339,
    "start_time": "2023-02-05T20:58:15.713Z"
   },
   {
    "duration": 257,
    "start_time": "2023-02-05T20:58:29.489Z"
   },
   {
    "duration": 276,
    "start_time": "2023-02-05T20:59:35.912Z"
   },
   {
    "duration": 233,
    "start_time": "2023-02-05T20:59:56.288Z"
   },
   {
    "duration": 147,
    "start_time": "2023-02-05T21:00:00.801Z"
   },
   {
    "duration": 267,
    "start_time": "2023-02-05T21:00:08.145Z"
   },
   {
    "duration": 277,
    "start_time": "2023-02-05T21:00:22.762Z"
   },
   {
    "duration": 303,
    "start_time": "2023-02-05T21:00:52.736Z"
   },
   {
    "duration": 275,
    "start_time": "2023-02-05T21:01:30.184Z"
   },
   {
    "duration": 280,
    "start_time": "2023-02-05T21:02:01.608Z"
   },
   {
    "duration": 272,
    "start_time": "2023-02-05T21:03:49.265Z"
   },
   {
    "duration": 190,
    "start_time": "2023-02-05T21:04:18.112Z"
   },
   {
    "duration": 286,
    "start_time": "2023-02-05T21:04:42.064Z"
   },
   {
    "duration": 251,
    "start_time": "2023-02-05T21:04:52.433Z"
   },
   {
    "duration": 735,
    "start_time": "2023-02-06T10:43:09.956Z"
   },
   {
    "duration": 129,
    "start_time": "2023-02-06T10:43:10.693Z"
   },
   {
    "duration": 74,
    "start_time": "2023-02-06T10:43:10.824Z"
   },
   {
    "duration": 6,
    "start_time": "2023-02-06T10:43:10.900Z"
   },
   {
    "duration": 12,
    "start_time": "2023-02-06T10:43:10.908Z"
   },
   {
    "duration": 71,
    "start_time": "2023-02-06T10:43:10.921Z"
   },
   {
    "duration": 8,
    "start_time": "2023-02-06T10:43:10.994Z"
   },
   {
    "duration": 5,
    "start_time": "2023-02-06T10:43:11.004Z"
   },
   {
    "duration": 6,
    "start_time": "2023-02-06T10:43:11.011Z"
   },
   {
    "duration": 9,
    "start_time": "2023-02-06T10:43:11.020Z"
   },
   {
    "duration": 7,
    "start_time": "2023-02-06T10:43:11.031Z"
   },
   {
    "duration": 13,
    "start_time": "2023-02-06T10:43:11.039Z"
   },
   {
    "duration": 11,
    "start_time": "2023-02-06T10:43:11.053Z"
   },
   {
    "duration": 204,
    "start_time": "2023-02-06T10:43:11.066Z"
   },
   {
    "duration": 120,
    "start_time": "2023-02-06T10:43:11.272Z"
   },
   {
    "duration": 13,
    "start_time": "2023-02-06T10:43:11.393Z"
   },
   {
    "duration": 9,
    "start_time": "2023-02-06T10:43:11.408Z"
   },
   {
    "duration": 300,
    "start_time": "2023-02-06T10:43:11.419Z"
   },
   {
    "duration": 223,
    "start_time": "2023-02-06T10:43:11.721Z"
   },
   {
    "duration": 348,
    "start_time": "2023-02-06T10:43:11.945Z"
   },
   {
    "duration": 269,
    "start_time": "2023-02-06T10:43:12.303Z"
   },
   {
    "duration": 298,
    "start_time": "2023-02-06T10:50:33.900Z"
   },
   {
    "duration": 336,
    "start_time": "2023-02-06T10:51:20.176Z"
   },
   {
    "duration": 9,
    "start_time": "2023-02-06T11:00:44.644Z"
   },
   {
    "duration": 762,
    "start_time": "2023-02-07T10:02:16.547Z"
   },
   {
    "duration": 128,
    "start_time": "2023-02-07T10:02:17.311Z"
   },
   {
    "duration": 68,
    "start_time": "2023-02-07T10:02:17.441Z"
   },
   {
    "duration": 6,
    "start_time": "2023-02-07T10:02:17.511Z"
   },
   {
    "duration": 11,
    "start_time": "2023-02-07T10:02:17.518Z"
   },
   {
    "duration": 63,
    "start_time": "2023-02-07T10:02:17.530Z"
   },
   {
    "duration": 7,
    "start_time": "2023-02-07T10:02:17.595Z"
   },
   {
    "duration": 21,
    "start_time": "2023-02-07T10:02:17.603Z"
   },
   {
    "duration": 7,
    "start_time": "2023-02-07T10:02:17.625Z"
   },
   {
    "duration": 9,
    "start_time": "2023-02-07T10:02:17.635Z"
   },
   {
    "duration": 6,
    "start_time": "2023-02-07T10:02:17.645Z"
   },
   {
    "duration": 13,
    "start_time": "2023-02-07T10:02:17.652Z"
   },
   {
    "duration": 7,
    "start_time": "2023-02-07T10:02:17.666Z"
   },
   {
    "duration": 166,
    "start_time": "2023-02-07T10:02:17.674Z"
   },
   {
    "duration": 118,
    "start_time": "2023-02-07T10:02:17.842Z"
   },
   {
    "duration": 29,
    "start_time": "2023-02-07T10:02:17.962Z"
   },
   {
    "duration": 14,
    "start_time": "2023-02-07T10:02:17.993Z"
   },
   {
    "duration": 273,
    "start_time": "2023-02-07T10:02:18.009Z"
   },
   {
    "duration": 198,
    "start_time": "2023-02-07T10:02:18.284Z"
   },
   {
    "duration": 344,
    "start_time": "2023-02-07T10:02:18.484Z"
   },
   {
    "duration": 286,
    "start_time": "2023-02-07T10:02:18.830Z"
   },
   {
    "duration": 342,
    "start_time": "2023-02-07T10:02:19.118Z"
   },
   {
    "duration": 75,
    "start_time": "2023-02-07T10:02:19.462Z"
   },
   {
    "duration": 0,
    "start_time": "2023-02-07T10:02:19.539Z"
   },
   {
    "duration": 140,
    "start_time": "2023-02-07T10:54:16.021Z"
   },
   {
    "duration": 141,
    "start_time": "2023-02-07T10:56:02.227Z"
   },
   {
    "duration": 116,
    "start_time": "2023-02-07T11:02:26.897Z"
   },
   {
    "duration": 7,
    "start_time": "2023-02-07T11:09:55.446Z"
   },
   {
    "duration": 116,
    "start_time": "2023-02-07T11:10:32.910Z"
   },
   {
    "duration": 122,
    "start_time": "2023-02-07T11:12:11.016Z"
   },
   {
    "duration": 130,
    "start_time": "2023-02-07T11:12:49.355Z"
   },
   {
    "duration": 4,
    "start_time": "2023-02-07T11:15:20.563Z"
   },
   {
    "duration": 127,
    "start_time": "2023-02-07T11:19:04.335Z"
   },
   {
    "duration": 181,
    "start_time": "2023-02-07T11:19:17.002Z"
   },
   {
    "duration": 113,
    "start_time": "2023-02-07T11:19:20.866Z"
   },
   {
    "duration": 216,
    "start_time": "2023-02-07T11:19:30.754Z"
   },
   {
    "duration": 122,
    "start_time": "2023-02-07T11:19:42.903Z"
   },
   {
    "duration": 136,
    "start_time": "2023-02-07T11:20:17.285Z"
   },
   {
    "duration": 147,
    "start_time": "2023-02-07T11:21:05.770Z"
   },
   {
    "duration": 133,
    "start_time": "2023-02-07T11:21:41.453Z"
   },
   {
    "duration": 138,
    "start_time": "2023-02-07T11:21:49.122Z"
   },
   {
    "duration": 1116,
    "start_time": "2023-02-07T11:23:26.242Z"
   },
   {
    "duration": 6,
    "start_time": "2023-02-07T11:24:24.770Z"
   },
   {
    "duration": 4,
    "start_time": "2023-02-07T11:29:42.106Z"
   },
   {
    "duration": 4,
    "start_time": "2023-02-07T11:29:56.214Z"
   },
   {
    "duration": 14,
    "start_time": "2023-02-07T11:34:10.934Z"
   },
   {
    "duration": 15,
    "start_time": "2023-02-07T11:34:43.705Z"
   },
   {
    "duration": 137,
    "start_time": "2023-02-07T11:35:38.234Z"
   },
   {
    "duration": 106,
    "start_time": "2023-02-07T11:39:26.720Z"
   },
   {
    "duration": 100,
    "start_time": "2023-02-07T11:40:56.363Z"
   },
   {
    "duration": 196,
    "start_time": "2023-02-07T11:41:21.218Z"
   },
   {
    "duration": 213,
    "start_time": "2023-02-07T11:41:34.176Z"
   },
   {
    "duration": 192,
    "start_time": "2023-02-07T11:41:45.396Z"
   },
   {
    "duration": 172,
    "start_time": "2023-02-07T11:41:47.578Z"
   },
   {
    "duration": 132,
    "start_time": "2023-02-07T11:46:44.147Z"
   },
   {
    "duration": 485,
    "start_time": "2023-02-07T11:50:05.915Z"
   },
   {
    "duration": 129,
    "start_time": "2023-02-07T11:50:14.067Z"
   },
   {
    "duration": 191,
    "start_time": "2023-02-07T11:53:52.479Z"
   },
   {
    "duration": 146,
    "start_time": "2023-02-07T11:54:52.080Z"
   },
   {
    "duration": 178,
    "start_time": "2023-02-07T11:56:05.699Z"
   },
   {
    "duration": 151,
    "start_time": "2023-02-07T11:56:13.567Z"
   },
   {
    "duration": 145,
    "start_time": "2023-02-07T11:56:29.919Z"
   },
   {
    "duration": 161,
    "start_time": "2023-02-07T11:57:30.327Z"
   },
   {
    "duration": 134,
    "start_time": "2023-02-07T11:58:02.964Z"
   },
   {
    "duration": 143,
    "start_time": "2023-02-07T11:58:46.650Z"
   },
   {
    "duration": 148,
    "start_time": "2023-02-07T11:59:40.135Z"
   },
   {
    "duration": 143,
    "start_time": "2023-02-07T12:00:05.727Z"
   },
   {
    "duration": 10,
    "start_time": "2023-02-07T12:00:40.584Z"
   },
   {
    "duration": 182,
    "start_time": "2023-02-07T12:01:03.730Z"
   },
   {
    "duration": 153,
    "start_time": "2023-02-07T12:01:11.033Z"
   },
   {
    "duration": 11,
    "start_time": "2023-02-07T12:04:45.352Z"
   },
   {
    "duration": 11,
    "start_time": "2023-02-07T12:05:43.988Z"
   },
   {
    "duration": 10,
    "start_time": "2023-02-07T12:05:54.287Z"
   },
   {
    "duration": 10,
    "start_time": "2023-02-07T12:06:01.604Z"
   },
   {
    "duration": 12,
    "start_time": "2023-02-07T12:07:16.876Z"
   },
   {
    "duration": 9,
    "start_time": "2023-02-07T12:07:24.433Z"
   },
   {
    "duration": 150,
    "start_time": "2023-02-07T12:07:34.329Z"
   },
   {
    "duration": 139,
    "start_time": "2023-02-07T12:07:45.727Z"
   },
   {
    "duration": 148,
    "start_time": "2023-02-07T12:07:55.664Z"
   },
   {
    "duration": 1161,
    "start_time": "2023-02-07T12:13:03.500Z"
   },
   {
    "duration": 1164,
    "start_time": "2023-02-07T12:13:34.957Z"
   },
   {
    "duration": 1139,
    "start_time": "2023-02-07T12:13:46.061Z"
   },
   {
    "duration": 1209,
    "start_time": "2023-02-07T12:15:27.928Z"
   },
   {
    "duration": 1460,
    "start_time": "2023-02-07T12:15:51.889Z"
   },
   {
    "duration": 9,
    "start_time": "2023-02-07T12:16:37.860Z"
   },
   {
    "duration": 9,
    "start_time": "2023-02-07T12:17:21.996Z"
   },
   {
    "duration": 8,
    "start_time": "2023-02-07T12:17:25.764Z"
   },
   {
    "duration": 8,
    "start_time": "2023-02-07T12:18:33.737Z"
   },
   {
    "duration": 26,
    "start_time": "2023-02-07T12:20:05.852Z"
   },
   {
    "duration": 44,
    "start_time": "2023-02-07T12:20:47.484Z"
   },
   {
    "duration": 27,
    "start_time": "2023-02-07T12:21:01.877Z"
   },
   {
    "duration": 25,
    "start_time": "2023-02-07T12:21:05.093Z"
   },
   {
    "duration": 27,
    "start_time": "2023-02-07T12:21:10.877Z"
   },
   {
    "duration": 1282,
    "start_time": "2023-02-07T12:25:29.700Z"
   },
   {
    "duration": 13,
    "start_time": "2023-02-07T12:28:55.475Z"
   },
   {
    "duration": 13,
    "start_time": "2023-02-07T12:30:15.157Z"
   },
   {
    "duration": 13,
    "start_time": "2023-02-07T12:30:27.796Z"
   },
   {
    "duration": 13,
    "start_time": "2023-02-07T12:32:08.257Z"
   },
   {
    "duration": 13,
    "start_time": "2023-02-07T12:53:05.483Z"
   },
   {
    "duration": 25,
    "start_time": "2023-02-07T12:53:49.050Z"
   },
   {
    "duration": 3,
    "start_time": "2023-02-07T12:55:25.304Z"
   },
   {
    "duration": 6,
    "start_time": "2023-02-07T12:57:53.360Z"
   },
   {
    "duration": 6,
    "start_time": "2023-02-07T12:58:11.097Z"
   },
   {
    "duration": 6,
    "start_time": "2023-02-07T12:58:40.632Z"
   },
   {
    "duration": 14,
    "start_time": "2023-02-07T13:13:30.357Z"
   },
   {
    "duration": 9,
    "start_time": "2023-02-07T13:15:58.296Z"
   },
   {
    "duration": 8,
    "start_time": "2023-02-07T14:07:03.503Z"
   },
   {
    "duration": 135,
    "start_time": "2023-02-07T14:07:04.758Z"
   },
   {
    "duration": 189,
    "start_time": "2023-02-07T14:07:16.739Z"
   },
   {
    "duration": 19,
    "start_time": "2023-02-07T14:07:34.733Z"
   },
   {
    "duration": 191,
    "start_time": "2023-02-07T14:07:40.570Z"
   },
   {
    "duration": 22,
    "start_time": "2023-02-07T14:09:04.715Z"
   },
   {
    "duration": 187,
    "start_time": "2023-02-07T14:09:07.222Z"
   },
   {
    "duration": 112,
    "start_time": "2023-02-07T14:09:33.402Z"
   },
   {
    "duration": 111,
    "start_time": "2023-02-07T14:09:43.002Z"
   },
   {
    "duration": 116,
    "start_time": "2023-02-07T14:09:57.940Z"
   },
   {
    "duration": 114,
    "start_time": "2023-02-07T14:10:17.074Z"
   },
   {
    "duration": 103,
    "start_time": "2023-02-07T14:10:50.826Z"
   },
   {
    "duration": 210,
    "start_time": "2023-02-07T14:11:18.586Z"
   },
   {
    "duration": 109,
    "start_time": "2023-02-07T14:11:59.158Z"
   },
   {
    "duration": 128,
    "start_time": "2023-02-07T14:12:12.228Z"
   },
   {
    "duration": 1149,
    "start_time": "2023-02-07T14:12:27.140Z"
   },
   {
    "duration": 150,
    "start_time": "2023-02-07T14:12:42.634Z"
   },
   {
    "duration": 109,
    "start_time": "2023-02-07T14:12:54.554Z"
   },
   {
    "duration": 210,
    "start_time": "2023-02-07T14:13:57.610Z"
   },
   {
    "duration": 141,
    "start_time": "2023-02-07T14:14:00.186Z"
   },
   {
    "duration": 267,
    "start_time": "2023-02-07T14:14:12.458Z"
   },
   {
    "duration": 138,
    "start_time": "2023-02-07T14:14:16.643Z"
   },
   {
    "duration": 319,
    "start_time": "2023-02-07T14:17:33.043Z"
   },
   {
    "duration": 215,
    "start_time": "2023-02-07T14:17:49.556Z"
   },
   {
    "duration": 1101,
    "start_time": "2023-02-07T14:17:56.450Z"
   },
   {
    "duration": 118,
    "start_time": "2023-02-07T14:18:27.491Z"
   },
   {
    "duration": 129,
    "start_time": "2023-02-07T14:18:32.199Z"
   },
   {
    "duration": 131,
    "start_time": "2023-02-07T14:18:33.899Z"
   },
   {
    "duration": 129,
    "start_time": "2023-02-07T14:18:47.909Z"
   },
   {
    "duration": 118,
    "start_time": "2023-02-07T14:22:09.850Z"
   },
   {
    "duration": 4,
    "start_time": "2023-02-07T14:26:58.768Z"
   },
   {
    "duration": 5,
    "start_time": "2023-02-07T14:27:46.999Z"
   },
   {
    "duration": 4,
    "start_time": "2023-02-07T14:27:50.025Z"
   },
   {
    "duration": 4,
    "start_time": "2023-02-07T14:27:58.071Z"
   },
   {
    "duration": 4,
    "start_time": "2023-02-07T14:29:25.893Z"
   },
   {
    "duration": 5,
    "start_time": "2023-02-07T14:29:46.213Z"
   },
   {
    "duration": 4,
    "start_time": "2023-02-07T14:30:32.421Z"
   },
   {
    "duration": 9,
    "start_time": "2023-02-07T14:31:00.055Z"
   },
   {
    "duration": 9,
    "start_time": "2023-02-07T14:31:11.669Z"
   },
   {
    "duration": 4,
    "start_time": "2023-02-07T14:31:16.501Z"
   },
   {
    "duration": 4,
    "start_time": "2023-02-07T14:31:45.965Z"
   },
   {
    "duration": 5,
    "start_time": "2023-02-07T14:32:22.793Z"
   },
   {
    "duration": 251,
    "start_time": "2023-02-07T14:42:36.552Z"
   },
   {
    "duration": 166,
    "start_time": "2023-02-07T14:42:37.823Z"
   },
   {
    "duration": 10,
    "start_time": "2023-02-07T14:42:38.882Z"
   },
   {
    "duration": 9,
    "start_time": "2023-02-07T14:42:39.775Z"
   },
   {
    "duration": 26,
    "start_time": "2023-02-07T14:42:40.854Z"
   },
   {
    "duration": 14,
    "start_time": "2023-02-07T14:42:41.526Z"
   },
   {
    "duration": 46,
    "start_time": "2023-02-07T15:03:31.742Z"
   },
   {
    "duration": 13,
    "start_time": "2023-02-07T15:03:45.993Z"
   },
   {
    "duration": 239,
    "start_time": "2023-02-07T15:03:54.437Z"
   },
   {
    "duration": 15,
    "start_time": "2023-02-07T15:04:08.053Z"
   },
   {
    "duration": 13,
    "start_time": "2023-02-07T15:04:11.277Z"
   },
   {
    "duration": 990,
    "start_time": "2023-02-07T18:57:45.009Z"
   },
   {
    "duration": 125,
    "start_time": "2023-02-07T18:57:46.001Z"
   },
   {
    "duration": 28,
    "start_time": "2023-02-07T18:57:46.127Z"
   },
   {
    "duration": 5,
    "start_time": "2023-02-07T18:57:46.156Z"
   },
   {
    "duration": 6,
    "start_time": "2023-02-07T18:57:46.163Z"
   },
   {
    "duration": 9,
    "start_time": "2023-02-07T18:57:46.171Z"
   },
   {
    "duration": 10,
    "start_time": "2023-02-07T18:57:46.182Z"
   },
   {
    "duration": 15,
    "start_time": "2023-02-07T18:57:46.194Z"
   },
   {
    "duration": 9,
    "start_time": "2023-02-07T18:57:46.210Z"
   },
   {
    "duration": 14,
    "start_time": "2023-02-07T18:57:46.221Z"
   },
   {
    "duration": 5,
    "start_time": "2023-02-07T18:57:46.237Z"
   },
   {
    "duration": 15,
    "start_time": "2023-02-07T18:57:46.243Z"
   },
   {
    "duration": 5,
    "start_time": "2023-02-07T18:57:46.261Z"
   },
   {
    "duration": 16,
    "start_time": "2023-02-07T18:57:46.269Z"
   },
   {
    "duration": 16,
    "start_time": "2023-02-07T18:57:46.291Z"
   },
   {
    "duration": 156,
    "start_time": "2023-02-07T18:57:46.309Z"
   },
   {
    "duration": 132,
    "start_time": "2023-02-07T18:57:46.466Z"
   },
   {
    "duration": 10,
    "start_time": "2023-02-07T18:57:46.599Z"
   },
   {
    "duration": 8,
    "start_time": "2023-02-07T18:57:46.610Z"
   },
   {
    "duration": 286,
    "start_time": "2023-02-07T18:57:46.619Z"
   },
   {
    "duration": 261,
    "start_time": "2023-02-07T18:57:46.907Z"
   },
   {
    "duration": 352,
    "start_time": "2023-02-07T18:57:47.170Z"
   },
   {
    "duration": 220,
    "start_time": "2023-02-07T18:57:47.524Z"
   },
   {
    "duration": 281,
    "start_time": "2023-02-07T18:57:47.745Z"
   },
   {
    "duration": 127,
    "start_time": "2023-02-07T18:57:48.027Z"
   },
   {
    "duration": 140,
    "start_time": "2023-02-07T18:57:48.156Z"
   },
   {
    "duration": 5,
    "start_time": "2023-02-07T18:57:48.298Z"
   },
   {
    "duration": 256,
    "start_time": "2023-02-07T18:57:48.304Z"
   },
   {
    "duration": 224,
    "start_time": "2023-02-07T18:57:48.561Z"
   },
   {
    "duration": 6,
    "start_time": "2023-02-07T18:57:48.787Z"
   },
   {
    "duration": 222,
    "start_time": "2023-02-07T18:57:48.794Z"
   },
   {
    "duration": 162,
    "start_time": "2023-02-07T18:57:49.019Z"
   },
   {
    "duration": 13,
    "start_time": "2023-02-07T18:57:49.183Z"
   },
   {
    "duration": 19,
    "start_time": "2023-02-07T18:57:49.198Z"
   },
   {
    "duration": 30,
    "start_time": "2023-02-07T18:57:49.219Z"
   },
   {
    "duration": 13,
    "start_time": "2023-02-07T18:57:49.251Z"
   },
   {
    "duration": 55,
    "start_time": "2023-02-08T10:52:40.040Z"
   },
   {
    "duration": 1371,
    "start_time": "2023-02-08T10:52:55.093Z"
   },
   {
    "duration": 207,
    "start_time": "2023-02-08T10:52:56.466Z"
   },
   {
    "duration": 84,
    "start_time": "2023-02-08T10:52:56.679Z"
   },
   {
    "duration": 7,
    "start_time": "2023-02-08T10:52:56.764Z"
   },
   {
    "duration": 7,
    "start_time": "2023-02-08T10:52:56.773Z"
   },
   {
    "duration": 11,
    "start_time": "2023-02-08T10:52:56.782Z"
   },
   {
    "duration": 13,
    "start_time": "2023-02-08T10:52:56.795Z"
   },
   {
    "duration": 76,
    "start_time": "2023-02-08T10:52:56.810Z"
   },
   {
    "duration": 9,
    "start_time": "2023-02-08T10:52:56.889Z"
   },
   {
    "duration": 6,
    "start_time": "2023-02-08T10:52:56.899Z"
   },
   {
    "duration": 10,
    "start_time": "2023-02-08T10:52:56.906Z"
   },
   {
    "duration": 11,
    "start_time": "2023-02-08T10:52:56.917Z"
   },
   {
    "duration": 6,
    "start_time": "2023-02-08T10:52:56.930Z"
   },
   {
    "duration": 16,
    "start_time": "2023-02-08T10:52:56.938Z"
   },
   {
    "duration": 9,
    "start_time": "2023-02-08T10:52:56.956Z"
   },
   {
    "duration": 222,
    "start_time": "2023-02-08T10:52:56.967Z"
   },
   {
    "duration": 136,
    "start_time": "2023-02-08T10:52:57.191Z"
   },
   {
    "duration": 7,
    "start_time": "2023-02-08T10:52:57.329Z"
   },
   {
    "duration": 12,
    "start_time": "2023-02-08T10:52:57.338Z"
   },
   {
    "duration": 340,
    "start_time": "2023-02-08T10:52:57.353Z"
   },
   {
    "duration": 228,
    "start_time": "2023-02-08T10:52:57.695Z"
   },
   {
    "duration": 364,
    "start_time": "2023-02-08T10:52:57.925Z"
   },
   {
    "duration": 260,
    "start_time": "2023-02-08T10:52:58.292Z"
   },
   {
    "duration": 308,
    "start_time": "2023-02-08T10:52:58.554Z"
   },
   {
    "duration": 153,
    "start_time": "2023-02-08T10:52:58.863Z"
   },
   {
    "duration": 160,
    "start_time": "2023-02-08T10:52:59.020Z"
   },
   {
    "duration": 4,
    "start_time": "2023-02-08T10:52:59.184Z"
   },
   {
    "duration": 288,
    "start_time": "2023-02-08T10:52:59.190Z"
   },
   {
    "duration": 253,
    "start_time": "2023-02-08T10:52:59.479Z"
   },
   {
    "duration": 4,
    "start_time": "2023-02-08T10:52:59.734Z"
   },
   {
    "duration": 252,
    "start_time": "2023-02-08T10:52:59.740Z"
   },
   {
    "duration": 196,
    "start_time": "2023-02-08T10:52:59.994Z"
   },
   {
    "duration": 12,
    "start_time": "2023-02-08T10:53:00.192Z"
   },
   {
    "duration": 23,
    "start_time": "2023-02-08T10:53:00.206Z"
   },
   {
    "duration": 39,
    "start_time": "2023-02-08T10:53:00.230Z"
   },
   {
    "duration": 22,
    "start_time": "2023-02-08T10:53:00.271Z"
   },
   {
    "duration": 347,
    "start_time": "2023-02-08T11:01:48.216Z"
   },
   {
    "duration": 4,
    "start_time": "2023-02-08T11:02:56.977Z"
   },
   {
    "duration": 115,
    "start_time": "2023-02-08T11:03:02.096Z"
   },
   {
    "duration": 10,
    "start_time": "2023-02-08T11:03:17.768Z"
   },
   {
    "duration": 160,
    "start_time": "2023-02-08T11:04:26.423Z"
   },
   {
    "duration": 178,
    "start_time": "2023-02-08T11:04:34.931Z"
   },
   {
    "duration": 156,
    "start_time": "2023-02-08T11:04:42.448Z"
   },
   {
    "duration": 174,
    "start_time": "2023-02-08T11:04:44.991Z"
   },
   {
    "duration": 13,
    "start_time": "2023-02-08T11:05:21.640Z"
   },
   {
    "duration": 11,
    "start_time": "2023-02-08T11:06:03.807Z"
   },
   {
    "duration": 12,
    "start_time": "2023-02-08T11:07:05.571Z"
   },
   {
    "duration": 12,
    "start_time": "2023-02-08T11:07:19.527Z"
   },
   {
    "duration": 288,
    "start_time": "2023-02-08T11:08:06.197Z"
   },
   {
    "duration": 14,
    "start_time": "2023-02-08T11:20:17.633Z"
   },
   {
    "duration": 12,
    "start_time": "2023-02-08T11:20:26.457Z"
   },
   {
    "duration": 12,
    "start_time": "2023-02-08T11:38:28.538Z"
   }
  ],
  "kernelspec": {
   "display_name": "Python 3 (ipykernel)",
   "language": "python",
   "name": "python3"
  },
  "language_info": {
   "codemirror_mode": {
    "name": "ipython",
    "version": 3
   },
   "file_extension": ".py",
   "mimetype": "text/x-python",
   "name": "python",
   "nbconvert_exporter": "python",
   "pygments_lexer": "ipython3",
   "version": "3.9.13"
  },
  "toc": {
   "base_numbering": 1,
   "nav_menu": {},
   "number_sections": false,
   "sideBar": true,
   "skip_h1_title": false,
   "title_cell": "Table of Contents",
   "title_sidebar": "Contents",
   "toc_cell": false,
   "toc_position": {
    "height": "calc(100% - 180px)",
    "left": "10px",
    "top": "150px",
    "width": "203.168px"
   },
   "toc_section_display": true,
   "toc_window_display": true
  }
 },
 "nbformat": 4,
 "nbformat_minor": 2
}
