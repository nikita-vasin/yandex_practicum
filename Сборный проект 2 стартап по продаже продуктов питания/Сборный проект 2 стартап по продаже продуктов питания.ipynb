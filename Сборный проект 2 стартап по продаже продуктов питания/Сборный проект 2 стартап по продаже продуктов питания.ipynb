{
 "cells": [
  {
   "cell_type": "markdown",
   "metadata": {},
   "source": [
    "### Сборный проект 2 стартап по продаже продуктов питания"
   ]
  },
  {
   "cell_type": "markdown",
   "metadata": {},
   "source": [
    "<b>Описание проекта</b>\n",
    "<br>Цель:</br>\n",
    "<br>Изучить, воронку продаж. <br>Узнать, как пользователи доходят до покупки.</br> <br>Сколько пользователей доходит до покупки, а сколько — «застревает» на предыдущих шагах?</br> \n",
    "<br>На каких именно шагах?</br>\n",
    "<br>Исследовать результаты A/A/B-эксперимента. По изменению шрифтов во всём приложении.</br>\n",
    "<br></br>\n",
    "<br><b>Описание данных</b></br>\n",
    "<br>Каждая запись в логе — это действие пользователя, или событие.</br>\n",
    "<br>EventName — название события;</br>\n",
    "<br>DeviceIDHash — уникальный идентификатор пользователя;</br>\n",
    "<br>EventTimestamp — время события;</br>\n",
    "<br>ExpId — номер эксперимента: 246 и 247 — контрольные группы, а 248 — экспериментальная.</br>\n"
   ]
  },
  {
   "cell_type": "code",
   "execution_count": 1,
   "metadata": {},
   "outputs": [],
   "source": [
    "#Импортируем все необходимые библиотеки для работы \n",
    "import pandas as pd\n",
    "import datetime as dt\n",
    "import seaborn as sns\n",
    "import numpy as np\n",
    "import math as mth\n",
    "from scipy import stats as st\n",
    "import matplotlib.pyplot as plt\n",
    "from pandas.plotting import register_matplotlib_converters\n",
    "import warnings\n",
    "warnings.simplefilter('ignore')"
   ]
  },
  {
   "cell_type": "markdown",
   "metadata": {},
   "source": [
    "<b><br>Открываем файл с данными и изучаем общую информацию</br></b>"
   ]
  },
  {
   "cell_type": "code",
   "execution_count": 2,
   "metadata": {},
   "outputs": [],
   "source": [
    "lags = pd.read_csv('/datasets/logs_exp.csv',sep='\\t')"
   ]
  },
  {
   "cell_type": "code",
   "execution_count": 3,
   "metadata": {},
   "outputs": [
    {
     "name": "stdout",
     "output_type": "stream",
     "text": [
      "<class 'pandas.core.frame.DataFrame'>\n",
      "RangeIndex: 244126 entries, 0 to 244125\n",
      "Data columns (total 4 columns):\n",
      " #   Column          Non-Null Count   Dtype \n",
      "---  ------          --------------   ----- \n",
      " 0   EventName       244126 non-null  object\n",
      " 1   DeviceIDHash    244126 non-null  int64 \n",
      " 2   EventTimestamp  244126 non-null  int64 \n",
      " 3   ExpId           244126 non-null  int64 \n",
      "dtypes: int64(3), object(1)\n",
      "memory usage: 7.5+ MB\n"
     ]
    },
    {
     "data": {
      "text/html": [
       "<div>\n",
       "<style scoped>\n",
       "    .dataframe tbody tr th:only-of-type {\n",
       "        vertical-align: middle;\n",
       "    }\n",
       "\n",
       "    .dataframe tbody tr th {\n",
       "        vertical-align: top;\n",
       "    }\n",
       "\n",
       "    .dataframe thead th {\n",
       "        text-align: right;\n",
       "    }\n",
       "</style>\n",
       "<table border=\"1\" class=\"dataframe\">\n",
       "  <thead>\n",
       "    <tr style=\"text-align: right;\">\n",
       "      <th></th>\n",
       "      <th>EventName</th>\n",
       "      <th>DeviceIDHash</th>\n",
       "      <th>EventTimestamp</th>\n",
       "      <th>ExpId</th>\n",
       "    </tr>\n",
       "  </thead>\n",
       "  <tbody>\n",
       "    <tr>\n",
       "      <th>0</th>\n",
       "      <td>MainScreenAppear</td>\n",
       "      <td>4575588528974610257</td>\n",
       "      <td>1564029816</td>\n",
       "      <td>246</td>\n",
       "    </tr>\n",
       "    <tr>\n",
       "      <th>1</th>\n",
       "      <td>MainScreenAppear</td>\n",
       "      <td>7416695313311560658</td>\n",
       "      <td>1564053102</td>\n",
       "      <td>246</td>\n",
       "    </tr>\n",
       "    <tr>\n",
       "      <th>2</th>\n",
       "      <td>PaymentScreenSuccessful</td>\n",
       "      <td>3518123091307005509</td>\n",
       "      <td>1564054127</td>\n",
       "      <td>248</td>\n",
       "    </tr>\n",
       "    <tr>\n",
       "      <th>3</th>\n",
       "      <td>CartScreenAppear</td>\n",
       "      <td>3518123091307005509</td>\n",
       "      <td>1564054127</td>\n",
       "      <td>248</td>\n",
       "    </tr>\n",
       "    <tr>\n",
       "      <th>4</th>\n",
       "      <td>PaymentScreenSuccessful</td>\n",
       "      <td>6217807653094995999</td>\n",
       "      <td>1564055322</td>\n",
       "      <td>248</td>\n",
       "    </tr>\n",
       "  </tbody>\n",
       "</table>\n",
       "</div>"
      ],
      "text/plain": [
       "                 EventName         DeviceIDHash  EventTimestamp  ExpId\n",
       "0         MainScreenAppear  4575588528974610257      1564029816    246\n",
       "1         MainScreenAppear  7416695313311560658      1564053102    246\n",
       "2  PaymentScreenSuccessful  3518123091307005509      1564054127    248\n",
       "3         CartScreenAppear  3518123091307005509      1564054127    248\n",
       "4  PaymentScreenSuccessful  6217807653094995999      1564055322    248"
      ]
     },
     "execution_count": 3,
     "metadata": {},
     "output_type": "execute_result"
    }
   ],
   "source": [
    "lags.info()\n",
    "lags.head(5)"
   ]
  },
  {
   "cell_type": "markdown",
   "metadata": {},
   "source": [
    "Датасет имеет 4 колонки и 244126 записей. Видно что колонка EventTimestamp имеет неверный тип данных, как и ExpId,DeviceIDHash. На первы взгляд пропусков в датасете нет, но нужно проверить."
   ]
  },
  {
   "cell_type": "markdown",
   "metadata": {},
   "source": [
    "<b>Подготовка данных.</b> "
   ]
  },
  {
   "cell_type": "code",
   "execution_count": 4,
   "metadata": {},
   "outputs": [],
   "source": [
    "#Переименуем столбцы в более понятные, для удобства анализа \n",
    "lags.columns = ['event_name', 'device_id', 'datetime', 'group_id']"
   ]
  },
  {
   "cell_type": "code",
   "execution_count": 5,
   "metadata": {},
   "outputs": [
    {
     "data": {
      "text/html": [
       "<div>\n",
       "<style scoped>\n",
       "    .dataframe tbody tr th:only-of-type {\n",
       "        vertical-align: middle;\n",
       "    }\n",
       "\n",
       "    .dataframe tbody tr th {\n",
       "        vertical-align: top;\n",
       "    }\n",
       "\n",
       "    .dataframe thead th {\n",
       "        text-align: right;\n",
       "    }\n",
       "</style>\n",
       "<table border=\"1\" class=\"dataframe\">\n",
       "  <thead>\n",
       "    <tr style=\"text-align: right;\">\n",
       "      <th></th>\n",
       "      <th>event_name</th>\n",
       "      <th>device_id</th>\n",
       "      <th>datetime</th>\n",
       "      <th>group_id</th>\n",
       "    </tr>\n",
       "  </thead>\n",
       "  <tbody>\n",
       "    <tr>\n",
       "      <th>0</th>\n",
       "      <td>MainScreenAppear</td>\n",
       "      <td>4575588528974610257</td>\n",
       "      <td>1564029816</td>\n",
       "      <td>246</td>\n",
       "    </tr>\n",
       "    <tr>\n",
       "      <th>1</th>\n",
       "      <td>MainScreenAppear</td>\n",
       "      <td>7416695313311560658</td>\n",
       "      <td>1564053102</td>\n",
       "      <td>246</td>\n",
       "    </tr>\n",
       "    <tr>\n",
       "      <th>2</th>\n",
       "      <td>PaymentScreenSuccessful</td>\n",
       "      <td>3518123091307005509</td>\n",
       "      <td>1564054127</td>\n",
       "      <td>248</td>\n",
       "    </tr>\n",
       "    <tr>\n",
       "      <th>3</th>\n",
       "      <td>CartScreenAppear</td>\n",
       "      <td>3518123091307005509</td>\n",
       "      <td>1564054127</td>\n",
       "      <td>248</td>\n",
       "    </tr>\n",
       "    <tr>\n",
       "      <th>4</th>\n",
       "      <td>PaymentScreenSuccessful</td>\n",
       "      <td>6217807653094995999</td>\n",
       "      <td>1564055322</td>\n",
       "      <td>248</td>\n",
       "    </tr>\n",
       "  </tbody>\n",
       "</table>\n",
       "</div>"
      ],
      "text/plain": [
       "                event_name            device_id    datetime  group_id\n",
       "0         MainScreenAppear  4575588528974610257  1564029816       246\n",
       "1         MainScreenAppear  7416695313311560658  1564053102       246\n",
       "2  PaymentScreenSuccessful  3518123091307005509  1564054127       248\n",
       "3         CartScreenAppear  3518123091307005509  1564054127       248\n",
       "4  PaymentScreenSuccessful  6217807653094995999  1564055322       248"
      ]
     },
     "execution_count": 5,
     "metadata": {},
     "output_type": "execute_result"
    }
   ],
   "source": [
    "#Проверяем переименование\n",
    "lags.head(5)"
   ]
  },
  {
   "cell_type": "code",
   "execution_count": 6,
   "metadata": {},
   "outputs": [
    {
     "name": "stdout",
     "output_type": "stream",
     "text": [
      "<class 'pandas.core.frame.DataFrame'>\n",
      "RangeIndex: 244126 entries, 0 to 244125\n",
      "Data columns (total 4 columns):\n",
      " #   Column      Non-Null Count   Dtype         \n",
      "---  ------      --------------   -----         \n",
      " 0   event_name  244126 non-null  object        \n",
      " 1   device_id   244126 non-null  object        \n",
      " 2   datetime    244126 non-null  datetime64[ns]\n",
      " 3   group_id    244126 non-null  object        \n",
      "dtypes: datetime64[ns](1), object(3)\n",
      "memory usage: 7.5+ MB\n"
     ]
    }
   ],
   "source": [
    "#Меняем типы данных в колонках на нужные.\n",
    "lags['datetime'] = pd.to_datetime(lags['datetime'], unit='s')\n",
    "lags['device_id'] = lags['device_id'].astype(str)\n",
    "lags['group_id'] = lags['group_id'].astype(str)\n",
    "lags.info()"
   ]
  },
  {
   "cell_type": "code",
   "execution_count": 7,
   "metadata": {},
   "outputs": [
    {
     "data": {
      "text/plain": [
       "413"
      ]
     },
     "metadata": {},
     "output_type": "display_data"
    }
   ],
   "source": [
    "#проверяем на наличие дубликаотов датасет \n",
    "display(lags.duplicated().sum())"
   ]
  },
  {
   "cell_type": "code",
   "execution_count": 8,
   "metadata": {},
   "outputs": [
    {
     "data": {
      "text/plain": [
       "event_name    0\n",
       "device_id     0\n",
       "datetime      0\n",
       "group_id      0\n",
       "dtype: int64"
      ]
     },
     "execution_count": 8,
     "metadata": {},
     "output_type": "execute_result"
    }
   ],
   "source": [
    "#проверяем на наличие пропусков датасет \n",
    "lags.isna().sum()"
   ]
  },
  {
   "cell_type": "code",
   "execution_count": 9,
   "metadata": {},
   "outputs": [
    {
     "data": {
      "text/html": [
       "<div>\n",
       "<style scoped>\n",
       "    .dataframe tbody tr th:only-of-type {\n",
       "        vertical-align: middle;\n",
       "    }\n",
       "\n",
       "    .dataframe tbody tr th {\n",
       "        vertical-align: top;\n",
       "    }\n",
       "\n",
       "    .dataframe thead th {\n",
       "        text-align: right;\n",
       "    }\n",
       "</style>\n",
       "<table border=\"1\" class=\"dataframe\">\n",
       "  <thead>\n",
       "    <tr style=\"text-align: right;\">\n",
       "      <th></th>\n",
       "      <th>event_name</th>\n",
       "      <th>device_id</th>\n",
       "      <th>datetime</th>\n",
       "      <th>group_id</th>\n",
       "    </tr>\n",
       "  </thead>\n",
       "  <tbody>\n",
       "    <tr>\n",
       "      <th>0</th>\n",
       "      <td>MainScreenAppear</td>\n",
       "      <td>4575588528974610257</td>\n",
       "      <td>2019-07-25 04:43:36</td>\n",
       "      <td>246</td>\n",
       "    </tr>\n",
       "    <tr>\n",
       "      <th>1</th>\n",
       "      <td>MainScreenAppear</td>\n",
       "      <td>7416695313311560658</td>\n",
       "      <td>2019-07-25 11:11:42</td>\n",
       "      <td>246</td>\n",
       "    </tr>\n",
       "    <tr>\n",
       "      <th>2</th>\n",
       "      <td>PaymentScreenSuccessful</td>\n",
       "      <td>3518123091307005509</td>\n",
       "      <td>2019-07-25 11:28:47</td>\n",
       "      <td>248</td>\n",
       "    </tr>\n",
       "    <tr>\n",
       "      <th>3</th>\n",
       "      <td>CartScreenAppear</td>\n",
       "      <td>3518123091307005509</td>\n",
       "      <td>2019-07-25 11:28:47</td>\n",
       "      <td>248</td>\n",
       "    </tr>\n",
       "    <tr>\n",
       "      <th>4</th>\n",
       "      <td>PaymentScreenSuccessful</td>\n",
       "      <td>6217807653094995999</td>\n",
       "      <td>2019-07-25 11:48:42</td>\n",
       "      <td>248</td>\n",
       "    </tr>\n",
       "    <tr>\n",
       "      <th>...</th>\n",
       "      <td>...</td>\n",
       "      <td>...</td>\n",
       "      <td>...</td>\n",
       "      <td>...</td>\n",
       "    </tr>\n",
       "    <tr>\n",
       "      <th>244121</th>\n",
       "      <td>MainScreenAppear</td>\n",
       "      <td>4599628364049201812</td>\n",
       "      <td>2019-08-07 21:12:25</td>\n",
       "      <td>247</td>\n",
       "    </tr>\n",
       "    <tr>\n",
       "      <th>244122</th>\n",
       "      <td>MainScreenAppear</td>\n",
       "      <td>5849806612437486590</td>\n",
       "      <td>2019-08-07 21:13:59</td>\n",
       "      <td>246</td>\n",
       "    </tr>\n",
       "    <tr>\n",
       "      <th>244123</th>\n",
       "      <td>MainScreenAppear</td>\n",
       "      <td>5746969938801999050</td>\n",
       "      <td>2019-08-07 21:14:43</td>\n",
       "      <td>246</td>\n",
       "    </tr>\n",
       "    <tr>\n",
       "      <th>244124</th>\n",
       "      <td>MainScreenAppear</td>\n",
       "      <td>5746969938801999050</td>\n",
       "      <td>2019-08-07 21:14:58</td>\n",
       "      <td>246</td>\n",
       "    </tr>\n",
       "    <tr>\n",
       "      <th>244125</th>\n",
       "      <td>OffersScreenAppear</td>\n",
       "      <td>5746969938801999050</td>\n",
       "      <td>2019-08-07 21:15:17</td>\n",
       "      <td>246</td>\n",
       "    </tr>\n",
       "  </tbody>\n",
       "</table>\n",
       "<p>243713 rows × 4 columns</p>\n",
       "</div>"
      ],
      "text/plain": [
       "                     event_name            device_id            datetime  \\\n",
       "0              MainScreenAppear  4575588528974610257 2019-07-25 04:43:36   \n",
       "1              MainScreenAppear  7416695313311560658 2019-07-25 11:11:42   \n",
       "2       PaymentScreenSuccessful  3518123091307005509 2019-07-25 11:28:47   \n",
       "3              CartScreenAppear  3518123091307005509 2019-07-25 11:28:47   \n",
       "4       PaymentScreenSuccessful  6217807653094995999 2019-07-25 11:48:42   \n",
       "...                         ...                  ...                 ...   \n",
       "244121         MainScreenAppear  4599628364049201812 2019-08-07 21:12:25   \n",
       "244122         MainScreenAppear  5849806612437486590 2019-08-07 21:13:59   \n",
       "244123         MainScreenAppear  5746969938801999050 2019-08-07 21:14:43   \n",
       "244124         MainScreenAppear  5746969938801999050 2019-08-07 21:14:58   \n",
       "244125       OffersScreenAppear  5746969938801999050 2019-08-07 21:15:17   \n",
       "\n",
       "       group_id  \n",
       "0           246  \n",
       "1           246  \n",
       "2           248  \n",
       "3           248  \n",
       "4           248  \n",
       "...         ...  \n",
       "244121      247  \n",
       "244122      246  \n",
       "244123      246  \n",
       "244124      246  \n",
       "244125      246  \n",
       "\n",
       "[243713 rows x 4 columns]"
      ]
     },
     "execution_count": 9,
     "metadata": {},
     "output_type": "execute_result"
    }
   ],
   "source": [
    "#Удаляем дубликаты из датасета\n",
    "lags = lags.drop_duplicates()\n",
    "lags"
   ]
  },
  {
   "cell_type": "code",
   "execution_count": 10,
   "metadata": {},
   "outputs": [],
   "source": [
    "#Добавляем столбец с датой\n",
    "lags['date'] = lags['datetime'].dt.date"
   ]
  },
  {
   "cell_type": "code",
   "execution_count": 11,
   "metadata": {},
   "outputs": [
    {
     "data": {
      "text/html": [
       "<div>\n",
       "<style scoped>\n",
       "    .dataframe tbody tr th:only-of-type {\n",
       "        vertical-align: middle;\n",
       "    }\n",
       "\n",
       "    .dataframe tbody tr th {\n",
       "        vertical-align: top;\n",
       "    }\n",
       "\n",
       "    .dataframe thead th {\n",
       "        text-align: right;\n",
       "    }\n",
       "</style>\n",
       "<table border=\"1\" class=\"dataframe\">\n",
       "  <thead>\n",
       "    <tr style=\"text-align: right;\">\n",
       "      <th></th>\n",
       "      <th>device_id</th>\n",
       "      <th>group_id</th>\n",
       "    </tr>\n",
       "  </thead>\n",
       "  <tbody>\n",
       "  </tbody>\n",
       "</table>\n",
       "</div>"
      ],
      "text/plain": [
       "Empty DataFrame\n",
       "Columns: [device_id, group_id]\n",
       "Index: []"
      ]
     },
     "execution_count": 11,
     "metadata": {},
     "output_type": "execute_result"
    }
   ],
   "source": [
    "#Проверим пересечение пользователей в каждой группе \n",
    "lags_group_user = lags.groupby('device_id')['group_id'].nunique().reset_index().query('group_id > 1')\n",
    "lags_group_user"
   ]
  },
  {
   "cell_type": "markdown",
   "metadata": {},
   "source": [
    "В датасете были обнаружены 413 дубликатов, их не много и было принято решение удалить дубликаты для более точного анализа. Так же изменили типы данных в колонках с датой на привычный datatime, и в колонках с названием группы и id устройства на obj, для удобного счёта. Пропусков в датасете нет. Так же проверили попадание одних и тех же пользователей в 2 или 3 группы сразу, результат оказался отрицательным, т.е. все пользователи распределяются равномерно по группам без дубля. "
   ]
  },
  {
   "cell_type": "markdown",
   "metadata": {},
   "source": [
    "<b>Изучение и проверка данных</b>"
   ]
  },
  {
   "cell_type": "code",
   "execution_count": 12,
   "metadata": {},
   "outputs": [
    {
     "name": "stdout",
     "output_type": "stream",
     "text": [
      "Всего: Событий 5\n"
     ]
    }
   ],
   "source": [
    "# Считаем количество уникальных событий в колонке event_name в датасете lags\n",
    "print('Всего: Событий',len(lags['event_name'].value_counts()))"
   ]
  },
  {
   "cell_type": "code",
   "execution_count": 13,
   "metadata": {},
   "outputs": [
    {
     "name": "stdout",
     "output_type": "stream",
     "text": [
      "Всего: Пользователей 7551\n"
     ]
    }
   ],
   "source": [
    "# Считаем количество пользователей в датасете \n",
    "print('Всего: Пользователей',len(lags['device_id'].value_counts()))"
   ]
  },
  {
   "cell_type": "code",
   "execution_count": 14,
   "metadata": {},
   "outputs": [
    {
     "data": {
      "text/plain": [
       "MainScreenAppear           119101\n",
       "OffersScreenAppear          46808\n",
       "CartScreenAppear            42668\n",
       "PaymentScreenSuccessful     34118\n",
       "Tutorial                     1018\n",
       "Name: event_name, dtype: int64"
      ]
     },
     "execution_count": 14,
     "metadata": {},
     "output_type": "execute_result"
    }
   ],
   "source": [
    "#Посмотрим на количество событий по их видам \n",
    "lags['event_name'].value_counts()"
   ]
  },
  {
   "cell_type": "code",
   "execution_count": 15,
   "metadata": {},
   "outputs": [
    {
     "name": "stdout",
     "output_type": "stream",
     "text": [
      "В среднем на пользователя приходится 32.3 события\n"
     ]
    }
   ],
   "source": [
    "#Среднее значение события на 1 пользователя \n",
    "avg_events_person = lags.pivot_table(index='device_id',values='event_name',aggfunc=('count'))\n",
    "print('В среднем на пользователя приходится', round(avg_events_person['event_name'].mean(), 1), 'события')"
   ]
  },
  {
   "cell_type": "code",
   "execution_count": 16,
   "metadata": {},
   "outputs": [
    {
     "name": "stdout",
     "output_type": "stream",
     "text": [
      "Даты:\n",
      "Минимум: 2019-07-25\n",
      "Максимум: 2019-08-07\n"
     ]
    }
   ],
   "source": [
    "# Находим минимальную и максимальную даты \n",
    "min_date = lags['date'].min()\n",
    "max_date = lags['date'].max()\n",
    "print('Даты:\\nМинимум: {}\\nМаксимум: {}'\n",
    "      .format(min_date,max_date))"
   ]
  },
  {
   "cell_type": "code",
   "execution_count": 17,
   "metadata": {},
   "outputs": [
    {
     "data": {
      "image/png": "[encoded data removed]",
      "text/plain": [
       "<Figure size 720x432 with 1 Axes>"
      ]
     },
     "metadata": {
      "needs_background": "light"
     },
     "output_type": "display_data"
    }
   ],
   "source": [
    "#Гитограмма по дате и времени\n",
    "plt.figure(figsize=(10,6))\n",
    "lags['datetime'].hist(bins = 14).set_title('Гистограмма по дате и времени')\n",
    "plt.xlabel(\"Дата\")\n",
    "plt.xticks(rotation=50) \n",
    "plt.show()"
   ]
  },
  {
   "cell_type": "markdown",
   "metadata": {},
   "source": [
    "По графику видно что наименьшее число событий приходиться на даты с 25-07-2019 по 01-08-2019. И основная часть событий приходится на период с 1 вгуста по 7 августа. Я думаю этот период с данными нам и понадобится для анализа."
   ]
  },
  {
   "cell_type": "code",
   "execution_count": 18,
   "metadata": {},
   "outputs": [
    {
     "data": {
      "image/png": "[encoded data removed]",
      "text/plain": [
       "<Figure size 720x432 with 1 Axes>"
      ]
     },
     "metadata": {
      "needs_background": "light"
     },
     "output_type": "display_data"
    }
   ],
   "source": [
    "# Отбросим события до 1 августа, строим гистограмму для подробного изучения \n",
    "lags['date'] = pd.to_datetime(lags['date'])\n",
    "сomplete_data = lags.query('date > \"2019-07-31\"')\n",
    "plt.figure(figsize=(10,6))\n",
    "сomplete_data['date'].hist(bins=15).set_title('Гистограмма по дате (полные данные)')\n",
    "plt.xlabel(\"Дата\")\n",
    "plt.xticks(rotation=50) \n",
    "plt.show()"
   ]
  },
  {
   "cell_type": "markdown",
   "metadata": {},
   "source": [
    "Данные за период 25-07-2019 по 01-08-2019 были отброшены, т.к. их было недостаточно для анализа. Основной блок с данными расположился с 1 по 7 августа, данный период и будем считать полными данными и использовать для анализа. Так же нужно посмотреть какую часть данных мы в итоге отбросили от общего датасета и не повлияет ли это на дальнейший анализ."
   ]
  },
  {
   "cell_type": "code",
   "execution_count": 19,
   "metadata": {},
   "outputs": [
    {
     "data": {
      "text/plain": [
       "243713"
      ]
     },
     "execution_count": 19,
     "metadata": {},
     "output_type": "execute_result"
    }
   ],
   "source": [
    "#Посмотрим какое соотношение полных данных к всему датасету.\n",
    "#Создаю новые датасеты с фильтрацией и без.\n",
    "old_data = lags \n",
    "сomplete_data #датасет с фильтром создан ранее\n",
    "\n",
    "#Смотрим общее количество данных в датасете без фильтра.\n",
    "old_data.shape[0]"
   ]
  },
  {
   "cell_type": "code",
   "execution_count": 20,
   "metadata": {},
   "outputs": [
    {
     "data": {
      "text/plain": [
       "98.84"
      ]
     },
     "execution_count": 20,
     "metadata": {},
     "output_type": "execute_result"
    }
   ],
   "source": [
    "#Смотрим на соотношение отфильтрованых и неотфильтрованых данных \n",
    "round(сomplete_data.shape[0]/old_data.shape[0]*100,2)"
   ]
  },
  {
   "cell_type": "code",
   "execution_count": 21,
   "metadata": {},
   "outputs": [
    {
     "name": "stdout",
     "output_type": "stream",
     "text": [
      "Количество пользователей до фильтрации : 7551, \n",
      "после фильтрации : 7534. \n",
      "Разность : 17 или 0.23%\n"
     ]
    }
   ],
   "source": [
    "#Смотрим на потери пользователей после фильтрации\n",
    "filter_users = len(сomplete_data['device_id'].value_counts())\n",
    "unfiltered_users = len(lags['device_id'].value_counts())\n",
    "print('Количество пользователей до фильтрации : {}, \\nпосле фильтрации : {}. \\nРазность : {} или {}%'\n",
    "      .format(unfiltered_users, filter_users,unfiltered_users - filter_users,\n",
    "       round(100 - filter_users/unfiltered_users*100, 2)))"
   ]
  },
  {
   "cell_type": "code",
   "execution_count": 22,
   "metadata": {},
   "outputs": [
    {
     "data": {
      "text/plain": [
       "248    84563\n",
       "246    79302\n",
       "247    77022\n",
       "Name: group_id, dtype: int64"
      ]
     },
     "execution_count": 22,
     "metadata": {},
     "output_type": "execute_result"
    }
   ],
   "source": [
    "#Проверяем, что в отфильтрованный датасет попали все 3 группы\n",
    "сomplete_data['group_id'].value_counts()"
   ]
  },
  {
   "cell_type": "markdown",
   "metadata": {},
   "source": [
    "В целом согласно посчитаным данным мы немного потеряли благодаря фильтру с датой, по общей картине это 1.2 % от общего количества данных и 0,23 % от количества пользователей. Теперь анализ будет куда точнее с этими правками. Так же видно что все 3 контрольные группы попали в анализ. "
   ]
  },
  {
   "cell_type": "markdown",
   "metadata": {},
   "source": [
    "<b>Изучаем воронку событий</b>"
   ]
  },
  {
   "cell_type": "code",
   "execution_count": 23,
   "metadata": {},
   "outputs": [
    {
     "data": {
      "text/plain": [
       "MainScreenAppear           117328\n",
       "OffersScreenAppear          46333\n",
       "CartScreenAppear            42303\n",
       "PaymentScreenSuccessful     33918\n",
       "Tutorial                     1005\n",
       "Name: event_name, dtype: int64"
      ]
     },
     "execution_count": 23,
     "metadata": {},
     "output_type": "execute_result"
    }
   ],
   "source": [
    "#Смотрим на то, какие события есть в логах, и как часто они встречаются. Сортируем события по частоте.\n",
    "сomplete_data['event_name'].value_counts()"
   ]
  },
  {
   "cell_type": "code",
   "execution_count": 24,
   "metadata": {},
   "outputs": [
    {
     "data": {
      "text/html": [
       "<div>\n",
       "<style scoped>\n",
       "    .dataframe tbody tr th:only-of-type {\n",
       "        vertical-align: middle;\n",
       "    }\n",
       "\n",
       "    .dataframe tbody tr th {\n",
       "        vertical-align: top;\n",
       "    }\n",
       "\n",
       "    .dataframe thead th {\n",
       "        text-align: right;\n",
       "    }\n",
       "</style>\n",
       "<table border=\"1\" class=\"dataframe\">\n",
       "  <thead>\n",
       "    <tr style=\"text-align: right;\">\n",
       "      <th></th>\n",
       "      <th>device_id</th>\n",
       "    </tr>\n",
       "    <tr>\n",
       "      <th>event_name</th>\n",
       "      <th></th>\n",
       "    </tr>\n",
       "  </thead>\n",
       "  <tbody>\n",
       "    <tr>\n",
       "      <th>MainScreenAppear</th>\n",
       "      <td>7419</td>\n",
       "    </tr>\n",
       "    <tr>\n",
       "      <th>OffersScreenAppear</th>\n",
       "      <td>4593</td>\n",
       "    </tr>\n",
       "    <tr>\n",
       "      <th>CartScreenAppear</th>\n",
       "      <td>3734</td>\n",
       "    </tr>\n",
       "    <tr>\n",
       "      <th>PaymentScreenSuccessful</th>\n",
       "      <td>3539</td>\n",
       "    </tr>\n",
       "    <tr>\n",
       "      <th>Tutorial</th>\n",
       "      <td>840</td>\n",
       "    </tr>\n",
       "  </tbody>\n",
       "</table>\n",
       "</div>"
      ],
      "text/plain": [
       "                         device_id\n",
       "event_name                        \n",
       "MainScreenAppear              7419\n",
       "OffersScreenAppear            4593\n",
       "CartScreenAppear              3734\n",
       "PaymentScreenSuccessful       3539\n",
       "Tutorial                       840"
      ]
     },
     "execution_count": 24,
     "metadata": {},
     "output_type": "execute_result"
    }
   ],
   "source": [
    "#Считаем, сколько пользователей совершали каждое из этих событий. \n",
    "#Сортируем события по числу пользователей. \n",
    "user_per_event = сomplete_data.pivot_table(index='event_name',values='device_id',aggfunc='nunique').sort_values(by='device_id',ascending=False)\n",
    "user_per_event"
   ]
  },
  {
   "cell_type": "code",
   "execution_count": 25,
   "metadata": {},
   "outputs": [
    {
     "data": {
      "text/html": [
       "<div>\n",
       "<style scoped>\n",
       "    .dataframe tbody tr th:only-of-type {\n",
       "        vertical-align: middle;\n",
       "    }\n",
       "\n",
       "    .dataframe tbody tr th {\n",
       "        vertical-align: top;\n",
       "    }\n",
       "\n",
       "    .dataframe thead th {\n",
       "        text-align: right;\n",
       "    }\n",
       "</style>\n",
       "<table border=\"1\" class=\"dataframe\">\n",
       "  <thead>\n",
       "    <tr style=\"text-align: right;\">\n",
       "      <th></th>\n",
       "      <th>device_id</th>\n",
       "      <th>%</th>\n",
       "    </tr>\n",
       "    <tr>\n",
       "      <th>event_name</th>\n",
       "      <th></th>\n",
       "      <th></th>\n",
       "    </tr>\n",
       "  </thead>\n",
       "  <tbody>\n",
       "    <tr>\n",
       "      <th>MainScreenAppear</th>\n",
       "      <td>7419</td>\n",
       "      <td>98.5</td>\n",
       "    </tr>\n",
       "    <tr>\n",
       "      <th>OffersScreenAppear</th>\n",
       "      <td>4593</td>\n",
       "      <td>61.0</td>\n",
       "    </tr>\n",
       "    <tr>\n",
       "      <th>CartScreenAppear</th>\n",
       "      <td>3734</td>\n",
       "      <td>49.6</td>\n",
       "    </tr>\n",
       "    <tr>\n",
       "      <th>PaymentScreenSuccessful</th>\n",
       "      <td>3539</td>\n",
       "      <td>47.0</td>\n",
       "    </tr>\n",
       "    <tr>\n",
       "      <th>Tutorial</th>\n",
       "      <td>840</td>\n",
       "      <td>11.1</td>\n",
       "    </tr>\n",
       "  </tbody>\n",
       "</table>\n",
       "</div>"
      ],
      "text/plain": [
       "                         device_id     %\n",
       "event_name                              \n",
       "MainScreenAppear              7419  98.5\n",
       "OffersScreenAppear            4593  61.0\n",
       "CartScreenAppear              3734  49.6\n",
       "PaymentScreenSuccessful       3539  47.0\n",
       "Tutorial                       840  11.1"
      ]
     },
     "execution_count": 25,
     "metadata": {},
     "output_type": "execute_result"
    }
   ],
   "source": [
    "#Считаем долю пользователей, которые хоть раз совершали событие.\n",
    "user_per_event['%'] = round(user_per_event['device_id']/len(сomplete_data['device_id'].unique()), 3) * 100\n",
    "user_per_event.columns = ['device_id','%']\n",
    "user_per_event"
   ]
  },
  {
   "cell_type": "code",
   "execution_count": 26,
   "metadata": {},
   "outputs": [
    {
     "data": {
      "image/png": "[encoded data removed]",
      "text/plain": [
       "<Figure size 936x432 with 1 Axes>"
      ]
     },
     "metadata": {
      "needs_background": "light"
     },
     "output_type": "display_data"
    }
   ],
   "source": [
    "#Строим гистограмму событий по числу пользователей(так называемая воронка)\n",
    "plt.figure(figsize=(13,6))\n",
    "sns.barplot(x=user_per_event.index,y=user_per_event['device_id'])\n",
    "plt.title(\"Cобытия по числу пользователей\")\n",
    "plt.xlabel(\"Название события\")\n",
    "plt.ylabel(\"Количество польщователей\")\n",
    "plt.show()"
   ]
  },
  {
   "cell_type": "markdown",
   "metadata": {},
   "source": [
    "Лидирующую пазицию занимает событие MainScreenAppear с количеством событий более 7 тыс. Её и будем считать началом воронки. Далее расположились все остальные события с существенными потерями по числу пользователей(практически 50%)."
   ]
  },
  {
   "cell_type": "code",
   "execution_count": 27,
   "metadata": {},
   "outputs": [
    {
     "data": {
      "image/png": "[encoded data removed]",
      "text/plain": [
       "<Figure size 720x432 with 1 Axes>"
      ]
     },
     "metadata": {},
     "output_type": "display_data"
    }
   ],
   "source": [
    "user_per_event.plot( y='%', kind = 'pie', autopct='%.1f%%', figsize=(10,6))\n",
    "plt.legend('')\n",
    "plt.show()"
   ]
  },
  {
   "cell_type": "markdown",
   "metadata": {},
   "source": [
    "Предположим что события, исходя из количества пользователей прошедших эти события происходят в следущем порядке: \n",
    "<br>1.Появление главного экрана</br>\n",
    "<br>2.Появление экрана предложений</br>\n",
    "<br>3.Появление экрана корзины</br>\n",
    "<br>4.Экран оплаты успешно</br>\n",
    "<br>5.Обучение</br>\n",
    "\n",
    "<br>Думаю событие обучение, является не объязательным на саёте и только 4% пользователей его используют.  Возможно, пользователя учат работать с сайтом. Это событие не  нужно учитывать при расчёте воронки </br>\n"
   ]
  },
  {
   "cell_type": "code",
   "execution_count": 28,
   "metadata": {},
   "outputs": [
    {
     "data": {
      "text/html": [
       "<div>\n",
       "<style scoped>\n",
       "    .dataframe tbody tr th:only-of-type {\n",
       "        vertical-align: middle;\n",
       "    }\n",
       "\n",
       "    .dataframe tbody tr th {\n",
       "        vertical-align: top;\n",
       "    }\n",
       "\n",
       "    .dataframe thead th {\n",
       "        text-align: right;\n",
       "    }\n",
       "</style>\n",
       "<table border=\"1\" class=\"dataframe\">\n",
       "  <thead>\n",
       "    <tr style=\"text-align: right;\">\n",
       "      <th></th>\n",
       "      <th>device_id</th>\n",
       "      <th>%</th>\n",
       "      <th>conversion</th>\n",
       "    </tr>\n",
       "    <tr>\n",
       "      <th>event_name</th>\n",
       "      <th></th>\n",
       "      <th></th>\n",
       "      <th></th>\n",
       "    </tr>\n",
       "  </thead>\n",
       "  <tbody>\n",
       "    <tr>\n",
       "      <th>MainScreenAppear</th>\n",
       "      <td>7419</td>\n",
       "      <td>98.5</td>\n",
       "      <td>100</td>\n",
       "    </tr>\n",
       "    <tr>\n",
       "      <th>OffersScreenAppear</th>\n",
       "      <td>4593</td>\n",
       "      <td>61.0</td>\n",
       "      <td>62</td>\n",
       "    </tr>\n",
       "    <tr>\n",
       "      <th>CartScreenAppear</th>\n",
       "      <td>3734</td>\n",
       "      <td>49.6</td>\n",
       "      <td>81</td>\n",
       "    </tr>\n",
       "    <tr>\n",
       "      <th>PaymentScreenSuccessful</th>\n",
       "      <td>3539</td>\n",
       "      <td>47.0</td>\n",
       "      <td>95</td>\n",
       "    </tr>\n",
       "    <tr>\n",
       "      <th>Tutorial</th>\n",
       "      <td>840</td>\n",
       "      <td>11.1</td>\n",
       "      <td>24</td>\n",
       "    </tr>\n",
       "  </tbody>\n",
       "</table>\n",
       "</div>"
      ],
      "text/plain": [
       "                         device_id     %  conversion\n",
       "event_name                                          \n",
       "MainScreenAppear              7419  98.5         100\n",
       "OffersScreenAppear            4593  61.0          62\n",
       "CartScreenAppear              3734  49.6          81\n",
       "PaymentScreenSuccessful       3539  47.0          95\n",
       "Tutorial                       840  11.1          24"
      ]
     },
     "execution_count": 28,
     "metadata": {},
     "output_type": "execute_result"
    }
   ],
   "source": [
    "#Посчитаем какая доля пользователей проходит на следующий шаг воронки(от числа пользователей на предыдущем). \n",
    "#То есть для последовательности событий A → B → C посчитайте отношение числа пользователей с событием B \n",
    "#к количеству пользователей с событием A, а также отношение числа пользователей с событием C \n",
    "#к количеству пользователей с событием B.\n",
    "user_per_event['conversion'] = 0\n",
    "for i in range(len(user_per_event['%'])):\n",
    "    if i == 0:\n",
    "        user_per_event['conversion'].iloc[i] = 100\n",
    "    else:\n",
    "        user_per_event['conversion'].iloc[i] = round(int(user_per_event['device_id'].iloc[i]) / int(user_per_event['device_id'].iloc[i-1]), 2)*100\n",
    "user_per_event"
   ]
  },
  {
   "cell_type": "markdown",
   "metadata": {},
   "source": [
    "На экран с предложением проходит 62% пользователей, посмотревших главный экран. На экран с корзиной переходит 81% пользователей. На экран с успешной оплатой переходит 95% пользователей."
   ]
  },
  {
   "cell_type": "markdown",
   "metadata": {},
   "source": [
    "Большее количество пользователей теряется на этапе перехода от главного экрана к экрану с предложением. Потери составляют 38%, когда на следующих этапах \"отсеивается\" не более 20%."
   ]
  },
  {
   "cell_type": "code",
   "execution_count": 29,
   "metadata": {},
   "outputs": [
    {
     "name": "stdout",
     "output_type": "stream",
     "text": [
      "На экран с оплатой заказа переходят: 48.0 % пользователей по отношению к главной странице сайта.\n"
     ]
    }
   ],
   "source": [
    "ratio = round(int(user_per_event['device_id'].iloc[3]) / int(user_per_event['device_id'].iloc[0]), 2)*100\n",
    "print('На экран с оплатой заказа переходят:',ratio,'% пользователей по отношению к главной странице сайта.')"
   ]
  },
  {
   "cell_type": "markdown",
   "metadata": {},
   "source": [
    "<b>Изучаем результаты эксперимента</b>"
   ]
  },
  {
   "cell_type": "code",
   "execution_count": 30,
   "metadata": {},
   "outputs": [
    {
     "data": {
      "text/html": [
       "<div>\n",
       "<style scoped>\n",
       "    .dataframe tbody tr th:only-of-type {\n",
       "        vertical-align: middle;\n",
       "    }\n",
       "\n",
       "    .dataframe tbody tr th {\n",
       "        vertical-align: top;\n",
       "    }\n",
       "\n",
       "    .dataframe thead th {\n",
       "        text-align: right;\n",
       "    }\n",
       "</style>\n",
       "<table border=\"1\" class=\"dataframe\">\n",
       "  <thead>\n",
       "    <tr style=\"text-align: right;\">\n",
       "      <th></th>\n",
       "      <th>device_id</th>\n",
       "    </tr>\n",
       "    <tr>\n",
       "      <th>group_id</th>\n",
       "      <th></th>\n",
       "    </tr>\n",
       "  </thead>\n",
       "  <tbody>\n",
       "    <tr>\n",
       "      <th>246</th>\n",
       "      <td>2484</td>\n",
       "    </tr>\n",
       "    <tr>\n",
       "      <th>247</th>\n",
       "      <td>2513</td>\n",
       "    </tr>\n",
       "    <tr>\n",
       "      <th>248</th>\n",
       "      <td>2537</td>\n",
       "    </tr>\n",
       "  </tbody>\n",
       "</table>\n",
       "</div>"
      ],
      "text/plain": [
       "          device_id\n",
       "group_id           \n",
       "246            2484\n",
       "247            2513\n",
       "248            2537"
      ]
     },
     "execution_count": 30,
     "metadata": {},
     "output_type": "execute_result"
    }
   ],
   "source": [
    "#Посмотрим сколько пользователей в каждой экспериментальной группе\n",
    "users_group = сomplete_data.pivot_table(index='group_id', values='device_id',aggfunc='nunique')\n",
    "users_group"
   ]
  },
  {
   "cell_type": "markdown",
   "metadata": {},
   "source": [
    "В каждой группе почти по 2500 пользоватлей."
   ]
  },
  {
   "cell_type": "code",
   "execution_count": 31,
   "metadata": {},
   "outputs": [
    {
     "data": {
      "text/html": [
       "<div>\n",
       "<style scoped>\n",
       "    .dataframe tbody tr th:only-of-type {\n",
       "        vertical-align: middle;\n",
       "    }\n",
       "\n",
       "    .dataframe tbody tr th {\n",
       "        vertical-align: top;\n",
       "    }\n",
       "\n",
       "    .dataframe thead th {\n",
       "        text-align: right;\n",
       "    }\n",
       "</style>\n",
       "<table border=\"1\" class=\"dataframe\">\n",
       "  <thead>\n",
       "    <tr style=\"text-align: right;\">\n",
       "      <th>event_name</th>\n",
       "      <th>CartScreenAppear</th>\n",
       "      <th>MainScreenAppear</th>\n",
       "      <th>OffersScreenAppear</th>\n",
       "      <th>PaymentScreenSuccessful</th>\n",
       "      <th>all_users_in_group</th>\n",
       "      <th>share_of_users</th>\n",
       "    </tr>\n",
       "    <tr>\n",
       "      <th>group_id</th>\n",
       "      <th></th>\n",
       "      <th></th>\n",
       "      <th></th>\n",
       "      <th></th>\n",
       "      <th></th>\n",
       "      <th></th>\n",
       "    </tr>\n",
       "  </thead>\n",
       "  <tbody>\n",
       "    <tr>\n",
       "      <th>246</th>\n",
       "      <td>1266</td>\n",
       "      <td>2450</td>\n",
       "      <td>1542</td>\n",
       "      <td>1200</td>\n",
       "      <td>2484</td>\n",
       "      <td>98.63</td>\n",
       "    </tr>\n",
       "    <tr>\n",
       "      <th>247</th>\n",
       "      <td>1238</td>\n",
       "      <td>2476</td>\n",
       "      <td>1520</td>\n",
       "      <td>1158</td>\n",
       "      <td>2513</td>\n",
       "      <td>98.53</td>\n",
       "    </tr>\n",
       "    <tr>\n",
       "      <th>248</th>\n",
       "      <td>1230</td>\n",
       "      <td>2493</td>\n",
       "      <td>1531</td>\n",
       "      <td>1181</td>\n",
       "      <td>2537</td>\n",
       "      <td>98.27</td>\n",
       "    </tr>\n",
       "  </tbody>\n",
       "</table>\n",
       "</div>"
      ],
      "text/plain": [
       "event_name  CartScreenAppear  MainScreenAppear  OffersScreenAppear  \\\n",
       "group_id                                                             \n",
       "246                     1266              2450                1542   \n",
       "247                     1238              2476                1520   \n",
       "248                     1230              2493                1531   \n",
       "\n",
       "event_name  PaymentScreenSuccessful  all_users_in_group  share_of_users  \n",
       "group_id                                                                 \n",
       "246                            1200                2484           98.63  \n",
       "247                            1158                2513           98.53  \n",
       "248                            1181                2537           98.27  "
      ]
     },
     "execution_count": 31,
     "metadata": {},
     "output_type": "execute_result"
    }
   ],
   "source": [
    "# Собираем все необходимые данные в один датасет, для удобства анализа \n",
    "all_events_user = сomplete_data.pivot_table(index='group_id',columns = 'event_name' ,values='device_id',aggfunc='nunique')\n",
    "del all_events_user['Tutorial'] # Удаляем данное событие из таблицы, т.к. ранее выяснили что оно не имеет отношения к воронке\n",
    "\n",
    "#Добавляю столбец с общим количеством пользователей из каждой экспериментальной группы.\n",
    "all_events_user['all_users_in_group'] = users_group['device_id']\n",
    "#Считаем долю пользователей, совершивших событие MainScreenAppear(самое популярное) от общего числа пользователей \n",
    "all_events_user['share_of_users'] = round(all_events_user['MainScreenAppear']/all_events_user['all_users_in_group']*100,2)\n",
    "all_events_user"
   ]
  },
  {
   "cell_type": "markdown",
   "metadata": {},
   "source": [
    "Сформулируем гипотезы:\n",
    "<br>H0:Между контрольными группами нет стат. значимости</br>\n",
    "<br>H1:Между группами присутствует стат. значимость</br>\n",
    "<br>Тесты будем проверять z-критерием</br>"
   ]
  },
  {
   "cell_type": "code",
   "execution_count": 32,
   "metadata": {},
   "outputs": [],
   "source": [
    "#Выставим критический уровень стат. значимости\n",
    "alpha = 0.05  # критический уровень статистической значимости"
   ]
  },
  {
   "cell_type": "markdown",
   "metadata": {},
   "source": [
    "Разница в конверсии между двумя группами с конверсиями 46 и 48% оказалась не значимой."
   ]
  },
  {
   "cell_type": "code",
   "execution_count": 33,
   "metadata": {},
   "outputs": [],
   "source": [
    "# Напишем функцию для проверки гипотез \n",
    "def return_hypothesis_test(success, trials, alpha):\n",
    "    # пропорция успехов в первой группе:\n",
    "    p1 = success[0] / trials[0]\n",
    "    # пропорция успехов во второй группе:\n",
    "    p2 = success[1] / trials[1]\n",
    "    # пропорция успехов в комбинированном датасете:\n",
    "    p_combined = (success[0] + success[1]) / (trials[0] + trials[1])\n",
    "    # разница пропорций в датасетах\n",
    "    difference = p1 - p2\n",
    " \n",
    "    z_value = difference / mth.sqrt(p_combined *(1-p_combined) * (1/trials[0] + 1/trials[1]))\n",
    "    \n",
    "    distr = st.norm(0, 1) \n",
    "    \n",
    "    p_value = (1 - distr.cdf(abs(z_value))) * 2\n",
    "    \n",
    "    print('p-значение: ', round(p_value,2))\n",
    "    \n",
    "    if (p_value < alpha):\n",
    "        print(\"Отвергаем нулевую гипотезу: между долями есть значимая разница\")\n",
    "        print('')\n",
    "    else:\n",
    "        print(\"Не получилось отвергнуть нулевую гипотезу, нет оснований считать доли разными\")\n",
    "        print('')"
   ]
  },
  {
   "cell_type": "code",
   "execution_count": 34,
   "metadata": {},
   "outputs": [],
   "source": [
    "# Напишем функцию, которая определяет порядковый номер группы и возвращает результаты проверки гипотез первой функции\n",
    "def definition_of_values(group_1, group_2): \n",
    "    all_users = ([all_events_user['all_users_in_group'][group_1], all_events_user['all_users_in_group'][group_2]]) \n",
    "    MainScreenAppear = ([all_events_user['MainScreenAppear'][group_1], all_events_user['MainScreenAppear'][group_2]])\n",
    "    OffersScreenAppear = ([all_events_user['OffersScreenAppear'][group_1], all_events_user['OffersScreenAppear'][group_2]])\n",
    "    CartScreenAppear = ([all_events_user['CartScreenAppear'][group_1], all_events_user['CartScreenAppear'][group_2]])\n",
    "    PaymentScreenSuccessful = ([all_events_user['PaymentScreenSuccessful'][group_1], all_events_user['PaymentScreenSuccessful'][group_2]])\n",
    "    \n",
    "    print('Результаты теста по долям all_users и MainScreenAppear для групп')\n",
    "    return_hypothesis_test(MainScreenAppear, all_users, alpha)\n",
    "    \n",
    "    print('Результаты теста по долям OffersScreenAppear и all_users для групп')\n",
    "    return_hypothesis_test(OffersScreenAppear, all_users, alpha)\n",
    "    \n",
    "    print('Результаты теста по долям all_users и CartScreenAppear для групп')\n",
    "    return_hypothesis_test(CartScreenAppear, all_users, alpha)\n",
    "    \n",
    "    print('Результаты теста по долям PaymentScreenSuccessful и all_users для групп')\n",
    "    return_hypothesis_test(PaymentScreenSuccessful, all_users, alpha)"
   ]
  },
  {
   "cell_type": "code",
   "execution_count": 35,
   "metadata": {},
   "outputs": [
    {
     "name": "stdout",
     "output_type": "stream",
     "text": [
      "Результаты теста по долям all_users и MainScreenAppear для групп\n",
      "p-значение:  0.76\n",
      "Не получилось отвергнуть нулевую гипотезу, нет оснований считать доли разными\n",
      "\n",
      "Результаты теста по долям OffersScreenAppear и all_users для групп\n",
      "p-значение:  0.25\n",
      "Не получилось отвергнуть нулевую гипотезу, нет оснований считать доли разными\n",
      "\n",
      "Результаты теста по долям all_users и CartScreenAppear для групп\n",
      "p-значение:  0.23\n",
      "Не получилось отвергнуть нулевую гипотезу, нет оснований считать доли разными\n",
      "\n",
      "Результаты теста по долям PaymentScreenSuccessful и all_users для групп\n",
      "p-значение:  0.11\n",
      "Не получилось отвергнуть нулевую гипотезу, нет оснований считать доли разными\n",
      "\n"
     ]
    }
   ],
   "source": [
    "#Вызовим функцию и передадим ей значения групп 246 и 247\n",
    "definition_of_values(0,1)"
   ]
  },
  {
   "cell_type": "markdown",
   "metadata": {},
   "source": [
    "Согласно проверки 246 и 247 группы по всем событиям воронки не имеют различий. Все значения p-value, выше критического уровня стат значимости. Это значит что: <br>на результаты не влияют аномалии и выбросы в генеральной совокупности;</br>\n",
    "<br>инструмент «деления» трафика работает безошибочно;</br>\n",
    "<br>данные отправляются в системы аналитики корректно.</br>"
   ]
  },
  {
   "cell_type": "markdown",
   "metadata": {},
   "source": [
    "<b>Аналогично поступим с группой с изменённым шрифтом. Сравним результаты с каждой из контрольных групп в отдельности по каждому событию. Сравним результаты с объединённой контрольной группой.</b>"
   ]
  },
  {
   "cell_type": "code",
   "execution_count": 36,
   "metadata": {},
   "outputs": [],
   "source": [
    "#У нас есть готовая таблица со всеми необходимыми данными, нужно добавить значения по объединению двух групп 246 и 247\n",
    "#Данные понадобятся для сравнения с 248 группой(изменённый шрифт)\n",
    "all_events_user.loc['246_247'] = [all_events_user['CartScreenAppear'][0]+all_events_user['CartScreenAppear'][1],\n",
    "                        all_events_user['MainScreenAppear'][0]+all_events_user['MainScreenAppear'][1],\n",
    "                        all_events_user['OffersScreenAppear'][0]+all_events_user['OffersScreenAppear'][1],\n",
    "                        all_events_user['PaymentScreenSuccessful'][0]+all_events_user['PaymentScreenSuccessful'][1],\n",
    "                        all_events_user['all_users_in_group'][0]+all_events_user['all_users_in_group'][1],  \n",
    "                        all_events_user['share_of_users'][0]+all_events_user['share_of_users'][1]]         \n",
    "                                 \n",
    "                        "
   ]
  },
  {
   "cell_type": "code",
   "execution_count": 37,
   "metadata": {},
   "outputs": [
    {
     "name": "stdout",
     "output_type": "stream",
     "text": [
      "Результаты теста по долям all_users и MainScreenAppear для групп\n",
      "p-значение:  0.29\n",
      "Не получилось отвергнуть нулевую гипотезу, нет оснований считать доли разными\n",
      "\n",
      "Результаты теста по долям OffersScreenAppear и all_users для групп\n",
      "p-значение:  0.21\n",
      "Не получилось отвергнуть нулевую гипотезу, нет оснований считать доли разными\n",
      "\n",
      "Результаты теста по долям all_users и CartScreenAppear для групп\n",
      "p-значение:  0.08\n",
      "Не получилось отвергнуть нулевую гипотезу, нет оснований считать доли разными\n",
      "\n",
      "Результаты теста по долям PaymentScreenSuccessful и all_users для групп\n",
      "p-значение:  0.21\n",
      "Не получилось отвергнуть нулевую гипотезу, нет оснований считать доли разными\n",
      "\n"
     ]
    }
   ],
   "source": [
    "#Сравним группу 246 и 248 по всем событиям \n",
    "#Вызовем уже готовую функцию и передадим индексы необходимых нам групп 0 и 2\n",
    "definition_of_values(0,2)"
   ]
  },
  {
   "cell_type": "code",
   "execution_count": 38,
   "metadata": {},
   "outputs": [
    {
     "name": "stdout",
     "output_type": "stream",
     "text": [
      "Результаты теста по долям all_users и MainScreenAppear для групп\n",
      "p-значение:  0.46\n",
      "Не получилось отвергнуть нулевую гипотезу, нет оснований считать доли разными\n",
      "\n",
      "Результаты теста по долям OffersScreenAppear и all_users для групп\n",
      "p-значение:  0.92\n",
      "Не получилось отвергнуть нулевую гипотезу, нет оснований считать доли разными\n",
      "\n",
      "Результаты теста по долям all_users и CartScreenAppear для групп\n",
      "p-значение:  0.58\n",
      "Не получилось отвергнуть нулевую гипотезу, нет оснований считать доли разными\n",
      "\n",
      "Результаты теста по долям PaymentScreenSuccessful и all_users для групп\n",
      "p-значение:  0.74\n",
      "Не получилось отвергнуть нулевую гипотезу, нет оснований считать доли разными\n",
      "\n"
     ]
    }
   ],
   "source": [
    "#Сравним группу 247 и 248 по всем событиям \n",
    "#Вызовем уже готовую функцию и передадим индексы необходимых нам групп 1 и 2\n",
    "definition_of_values(1,2)"
   ]
  },
  {
   "cell_type": "code",
   "execution_count": 39,
   "metadata": {},
   "outputs": [
    {
     "name": "stdout",
     "output_type": "stream",
     "text": [
      "Результаты теста по долям all_users и MainScreenAppear для групп\n",
      "p-значение:  0.29\n",
      "Не получилось отвергнуть нулевую гипотезу, нет оснований считать доли разными\n",
      "\n",
      "Результаты теста по долям OffersScreenAppear и all_users для групп\n",
      "p-значение:  0.43\n",
      "Не получилось отвергнуть нулевую гипотезу, нет оснований считать доли разными\n",
      "\n",
      "Результаты теста по долям all_users и CartScreenAppear для групп\n",
      "p-значение:  0.18\n",
      "Не получилось отвергнуть нулевую гипотезу, нет оснований считать доли разными\n",
      "\n",
      "Результаты теста по долям PaymentScreenSuccessful и all_users для групп\n",
      "p-значение:  0.6\n",
      "Не получилось отвергнуть нулевую гипотезу, нет оснований считать доли разными\n",
      "\n"
     ]
    }
   ],
   "source": [
    "#Сравним группу 246_247 и 248 по всем событиям \n",
    "#Вызовем уже готовую функцию и передадим индексы необходимых нам групп 3 и 2\n",
    "definition_of_values(3,2)"
   ]
  },
  {
   "cell_type": "markdown",
   "metadata": {},
   "source": [
    "<b>Промежуточный итог</b>"
   ]
  },
  {
   "cell_type": "markdown",
   "metadata": {},
   "source": [
    "1)Выбрал уровень значимости 0.05.\n",
    "<br>2)Всего проверок совершено 17</br>\n",
    "<br>3)Если мы имеем всего 17 проверок а при значимости в 0.1 есть вероятность возникновения ошибки равной 1 к 10. то следует применять уровень меньше 0.1 в моём случае пименялся уровень 0.05. Из этого можно сделать вывод что ошибка может возникнуть куда реже т.е. 1 к 20</br>"
   ]
  },
  {
   "cell_type": "markdown",
   "metadata": {},
   "source": [
    "<b>Общий вывод</b>"
   ]
  },
  {
   "cell_type": "markdown",
   "metadata": {},
   "source": [
    "Согласно всех проведённых тестов между контрольными группами 246 247 и 248. Статистически значемых различий не было обнаружено. Единственный показатель p-value был чуть выше у контрольной группы 246 по событию CartScreenAppear и был равен 0.08 по сравнению с контрольной группой 248. Из этого следует что изменение шрифта во всём приложениии не повлияли на рекцию пользователей. Рекомендую обратить внимание на результаты тестов и не боясь за реакцию пользователей поменять шрифт во всём приложении, если в этом есть необходимость."
   ]
  },
  {
   "cell_type": "markdown",
   "metadata": {},
   "source": [
    "Что косается воронки продаж то события складываются в следущем порядке. Самое популярное событие - показ главного экрана, а самое непопулярное, которое входит в воронку продаж, - показ экрана оплаты. <br><b>Предположительно, воронка продаж следующая:</b></br>\n",
    "\n",
    "<br>пользователь видит главныф экран сайта </br>\n",
    "\n",
    "<br>пользователь переходит на понравившийся ему товар</br>\n",
    "\n",
    "<br>пользоватеь добавляет товар в корзину и переходит в нее\n",
    "</br>\n",
    "\n",
    "<br>пользователь оплачивает заказ</br>\n",
    "\n",
    "<br><b>Кол-во пользователей/ % перехода пользователей с одного события к другому/конверсия пользователей:</b></br>\n",
    "\n",
    "<br>главный экран сайта:<br>кол-во пользователей 7419,</br> <br>% перехода к след событию 98.5,</br> <br>конверсия пользователей 100 %</br></br>\n",
    "\n",
    "<br>переход на понравившийся товар:</br> <br>кол-во пользователей 4593,</br> <br>% перехода к след событию 61.0,</br><br> конверсия пользователей 62 %</br>\n",
    "\n",
    "<br>переход в корзину:</br><br> кол-во пользователей 3734,</br> <br>% перехода к след событию 49.6,</br> <br>конверсия пользователей 81 %\n",
    "</br>\n",
    "\n",
    "<br>оплата заказа:</br> <br>кол-во пользователей 3539,</br> <br>% перехода 47.0,</br><br> конверсия пользователей 95 %</br>"
   ]
  },
  {
   "cell_type": "markdown",
   "metadata": {},
   "source": [
    "Судя по данным можно утвержать что самая большая потеря пользователей приходится на этап перехода пользователей с главного экрана на экран понравившегося товара он составляет практически 40 %. А самая минимальная потеря с экрана корзины к экрану оплаты товара которая ровна 5%. Из общей картины конверсии в исследовании выяснили что всего примерно 49 % пользователей с главного экрана переходят на экран оплаты товара. "
   ]
  }
 ],
 "metadata": {
  "ExecuteTimeLog": [
   {
    "duration": 1269,
    "start_time": "2023-02-13T12:52:55.365Z"
   },
   {
    "duration": 928,
    "start_time": "2023-02-13T12:56:22.453Z"
   },
   {
    "duration": 11,
    "start_time": "2023-02-13T12:56:25.809Z"
   },
   {
    "duration": 68,
    "start_time": "2023-02-13T12:56:52.264Z"
   },
   {
    "duration": 94,
    "start_time": "2023-02-13T12:57:07.301Z"
   },
   {
    "duration": 8,
    "start_time": "2023-02-13T12:57:13.677Z"
   },
   {
    "duration": 77,
    "start_time": "2023-02-13T12:57:19.341Z"
   },
   {
    "duration": 73,
    "start_time": "2023-02-13T12:57:40.565Z"
   },
   {
    "duration": 70,
    "start_time": "2023-02-13T12:57:43.461Z"
   },
   {
    "duration": 70,
    "start_time": "2023-02-13T12:57:50.989Z"
   },
   {
    "duration": 71,
    "start_time": "2023-02-13T12:57:54.217Z"
   },
   {
    "duration": 66,
    "start_time": "2023-02-13T12:57:56.596Z"
   },
   {
    "duration": 287,
    "start_time": "2023-02-13T12:58:01.037Z"
   },
   {
    "duration": 8,
    "start_time": "2023-02-13T12:58:02.933Z"
   },
   {
    "duration": 10,
    "start_time": "2023-02-13T12:58:04.357Z"
   },
   {
    "duration": 325,
    "start_time": "2023-02-13T12:59:14.053Z"
   },
   {
    "duration": 8,
    "start_time": "2023-02-13T12:59:14.856Z"
   },
   {
    "duration": 93,
    "start_time": "2023-02-13T13:01:49.404Z"
   },
   {
    "duration": 147,
    "start_time": "2023-02-13T13:01:53.684Z"
   },
   {
    "duration": 9,
    "start_time": "2023-02-13T13:01:55.260Z"
   },
   {
    "duration": 77,
    "start_time": "2023-02-13T13:02:04.629Z"
   },
   {
    "duration": 7,
    "start_time": "2023-02-13T13:02:07.140Z"
   },
   {
    "duration": 21,
    "start_time": "2023-02-13T13:02:24.268Z"
   },
   {
    "duration": 411,
    "start_time": "2023-02-13T13:03:58.052Z"
   },
   {
    "duration": 8,
    "start_time": "2023-02-13T13:06:32.984Z"
   },
   {
    "duration": 153,
    "start_time": "2023-02-13T13:06:34.400Z"
   },
   {
    "duration": 8,
    "start_time": "2023-02-13T13:06:35.327Z"
   },
   {
    "duration": 327,
    "start_time": "2023-02-13T13:06:42.608Z"
   },
   {
    "duration": 315,
    "start_time": "2023-02-13T13:06:44.864Z"
   },
   {
    "duration": 9,
    "start_time": "2023-02-13T13:10:43.327Z"
   },
   {
    "duration": 3,
    "start_time": "2023-02-13T13:10:49.640Z"
   },
   {
    "duration": 10,
    "start_time": "2023-02-13T13:10:53.672Z"
   },
   {
    "duration": 6,
    "start_time": "2023-02-13T13:11:04.876Z"
   },
   {
    "duration": 18,
    "start_time": "2023-02-13T13:11:58.296Z"
   },
   {
    "duration": 10,
    "start_time": "2023-02-13T13:12:07.639Z"
   },
   {
    "duration": 24,
    "start_time": "2023-02-13T13:12:50.144Z"
   },
   {
    "duration": 23,
    "start_time": "2023-02-13T13:12:52.296Z"
   },
   {
    "duration": 16,
    "start_time": "2023-02-13T13:13:32.288Z"
   },
   {
    "duration": 280,
    "start_time": "2023-02-13T13:13:46.455Z"
   },
   {
    "duration": 67,
    "start_time": "2023-02-13T13:13:57.792Z"
   },
   {
    "duration": 89,
    "start_time": "2023-02-13T13:15:56.532Z"
   },
   {
    "duration": 35,
    "start_time": "2023-02-13T13:16:21.588Z"
   },
   {
    "duration": 142,
    "start_time": "2023-02-13T13:16:58.547Z"
   },
   {
    "duration": 34,
    "start_time": "2023-02-13T13:17:16.644Z"
   },
   {
    "duration": 30,
    "start_time": "2023-02-13T13:18:58.579Z"
   },
   {
    "duration": 102,
    "start_time": "2023-02-13T13:19:18.387Z"
   },
   {
    "duration": 8,
    "start_time": "2023-02-13T13:20:22.548Z"
   },
   {
    "duration": 64,
    "start_time": "2023-02-13T13:20:38.251Z"
   },
   {
    "duration": 13,
    "start_time": "2023-02-13T13:20:45.051Z"
   },
   {
    "duration": 13,
    "start_time": "2023-02-13T13:21:50.480Z"
   },
   {
    "duration": 12,
    "start_time": "2023-02-13T13:22:09.083Z"
   },
   {
    "duration": 20,
    "start_time": "2023-02-13T13:22:57.436Z"
   },
   {
    "duration": 29,
    "start_time": "2023-02-13T13:24:00.411Z"
   },
   {
    "duration": 35,
    "start_time": "2023-02-13T13:24:07.117Z"
   },
   {
    "duration": 37,
    "start_time": "2023-02-13T13:24:30.506Z"
   },
   {
    "duration": 60,
    "start_time": "2023-02-13T13:26:06.030Z"
   },
   {
    "duration": 53,
    "start_time": "2023-02-13T13:26:19.286Z"
   },
   {
    "duration": 57,
    "start_time": "2023-02-13T13:26:55.830Z"
   },
   {
    "duration": 54,
    "start_time": "2023-02-13T13:27:10.638Z"
   },
   {
    "duration": 59,
    "start_time": "2023-02-13T13:27:35.207Z"
   },
   {
    "duration": 54,
    "start_time": "2023-02-13T13:27:58.966Z"
   },
   {
    "duration": 54,
    "start_time": "2023-02-13T13:28:36.223Z"
   },
   {
    "duration": 53,
    "start_time": "2023-02-13T13:28:50.094Z"
   },
   {
    "duration": 57,
    "start_time": "2023-02-13T13:29:39.368Z"
   },
   {
    "duration": 27,
    "start_time": "2023-02-13T13:30:43.634Z"
   },
   {
    "duration": 34,
    "start_time": "2023-02-13T13:31:23.294Z"
   },
   {
    "duration": 30,
    "start_time": "2023-02-13T13:31:32.702Z"
   },
   {
    "duration": 27,
    "start_time": "2023-02-13T13:31:57.526Z"
   },
   {
    "duration": 27,
    "start_time": "2023-02-13T13:32:08.630Z"
   },
   {
    "duration": 259,
    "start_time": "2023-02-13T13:32:52.134Z"
   },
   {
    "duration": 165,
    "start_time": "2023-02-13T13:33:41.454Z"
   },
   {
    "duration": 158,
    "start_time": "2023-02-13T13:34:24.502Z"
   },
   {
    "duration": 171,
    "start_time": "2023-02-13T13:34:27.686Z"
   },
   {
    "duration": 161,
    "start_time": "2023-02-13T13:41:25.922Z"
   },
   {
    "duration": 158,
    "start_time": "2023-02-13T13:41:32.553Z"
   },
   {
    "duration": 162,
    "start_time": "2023-02-13T13:41:36.865Z"
   },
   {
    "duration": 186,
    "start_time": "2023-02-13T13:41:43.401Z"
   },
   {
    "duration": 10,
    "start_time": "2023-02-13T13:43:57.569Z"
   },
   {
    "duration": 21,
    "start_time": "2023-02-13T13:44:05.650Z"
   },
   {
    "duration": 85,
    "start_time": "2023-02-13T13:45:05.569Z"
   },
   {
    "duration": 93,
    "start_time": "2023-02-13T13:46:19.465Z"
   },
   {
    "duration": 76,
    "start_time": "2023-02-13T13:46:30.133Z"
   },
   {
    "duration": 21,
    "start_time": "2023-02-13T13:46:40.594Z"
   },
   {
    "duration": 26,
    "start_time": "2023-02-13T13:46:53.985Z"
   },
   {
    "duration": 22,
    "start_time": "2023-02-13T13:47:19.393Z"
   },
   {
    "duration": 20,
    "start_time": "2023-02-13T13:47:26.441Z"
   },
   {
    "duration": 21,
    "start_time": "2023-02-13T13:47:30.977Z"
   },
   {
    "duration": 21,
    "start_time": "2023-02-13T13:47:59.121Z"
   },
   {
    "duration": 49,
    "start_time": "2023-02-13T13:48:04.241Z"
   },
   {
    "duration": 30,
    "start_time": "2023-02-13T13:48:11.997Z"
   },
   {
    "duration": 22,
    "start_time": "2023-02-13T13:48:15.317Z"
   },
   {
    "duration": 23,
    "start_time": "2023-02-13T13:49:39.557Z"
   },
   {
    "duration": 84,
    "start_time": "2023-02-13T13:52:13.268Z"
   },
   {
    "duration": 75,
    "start_time": "2023-02-13T13:52:23.381Z"
   },
   {
    "duration": 60,
    "start_time": "2023-02-13T13:53:10.396Z"
   },
   {
    "duration": 67,
    "start_time": "2023-02-13T13:53:30.292Z"
   },
   {
    "duration": 506,
    "start_time": "2023-02-13T13:54:49.012Z"
   },
   {
    "duration": 404,
    "start_time": "2023-02-13T13:55:23.597Z"
   },
   {
    "duration": 52,
    "start_time": "2023-02-13T14:10:43.576Z"
   },
   {
    "duration": 21,
    "start_time": "2023-02-13T14:12:03.627Z"
   },
   {
    "duration": 32,
    "start_time": "2023-02-13T14:12:08.323Z"
   },
   {
    "duration": 51,
    "start_time": "2023-02-13T14:12:12.060Z"
   },
   {
    "duration": 41,
    "start_time": "2023-02-13T14:12:23.148Z"
   },
   {
    "duration": 208,
    "start_time": "2023-02-13T14:12:46.823Z"
   },
   {
    "duration": 205,
    "start_time": "2023-02-13T14:13:08.035Z"
   },
   {
    "duration": 293,
    "start_time": "2023-02-13T14:13:11.283Z"
   },
   {
    "duration": 238,
    "start_time": "2023-02-13T14:13:15.571Z"
   },
   {
    "duration": 227,
    "start_time": "2023-02-13T14:13:23.811Z"
   },
   {
    "duration": 224,
    "start_time": "2023-02-13T14:14:10.195Z"
   },
   {
    "duration": 211,
    "start_time": "2023-02-13T14:14:22.883Z"
   },
   {
    "duration": 308,
    "start_time": "2023-02-13T14:14:37.859Z"
   },
   {
    "duration": 198,
    "start_time": "2023-02-13T14:15:09.556Z"
   },
   {
    "duration": 220,
    "start_time": "2023-02-13T14:15:16.380Z"
   },
   {
    "duration": 233,
    "start_time": "2023-02-13T14:15:30.971Z"
   },
   {
    "duration": 8,
    "start_time": "2023-02-13T14:17:52.899Z"
   },
   {
    "duration": 4,
    "start_time": "2023-02-13T14:17:58.410Z"
   },
   {
    "duration": 5,
    "start_time": "2023-02-13T14:18:54.410Z"
   },
   {
    "duration": 3,
    "start_time": "2023-02-13T14:19:10.259Z"
   },
   {
    "duration": 4,
    "start_time": "2023-02-13T14:19:48.234Z"
   },
   {
    "duration": 4,
    "start_time": "2023-02-13T14:20:28.650Z"
   },
   {
    "duration": 4,
    "start_time": "2023-02-13T14:22:37.495Z"
   },
   {
    "duration": 4,
    "start_time": "2023-02-13T14:22:39.358Z"
   },
   {
    "duration": 15,
    "start_time": "2023-02-13T14:22:52.430Z"
   },
   {
    "duration": 4,
    "start_time": "2023-02-13T14:23:13.070Z"
   },
   {
    "duration": 4,
    "start_time": "2023-02-13T14:23:46.567Z"
   },
   {
    "duration": 4,
    "start_time": "2023-02-13T14:23:51.134Z"
   },
   {
    "duration": 4,
    "start_time": "2023-02-13T14:23:54.614Z"
   },
   {
    "duration": 4,
    "start_time": "2023-02-13T14:23:59.382Z"
   },
   {
    "duration": 4,
    "start_time": "2023-02-13T14:24:20.182Z"
   },
   {
    "duration": 9,
    "start_time": "2023-02-13T14:24:25.143Z"
   },
   {
    "duration": 5,
    "start_time": "2023-02-13T14:24:33.618Z"
   },
   {
    "duration": 8,
    "start_time": "2023-02-13T14:24:34.524Z"
   },
   {
    "duration": 9,
    "start_time": "2023-02-13T14:24:35.620Z"
   },
   {
    "duration": 4,
    "start_time": "2023-02-13T14:24:37.062Z"
   },
   {
    "duration": 235,
    "start_time": "2023-02-13T14:24:44.463Z"
   },
   {
    "duration": 5,
    "start_time": "2023-02-13T14:24:46.368Z"
   },
   {
    "duration": 4,
    "start_time": "2023-02-13T14:24:47.654Z"
   },
   {
    "duration": 3,
    "start_time": "2023-02-13T14:33:49.306Z"
   },
   {
    "duration": 4,
    "start_time": "2023-02-13T14:33:53.262Z"
   },
   {
    "duration": 35,
    "start_time": "2023-02-13T14:34:38.354Z"
   },
   {
    "duration": 64,
    "start_time": "2023-02-13T14:35:01.986Z"
   },
   {
    "duration": 64,
    "start_time": "2023-02-13T14:35:59.595Z"
   },
   {
    "duration": 62,
    "start_time": "2023-02-13T14:37:46.896Z"
   },
   {
    "duration": 59,
    "start_time": "2023-02-13T14:38:08.594Z"
   },
   {
    "duration": 56,
    "start_time": "2023-02-13T14:38:31.522Z"
   },
   {
    "duration": 68,
    "start_time": "2023-02-13T14:38:37.090Z"
   },
   {
    "duration": 60,
    "start_time": "2023-02-13T14:39:18.018Z"
   },
   {
    "duration": 362,
    "start_time": "2023-02-13T14:41:08.722Z"
   },
   {
    "duration": 1181,
    "start_time": "2023-02-13T14:41:52.814Z"
   },
   {
    "duration": 1063,
    "start_time": "2023-02-13T14:42:02.097Z"
   },
   {
    "duration": 206,
    "start_time": "2023-02-13T14:42:03.162Z"
   },
   {
    "duration": 33,
    "start_time": "2023-02-13T14:42:03.370Z"
   },
   {
    "duration": 4,
    "start_time": "2023-02-13T14:42:03.404Z"
   },
   {
    "duration": 9,
    "start_time": "2023-02-13T14:42:03.410Z"
   },
   {
    "duration": 348,
    "start_time": "2023-02-13T14:42:03.421Z"
   },
   {
    "duration": 104,
    "start_time": "2023-02-13T14:42:03.771Z"
   },
   {
    "duration": 43,
    "start_time": "2023-02-13T14:42:03.877Z"
   },
   {
    "duration": 193,
    "start_time": "2023-02-13T14:42:03.921Z"
   },
   {
    "duration": 103,
    "start_time": "2023-02-13T14:42:04.117Z"
   },
   {
    "duration": 41,
    "start_time": "2023-02-13T14:42:04.223Z"
   },
   {
    "duration": 67,
    "start_time": "2023-02-13T14:42:04.267Z"
   },
   {
    "duration": 32,
    "start_time": "2023-02-13T14:42:04.336Z"
   },
   {
    "duration": 112,
    "start_time": "2023-02-13T14:42:04.371Z"
   },
   {
    "duration": 41,
    "start_time": "2023-02-13T14:42:04.485Z"
   },
   {
    "duration": 553,
    "start_time": "2023-02-13T14:42:04.528Z"
   },
   {
    "duration": 274,
    "start_time": "2023-02-13T14:42:05.085Z"
   },
   {
    "duration": 5,
    "start_time": "2023-02-13T14:42:05.361Z"
   },
   {
    "duration": 16,
    "start_time": "2023-02-13T14:42:05.367Z"
   },
   {
    "duration": 79,
    "start_time": "2023-02-13T14:42:05.384Z"
   },
   {
    "duration": 27,
    "start_time": "2023-02-13T14:42:05.465Z"
   },
   {
    "duration": 22,
    "start_time": "2023-02-13T14:43:15.531Z"
   },
   {
    "duration": 77,
    "start_time": "2023-02-13T14:43:34.075Z"
   },
   {
    "duration": 59,
    "start_time": "2023-02-13T14:43:52.855Z"
   },
   {
    "duration": 64,
    "start_time": "2023-02-13T14:43:59.770Z"
   },
   {
    "duration": 57,
    "start_time": "2023-02-13T14:44:06.722Z"
   },
   {
    "duration": 70,
    "start_time": "2023-02-13T14:44:19.379Z"
   },
   {
    "duration": 58,
    "start_time": "2023-02-13T14:44:36.835Z"
   },
   {
    "duration": 5,
    "start_time": "2023-02-13T14:45:05.839Z"
   },
   {
    "duration": 65,
    "start_time": "2023-02-13T14:51:02.926Z"
   },
   {
    "duration": 24,
    "start_time": "2023-02-13T14:53:23.679Z"
   },
   {
    "duration": 34,
    "start_time": "2023-02-13T14:53:36.270Z"
   },
   {
    "duration": 23,
    "start_time": "2023-02-13T14:54:10.182Z"
   },
   {
    "duration": 10831,
    "start_time": "2023-02-13T14:56:58.331Z"
   },
   {
    "duration": 18,
    "start_time": "2023-02-13T14:57:09.164Z"
   },
   {
    "duration": 52,
    "start_time": "2023-02-13T14:57:19.570Z"
   },
   {
    "duration": 4,
    "start_time": "2023-02-13T14:57:41.014Z"
   },
   {
    "duration": 53,
    "start_time": "2023-02-13T14:57:44.138Z"
   },
   {
    "duration": 138,
    "start_time": "2023-02-13T14:58:29.386Z"
   },
   {
    "duration": 68,
    "start_time": "2023-02-13T14:58:34.699Z"
   },
   {
    "duration": 45,
    "start_time": "2023-02-13T14:58:49.250Z"
   },
   {
    "duration": 45,
    "start_time": "2023-02-13T14:58:51.666Z"
   },
   {
    "duration": 91,
    "start_time": "2023-02-13T15:00:17.170Z"
   },
   {
    "duration": 4,
    "start_time": "2023-02-13T15:02:20.452Z"
   },
   {
    "duration": 9,
    "start_time": "2023-02-13T15:02:26.705Z"
   },
   {
    "duration": 9,
    "start_time": "2023-02-13T15:04:11.385Z"
   },
   {
    "duration": 9,
    "start_time": "2023-02-13T15:04:18.762Z"
   },
   {
    "duration": 29,
    "start_time": "2023-02-13T15:04:44.937Z"
   },
   {
    "duration": 34,
    "start_time": "2023-02-13T15:04:57.241Z"
   },
   {
    "duration": 97,
    "start_time": "2023-02-13T15:05:00.851Z"
   },
   {
    "duration": 14,
    "start_time": "2023-02-13T15:11:20.476Z"
   },
   {
    "duration": 54,
    "start_time": "2023-02-13T15:11:55.316Z"
   },
   {
    "duration": 1330,
    "start_time": "2023-02-13T15:12:00.735Z"
   },
   {
    "duration": 1338,
    "start_time": "2023-02-13T15:12:18.764Z"
   },
   {
    "duration": 25,
    "start_time": "2023-02-13T15:13:10.256Z"
   },
   {
    "duration": 1235,
    "start_time": "2023-02-13T15:13:12.796Z"
   },
   {
    "duration": 154,
    "start_time": "2023-02-13T15:13:20.555Z"
   },
   {
    "duration": 159,
    "start_time": "2023-02-13T15:13:40.205Z"
   },
   {
    "duration": 188,
    "start_time": "2023-02-13T15:14:39.387Z"
   },
   {
    "duration": 261,
    "start_time": "2023-02-13T15:15:05.416Z"
   },
   {
    "duration": 5,
    "start_time": "2023-02-13T15:19:12.999Z"
   },
   {
    "duration": 94,
    "start_time": "2023-02-13T15:20:15.667Z"
   },
   {
    "duration": 176,
    "start_time": "2023-02-13T15:21:19.679Z"
   },
   {
    "duration": 155,
    "start_time": "2023-02-13T15:21:56.360Z"
   },
   {
    "duration": 164,
    "start_time": "2023-02-13T15:22:00.574Z"
   },
   {
    "duration": 176,
    "start_time": "2023-02-13T15:26:57.284Z"
   },
   {
    "duration": 162,
    "start_time": "2023-02-13T15:27:13.354Z"
   },
   {
    "duration": 176,
    "start_time": "2023-02-13T15:27:15.908Z"
   },
   {
    "duration": 190,
    "start_time": "2023-02-13T15:27:22.658Z"
   },
   {
    "duration": 211,
    "start_time": "2023-02-13T15:27:51.442Z"
   },
   {
    "duration": 180,
    "start_time": "2023-02-13T15:28:16.815Z"
   },
   {
    "duration": 89,
    "start_time": "2023-02-13T15:29:43.195Z"
   },
   {
    "duration": 111,
    "start_time": "2023-02-13T15:29:47.506Z"
   },
   {
    "duration": 89,
    "start_time": "2023-02-13T15:29:52.082Z"
   },
   {
    "duration": 49,
    "start_time": "2023-02-13T15:29:55.329Z"
   },
   {
    "duration": 260,
    "start_time": "2023-02-13T15:40:59.685Z"
   },
   {
    "duration": 44,
    "start_time": "2023-02-13T16:00:20.728Z"
   },
   {
    "duration": 10,
    "start_time": "2023-02-13T16:03:53.285Z"
   },
   {
    "duration": 199,
    "start_time": "2023-02-13T16:04:08.579Z"
   },
   {
    "duration": 208,
    "start_time": "2023-02-13T16:04:30.532Z"
   },
   {
    "duration": 208,
    "start_time": "2023-02-13T16:04:43.606Z"
   },
   {
    "duration": 208,
    "start_time": "2023-02-13T16:04:52.200Z"
   },
   {
    "duration": 194,
    "start_time": "2023-02-13T16:05:01.532Z"
   },
   {
    "duration": 232,
    "start_time": "2023-02-13T16:05:13.965Z"
   },
   {
    "duration": 68,
    "start_time": "2023-02-13T16:05:27.419Z"
   },
   {
    "duration": 234,
    "start_time": "2023-02-13T16:05:30.795Z"
   },
   {
    "duration": 194,
    "start_time": "2023-02-13T16:05:35.595Z"
   },
   {
    "duration": 199,
    "start_time": "2023-02-13T16:05:41.132Z"
   },
   {
    "duration": 119,
    "start_time": "2023-02-13T16:11:07.239Z"
   },
   {
    "duration": 183,
    "start_time": "2023-02-13T16:11:41.423Z"
   },
   {
    "duration": 107,
    "start_time": "2023-02-13T16:13:46.347Z"
   },
   {
    "duration": 101,
    "start_time": "2023-02-13T16:13:53.748Z"
   },
   {
    "duration": 9,
    "start_time": "2023-02-13T16:14:00.476Z"
   },
   {
    "duration": 9,
    "start_time": "2023-02-13T16:14:02.343Z"
   },
   {
    "duration": 8,
    "start_time": "2023-02-13T16:14:13.131Z"
   },
   {
    "duration": 110,
    "start_time": "2023-02-13T16:14:38.527Z"
   },
   {
    "duration": 126,
    "start_time": "2023-02-13T16:15:08.247Z"
   },
   {
    "duration": 100,
    "start_time": "2023-02-13T16:15:18.839Z"
   },
   {
    "duration": 106,
    "start_time": "2023-02-13T16:15:26.143Z"
   },
   {
    "duration": 96,
    "start_time": "2023-02-13T16:15:36.223Z"
   },
   {
    "duration": 96,
    "start_time": "2023-02-13T16:15:40.151Z"
   },
   {
    "duration": 184,
    "start_time": "2023-02-13T16:15:52.383Z"
   },
   {
    "duration": 217,
    "start_time": "2023-02-13T16:15:56.894Z"
   },
   {
    "duration": 184,
    "start_time": "2023-02-13T16:16:08.711Z"
   },
   {
    "duration": 184,
    "start_time": "2023-02-13T16:16:24.393Z"
   },
   {
    "duration": 162,
    "start_time": "2023-02-13T16:16:31.864Z"
   },
   {
    "duration": 175,
    "start_time": "2023-02-13T16:16:49.471Z"
   },
   {
    "duration": 269,
    "start_time": "2023-02-13T16:17:06.535Z"
   },
   {
    "duration": 152,
    "start_time": "2023-02-13T16:17:26.815Z"
   },
   {
    "duration": 183,
    "start_time": "2023-02-13T16:17:54.567Z"
   },
   {
    "duration": 275,
    "start_time": "2023-02-13T16:18:03.975Z"
   },
   {
    "duration": 201,
    "start_time": "2023-02-13T16:18:14.887Z"
   },
   {
    "duration": 182,
    "start_time": "2023-02-13T16:18:17.975Z"
   },
   {
    "duration": 157,
    "start_time": "2023-02-13T16:18:21.747Z"
   },
   {
    "duration": 194,
    "start_time": "2023-02-13T16:18:33.944Z"
   },
   {
    "duration": 143,
    "start_time": "2023-02-13T16:18:39.409Z"
   },
   {
    "duration": 183,
    "start_time": "2023-02-13T16:18:44.120Z"
   },
   {
    "duration": 139,
    "start_time": "2023-02-13T16:18:48.656Z"
   },
   {
    "duration": 142,
    "start_time": "2023-02-13T16:18:55.479Z"
   },
   {
    "duration": 1405,
    "start_time": "2023-02-15T09:27:14.865Z"
   },
   {
    "duration": 546,
    "start_time": "2023-02-15T09:27:16.272Z"
   },
   {
    "duration": 33,
    "start_time": "2023-02-15T09:27:16.822Z"
   },
   {
    "duration": 3,
    "start_time": "2023-02-15T09:27:16.859Z"
   },
   {
    "duration": 10,
    "start_time": "2023-02-15T09:27:16.865Z"
   },
   {
    "duration": 369,
    "start_time": "2023-02-15T09:27:16.877Z"
   },
   {
    "duration": 112,
    "start_time": "2023-02-15T09:27:17.247Z"
   },
   {
    "duration": 33,
    "start_time": "2023-02-15T09:27:17.361Z"
   },
   {
    "duration": 154,
    "start_time": "2023-02-15T09:27:17.396Z"
   },
   {
    "duration": 71,
    "start_time": "2023-02-15T09:27:17.552Z"
   },
   {
    "duration": 27,
    "start_time": "2023-02-15T09:27:17.625Z"
   },
   {
    "duration": 44,
    "start_time": "2023-02-15T09:27:17.654Z"
   },
   {
    "duration": 37,
    "start_time": "2023-02-15T09:27:17.701Z"
   },
   {
    "duration": 123,
    "start_time": "2023-02-15T09:27:17.740Z"
   },
   {
    "duration": 30,
    "start_time": "2023-02-15T09:27:17.865Z"
   },
   {
    "duration": 564,
    "start_time": "2023-02-15T09:27:17.897Z"
   },
   {
    "duration": 286,
    "start_time": "2023-02-15T09:27:18.462Z"
   },
   {
    "duration": 4,
    "start_time": "2023-02-15T09:27:18.750Z"
   },
   {
    "duration": 19,
    "start_time": "2023-02-15T09:27:18.756Z"
   },
   {
    "duration": 72,
    "start_time": "2023-02-15T09:27:18.777Z"
   },
   {
    "duration": 31,
    "start_time": "2023-02-15T09:27:18.851Z"
   },
   {
    "duration": 41,
    "start_time": "2023-02-15T09:27:18.884Z"
   },
   {
    "duration": 116,
    "start_time": "2023-02-15T09:27:18.926Z"
   },
   {
    "duration": 34,
    "start_time": "2023-02-15T09:27:19.044Z"
   },
   {
    "duration": 188,
    "start_time": "2023-02-15T09:27:19.080Z"
   },
   {
    "duration": 2,
    "start_time": "2023-02-15T09:27:19.270Z"
   },
   {
    "duration": 181,
    "start_time": "2023-02-15T09:27:19.274Z"
   },
   {
    "duration": 3,
    "start_time": "2023-02-15T09:27:19.457Z"
   },
   {
    "duration": 986,
    "start_time": "2023-02-15T09:53:01.481Z"
   },
   {
    "duration": 909,
    "start_time": "2023-02-15T09:53:10.559Z"
   },
   {
    "duration": 11,
    "start_time": "2023-02-15T10:01:01.179Z"
   },
   {
    "duration": 24,
    "start_time": "2023-02-15T10:01:35.404Z"
   },
   {
    "duration": 18,
    "start_time": "2023-02-15T10:05:23.319Z"
   },
   {
    "duration": 16,
    "start_time": "2023-02-15T10:05:40.830Z"
   },
   {
    "duration": 17,
    "start_time": "2023-02-15T10:06:08.290Z"
   },
   {
    "duration": 16,
    "start_time": "2023-02-15T10:06:24.304Z"
   },
   {
    "duration": 22,
    "start_time": "2023-02-15T10:06:35.839Z"
   },
   {
    "duration": 22,
    "start_time": "2023-02-15T10:06:50.655Z"
   },
   {
    "duration": 19,
    "start_time": "2023-02-15T10:06:59.095Z"
   },
   {
    "duration": 16,
    "start_time": "2023-02-15T10:08:05.015Z"
   },
   {
    "duration": 17,
    "start_time": "2023-02-15T10:10:05.991Z"
   },
   {
    "duration": 8,
    "start_time": "2023-02-15T10:10:25.292Z"
   },
   {
    "duration": 13,
    "start_time": "2023-02-15T10:10:28.065Z"
   },
   {
    "duration": 14,
    "start_time": "2023-02-15T10:10:55.830Z"
   },
   {
    "duration": 12,
    "start_time": "2023-02-15T10:11:00.598Z"
   },
   {
    "duration": 72,
    "start_time": "2023-02-15T10:11:12.391Z"
   },
   {
    "duration": 51,
    "start_time": "2023-02-15T10:11:19.286Z"
   },
   {
    "duration": 13,
    "start_time": "2023-02-15T10:11:44.023Z"
   },
   {
    "duration": 14,
    "start_time": "2023-02-15T10:11:44.182Z"
   },
   {
    "duration": 14,
    "start_time": "2023-02-15T10:13:35.667Z"
   },
   {
    "duration": 16,
    "start_time": "2023-02-15T10:14:08.346Z"
   },
   {
    "duration": 15,
    "start_time": "2023-02-15T10:14:19.030Z"
   },
   {
    "duration": 25,
    "start_time": "2023-02-15T10:14:27.690Z"
   },
   {
    "duration": 16,
    "start_time": "2023-02-15T10:14:53.466Z"
   },
   {
    "duration": 23,
    "start_time": "2023-02-15T10:15:00.779Z"
   },
   {
    "duration": 19,
    "start_time": "2023-02-15T10:15:45.330Z"
   },
   {
    "duration": 23,
    "start_time": "2023-02-15T10:15:48.613Z"
   },
   {
    "duration": 18,
    "start_time": "2023-02-15T10:15:56.019Z"
   },
   {
    "duration": 4,
    "start_time": "2023-02-15T10:16:15.251Z"
   },
   {
    "duration": 20,
    "start_time": "2023-02-15T10:16:23.594Z"
   },
   {
    "duration": 28,
    "start_time": "2023-02-15T10:16:26.075Z"
   },
   {
    "duration": 54,
    "start_time": "2023-02-15T10:17:01.130Z"
   },
   {
    "duration": 1263,
    "start_time": "2023-02-15T10:17:07.817Z"
   },
   {
    "duration": 185,
    "start_time": "2023-02-15T10:17:09.083Z"
   },
   {
    "duration": 32,
    "start_time": "2023-02-15T10:17:09.273Z"
   },
   {
    "duration": 18,
    "start_time": "2023-02-15T10:17:09.307Z"
   },
   {
    "duration": 36,
    "start_time": "2023-02-15T10:17:09.327Z"
   },
   {
    "duration": 370,
    "start_time": "2023-02-15T10:17:09.364Z"
   },
   {
    "duration": 113,
    "start_time": "2023-02-15T10:17:09.736Z"
   },
   {
    "duration": 35,
    "start_time": "2023-02-15T10:17:09.850Z"
   },
   {
    "duration": 162,
    "start_time": "2023-02-15T10:17:09.888Z"
   },
   {
    "duration": 79,
    "start_time": "2023-02-15T10:17:10.055Z"
   },
   {
    "duration": 40,
    "start_time": "2023-02-15T10:17:10.136Z"
   },
   {
    "duration": 64,
    "start_time": "2023-02-15T10:17:10.178Z"
   },
   {
    "duration": 51,
    "start_time": "2023-02-15T10:17:10.244Z"
   },
   {
    "duration": 138,
    "start_time": "2023-02-15T10:17:10.297Z"
   },
   {
    "duration": 42,
    "start_time": "2023-02-15T10:17:10.438Z"
   },
   {
    "duration": 557,
    "start_time": "2023-02-15T10:17:10.482Z"
   },
   {
    "duration": 279,
    "start_time": "2023-02-15T10:17:11.041Z"
   },
   {
    "duration": 6,
    "start_time": "2023-02-15T10:17:11.322Z"
   },
   {
    "duration": 17,
    "start_time": "2023-02-15T10:17:11.329Z"
   },
   {
    "duration": 91,
    "start_time": "2023-02-15T10:17:11.348Z"
   },
   {
    "duration": 31,
    "start_time": "2023-02-15T10:17:11.441Z"
   },
   {
    "duration": 51,
    "start_time": "2023-02-15T10:17:11.473Z"
   },
   {
    "duration": 131,
    "start_time": "2023-02-15T10:17:11.526Z"
   },
   {
    "duration": 61,
    "start_time": "2023-02-15T10:17:11.660Z"
   },
   {
    "duration": 178,
    "start_time": "2023-02-15T10:17:11.724Z"
   },
   {
    "duration": 2,
    "start_time": "2023-02-15T10:17:11.905Z"
   },
   {
    "duration": 190,
    "start_time": "2023-02-15T10:17:11.921Z"
   },
   {
    "duration": 16,
    "start_time": "2023-02-15T10:17:12.113Z"
   },
   {
    "duration": 4,
    "start_time": "2023-02-15T10:21:16.514Z"
   },
   {
    "duration": 15,
    "start_time": "2023-02-15T10:21:22.962Z"
   },
   {
    "duration": 5,
    "start_time": "2023-02-15T10:23:42.494Z"
   },
   {
    "duration": 55,
    "start_time": "2023-02-15T10:25:39.801Z"
   },
   {
    "duration": 4,
    "start_time": "2023-02-15T10:25:42.793Z"
   },
   {
    "duration": 5,
    "start_time": "2023-02-15T10:25:52.329Z"
   },
   {
    "duration": 5,
    "start_time": "2023-02-15T10:26:14.106Z"
   },
   {
    "duration": 11741,
    "start_time": "2023-02-15T10:34:42.450Z"
   },
   {
    "duration": 98,
    "start_time": "2023-02-15T10:36:12.313Z"
   },
   {
    "duration": 65,
    "start_time": "2023-02-15T10:36:15.172Z"
   },
   {
    "duration": 11265,
    "start_time": "2023-02-15T10:37:58.812Z"
   },
   {
    "duration": 97,
    "start_time": "2023-02-15T10:38:15.885Z"
   },
   {
    "duration": 103,
    "start_time": "2023-02-15T10:40:09.325Z"
   },
   {
    "duration": 145,
    "start_time": "2023-02-15T10:54:24.944Z"
   },
   {
    "duration": 126,
    "start_time": "2023-02-15T10:54:29.967Z"
   },
   {
    "duration": 161,
    "start_time": "2023-02-15T10:54:35.056Z"
   },
   {
    "duration": 146,
    "start_time": "2023-02-15T10:55:15.060Z"
   },
   {
    "duration": 5,
    "start_time": "2023-02-15T10:59:11.611Z"
   },
   {
    "duration": 8,
    "start_time": "2023-02-15T11:13:03.558Z"
   },
   {
    "duration": 80,
    "start_time": "2023-02-15T11:13:31.606Z"
   },
   {
    "duration": 14,
    "start_time": "2023-02-15T11:13:38.077Z"
   },
   {
    "duration": 7,
    "start_time": "2023-02-15T11:15:06.725Z"
   },
   {
    "duration": 6,
    "start_time": "2023-02-15T11:15:12.158Z"
   },
   {
    "duration": 22,
    "start_time": "2023-02-15T11:15:33.039Z"
   },
   {
    "duration": 16,
    "start_time": "2023-02-15T11:15:46.390Z"
   },
   {
    "duration": 9,
    "start_time": "2023-02-15T11:22:43.854Z"
   },
   {
    "duration": 11,
    "start_time": "2023-02-15T11:22:47.458Z"
   },
   {
    "duration": 13,
    "start_time": "2023-02-15T11:25:09.749Z"
   },
   {
    "duration": 19,
    "start_time": "2023-02-15T11:25:38.880Z"
   },
   {
    "duration": 14,
    "start_time": "2023-02-15T11:25:50.177Z"
   },
   {
    "duration": 13,
    "start_time": "2023-02-15T11:25:53.306Z"
   },
   {
    "duration": 20,
    "start_time": "2023-02-15T11:25:55.342Z"
   },
   {
    "duration": 5,
    "start_time": "2023-02-15T11:42:08.108Z"
   },
   {
    "duration": 8,
    "start_time": "2023-02-15T11:42:09.663Z"
   },
   {
    "duration": 7,
    "start_time": "2023-02-15T11:42:10.576Z"
   },
   {
    "duration": 13,
    "start_time": "2023-02-15T11:52:30.999Z"
   },
   {
    "duration": 12,
    "start_time": "2023-02-15T11:52:36.407Z"
   },
   {
    "duration": 21,
    "start_time": "2023-02-15T11:53:16.310Z"
   },
   {
    "duration": 19,
    "start_time": "2023-02-15T11:53:34.108Z"
   },
   {
    "duration": 6,
    "start_time": "2023-02-15T11:53:52.537Z"
   },
   {
    "duration": 10,
    "start_time": "2023-02-15T11:56:32.461Z"
   },
   {
    "duration": 1250,
    "start_time": "2023-02-15T11:56:51.954Z"
   },
   {
    "duration": 178,
    "start_time": "2023-02-15T11:58:56.786Z"
   },
   {
    "duration": 134,
    "start_time": "2023-02-15T11:59:03.705Z"
   },
   {
    "duration": 7,
    "start_time": "2023-02-15T11:59:20.973Z"
   },
   {
    "duration": 43,
    "start_time": "2023-02-15T11:59:24.307Z"
   },
   {
    "duration": 8,
    "start_time": "2023-02-15T11:59:47.066Z"
   },
   {
    "duration": 9,
    "start_time": "2023-02-15T11:59:47.974Z"
   },
   {
    "duration": 22,
    "start_time": "2023-02-15T11:59:48.578Z"
   },
   {
    "duration": 29,
    "start_time": "2023-02-15T11:59:57.657Z"
   },
   {
    "duration": 5,
    "start_time": "2023-02-15T12:00:39.882Z"
   },
   {
    "duration": 7,
    "start_time": "2023-02-15T12:00:47.675Z"
   },
   {
    "duration": 10,
    "start_time": "2023-02-15T12:00:48.358Z"
   },
   {
    "duration": 29,
    "start_time": "2023-02-15T12:00:49.602Z"
   },
   {
    "duration": 78,
    "start_time": "2023-02-15T12:01:27.195Z"
   },
   {
    "duration": 116,
    "start_time": "2023-02-15T12:01:38.372Z"
   },
   {
    "duration": 5,
    "start_time": "2023-02-15T12:02:00.971Z"
   },
   {
    "duration": 8,
    "start_time": "2023-02-15T12:02:06.770Z"
   },
   {
    "duration": 9,
    "start_time": "2023-02-15T12:02:07.454Z"
   },
   {
    "duration": 15,
    "start_time": "2023-02-15T12:02:08.562Z"
   },
   {
    "duration": 9,
    "start_time": "2023-02-15T12:16:34.460Z"
   },
   {
    "duration": 8,
    "start_time": "2023-02-15T12:27:28.668Z"
   },
   {
    "duration": 96,
    "start_time": "2023-02-15T12:57:05.774Z"
   },
   {
    "duration": 13,
    "start_time": "2023-02-15T12:58:36.686Z"
   },
   {
    "duration": 17,
    "start_time": "2023-02-15T12:59:53.294Z"
   },
   {
    "duration": 18,
    "start_time": "2023-02-15T13:00:08.437Z"
   },
   {
    "duration": 14,
    "start_time": "2023-02-15T13:03:33.547Z"
   },
   {
    "duration": 6,
    "start_time": "2023-02-15T13:03:37.797Z"
   },
   {
    "duration": 6,
    "start_time": "2023-02-15T13:03:38.848Z"
   },
   {
    "duration": 9,
    "start_time": "2023-02-15T13:03:41.494Z"
   },
   {
    "duration": 3,
    "start_time": "2023-02-15T13:04:03.653Z"
   },
   {
    "duration": 5,
    "start_time": "2023-02-15T13:04:09.650Z"
   },
   {
    "duration": 8,
    "start_time": "2023-02-15T13:06:24.009Z"
   },
   {
    "duration": 9,
    "start_time": "2023-02-15T13:08:27.747Z"
   },
   {
    "duration": 6,
    "start_time": "2023-02-15T13:09:41.781Z"
   },
   {
    "duration": 5,
    "start_time": "2023-02-15T13:15:17.453Z"
   },
   {
    "duration": 6,
    "start_time": "2023-02-15T13:17:38.773Z"
   },
   {
    "duration": 8,
    "start_time": "2023-02-15T13:17:40.090Z"
   },
   {
    "duration": 9,
    "start_time": "2023-02-15T13:17:40.581Z"
   },
   {
    "duration": 15,
    "start_time": "2023-02-15T13:18:05.109Z"
   },
   {
    "duration": 7,
    "start_time": "2023-02-15T13:18:48.497Z"
   },
   {
    "duration": 9,
    "start_time": "2023-02-15T13:18:49.393Z"
   },
   {
    "duration": 147,
    "start_time": "2023-02-15T13:23:02.587Z"
   },
   {
    "duration": 140,
    "start_time": "2023-02-15T13:23:07.572Z"
   },
   {
    "duration": 158,
    "start_time": "2023-02-15T13:23:23.291Z"
   },
   {
    "duration": 168,
    "start_time": "2023-02-15T13:25:07.673Z"
   },
   {
    "duration": 169,
    "start_time": "2023-02-15T13:29:01.081Z"
   },
   {
    "duration": 149,
    "start_time": "2023-02-15T13:29:08.427Z"
   },
   {
    "duration": 137,
    "start_time": "2023-02-15T13:29:11.850Z"
   },
   {
    "duration": 12,
    "start_time": "2023-02-15T13:31:13.012Z"
   },
   {
    "duration": 10,
    "start_time": "2023-02-15T13:31:20.648Z"
   },
   {
    "duration": 6,
    "start_time": "2023-02-15T13:35:07.068Z"
   },
   {
    "duration": 15,
    "start_time": "2023-02-15T13:36:57.366Z"
   },
   {
    "duration": 3,
    "start_time": "2023-02-15T13:40:26.774Z"
   },
   {
    "duration": 13,
    "start_time": "2023-02-15T13:41:59.888Z"
   },
   {
    "duration": 22,
    "start_time": "2023-02-15T13:42:41.584Z"
   },
   {
    "duration": 23,
    "start_time": "2023-02-15T13:44:04.419Z"
   },
   {
    "duration": 17,
    "start_time": "2023-02-15T13:44:14.924Z"
   },
   {
    "duration": 12,
    "start_time": "2023-02-15T13:44:22.140Z"
   },
   {
    "duration": 365,
    "start_time": "2023-02-15T13:45:53.243Z"
   },
   {
    "duration": 5,
    "start_time": "2023-02-15T13:46:09.749Z"
   },
   {
    "duration": 4,
    "start_time": "2023-02-15T13:46:36.484Z"
   },
   {
    "duration": 12,
    "start_time": "2023-02-15T13:46:40.319Z"
   },
   {
    "duration": 10,
    "start_time": "2023-02-15T13:46:45.863Z"
   },
   {
    "duration": 11,
    "start_time": "2023-02-15T13:46:50.079Z"
   },
   {
    "duration": 20,
    "start_time": "2023-02-15T13:47:13.911Z"
   },
   {
    "duration": 22,
    "start_time": "2023-02-15T13:47:30.339Z"
   },
   {
    "duration": 15,
    "start_time": "2023-02-15T13:47:37.583Z"
   },
   {
    "duration": 90,
    "start_time": "2023-02-15T13:49:10.421Z"
   },
   {
    "duration": 75,
    "start_time": "2023-02-15T13:49:20.083Z"
   },
   {
    "duration": 5,
    "start_time": "2023-02-15T13:50:23.148Z"
   },
   {
    "duration": 17,
    "start_time": "2023-02-15T13:50:24.483Z"
   },
   {
    "duration": 12,
    "start_time": "2023-02-15T13:50:26.067Z"
   },
   {
    "duration": 139,
    "start_time": "2023-02-15T13:50:36.856Z"
   },
   {
    "duration": 26,
    "start_time": "2023-02-15T13:51:43.317Z"
   },
   {
    "duration": 2127,
    "start_time": "2023-02-15T13:55:49.271Z"
   },
   {
    "duration": 10,
    "start_time": "2023-02-15T13:56:10.348Z"
   },
   {
    "duration": 9,
    "start_time": "2023-02-15T13:56:21.499Z"
   },
   {
    "duration": 14,
    "start_time": "2023-02-15T13:56:47.144Z"
   },
   {
    "duration": 4,
    "start_time": "2023-02-15T13:57:25.450Z"
   },
   {
    "duration": 25,
    "start_time": "2023-02-15T13:57:31.822Z"
   },
   {
    "duration": 6,
    "start_time": "2023-02-15T13:57:46.695Z"
   },
   {
    "duration": 18,
    "start_time": "2023-02-15T13:57:47.640Z"
   },
   {
    "duration": 22,
    "start_time": "2023-02-15T13:58:12.392Z"
   },
   {
    "duration": 47,
    "start_time": "2023-02-15T13:58:21.315Z"
   },
   {
    "duration": 4,
    "start_time": "2023-02-15T13:59:51.750Z"
   },
   {
    "duration": 11,
    "start_time": "2023-02-15T14:00:07.586Z"
   },
   {
    "duration": 12,
    "start_time": "2023-02-15T14:00:33.007Z"
   },
   {
    "duration": 12,
    "start_time": "2023-02-15T14:01:49.255Z"
   },
   {
    "duration": 12,
    "start_time": "2023-02-15T14:02:19.495Z"
   },
   {
    "duration": 16,
    "start_time": "2023-02-15T14:05:39.497Z"
   },
   {
    "duration": 8,
    "start_time": "2023-02-15T14:05:49.185Z"
   },
   {
    "duration": 1190,
    "start_time": "2023-02-15T14:05:50.346Z"
   },
   {
    "duration": 3006,
    "start_time": "2023-02-15T14:06:30.251Z"
   },
   {
    "duration": 1306,
    "start_time": "2023-02-15T14:07:30.894Z"
   },
   {
    "duration": 91,
    "start_time": "2023-02-15T14:08:29.017Z"
   },
   {
    "duration": 1129,
    "start_time": "2023-02-15T14:12:24.343Z"
   },
   {
    "duration": 1383,
    "start_time": "2023-02-15T14:12:43.452Z"
   },
   {
    "duration": 226,
    "start_time": "2023-02-15T14:12:44.840Z"
   },
   {
    "duration": 50,
    "start_time": "2023-02-15T14:12:45.068Z"
   },
   {
    "duration": 24,
    "start_time": "2023-02-15T14:12:45.127Z"
   },
   {
    "duration": 43,
    "start_time": "2023-02-15T14:12:45.153Z"
   },
   {
    "duration": 471,
    "start_time": "2023-02-15T14:12:45.199Z"
   },
   {
    "duration": 120,
    "start_time": "2023-02-15T14:12:45.673Z"
   },
   {
    "duration": 64,
    "start_time": "2023-02-15T14:12:45.795Z"
   },
   {
    "duration": 157,
    "start_time": "2023-02-15T14:12:45.861Z"
   },
   {
    "duration": 88,
    "start_time": "2023-02-15T14:12:46.020Z"
   },
   {
    "duration": 63,
    "start_time": "2023-02-15T14:12:46.110Z"
   },
   {
    "duration": 41,
    "start_time": "2023-02-15T14:12:46.178Z"
   },
   {
    "duration": 66,
    "start_time": "2023-02-15T14:12:46.228Z"
   },
   {
    "duration": 150,
    "start_time": "2023-02-15T14:12:46.297Z"
   },
   {
    "duration": 44,
    "start_time": "2023-02-15T14:12:46.449Z"
   },
   {
    "duration": 643,
    "start_time": "2023-02-15T14:12:46.495Z"
   },
   {
    "duration": 316,
    "start_time": "2023-02-15T14:12:47.144Z"
   },
   {
    "duration": 5,
    "start_time": "2023-02-15T14:12:47.462Z"
   },
   {
    "duration": 10,
    "start_time": "2023-02-15T14:12:47.468Z"
   },
   {
    "duration": 95,
    "start_time": "2023-02-15T14:12:47.480Z"
   },
   {
    "duration": 31,
    "start_time": "2023-02-15T14:12:47.577Z"
   },
   {
    "duration": 43,
    "start_time": "2023-02-15T14:12:47.626Z"
   },
   {
    "duration": 114,
    "start_time": "2023-02-15T14:12:47.671Z"
   },
   {
    "duration": 57,
    "start_time": "2023-02-15T14:12:47.787Z"
   },
   {
    "duration": 227,
    "start_time": "2023-02-15T14:12:47.854Z"
   },
   {
    "duration": 3,
    "start_time": "2023-02-15T14:12:48.083Z"
   },
   {
    "duration": 211,
    "start_time": "2023-02-15T14:12:48.087Z"
   },
   {
    "duration": 28,
    "start_time": "2023-02-15T14:12:48.300Z"
   },
   {
    "duration": 46,
    "start_time": "2023-02-15T14:12:48.331Z"
   },
   {
    "duration": 121,
    "start_time": "2023-02-15T14:12:48.380Z"
   },
   {
    "duration": 174,
    "start_time": "2023-02-15T14:12:48.503Z"
   },
   {
    "duration": 8,
    "start_time": "2023-02-15T14:12:48.679Z"
   },
   {
    "duration": 12,
    "start_time": "2023-02-15T14:12:48.689Z"
   },
   {
    "duration": 25,
    "start_time": "2023-02-15T14:12:48.702Z"
   },
   {
    "duration": 163,
    "start_time": "2023-02-15T14:12:48.730Z"
   },
   {
    "duration": 0,
    "start_time": "2023-02-15T14:12:48.895Z"
   },
   {
    "duration": 0,
    "start_time": "2023-02-15T14:12:48.896Z"
   },
   {
    "duration": 0,
    "start_time": "2023-02-15T14:12:48.897Z"
   },
   {
    "duration": 0,
    "start_time": "2023-02-15T14:12:48.899Z"
   },
   {
    "duration": 7,
    "start_time": "2023-02-15T14:13:25.867Z"
   },
   {
    "duration": 25,
    "start_time": "2023-02-15T14:13:26.650Z"
   },
   {
    "duration": 43,
    "start_time": "2023-02-15T14:13:29.214Z"
   },
   {
    "duration": 21,
    "start_time": "2023-02-15T14:14:03.798Z"
   },
   {
    "duration": 210,
    "start_time": "2023-02-15T14:15:45.344Z"
   },
   {
    "duration": 168,
    "start_time": "2023-02-15T14:15:54.450Z"
   },
   {
    "duration": 199,
    "start_time": "2023-02-15T14:15:59.909Z"
   },
   {
    "duration": 163,
    "start_time": "2023-02-15T14:16:03.664Z"
   },
   {
    "duration": 107,
    "start_time": "2023-02-15T14:16:19.169Z"
   },
   {
    "duration": 7,
    "start_time": "2023-02-15T14:16:46.089Z"
   },
   {
    "duration": 15,
    "start_time": "2023-02-15T14:16:48.882Z"
   },
   {
    "duration": 16,
    "start_time": "2023-02-15T14:16:54.147Z"
   },
   {
    "duration": 13,
    "start_time": "2023-02-15T14:16:56.197Z"
   },
   {
    "duration": 11,
    "start_time": "2023-02-15T14:16:57.972Z"
   },
   {
    "duration": 10,
    "start_time": "2023-02-15T14:17:07.177Z"
   },
   {
    "duration": 14,
    "start_time": "2023-02-15T14:17:24.688Z"
   },
   {
    "duration": 11,
    "start_time": "2023-02-15T14:17:40.401Z"
   },
   {
    "duration": 75,
    "start_time": "2023-02-15T14:20:47.917Z"
   },
   {
    "duration": 6,
    "start_time": "2023-02-15T14:31:47.485Z"
   },
   {
    "duration": 6,
    "start_time": "2023-02-15T14:33:28.265Z"
   },
   {
    "duration": 8,
    "start_time": "2023-02-15T14:33:29.100Z"
   },
   {
    "duration": 18,
    "start_time": "2023-02-15T14:33:29.962Z"
   },
   {
    "duration": 6,
    "start_time": "2023-02-15T14:33:41.560Z"
   },
   {
    "duration": 20,
    "start_time": "2023-02-15T14:33:42.248Z"
   },
   {
    "duration": 5,
    "start_time": "2023-02-15T14:33:55.370Z"
   },
   {
    "duration": 11,
    "start_time": "2023-02-15T14:33:56.201Z"
   },
   {
    "duration": 5,
    "start_time": "2023-02-15T14:34:06.465Z"
   },
   {
    "duration": 8,
    "start_time": "2023-02-15T14:34:07.138Z"
   },
   {
    "duration": 9,
    "start_time": "2023-02-15T14:34:08.080Z"
   },
   {
    "duration": 13,
    "start_time": "2023-02-15T14:34:14.169Z"
   },
   {
    "duration": 5,
    "start_time": "2023-02-15T14:34:20.908Z"
   },
   {
    "duration": 5,
    "start_time": "2023-02-15T14:34:21.488Z"
   },
   {
    "duration": 9,
    "start_time": "2023-02-15T14:34:22.280Z"
   },
   {
    "duration": 11,
    "start_time": "2023-02-15T14:34:47.784Z"
   },
   {
    "duration": 16,
    "start_time": "2023-02-15T14:34:51.419Z"
   },
   {
    "duration": 5,
    "start_time": "2023-02-15T14:34:53.296Z"
   },
   {
    "duration": 13,
    "start_time": "2023-02-15T14:34:54.384Z"
   },
   {
    "duration": 6,
    "start_time": "2023-02-15T14:34:55.847Z"
   },
   {
    "duration": 10,
    "start_time": "2023-02-15T14:34:56.548Z"
   },
   {
    "duration": 13,
    "start_time": "2023-02-15T14:34:57.634Z"
   },
   {
    "duration": 16,
    "start_time": "2023-02-15T14:35:06.392Z"
   },
   {
    "duration": 8,
    "start_time": "2023-02-15T14:35:08.393Z"
   },
   {
    "duration": 13,
    "start_time": "2023-02-15T14:35:08.872Z"
   },
   {
    "duration": 13,
    "start_time": "2023-02-15T14:35:20.361Z"
   },
   {
    "duration": 10,
    "start_time": "2023-02-15T14:35:38.488Z"
   },
   {
    "duration": 14,
    "start_time": "2023-02-15T14:35:43.140Z"
   },
   {
    "duration": 15,
    "start_time": "2023-02-15T14:35:44.576Z"
   },
   {
    "duration": 14,
    "start_time": "2023-02-15T14:36:05.549Z"
   },
   {
    "duration": 8,
    "start_time": "2023-02-15T14:36:05.952Z"
   },
   {
    "duration": 9,
    "start_time": "2023-02-15T14:36:32.427Z"
   },
   {
    "duration": 13,
    "start_time": "2023-02-15T14:36:32.896Z"
   },
   {
    "duration": 11,
    "start_time": "2023-02-15T14:36:33.951Z"
   },
   {
    "duration": 9,
    "start_time": "2023-02-15T14:36:36.956Z"
   },
   {
    "duration": 10,
    "start_time": "2023-02-15T14:36:39.880Z"
   },
   {
    "duration": 10,
    "start_time": "2023-02-15T14:36:59.898Z"
   },
   {
    "duration": 11,
    "start_time": "2023-02-15T14:37:03.096Z"
   },
   {
    "duration": 14,
    "start_time": "2023-02-15T14:37:05.512Z"
   },
   {
    "duration": 11,
    "start_time": "2023-02-15T14:37:12.689Z"
   },
   {
    "duration": 16,
    "start_time": "2023-02-15T14:37:14.022Z"
   },
   {
    "duration": 6,
    "start_time": "2023-02-15T14:37:27.258Z"
   },
   {
    "duration": 8,
    "start_time": "2023-02-15T14:37:30.159Z"
   },
   {
    "duration": 8,
    "start_time": "2023-02-15T14:38:42.543Z"
   },
   {
    "duration": 12,
    "start_time": "2023-02-15T14:38:43.345Z"
   },
   {
    "duration": 7,
    "start_time": "2023-02-15T14:38:44.367Z"
   },
   {
    "duration": 14,
    "start_time": "2023-02-15T14:38:44.808Z"
   },
   {
    "duration": 10,
    "start_time": "2023-02-15T14:38:45.256Z"
   },
   {
    "duration": 8,
    "start_time": "2023-02-15T14:49:54.287Z"
   },
   {
    "duration": 29,
    "start_time": "2023-02-15T14:50:44.419Z"
   },
   {
    "duration": 13,
    "start_time": "2023-02-15T14:50:56.658Z"
   },
   {
    "duration": 27,
    "start_time": "2023-02-15T14:51:08.019Z"
   },
   {
    "duration": 16,
    "start_time": "2023-02-15T14:51:12.363Z"
   },
   {
    "duration": 16,
    "start_time": "2023-02-15T15:09:11.330Z"
   },
   {
    "duration": 7,
    "start_time": "2023-02-15T15:09:12.097Z"
   },
   {
    "duration": 21,
    "start_time": "2023-02-15T15:09:13.354Z"
   },
   {
    "duration": 9,
    "start_time": "2023-02-15T15:09:34.739Z"
   },
   {
    "duration": 13,
    "start_time": "2023-02-15T15:09:35.177Z"
   },
   {
    "duration": 1432,
    "start_time": "2023-02-15T15:09:43.738Z"
   },
   {
    "duration": 228,
    "start_time": "2023-02-15T15:09:45.173Z"
   },
   {
    "duration": 52,
    "start_time": "2023-02-15T15:09:45.403Z"
   },
   {
    "duration": 5,
    "start_time": "2023-02-15T15:09:45.460Z"
   },
   {
    "duration": 10,
    "start_time": "2023-02-15T15:09:45.467Z"
   },
   {
    "duration": 409,
    "start_time": "2023-02-15T15:09:45.479Z"
   },
   {
    "duration": 117,
    "start_time": "2023-02-15T15:09:45.890Z"
   },
   {
    "duration": 63,
    "start_time": "2023-02-15T15:09:46.009Z"
   },
   {
    "duration": 183,
    "start_time": "2023-02-15T15:09:46.074Z"
   },
   {
    "duration": 97,
    "start_time": "2023-02-15T15:09:46.262Z"
   },
   {
    "duration": 46,
    "start_time": "2023-02-15T15:09:46.361Z"
   },
   {
    "duration": 73,
    "start_time": "2023-02-15T15:09:46.409Z"
   },
   {
    "duration": 25,
    "start_time": "2023-02-15T15:09:46.485Z"
   },
   {
    "duration": 144,
    "start_time": "2023-02-15T15:09:46.530Z"
   },
   {
    "duration": 37,
    "start_time": "2023-02-15T15:09:46.679Z"
   },
   {
    "duration": 680,
    "start_time": "2023-02-15T15:09:46.728Z"
   },
   {
    "duration": 374,
    "start_time": "2023-02-15T15:09:47.410Z"
   },
   {
    "duration": 5,
    "start_time": "2023-02-15T15:09:47.786Z"
   },
   {
    "duration": 10,
    "start_time": "2023-02-15T15:09:47.793Z"
   },
   {
    "duration": 93,
    "start_time": "2023-02-15T15:09:47.805Z"
   },
   {
    "duration": 48,
    "start_time": "2023-02-15T15:09:47.900Z"
   },
   {
    "duration": 27,
    "start_time": "2023-02-15T15:09:47.959Z"
   },
   {
    "duration": 111,
    "start_time": "2023-02-15T15:09:47.989Z"
   },
   {
    "duration": 43,
    "start_time": "2023-02-15T15:09:48.102Z"
   },
   {
    "duration": 199,
    "start_time": "2023-02-15T15:09:48.149Z"
   },
   {
    "duration": 5,
    "start_time": "2023-02-15T15:09:48.357Z"
   },
   {
    "duration": 198,
    "start_time": "2023-02-15T15:09:48.365Z"
   },
   {
    "duration": 14,
    "start_time": "2023-02-15T15:09:48.565Z"
   },
   {
    "duration": 6,
    "start_time": "2023-02-15T15:09:48.581Z"
   },
   {
    "duration": 135,
    "start_time": "2023-02-15T15:09:48.589Z"
   },
   {
    "duration": 162,
    "start_time": "2023-02-15T15:09:48.731Z"
   },
   {
    "duration": 8,
    "start_time": "2023-02-15T15:09:48.895Z"
   },
   {
    "duration": 20,
    "start_time": "2023-02-15T15:09:48.905Z"
   },
   {
    "duration": 56,
    "start_time": "2023-02-15T15:09:48.927Z"
   },
   {
    "duration": 124,
    "start_time": "2023-02-15T15:09:48.985Z"
   },
   {
    "duration": 0,
    "start_time": "2023-02-15T15:09:49.111Z"
   },
   {
    "duration": 0,
    "start_time": "2023-02-15T15:09:49.112Z"
   },
   {
    "duration": 0,
    "start_time": "2023-02-15T15:09:49.113Z"
   },
   {
    "duration": 0,
    "start_time": "2023-02-15T15:09:49.125Z"
   },
   {
    "duration": 231,
    "start_time": "2023-02-15T15:10:23.169Z"
   },
   {
    "duration": 227,
    "start_time": "2023-02-15T15:10:27.457Z"
   },
   {
    "duration": 10,
    "start_time": "2023-02-15T15:11:46.949Z"
   },
   {
    "duration": 13,
    "start_time": "2023-02-15T15:11:48.259Z"
   },
   {
    "duration": 8,
    "start_time": "2023-02-15T15:11:56.959Z"
   },
   {
    "duration": 16,
    "start_time": "2023-02-15T15:11:57.658Z"
   },
   {
    "duration": 8,
    "start_time": "2023-02-15T15:11:59.313Z"
   },
   {
    "duration": 12,
    "start_time": "2023-02-15T15:12:00.205Z"
   },
   {
    "duration": 9,
    "start_time": "2023-02-15T15:12:00.785Z"
   },
   {
    "duration": 13,
    "start_time": "2023-02-15T15:12:01.757Z"
   },
   {
    "duration": 1253,
    "start_time": "2023-02-15T17:43:32.549Z"
   },
   {
    "duration": 1263,
    "start_time": "2023-02-15T17:44:10.098Z"
   },
   {
    "duration": 189,
    "start_time": "2023-02-15T17:44:11.363Z"
   },
   {
    "duration": 31,
    "start_time": "2023-02-15T17:44:11.553Z"
   },
   {
    "duration": 3,
    "start_time": "2023-02-15T17:44:11.586Z"
   },
   {
    "duration": 11,
    "start_time": "2023-02-15T17:44:11.591Z"
   },
   {
    "duration": 432,
    "start_time": "2023-02-15T17:44:11.604Z"
   },
   {
    "duration": 113,
    "start_time": "2023-02-15T17:44:12.045Z"
   },
   {
    "duration": 32,
    "start_time": "2023-02-15T17:44:12.160Z"
   },
   {
    "duration": 167,
    "start_time": "2023-02-15T17:44:12.194Z"
   },
   {
    "duration": 94,
    "start_time": "2023-02-15T17:44:12.364Z"
   },
   {
    "duration": 24,
    "start_time": "2023-02-15T17:44:12.460Z"
   },
   {
    "duration": 61,
    "start_time": "2023-02-15T17:44:12.486Z"
   },
   {
    "duration": 27,
    "start_time": "2023-02-15T17:44:12.551Z"
   },
   {
    "duration": 123,
    "start_time": "2023-02-15T17:44:12.580Z"
   },
   {
    "duration": 51,
    "start_time": "2023-02-15T17:44:12.704Z"
   },
   {
    "duration": 628,
    "start_time": "2023-02-15T17:44:12.757Z"
   },
   {
    "duration": 376,
    "start_time": "2023-02-15T17:44:13.387Z"
   },
   {
    "duration": 5,
    "start_time": "2023-02-15T17:44:13.765Z"
   },
   {
    "duration": 9,
    "start_time": "2023-02-15T17:44:13.772Z"
   },
   {
    "duration": 89,
    "start_time": "2023-02-15T17:44:13.783Z"
   },
   {
    "duration": 29,
    "start_time": "2023-02-15T17:44:13.874Z"
   },
   {
    "duration": 59,
    "start_time": "2023-02-15T17:44:13.904Z"
   },
   {
    "duration": 1386,
    "start_time": "2023-02-15T17:44:13.964Z"
   },
   {
    "duration": 0,
    "start_time": "2023-02-15T17:44:15.353Z"
   },
   {
    "duration": 0,
    "start_time": "2023-02-15T17:44:15.355Z"
   },
   {
    "duration": 0,
    "start_time": "2023-02-15T17:44:15.356Z"
   },
   {
    "duration": 0,
    "start_time": "2023-02-15T17:44:15.357Z"
   },
   {
    "duration": 0,
    "start_time": "2023-02-15T17:44:15.358Z"
   },
   {
    "duration": 0,
    "start_time": "2023-02-15T17:44:15.360Z"
   },
   {
    "duration": 0,
    "start_time": "2023-02-15T17:44:15.362Z"
   },
   {
    "duration": 0,
    "start_time": "2023-02-15T17:44:15.363Z"
   },
   {
    "duration": 0,
    "start_time": "2023-02-15T17:44:15.364Z"
   },
   {
    "duration": 0,
    "start_time": "2023-02-15T17:44:15.366Z"
   },
   {
    "duration": 0,
    "start_time": "2023-02-15T17:44:15.367Z"
   },
   {
    "duration": 0,
    "start_time": "2023-02-15T17:44:15.369Z"
   },
   {
    "duration": 0,
    "start_time": "2023-02-15T17:44:15.370Z"
   },
   {
    "duration": 0,
    "start_time": "2023-02-15T17:44:15.371Z"
   },
   {
    "duration": 0,
    "start_time": "2023-02-15T17:44:15.372Z"
   },
   {
    "duration": 0,
    "start_time": "2023-02-15T17:44:15.373Z"
   },
   {
    "duration": 114,
    "start_time": "2023-02-15T17:44:37.353Z"
   },
   {
    "duration": 108,
    "start_time": "2023-02-15T17:44:45.783Z"
   },
   {
    "duration": 32,
    "start_time": "2023-02-15T17:44:59.864Z"
   },
   {
    "duration": 210,
    "start_time": "2023-02-15T17:47:18.783Z"
   },
   {
    "duration": 192,
    "start_time": "2023-02-15T17:47:41.853Z"
   },
   {
    "duration": 16,
    "start_time": "2023-02-15T17:48:37.586Z"
   },
   {
    "duration": 4,
    "start_time": "2023-02-15T17:50:58.070Z"
   },
   {
    "duration": 5,
    "start_time": "2023-02-15T17:52:43.896Z"
   },
   {
    "duration": 5,
    "start_time": "2023-02-15T17:52:55.200Z"
   },
   {
    "duration": 110,
    "start_time": "2023-02-15T17:53:08.463Z"
   },
   {
    "duration": 175,
    "start_time": "2023-02-15T17:53:27.765Z"
   },
   {
    "duration": 13,
    "start_time": "2023-02-15T17:54:52.615Z"
   },
   {
    "duration": 16,
    "start_time": "2023-02-15T17:59:51.730Z"
   },
   {
    "duration": 10,
    "start_time": "2023-02-15T18:00:00.660Z"
   },
   {
    "duration": 13,
    "start_time": "2023-02-15T18:00:10.264Z"
   },
   {
    "duration": 19,
    "start_time": "2023-02-15T18:02:34.373Z"
   },
   {
    "duration": 8,
    "start_time": "2023-02-15T18:07:47.701Z"
   },
   {
    "duration": 5,
    "start_time": "2023-02-15T18:07:52.181Z"
   },
   {
    "duration": 12,
    "start_time": "2023-02-15T18:07:53.397Z"
   },
   {
    "duration": 6,
    "start_time": "2023-02-15T18:08:06.093Z"
   },
   {
    "duration": 17,
    "start_time": "2023-02-15T18:08:07.257Z"
   },
   {
    "duration": 8,
    "start_time": "2023-02-15T18:08:07.869Z"
   },
   {
    "duration": 9,
    "start_time": "2023-02-15T18:09:08.647Z"
   },
   {
    "duration": 5,
    "start_time": "2023-02-15T18:09:11.397Z"
   },
   {
    "duration": 11,
    "start_time": "2023-02-15T18:09:11.817Z"
   },
   {
    "duration": 6,
    "start_time": "2023-02-15T18:09:57.093Z"
   },
   {
    "duration": 9,
    "start_time": "2023-02-15T18:10:29.482Z"
   },
   {
    "duration": 12,
    "start_time": "2023-02-15T18:10:35.955Z"
   },
   {
    "duration": 13,
    "start_time": "2023-02-15T18:10:38.364Z"
   },
   {
    "duration": 17,
    "start_time": "2023-02-15T18:10:48.312Z"
   },
   {
    "duration": 77,
    "start_time": "2023-02-17T06:36:02.036Z"
   },
   {
    "duration": 1490,
    "start_time": "2023-02-17T06:36:10.251Z"
   },
   {
    "duration": 621,
    "start_time": "2023-02-17T06:36:11.744Z"
   },
   {
    "duration": 31,
    "start_time": "2023-02-17T06:36:12.367Z"
   },
   {
    "duration": 3,
    "start_time": "2023-02-17T06:36:12.401Z"
   },
   {
    "duration": 9,
    "start_time": "2023-02-17T06:36:12.405Z"
   },
   {
    "duration": 385,
    "start_time": "2023-02-17T06:36:12.415Z"
   },
   {
    "duration": 134,
    "start_time": "2023-02-17T06:36:12.802Z"
   },
   {
    "duration": 44,
    "start_time": "2023-02-17T06:36:12.938Z"
   },
   {
    "duration": 169,
    "start_time": "2023-02-17T06:36:12.984Z"
   },
   {
    "duration": 95,
    "start_time": "2023-02-17T06:36:13.156Z"
   },
   {
    "duration": 30,
    "start_time": "2023-02-17T06:36:13.253Z"
   },
   {
    "duration": 44,
    "start_time": "2023-02-17T06:36:13.286Z"
   },
   {
    "duration": 49,
    "start_time": "2023-02-17T06:36:13.349Z"
   },
   {
    "duration": 144,
    "start_time": "2023-02-17T06:36:13.402Z"
   },
   {
    "duration": 31,
    "start_time": "2023-02-17T06:36:13.547Z"
   },
   {
    "duration": 610,
    "start_time": "2023-02-17T06:36:13.580Z"
   },
   {
    "duration": 289,
    "start_time": "2023-02-17T06:36:14.192Z"
   },
   {
    "duration": 5,
    "start_time": "2023-02-17T06:36:14.483Z"
   },
   {
    "duration": 8,
    "start_time": "2023-02-17T06:36:14.491Z"
   },
   {
    "duration": 77,
    "start_time": "2023-02-17T06:36:14.501Z"
   },
   {
    "duration": 51,
    "start_time": "2023-02-17T06:36:14.580Z"
   },
   {
    "duration": 59,
    "start_time": "2023-02-17T06:36:14.633Z"
   },
   {
    "duration": 117,
    "start_time": "2023-02-17T06:36:14.694Z"
   },
   {
    "duration": 57,
    "start_time": "2023-02-17T06:36:14.813Z"
   },
   {
    "duration": 179,
    "start_time": "2023-02-17T06:36:14.872Z"
   },
   {
    "duration": 4,
    "start_time": "2023-02-17T06:36:15.053Z"
   },
   {
    "duration": 179,
    "start_time": "2023-02-17T06:36:15.063Z"
   },
   {
    "duration": 18,
    "start_time": "2023-02-17T06:36:15.248Z"
   },
   {
    "duration": 18,
    "start_time": "2023-02-17T06:36:15.269Z"
   },
   {
    "duration": 119,
    "start_time": "2023-02-17T06:36:15.289Z"
   },
   {
    "duration": 219,
    "start_time": "2023-02-17T06:36:15.410Z"
   },
   {
    "duration": 19,
    "start_time": "2023-02-17T06:36:15.632Z"
   },
   {
    "duration": 15,
    "start_time": "2023-02-17T06:36:15.653Z"
   },
   {
    "duration": 18,
    "start_time": "2023-02-17T06:36:15.670Z"
   },
   {
    "duration": 27,
    "start_time": "2023-02-17T06:36:15.690Z"
   },
   {
    "duration": 13,
    "start_time": "2023-02-17T06:36:15.719Z"
   },
   {
    "duration": 16,
    "start_time": "2023-02-17T06:36:15.734Z"
   },
   {
    "duration": 11,
    "start_time": "2023-02-17T06:36:15.752Z"
   },
   {
    "duration": 14,
    "start_time": "2023-02-17T06:36:15.765Z"
   },
   {
    "duration": 24,
    "start_time": "2023-02-17T06:36:33.324Z"
   },
   {
    "duration": 32,
    "start_time": "2023-02-17T06:37:09.651Z"
   },
   {
    "duration": 23,
    "start_time": "2023-02-17T06:37:22.643Z"
   },
   {
    "duration": 33,
    "start_time": "2023-02-17T06:37:24.451Z"
   },
   {
    "duration": 8,
    "start_time": "2023-02-17T06:39:08.333Z"
   },
   {
    "duration": 212,
    "start_time": "2023-02-17T06:40:33.179Z"
   },
   {
    "duration": 226,
    "start_time": "2023-02-17T06:40:52.188Z"
   },
   {
    "duration": 255,
    "start_time": "2023-02-17T06:46:47.936Z"
   },
   {
    "duration": 283,
    "start_time": "2023-02-17T06:46:55.569Z"
   },
   {
    "duration": 223,
    "start_time": "2023-02-17T06:47:03.272Z"
   },
   {
    "duration": 4,
    "start_time": "2023-02-17T06:53:30.704Z"
   },
   {
    "duration": 95,
    "start_time": "2023-02-17T09:26:11.917Z"
   },
   {
    "duration": 1075,
    "start_time": "2023-02-17T09:31:16.322Z"
   },
   {
    "duration": 826,
    "start_time": "2023-02-17T09:31:54.223Z"
   },
   {
    "duration": 903,
    "start_time": "2023-02-17T09:32:11.122Z"
   },
   {
    "duration": 889,
    "start_time": "2023-02-17T09:32:24.643Z"
   },
   {
    "duration": 919,
    "start_time": "2023-02-17T09:32:30.882Z"
   },
   {
    "duration": 1190,
    "start_time": "2023-02-17T09:32:42.222Z"
   },
   {
    "duration": 182,
    "start_time": "2023-02-17T09:32:43.414Z"
   },
   {
    "duration": 29,
    "start_time": "2023-02-17T09:32:43.598Z"
   },
   {
    "duration": 2,
    "start_time": "2023-02-17T09:32:43.629Z"
   },
   {
    "duration": 13,
    "start_time": "2023-02-17T09:32:43.652Z"
   },
   {
    "duration": 371,
    "start_time": "2023-02-17T09:32:43.667Z"
   },
   {
    "duration": 125,
    "start_time": "2023-02-17T09:32:44.040Z"
   },
   {
    "duration": 35,
    "start_time": "2023-02-17T09:32:44.167Z"
   },
   {
    "duration": 148,
    "start_time": "2023-02-17T09:32:44.204Z"
   },
   {
    "duration": 97,
    "start_time": "2023-02-17T09:32:44.357Z"
   },
   {
    "duration": 32,
    "start_time": "2023-02-17T09:32:44.457Z"
   },
   {
    "duration": 50,
    "start_time": "2023-02-17T09:32:44.491Z"
   },
   {
    "duration": 37,
    "start_time": "2023-02-17T09:32:44.544Z"
   },
   {
    "duration": 166,
    "start_time": "2023-02-17T09:32:44.584Z"
   },
   {
    "duration": 35,
    "start_time": "2023-02-17T09:32:44.758Z"
   },
   {
    "duration": 331,
    "start_time": "2023-02-17T09:32:44.794Z"
   },
   {
    "duration": 316,
    "start_time": "2023-02-17T09:32:45.127Z"
   },
   {
    "duration": 5,
    "start_time": "2023-02-17T09:32:45.446Z"
   },
   {
    "duration": 73,
    "start_time": "2023-02-17T09:32:45.453Z"
   },
   {
    "duration": 107,
    "start_time": "2023-02-17T09:32:45.528Z"
   },
   {
    "duration": 41,
    "start_time": "2023-02-17T09:32:45.638Z"
   },
   {
    "duration": 55,
    "start_time": "2023-02-17T09:32:45.680Z"
   },
   {
    "duration": 128,
    "start_time": "2023-02-17T09:32:45.737Z"
   },
   {
    "duration": 31,
    "start_time": "2023-02-17T09:32:45.866Z"
   },
   {
    "duration": 185,
    "start_time": "2023-02-17T09:32:45.899Z"
   },
   {
    "duration": 164,
    "start_time": "2023-02-17T09:32:46.086Z"
   },
   {
    "duration": 19,
    "start_time": "2023-02-17T09:32:46.252Z"
   },
   {
    "duration": 8,
    "start_time": "2023-02-17T09:32:46.273Z"
   },
   {
    "duration": 120,
    "start_time": "2023-02-17T09:32:46.283Z"
   },
   {
    "duration": 169,
    "start_time": "2023-02-17T09:32:46.406Z"
   },
   {
    "duration": 10,
    "start_time": "2023-02-17T09:32:46.578Z"
   },
   {
    "duration": 49,
    "start_time": "2023-02-17T09:32:46.590Z"
   },
   {
    "duration": 66,
    "start_time": "2023-02-17T09:32:46.642Z"
   },
   {
    "duration": 40,
    "start_time": "2023-02-17T09:32:46.710Z"
   },
   {
    "duration": 59,
    "start_time": "2023-02-17T09:32:46.752Z"
   },
   {
    "duration": 29,
    "start_time": "2023-02-17T09:32:46.814Z"
   },
   {
    "duration": 22,
    "start_time": "2023-02-17T09:32:46.845Z"
   },
   {
    "duration": 12,
    "start_time": "2023-02-17T09:32:46.869Z"
   },
   {
    "duration": 1099,
    "start_time": "2023-02-17T09:33:29.863Z"
   },
   {
    "duration": 872,
    "start_time": "2023-02-17T09:38:08.735Z"
   },
   {
    "duration": 5,
    "start_time": "2023-02-17T09:38:53.408Z"
   },
   {
    "duration": 882,
    "start_time": "2023-02-17T09:39:00.761Z"
   },
   {
    "duration": 948,
    "start_time": "2023-02-17T09:39:29.231Z"
   },
   {
    "duration": 1883,
    "start_time": "2023-02-17T09:40:01.731Z"
   },
   {
    "duration": 909,
    "start_time": "2023-02-17T09:42:10.376Z"
   },
   {
    "duration": 865,
    "start_time": "2023-02-17T09:42:33.926Z"
   },
   {
    "duration": 935,
    "start_time": "2023-02-17T09:43:37.824Z"
   },
   {
    "duration": 899,
    "start_time": "2023-02-17T09:44:42.891Z"
   },
   {
    "duration": 826,
    "start_time": "2023-02-17T09:45:27.444Z"
   },
   {
    "duration": 825,
    "start_time": "2023-02-17T09:45:56.139Z"
   },
   {
    "duration": 14,
    "start_time": "2023-02-17T09:46:15.724Z"
   },
   {
    "duration": 15,
    "start_time": "2023-02-17T09:46:19.331Z"
   },
   {
    "duration": 15,
    "start_time": "2023-02-17T09:46:30.667Z"
   },
   {
    "duration": 14,
    "start_time": "2023-02-17T09:46:32.179Z"
   },
   {
    "duration": 21,
    "start_time": "2023-02-17T09:47:02.265Z"
   },
   {
    "duration": 1177,
    "start_time": "2023-02-17T09:47:08.944Z"
   },
   {
    "duration": 179,
    "start_time": "2023-02-17T09:47:10.123Z"
   },
   {
    "duration": 30,
    "start_time": "2023-02-17T09:47:10.304Z"
   },
   {
    "duration": 15,
    "start_time": "2023-02-17T09:47:10.336Z"
   },
   {
    "duration": 26,
    "start_time": "2023-02-17T09:47:10.352Z"
   },
   {
    "duration": 354,
    "start_time": "2023-02-17T09:47:10.380Z"
   },
   {
    "duration": 117,
    "start_time": "2023-02-17T09:47:10.736Z"
   },
   {
    "duration": 61,
    "start_time": "2023-02-17T09:47:10.855Z"
   },
   {
    "duration": 176,
    "start_time": "2023-02-17T09:47:10.919Z"
   },
   {
    "duration": 84,
    "start_time": "2023-02-17T09:47:11.098Z"
   },
   {
    "duration": 31,
    "start_time": "2023-02-17T09:47:11.184Z"
   },
   {
    "duration": 55,
    "start_time": "2023-02-17T09:47:11.216Z"
   },
   {
    "duration": 30,
    "start_time": "2023-02-17T09:47:11.273Z"
   },
   {
    "duration": 129,
    "start_time": "2023-02-17T09:47:11.305Z"
   },
   {
    "duration": 39,
    "start_time": "2023-02-17T09:47:11.436Z"
   },
   {
    "duration": 329,
    "start_time": "2023-02-17T09:47:11.477Z"
   },
   {
    "duration": 315,
    "start_time": "2023-02-17T09:47:11.808Z"
   },
   {
    "duration": 5,
    "start_time": "2023-02-17T09:47:12.124Z"
   },
   {
    "duration": 20,
    "start_time": "2023-02-17T09:47:12.130Z"
   },
   {
    "duration": 97,
    "start_time": "2023-02-17T09:47:12.152Z"
   },
   {
    "duration": 47,
    "start_time": "2023-02-17T09:47:12.251Z"
   },
   {
    "duration": 28,
    "start_time": "2023-02-17T09:47:12.300Z"
   },
   {
    "duration": 139,
    "start_time": "2023-02-17T09:47:12.331Z"
   },
   {
    "duration": 41,
    "start_time": "2023-02-17T09:47:12.472Z"
   },
   {
    "duration": 195,
    "start_time": "2023-02-17T09:47:12.515Z"
   },
   {
    "duration": 178,
    "start_time": "2023-02-17T09:47:12.712Z"
   },
   {
    "duration": 16,
    "start_time": "2023-02-17T09:47:12.892Z"
   },
   {
    "duration": 5,
    "start_time": "2023-02-17T09:47:12.913Z"
   },
   {
    "duration": 132,
    "start_time": "2023-02-17T09:47:12.920Z"
   },
   {
    "duration": 149,
    "start_time": "2023-02-17T09:47:13.053Z"
   },
   {
    "duration": 9,
    "start_time": "2023-02-17T09:47:13.204Z"
   },
   {
    "duration": 14,
    "start_time": "2023-02-17T09:47:13.214Z"
   },
   {
    "duration": 13,
    "start_time": "2023-02-17T09:47:13.229Z"
   },
   {
    "duration": 13,
    "start_time": "2023-02-17T09:47:13.249Z"
   },
   {
    "duration": 11,
    "start_time": "2023-02-17T09:47:13.265Z"
   },
   {
    "duration": 22,
    "start_time": "2023-02-17T09:47:13.278Z"
   },
   {
    "duration": 23,
    "start_time": "2023-02-17T09:47:13.302Z"
   },
   {
    "duration": 10,
    "start_time": "2023-02-17T09:47:13.327Z"
   },
   {
    "duration": 4,
    "start_time": "2023-02-17T09:48:33.968Z"
   },
   {
    "duration": 94,
    "start_time": "2023-02-17T09:49:04.376Z"
   },
   {
    "duration": 7,
    "start_time": "2023-02-17T09:53:43.416Z"
   },
   {
    "duration": 5,
    "start_time": "2023-02-17T09:53:45.020Z"
   },
   {
    "duration": 11,
    "start_time": "2023-02-17T09:53:45.863Z"
   },
   {
    "duration": 7,
    "start_time": "2023-02-17T09:53:51.107Z"
   },
   {
    "duration": 12,
    "start_time": "2023-02-17T09:53:51.976Z"
   },
   {
    "duration": 12,
    "start_time": "2023-02-17T09:54:07.440Z"
   },
   {
    "duration": 11,
    "start_time": "2023-02-17T09:54:08.108Z"
   },
   {
    "duration": 10,
    "start_time": "2023-02-17T09:54:09.269Z"
   },
   {
    "duration": 10,
    "start_time": "2023-02-17T09:54:10.332Z"
   },
   {
    "duration": 1279,
    "start_time": "2023-02-17T12:50:50.570Z"
   },
   {
    "duration": 159,
    "start_time": "2023-02-17T12:50:51.851Z"
   },
   {
    "duration": 32,
    "start_time": "2023-02-17T12:50:52.011Z"
   },
   {
    "duration": 2,
    "start_time": "2023-02-17T12:50:52.046Z"
   },
   {
    "duration": 11,
    "start_time": "2023-02-17T12:50:52.050Z"
   },
   {
    "duration": 347,
    "start_time": "2023-02-17T12:50:52.063Z"
   },
   {
    "duration": 109,
    "start_time": "2023-02-17T12:50:52.412Z"
   },
   {
    "duration": 53,
    "start_time": "2023-02-17T12:50:52.522Z"
   },
   {
    "duration": 152,
    "start_time": "2023-02-17T12:50:52.577Z"
   },
   {
    "duration": 85,
    "start_time": "2023-02-17T12:50:52.732Z"
   },
   {
    "duration": 24,
    "start_time": "2023-02-17T12:50:52.819Z"
   },
   {
    "duration": 55,
    "start_time": "2023-02-17T12:50:52.845Z"
   },
   {
    "duration": 28,
    "start_time": "2023-02-17T12:50:52.902Z"
   },
   {
    "duration": 122,
    "start_time": "2023-02-17T12:50:52.932Z"
   },
   {
    "duration": 30,
    "start_time": "2023-02-17T12:50:53.056Z"
   },
   {
    "duration": 316,
    "start_time": "2023-02-17T12:50:53.087Z"
   },
   {
    "duration": 283,
    "start_time": "2023-02-17T12:50:53.404Z"
   },
   {
    "duration": 4,
    "start_time": "2023-02-17T12:50:53.696Z"
   },
   {
    "duration": 11,
    "start_time": "2023-02-17T12:50:53.701Z"
   },
   {
    "duration": 74,
    "start_time": "2023-02-17T12:50:53.714Z"
   },
   {
    "duration": 29,
    "start_time": "2023-02-17T12:50:53.796Z"
   },
   {
    "duration": 26,
    "start_time": "2023-02-17T12:50:53.827Z"
   },
   {
    "duration": 119,
    "start_time": "2023-02-17T12:50:53.855Z"
   },
   {
    "duration": 35,
    "start_time": "2023-02-17T12:50:53.976Z"
   },
   {
    "duration": 182,
    "start_time": "2023-02-17T12:50:54.013Z"
   },
   {
    "duration": 180,
    "start_time": "2023-02-17T12:50:54.197Z"
   },
   {
    "duration": 27,
    "start_time": "2023-02-17T12:50:54.380Z"
   },
   {
    "duration": 5,
    "start_time": "2023-02-17T12:50:54.412Z"
   },
   {
    "duration": 137,
    "start_time": "2023-02-17T12:50:54.419Z"
   },
   {
    "duration": 154,
    "start_time": "2023-02-17T12:50:54.559Z"
   },
   {
    "duration": 8,
    "start_time": "2023-02-17T12:50:54.716Z"
   },
   {
    "duration": 12,
    "start_time": "2023-02-17T12:50:54.726Z"
   },
   {
    "duration": 11,
    "start_time": "2023-02-17T12:50:54.740Z"
   },
   {
    "duration": 16,
    "start_time": "2023-02-17T12:50:54.753Z"
   },
   {
    "duration": 27,
    "start_time": "2023-02-17T12:50:54.770Z"
   },
   {
    "duration": 16,
    "start_time": "2023-02-17T12:50:54.799Z"
   },
   {
    "duration": 9,
    "start_time": "2023-02-17T12:50:54.817Z"
   },
   {
    "duration": 14,
    "start_time": "2023-02-17T12:50:54.827Z"
   },
   {
    "duration": 41,
    "start_time": "2023-02-17T12:55:15.385Z"
   },
   {
    "duration": 1389,
    "start_time": "2023-02-17T13:10:00.310Z"
   },
   {
    "duration": 176,
    "start_time": "2023-02-17T13:10:01.701Z"
   },
   {
    "duration": 39,
    "start_time": "2023-02-17T13:10:01.879Z"
   },
   {
    "duration": 4,
    "start_time": "2023-02-17T13:10:01.921Z"
   },
   {
    "duration": 30,
    "start_time": "2023-02-17T13:10:01.927Z"
   },
   {
    "duration": 408,
    "start_time": "2023-02-17T13:10:01.959Z"
   },
   {
    "duration": 122,
    "start_time": "2023-02-17T13:10:02.369Z"
   },
   {
    "duration": 42,
    "start_time": "2023-02-17T13:10:02.496Z"
   },
   {
    "duration": 172,
    "start_time": "2023-02-17T13:10:02.540Z"
   },
   {
    "duration": 99,
    "start_time": "2023-02-17T13:10:02.716Z"
   },
   {
    "duration": 39,
    "start_time": "2023-02-17T13:10:02.817Z"
   },
   {
    "duration": 69,
    "start_time": "2023-02-17T13:10:02.858Z"
   },
   {
    "duration": 39,
    "start_time": "2023-02-17T13:10:02.929Z"
   },
   {
    "duration": 124,
    "start_time": "2023-02-17T13:10:02.969Z"
   },
   {
    "duration": 35,
    "start_time": "2023-02-17T13:10:03.101Z"
   },
   {
    "duration": 327,
    "start_time": "2023-02-17T13:10:03.137Z"
   },
   {
    "duration": 306,
    "start_time": "2023-02-17T13:10:03.466Z"
   },
   {
    "duration": 5,
    "start_time": "2023-02-17T13:10:03.774Z"
   },
   {
    "duration": 16,
    "start_time": "2023-02-17T13:10:03.780Z"
   },
   {
    "duration": 81,
    "start_time": "2023-02-17T13:10:03.798Z"
   },
   {
    "duration": 39,
    "start_time": "2023-02-17T13:10:03.881Z"
   },
   {
    "duration": 26,
    "start_time": "2023-02-17T13:10:03.922Z"
   },
   {
    "duration": 113,
    "start_time": "2023-02-17T13:10:03.950Z"
   },
   {
    "duration": 49,
    "start_time": "2023-02-17T13:10:04.065Z"
   },
   {
    "duration": 196,
    "start_time": "2023-02-17T13:10:04.116Z"
   },
   {
    "duration": 193,
    "start_time": "2023-02-17T13:10:04.313Z"
   },
   {
    "duration": 24,
    "start_time": "2023-02-17T13:10:04.509Z"
   },
   {
    "duration": 218,
    "start_time": "2023-02-17T13:10:04.538Z"
   },
   {
    "duration": 113,
    "start_time": "2023-02-17T13:10:04.758Z"
   },
   {
    "duration": 150,
    "start_time": "2023-02-17T13:10:04.873Z"
   },
   {
    "duration": 8,
    "start_time": "2023-02-17T13:10:05.025Z"
   },
   {
    "duration": 32,
    "start_time": "2023-02-17T13:10:05.035Z"
   },
   {
    "duration": 48,
    "start_time": "2023-02-17T13:10:05.069Z"
   },
   {
    "duration": 40,
    "start_time": "2023-02-17T13:10:05.119Z"
   },
   {
    "duration": 33,
    "start_time": "2023-02-17T13:10:05.161Z"
   },
   {
    "duration": 51,
    "start_time": "2023-02-17T13:10:05.198Z"
   },
   {
    "duration": 79,
    "start_time": "2023-02-17T13:10:05.251Z"
   },
   {
    "duration": 29,
    "start_time": "2023-02-17T13:10:05.332Z"
   },
   {
    "duration": 1262,
    "start_time": "2023-02-17T13:10:44.401Z"
   },
   {
    "duration": 165,
    "start_time": "2023-02-17T13:10:45.666Z"
   },
   {
    "duration": 31,
    "start_time": "2023-02-17T13:10:45.832Z"
   },
   {
    "duration": 3,
    "start_time": "2023-02-17T13:10:45.865Z"
   },
   {
    "duration": 29,
    "start_time": "2023-02-17T13:10:45.869Z"
   },
   {
    "duration": 368,
    "start_time": "2023-02-17T13:10:45.900Z"
   },
   {
    "duration": 118,
    "start_time": "2023-02-17T13:10:46.270Z"
   },
   {
    "duration": 36,
    "start_time": "2023-02-17T13:10:46.390Z"
   },
   {
    "duration": 146,
    "start_time": "2023-02-17T13:10:46.427Z"
   },
   {
    "duration": 76,
    "start_time": "2023-02-17T13:10:46.576Z"
   },
   {
    "duration": 28,
    "start_time": "2023-02-17T13:10:46.654Z"
   },
   {
    "duration": 44,
    "start_time": "2023-02-17T13:10:46.684Z"
   },
   {
    "duration": 37,
    "start_time": "2023-02-17T13:10:46.730Z"
   },
   {
    "duration": 125,
    "start_time": "2023-02-17T13:10:46.768Z"
   },
   {
    "duration": 30,
    "start_time": "2023-02-17T13:10:46.895Z"
   },
   {
    "duration": 318,
    "start_time": "2023-02-17T13:10:46.927Z"
   },
   {
    "duration": 295,
    "start_time": "2023-02-17T13:10:47.247Z"
   },
   {
    "duration": 4,
    "start_time": "2023-02-17T13:10:47.545Z"
   },
   {
    "duration": 16,
    "start_time": "2023-02-17T13:10:47.551Z"
   },
   {
    "duration": 75,
    "start_time": "2023-02-17T13:10:47.569Z"
   },
   {
    "duration": 33,
    "start_time": "2023-02-17T13:10:47.646Z"
   },
   {
    "duration": 45,
    "start_time": "2023-02-17T13:10:47.696Z"
   },
   {
    "duration": 106,
    "start_time": "2023-02-17T13:10:47.743Z"
   },
   {
    "duration": 46,
    "start_time": "2023-02-17T13:10:47.851Z"
   },
   {
    "duration": 196,
    "start_time": "2023-02-17T13:10:47.899Z"
   },
   {
    "duration": 183,
    "start_time": "2023-02-17T13:10:48.098Z"
   },
   {
    "duration": 23,
    "start_time": "2023-02-17T13:10:48.283Z"
   },
   {
    "duration": 15,
    "start_time": "2023-02-17T13:10:48.309Z"
   },
   {
    "duration": 104,
    "start_time": "2023-02-17T13:10:48.326Z"
   },
   {
    "duration": 144,
    "start_time": "2023-02-17T13:10:48.432Z"
   },
   {
    "duration": 18,
    "start_time": "2023-02-17T13:10:48.578Z"
   },
   {
    "duration": 31,
    "start_time": "2023-02-17T13:10:48.598Z"
   },
   {
    "duration": 22,
    "start_time": "2023-02-17T13:10:48.631Z"
   },
   {
    "duration": 26,
    "start_time": "2023-02-17T13:10:48.655Z"
   },
   {
    "duration": 10,
    "start_time": "2023-02-17T13:10:48.683Z"
   },
   {
    "duration": 40,
    "start_time": "2023-02-17T13:10:48.695Z"
   },
   {
    "duration": 13,
    "start_time": "2023-02-17T13:10:48.736Z"
   },
   {
    "duration": 29,
    "start_time": "2023-02-17T13:10:48.750Z"
   },
   {
    "duration": 1370,
    "start_time": "2023-02-20T08:28:02.055Z"
   },
   {
    "duration": 780,
    "start_time": "2023-02-20T08:28:03.427Z"
   },
   {
    "duration": 30,
    "start_time": "2023-02-20T08:28:04.212Z"
   },
   {
    "duration": 19,
    "start_time": "2023-02-20T08:28:04.244Z"
   },
   {
    "duration": 16,
    "start_time": "2023-02-20T08:28:04.264Z"
   },
   {
    "duration": 332,
    "start_time": "2023-02-20T08:28:04.282Z"
   },
   {
    "duration": 109,
    "start_time": "2023-02-20T08:28:04.615Z"
   },
   {
    "duration": 27,
    "start_time": "2023-02-20T08:28:04.725Z"
   },
   {
    "duration": 146,
    "start_time": "2023-02-20T08:28:04.753Z"
   },
   {
    "duration": 68,
    "start_time": "2023-02-20T08:28:04.902Z"
   },
   {
    "duration": 37,
    "start_time": "2023-02-20T08:28:04.971Z"
   },
   {
    "duration": 61,
    "start_time": "2023-02-20T08:28:05.010Z"
   },
   {
    "duration": 37,
    "start_time": "2023-02-20T08:28:05.075Z"
   },
   {
    "duration": 106,
    "start_time": "2023-02-20T08:28:05.114Z"
   },
   {
    "duration": 24,
    "start_time": "2023-02-20T08:28:05.222Z"
   },
   {
    "duration": 301,
    "start_time": "2023-02-20T08:28:05.248Z"
   },
   {
    "duration": 269,
    "start_time": "2023-02-20T08:28:05.551Z"
   },
   {
    "duration": 4,
    "start_time": "2023-02-20T08:28:05.822Z"
   },
   {
    "duration": 11,
    "start_time": "2023-02-20T08:28:05.827Z"
   },
   {
    "duration": 70,
    "start_time": "2023-02-20T08:28:05.840Z"
   },
   {
    "duration": 26,
    "start_time": "2023-02-20T08:28:05.912Z"
   },
   {
    "duration": 23,
    "start_time": "2023-02-20T08:28:05.939Z"
   },
   {
    "duration": 114,
    "start_time": "2023-02-20T08:28:05.964Z"
   },
   {
    "duration": 38,
    "start_time": "2023-02-20T08:28:06.080Z"
   },
   {
    "duration": 178,
    "start_time": "2023-02-20T08:28:06.120Z"
   },
   {
    "duration": 174,
    "start_time": "2023-02-20T08:28:06.300Z"
   },
   {
    "duration": 24,
    "start_time": "2023-02-20T08:28:06.476Z"
   },
   {
    "duration": 4,
    "start_time": "2023-02-20T08:28:06.502Z"
   },
   {
    "duration": 104,
    "start_time": "2023-02-20T08:28:06.508Z"
   },
   {
    "duration": 137,
    "start_time": "2023-02-20T08:28:06.613Z"
   },
   {
    "duration": 8,
    "start_time": "2023-02-20T08:28:06.751Z"
   },
   {
    "duration": 14,
    "start_time": "2023-02-20T08:28:06.761Z"
   },
   {
    "duration": 15,
    "start_time": "2023-02-20T08:28:06.777Z"
   },
   {
    "duration": 14,
    "start_time": "2023-02-20T08:28:06.799Z"
   },
   {
    "duration": 12,
    "start_time": "2023-02-20T08:28:06.815Z"
   },
   {
    "duration": 19,
    "start_time": "2023-02-20T08:28:06.828Z"
   },
   {
    "duration": 33,
    "start_time": "2023-02-20T08:28:06.849Z"
   },
   {
    "duration": 24,
    "start_time": "2023-02-20T08:28:06.884Z"
   },
   {
    "duration": 102,
    "start_time": "2023-02-20T08:29:18.689Z"
   },
   {
    "duration": 120,
    "start_time": "2023-02-20T08:29:25.973Z"
   },
   {
    "duration": 67,
    "start_time": "2023-02-20T08:29:30.094Z"
   },
   {
    "duration": 19,
    "start_time": "2023-02-20T08:29:38.118Z"
   },
   {
    "duration": 88,
    "start_time": "2023-02-20T08:29:40.925Z"
   },
   {
    "duration": 27,
    "start_time": "2023-02-20T08:29:41.765Z"
   },
   {
    "duration": 204,
    "start_time": "2023-02-20T08:29:44.309Z"
   },
   {
    "duration": 307,
    "start_time": "2023-02-20T08:30:50.798Z"
   },
   {
    "duration": 9,
    "start_time": "2023-02-20T08:30:53.726Z"
   },
   {
    "duration": 2,
    "start_time": "2023-02-20T08:37:19.681Z"
   },
   {
    "duration": 116,
    "start_time": "2023-02-20T08:44:27.964Z"
   },
   {
    "duration": 19,
    "start_time": "2023-02-20T08:44:36.617Z"
   },
   {
    "duration": 80,
    "start_time": "2023-02-20T08:44:50.252Z"
   },
   {
    "duration": 75,
    "start_time": "2023-02-20T08:44:56.816Z"
   },
   {
    "duration": 76,
    "start_time": "2023-02-20T08:46:32.709Z"
   },
   {
    "duration": 203,
    "start_time": "2023-02-20T08:52:53.988Z"
   },
   {
    "duration": 166,
    "start_time": "2023-02-20T08:52:55.702Z"
   },
   {
    "duration": 3,
    "start_time": "2023-02-20T08:55:24.291Z"
   },
   {
    "duration": 2,
    "start_time": "2023-02-20T08:55:27.365Z"
   },
   {
    "duration": 3,
    "start_time": "2023-02-20T09:02:22.363Z"
   },
   {
    "duration": 5,
    "start_time": "2023-02-20T09:13:37.906Z"
   },
   {
    "duration": 5,
    "start_time": "2023-02-20T09:13:41.322Z"
   },
   {
    "duration": 10,
    "start_time": "2023-02-20T09:13:42.268Z"
   },
   {
    "duration": 84,
    "start_time": "2023-02-20T09:54:29.720Z"
   },
   {
    "duration": 75,
    "start_time": "2023-02-20T09:54:43.861Z"
   },
   {
    "duration": 1176,
    "start_time": "2023-02-21T06:47:28.228Z"
   },
   {
    "duration": 159,
    "start_time": "2023-02-21T06:47:29.406Z"
   },
   {
    "duration": 30,
    "start_time": "2023-02-21T06:47:29.567Z"
   },
   {
    "duration": 3,
    "start_time": "2023-02-21T06:47:29.598Z"
   },
   {
    "duration": 22,
    "start_time": "2023-02-21T06:47:29.604Z"
   },
   {
    "duration": 351,
    "start_time": "2023-02-21T06:47:29.628Z"
   },
   {
    "duration": 114,
    "start_time": "2023-02-21T06:47:29.981Z"
   },
   {
    "duration": 44,
    "start_time": "2023-02-21T06:47:30.097Z"
   },
   {
    "duration": 149,
    "start_time": "2023-02-21T06:47:30.143Z"
   },
   {
    "duration": 79,
    "start_time": "2023-02-21T06:47:30.294Z"
   },
   {
    "duration": 122,
    "start_time": "2023-02-21T06:47:30.374Z"
   },
   {
    "duration": 24,
    "start_time": "2023-02-21T06:47:30.497Z"
   },
   {
    "duration": 128,
    "start_time": "2023-02-21T06:47:30.523Z"
   },
   {
    "duration": 61,
    "start_time": "2023-02-21T06:47:30.655Z"
   },
   {
    "duration": 188,
    "start_time": "2023-02-21T06:47:30.718Z"
   },
   {
    "duration": 59,
    "start_time": "2023-02-21T06:47:30.908Z"
   },
   {
    "duration": 327,
    "start_time": "2023-02-21T06:47:30.969Z"
   },
   {
    "duration": 297,
    "start_time": "2023-02-21T06:47:31.298Z"
   },
   {
    "duration": 5,
    "start_time": "2023-02-21T06:47:31.597Z"
   },
   {
    "duration": 63,
    "start_time": "2023-02-21T06:47:31.603Z"
   },
   {
    "duration": 136,
    "start_time": "2023-02-21T06:47:31.668Z"
   },
   {
    "duration": 74,
    "start_time": "2023-02-21T06:47:31.805Z"
   },
   {
    "duration": 56,
    "start_time": "2023-02-21T06:47:31.881Z"
   },
   {
    "duration": 152,
    "start_time": "2023-02-21T06:47:31.939Z"
   },
   {
    "duration": 51,
    "start_time": "2023-02-21T06:47:32.093Z"
   },
   {
    "duration": 195,
    "start_time": "2023-02-21T06:47:32.148Z"
   },
   {
    "duration": 230,
    "start_time": "2023-02-21T06:47:32.345Z"
   },
   {
    "duration": 19,
    "start_time": "2023-02-21T06:47:32.577Z"
   },
   {
    "duration": 30,
    "start_time": "2023-02-21T06:47:32.598Z"
   },
   {
    "duration": 110,
    "start_time": "2023-02-21T06:47:32.630Z"
   },
   {
    "duration": 148,
    "start_time": "2023-02-21T06:47:32.742Z"
   },
   {
    "duration": 4,
    "start_time": "2023-02-21T06:47:32.892Z"
   },
   {
    "duration": 25,
    "start_time": "2023-02-21T06:47:32.898Z"
   },
   {
    "duration": 23,
    "start_time": "2023-02-21T06:47:32.925Z"
   },
   {
    "duration": 16,
    "start_time": "2023-02-21T06:47:32.950Z"
   },
   {
    "duration": 7,
    "start_time": "2023-02-21T06:47:32.968Z"
   },
   {
    "duration": 33,
    "start_time": "2023-02-21T06:47:32.976Z"
   },
   {
    "duration": 13,
    "start_time": "2023-02-21T06:47:33.011Z"
   },
   {
    "duration": 16,
    "start_time": "2023-02-21T06:47:33.025Z"
   },
   {
    "duration": 1285,
    "start_time": "2023-02-21T06:53:21.675Z"
   },
   {
    "duration": 164,
    "start_time": "2023-02-21T06:53:22.962Z"
   },
   {
    "duration": 32,
    "start_time": "2023-02-21T06:53:23.128Z"
   },
   {
    "duration": 3,
    "start_time": "2023-02-21T06:53:23.162Z"
   },
   {
    "duration": 11,
    "start_time": "2023-02-21T06:53:23.168Z"
   },
   {
    "duration": 356,
    "start_time": "2023-02-21T06:53:23.181Z"
   },
   {
    "duration": 108,
    "start_time": "2023-02-21T06:53:23.540Z"
   },
   {
    "duration": 38,
    "start_time": "2023-02-21T06:53:23.650Z"
   },
   {
    "duration": 158,
    "start_time": "2023-02-21T06:53:23.689Z"
   },
   {
    "duration": 70,
    "start_time": "2023-02-21T06:53:23.848Z"
   },
   {
    "duration": 97,
    "start_time": "2023-02-21T06:53:23.920Z"
   },
   {
    "duration": 31,
    "start_time": "2023-02-21T06:53:24.019Z"
   },
   {
    "duration": 41,
    "start_time": "2023-02-21T06:53:24.052Z"
   },
   {
    "duration": 43,
    "start_time": "2023-02-21T06:53:24.097Z"
   },
   {
    "duration": 106,
    "start_time": "2023-02-21T06:53:24.142Z"
   },
   {
    "duration": 34,
    "start_time": "2023-02-21T06:53:24.250Z"
   },
   {
    "duration": 347,
    "start_time": "2023-02-21T06:53:24.286Z"
   },
   {
    "duration": 281,
    "start_time": "2023-02-21T06:53:24.637Z"
   },
   {
    "duration": 4,
    "start_time": "2023-02-21T06:53:24.920Z"
   },
   {
    "duration": 15,
    "start_time": "2023-02-21T06:53:24.925Z"
   },
   {
    "duration": 74,
    "start_time": "2023-02-21T06:53:24.942Z"
   },
   {
    "duration": 41,
    "start_time": "2023-02-21T06:53:25.018Z"
   },
   {
    "duration": 36,
    "start_time": "2023-02-21T06:53:25.060Z"
   },
   {
    "duration": 104,
    "start_time": "2023-02-21T06:53:25.098Z"
   },
   {
    "duration": 43,
    "start_time": "2023-02-21T06:53:25.204Z"
   },
   {
    "duration": 191,
    "start_time": "2023-02-21T06:53:25.249Z"
   },
   {
    "duration": 183,
    "start_time": "2023-02-21T06:53:25.442Z"
   },
   {
    "duration": 21,
    "start_time": "2023-02-21T06:53:25.627Z"
   },
   {
    "duration": 24,
    "start_time": "2023-02-21T06:53:25.649Z"
   },
   {
    "duration": 112,
    "start_time": "2023-02-21T06:53:25.675Z"
   },
   {
    "duration": 139,
    "start_time": "2023-02-21T06:53:25.789Z"
   },
   {
    "duration": 8,
    "start_time": "2023-02-21T06:53:25.930Z"
   },
   {
    "duration": 12,
    "start_time": "2023-02-21T06:53:25.940Z"
   },
   {
    "duration": 15,
    "start_time": "2023-02-21T06:53:25.953Z"
   },
   {
    "duration": 23,
    "start_time": "2023-02-21T06:53:25.970Z"
   },
   {
    "duration": 12,
    "start_time": "2023-02-21T06:53:25.995Z"
   },
   {
    "duration": 26,
    "start_time": "2023-02-21T06:53:26.009Z"
   },
   {
    "duration": 16,
    "start_time": "2023-02-21T06:53:26.037Z"
   },
   {
    "duration": 10,
    "start_time": "2023-02-21T06:53:26.055Z"
   }
  ],
  "kernelspec": {
   "display_name": "Python 3 (ipykernel)",
   "language": "python",
   "name": "python3"
  },
  "language_info": {
   "codemirror_mode": {
    "name": "ipython",
    "version": 3
   },
   "file_extension": ".py",
   "mimetype": "text/x-python",
   "name": "python",
   "nbconvert_exporter": "python",
   "pygments_lexer": "ipython3",
   "version": "3.9.13"
  },
  "toc": {
   "base_numbering": 1,
   "nav_menu": {},
   "number_sections": true,
   "sideBar": true,
   "skip_h1_title": true,
   "title_cell": "Table of Contents",
   "title_sidebar": "Contents",
   "toc_cell": false,
   "toc_position": {},
   "toc_section_display": true,
   "toc_window_display": false
  }
 },
 "nbformat": 4,
 "nbformat_minor": 2
}
