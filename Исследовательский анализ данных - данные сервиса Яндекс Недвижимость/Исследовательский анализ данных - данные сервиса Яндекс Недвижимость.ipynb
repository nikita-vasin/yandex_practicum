{
 "cells": [
  {
   "cell_type": "markdown",
   "metadata": {},
   "source": [
    "# Исследование объявлений о продаже квартир\n",
    "\n",
    "В распоряжении данные сервиса Яндекс.Недвижимость — архив объявлений о продаже квартир в Санкт-Петербурге и соседних населённых пунктов за несколько лет. Определить рыночную стоимость объектов недвижимости.\n",
    "\n",
    "По каждой квартире на продажу доступны два вида данных. Первые вписаны пользователем, вторые — получены автоматически на основе картографических данных. Например, расстояние до центра, аэропорта, ближайшего парка и водоёма. "
   ]
  },
  {
   "cell_type": "markdown",
   "metadata": {},
   "source": [
    "### Открываем файл с данными и изучаем общую информацию. "
   ]
  },
  {
   "cell_type": "code",
   "execution_count": 1,
   "metadata": {},
   "outputs": [],
   "source": [
    "import matplotlib.pyplot as plt\n",
    "import numpy as np\n",
    "import pandas as pd"
   ]
  },
  {
   "cell_type": "code",
   "execution_count": 2,
   "metadata": {},
   "outputs": [
    {
     "name": "stdout",
     "output_type": "stream",
     "text": [
      "<class 'pandas.core.frame.DataFrame'>\n",
      "RangeIndex: 23699 entries, 0 to 23698\n",
      "Data columns (total 22 columns):\n",
      " #   Column                Non-Null Count  Dtype  \n",
      "---  ------                --------------  -----  \n",
      " 0   total_images          23699 non-null  int64  \n",
      " 1   last_price            23699 non-null  float64\n",
      " 2   total_area            23699 non-null  float64\n",
      " 3   first_day_exposition  23699 non-null  object \n",
      " 4   rooms                 23699 non-null  int64  \n",
      " 5   ceiling_height        14504 non-null  float64\n",
      " 6   floors_total          23613 non-null  float64\n",
      " 7   living_area           21796 non-null  float64\n",
      " 8   floor                 23699 non-null  int64  \n",
      " 9   is_apartment          2775 non-null   object \n",
      " 10  studio                23699 non-null  bool   \n",
      " 11  open_plan             23699 non-null  bool   \n",
      " 12  kitchen_area          21421 non-null  float64\n",
      " 13  balcony               12180 non-null  float64\n",
      " 14  locality_name         23650 non-null  object \n",
      " 15  airports_nearest      18157 non-null  float64\n",
      " 16  cityCenters_nearest   18180 non-null  float64\n",
      " 17  parks_around3000      18181 non-null  float64\n",
      " 18  parks_nearest         8079 non-null   float64\n",
      " 19  ponds_around3000      18181 non-null  float64\n",
      " 20  ponds_nearest         9110 non-null   float64\n",
      " 21  days_exposition       20518 non-null  float64\n",
      "dtypes: bool(2), float64(14), int64(3), object(3)\n",
      "memory usage: 3.7+ MB\n"
     ]
    }
   ],
   "source": [
    "data = pd.read_csv('/datasets/real_estate_data.csv', sep='\\t')\n",
    "data.info()"
   ]
  },
  {
   "cell_type": "markdown",
   "metadata": {},
   "source": [
    "Видны пропуски в колонках, так же неверные типы данных. К примеру колонка first_day_exposition имеет тип object, хотя должен быть DataTime.Колонка is_apartment с object, хотя должен быть bool."
   ]
  },
  {
   "cell_type": "code",
   "execution_count": 3,
   "metadata": {},
   "outputs": [
    {
     "data": {
      "text/html": [
       "<div>\n",
       "<style scoped>\n",
       "    .dataframe tbody tr th:only-of-type {\n",
       "        vertical-align: middle;\n",
       "    }\n",
       "\n",
       "    .dataframe tbody tr th {\n",
       "        vertical-align: top;\n",
       "    }\n",
       "\n",
       "    .dataframe thead th {\n",
       "        text-align: right;\n",
       "    }\n",
       "</style>\n",
       "<table border=\"1\" class=\"dataframe\">\n",
       "  <thead>\n",
       "    <tr style=\"text-align: right;\">\n",
       "      <th></th>\n",
       "      <th>total_images</th>\n",
       "      <th>last_price</th>\n",
       "      <th>total_area</th>\n",
       "      <th>first_day_exposition</th>\n",
       "      <th>rooms</th>\n",
       "      <th>ceiling_height</th>\n",
       "      <th>floors_total</th>\n",
       "      <th>living_area</th>\n",
       "      <th>floor</th>\n",
       "      <th>is_apartment</th>\n",
       "      <th>studio</th>\n",
       "      <th>open_plan</th>\n",
       "      <th>kitchen_area</th>\n",
       "      <th>balcony</th>\n",
       "      <th>locality_name</th>\n",
       "      <th>airports_nearest</th>\n",
       "      <th>cityCenters_nearest</th>\n",
       "      <th>parks_around3000</th>\n",
       "      <th>parks_nearest</th>\n",
       "      <th>ponds_around3000</th>\n",
       "      <th>ponds_nearest</th>\n",
       "      <th>days_exposition</th>\n",
       "    </tr>\n",
       "  </thead>\n",
       "  <tbody>\n",
       "    <tr>\n",
       "      <th>0</th>\n",
       "      <td>20</td>\n",
       "      <td>13000000.0</td>\n",
       "      <td>108.0</td>\n",
       "      <td>2019-03-07T00:00:00</td>\n",
       "      <td>3</td>\n",
       "      <td>2.70</td>\n",
       "      <td>16.0</td>\n",
       "      <td>51.0</td>\n",
       "      <td>8</td>\n",
       "      <td>NaN</td>\n",
       "      <td>False</td>\n",
       "      <td>False</td>\n",
       "      <td>25.0</td>\n",
       "      <td>NaN</td>\n",
       "      <td>Санкт-Петербург</td>\n",
       "      <td>18863.0</td>\n",
       "      <td>16028.0</td>\n",
       "      <td>1.0</td>\n",
       "      <td>482.0</td>\n",
       "      <td>2.0</td>\n",
       "      <td>755.0</td>\n",
       "      <td>NaN</td>\n",
       "    </tr>\n",
       "    <tr>\n",
       "      <th>1</th>\n",
       "      <td>7</td>\n",
       "      <td>3350000.0</td>\n",
       "      <td>40.4</td>\n",
       "      <td>2018-12-04T00:00:00</td>\n",
       "      <td>1</td>\n",
       "      <td>NaN</td>\n",
       "      <td>11.0</td>\n",
       "      <td>18.6</td>\n",
       "      <td>1</td>\n",
       "      <td>NaN</td>\n",
       "      <td>False</td>\n",
       "      <td>False</td>\n",
       "      <td>11.0</td>\n",
       "      <td>2.0</td>\n",
       "      <td>посёлок Шушары</td>\n",
       "      <td>12817.0</td>\n",
       "      <td>18603.0</td>\n",
       "      <td>0.0</td>\n",
       "      <td>NaN</td>\n",
       "      <td>0.0</td>\n",
       "      <td>NaN</td>\n",
       "      <td>81.0</td>\n",
       "    </tr>\n",
       "    <tr>\n",
       "      <th>2</th>\n",
       "      <td>10</td>\n",
       "      <td>5196000.0</td>\n",
       "      <td>56.0</td>\n",
       "      <td>2015-08-20T00:00:00</td>\n",
       "      <td>2</td>\n",
       "      <td>NaN</td>\n",
       "      <td>5.0</td>\n",
       "      <td>34.3</td>\n",
       "      <td>4</td>\n",
       "      <td>NaN</td>\n",
       "      <td>False</td>\n",
       "      <td>False</td>\n",
       "      <td>8.3</td>\n",
       "      <td>0.0</td>\n",
       "      <td>Санкт-Петербург</td>\n",
       "      <td>21741.0</td>\n",
       "      <td>13933.0</td>\n",
       "      <td>1.0</td>\n",
       "      <td>90.0</td>\n",
       "      <td>2.0</td>\n",
       "      <td>574.0</td>\n",
       "      <td>558.0</td>\n",
       "    </tr>\n",
       "    <tr>\n",
       "      <th>3</th>\n",
       "      <td>0</td>\n",
       "      <td>64900000.0</td>\n",
       "      <td>159.0</td>\n",
       "      <td>2015-07-24T00:00:00</td>\n",
       "      <td>3</td>\n",
       "      <td>NaN</td>\n",
       "      <td>14.0</td>\n",
       "      <td>NaN</td>\n",
       "      <td>9</td>\n",
       "      <td>NaN</td>\n",
       "      <td>False</td>\n",
       "      <td>False</td>\n",
       "      <td>NaN</td>\n",
       "      <td>0.0</td>\n",
       "      <td>Санкт-Петербург</td>\n",
       "      <td>28098.0</td>\n",
       "      <td>6800.0</td>\n",
       "      <td>2.0</td>\n",
       "      <td>84.0</td>\n",
       "      <td>3.0</td>\n",
       "      <td>234.0</td>\n",
       "      <td>424.0</td>\n",
       "    </tr>\n",
       "    <tr>\n",
       "      <th>4</th>\n",
       "      <td>2</td>\n",
       "      <td>10000000.0</td>\n",
       "      <td>100.0</td>\n",
       "      <td>2018-06-19T00:00:00</td>\n",
       "      <td>2</td>\n",
       "      <td>3.03</td>\n",
       "      <td>14.0</td>\n",
       "      <td>32.0</td>\n",
       "      <td>13</td>\n",
       "      <td>NaN</td>\n",
       "      <td>False</td>\n",
       "      <td>False</td>\n",
       "      <td>41.0</td>\n",
       "      <td>NaN</td>\n",
       "      <td>Санкт-Петербург</td>\n",
       "      <td>31856.0</td>\n",
       "      <td>8098.0</td>\n",
       "      <td>2.0</td>\n",
       "      <td>112.0</td>\n",
       "      <td>1.0</td>\n",
       "      <td>48.0</td>\n",
       "      <td>121.0</td>\n",
       "    </tr>\n",
       "  </tbody>\n",
       "</table>\n",
       "</div>"
      ],
      "text/plain": [
       "   total_images  last_price  total_area first_day_exposition  rooms  \\\n",
       "0            20  13000000.0       108.0  2019-03-07T00:00:00      3   \n",
       "1             7   3350000.0        40.4  2018-12-04T00:00:00      1   \n",
       "2            10   5196000.0        56.0  2015-08-20T00:00:00      2   \n",
       "3             0  64900000.0       159.0  2015-07-24T00:00:00      3   \n",
       "4             2  10000000.0       100.0  2018-06-19T00:00:00      2   \n",
       "\n",
       "   ceiling_height  floors_total  living_area  floor is_apartment  studio  \\\n",
       "0            2.70          16.0         51.0      8          NaN   False   \n",
       "1             NaN          11.0         18.6      1          NaN   False   \n",
       "2             NaN           5.0         34.3      4          NaN   False   \n",
       "3             NaN          14.0          NaN      9          NaN   False   \n",
       "4            3.03          14.0         32.0     13          NaN   False   \n",
       "\n",
       "   open_plan  kitchen_area  balcony    locality_name  airports_nearest  \\\n",
       "0      False          25.0      NaN  Санкт-Петербург           18863.0   \n",
       "1      False          11.0      2.0   посёлок Шушары           12817.0   \n",
       "2      False           8.3      0.0  Санкт-Петербург           21741.0   \n",
       "3      False           NaN      0.0  Санкт-Петербург           28098.0   \n",
       "4      False          41.0      NaN  Санкт-Петербург           31856.0   \n",
       "\n",
       "   cityCenters_nearest  parks_around3000  parks_nearest  ponds_around3000  \\\n",
       "0              16028.0               1.0          482.0               2.0   \n",
       "1              18603.0               0.0            NaN               0.0   \n",
       "2              13933.0               1.0           90.0               2.0   \n",
       "3               6800.0               2.0           84.0               3.0   \n",
       "4               8098.0               2.0          112.0               1.0   \n",
       "\n",
       "   ponds_nearest  days_exposition  \n",
       "0          755.0              NaN  \n",
       "1            NaN             81.0  \n",
       "2          574.0            558.0  \n",
       "3          234.0            424.0  \n",
       "4           48.0            121.0  "
      ]
     },
     "execution_count": 3,
     "metadata": {},
     "output_type": "execute_result"
    }
   ],
   "source": [
    "#Вывожу первые 5 строк датасета.\n",
    "pd.set_option('display.max_columns', None)\n",
    "data.head(5)\n"
   ]
  },
  {
   "cell_type": "code",
   "execution_count": 4,
   "metadata": {},
   "outputs": [
    {
     "data": {
      "text/plain": [
       "';'"
      ]
     },
     "execution_count": 4,
     "metadata": {},
     "output_type": "execute_result"
    },
    {
     "data": {
      "image/png": "[encoded data removed]",
      "text/plain": [
       "<Figure size 1080x1440 with 20 Axes>"
      ]
     },
     "metadata": {
      "needs_background": "light"
     },
     "output_type": "display_data"
    }
   ],
   "source": [
    "#Вывожу гистограммы для каждого числового столбца датасета. Данные пока не корректировались.\n",
    "data.hist(figsize=(15, 20))\n",
    "\";\""
   ]
  },
  {
   "cell_type": "markdown",
   "metadata": {},
   "source": [
    "В ряде колонок имеются пропуски, об этом свидетельствуют строки со значениями NaN. Так же имеются выбросы в данных, это хорошо видно на гистограммах, аномальные значения можно увидеть в колонке с общей площадью квартиры к примеру со значением в 159 квадратных метров. Некоторые типы данных следует поменять на привычные, для удобного анализа, к примеру float на int.  "
   ]
  },
  {
   "cell_type": "markdown",
   "metadata": {},
   "source": [
    "### Предобработка данных"
   ]
  },
  {
   "cell_type": "code",
   "execution_count": 5,
   "metadata": {},
   "outputs": [
    {
     "data": {
      "text/plain": [
       "total_images                0\n",
       "last_price                  0\n",
       "total_area                  0\n",
       "first_day_exposition        0\n",
       "rooms                       0\n",
       "ceiling_height           9195\n",
       "floors_total               86\n",
       "living_area              1903\n",
       "floor                       0\n",
       "is_apartment                0\n",
       "studio                      0\n",
       "open_plan                   0\n",
       "kitchen_area             2278\n",
       "balcony                     0\n",
       "locality_name              49\n",
       "airports_nearest         5542\n",
       "cityCenters_nearest      5519\n",
       "parks_around3000         5518\n",
       "parks_nearest           15620\n",
       "ponds_around3000         5518\n",
       "ponds_nearest           14589\n",
       "days_exposition          3181\n",
       "dtype: int64"
      ]
     },
     "execution_count": 5,
     "metadata": {},
     "output_type": "execute_result"
    }
   ],
   "source": [
    "#В колонке балконы заполняем пропуски нулями т.к. если продавец не указал кол во балконов - значит их просто нет. \n",
    "#Так же меняю тип данных на int для удобного анализа и визуализации. \n",
    "data['balcony'] = data['balcony'].fillna(0)\n",
    "data['balcony'] = data['balcony'].astype('int')\n",
    "\n",
    "#Меняю тип данных на int для удобства анализа и визуализации\n",
    "data['parks_around3000'] = np.floor(pd.to_numeric(data['parks_around3000'], errors='coerce')).astype('Int64')\n",
    "data['ponds_around3000'] = np.floor(pd.to_numeric(data['ponds_around3000'], errors='coerce')).astype('Int64')\n",
    "data['days_exposition'] = np.floor(pd.to_numeric(data['days_exposition'], errors='coerce')).astype('Int64')\n",
    "\n",
    "data['is_apartment'] = data['is_apartment'].astype('bool')\n",
    "data['last_price'] = data['last_price'].astype('int')\n",
    "\n",
    "\n",
    "#first_day_exposition - object - должен быть тип datetime, меняю тип данных и заполняю пропуски нулями.\n",
    "data['first_day_exposition'] = pd.to_datetime(data['first_day_exposition'],format='%Y-%m-%d')\n",
    "\n",
    "#проверка заполнения пропусков\n",
    "data.isna().sum()"
   ]
  },
  {
   "cell_type": "code",
   "execution_count": 6,
   "metadata": {},
   "outputs": [
    {
     "data": {
      "text/plain": [
       "0"
      ]
     },
     "execution_count": 6,
     "metadata": {},
     "output_type": "execute_result"
    }
   ],
   "source": [
    "#Колонку \"всего этажей в доме\" заполняем медианными значениями. Медиана усточевее к выбросам, и нулями не заполнить т.к. \n",
    "#0 этажного здания не существует.\n",
    "data['floors_total'].value_counts().head(20)\n",
    "flor_avg = data['floors_total'].median()\n",
    "data['floors_total'] = data['floors_total'].fillna(flor_avg)\n",
    "data['floors_total'] = data['floors_total'].astype('int')\n",
    "data['floors_total'].isna().sum()\n"
   ]
  },
  {
   "cell_type": "code",
   "execution_count": 7,
   "metadata": {},
   "outputs": [
    {
     "data": {
      "text/plain": [
       "array(['Санкт-Петербург', 'посёлок Шушары', 'посёлок Янино-1',\n",
       "       'посёлок Парголово', 'посёлок Мурино', 'Ломоносов', 'Сертолово',\n",
       "       'Петергоф', 'Пушкин', 'деревня Кудрово', 'Коммунар', 'Колпино',\n",
       "       'посёлок Красный Бор', 'Гатчина', 'деревня Фёдоровское', 'Выборг',\n",
       "       'Кронштадт', 'Кировск', 'деревня Новое Девяткино',\n",
       "       'посёлок Металлострой', 'посёлок Лебяжье', 'посёлок Сиверский',\n",
       "       'посёлок Молодцово', 'посёлок Кузьмоловский',\n",
       "       'деревня Новая Ропша', 'Павловск', 'деревня Пикколово',\n",
       "       'Всеволожск', 'Волхов', 'Кингисепп', 'Приозерск', 'Сестрорецк',\n",
       "       'деревня Куттузи', 'посёлок Аннино', 'посёлок Ефимовский',\n",
       "       'посёлок Плодовое', 'деревня Заклинье', 'посёлок Торковичи',\n",
       "       'посёлок Первомайское', 'Красное Село', 'посёлок Понтонный',\n",
       "       'Сясьстрой', 'деревня Старая', 'деревня Лесколово',\n",
       "       'посёлок Новый Свет', 'Сланцы', 'село Путилово', 'Ивангород',\n",
       "       'Мурино', 'Шлиссельбург', 'Никольское', 'Зеленогорск',\n",
       "       'Сосновый Бор', 'деревня Оржицы', 'деревня Кальтино', 'Кудрово',\n",
       "       'посёлок Романовка', 'посёлок Бугры', 'посёлок Рощино', 'Кириши',\n",
       "       'Луга', 'Волосово', 'Отрадное', 'село Павлово', 'посёлок Оредеж',\n",
       "       'село Копорье', 'посёлок Молодёжное', 'Тихвин', 'посёлок Победа',\n",
       "       'деревня Нурма', 'посёлок Синявино', 'Тосно', 'посёлок Стрельна',\n",
       "       'Бокситогорск', 'посёлок Александровская', 'деревня Лопухинка',\n",
       "       'Пикалёво', 'посёлок Терволово', 'посёлок Советский', 'Подпорожье',\n",
       "       'посёлок Петровское', 'посёлок Токсово', 'посёлок Сельцо',\n",
       "       'посёлок Вырица', 'деревня Кипень', 'деревня Келози',\n",
       "       'деревня Вартемяги', 'посёлок Тельмана', 'посёлок Севастьяново',\n",
       "       'посёлок Большая Ижора', nan, 'посёлок Павлово',\n",
       "       'деревня Агалатово', 'посёлок Новогорелово', 'посёлок Лесогорский',\n",
       "       'деревня Лаголово', 'посёлок Цвелодубово', 'посёлок Рахья',\n",
       "       'деревня Белогорка', 'посёлок Заводской', 'посёлок Новоселье',\n",
       "       'деревня Большие Колпаны', 'деревня Горбунки', 'деревня Батово',\n",
       "       'деревня Заневка', 'деревня Иссад', 'Приморск',\n",
       "       'посёлок Фёдоровское', 'деревня Мистолово', 'Новая Ладога',\n",
       "       'посёлок Зимитицы', 'посёлок Барышево', 'деревня Разметелево',\n",
       "       'посёлок имени Свердлова', 'деревня Пеники', 'посёлок Рябово',\n",
       "       'деревня Пудомяги', 'посёлок Корнево', 'деревня Низино',\n",
       "       'деревня Бегуницы', 'посёлок Поляны', 'посёлок Мга',\n",
       "       'посёлок Елизаветино', 'посёлок Кузнечное', 'деревня Колтуши',\n",
       "       'посёлок Запорожское', 'деревня Гостилицы',\n",
       "       'деревня Малое Карлино', 'посёлок Мичуринское',\n",
       "       'посёлок имени Морозова', 'посёлок Песочный', 'посёлок Сосново',\n",
       "       'деревня Аро', 'посёлок Ильичёво', 'посёлок Тайцы',\n",
       "       'деревня Малое Верево', 'деревня Извара', 'посёлок Вещево',\n",
       "       'село Паша', 'деревня Калитино', 'посёлок Ульяновка',\n",
       "       'деревня Чудской Бор', 'посёлок Дубровка', 'деревня Мины',\n",
       "       'посёлок Войсковицы', 'деревня Коркино', 'посёлок Ропша',\n",
       "       'посёлок Приладожский', 'посёлок Щеглово', 'посёлок Гаврилово',\n",
       "       'Лодейное Поле', 'деревня Рабитицы', 'посёлок Никольский',\n",
       "       'деревня Кузьмолово', 'деревня Малые Колпаны',\n",
       "       'посёлок Петро-Славянка', 'посёлок Назия', 'посёлок Репино',\n",
       "       'посёлок Углово', 'посёлок Старая Малукса', 'деревня Рахья',\n",
       "       'деревня Меньково', 'деревня Старые Бегуницы', 'посёлок Сапёрный',\n",
       "       'посёлок Семрино', 'посёлок Глажево', 'посёлок Кобринское',\n",
       "       'деревня Гарболово', 'деревня Юкки', 'посёлок Приветнинское',\n",
       "       'деревня Мануйлово', 'деревня Пчева', 'посёлок Цвылёво',\n",
       "       'посёлок Мельниково', 'посёлок Пудость', 'посёлок Усть-Луга',\n",
       "       'Светогорск', 'Любань', 'посёлок Селезнёво', 'Каменногорск',\n",
       "       'деревня Кривко', 'посёлок Глебычево', 'деревня Парицы',\n",
       "       'посёлок Жилпосёлок', 'посёлок Войскорово', 'село Никольское',\n",
       "       'посёлок Стеклянный', 'посёлок Важины', 'посёлок Мыза-Ивановка',\n",
       "       'село Русско-Высоцкое', 'посёлок Форносово', 'село Старая Ладога',\n",
       "       'посёлок Житково', 'посёлок Виллози', 'деревня Лампово',\n",
       "       'деревня Шпаньково', 'деревня Лаврики', 'посёлок Сумино',\n",
       "       'посёлок Возрождение', 'деревня Старосиверская',\n",
       "       'посёлок Кикерино', 'деревня Старое Хинколово',\n",
       "       'посёлок Пригородный', 'посёлок Торфяное', 'посёлок Будогощь',\n",
       "       'посёлок Суходолье', 'посёлок Красная Долина', 'деревня Хапо-Ое',\n",
       "       'посёлок Дружная Горка', 'посёлок Лисий Нос', 'деревня Яльгелево',\n",
       "       'село Рождествено', 'деревня Старополье', 'посёлок Левашово',\n",
       "       'деревня Сяськелево', 'деревня Камышовка',\n",
       "       'садоводческое некоммерческое товарищество Лесная Поляна',\n",
       "       'деревня Хязельки', 'посёлок Жилгородок', 'деревня Ялгино',\n",
       "       'посёлок Новый Учхоз', 'посёлок Гончарово', 'посёлок Почап',\n",
       "       'посёлок Сапёрное', 'посёлок Платформа 69-й километр',\n",
       "       'посёлок Каложицы', 'деревня Фалилеево', 'деревня Пельгора',\n",
       "       'деревня Торошковичи', 'посёлок Белоостров', 'посёлок Алексеевка',\n",
       "       'посёлок Серебрянский', 'посёлок Лукаши', 'деревня Щеглово',\n",
       "       'деревня Тарасово', 'посёлок Кингисеппский', 'посёлок Ушаки',\n",
       "       'деревня Котлы', 'деревня Сижно', 'деревня Торосово',\n",
       "       'посёлок Форт Красная Горка', 'деревня Новолисино',\n",
       "       'посёлок Громово', 'деревня Глинка', 'деревня Старая Пустошь',\n",
       "       'посёлок Коммунары', 'посёлок Починок', 'посёлок Вознесенье',\n",
       "       'деревня Разбегаево', 'посёлок Гладкое', 'посёлок Тёсово-4',\n",
       "       'деревня Бор', 'посёлок Коробицыно', 'деревня Большая Вруда',\n",
       "       'деревня Курковицы', 'посёлок Кобралово', 'деревня Суоранда',\n",
       "       'посёлок Кондратьево', 'посёлок Счастье', 'посёлок Любань',\n",
       "       'деревня Реброво', 'деревня Зимитицы', 'деревня Тойворово',\n",
       "       'посёлок Семиозерье', 'посёлок Лесное', 'посёлок Совхозный',\n",
       "       'посёлок Ленинское', 'посёлок Суйда', 'деревня Нижние Осельки',\n",
       "       'посёлок Свирь', 'посёлок Перово', 'Высоцк', 'посёлок Гарболово',\n",
       "       'село Шум', 'посёлок Котельский', 'посёлок Лужайка',\n",
       "       'деревня Большая Пустомержа', 'посёлок Красносельское',\n",
       "       'деревня Вахнова Кара', 'деревня Пижма', 'посёлок Кивеннапа Север',\n",
       "       'посёлок Ромашки', 'деревня Каськово', 'деревня Куровицы',\n",
       "       'посёлок Плоское', 'посёлок Кирпичное', 'деревня Ям-Тесово',\n",
       "       'деревня Раздолье', 'деревня Терпилицы', 'посёлок Шугозеро',\n",
       "       'деревня Ваганово', 'посёлок Пушное', 'деревня Садко',\n",
       "       'посёлок Усть-Ижора', 'деревня Выскатка', 'посёлок Свирьстрой',\n",
       "       'деревня Кисельня', 'деревня Трубников Бор', 'посёлок Калитино',\n",
       "       'посёлок Высокоключевой', 'деревня Приладожский',\n",
       "       'Пансионат Зелёный Бор', 'деревня Ненимяки', 'деревня Снегирёвка',\n",
       "       'деревня Рапполово', 'деревня Пустынка', 'посёлок Рабитицы',\n",
       "       'деревня Большой Сабск', 'деревня Русско', 'деревня Лупполово',\n",
       "       'деревня Большое Рейзино', 'деревня Малая Романовка',\n",
       "       'посёлок Дружноселье', 'посёлок Пчевжа', 'посёлок Володарское',\n",
       "       'деревня Нижняя', 'деревня Тихковицы', 'деревня Борисова Грива',\n",
       "       'посёлок Дзержинского'], dtype=object)"
      ]
     },
     "execution_count": 7,
     "metadata": {},
     "output_type": "execute_result"
    }
   ],
   "source": [
    "# Обработка неявных дубликатов. Привеодим все общие категории к единому виду. \n",
    "data['locality_name'] = data['locality_name'].str.replace('поселок','посёлок')\n",
    "data['locality_name'] = data['locality_name'].str.replace('посёлок городского типа','посёлок')\n",
    "data['locality_name'] = data['locality_name'].str.replace('городской посёлок','посёлок')\n",
    "data['locality_name'] = data['locality_name'].str.replace('посёлок при железнодорожной станции','посёлок')\n",
    "data['locality_name'] = data['locality_name'].str.replace('коттеджный посёлок','посёлок')\n",
    "data['locality_name'] = data['locality_name'].str.replace('садовое товарищество','деревня')\n",
    "data['locality_name'] = data['locality_name'].str.replace('посёлок Пансионат','Пансионат')\n",
    "data['locality_name'] = data['locality_name'].str.replace('посёлок станции','посёлок')\n",
    "data['locality_name'].unique()"
   ]
  },
  {
   "cell_type": "code",
   "execution_count": 8,
   "metadata": {},
   "outputs": [
    {
     "data": {
      "text/plain": [
       "Санкт-Петербург          15721\n",
       "посёлок Мурино             556\n",
       "посёлок Шушары             440\n",
       "Всеволожск                 398\n",
       "Пушкин                     369\n",
       "                         ...  \n",
       "деревня Раздолье             1\n",
       "посёлок Свирьстрой           1\n",
       "село Никольское              1\n",
       "деревня Трубников Бор        1\n",
       "посёлок Ромашки              1\n",
       "Name: locality_name, Length: 318, dtype: int64"
      ]
     },
     "execution_count": 8,
     "metadata": {},
     "output_type": "execute_result"
    }
   ],
   "source": [
    "data['locality_name'].value_counts()"
   ]
  },
  {
   "cell_type": "code",
   "execution_count": 9,
   "metadata": {
    "scrolled": true
   },
   "outputs": [
    {
     "data": {
      "text/plain": [
       "count    23699.000000\n",
       "mean         2.685559\n",
       "std          0.992411\n",
       "min          1.000000\n",
       "25%          2.550000\n",
       "50%          2.550000\n",
       "75%          2.700000\n",
       "max        100.000000\n",
       "Name: ceiling_height, dtype: float64"
      ]
     },
     "execution_count": 9,
     "metadata": {},
     "output_type": "execute_result"
    }
   ],
   "source": [
    "#Меняю пустые значения на медиану. Делаю срез без слишком низких и слишком высоких значений. \n",
    "#Считаю медиану из уже чистых данных.\n",
    "data['low_height'] = data['ceiling_height'] < 2.4\n",
    "data['max_height'] = data['ceiling_height'] > 3\n",
    "too_fast_stat = data.pivot_table(index='locality_name', values='low_height')\n",
    "good_ids = too_fast_stat.query('low_height < 0.5')\n",
    "good_data = data.query('locality_name in @good_ids.index')\n",
    "good_data = good_data.query('2.4 <= ceiling_height <= 3')\n",
    "good_data['locality_name'].count()\n",
    "good_stations_stat = good_data.pivot_table(index='locality_name',values='ceiling_height',aggfunc='median')\n",
    "\n",
    "#Заполняю пропуски медианным значением из чистых данных \n",
    "data['ceiling_height'] = data['ceiling_height'].fillna(2.55)\n",
    "data['ceiling_height'].describe()"
   ]
  },
  {
   "cell_type": "code",
   "execution_count": 10,
   "metadata": {
    "scrolled": true
   },
   "outputs": [
    {
     "data": {
      "text/plain": [
       "array([2.7 , 2.55, 3.03, 2.5 , 2.67, 2.56, 3.05, 2.75, 2.6 , 2.9 , 2.8 ,\n",
       "       2.65, 3.2 , 2.61, 3.25, 3.45, 2.77, 2.85, 2.64, 2.57, 4.15, 3.5 ,\n",
       "       3.3 , 2.71, 2.47, 2.73, 2.84, 3.1 , 2.34, 3.4 , 3.06, 2.72, 2.54,\n",
       "       2.51, 2.78, 2.76, 2.58, 3.7 , 2.52, 5.2 , 2.87, 2.66, 2.59, 2.45,\n",
       "       3.6 , 2.92, 3.11, 3.13, 3.8 , 3.15, 3.55, 3.16, 3.62, 3.12, 2.53,\n",
       "       2.74, 2.96, 2.46, 5.3 , 2.79, 2.95, 4.06, 2.94, 3.82, 3.54, 3.53,\n",
       "       2.83, 4.7 , 2.4 , 3.38, 3.01, 5.6 , 3.65, 3.9 , 3.18, 3.35, 2.3 ,\n",
       "       3.57, 2.48, 2.62, 2.82, 3.98, 2.63, 3.83, 3.52, 3.95, 3.75, 2.88,\n",
       "       3.67, 3.87, 3.66, 3.85, 3.86, 4.19, 3.24, 4.8 , 4.5 , 4.2 , 3.36,\n",
       "       3.08, 3.68, 3.07, 3.37, 3.09, 3.26, 3.34, 2.81, 3.44, 2.97, 3.14,\n",
       "       4.37, 2.68, 3.22, 3.27, 4.1 , 2.93, 3.46, 3.47, 3.33, 3.63, 3.32,\n",
       "       1.2 , 2.98, 2.86, 3.17, 4.4 , 3.28, 3.04, 4.45, 3.84, 3.23, 3.02,\n",
       "       3.21, 3.43, 3.78, 4.3 , 3.39, 2.69, 3.31, 4.65, 3.56, 2.2 , 3.51,\n",
       "       3.93, 3.42, 2.99, 3.49, 4.14, 2.91, 3.88, 1.75, 4.25, 3.29, 2.25,\n",
       "       3.76, 3.69, 2.89, 3.58, 5.8 , 2.49, 4.9 , 3.48, 3.59])"
      ]
     },
     "execution_count": 10,
     "metadata": {},
     "output_type": "execute_result"
    }
   ],
   "source": [
    "#Избавляюсь от странных значений путём их замены на медианные значения \n",
    "data['ceiling_height'] = data['ceiling_height'].replace(3. ,2.55)\n",
    "data['ceiling_height'] = data['ceiling_height'].replace(4.  ,2.55)\n",
    "data['ceiling_height'] = data['ceiling_height'].replace(25.  ,2.55)\n",
    "data['ceiling_height'] = data['ceiling_height'].replace(2.  ,2.55)\n",
    "data['ceiling_height'] = data['ceiling_height'].replace(5.  ,2.55)\n",
    "data['ceiling_height'] = data['ceiling_height'].replace(32.  ,2.55)\n",
    "data['ceiling_height'] = data['ceiling_height'].replace(8.  ,2.55)\n",
    "data['ceiling_height'] = data['ceiling_height'].replace(27.  ,2.55)\n",
    "data['ceiling_height'] = data['ceiling_height'].replace(24.  ,2.55)\n",
    "data['ceiling_height'] = data['ceiling_height'].replace(26.  ,2.55)\n",
    "data['ceiling_height'] = data['ceiling_height'].replace(8.3 ,2.55)\n",
    "data['ceiling_height'] = data['ceiling_height'].replace(5.5 ,2.55)\n",
    "data['ceiling_height'] = data['ceiling_height'].replace(14.  ,2.55)\n",
    "data['ceiling_height'] = data['ceiling_height'].replace(20.  ,2.55)\n",
    "data['ceiling_height'] = data['ceiling_height'].replace(6.  ,2.55)\n",
    "data['ceiling_height'] = data['ceiling_height'].replace(22.6 ,2.55)\n",
    "data['ceiling_height'] = data['ceiling_height'].replace(27.5 ,2.55)\n",
    "data['ceiling_height'] = data['ceiling_height'].replace(10.3 ,2.55)\n",
    "data['ceiling_height'] = data['ceiling_height'].replace(1.  ,2.55)\n",
    "data['ceiling_height'] = data['ceiling_height'].replace(100.  ,2.55)\n",
    "data['ceiling_height'].astype('int')\n",
    "data['ceiling_height'].unique()"
   ]
  },
  {
   "cell_type": "markdown",
   "metadata": {},
   "source": [
    "Причины:\n",
    "1.\tЧеловеческий фактор.\n",
    "2.\tНет информации о ближайших парках и аэропортах, либо их простонет рядом, и указывать расстояние нет смысла.\n",
    "3.\tТехническая ошибка при выгрузке.\n",
    "4.\tСобственник просто не захотел или не знал или забыл указать этаж, размер жил площади, размер кухни.\n",
    "\n",
    "Поменял типы данных с float на int в колонках для простоты подсчёта и удобства восприятия чисел и визуализации данных. Что бы избавиться от чисел с плавающей точкой и рассматривать только целочисленные данные.\n",
    "balcony,parks_around3000,ponds_around3000,cityCenters_nearest,days_exposition.\n",
    "Сменил тип данных с obj на datatime колонку first_day_exposition, т.к. она имеет данные по датам подачи объявлений. \n",
    "Колонку is_apartment поменял на bool т.к. в описании данных указан булев тип. \n",
    "\n"
   ]
  },
  {
   "cell_type": "code",
   "execution_count": 11,
   "metadata": {},
   "outputs": [
    {
     "data": {
      "text/plain": [
       "9.637537448837504"
      ]
     },
     "execution_count": 11,
     "metadata": {},
     "output_type": "execute_result"
    }
   ],
   "source": [
    "#Проверяю долю слишком высоких значений цены от основной массы данных\n",
    "data['last_price'].value_counts().sort_values(ascending=False)\n",
    "#С помощью коробки с усами определил что выбросом будут все значения более примерно 11 млн.\n",
    "#Берём квартиры со значениями более 11 млн и посмотрим какой процент они составляют от общей массы данных. \n",
    "len(data.query('last_price > 11000000')) / len(data)*100"
   ]
  },
  {
   "cell_type": "code",
   "execution_count": 12,
   "metadata": {},
   "outputs": [
    {
     "data": {
      "text/plain": [
       "0.04641546056795645"
      ]
     },
     "execution_count": 12,
     "metadata": {},
     "output_type": "execute_result"
    }
   ],
   "source": [
    "#Проверил значения по количеству квартир.\n",
    "#Видно что есть высокие значения с 19 - 12 комнатами.\n",
    "#Т.к. таких данных не много, думаю их можно отбросить.\n",
    "data['rooms'].value_counts()\n",
    "#Посмотрел какое количество в процентном соотношении таких данных во всем датасете\n",
    "len(data.query('rooms > 9')) / len(data)*100"
   ]
  },
  {
   "cell_type": "code",
   "execution_count": 13,
   "metadata": {},
   "outputs": [
    {
     "data": {
      "text/plain": [
       "count    23699.000000\n",
       "mean        60.348651\n",
       "std         35.654083\n",
       "min         12.000000\n",
       "25%         40.000000\n",
       "50%         52.000000\n",
       "75%         69.900000\n",
       "max        900.000000\n",
       "Name: total_area, dtype: float64"
      ]
     },
     "execution_count": 13,
     "metadata": {},
     "output_type": "execute_result"
    },
    {
     "data": {
      "image/png": "[encoded data removed]",
      "text/plain": [
       "<Figure size 432x288 with 1 Axes>"
      ]
     },
     "metadata": {
      "needs_background": "light"
     },
     "output_type": "display_data"
    }
   ],
   "source": [
    "# На графике видно что основное нормальное распределение данных относится к интервалу от 25 до 100 квадратных метров\n",
    "# Следовательно эти значения будет считать верхним и нижними парогами значений. Все остальные данные можно отбросить.\n",
    "data['total_area'].hist(bins=50,range=(0,400))\n",
    "data['total_area'].describe()"
   ]
  },
  {
   "cell_type": "code",
   "execution_count": 14,
   "metadata": {},
   "outputs": [
    {
     "data": {
      "text/plain": [
       "7.747162327524368"
      ]
     },
     "execution_count": 14,
     "metadata": {},
     "output_type": "execute_result"
    }
   ],
   "source": [
    "#Посмотрим какое количество данных с высоким парогом от общей массы датасета\n",
    "len(data.query('total_area > 100')) / len(data)*100"
   ]
  },
  {
   "cell_type": "code",
   "execution_count": 15,
   "metadata": {},
   "outputs": [
    {
     "data": {
      "text/html": [
       "<div>\n",
       "<style scoped>\n",
       "    .dataframe tbody tr th:only-of-type {\n",
       "        vertical-align: middle;\n",
       "    }\n",
       "\n",
       "    .dataframe tbody tr th {\n",
       "        vertical-align: top;\n",
       "    }\n",
       "\n",
       "    .dataframe thead th {\n",
       "        text-align: right;\n",
       "    }\n",
       "</style>\n",
       "<table border=\"1\" class=\"dataframe\">\n",
       "  <thead>\n",
       "    <tr style=\"text-align: right;\">\n",
       "      <th></th>\n",
       "      <th>total_images</th>\n",
       "      <th>last_price</th>\n",
       "      <th>total_area</th>\n",
       "      <th>rooms</th>\n",
       "      <th>ceiling_height</th>\n",
       "      <th>floors_total</th>\n",
       "      <th>living_area</th>\n",
       "      <th>floor</th>\n",
       "      <th>kitchen_area</th>\n",
       "      <th>balcony</th>\n",
       "      <th>airports_nearest</th>\n",
       "      <th>cityCenters_nearest</th>\n",
       "      <th>parks_around3000</th>\n",
       "      <th>parks_nearest</th>\n",
       "      <th>ponds_around3000</th>\n",
       "      <th>ponds_nearest</th>\n",
       "      <th>days_exposition</th>\n",
       "    </tr>\n",
       "  </thead>\n",
       "  <tbody>\n",
       "    <tr>\n",
       "      <th>count</th>\n",
       "      <td>23699.000000</td>\n",
       "      <td>2.369900e+04</td>\n",
       "      <td>23699.000000</td>\n",
       "      <td>23699.000000</td>\n",
       "      <td>23699.000000</td>\n",
       "      <td>23699.000000</td>\n",
       "      <td>21796.000000</td>\n",
       "      <td>23699.000000</td>\n",
       "      <td>21421.000000</td>\n",
       "      <td>23699.000000</td>\n",
       "      <td>18157.000000</td>\n",
       "      <td>18180.000000</td>\n",
       "      <td>18181.000000</td>\n",
       "      <td>8079.000000</td>\n",
       "      <td>18181.000000</td>\n",
       "      <td>9110.000000</td>\n",
       "      <td>20518.000000</td>\n",
       "    </tr>\n",
       "    <tr>\n",
       "      <th>mean</th>\n",
       "      <td>9.858475</td>\n",
       "      <td>6.541549e+06</td>\n",
       "      <td>60.348651</td>\n",
       "      <td>2.070636</td>\n",
       "      <td>2.634251</td>\n",
       "      <td>10.667750</td>\n",
       "      <td>34.457852</td>\n",
       "      <td>5.892358</td>\n",
       "      <td>10.569807</td>\n",
       "      <td>0.591080</td>\n",
       "      <td>28793.672193</td>\n",
       "      <td>14191.277833</td>\n",
       "      <td>0.611408</td>\n",
       "      <td>490.804555</td>\n",
       "      <td>0.770255</td>\n",
       "      <td>517.980900</td>\n",
       "      <td>180.888634</td>\n",
       "    </tr>\n",
       "    <tr>\n",
       "      <th>std</th>\n",
       "      <td>5.682529</td>\n",
       "      <td>1.088701e+07</td>\n",
       "      <td>35.654083</td>\n",
       "      <td>1.078405</td>\n",
       "      <td>0.212839</td>\n",
       "      <td>6.585961</td>\n",
       "      <td>22.030445</td>\n",
       "      <td>4.885249</td>\n",
       "      <td>5.905438</td>\n",
       "      <td>0.959298</td>\n",
       "      <td>12630.880622</td>\n",
       "      <td>8608.386210</td>\n",
       "      <td>0.802074</td>\n",
       "      <td>342.317995</td>\n",
       "      <td>0.938346</td>\n",
       "      <td>277.720643</td>\n",
       "      <td>219.727988</td>\n",
       "    </tr>\n",
       "    <tr>\n",
       "      <th>min</th>\n",
       "      <td>0.000000</td>\n",
       "      <td>1.219000e+04</td>\n",
       "      <td>12.000000</td>\n",
       "      <td>0.000000</td>\n",
       "      <td>1.200000</td>\n",
       "      <td>1.000000</td>\n",
       "      <td>2.000000</td>\n",
       "      <td>1.000000</td>\n",
       "      <td>1.300000</td>\n",
       "      <td>0.000000</td>\n",
       "      <td>0.000000</td>\n",
       "      <td>181.000000</td>\n",
       "      <td>0.000000</td>\n",
       "      <td>1.000000</td>\n",
       "      <td>0.000000</td>\n",
       "      <td>13.000000</td>\n",
       "      <td>1.000000</td>\n",
       "    </tr>\n",
       "    <tr>\n",
       "      <th>25%</th>\n",
       "      <td>6.000000</td>\n",
       "      <td>3.400000e+06</td>\n",
       "      <td>40.000000</td>\n",
       "      <td>1.000000</td>\n",
       "      <td>2.550000</td>\n",
       "      <td>5.000000</td>\n",
       "      <td>18.600000</td>\n",
       "      <td>2.000000</td>\n",
       "      <td>7.000000</td>\n",
       "      <td>0.000000</td>\n",
       "      <td>18585.000000</td>\n",
       "      <td>9238.000000</td>\n",
       "      <td>0.000000</td>\n",
       "      <td>288.000000</td>\n",
       "      <td>0.000000</td>\n",
       "      <td>294.000000</td>\n",
       "      <td>45.000000</td>\n",
       "    </tr>\n",
       "    <tr>\n",
       "      <th>50%</th>\n",
       "      <td>9.000000</td>\n",
       "      <td>4.650000e+06</td>\n",
       "      <td>52.000000</td>\n",
       "      <td>2.000000</td>\n",
       "      <td>2.550000</td>\n",
       "      <td>9.000000</td>\n",
       "      <td>30.000000</td>\n",
       "      <td>4.000000</td>\n",
       "      <td>9.100000</td>\n",
       "      <td>0.000000</td>\n",
       "      <td>26726.000000</td>\n",
       "      <td>13098.500000</td>\n",
       "      <td>0.000000</td>\n",
       "      <td>455.000000</td>\n",
       "      <td>1.000000</td>\n",
       "      <td>502.000000</td>\n",
       "      <td>95.000000</td>\n",
       "    </tr>\n",
       "    <tr>\n",
       "      <th>75%</th>\n",
       "      <td>14.000000</td>\n",
       "      <td>6.800000e+06</td>\n",
       "      <td>69.900000</td>\n",
       "      <td>3.000000</td>\n",
       "      <td>2.650000</td>\n",
       "      <td>16.000000</td>\n",
       "      <td>42.300000</td>\n",
       "      <td>8.000000</td>\n",
       "      <td>12.000000</td>\n",
       "      <td>1.000000</td>\n",
       "      <td>37273.000000</td>\n",
       "      <td>16293.000000</td>\n",
       "      <td>1.000000</td>\n",
       "      <td>612.000000</td>\n",
       "      <td>1.000000</td>\n",
       "      <td>729.000000</td>\n",
       "      <td>232.000000</td>\n",
       "    </tr>\n",
       "    <tr>\n",
       "      <th>max</th>\n",
       "      <td>50.000000</td>\n",
       "      <td>7.630000e+08</td>\n",
       "      <td>900.000000</td>\n",
       "      <td>19.000000</td>\n",
       "      <td>5.800000</td>\n",
       "      <td>60.000000</td>\n",
       "      <td>409.700000</td>\n",
       "      <td>33.000000</td>\n",
       "      <td>112.000000</td>\n",
       "      <td>5.000000</td>\n",
       "      <td>84869.000000</td>\n",
       "      <td>65968.000000</td>\n",
       "      <td>3.000000</td>\n",
       "      <td>3190.000000</td>\n",
       "      <td>3.000000</td>\n",
       "      <td>1344.000000</td>\n",
       "      <td>1580.000000</td>\n",
       "    </tr>\n",
       "  </tbody>\n",
       "</table>\n",
       "</div>"
      ],
      "text/plain": [
       "       total_images    last_price    total_area         rooms  ceiling_height  \\\n",
       "count  23699.000000  2.369900e+04  23699.000000  23699.000000    23699.000000   \n",
       "mean       9.858475  6.541549e+06     60.348651      2.070636        2.634251   \n",
       "std        5.682529  1.088701e+07     35.654083      1.078405        0.212839   \n",
       "min        0.000000  1.219000e+04     12.000000      0.000000        1.200000   \n",
       "25%        6.000000  3.400000e+06     40.000000      1.000000        2.550000   \n",
       "50%        9.000000  4.650000e+06     52.000000      2.000000        2.550000   \n",
       "75%       14.000000  6.800000e+06     69.900000      3.000000        2.650000   \n",
       "max       50.000000  7.630000e+08    900.000000     19.000000        5.800000   \n",
       "\n",
       "       floors_total   living_area         floor  kitchen_area       balcony  \\\n",
       "count  23699.000000  21796.000000  23699.000000  21421.000000  23699.000000   \n",
       "mean      10.667750     34.457852      5.892358     10.569807      0.591080   \n",
       "std        6.585961     22.030445      4.885249      5.905438      0.959298   \n",
       "min        1.000000      2.000000      1.000000      1.300000      0.000000   \n",
       "25%        5.000000     18.600000      2.000000      7.000000      0.000000   \n",
       "50%        9.000000     30.000000      4.000000      9.100000      0.000000   \n",
       "75%       16.000000     42.300000      8.000000     12.000000      1.000000   \n",
       "max       60.000000    409.700000     33.000000    112.000000      5.000000   \n",
       "\n",
       "       airports_nearest  cityCenters_nearest  parks_around3000  parks_nearest  \\\n",
       "count      18157.000000         18180.000000      18181.000000    8079.000000   \n",
       "mean       28793.672193         14191.277833          0.611408     490.804555   \n",
       "std        12630.880622          8608.386210          0.802074     342.317995   \n",
       "min            0.000000           181.000000          0.000000       1.000000   \n",
       "25%        18585.000000          9238.000000          0.000000     288.000000   \n",
       "50%        26726.000000         13098.500000          0.000000     455.000000   \n",
       "75%        37273.000000         16293.000000          1.000000     612.000000   \n",
       "max        84869.000000         65968.000000          3.000000    3190.000000   \n",
       "\n",
       "       ponds_around3000  ponds_nearest  days_exposition  \n",
       "count      18181.000000    9110.000000     20518.000000  \n",
       "mean           0.770255     517.980900       180.888634  \n",
       "std            0.938346     277.720643       219.727988  \n",
       "min            0.000000      13.000000         1.000000  \n",
       "25%            0.000000     294.000000        45.000000  \n",
       "50%            1.000000     502.000000        95.000000  \n",
       "75%            1.000000     729.000000       232.000000  \n",
       "max            3.000000    1344.000000      1580.000000  "
      ]
     },
     "execution_count": 15,
     "metadata": {},
     "output_type": "execute_result"
    }
   ],
   "source": [
    "data.describe()"
   ]
  },
  {
   "cell_type": "code",
   "execution_count": 16,
   "metadata": {},
   "outputs": [
    {
     "data": {
      "text/plain": [
       "23699"
      ]
     },
     "execution_count": 16,
     "metadata": {},
     "output_type": "execute_result"
    }
   ],
   "source": [
    "#Создаю новые датасеты с фильтрацией и без.\n",
    "new_data = data.query('last_price > 11000000 and rooms > 9 and total_area > 100')\n",
    "old_data = data\n",
    "#Смотрим общее количество данных в датасете без фильтра.\n",
    "old_data.shape[0]"
   ]
  },
  {
   "cell_type": "code",
   "execution_count": 17,
   "metadata": {},
   "outputs": [
    {
     "data": {
      "text/plain": [
       "0.04641546056795645"
      ]
     },
     "execution_count": 17,
     "metadata": {},
     "output_type": "execute_result"
    }
   ],
   "source": [
    "#Считаю количество отбрасываемых данных по аномальным значениям в столбцах last_price,rooms,total_area.\n",
    "new_data.shape[0]/old_data.shape[0]*100"
   ]
  },
  {
   "cell_type": "markdown",
   "metadata": {},
   "source": [
    "Провел анализ аномальных значений в других series основного датасета. Что бы понять как сильно повлияет удаление таких аномальных значений, посчитал процентное соотношение таких данных ко всему дтасету. Что бы данные не сильно искажались количество удалённой информации не должно превышать 10% , в нашем случае количество данных составило 0,04 процента. Т.к. данных не так много считаю что нет смысла тратить время на их удаление. "
   ]
  },
  {
   "cell_type": "markdown",
   "metadata": {},
   "source": [
    "### Посчитайте и добавьте в таблицу новые столбцы"
   ]
  },
  {
   "cell_type": "code",
   "execution_count": 18,
   "metadata": {},
   "outputs": [
    {
     "data": {
      "text/plain": [
       "12    1517\n",
       "14    1512\n",
       "11    1415\n",
       "13    1402\n",
       "15    1373\n",
       "16    1107\n",
       "4      916\n",
       "10     913\n",
       "5      770\n",
       "9      693\n",
       "8      676\n",
       "17     607\n",
       "3      530\n",
       "6      470\n",
       "7      407\n",
       "18     347\n",
       "2      307\n",
       "30     262\n",
       "19     258\n",
       "1      242\n",
       "Name: distance_to_center, dtype: Int64"
      ]
     },
     "execution_count": 18,
     "metadata": {},
     "output_type": "execute_result"
    }
   ],
   "source": [
    "#Рассчитываю стоимость квадратного метра \n",
    "data['price_per_square_meter'] = data['last_price']/data['total_area']\n",
    "data['price_per_square_meter'] = data['price_per_square_meter'].astype('int')\n",
    "\n",
    "#Подача объявления по дню недели \n",
    "data['day_of_the_week'] = data['first_day_exposition'].dt.weekday\n",
    "\n",
    "#Подача объявления по месяцу\n",
    "data['month_of_publication'] = data['first_day_exposition'].dt.month\n",
    "\n",
    "#Подача объявления по году и сортировка по возрастанию \n",
    "data['year_of_publication'] = data['first_day_exposition'].dt.year\n",
    "data['year_of_publication'].sort_values()\n",
    "\n",
    "#Функция для определения типа этажа \n",
    "def floor_type(row):\n",
    "    col = row['floors_total']\n",
    "    floor_total = row['floor']\n",
    "    if floor_total == 1:\n",
    "        return 'Первый'\n",
    "    elif floor_total == col:\n",
    "        return 'Последний'\n",
    "    elif 1<floor_total<col:\n",
    "        return 'Другой'\n",
    "    \n",
    "data['аpartment_floor_type'] = data.apply(floor_type, axis=1)\n",
    "\n",
    "#расстояние до центра города в километрах\n",
    "data['distance_to_center'] = data['cityCenters_nearest']/1000\n",
    "data['distance_to_center'] = np.floor(pd.to_numeric(data['distance_to_center'], errors='coerce')).astype('Int64')\n",
    "data['distance_to_center'].value_counts().sort_values(ascending=False).head(20)"
   ]
  },
  {
   "cell_type": "markdown",
   "metadata": {},
   "source": [
    "### Проведите исследовательский анализ данных"
   ]
  },
  {
   "cell_type": "code",
   "execution_count": 19,
   "metadata": {},
   "outputs": [
    {
     "data": {
      "text/plain": [
       "count    23699.000000\n",
       "mean        60.348651\n",
       "std         35.654083\n",
       "min         12.000000\n",
       "25%         40.000000\n",
       "50%         52.000000\n",
       "75%         69.900000\n",
       "max        900.000000\n",
       "Name: total_area, dtype: float64"
      ]
     },
     "execution_count": 19,
     "metadata": {},
     "output_type": "execute_result"
    },
    {
     "data": {
      "image/png": "[encoded data removed]",
      "text/plain": [
       "<Figure size 432x288 with 1 Axes>"
      ]
     },
     "metadata": {
      "needs_background": "light"
     },
     "output_type": "display_data"
    }
   ],
   "source": [
    "data['total_area'].hist(bins=50,range=(0,400))\n",
    "data['total_area'].describe()"
   ]
  },
  {
   "cell_type": "markdown",
   "metadata": {},
   "source": [
    "Распределение данных нормальное, есть выбросы но они не сильно влияют на данные."
   ]
  },
  {
   "cell_type": "code",
   "execution_count": 20,
   "metadata": {},
   "outputs": [
    {
     "data": {
      "text/plain": [
       "count    21796.000000\n",
       "mean        34.457852\n",
       "std         22.030445\n",
       "min          2.000000\n",
       "25%         18.600000\n",
       "50%         30.000000\n",
       "75%         42.300000\n",
       "max        409.700000\n",
       "Name: living_area, dtype: float64"
      ]
     },
     "execution_count": 20,
     "metadata": {},
     "output_type": "execute_result"
    },
    {
     "data": {
      "image/png": "[encoded data removed]",
      "text/plain": [
       "<Figure size 432x288 with 1 Axes>"
      ]
     },
     "metadata": {
      "needs_background": "light"
     },
     "output_type": "display_data"
    }
   ],
   "source": [
    "data['living_area'].hist(bins=75,range=(0,200))\n",
    "data['living_area'].describe()"
   ]
  },
  {
   "cell_type": "markdown",
   "metadata": {},
   "source": [
    "Есть выбросы, это похоже на распределение Пуассона, оно становится симметричным и стремится к нормальному."
   ]
  },
  {
   "cell_type": "code",
   "execution_count": 21,
   "metadata": {},
   "outputs": [
    {
     "data": {
      "text/plain": [
       "count    21421.000000\n",
       "mean        10.569807\n",
       "std          5.905438\n",
       "min          1.300000\n",
       "25%          7.000000\n",
       "50%          9.100000\n",
       "75%         12.000000\n",
       "max        112.000000\n",
       "Name: kitchen_area, dtype: float64"
      ]
     },
     "execution_count": 21,
     "metadata": {},
     "output_type": "execute_result"
    },
    {
     "data": {
      "image/png": "[encoded data removed]",
      "text/plain": [
       "<Figure size 432x288 with 1 Axes>"
      ]
     },
     "metadata": {
      "needs_background": "light"
     },
     "output_type": "display_data"
    }
   ],
   "source": [
    "data['kitchen_area'].hist(bins=60,range=(0,60))\n",
    "data['kitchen_area'].describe()"
   ]
  },
  {
   "cell_type": "markdown",
   "metadata": {},
   "source": [
    "Это нормальное распределение данных, т.к. видно что большенство квартир находится в диапазоне от 5 до 12 квадратных метров и реже значения более 20 квадратных метров. Есть незначительные выбросы но они не сильно влияют на общую картину."
   ]
  },
  {
   "cell_type": "code",
   "execution_count": 22,
   "metadata": {},
   "outputs": [
    {
     "data": {
      "text/plain": [
       "count    2.369900e+04\n",
       "mean     6.541549e+06\n",
       "std      1.088701e+07\n",
       "min      1.219000e+04\n",
       "25%      3.400000e+06\n",
       "50%      4.650000e+06\n",
       "75%      6.800000e+06\n",
       "max      7.630000e+08\n",
       "Name: last_price, dtype: float64"
      ]
     },
     "execution_count": 22,
     "metadata": {},
     "output_type": "execute_result"
    },
    {
     "data": {
      "image/png": "[encoded data removed]",
      "text/plain": [
       "<Figure size 432x288 with 1 Axes>"
      ]
     },
     "metadata": {
      "needs_background": "light"
     },
     "output_type": "display_data"
    }
   ],
   "source": [
    "data['last_price'].hist(bins=100,range=(0,15000000))\n",
    "data['last_price'].describe()"
   ]
  },
  {
   "cell_type": "markdown",
   "metadata": {},
   "source": [
    "Наиболее частые (типичные, нормальные) значения оказываются посередине. А редкие — по краям. График симметричен и напоминает колокол. Такое распределение называется нормальным. Взял строку с описанием из теории))"
   ]
  },
  {
   "cell_type": "code",
   "execution_count": 23,
   "metadata": {},
   "outputs": [
    {
     "data": {
      "text/plain": [
       "count    23699.000000\n",
       "mean         2.070636\n",
       "std          1.078405\n",
       "min          0.000000\n",
       "25%          1.000000\n",
       "50%          2.000000\n",
       "75%          3.000000\n",
       "max         19.000000\n",
       "Name: rooms, dtype: float64"
      ]
     },
     "execution_count": 23,
     "metadata": {},
     "output_type": "execute_result"
    },
    {
     "data": {
      "image/png": "[encoded data removed]",
      "text/plain": [
       "<Figure size 432x288 with 1 Axes>"
      ]
     },
     "metadata": {
      "needs_background": "light"
     },
     "output_type": "display_data"
    }
   ],
   "source": [
    "data['rooms'].hist(bins=10,range=(0,10))\n",
    "data['rooms'].describe()"
   ]
  },
  {
   "cell_type": "markdown",
   "metadata": {},
   "source": [
    "В таком случае распределение Пуассона обрезано на нуле и имеет длинный «хвост» в положительную сторону. И движется к нормальному распределению. "
   ]
  },
  {
   "cell_type": "code",
   "execution_count": 24,
   "metadata": {},
   "outputs": [
    {
     "data": {
      "text/plain": [
       "count    23699.000000\n",
       "mean         2.634251\n",
       "std          0.212839\n",
       "min          1.200000\n",
       "25%          2.550000\n",
       "50%          2.550000\n",
       "75%          2.650000\n",
       "max          5.800000\n",
       "Name: ceiling_height, dtype: float64"
      ]
     },
     "execution_count": 24,
     "metadata": {},
     "output_type": "execute_result"
    },
    {
     "data": {
      "image/png": "[encoded data removed]",
      "text/plain": [
       "<Figure size 432x288 with 1 Axes>"
      ]
     },
     "metadata": {
      "needs_background": "light"
     },
     "output_type": "display_data"
    }
   ],
   "source": [
    "data['ceiling_height'].hist(bins=20,range=(0,5))\n",
    "data['ceiling_height'].describe()"
   ]
  },
  {
   "cell_type": "markdown",
   "metadata": {},
   "source": [
    "Нужно обратить внимание на Q1 и медиану, данные схожи, тем не менее если посмотреть на среднее значедние данных. то оно не сильно отличается от медианы. Возможно это связано с тем что ранее было принято решение искажённые данные и пропуски заполнить медианным значением. Исходя из реалий эти данные похожи на нормальное распределение, есть небольшое количество(хвост) со значениями более 3 метров. но основная масса находится в стандартных значениях то 2,5 до 3 метров. "
   ]
  },
  {
   "cell_type": "code",
   "execution_count": 25,
   "metadata": {},
   "outputs": [
    {
     "data": {
      "text/plain": [
       "count    23699.000000\n",
       "mean         5.892358\n",
       "std          4.885249\n",
       "min          1.000000\n",
       "25%          2.000000\n",
       "50%          4.000000\n",
       "75%          8.000000\n",
       "max         33.000000\n",
       "Name: floor, dtype: float64"
      ]
     },
     "execution_count": 25,
     "metadata": {},
     "output_type": "execute_result"
    },
    {
     "data": {
      "image/png": "[encoded data removed]",
      "text/plain": [
       "<Figure size 432x288 with 1 Axes>"
      ]
     },
     "metadata": {
      "needs_background": "light"
     },
     "output_type": "display_data"
    }
   ],
   "source": [
    "data['floor'].hist(bins=30,range=(0,30))\n",
    "data['floor'].describe()"
   ]
  },
  {
   "cell_type": "markdown",
   "metadata": {},
   "source": [
    "Это распределение Пуассона, и распределение движется к нормальному."
   ]
  },
  {
   "cell_type": "code",
   "execution_count": 26,
   "metadata": {},
   "outputs": [
    {
     "data": {
      "text/plain": [
       "count     23662\n",
       "unique        3\n",
       "top           3\n",
       "freq      17404\n",
       "Name: floor_category, dtype: object"
      ]
     },
     "execution_count": 26,
     "metadata": {},
     "output_type": "execute_result"
    },
    {
     "data": {
      "image/png": "[encoded data removed]",
      "text/plain": [
       "<Figure size 432x288 with 1 Axes>"
      ]
     },
     "metadata": {
      "needs_background": "light"
     },
     "output_type": "display_data"
    }
   ],
   "source": [
    "def categorize_income(income):\n",
    "    try:\n",
    "        if income == 'Первый':\n",
    "            return '1'\n",
    "        elif income == 'Последний':\n",
    "            return '2'\n",
    "        elif income == 'Другой':\n",
    "            return '3'\n",
    "    except:\n",
    "        return 'ошибка, проверь код!'\n",
    "    \n",
    "data['floor_category'] = data['аpartment_floor_type'].apply(categorize_income)\n",
    "\n",
    "data['floor_category'].sort_values().hist(bins=8,range=(0,4))\n",
    "data['floor_category'].describe()"
   ]
  },
  {
   "cell_type": "markdown",
   "metadata": {},
   "source": [
    "Большое количество данных распределено на 3 категорию - Другой. Это связано стем что мы не имеем данных о общем количесве этажей в доме, поэтому значения более 1 этажа но при этом менее общего количества этажей в доме расположились в данной категории. Исходя из этого необходимо либо уточнять дополнительную информацию по этажам, как и кем были вписаны эти данные что бы появилась возможность отследить логику распределения."
   ]
  },
  {
   "cell_type": "code",
   "execution_count": 27,
   "metadata": {},
   "outputs": [
    {
     "data": {
      "text/plain": [
       "count    23699.000000\n",
       "mean        10.667750\n",
       "std          6.585961\n",
       "min          1.000000\n",
       "25%          5.000000\n",
       "50%          9.000000\n",
       "75%         16.000000\n",
       "max         60.000000\n",
       "Name: floors_total, dtype: float64"
      ]
     },
     "execution_count": 27,
     "metadata": {},
     "output_type": "execute_result"
    },
    {
     "data": {
      "image/png": "[encoded data removed]",
      "text/plain": [
       "<Figure size 432x288 with 1 Axes>"
      ]
     },
     "metadata": {
      "needs_background": "light"
     },
     "output_type": "display_data"
    }
   ],
   "source": [
    "data['floors_total'].hist(bins=30,range=(0,40))\n",
    "data['floors_total'].describe()"
   ]
  },
  {
   "cell_type": "markdown",
   "metadata": {},
   "source": [
    "На графике видны отдельные всплески- так называемые шумы. Большое количество домов относится к 5 этажным и 9 этажным зданиям. Не смотря на шумы можно заметить вполне нормальное распределение данных, об этом свидетельствует небольшое отличие среднего значения от медианы. Значит выбросов не много. "
   ]
  },
  {
   "cell_type": "code",
   "execution_count": 28,
   "metadata": {},
   "outputs": [
    {
     "data": {
      "text/plain": [
       "count    18180.000000\n",
       "mean     14191.277833\n",
       "std       8608.386210\n",
       "min        181.000000\n",
       "25%       9238.000000\n",
       "50%      13098.500000\n",
       "75%      16293.000000\n",
       "max      65968.000000\n",
       "Name: cityCenters_nearest, dtype: float64"
      ]
     },
     "execution_count": 28,
     "metadata": {},
     "output_type": "execute_result"
    },
    {
     "data": {
      "image/png": "[encoded data removed]",
      "text/plain": [
       "<Figure size 432x288 with 1 Axes>"
      ]
     },
     "metadata": {
      "needs_background": "light"
     },
     "output_type": "display_data"
    }
   ],
   "source": [
    "data['cityCenters_nearest'].hist(bins=70,range=(0,60000))\n",
    "data['cityCenters_nearest'] = np.floor(pd.to_numeric(data['cityCenters_nearest'], errors='coerce')).astype('Int64')\n",
    "data['cityCenters_nearest'].describe()"
   ]
  },
  {
   "cell_type": "markdown",
   "metadata": {},
   "source": [
    "Большое количество данных распределено на нуле. Построим гисторграмму на болшее число корзин."
   ]
  },
  {
   "cell_type": "code",
   "execution_count": 29,
   "metadata": {},
   "outputs": [
    {
     "data": {
      "text/plain": [
       "<AxesSubplot:>"
      ]
     },
     "execution_count": 29,
     "metadata": {},
     "output_type": "execute_result"
    },
    {
     "data": {
      "image/png": "[encoded data removed]",
      "text/plain": [
       "<Figure size 432x288 with 1 Axes>"
      ]
     },
     "metadata": {
      "needs_background": "light"
     },
     "output_type": "display_data"
    }
   ],
   "source": [
    "data['cityCenters_nearest'].hist(bins=100,range=(0,20000))"
   ]
  },
  {
   "cell_type": "markdown",
   "metadata": {},
   "source": [
    "Нормальным распределением данных можно считать значения от 10000 до 17500 метров. "
   ]
  },
  {
   "cell_type": "code",
   "execution_count": 30,
   "metadata": {},
   "outputs": [
    {
     "data": {
      "text/plain": [
       "count    18157.000000\n",
       "mean     28793.672193\n",
       "std      12630.880622\n",
       "min          0.000000\n",
       "25%      18585.000000\n",
       "50%      26726.000000\n",
       "75%      37273.000000\n",
       "max      84869.000000\n",
       "Name: airports_nearest, dtype: float64"
      ]
     },
     "execution_count": 30,
     "metadata": {},
     "output_type": "execute_result"
    },
    {
     "data": {
      "image/png": "[encoded data removed]",
      "text/plain": [
       "<Figure size 432x288 with 1 Axes>"
      ]
     },
     "metadata": {
      "needs_background": "light"
     },
     "output_type": "display_data"
    }
   ],
   "source": [
    "data['airports_nearest'].hist(bins=100,range=(0,90000))\n",
    "data['airports_nearest'].describe()"
   ]
  },
  {
   "cell_type": "markdown",
   "metadata": {},
   "source": [
    "Нормальное распределение данных. "
   ]
  },
  {
   "cell_type": "code",
   "execution_count": 31,
   "metadata": {},
   "outputs": [
    {
     "data": {
      "text/plain": [
       "count    8079.000000\n",
       "mean      490.804555\n",
       "std       342.317995\n",
       "min         1.000000\n",
       "25%       288.000000\n",
       "50%       455.000000\n",
       "75%       612.000000\n",
       "max      3190.000000\n",
       "Name: parks_nearest, dtype: float64"
      ]
     },
     "execution_count": 31,
     "metadata": {},
     "output_type": "execute_result"
    },
    {
     "data": {
      "image/png": "[encoded data removed]",
      "text/plain": [
       "<Figure size 432x288 with 1 Axes>"
      ]
     },
     "metadata": {
      "needs_background": "light"
     },
     "output_type": "display_data"
    }
   ],
   "source": [
    "data['parks_nearest'].hist(bins=30,range=(0,3500))\n",
    "data['parks_nearest'] = data['parks_nearest'].abs()\n",
    "data['parks_nearest'].describe()"
   ]
  },
  {
   "cell_type": "markdown",
   "metadata": {},
   "source": [
    "Распределение данных Пуассона и движется к нормальным значениям. "
   ]
  },
  {
   "cell_type": "code",
   "execution_count": 32,
   "metadata": {},
   "outputs": [
    {
     "data": {
      "text/plain": [
       "count    23699.000000\n",
       "mean         2.569307\n",
       "std          1.789082\n",
       "min          0.000000\n",
       "25%          1.000000\n",
       "50%          3.000000\n",
       "75%          4.000000\n",
       "max          6.000000\n",
       "Name: day_of_the_week, dtype: float64"
      ]
     },
     "execution_count": 32,
     "metadata": {},
     "output_type": "execute_result"
    },
    {
     "data": {
      "image/png": "[encoded data removed]",
      "text/plain": [
       "<Figure size 432x288 with 1 Axes>"
      ]
     },
     "metadata": {
      "needs_background": "light"
     },
     "output_type": "display_data"
    }
   ],
   "source": [
    "data['day_of_the_week'].hist(bins=5,range=(0,7))\n",
    "data['day_of_the_week'].describe()"
   ]
  },
  {
   "cell_type": "markdown",
   "metadata": {},
   "source": [
    "По графику видно что, чаще всего объявления подавались в период с понедельника на вторник и с четверга на пятницу. Реже в субботу и воскресенье. Видимо начало и конец рабочей недели наилучшее время для подачи объявлений."
   ]
  },
  {
   "cell_type": "code",
   "execution_count": 33,
   "metadata": {},
   "outputs": [
    {
     "data": {
      "text/plain": [
       "count    23699.000000\n",
       "mean         6.400101\n",
       "std          3.491561\n",
       "min          1.000000\n",
       "25%          3.000000\n",
       "50%          6.000000\n",
       "75%         10.000000\n",
       "max         12.000000\n",
       "Name: month_of_publication, dtype: float64"
      ]
     },
     "execution_count": 33,
     "metadata": {},
     "output_type": "execute_result"
    },
    {
     "data": {
      "image/png": "[encoded data removed]",
      "text/plain": [
       "<Figure size 432x288 with 1 Axes>"
      ]
     },
     "metadata": {
      "needs_background": "light"
     },
     "output_type": "display_data"
    }
   ],
   "source": [
    "data['month_of_publication'].hist(bins=10,range=(0,13))\n",
    "data['month_of_publication'].describe()"
   ]
  },
  {
   "cell_type": "markdown",
   "metadata": {},
   "source": [
    "На графике видны шумы - отдельные высокие значения по 4-5 и 8-9 месяцам. Возможно это связано с тем что данных не так много.  "
   ]
  },
  {
   "cell_type": "code",
   "execution_count": 34,
   "metadata": {},
   "outputs": [
    {
     "data": {
      "image/png": "[encoded data removed]",
      "text/plain": [
       "<Figure size 432x288 with 1 Axes>"
      ]
     },
     "metadata": {
      "needs_background": "light"
     },
     "output_type": "display_data"
    },
    {
     "data": {
      "image/png": "[encoded data removed]",
      "text/plain": [
       "<Figure size 432x288 with 1 Axes>"
      ]
     },
     "metadata": {
      "needs_background": "light"
     },
     "output_type": "display_data"
    },
    {
     "data": {
      "text/plain": [
       "count    20518.000000\n",
       "mean       180.888634\n",
       "std        219.727988\n",
       "min          1.000000\n",
       "25%         45.000000\n",
       "50%         95.000000\n",
       "75%        232.000000\n",
       "max       1580.000000\n",
       "Name: days_exposition, dtype: float64"
      ]
     },
     "execution_count": 34,
     "metadata": {},
     "output_type": "execute_result"
    }
   ],
   "source": [
    "#Изучаю скорость продажи квартир. \n",
    "\n",
    "data['days_exposition'].hist(bins=50,range=(0,1500))\n",
    "plt.show()\n",
    "data['days_exposition'].hist(bins=100,range=(0,200))\n",
    "plt.show()\n",
    "\n",
    "data['days_exposition'].describe()\n",
    "\n",
    "#data['days_exposition'].value_counts().sort_values().tail(10)"
   ]
  },
  {
   "cell_type": "markdown",
   "metadata": {},
   "source": [
    "Среднее значение 156 дней а медиана 74."
   ]
  },
  {
   "cell_type": "code",
   "execution_count": 35,
   "metadata": {},
   "outputs": [
    {
     "data": {
      "text/plain": [
       "(1.0, 1000.0)"
      ]
     },
     "execution_count": 35,
     "metadata": {},
     "output_type": "execute_result"
    },
    {
     "data": {
      "image/png": "[encoded data removed]",
      "text/plain": [
       "<Figure size 432x288 with 1 Axes>"
      ]
     },
     "metadata": {
      "needs_background": "light"
     },
     "output_type": "display_data"
    }
   ],
   "source": [
    "import matplotlib.pyplot as plt\n",
    "plt.boxplot(data[data['days_exposition']!=0]['days_exposition'])\n",
    "plt.ylim(1,1000)"
   ]
  },
  {
   "cell_type": "markdown",
   "metadata": {},
   "source": [
    "Вывод:<br>\n",
    "Видно большое количество распределений на нуле, квартиру не могли приобрести сразу после публикации объявления, скорее это ошибка или выбросы. Стандартное отклонение говорит о том что данные не однородны т.к. отличаются от среднего значения на 213 единиц. Слишком быстрыми продажами можно считать значения менее 22 двух дней, это видно по q1. А слишком долгими продажами более примерно 500 дней. При этом на графике с большим количеством корзин видны выбросы на 0,45,60,90 день.</br>"
   ]
  },
  {
   "cell_type": "code",
   "execution_count": 36,
   "metadata": {
    "scrolled": false
   },
   "outputs": [
    {
     "name": "stdout",
     "output_type": "stream",
     "text": [
      "Корреляция ровна: 0.6536539818654257\n"
     ]
    },
    {
     "data": {
      "image/png": "[encoded data removed]",
      "text/plain": [
       "<Figure size 432x288 with 1 Axes>"
      ]
     },
     "metadata": {
      "needs_background": "light"
     },
     "output_type": "display_data"
    },
    {
     "data": {
      "image/png": "[encoded data removed]",
      "text/plain": [
       "<Figure size 864x432 with 1 Axes>"
      ]
     },
     "metadata": {
      "needs_background": "light"
     },
     "output_type": "display_data"
    }
   ],
   "source": [
    "#Зависимость цены от общей площади \n",
    "data['last_price'] = data['last_price'].astype('int')\n",
    "\n",
    "data['price_per_square_meter'] = data['price_per_square_meter'].astype('int')\n",
    "\n",
    "data['total_area'] = data['total_area'].astype('int')\n",
    "\n",
    "\n",
    "data.plot(kind = 'scatter', y = 'last_price', x = 'total_area', alpha = 0.3)\n",
    "\n",
    "data.plot(x='total_area', y='last_price', \n",
    "          ylim=(0, 100000000), style='o', grid=True, figsize=(12, 6))\n",
    "          \n",
    "#Добавляем корреляцию\n",
    "          \n",
    "print('Корреляция ровна:',data['total_area'].corr(data['last_price']))\n"
   ]
  },
  {
   "cell_type": "markdown",
   "metadata": {},
   "source": [
    "По графику видно как меняются значения цены в зависимости от общей площади. Если посмотреть на значения то 0 и до 200 можно увидеть плавное увеличение цены по отношению к общей площади, есть явная зависимость. Далее график показывает резкие скачки стоимости, это похоже на выбросы в данных. "
   ]
  },
  {
   "cell_type": "code",
   "execution_count": 37,
   "metadata": {},
   "outputs": [
    {
     "name": "stdout",
     "output_type": "stream",
     "text": [
      "Корреляция ровна: 0.5664915336952651\n"
     ]
    },
    {
     "data": {
      "image/png": "[encoded data removed]",
      "text/plain": [
       "<Figure size 432x288 with 1 Axes>"
      ]
     },
     "metadata": {
      "needs_background": "light"
     },
     "output_type": "display_data"
    },
    {
     "data": {
      "image/png": "[encoded data removed]",
      "text/plain": [
       "<Figure size 864x432 with 1 Axes>"
      ]
     },
     "metadata": {
      "needs_background": "light"
     },
     "output_type": "display_data"
    }
   ],
   "source": [
    "#Зависимость цены от жилой площади\n",
    "\n",
    "data.plot(kind = 'scatter', y = 'last_price', x = 'living_area', alpha = 0.3)\n",
    "\n",
    "data.plot(x='living_area', y='last_price', \n",
    "          ylim=(0, 100000000), style='o', grid=True, figsize=(12, 6))\n",
    "\n",
    "#Добавляем корреляцию\n",
    "          \n",
    "print('Корреляция ровна:',data['living_area'].corr(data['last_price']))"
   ]
  },
  {
   "cell_type": "markdown",
   "metadata": {},
   "source": [
    "На графике можно так же отследить тенденцию увеличения стоимости недвижимости от увеличения жилой площади. Основная часть недвижимости располагается в пределах до 100 квадратных метров. Есть редкие квартиры с высокой стоимостью в этом диапазоне. Что бы понять с чем это связано скорее придётся провести дополнительный анализ и посмотреть как влияют несколько факторов одновременно на общую стоимость. "
   ]
  },
  {
   "cell_type": "code",
   "execution_count": 38,
   "metadata": {},
   "outputs": [
    {
     "name": "stdout",
     "output_type": "stream",
     "text": [
      "Корреляция ровна: 0.5198690130216392\n"
     ]
    },
    {
     "data": {
      "image/png": "[encoded data removed]",
      "text/plain": [
       "<Figure size 432x288 with 1 Axes>"
      ]
     },
     "metadata": {
      "needs_background": "light"
     },
     "output_type": "display_data"
    },
    {
     "data": {
      "image/png": "[encoded data removed]",
      "text/plain": [
       "<Figure size 864x432 with 1 Axes>"
      ]
     },
     "metadata": {
      "needs_background": "light"
     },
     "output_type": "display_data"
    }
   ],
   "source": [
    "\n",
    "data.plot(kind = 'scatter', y = 'last_price', x = 'kitchen_area', alpha = 0.3)\n",
    "\n",
    "data.plot(x='kitchen_area', y='last_price', \n",
    "          ylim=(0, 100000000), style='o', grid=True, figsize=(12, 6))\n",
    "\n",
    "#Добавляем корреляцию\n",
    "          \n",
    "print('Корреляция ровна:',data['kitchen_area'].corr(data['last_price']))"
   ]
  },
  {
   "cell_type": "markdown",
   "metadata": {},
   "source": [
    "В данном случае тенденция роста цены сохраняется, тем не менее уже не так ярко выражена, основное количество попадает от 10 и до 25 квадратных метров кухни. "
   ]
  },
  {
   "cell_type": "code",
   "execution_count": 39,
   "metadata": {},
   "outputs": [
    {
     "name": "stdout",
     "output_type": "stream",
     "text": [
      "Корреляция ровна: 0.3633428499648948\n"
     ]
    },
    {
     "data": {
      "image/png": "[encoded data removed]",
      "text/plain": [
       "<Figure size 432x288 with 1 Axes>"
      ]
     },
     "metadata": {
      "needs_background": "light"
     },
     "output_type": "display_data"
    }
   ],
   "source": [
    "value_room = data.query('rooms != 0').pivot_table(index='rooms', values='last_price',aggfunc=['mean','count','median'])\n",
    "value_room.columns = ['mean','count','median']\n",
    "value_room.plot(y='median')\n",
    "\n",
    "value_room\n",
    "\n",
    "#Добавляем корреляцию\n",
    "          \n",
    "print('Корреляция ровна:',data['rooms'].corr(data['last_price']))"
   ]
  },
  {
   "cell_type": "markdown",
   "metadata": {},
   "source": [
    "Можно видеть плавное повышение стоимости в зависимости от увеличения числа комнат. На графике виден резкий скачёк стоимости квартиры начиная с 11 и до 14 комнат. Это похоже на выброс, подтверждение можно увидет в сводной таблице, и между 11 и 14, видна строчка с 12 комнатами и не правдоподобной ценой, которая выбивается из общей массы данных. Такая квартира всего одна. и по крайней мере не понятна причина такого роста. Факторов много, возможно сам продавец посчитал что это наиболее приемлемая сумма для его недвижимости."
   ]
  },
  {
   "cell_type": "code",
   "execution_count": 40,
   "metadata": {},
   "outputs": [
    {
     "data": {
      "text/html": [
       "<div>\n",
       "<style scoped>\n",
       "    .dataframe tbody tr th:only-of-type {\n",
       "        vertical-align: middle;\n",
       "    }\n",
       "\n",
       "    .dataframe tbody tr th {\n",
       "        vertical-align: top;\n",
       "    }\n",
       "\n",
       "    .dataframe thead th {\n",
       "        text-align: right;\n",
       "    }\n",
       "</style>\n",
       "<table border=\"1\" class=\"dataframe\">\n",
       "  <thead>\n",
       "    <tr style=\"text-align: right;\">\n",
       "      <th></th>\n",
       "      <th>mean</th>\n",
       "      <th>count</th>\n",
       "      <th>median</th>\n",
       "    </tr>\n",
       "    <tr>\n",
       "      <th>аpartment_floor_type</th>\n",
       "      <th></th>\n",
       "      <th></th>\n",
       "      <th></th>\n",
       "    </tr>\n",
       "  </thead>\n",
       "  <tbody>\n",
       "    <tr>\n",
       "      <th>Первый</th>\n",
       "      <td>4.803560e+06</td>\n",
       "      <td>2917</td>\n",
       "      <td>3900000</td>\n",
       "    </tr>\n",
       "    <tr>\n",
       "      <th>Последний</th>\n",
       "      <td>7.356777e+06</td>\n",
       "      <td>3341</td>\n",
       "      <td>4300000</td>\n",
       "    </tr>\n",
       "    <tr>\n",
       "      <th>Другой</th>\n",
       "      <td>6.676894e+06</td>\n",
       "      <td>17404</td>\n",
       "      <td>4850000</td>\n",
       "    </tr>\n",
       "  </tbody>\n",
       "</table>\n",
       "</div>"
      ],
      "text/plain": [
       "                              mean  count   median\n",
       "аpartment_floor_type                              \n",
       "Первый                4.803560e+06   2917  3900000\n",
       "Последний             7.356777e+06   3341  4300000\n",
       "Другой                6.676894e+06  17404  4850000"
      ]
     },
     "execution_count": 40,
     "metadata": {},
     "output_type": "execute_result"
    },
    {
     "data": {
      "image/png": "[encoded data removed]",
      "text/plain": [
       "<Figure size 432x288 with 1 Axes>"
      ]
     },
     "metadata": {
      "needs_background": "light"
     },
     "output_type": "display_data"
    }
   ],
   "source": [
    "value_apartment_type = data.pivot_table(index='аpartment_floor_type', values='last_price',aggfunc=['mean','count','median'])\n",
    "value_apartment_type.columns = ['mean','count','median']\n",
    "\n",
    "value_apartment_type.sort_values(by='count').plot(y='median')\n",
    "value_apartment_type.sort_values(by='count')"
   ]
  },
  {
   "cell_type": "markdown",
   "metadata": {},
   "source": [
    "Чем выше квартира - тем выше её стоимость. Зависимость очевидна."
   ]
  },
  {
   "cell_type": "code",
   "execution_count": 41,
   "metadata": {},
   "outputs": [
    {
     "data": {
      "text/html": [
       "<div>\n",
       "<style scoped>\n",
       "    .dataframe tbody tr th:only-of-type {\n",
       "        vertical-align: middle;\n",
       "    }\n",
       "\n",
       "    .dataframe tbody tr th {\n",
       "        vertical-align: top;\n",
       "    }\n",
       "\n",
       "    .dataframe thead th {\n",
       "        text-align: right;\n",
       "    }\n",
       "</style>\n",
       "<table border=\"1\" class=\"dataframe\">\n",
       "  <thead>\n",
       "    <tr style=\"text-align: right;\">\n",
       "      <th></th>\n",
       "      <th>mean</th>\n",
       "      <th>count</th>\n",
       "      <th>median</th>\n",
       "    </tr>\n",
       "    <tr>\n",
       "      <th>day_of_the_week</th>\n",
       "      <th></th>\n",
       "      <th></th>\n",
       "      <th></th>\n",
       "    </tr>\n",
       "  </thead>\n",
       "  <tbody>\n",
       "    <tr>\n",
       "      <th>0</th>\n",
       "      <td>6.511613e+06</td>\n",
       "      <td>3612</td>\n",
       "      <td>4650000</td>\n",
       "    </tr>\n",
       "    <tr>\n",
       "      <th>1</th>\n",
       "      <td>6.394233e+06</td>\n",
       "      <td>4183</td>\n",
       "      <td>4730000</td>\n",
       "    </tr>\n",
       "    <tr>\n",
       "      <th>2</th>\n",
       "      <td>6.627970e+06</td>\n",
       "      <td>3974</td>\n",
       "      <td>4700000</td>\n",
       "    </tr>\n",
       "    <tr>\n",
       "      <th>3</th>\n",
       "      <td>6.708663e+06</td>\n",
       "      <td>4295</td>\n",
       "      <td>4650000</td>\n",
       "    </tr>\n",
       "    <tr>\n",
       "      <th>4</th>\n",
       "      <td>6.372131e+06</td>\n",
       "      <td>4000</td>\n",
       "      <td>4585000</td>\n",
       "    </tr>\n",
       "    <tr>\n",
       "      <th>5</th>\n",
       "      <td>6.976804e+06</td>\n",
       "      <td>1936</td>\n",
       "      <td>4555000</td>\n",
       "    </tr>\n",
       "    <tr>\n",
       "      <th>6</th>\n",
       "      <td>6.246180e+06</td>\n",
       "      <td>1699</td>\n",
       "      <td>4550000</td>\n",
       "    </tr>\n",
       "  </tbody>\n",
       "</table>\n",
       "</div>"
      ],
      "text/plain": [
       "                         mean  count   median\n",
       "day_of_the_week                              \n",
       "0                6.511613e+06   3612  4650000\n",
       "1                6.394233e+06   4183  4730000\n",
       "2                6.627970e+06   3974  4700000\n",
       "3                6.708663e+06   4295  4650000\n",
       "4                6.372131e+06   4000  4585000\n",
       "5                6.976804e+06   1936  4555000\n",
       "6                6.246180e+06   1699  4550000"
      ]
     },
     "execution_count": 41,
     "metadata": {},
     "output_type": "execute_result"
    },
    {
     "data": {
      "image/png": "[encoded data removed]",
      "text/plain": [
       "<Figure size 432x288 with 1 Axes>"
      ]
     },
     "metadata": {
      "needs_background": "light"
     },
     "output_type": "display_data"
    }
   ],
   "source": [
    "value_week_day = data.pivot_table(index='day_of_the_week',values='last_price',aggfunc=['mean','count','median'])\n",
    "value_week_day.columns = ['mean','count','median']\n",
    "value_week_day.plot(y = 'median')\n",
    "value_week_day"
   ]
  },
  {
   "cell_type": "markdown",
   "metadata": {},
   "source": [
    "Если посмотреть на график видно что объявления с объектами с высокой стоимостью подаются в будние дни, так же наивысшей точкой является вторник т.е. столбец с цифрой 1 и далее до 4 столбца, уже значительно ниже в субботу и воскресенье. "
   ]
  },
  {
   "cell_type": "code",
   "execution_count": 42,
   "metadata": {},
   "outputs": [
    {
     "data": {
      "text/html": [
       "<div>\n",
       "<style scoped>\n",
       "    .dataframe tbody tr th:only-of-type {\n",
       "        vertical-align: middle;\n",
       "    }\n",
       "\n",
       "    .dataframe tbody tr th {\n",
       "        vertical-align: top;\n",
       "    }\n",
       "\n",
       "    .dataframe thead th {\n",
       "        text-align: right;\n",
       "    }\n",
       "</style>\n",
       "<table border=\"1\" class=\"dataframe\">\n",
       "  <thead>\n",
       "    <tr style=\"text-align: right;\">\n",
       "      <th></th>\n",
       "      <th>mean</th>\n",
       "      <th>count</th>\n",
       "      <th>median</th>\n",
       "    </tr>\n",
       "    <tr>\n",
       "      <th>month_of_publication</th>\n",
       "      <th></th>\n",
       "      <th></th>\n",
       "      <th></th>\n",
       "    </tr>\n",
       "  </thead>\n",
       "  <tbody>\n",
       "    <tr>\n",
       "      <th>1</th>\n",
       "      <td>6.668233e+06</td>\n",
       "      <td>1500</td>\n",
       "      <td>4600000</td>\n",
       "    </tr>\n",
       "    <tr>\n",
       "      <th>2</th>\n",
       "      <td>6.468500e+06</td>\n",
       "      <td>2640</td>\n",
       "      <td>4650000</td>\n",
       "    </tr>\n",
       "    <tr>\n",
       "      <th>3</th>\n",
       "      <td>6.359275e+06</td>\n",
       "      <td>2587</td>\n",
       "      <td>4650000</td>\n",
       "    </tr>\n",
       "    <tr>\n",
       "      <th>4</th>\n",
       "      <td>6.737198e+06</td>\n",
       "      <td>2379</td>\n",
       "      <td>4800000</td>\n",
       "    </tr>\n",
       "    <tr>\n",
       "      <th>5</th>\n",
       "      <td>6.600435e+06</td>\n",
       "      <td>1274</td>\n",
       "      <td>4515000</td>\n",
       "    </tr>\n",
       "    <tr>\n",
       "      <th>6</th>\n",
       "      <td>6.310269e+06</td>\n",
       "      <td>1760</td>\n",
       "      <td>4400000</td>\n",
       "    </tr>\n",
       "    <tr>\n",
       "      <th>7</th>\n",
       "      <td>6.649337e+06</td>\n",
       "      <td>1695</td>\n",
       "      <td>4650000</td>\n",
       "    </tr>\n",
       "    <tr>\n",
       "      <th>8</th>\n",
       "      <td>6.350233e+06</td>\n",
       "      <td>1744</td>\n",
       "      <td>4570000</td>\n",
       "    </tr>\n",
       "    <tr>\n",
       "      <th>9</th>\n",
       "      <td>6.825470e+06</td>\n",
       "      <td>1981</td>\n",
       "      <td>4700000</td>\n",
       "    </tr>\n",
       "    <tr>\n",
       "      <th>10</th>\n",
       "      <td>6.235013e+06</td>\n",
       "      <td>2127</td>\n",
       "      <td>4570000</td>\n",
       "    </tr>\n",
       "    <tr>\n",
       "      <th>11</th>\n",
       "      <td>6.461363e+06</td>\n",
       "      <td>2371</td>\n",
       "      <td>4700000</td>\n",
       "    </tr>\n",
       "    <tr>\n",
       "      <th>12</th>\n",
       "      <td>7.011731e+06</td>\n",
       "      <td>1641</td>\n",
       "      <td>4700000</td>\n",
       "    </tr>\n",
       "  </tbody>\n",
       "</table>\n",
       "</div>"
      ],
      "text/plain": [
       "                              mean  count   median\n",
       "month_of_publication                              \n",
       "1                     6.668233e+06   1500  4600000\n",
       "2                     6.468500e+06   2640  4650000\n",
       "3                     6.359275e+06   2587  4650000\n",
       "4                     6.737198e+06   2379  4800000\n",
       "5                     6.600435e+06   1274  4515000\n",
       "6                     6.310269e+06   1760  4400000\n",
       "7                     6.649337e+06   1695  4650000\n",
       "8                     6.350233e+06   1744  4570000\n",
       "9                     6.825470e+06   1981  4700000\n",
       "10                    6.235013e+06   2127  4570000\n",
       "11                    6.461363e+06   2371  4700000\n",
       "12                    7.011731e+06   1641  4700000"
      ]
     },
     "execution_count": 42,
     "metadata": {},
     "output_type": "execute_result"
    },
    {
     "data": {
      "image/png": "[encoded data removed]",
      "text/plain": [
       "<Figure size 432x288 with 1 Axes>"
      ]
     },
     "metadata": {
      "needs_background": "light"
     },
     "output_type": "display_data"
    }
   ],
   "source": [
    "value_month = data.pivot_table(index = 'month_of_publication',values='last_price',aggfunc=['mean','count','median'])\n",
    "value_month.columns = ['mean','count','median']\n",
    "value_month.plot(y = 'median')\n",
    "value_month"
   ]
  },
  {
   "cell_type": "markdown",
   "metadata": {},
   "source": [
    "Стоимость квартир в течении года располагается примерно в одном диапазоне от 4.5 млн и до 4.7 млн. Так же виден скачёк на 4 колонке(апрель) со стоимостью объектов 4.8 млн, и далее резкий спад в течении 2- х месяцев до минимума 4.4 млн. В данном случае нет каких то точных факторов которые могли повлиять на стоимость недвижимости в этот периуд. Нужно проводить глубокий анализ,  или же уточнить дополнительно информацию заполнении этих данных, что бы понять является ли данное движение цены закономерностью или же это случайность. "
   ]
  },
  {
   "cell_type": "code",
   "execution_count": 43,
   "metadata": {},
   "outputs": [
    {
     "data": {
      "text/html": [
       "<div>\n",
       "<style scoped>\n",
       "    .dataframe tbody tr th:only-of-type {\n",
       "        vertical-align: middle;\n",
       "    }\n",
       "\n",
       "    .dataframe tbody tr th {\n",
       "        vertical-align: top;\n",
       "    }\n",
       "\n",
       "    .dataframe thead th {\n",
       "        text-align: right;\n",
       "    }\n",
       "</style>\n",
       "<table border=\"1\" class=\"dataframe\">\n",
       "  <thead>\n",
       "    <tr style=\"text-align: right;\">\n",
       "      <th></th>\n",
       "      <th>mean</th>\n",
       "      <th>count</th>\n",
       "      <th>median</th>\n",
       "    </tr>\n",
       "    <tr>\n",
       "      <th>year_of_publication</th>\n",
       "      <th></th>\n",
       "      <th></th>\n",
       "      <th></th>\n",
       "    </tr>\n",
       "  </thead>\n",
       "  <tbody>\n",
       "    <tr>\n",
       "      <th>2014</th>\n",
       "      <td>1.208714e+07</td>\n",
       "      <td>137</td>\n",
       "      <td>7700000</td>\n",
       "    </tr>\n",
       "    <tr>\n",
       "      <th>2015</th>\n",
       "      <td>8.572833e+06</td>\n",
       "      <td>1191</td>\n",
       "      <td>5350000</td>\n",
       "    </tr>\n",
       "    <tr>\n",
       "      <th>2016</th>\n",
       "      <td>6.827912e+06</td>\n",
       "      <td>2783</td>\n",
       "      <td>4550000</td>\n",
       "    </tr>\n",
       "    <tr>\n",
       "      <th>2017</th>\n",
       "      <td>6.585729e+06</td>\n",
       "      <td>8190</td>\n",
       "      <td>4500000</td>\n",
       "    </tr>\n",
       "    <tr>\n",
       "      <th>2018</th>\n",
       "      <td>5.950966e+06</td>\n",
       "      <td>8519</td>\n",
       "      <td>4550000</td>\n",
       "    </tr>\n",
       "    <tr>\n",
       "      <th>2019</th>\n",
       "      <td>6.782388e+06</td>\n",
       "      <td>2879</td>\n",
       "      <td>5050000</td>\n",
       "    </tr>\n",
       "  </tbody>\n",
       "</table>\n",
       "</div>"
      ],
      "text/plain": [
       "                             mean  count   median\n",
       "year_of_publication                              \n",
       "2014                 1.208714e+07    137  7700000\n",
       "2015                 8.572833e+06   1191  5350000\n",
       "2016                 6.827912e+06   2783  4550000\n",
       "2017                 6.585729e+06   8190  4500000\n",
       "2018                 5.950966e+06   8519  4550000\n",
       "2019                 6.782388e+06   2879  5050000"
      ]
     },
     "execution_count": 43,
     "metadata": {},
     "output_type": "execute_result"
    },
    {
     "data": {
      "image/png": "[encoded data removed]",
      "text/plain": [
       "<Figure size 432x288 with 1 Axes>"
      ]
     },
     "metadata": {
      "needs_background": "light"
     },
     "output_type": "display_data"
    }
   ],
   "source": [
    "value_year = data.pivot_table(index='year_of_publication', values='last_price', aggfunc=['mean','count','median'])\n",
    "value_year.columns = ['mean','count','median']\n",
    "value_year.plot(y = 'median')\n",
    "value_year"
   ]
  },
  {
   "cell_type": "markdown",
   "metadata": {},
   "source": [
    "Спад стоимости недвижимости очивиден пографику, но так же заметен небольшой рост стоимости начиная с 2018 года."
   ]
  },
  {
   "cell_type": "code",
   "execution_count": 44,
   "metadata": {},
   "outputs": [
    {
     "data": {
      "text/html": [
       "<div>\n",
       "<style scoped>\n",
       "    .dataframe tbody tr th:only-of-type {\n",
       "        vertical-align: middle;\n",
       "    }\n",
       "\n",
       "    .dataframe tbody tr th {\n",
       "        vertical-align: top;\n",
       "    }\n",
       "\n",
       "    .dataframe thead th {\n",
       "        text-align: right;\n",
       "    }\n",
       "</style>\n",
       "<table border=\"1\" class=\"dataframe\">\n",
       "  <thead>\n",
       "    <tr style=\"text-align: right;\">\n",
       "      <th></th>\n",
       "      <th>count</th>\n",
       "      <th>mean</th>\n",
       "    </tr>\n",
       "    <tr>\n",
       "      <th>locality_name</th>\n",
       "      <th></th>\n",
       "      <th></th>\n",
       "    </tr>\n",
       "  </thead>\n",
       "  <tbody>\n",
       "    <tr>\n",
       "      <th>Санкт-Петербург</th>\n",
       "      <td>15721</td>\n",
       "      <td>114848.565231</td>\n",
       "    </tr>\n",
       "    <tr>\n",
       "      <th>посёлок Мурино</th>\n",
       "      <td>556</td>\n",
       "      <td>85681.305755</td>\n",
       "    </tr>\n",
       "    <tr>\n",
       "      <th>посёлок Шушары</th>\n",
       "      <td>440</td>\n",
       "      <td>78676.904545</td>\n",
       "    </tr>\n",
       "    <tr>\n",
       "      <th>Всеволожск</th>\n",
       "      <td>398</td>\n",
       "      <td>68654.007538</td>\n",
       "    </tr>\n",
       "    <tr>\n",
       "      <th>Пушкин</th>\n",
       "      <td>369</td>\n",
       "      <td>103125.373984</td>\n",
       "    </tr>\n",
       "    <tr>\n",
       "      <th>Колпино</th>\n",
       "      <td>338</td>\n",
       "      <td>75424.150888</td>\n",
       "    </tr>\n",
       "    <tr>\n",
       "      <th>посёлок Парголово</th>\n",
       "      <td>327</td>\n",
       "      <td>90175.489297</td>\n",
       "    </tr>\n",
       "    <tr>\n",
       "      <th>Гатчина</th>\n",
       "      <td>307</td>\n",
       "      <td>68745.693811</td>\n",
       "    </tr>\n",
       "    <tr>\n",
       "      <th>деревня Кудрово</th>\n",
       "      <td>299</td>\n",
       "      <td>92473.086957</td>\n",
       "    </tr>\n",
       "    <tr>\n",
       "      <th>Выборг</th>\n",
       "      <td>237</td>\n",
       "      <td>58141.489451</td>\n",
       "    </tr>\n",
       "  </tbody>\n",
       "</table>\n",
       "</div>"
      ],
      "text/plain": [
       "                   count           mean\n",
       "locality_name                          \n",
       "Санкт-Петербург    15721  114848.565231\n",
       "посёлок Мурино       556   85681.305755\n",
       "посёлок Шушары       440   78676.904545\n",
       "Всеволожск           398   68654.007538\n",
       "Пушкин               369  103125.373984\n",
       "Колпино              338   75424.150888\n",
       "посёлок Парголово    327   90175.489297\n",
       "Гатчина              307   68745.693811\n",
       "деревня Кудрово      299   92473.086957\n",
       "Выборг               237   58141.489451"
      ]
     },
     "execution_count": 44,
     "metadata": {},
     "output_type": "execute_result"
    }
   ],
   "source": [
    "#Населённые пункты с наибольшим числом объявлений и средняя цена за квадратный метр \n",
    "average_price_per_square_meter = data.pivot_table(index = 'locality_name', values = 'price_per_square_meter', aggfunc=['count', 'mean'])\n",
    "average_price_per_square_meter.columns = ['count', 'mean']\n",
    "average_price_per_square_meter = average_price_per_square_meter.sort_values('count', ascending = False).head(10)\n",
    "average_price_per_square_meter"
   ]
  },
  {
   "cell_type": "code",
   "execution_count": 45,
   "metadata": {},
   "outputs": [
    {
     "data": {
      "text/html": [
       "<div>\n",
       "<style scoped>\n",
       "    .dataframe tbody tr th:only-of-type {\n",
       "        vertical-align: middle;\n",
       "    }\n",
       "\n",
       "    .dataframe tbody tr th {\n",
       "        vertical-align: top;\n",
       "    }\n",
       "\n",
       "    .dataframe thead th {\n",
       "        text-align: right;\n",
       "    }\n",
       "</style>\n",
       "<table border=\"1\" class=\"dataframe\">\n",
       "  <thead>\n",
       "    <tr style=\"text-align: right;\">\n",
       "      <th></th>\n",
       "      <th>count</th>\n",
       "      <th>mean</th>\n",
       "    </tr>\n",
       "    <tr>\n",
       "      <th>locality_name</th>\n",
       "      <th></th>\n",
       "      <th></th>\n",
       "    </tr>\n",
       "  </thead>\n",
       "  <tbody>\n",
       "    <tr>\n",
       "      <th>Санкт-Петербург</th>\n",
       "      <td>15721</td>\n",
       "      <td>114848.565231</td>\n",
       "    </tr>\n",
       "  </tbody>\n",
       "</table>\n",
       "</div>"
      ],
      "text/plain": [
       "                 count           mean\n",
       "locality_name                        \n",
       "Санкт-Петербург  15721  114848.565231"
      ]
     },
     "execution_count": 45,
     "metadata": {},
     "output_type": "execute_result"
    }
   ],
   "source": [
    "#Населённый пункт с самой высокой стоимостью за квадратный метр \n",
    "average_price_per_square_meter[average_price_per_square_meter['mean']==average_price_per_square_meter['mean'].max()]"
   ]
  },
  {
   "cell_type": "code",
   "execution_count": 46,
   "metadata": {},
   "outputs": [
    {
     "data": {
      "text/html": [
       "<div>\n",
       "<style scoped>\n",
       "    .dataframe tbody tr th:only-of-type {\n",
       "        vertical-align: middle;\n",
       "    }\n",
       "\n",
       "    .dataframe tbody tr th {\n",
       "        vertical-align: top;\n",
       "    }\n",
       "\n",
       "    .dataframe thead th {\n",
       "        text-align: right;\n",
       "    }\n",
       "</style>\n",
       "<table border=\"1\" class=\"dataframe\">\n",
       "  <thead>\n",
       "    <tr style=\"text-align: right;\">\n",
       "      <th></th>\n",
       "      <th>count</th>\n",
       "      <th>mean</th>\n",
       "    </tr>\n",
       "    <tr>\n",
       "      <th>locality_name</th>\n",
       "      <th></th>\n",
       "      <th></th>\n",
       "    </tr>\n",
       "  </thead>\n",
       "  <tbody>\n",
       "    <tr>\n",
       "      <th>Выборг</th>\n",
       "      <td>237</td>\n",
       "      <td>58141.489451</td>\n",
       "    </tr>\n",
       "  </tbody>\n",
       "</table>\n",
       "</div>"
      ],
      "text/plain": [
       "               count          mean\n",
       "locality_name                     \n",
       "Выборг           237  58141.489451"
      ]
     },
     "execution_count": 46,
     "metadata": {},
     "output_type": "execute_result"
    }
   ],
   "source": [
    "#Населённый пункт с самой низкой стоимостью за квадратный метр\n",
    "average_price_per_square_meter[average_price_per_square_meter['mean']==average_price_per_square_meter['mean'].min()]"
   ]
  },
  {
   "cell_type": "code",
   "execution_count": 47,
   "metadata": {},
   "outputs": [
    {
     "data": {
      "text/html": [
       "<div>\n",
       "<style scoped>\n",
       "    .dataframe tbody tr th:only-of-type {\n",
       "        vertical-align: middle;\n",
       "    }\n",
       "\n",
       "    .dataframe tbody tr th {\n",
       "        vertical-align: top;\n",
       "    }\n",
       "\n",
       "    .dataframe thead th {\n",
       "        text-align: right;\n",
       "    }\n",
       "</style>\n",
       "<table border=\"1\" class=\"dataframe\">\n",
       "  <thead>\n",
       "    <tr style=\"text-align: right;\">\n",
       "      <th></th>\n",
       "      <th>price_per_square_meter</th>\n",
       "    </tr>\n",
       "    <tr>\n",
       "      <th>distance_to_SPB</th>\n",
       "      <th></th>\n",
       "    </tr>\n",
       "  </thead>\n",
       "  <tbody>\n",
       "    <tr>\n",
       "      <th>0</th>\n",
       "      <td>187323.674419</td>\n",
       "    </tr>\n",
       "    <tr>\n",
       "      <th>1</th>\n",
       "      <td>166603.312500</td>\n",
       "    </tr>\n",
       "    <tr>\n",
       "      <th>2</th>\n",
       "      <td>146662.420195</td>\n",
       "    </tr>\n",
       "    <tr>\n",
       "      <th>3</th>\n",
       "      <td>129415.891635</td>\n",
       "    </tr>\n",
       "    <tr>\n",
       "      <th>4</th>\n",
       "      <td>137475.039691</td>\n",
       "    </tr>\n",
       "    <tr>\n",
       "      <th>5</th>\n",
       "      <td>146978.789337</td>\n",
       "    </tr>\n",
       "    <tr>\n",
       "      <th>6</th>\n",
       "      <td>152277.455319</td>\n",
       "    </tr>\n",
       "    <tr>\n",
       "      <th>7</th>\n",
       "      <td>141399.287469</td>\n",
       "    </tr>\n",
       "    <tr>\n",
       "      <th>8</th>\n",
       "      <td>120580.929851</td>\n",
       "    </tr>\n",
       "    <tr>\n",
       "      <th>9</th>\n",
       "      <td>110012.108696</td>\n",
       "    </tr>\n",
       "    <tr>\n",
       "      <th>10</th>\n",
       "      <td>111640.850877</td>\n",
       "    </tr>\n",
       "    <tr>\n",
       "      <th>11</th>\n",
       "      <td>106790.438163</td>\n",
       "    </tr>\n",
       "    <tr>\n",
       "      <th>12</th>\n",
       "      <td>108295.312211</td>\n",
       "    </tr>\n",
       "    <tr>\n",
       "      <th>13</th>\n",
       "      <td>107208.716120</td>\n",
       "    </tr>\n",
       "    <tr>\n",
       "      <th>14</th>\n",
       "      <td>104986.032407</td>\n",
       "    </tr>\n",
       "    <tr>\n",
       "      <th>15</th>\n",
       "      <td>101882.678077</td>\n",
       "    </tr>\n",
       "    <tr>\n",
       "      <th>16</th>\n",
       "      <td>100085.150995</td>\n",
       "    </tr>\n",
       "    <tr>\n",
       "      <th>17</th>\n",
       "      <td>94095.434457</td>\n",
       "    </tr>\n",
       "    <tr>\n",
       "      <th>18</th>\n",
       "      <td>94831.528736</td>\n",
       "    </tr>\n",
       "    <tr>\n",
       "      <th>19</th>\n",
       "      <td>95433.951220</td>\n",
       "    </tr>\n",
       "    <tr>\n",
       "      <th>20</th>\n",
       "      <td>107045.773810</td>\n",
       "    </tr>\n",
       "    <tr>\n",
       "      <th>21</th>\n",
       "      <td>91492.220513</td>\n",
       "    </tr>\n",
       "    <tr>\n",
       "      <th>22</th>\n",
       "      <td>88714.237410</td>\n",
       "    </tr>\n",
       "    <tr>\n",
       "      <th>23</th>\n",
       "      <td>92720.233333</td>\n",
       "    </tr>\n",
       "    <tr>\n",
       "      <th>24</th>\n",
       "      <td>82439.909091</td>\n",
       "    </tr>\n",
       "    <tr>\n",
       "      <th>25</th>\n",
       "      <td>91135.600000</td>\n",
       "    </tr>\n",
       "    <tr>\n",
       "      <th>26</th>\n",
       "      <td>75171.333333</td>\n",
       "    </tr>\n",
       "    <tr>\n",
       "      <th>27</th>\n",
       "      <td>132115.000000</td>\n",
       "    </tr>\n",
       "    <tr>\n",
       "      <th>28</th>\n",
       "      <td>81840.200000</td>\n",
       "    </tr>\n",
       "    <tr>\n",
       "      <th>29</th>\n",
       "      <td>62481.666667</td>\n",
       "    </tr>\n",
       "  </tbody>\n",
       "</table>\n",
       "</div>"
      ],
      "text/plain": [
       "                 price_per_square_meter\n",
       "distance_to_SPB                        \n",
       "0                         187323.674419\n",
       "1                         166603.312500\n",
       "2                         146662.420195\n",
       "3                         129415.891635\n",
       "4                         137475.039691\n",
       "5                         146978.789337\n",
       "6                         152277.455319\n",
       "7                         141399.287469\n",
       "8                         120580.929851\n",
       "9                         110012.108696\n",
       "10                        111640.850877\n",
       "11                        106790.438163\n",
       "12                        108295.312211\n",
       "13                        107208.716120\n",
       "14                        104986.032407\n",
       "15                        101882.678077\n",
       "16                        100085.150995\n",
       "17                         94095.434457\n",
       "18                         94831.528736\n",
       "19                         95433.951220\n",
       "20                        107045.773810\n",
       "21                         91492.220513\n",
       "22                         88714.237410\n",
       "23                         92720.233333\n",
       "24                         82439.909091\n",
       "25                         91135.600000\n",
       "26                         75171.333333\n",
       "27                        132115.000000\n",
       "28                         81840.200000\n",
       "29                         62481.666667"
      ]
     },
     "execution_count": 47,
     "metadata": {},
     "output_type": "execute_result"
    }
   ],
   "source": [
    "#Расстояние до центра в километрах\n",
    "data['distance_to_center']\n",
    "#Тут смогу лишь получить стоимость одного километра для каждого объекта в Питере \n",
    "data['distance_to_SPB'] = data[data['locality_name'] == 'Санкт-Петербург']['distance_to_center']\n",
    "data['cost_SPB'] = data[data['locality_name'] == 'Санкт-Петербург']['last_price']\n",
    "top = data.pivot_table(index='distance_to_SPB',values='cost_SPB',aggfunc='mean')\n",
    "top.sort_values(by='cost_SPB')\n",
    "\n",
    "#выделите квартиры в Санкт-Петербурге\n",
    "data.query('locality_name == \"Санкт-Петербург\"')\n",
    "data['distance_to_center'] = np.floor(pd.to_numeric(data['distance_to_center'], errors='coerce')).astype('Int64').sort_values()\n",
    "\n",
    "data['distance_to_center'].describe()\n",
    "\n",
    "dita = data['cost_SPB']/data['distance_to_SPB']\n",
    "\n",
    "data['distance_to_SPB'] = np.floor(pd.to_numeric(data['distance_to_SPB'], errors='coerce')).astype('Int64')\n",
    "\n",
    "\n",
    "data.query('locality_name == \"Санкт-Петербург\"').pivot_table(index='distance_to_SPB',values='price_per_square_meter',aggfunc='mean')\n"
   ]
  },
  {
   "cell_type": "markdown",
   "metadata": {},
   "source": [
    "### Общий вывод"
   ]
  },
  {
   "cell_type": "markdown",
   "metadata": {},
   "source": [
    "Обработали базу данных сервиса Яндекс Недвижимость. Были выявлены проблемы с типом данных, так же имелось большое количество пропусков. <br>Поменяли типы данных с float на int, для удобства анализа в следующих колонках:</br>\n",
    "<br>1.balcony</br>\n",
    "<br>2.parks_around3000</br>\n",
    "<br>3.ponds_around3000</br>\n",
    "<br>4.last_price</br>\n",
    "<br>5.cityCenters_nearest</br>\n",
    "<br>6.days_exposition</br>\n",
    "<br>7.floors_total</br>\n",
    "<br>8.ceiling_height</br>\n",
    "<br>9.distance_to_center</br>\n",
    "<br>10.cityCenters_nearest</br>\n",
    "<br>11.price_per_square_meter</br>\n",
    "<br>12.total_area</br>\n",
    "\n",
    "<br>Заменили пропуски нулями и медианными значениями в колонках:</br>\n",
    "<br>1.balcony</br>\n",
    "<br>2.floors_total</br>\n",
    "<br>3.ceiling_height</br>\n",
    "\n",
    "<br>Поменяли типы данных  на дата/время и булев тип данных в колонках:</br>\n",
    "<br>1.balcony</br>\n",
    "<br>2.parks_around3000</br>\n",
    "\n",
    "Избавились от неявнух дубликатов для более точного анализа. Избавились от аномалий в столбце с высотой потолков. \n",
    "\n",
    "Добавили новые полезные метрики:\n",
    "<br>Цена одного квадратного метра;</br>\n",
    "<br>День недели публикации объявления (0 — понедельник, 1 — вторник и так далее);</br>\n",
    "<br>Месяц публикации объявления;</br>\n",
    "<br>Год публикации объявления;</br>\n",
    "<br>Тип этажа квартиры;</br>\n",
    "<br>Расстояние до центра города в километрах.</br>\n",
    "\n",
    "Посмотрели зваисимости общей стоимости недвижимости от ряда факторов. Увидили что на сумму влияет этаж, общая площадь и количество комнат в квартире. По графикам видно что, в течении года имеется увеличение и спад стоимости недвижимости в периуд с апреля по июнь, трудно сказать с чем это связано, нужеен более глубокий анализ. Если смотреть на зависимость цены в течении всего периода с 2014 по 2019, ярко отслеживается падение цен на недвижимость с 2014 по 2018 год, тем не менее с 2018 по 2019 год цены на недвижимость начинают рости. Данная тенденция так же хорошо отслеживается на графике по дням недели, дорогие объекты появляются в будние дни, а ближе к выходным достигают своего минимума по цене. \n",
    "Выяснили что Санкт-Петербурге недвижимость дороже в центре города нежели на окраине. \n",
    "Так же узнали что в Санкт-Петербурге самая высокая стоимость квадратного метра примерно 114848.56523 руб. В то же время в Выборге расположились объекты с наимешьней стоимостью 58141.48945 руб за квадратный метр. \n",
    "Возможно можно было бы выявить более явные зависимости, влияющие на общую стоимость квартиры, при проведении более глубокого анализа, т.е.:<br>\n",
    "1.Посмотреть на то как одновременно влияет расположение квартиры от центра города с общей площадью на общую стоимость.</br>\n",
    "<br>2.Посмотреть на то как влияет количество квартир площадь кухни и наличие поблизости парков или аэропортов, на общую стоимость квартиры и т.д.</br>"
   ]
  }
 ],
 "metadata": {
  "ExecuteTimeLog": [
   {
    "duration": 40,
    "start_time": "2022-11-07T09:31:11.696Z"
   },
   {
    "duration": 2609,
    "start_time": "2022-11-07T09:31:25.528Z"
   },
   {
    "duration": 12,
    "start_time": "2022-11-07T09:33:13.044Z"
   },
   {
    "duration": 3525,
    "start_time": "2022-11-07T09:35:10.381Z"
   },
   {
    "duration": 1963,
    "start_time": "2022-11-07T09:35:14.219Z"
   },
   {
    "duration": 7,
    "start_time": "2022-11-07T09:35:22.155Z"
   },
   {
    "duration": 6,
    "start_time": "2022-11-07T09:35:45.856Z"
   },
   {
    "duration": 5,
    "start_time": "2022-11-07T09:37:25.203Z"
   },
   {
    "duration": 11,
    "start_time": "2022-11-07T09:37:30.752Z"
   },
   {
    "duration": 1079,
    "start_time": "2022-11-07T09:38:40.611Z"
   },
   {
    "duration": 1174,
    "start_time": "2022-11-07T09:38:56.867Z"
   },
   {
    "duration": 11,
    "start_time": "2022-11-07T09:39:04.124Z"
   },
   {
    "duration": 12,
    "start_time": "2022-11-07T09:41:07.318Z"
   },
   {
    "duration": 15,
    "start_time": "2022-11-07T09:42:28.593Z"
   },
   {
    "duration": 24,
    "start_time": "2022-11-07T09:45:17.107Z"
   },
   {
    "duration": 7,
    "start_time": "2022-11-07T09:50:54.437Z"
   },
   {
    "duration": 10,
    "start_time": "2022-11-07T09:51:10.815Z"
   },
   {
    "duration": 9,
    "start_time": "2022-11-07T09:51:19.469Z"
   },
   {
    "duration": 8,
    "start_time": "2022-11-07T09:51:36.270Z"
   },
   {
    "duration": 19,
    "start_time": "2022-11-07T09:53:12.556Z"
   },
   {
    "duration": 20,
    "start_time": "2022-11-07T10:04:44.114Z"
   },
   {
    "duration": 97,
    "start_time": "2022-11-07T10:21:59.781Z"
   },
   {
    "duration": 21,
    "start_time": "2022-11-07T10:22:09.831Z"
   },
   {
    "duration": 1485,
    "start_time": "2022-11-07T10:22:12.891Z"
   },
   {
    "duration": 255,
    "start_time": "2022-11-07T10:22:44.011Z"
   },
   {
    "duration": 303,
    "start_time": "2022-11-07T10:23:15.648Z"
   },
   {
    "duration": 8,
    "start_time": "2022-11-07T11:20:53.315Z"
   },
   {
    "duration": 7,
    "start_time": "2022-11-07T11:21:14.345Z"
   },
   {
    "duration": 1666,
    "start_time": "2022-11-07T11:21:59.562Z"
   },
   {
    "duration": 14,
    "start_time": "2022-11-08T11:52:37.590Z"
   },
   {
    "duration": 18,
    "start_time": "2022-11-08T11:52:47.918Z"
   },
   {
    "duration": 21,
    "start_time": "2022-11-08T11:53:01.358Z"
   },
   {
    "duration": 14,
    "start_time": "2022-11-08T11:53:10.370Z"
   },
   {
    "duration": 7,
    "start_time": "2022-11-08T11:54:30.526Z"
   },
   {
    "duration": 8,
    "start_time": "2022-11-08T11:57:10.338Z"
   },
   {
    "duration": 67,
    "start_time": "2022-11-08T11:57:55.066Z"
   },
   {
    "duration": 7,
    "start_time": "2022-11-08T11:58:01.867Z"
   },
   {
    "duration": 46,
    "start_time": "2022-11-08T12:04:20.137Z"
   },
   {
    "duration": 56,
    "start_time": "2022-11-08T12:04:36.337Z"
   },
   {
    "duration": 41,
    "start_time": "2022-11-08T12:04:54.476Z"
   },
   {
    "duration": 74,
    "start_time": "2022-11-08T12:05:09.802Z"
   },
   {
    "duration": 38,
    "start_time": "2022-11-08T12:05:32.605Z"
   },
   {
    "duration": 41,
    "start_time": "2022-11-08T12:06:13.138Z"
   },
   {
    "duration": 33,
    "start_time": "2022-11-08T12:06:20.807Z"
   },
   {
    "duration": 48,
    "start_time": "2022-11-08T12:06:48.753Z"
   },
   {
    "duration": 47,
    "start_time": "2022-11-08T12:07:06.353Z"
   },
   {
    "duration": 43,
    "start_time": "2022-11-08T12:07:54.971Z"
   },
   {
    "duration": 39,
    "start_time": "2022-11-08T12:08:26.709Z"
   },
   {
    "duration": 45,
    "start_time": "2022-11-08T12:08:30.849Z"
   },
   {
    "duration": 10,
    "start_time": "2022-11-08T12:08:49.633Z"
   },
   {
    "duration": 1868,
    "start_time": "2022-11-08T12:08:58.708Z"
   },
   {
    "duration": 1872,
    "start_time": "2022-11-08T12:09:24.793Z"
   },
   {
    "duration": 8,
    "start_time": "2022-11-08T12:09:58.137Z"
   },
   {
    "duration": 8,
    "start_time": "2022-11-08T12:10:15.717Z"
   },
   {
    "duration": 12,
    "start_time": "2022-11-08T12:11:02.800Z"
   },
   {
    "duration": 11,
    "start_time": "2022-11-08T12:16:59.428Z"
   },
   {
    "duration": 8,
    "start_time": "2022-11-08T12:17:05.996Z"
   },
   {
    "duration": 7,
    "start_time": "2022-11-08T12:17:19.125Z"
   },
   {
    "duration": 7,
    "start_time": "2022-11-08T12:17:35.844Z"
   },
   {
    "duration": 8,
    "start_time": "2022-11-08T12:18:13.369Z"
   },
   {
    "duration": 7,
    "start_time": "2022-11-08T12:18:27.620Z"
   },
   {
    "duration": 4,
    "start_time": "2022-11-08T12:18:43.236Z"
   },
   {
    "duration": 46,
    "start_time": "2022-11-08T12:38:22.346Z"
   },
   {
    "duration": 59,
    "start_time": "2022-11-08T12:38:35.419Z"
   },
   {
    "duration": 72,
    "start_time": "2022-11-08T12:38:52.643Z"
   },
   {
    "duration": 24,
    "start_time": "2022-11-08T12:40:00.995Z"
   },
   {
    "duration": 23,
    "start_time": "2022-11-08T12:40:09.588Z"
   },
   {
    "duration": 31,
    "start_time": "2022-11-08T12:44:27.206Z"
   },
   {
    "duration": 36,
    "start_time": "2022-11-08T12:46:52.826Z"
   },
   {
    "duration": 40,
    "start_time": "2022-11-08T12:48:23.344Z"
   },
   {
    "duration": 447,
    "start_time": "2022-11-08T13:04:36.791Z"
   },
   {
    "duration": 22,
    "start_time": "2022-11-08T13:05:05.753Z"
   },
   {
    "duration": 2002,
    "start_time": "2022-11-08T13:05:22.872Z"
   },
   {
    "duration": 34,
    "start_time": "2022-11-08T13:05:47.496Z"
   },
   {
    "duration": 40,
    "start_time": "2022-11-08T13:06:38.152Z"
   },
   {
    "duration": 31,
    "start_time": "2022-11-08T13:06:49.158Z"
   },
   {
    "duration": 34,
    "start_time": "2022-11-08T13:06:56.640Z"
   },
   {
    "duration": 43,
    "start_time": "2022-11-08T13:07:10.759Z"
   },
   {
    "duration": 32,
    "start_time": "2022-11-08T13:07:18.051Z"
   },
   {
    "duration": 40,
    "start_time": "2022-11-08T13:07:27.904Z"
   },
   {
    "duration": 41,
    "start_time": "2022-11-08T13:08:53.352Z"
   },
   {
    "duration": 6,
    "start_time": "2022-11-08T13:09:09.778Z"
   },
   {
    "duration": 9,
    "start_time": "2022-11-08T13:09:18.085Z"
   },
   {
    "duration": 7,
    "start_time": "2022-11-08T13:09:49.246Z"
   },
   {
    "duration": 7,
    "start_time": "2022-11-08T13:10:04.540Z"
   },
   {
    "duration": 7,
    "start_time": "2022-11-08T13:11:30.893Z"
   },
   {
    "duration": 7,
    "start_time": "2022-11-08T13:11:55.624Z"
   },
   {
    "duration": 5,
    "start_time": "2022-11-08T13:12:04.318Z"
   },
   {
    "duration": 7,
    "start_time": "2022-11-08T13:12:07.900Z"
   },
   {
    "duration": 6,
    "start_time": "2022-11-08T13:12:23.061Z"
   },
   {
    "duration": 7,
    "start_time": "2022-11-08T13:19:19.771Z"
   },
   {
    "duration": 34,
    "start_time": "2022-11-08T13:19:32.774Z"
   },
   {
    "duration": 1188,
    "start_time": "2022-11-08T13:22:33.980Z"
   },
   {
    "duration": 5,
    "start_time": "2022-11-08T13:22:45.017Z"
   },
   {
    "duration": 10,
    "start_time": "2022-11-08T13:22:56.000Z"
   },
   {
    "duration": 10,
    "start_time": "2022-11-08T13:23:30.330Z"
   },
   {
    "duration": 7,
    "start_time": "2022-11-08T13:23:35.697Z"
   },
   {
    "duration": 9,
    "start_time": "2022-11-08T13:23:45.901Z"
   },
   {
    "duration": 29,
    "start_time": "2022-11-08T13:23:56.577Z"
   },
   {
    "duration": 33,
    "start_time": "2022-11-08T13:24:09.462Z"
   },
   {
    "duration": 1913,
    "start_time": "2022-11-08T13:24:31.059Z"
   },
   {
    "duration": 1835,
    "start_time": "2022-11-08T13:24:42.369Z"
   },
   {
    "duration": 105,
    "start_time": "2022-11-08T13:24:58.428Z"
   },
   {
    "duration": 24,
    "start_time": "2022-11-08T13:25:22.758Z"
   },
   {
    "duration": 1763,
    "start_time": "2022-11-08T13:25:25.468Z"
   },
   {
    "duration": 89,
    "start_time": "2022-11-08T13:25:34.549Z"
   },
   {
    "duration": 32,
    "start_time": "2022-11-08T13:25:53.988Z"
   },
   {
    "duration": 8,
    "start_time": "2022-11-08T13:25:57.428Z"
   },
   {
    "duration": 29,
    "start_time": "2022-11-08T13:26:00.392Z"
   },
   {
    "duration": 6,
    "start_time": "2022-11-08T13:27:08.413Z"
   },
   {
    "duration": 81,
    "start_time": "2022-11-08T13:27:19.070Z"
   },
   {
    "duration": 33,
    "start_time": "2022-11-08T13:27:55.904Z"
   },
   {
    "duration": 48,
    "start_time": "2022-11-08T13:27:58.512Z"
   },
   {
    "duration": 32,
    "start_time": "2022-11-08T13:27:59.417Z"
   },
   {
    "duration": 33,
    "start_time": "2022-11-08T13:28:00.120Z"
   },
   {
    "duration": 31,
    "start_time": "2022-11-08T13:28:30.417Z"
   },
   {
    "duration": 33,
    "start_time": "2022-11-08T13:29:03.000Z"
   },
   {
    "duration": 11,
    "start_time": "2022-11-08T13:38:30.489Z"
   },
   {
    "duration": 36,
    "start_time": "2022-11-08T13:39:53.698Z"
   },
   {
    "duration": 5,
    "start_time": "2022-11-08T13:41:08.518Z"
   },
   {
    "duration": 6,
    "start_time": "2022-11-08T13:41:21.509Z"
   },
   {
    "duration": 7,
    "start_time": "2022-11-08T13:41:31.342Z"
   },
   {
    "duration": 9,
    "start_time": "2022-11-08T13:41:34.471Z"
   },
   {
    "duration": 6,
    "start_time": "2022-11-08T13:42:30.702Z"
   },
   {
    "duration": 8,
    "start_time": "2022-11-08T13:42:35.526Z"
   },
   {
    "duration": 8,
    "start_time": "2022-11-08T13:42:36.394Z"
   },
   {
    "duration": 7,
    "start_time": "2022-11-08T13:42:37.323Z"
   },
   {
    "duration": 7,
    "start_time": "2022-11-08T13:42:38.778Z"
   },
   {
    "duration": 9,
    "start_time": "2022-11-08T13:43:51.810Z"
   },
   {
    "duration": 8,
    "start_time": "2022-11-08T13:43:54.271Z"
   },
   {
    "duration": 20,
    "start_time": "2022-11-08T13:52:36.088Z"
   },
   {
    "duration": 14,
    "start_time": "2022-11-08T13:53:00.819Z"
   },
   {
    "duration": 99,
    "start_time": "2022-11-08T13:53:55.454Z"
   },
   {
    "duration": 14,
    "start_time": "2022-11-08T13:53:58.171Z"
   },
   {
    "duration": 4,
    "start_time": "2022-11-08T13:56:51.670Z"
   },
   {
    "duration": 8,
    "start_time": "2022-11-08T14:01:39.473Z"
   },
   {
    "duration": 50,
    "start_time": "2022-11-08T14:03:28.394Z"
   },
   {
    "duration": 37,
    "start_time": "2022-11-08T14:03:50.514Z"
   },
   {
    "duration": 47,
    "start_time": "2022-11-08T14:04:07.163Z"
   },
   {
    "duration": 38,
    "start_time": "2022-11-08T14:04:40.512Z"
   },
   {
    "duration": 34,
    "start_time": "2022-11-08T14:04:56.487Z"
   },
   {
    "duration": 36,
    "start_time": "2022-11-08T14:05:54.982Z"
   },
   {
    "duration": 41,
    "start_time": "2022-11-08T14:06:21.527Z"
   },
   {
    "duration": 19,
    "start_time": "2022-11-08T14:08:57.509Z"
   },
   {
    "duration": 37,
    "start_time": "2022-11-08T14:09:04.470Z"
   },
   {
    "duration": 26,
    "start_time": "2022-11-08T14:09:48.575Z"
   },
   {
    "duration": 18,
    "start_time": "2022-11-08T14:09:55.389Z"
   },
   {
    "duration": 7,
    "start_time": "2022-11-08T14:12:44.852Z"
   },
   {
    "duration": 25,
    "start_time": "2022-11-08T14:18:40.536Z"
   },
   {
    "duration": 13,
    "start_time": "2022-11-08T14:18:59.772Z"
   },
   {
    "duration": 7,
    "start_time": "2022-11-08T14:21:39.947Z"
   },
   {
    "duration": 7,
    "start_time": "2022-11-08T14:21:46.444Z"
   },
   {
    "duration": 10,
    "start_time": "2022-11-08T14:23:45.098Z"
   },
   {
    "duration": 10,
    "start_time": "2022-11-08T14:23:55.931Z"
   },
   {
    "duration": 9,
    "start_time": "2022-11-08T14:24:36.644Z"
   },
   {
    "duration": 12,
    "start_time": "2022-11-08T14:24:42.179Z"
   },
   {
    "duration": 10,
    "start_time": "2022-11-08T14:25:10.253Z"
   },
   {
    "duration": 9,
    "start_time": "2022-11-08T14:25:27.125Z"
   },
   {
    "duration": 10,
    "start_time": "2022-11-08T14:25:35.341Z"
   },
   {
    "duration": 30,
    "start_time": "2022-11-08T14:26:17.863Z"
   },
   {
    "duration": 18,
    "start_time": "2022-11-08T14:26:29.861Z"
   },
   {
    "duration": 17,
    "start_time": "2022-11-08T14:26:50.507Z"
   },
   {
    "duration": 21,
    "start_time": "2022-11-08T14:26:51.667Z"
   },
   {
    "duration": 17,
    "start_time": "2022-11-08T14:26:54.957Z"
   },
   {
    "duration": 18,
    "start_time": "2022-11-08T14:27:01.677Z"
   },
   {
    "duration": 112,
    "start_time": "2022-11-08T14:30:29.331Z"
   },
   {
    "duration": 25,
    "start_time": "2022-11-08T14:35:07.488Z"
   },
   {
    "duration": 18,
    "start_time": "2022-11-08T14:37:04.274Z"
   },
   {
    "duration": 17,
    "start_time": "2022-11-08T14:37:23.814Z"
   },
   {
    "duration": 20,
    "start_time": "2022-11-08T14:38:18.061Z"
   },
   {
    "duration": 28,
    "start_time": "2022-11-08T14:38:23.079Z"
   },
   {
    "duration": 19,
    "start_time": "2022-11-08T14:38:31.746Z"
   },
   {
    "duration": 19,
    "start_time": "2022-11-08T14:38:40.405Z"
   },
   {
    "duration": 24,
    "start_time": "2022-11-08T14:38:53.311Z"
   },
   {
    "duration": 18,
    "start_time": "2022-11-08T14:39:12.015Z"
   },
   {
    "duration": 23,
    "start_time": "2022-11-08T14:51:59.556Z"
   },
   {
    "duration": 21,
    "start_time": "2022-11-08T14:52:48.394Z"
   },
   {
    "duration": 7,
    "start_time": "2022-11-08T14:53:49.295Z"
   },
   {
    "duration": 6,
    "start_time": "2022-11-08T14:54:02.687Z"
   },
   {
    "duration": 6,
    "start_time": "2022-11-08T14:54:40.574Z"
   },
   {
    "duration": 14,
    "start_time": "2022-11-08T14:56:11.394Z"
   },
   {
    "duration": 33,
    "start_time": "2022-11-08T14:58:06.490Z"
   },
   {
    "duration": 38,
    "start_time": "2022-11-08T14:59:13.358Z"
   },
   {
    "duration": 29,
    "start_time": "2022-11-08T15:00:55.234Z"
   },
   {
    "duration": 7,
    "start_time": "2022-11-08T15:00:58.638Z"
   },
   {
    "duration": 82,
    "start_time": "2022-11-08T15:02:13.530Z"
   },
   {
    "duration": 137,
    "start_time": "2022-11-08T15:02:16.070Z"
   },
   {
    "duration": 120,
    "start_time": "2022-11-08T15:02:46.497Z"
   },
   {
    "duration": 9,
    "start_time": "2022-11-08T15:04:08.973Z"
   },
   {
    "duration": 91,
    "start_time": "2022-11-08T15:04:17.797Z"
   },
   {
    "duration": 27,
    "start_time": "2022-11-08T15:04:32.166Z"
   },
   {
    "duration": 9,
    "start_time": "2022-11-08T15:04:36.829Z"
   },
   {
    "duration": 60,
    "start_time": "2022-11-08T15:05:13.056Z"
   },
   {
    "duration": 9,
    "start_time": "2022-11-08T15:05:19.462Z"
   },
   {
    "duration": 44,
    "start_time": "2022-11-08T15:05:57.709Z"
   },
   {
    "duration": 6,
    "start_time": "2022-11-08T15:06:06.586Z"
   },
   {
    "duration": 7,
    "start_time": "2022-11-08T15:07:12.117Z"
   },
   {
    "duration": 9,
    "start_time": "2022-11-08T15:07:21.773Z"
   },
   {
    "duration": 63,
    "start_time": "2022-11-08T15:07:56.229Z"
   },
   {
    "duration": 7,
    "start_time": "2022-11-08T15:07:58.485Z"
   },
   {
    "duration": 63,
    "start_time": "2022-11-08T15:08:57.478Z"
   },
   {
    "duration": 7,
    "start_time": "2022-11-08T15:09:03.885Z"
   },
   {
    "duration": 7,
    "start_time": "2022-11-08T15:09:15.189Z"
   },
   {
    "duration": 80,
    "start_time": "2022-11-08T15:09:59.401Z"
   },
   {
    "duration": 7,
    "start_time": "2022-11-08T15:10:02.325Z"
   },
   {
    "duration": 106,
    "start_time": "2022-11-08T15:10:42.321Z"
   },
   {
    "duration": 10,
    "start_time": "2022-11-08T15:10:48.669Z"
   },
   {
    "duration": 7,
    "start_time": "2022-11-08T15:10:57.833Z"
   },
   {
    "duration": 6,
    "start_time": "2022-11-08T15:11:04.117Z"
   },
   {
    "duration": 7,
    "start_time": "2022-11-08T15:12:21.133Z"
   },
   {
    "duration": 7,
    "start_time": "2022-11-08T15:21:31.107Z"
   },
   {
    "duration": 130,
    "start_time": "2022-11-08T15:26:30.870Z"
   },
   {
    "duration": 198,
    "start_time": "2022-11-08T15:26:38.394Z"
   },
   {
    "duration": 214,
    "start_time": "2022-11-08T15:36:06.561Z"
   },
   {
    "duration": 313,
    "start_time": "2022-11-08T15:54:07.622Z"
   },
   {
    "duration": 223,
    "start_time": "2022-11-08T15:54:10.299Z"
   },
   {
    "duration": 212,
    "start_time": "2022-11-08T15:54:12.609Z"
   },
   {
    "duration": 426,
    "start_time": "2022-11-08T15:54:18.027Z"
   },
   {
    "duration": 214,
    "start_time": "2022-11-08T15:54:55.411Z"
   },
   {
    "duration": 202,
    "start_time": "2022-11-08T15:55:28.936Z"
   },
   {
    "duration": 213,
    "start_time": "2022-11-08T15:55:30.979Z"
   },
   {
    "duration": 233,
    "start_time": "2022-11-08T15:55:33.544Z"
   },
   {
    "duration": 231,
    "start_time": "2022-11-08T15:55:55.740Z"
   },
   {
    "duration": 214,
    "start_time": "2022-11-08T15:56:00.187Z"
   },
   {
    "duration": 366,
    "start_time": "2022-11-08T15:56:23.336Z"
   },
   {
    "duration": 227,
    "start_time": "2022-11-08T15:56:42.888Z"
   },
   {
    "duration": 216,
    "start_time": "2022-11-08T15:56:50.270Z"
   },
   {
    "duration": 152,
    "start_time": "2022-11-08T15:57:38.974Z"
   },
   {
    "duration": 193,
    "start_time": "2022-11-08T15:57:52.404Z"
   },
   {
    "duration": 150,
    "start_time": "2022-11-08T15:58:01.324Z"
   },
   {
    "duration": 215,
    "start_time": "2022-11-08T15:58:16.939Z"
   },
   {
    "duration": 118,
    "start_time": "2022-11-08T15:58:38.812Z"
   },
   {
    "duration": 208,
    "start_time": "2022-11-08T15:59:22.490Z"
   },
   {
    "duration": 162,
    "start_time": "2022-11-08T15:59:32.671Z"
   },
   {
    "duration": 134,
    "start_time": "2022-11-08T15:59:35.981Z"
   },
   {
    "duration": 147,
    "start_time": "2022-11-08T15:59:40.328Z"
   },
   {
    "duration": 153,
    "start_time": "2022-11-08T15:59:54.723Z"
   },
   {
    "duration": 149,
    "start_time": "2022-11-08T16:00:04.545Z"
   },
   {
    "duration": 143,
    "start_time": "2022-11-08T16:00:39.918Z"
   },
   {
    "duration": 474,
    "start_time": "2022-11-08T16:01:21.476Z"
   },
   {
    "duration": 186,
    "start_time": "2022-11-08T16:01:32.025Z"
   },
   {
    "duration": 173,
    "start_time": "2022-11-08T16:01:49.125Z"
   },
   {
    "duration": 192,
    "start_time": "2022-11-08T16:01:53.860Z"
   },
   {
    "duration": 1339,
    "start_time": "2022-11-08T16:02:18.593Z"
   },
   {
    "duration": 23,
    "start_time": "2022-11-08T16:02:52.249Z"
   },
   {
    "duration": 23,
    "start_time": "2022-11-08T16:03:33.703Z"
   },
   {
    "duration": 299,
    "start_time": "2022-11-08T16:03:39.574Z"
   },
   {
    "duration": 16,
    "start_time": "2022-11-08T16:03:45.681Z"
   },
   {
    "duration": 15,
    "start_time": "2022-11-08T16:03:47.291Z"
   },
   {
    "duration": 18,
    "start_time": "2022-11-08T16:15:47.602Z"
   },
   {
    "duration": 13,
    "start_time": "2022-11-08T16:16:30.691Z"
   },
   {
    "duration": 21,
    "start_time": "2022-11-08T16:16:50.014Z"
   },
   {
    "duration": 127,
    "start_time": "2022-11-08T16:17:13.271Z"
   },
   {
    "duration": 129,
    "start_time": "2022-11-08T16:17:22.973Z"
   },
   {
    "duration": 136,
    "start_time": "2022-11-08T16:17:31.719Z"
   },
   {
    "duration": 19,
    "start_time": "2022-11-08T16:17:51.494Z"
   },
   {
    "duration": 235,
    "start_time": "2022-11-08T16:18:56.291Z"
   },
   {
    "duration": 199,
    "start_time": "2022-11-08T16:19:07.983Z"
   },
   {
    "duration": 8,
    "start_time": "2022-11-08T16:20:05.810Z"
   },
   {
    "duration": 166,
    "start_time": "2022-11-08T16:20:12.571Z"
   },
   {
    "duration": 206,
    "start_time": "2022-11-08T16:20:28.026Z"
   },
   {
    "duration": 207,
    "start_time": "2022-11-08T16:20:54.627Z"
   },
   {
    "duration": 208,
    "start_time": "2022-11-08T16:21:01.779Z"
   },
   {
    "duration": 446,
    "start_time": "2022-11-08T16:21:14.672Z"
   },
   {
    "duration": 182,
    "start_time": "2022-11-08T16:21:28.214Z"
   },
   {
    "duration": 244,
    "start_time": "2022-11-08T16:21:53.334Z"
   },
   {
    "duration": 58,
    "start_time": "2022-11-08T16:24:04.842Z"
   },
   {
    "duration": 511,
    "start_time": "2022-11-08T16:24:12.750Z"
   },
   {
    "duration": 624,
    "start_time": "2022-11-08T16:24:22.128Z"
   },
   {
    "duration": 224,
    "start_time": "2022-11-08T16:24:23.646Z"
   },
   {
    "duration": 181,
    "start_time": "2022-11-08T16:24:24.972Z"
   },
   {
    "duration": 313,
    "start_time": "2022-11-08T16:24:26.531Z"
   },
   {
    "duration": 185,
    "start_time": "2022-11-08T16:24:28.499Z"
   },
   {
    "duration": 181,
    "start_time": "2022-11-08T16:24:30.254Z"
   },
   {
    "duration": 177,
    "start_time": "2022-11-08T16:24:33.472Z"
   },
   {
    "duration": 1577,
    "start_time": "2022-11-08T16:24:36.118Z"
   },
   {
    "duration": 16,
    "start_time": "2022-11-08T16:24:50.732Z"
   },
   {
    "duration": 25,
    "start_time": "2022-11-08T16:25:05.526Z"
   },
   {
    "duration": 1388,
    "start_time": "2022-11-08T16:25:18.243Z"
   },
   {
    "duration": 326,
    "start_time": "2022-11-08T16:25:26.785Z"
   },
   {
    "duration": 27,
    "start_time": "2022-11-08T16:25:31.221Z"
   },
   {
    "duration": 80,
    "start_time": "2022-11-08T16:26:08.055Z"
   },
   {
    "duration": 149,
    "start_time": "2022-11-08T16:26:15.984Z"
   },
   {
    "duration": 264,
    "start_time": "2022-11-08T16:26:34.982Z"
   },
   {
    "duration": 305,
    "start_time": "2022-11-08T16:26:36.636Z"
   },
   {
    "duration": 217,
    "start_time": "2022-11-08T16:26:38.221Z"
   },
   {
    "duration": 285,
    "start_time": "2022-11-08T16:26:39.640Z"
   },
   {
    "duration": 230,
    "start_time": "2022-11-08T16:26:40.893Z"
   },
   {
    "duration": 297,
    "start_time": "2022-11-08T16:26:42.695Z"
   },
   {
    "duration": 417,
    "start_time": "2022-11-08T16:26:53.313Z"
   },
   {
    "duration": 227,
    "start_time": "2022-11-08T16:27:16.820Z"
   },
   {
    "duration": 233,
    "start_time": "2022-11-08T16:27:40.191Z"
   },
   {
    "duration": 257,
    "start_time": "2022-11-08T16:28:10.853Z"
   },
   {
    "duration": 205,
    "start_time": "2022-11-08T16:28:18.007Z"
   },
   {
    "duration": 181,
    "start_time": "2022-11-08T16:28:27.099Z"
   },
   {
    "duration": 174,
    "start_time": "2022-11-08T16:28:44.236Z"
   },
   {
    "duration": 175,
    "start_time": "2022-11-08T16:28:56.456Z"
   },
   {
    "duration": 267,
    "start_time": "2022-11-08T16:29:04.876Z"
   },
   {
    "duration": 221,
    "start_time": "2022-11-08T16:30:01.373Z"
   },
   {
    "duration": 234,
    "start_time": "2022-11-08T16:30:08.546Z"
   },
   {
    "duration": 190,
    "start_time": "2022-11-08T16:30:19.145Z"
   },
   {
    "duration": 216,
    "start_time": "2022-11-08T16:30:36.505Z"
   },
   {
    "duration": 239,
    "start_time": "2022-11-08T16:30:44.313Z"
   },
   {
    "duration": 121,
    "start_time": "2022-11-08T16:30:50.090Z"
   },
   {
    "duration": 147,
    "start_time": "2022-11-08T16:31:38.453Z"
   },
   {
    "duration": 158,
    "start_time": "2022-11-08T16:32:04.679Z"
   },
   {
    "duration": 314,
    "start_time": "2022-11-08T16:32:18.408Z"
   },
   {
    "duration": 119,
    "start_time": "2022-11-08T16:32:27.982Z"
   },
   {
    "duration": 142,
    "start_time": "2022-11-08T16:32:37.596Z"
   },
   {
    "duration": 246,
    "start_time": "2022-11-08T16:32:55.125Z"
   },
   {
    "duration": 241,
    "start_time": "2022-11-08T16:32:59.208Z"
   },
   {
    "duration": 161,
    "start_time": "2022-11-08T16:33:08.552Z"
   },
   {
    "duration": 139,
    "start_time": "2022-11-08T16:33:46.093Z"
   },
   {
    "duration": 163,
    "start_time": "2022-11-08T16:33:51.378Z"
   },
   {
    "duration": 111,
    "start_time": "2022-11-08T16:33:56.132Z"
   },
   {
    "duration": 122,
    "start_time": "2022-11-08T16:34:02.778Z"
   },
   {
    "duration": 138,
    "start_time": "2022-11-08T16:34:15.516Z"
   },
   {
    "duration": 144,
    "start_time": "2022-11-08T16:34:20.783Z"
   },
   {
    "duration": 150,
    "start_time": "2022-11-08T16:34:57.674Z"
   },
   {
    "duration": 56,
    "start_time": "2022-11-09T09:07:06.483Z"
   },
   {
    "duration": 652,
    "start_time": "2022-11-09T09:07:14.695Z"
   },
   {
    "duration": 29,
    "start_time": "2022-11-09T09:07:22.943Z"
   },
   {
    "duration": 43,
    "start_time": "2022-11-09T09:07:53.230Z"
   },
   {
    "duration": 329,
    "start_time": "2022-11-09T09:08:20.967Z"
   },
   {
    "duration": 674,
    "start_time": "2022-11-09T09:08:35.928Z"
   },
   {
    "duration": 183,
    "start_time": "2022-11-09T09:12:38.363Z"
   },
   {
    "duration": 235,
    "start_time": "2022-11-09T09:14:39.392Z"
   },
   {
    "duration": 167,
    "start_time": "2022-11-09T09:16:59.099Z"
   },
   {
    "duration": 188,
    "start_time": "2022-11-09T09:17:05.835Z"
   },
   {
    "duration": 295,
    "start_time": "2022-11-09T09:18:46.186Z"
   },
   {
    "duration": 288,
    "start_time": "2022-11-09T09:18:52.374Z"
   },
   {
    "duration": 200,
    "start_time": "2022-11-09T09:21:44.074Z"
   },
   {
    "duration": 224,
    "start_time": "2022-11-09T09:24:34.727Z"
   },
   {
    "duration": 61,
    "start_time": "2022-11-09T09:26:12.266Z"
   },
   {
    "duration": 274,
    "start_time": "2022-11-09T09:26:14.998Z"
   },
   {
    "duration": 280,
    "start_time": "2022-11-09T09:26:30.462Z"
   },
   {
    "duration": 252,
    "start_time": "2022-11-09T09:26:48.370Z"
   },
   {
    "duration": 371,
    "start_time": "2022-11-09T09:27:18.650Z"
   },
   {
    "duration": 163,
    "start_time": "2022-11-09T09:28:13.382Z"
   },
   {
    "duration": 158,
    "start_time": "2022-11-09T09:29:07.366Z"
   },
   {
    "duration": 172,
    "start_time": "2022-11-09T09:29:15.680Z"
   },
   {
    "duration": 141,
    "start_time": "2022-11-09T09:29:19.715Z"
   },
   {
    "duration": 174,
    "start_time": "2022-11-09T09:31:35.475Z"
   },
   {
    "duration": 159,
    "start_time": "2022-11-09T09:39:39.996Z"
   },
   {
    "duration": 145,
    "start_time": "2022-11-09T09:39:44.828Z"
   },
   {
    "duration": 180,
    "start_time": "2022-11-09T09:45:23.237Z"
   },
   {
    "duration": 160,
    "start_time": "2022-11-09T09:48:35.368Z"
   },
   {
    "duration": 188,
    "start_time": "2022-11-09T09:49:32.210Z"
   },
   {
    "duration": 110,
    "start_time": "2022-11-09T09:49:42.351Z"
   },
   {
    "duration": 110,
    "start_time": "2022-11-09T09:49:48.475Z"
   },
   {
    "duration": 112,
    "start_time": "2022-11-09T09:49:53.236Z"
   },
   {
    "duration": 114,
    "start_time": "2022-11-09T09:50:31.920Z"
   },
   {
    "duration": 119,
    "start_time": "2022-11-09T09:56:33.558Z"
   },
   {
    "duration": 204,
    "start_time": "2022-11-09T10:00:08.250Z"
   },
   {
    "duration": 174,
    "start_time": "2022-11-09T10:03:31.555Z"
   },
   {
    "duration": 189,
    "start_time": "2022-11-09T10:07:36.153Z"
   },
   {
    "duration": 200,
    "start_time": "2022-11-09T10:08:00.943Z"
   },
   {
    "duration": 341,
    "start_time": "2022-11-09T10:08:43.717Z"
   },
   {
    "duration": 233,
    "start_time": "2022-11-09T10:08:59.491Z"
   },
   {
    "duration": 225,
    "start_time": "2022-11-09T10:10:46.216Z"
   },
   {
    "duration": 228,
    "start_time": "2022-11-09T10:11:00.187Z"
   },
   {
    "duration": 279,
    "start_time": "2022-11-09T10:11:46.619Z"
   },
   {
    "duration": 251,
    "start_time": "2022-11-09T10:12:47.899Z"
   },
   {
    "duration": 266,
    "start_time": "2022-11-09T10:13:33.843Z"
   },
   {
    "duration": 190,
    "start_time": "2022-11-09T10:13:49.283Z"
   },
   {
    "duration": 182,
    "start_time": "2022-11-09T10:16:19.823Z"
   },
   {
    "duration": 209,
    "start_time": "2022-11-09T10:16:46.327Z"
   },
   {
    "duration": 161,
    "start_time": "2022-11-09T10:18:39.375Z"
   },
   {
    "duration": 183,
    "start_time": "2022-11-09T10:19:00.327Z"
   },
   {
    "duration": 171,
    "start_time": "2022-11-09T10:19:45.775Z"
   },
   {
    "duration": 176,
    "start_time": "2022-11-09T10:20:18.175Z"
   },
   {
    "duration": 159,
    "start_time": "2022-11-09T10:20:26.615Z"
   },
   {
    "duration": 240,
    "start_time": "2022-11-09T10:20:44.423Z"
   },
   {
    "duration": 101,
    "start_time": "2022-11-09T10:20:58.845Z"
   },
   {
    "duration": 99,
    "start_time": "2022-11-09T10:21:02.131Z"
   },
   {
    "duration": 106,
    "start_time": "2022-11-09T10:21:23.155Z"
   },
   {
    "duration": 95,
    "start_time": "2022-11-09T10:21:25.319Z"
   },
   {
    "duration": 173,
    "start_time": "2022-11-09T10:22:01.447Z"
   },
   {
    "duration": 193,
    "start_time": "2022-11-09T10:22:17.806Z"
   },
   {
    "duration": 30,
    "start_time": "2022-11-09T10:25:55.764Z"
   },
   {
    "duration": 183,
    "start_time": "2022-11-09T10:26:04.930Z"
   },
   {
    "duration": 181,
    "start_time": "2022-11-09T10:26:22.317Z"
   },
   {
    "duration": 165,
    "start_time": "2022-11-09T10:26:27.983Z"
   },
   {
    "duration": 22,
    "start_time": "2022-11-09T10:27:08.243Z"
   },
   {
    "duration": 173,
    "start_time": "2022-11-09T10:27:14.673Z"
   },
   {
    "duration": 99,
    "start_time": "2022-11-09T10:27:38.732Z"
   },
   {
    "duration": 98,
    "start_time": "2022-11-09T10:27:42.911Z"
   },
   {
    "duration": 24,
    "start_time": "2022-11-09T10:27:53.941Z"
   },
   {
    "duration": 165,
    "start_time": "2022-11-09T10:28:01.266Z"
   },
   {
    "duration": 97,
    "start_time": "2022-11-09T10:29:28.009Z"
   },
   {
    "duration": 25,
    "start_time": "2022-11-09T10:29:38.551Z"
   },
   {
    "duration": 171,
    "start_time": "2022-11-09T10:29:47.426Z"
   },
   {
    "duration": 852,
    "start_time": "2022-11-09T10:30:09.515Z"
   },
   {
    "duration": 384,
    "start_time": "2022-11-09T10:30:28.134Z"
   },
   {
    "duration": 143,
    "start_time": "2022-11-09T10:30:35.983Z"
   },
   {
    "duration": 123,
    "start_time": "2022-11-09T10:30:45.066Z"
   },
   {
    "duration": 154,
    "start_time": "2022-11-09T10:30:50.951Z"
   },
   {
    "duration": 137,
    "start_time": "2022-11-09T10:31:27.156Z"
   },
   {
    "duration": 176,
    "start_time": "2022-11-09T10:33:52.323Z"
   },
   {
    "duration": 140,
    "start_time": "2022-11-09T10:34:11.022Z"
   },
   {
    "duration": 137,
    "start_time": "2022-11-09T10:34:13.695Z"
   },
   {
    "duration": 144,
    "start_time": "2022-11-09T10:34:25.582Z"
   },
   {
    "duration": 319,
    "start_time": "2022-11-09T10:37:28.614Z"
   },
   {
    "duration": 186,
    "start_time": "2022-11-09T10:37:35.274Z"
   },
   {
    "duration": 215,
    "start_time": "2022-11-09T10:37:40.555Z"
   },
   {
    "duration": 182,
    "start_time": "2022-11-09T10:37:48.382Z"
   },
   {
    "duration": 183,
    "start_time": "2022-11-09T10:38:11.414Z"
   },
   {
    "duration": 135,
    "start_time": "2022-11-09T11:09:23.859Z"
   },
   {
    "duration": 145,
    "start_time": "2022-11-09T11:09:45.011Z"
   },
   {
    "duration": 247,
    "start_time": "2022-11-09T11:10:05.742Z"
   },
   {
    "duration": 152,
    "start_time": "2022-11-09T11:10:18.238Z"
   },
   {
    "duration": 144,
    "start_time": "2022-11-09T11:11:01.357Z"
   },
   {
    "duration": 146,
    "start_time": "2022-11-09T11:11:52.098Z"
   },
   {
    "duration": 147,
    "start_time": "2022-11-09T11:11:55.898Z"
   },
   {
    "duration": 178,
    "start_time": "2022-11-09T11:12:00.949Z"
   },
   {
    "duration": 145,
    "start_time": "2022-11-09T11:12:05.205Z"
   },
   {
    "duration": 165,
    "start_time": "2022-11-09T11:12:27.325Z"
   },
   {
    "duration": 173,
    "start_time": "2022-11-09T11:14:00.361Z"
   },
   {
    "duration": 715,
    "start_time": "2022-11-09T11:16:14.224Z"
   },
   {
    "duration": 737,
    "start_time": "2022-11-09T11:16:25.232Z"
   },
   {
    "duration": 171,
    "start_time": "2022-11-09T11:16:52.828Z"
   },
   {
    "duration": 175,
    "start_time": "2022-11-09T11:17:07.095Z"
   },
   {
    "duration": 206,
    "start_time": "2022-11-09T11:17:16.432Z"
   },
   {
    "duration": 173,
    "start_time": "2022-11-09T11:17:22.004Z"
   },
   {
    "duration": 165,
    "start_time": "2022-11-09T11:18:12.856Z"
   },
   {
    "duration": 172,
    "start_time": "2022-11-09T11:18:16.912Z"
   },
   {
    "duration": 152,
    "start_time": "2022-11-09T11:18:31.683Z"
   },
   {
    "duration": 163,
    "start_time": "2022-11-09T11:18:36.040Z"
   },
   {
    "duration": 166,
    "start_time": "2022-11-09T11:18:41.639Z"
   },
   {
    "duration": 274,
    "start_time": "2022-11-09T11:18:45.216Z"
   },
   {
    "duration": 167,
    "start_time": "2022-11-09T11:18:49.304Z"
   },
   {
    "duration": 167,
    "start_time": "2022-11-09T11:18:57.191Z"
   },
   {
    "duration": 167,
    "start_time": "2022-11-09T11:19:07.047Z"
   },
   {
    "duration": 176,
    "start_time": "2022-11-09T11:19:11.939Z"
   },
   {
    "duration": 170,
    "start_time": "2022-11-09T11:20:19.861Z"
   },
   {
    "duration": 188,
    "start_time": "2022-11-09T11:20:54.635Z"
   },
   {
    "duration": 164,
    "start_time": "2022-11-09T11:21:05.491Z"
   },
   {
    "duration": 181,
    "start_time": "2022-11-09T11:21:10.418Z"
   },
   {
    "duration": 168,
    "start_time": "2022-11-09T11:21:14.248Z"
   },
   {
    "duration": 107,
    "start_time": "2022-11-09T11:27:07.934Z"
   },
   {
    "duration": 247,
    "start_time": "2022-11-09T11:27:17.430Z"
   },
   {
    "duration": 174,
    "start_time": "2022-11-09T11:27:31.118Z"
   },
   {
    "duration": 166,
    "start_time": "2022-11-09T11:34:47.386Z"
   },
   {
    "duration": 13,
    "start_time": "2022-11-09T11:54:01.583Z"
   },
   {
    "duration": 10,
    "start_time": "2022-11-09T11:54:21.296Z"
   },
   {
    "duration": 9,
    "start_time": "2022-11-09T11:54:57.436Z"
   },
   {
    "duration": 9,
    "start_time": "2022-11-09T11:55:08.836Z"
   },
   {
    "duration": 8,
    "start_time": "2022-11-09T11:57:31.971Z"
   },
   {
    "duration": 7,
    "start_time": "2022-11-09T11:57:33.519Z"
   },
   {
    "duration": 186,
    "start_time": "2022-11-09T11:57:37.911Z"
   },
   {
    "duration": 10,
    "start_time": "2022-11-09T11:57:39.863Z"
   },
   {
    "duration": 6,
    "start_time": "2022-11-09T11:58:31.551Z"
   },
   {
    "duration": 7,
    "start_time": "2022-11-09T11:58:39.603Z"
   },
   {
    "duration": 8,
    "start_time": "2022-11-09T11:58:53.615Z"
   },
   {
    "duration": 9,
    "start_time": "2022-11-09T11:59:02.567Z"
   },
   {
    "duration": 14,
    "start_time": "2022-11-09T12:02:15.367Z"
   },
   {
    "duration": 13,
    "start_time": "2022-11-09T12:02:42.387Z"
   },
   {
    "duration": 11,
    "start_time": "2022-11-09T12:03:26.987Z"
   },
   {
    "duration": 14,
    "start_time": "2022-11-09T12:03:43.090Z"
   },
   {
    "duration": 7,
    "start_time": "2022-11-09T12:03:46.987Z"
   },
   {
    "duration": 9,
    "start_time": "2022-11-09T12:08:23.883Z"
   },
   {
    "duration": 217,
    "start_time": "2022-11-09T12:08:56.444Z"
   },
   {
    "duration": 186,
    "start_time": "2022-11-09T12:09:03.270Z"
   },
   {
    "duration": 8,
    "start_time": "2022-11-09T12:09:18.859Z"
   },
   {
    "duration": 10,
    "start_time": "2022-11-09T12:09:21.654Z"
   },
   {
    "duration": 11,
    "start_time": "2022-11-09T12:09:46.651Z"
   },
   {
    "duration": 12,
    "start_time": "2022-11-09T12:09:58.534Z"
   },
   {
    "duration": 8,
    "start_time": "2022-11-09T12:10:42.070Z"
   },
   {
    "duration": 9,
    "start_time": "2022-11-09T12:10:44.586Z"
   },
   {
    "duration": 11,
    "start_time": "2022-11-09T12:10:49.259Z"
   },
   {
    "duration": 10,
    "start_time": "2022-11-09T12:11:43.138Z"
   },
   {
    "duration": 8,
    "start_time": "2022-11-09T12:12:07.259Z"
   },
   {
    "duration": 12,
    "start_time": "2022-11-09T12:14:00.166Z"
   },
   {
    "duration": 15,
    "start_time": "2022-11-09T12:14:14.338Z"
   },
   {
    "duration": 13,
    "start_time": "2022-11-09T12:16:29.686Z"
   },
   {
    "duration": 12,
    "start_time": "2022-11-09T12:16:35.318Z"
   },
   {
    "duration": 13,
    "start_time": "2022-11-09T12:16:49.134Z"
   },
   {
    "duration": 16,
    "start_time": "2022-11-09T12:22:06.582Z"
   },
   {
    "duration": 14,
    "start_time": "2022-11-09T12:22:13.789Z"
   },
   {
    "duration": 1109,
    "start_time": "2022-11-09T12:28:13.280Z"
   },
   {
    "duration": 14,
    "start_time": "2022-11-09T12:28:27.788Z"
   },
   {
    "duration": 31,
    "start_time": "2022-11-09T12:28:40.861Z"
   },
   {
    "duration": 431,
    "start_time": "2022-11-09T12:28:44.989Z"
   },
   {
    "duration": 12,
    "start_time": "2022-11-09T12:28:54.533Z"
   },
   {
    "duration": 13,
    "start_time": "2022-11-09T12:29:12.129Z"
   },
   {
    "duration": 43,
    "start_time": "2022-11-09T12:29:53.628Z"
   },
   {
    "duration": 11,
    "start_time": "2022-11-09T12:30:31.668Z"
   },
   {
    "duration": 13,
    "start_time": "2022-11-09T12:30:51.801Z"
   },
   {
    "duration": 13,
    "start_time": "2022-11-09T12:31:52.969Z"
   },
   {
    "duration": 12,
    "start_time": "2022-11-09T12:32:07.848Z"
   },
   {
    "duration": 9,
    "start_time": "2022-11-09T12:32:11.425Z"
   },
   {
    "duration": 8,
    "start_time": "2022-11-09T12:39:32.649Z"
   },
   {
    "duration": 10,
    "start_time": "2022-11-09T12:39:35.064Z"
   },
   {
    "duration": 11,
    "start_time": "2022-11-09T12:39:36.224Z"
   },
   {
    "duration": 11,
    "start_time": "2022-11-09T12:39:37.287Z"
   },
   {
    "duration": 11,
    "start_time": "2022-11-09T12:39:38.443Z"
   },
   {
    "duration": 10,
    "start_time": "2022-11-09T12:39:39.600Z"
   },
   {
    "duration": 12,
    "start_time": "2022-11-09T12:39:41.212Z"
   },
   {
    "duration": 12,
    "start_time": "2022-11-09T12:39:42.376Z"
   },
   {
    "duration": 11,
    "start_time": "2022-11-09T12:42:56.631Z"
   },
   {
    "duration": 6,
    "start_time": "2022-11-09T12:43:24.036Z"
   },
   {
    "duration": 9,
    "start_time": "2022-11-09T12:43:34.539Z"
   },
   {
    "duration": 3,
    "start_time": "2022-11-09T12:43:51.759Z"
   },
   {
    "duration": 5,
    "start_time": "2022-11-09T12:44:08.900Z"
   },
   {
    "duration": 52,
    "start_time": "2022-11-09T12:44:28.580Z"
   },
   {
    "duration": 8,
    "start_time": "2022-11-09T12:44:33.411Z"
   },
   {
    "duration": 50,
    "start_time": "2022-11-09T12:45:19.859Z"
   },
   {
    "duration": 5,
    "start_time": "2022-11-09T12:48:43.563Z"
   },
   {
    "duration": 6,
    "start_time": "2022-11-09T12:48:54.004Z"
   },
   {
    "duration": 8,
    "start_time": "2022-11-09T12:51:44.284Z"
   },
   {
    "duration": 9,
    "start_time": "2022-11-09T12:52:15.691Z"
   },
   {
    "duration": 8,
    "start_time": "2022-11-09T12:52:48.743Z"
   },
   {
    "duration": 9,
    "start_time": "2022-11-09T12:53:08.758Z"
   },
   {
    "duration": 7,
    "start_time": "2022-11-09T12:53:25.231Z"
   },
   {
    "duration": 8,
    "start_time": "2022-11-09T12:53:34.257Z"
   },
   {
    "duration": 8,
    "start_time": "2022-11-09T12:55:25.923Z"
   },
   {
    "duration": 8,
    "start_time": "2022-11-09T12:55:32.723Z"
   },
   {
    "duration": 7,
    "start_time": "2022-11-09T12:55:57.591Z"
   },
   {
    "duration": 9,
    "start_time": "2022-11-09T12:56:17.399Z"
   },
   {
    "duration": 9,
    "start_time": "2022-11-09T12:56:34.215Z"
   },
   {
    "duration": 8,
    "start_time": "2022-11-09T12:56:51.459Z"
   },
   {
    "duration": 8,
    "start_time": "2022-11-09T12:57:03.819Z"
   },
   {
    "duration": 9,
    "start_time": "2022-11-09T12:57:10.970Z"
   },
   {
    "duration": 14,
    "start_time": "2022-11-09T12:58:58.207Z"
   },
   {
    "duration": 725,
    "start_time": "2022-11-09T12:59:25.103Z"
   },
   {
    "duration": 1604,
    "start_time": "2022-11-09T13:00:29.038Z"
   },
   {
    "duration": 1704,
    "start_time": "2022-11-09T13:00:40.533Z"
   },
   {
    "duration": 10,
    "start_time": "2022-11-09T13:13:44.742Z"
   },
   {
    "duration": 10,
    "start_time": "2022-11-09T13:13:58.075Z"
   },
   {
    "duration": 13,
    "start_time": "2022-11-09T13:14:02.298Z"
   },
   {
    "duration": 21,
    "start_time": "2022-11-09T13:16:23.554Z"
   },
   {
    "duration": 13,
    "start_time": "2022-11-09T13:16:57.890Z"
   },
   {
    "duration": 21,
    "start_time": "2022-11-09T13:17:15.210Z"
   },
   {
    "duration": 7,
    "start_time": "2022-11-09T13:18:28.282Z"
   },
   {
    "duration": 10,
    "start_time": "2022-11-09T13:18:34.398Z"
   },
   {
    "duration": 18,
    "start_time": "2022-11-09T13:23:59.866Z"
   },
   {
    "duration": 30,
    "start_time": "2022-11-09T13:24:06.446Z"
   },
   {
    "duration": 16,
    "start_time": "2022-11-09T13:25:28.161Z"
   },
   {
    "duration": 55,
    "start_time": "2022-11-09T13:27:02.194Z"
   },
   {
    "duration": 27,
    "start_time": "2022-11-09T13:27:26.506Z"
   },
   {
    "duration": 26,
    "start_time": "2022-11-09T13:28:03.346Z"
   },
   {
    "duration": 53,
    "start_time": "2022-11-09T13:28:06.593Z"
   },
   {
    "duration": 27,
    "start_time": "2022-11-09T13:28:22.893Z"
   },
   {
    "duration": 27,
    "start_time": "2022-11-09T13:28:58.301Z"
   },
   {
    "duration": 28,
    "start_time": "2022-11-09T13:29:14.953Z"
   },
   {
    "duration": 27,
    "start_time": "2022-11-09T13:29:37.849Z"
   },
   {
    "duration": 780,
    "start_time": "2022-11-09T13:35:17.074Z"
   },
   {
    "duration": 27,
    "start_time": "2022-11-09T13:35:20.201Z"
   },
   {
    "duration": 28,
    "start_time": "2022-11-09T13:47:29.389Z"
   },
   {
    "duration": 29,
    "start_time": "2022-11-09T13:48:11.576Z"
   },
   {
    "duration": 32,
    "start_time": "2022-11-09T13:48:36.461Z"
   },
   {
    "duration": 33,
    "start_time": "2022-11-09T13:48:44.060Z"
   },
   {
    "duration": 303,
    "start_time": "2022-11-09T13:49:11.785Z"
   },
   {
    "duration": 27,
    "start_time": "2022-11-09T13:49:30.777Z"
   },
   {
    "duration": 23,
    "start_time": "2022-11-09T13:49:54.178Z"
   },
   {
    "duration": 22,
    "start_time": "2022-11-09T13:50:16.108Z"
   },
   {
    "duration": 25,
    "start_time": "2022-11-09T13:50:53.588Z"
   },
   {
    "duration": 24,
    "start_time": "2022-11-09T13:51:09.104Z"
   },
   {
    "duration": 31,
    "start_time": "2022-11-09T13:51:16.517Z"
   },
   {
    "duration": 24,
    "start_time": "2022-11-09T13:54:22.480Z"
   },
   {
    "duration": 271,
    "start_time": "2022-11-09T13:57:02.668Z"
   },
   {
    "duration": 256,
    "start_time": "2022-11-09T13:57:11.384Z"
   },
   {
    "duration": 8,
    "start_time": "2022-11-09T14:03:34.111Z"
   },
   {
    "duration": 9,
    "start_time": "2022-11-09T14:04:36.356Z"
   },
   {
    "duration": 30,
    "start_time": "2022-11-09T14:09:30.731Z"
   },
   {
    "duration": 29,
    "start_time": "2022-11-09T14:09:56.738Z"
   },
   {
    "duration": 31,
    "start_time": "2022-11-09T14:14:06.566Z"
   },
   {
    "duration": 26,
    "start_time": "2022-11-09T14:14:35.742Z"
   },
   {
    "duration": 29,
    "start_time": "2022-11-09T14:14:50.778Z"
   },
   {
    "duration": 37,
    "start_time": "2022-11-09T14:15:22.878Z"
   },
   {
    "duration": 32,
    "start_time": "2022-11-09T14:16:56.591Z"
   },
   {
    "duration": 29,
    "start_time": "2022-11-09T14:17:11.661Z"
   },
   {
    "duration": 39,
    "start_time": "2022-11-09T14:20:01.154Z"
   },
   {
    "duration": 30,
    "start_time": "2022-11-09T14:20:39.634Z"
   },
   {
    "duration": 67,
    "start_time": "2022-11-09T14:25:14.730Z"
   },
   {
    "duration": 15,
    "start_time": "2022-11-09T14:28:09.165Z"
   },
   {
    "duration": 10,
    "start_time": "2022-11-09T14:31:39.305Z"
   },
   {
    "duration": 11,
    "start_time": "2022-11-09T14:32:32.815Z"
   },
   {
    "duration": 113,
    "start_time": "2022-11-09T14:33:56.881Z"
   },
   {
    "duration": 15,
    "start_time": "2022-11-09T14:34:09.796Z"
   },
   {
    "duration": 982,
    "start_time": "2022-11-09T14:34:26.109Z"
   },
   {
    "duration": 14,
    "start_time": "2022-11-09T14:34:43.289Z"
   },
   {
    "duration": 13,
    "start_time": "2022-11-09T14:34:50.657Z"
   },
   {
    "duration": 1150,
    "start_time": "2022-11-09T14:34:57.880Z"
   },
   {
    "duration": 102,
    "start_time": "2022-11-09T14:35:09.297Z"
   },
   {
    "duration": 19,
    "start_time": "2022-11-09T14:35:12.293Z"
   },
   {
    "duration": 2032,
    "start_time": "2022-11-09T14:35:18.785Z"
   },
   {
    "duration": 23,
    "start_time": "2022-11-09T14:35:27.883Z"
   },
   {
    "duration": 9,
    "start_time": "2022-11-09T14:35:31.477Z"
   },
   {
    "duration": 98,
    "start_time": "2022-11-09T14:35:33.020Z"
   },
   {
    "duration": 7,
    "start_time": "2022-11-09T14:35:34.025Z"
   },
   {
    "duration": 43,
    "start_time": "2022-11-09T14:35:35.309Z"
   },
   {
    "duration": 21,
    "start_time": "2022-11-09T14:35:36.613Z"
   },
   {
    "duration": 282,
    "start_time": "2022-11-09T14:35:37.745Z"
   },
   {
    "duration": 182,
    "start_time": "2022-11-09T14:35:38.377Z"
   },
   {
    "duration": 49,
    "start_time": "2022-11-09T14:35:38.629Z"
   },
   {
    "duration": 226,
    "start_time": "2022-11-09T14:35:38.837Z"
   },
   {
    "duration": 189,
    "start_time": "2022-11-09T14:35:39.242Z"
   },
   {
    "duration": 274,
    "start_time": "2022-11-09T14:35:39.644Z"
   },
   {
    "duration": 144,
    "start_time": "2022-11-09T14:35:40.013Z"
   },
   {
    "duration": 353,
    "start_time": "2022-11-09T14:35:40.369Z"
   },
   {
    "duration": 178,
    "start_time": "2022-11-09T14:35:40.736Z"
   },
   {
    "duration": 53,
    "start_time": "2022-11-09T14:35:40.917Z"
   },
   {
    "duration": 128,
    "start_time": "2022-11-09T14:35:41.089Z"
   },
   {
    "duration": 165,
    "start_time": "2022-11-09T14:35:41.448Z"
   },
   {
    "duration": 190,
    "start_time": "2022-11-09T14:36:07.905Z"
   },
   {
    "duration": 230,
    "start_time": "2022-11-09T14:36:09.952Z"
   },
   {
    "duration": 195,
    "start_time": "2022-11-09T14:36:12.708Z"
   },
   {
    "duration": 139,
    "start_time": "2022-11-09T14:36:14.305Z"
   },
   {
    "duration": 149,
    "start_time": "2022-11-09T14:36:15.721Z"
   },
   {
    "duration": 186,
    "start_time": "2022-11-09T14:36:16.956Z"
   },
   {
    "duration": 172,
    "start_time": "2022-11-09T14:36:18.189Z"
   },
   {
    "duration": 22,
    "start_time": "2022-11-09T14:36:19.009Z"
   },
   {
    "duration": 8,
    "start_time": "2022-11-09T14:36:19.705Z"
   },
   {
    "duration": 9,
    "start_time": "2022-11-09T14:36:21.041Z"
   },
   {
    "duration": 8,
    "start_time": "2022-11-09T14:36:39.409Z"
   },
   {
    "duration": 69,
    "start_time": "2022-11-09T14:36:44.147Z"
   },
   {
    "duration": 69,
    "start_time": "2022-11-09T14:38:34.636Z"
   },
   {
    "duration": 84,
    "start_time": "2022-11-09T15:05:32.749Z"
   },
   {
    "duration": 48,
    "start_time": "2022-11-09T15:07:24.790Z"
   },
   {
    "duration": 53,
    "start_time": "2022-11-09T15:14:10.547Z"
   },
   {
    "duration": 48,
    "start_time": "2022-11-09T15:16:01.201Z"
   },
   {
    "duration": 49,
    "start_time": "2022-11-09T15:16:49.546Z"
   },
   {
    "duration": 45,
    "start_time": "2022-11-09T15:17:15.370Z"
   },
   {
    "duration": 64,
    "start_time": "2022-11-09T15:19:07.089Z"
   },
   {
    "duration": 51,
    "start_time": "2022-11-09T15:19:18.449Z"
   },
   {
    "duration": 42,
    "start_time": "2022-11-09T15:21:11.817Z"
   },
   {
    "duration": 53,
    "start_time": "2022-11-09T15:21:25.209Z"
   },
   {
    "duration": 58,
    "start_time": "2022-11-09T15:21:52.193Z"
   },
   {
    "duration": 7,
    "start_time": "2022-11-09T15:26:03.727Z"
   },
   {
    "duration": 103,
    "start_time": "2022-11-09T15:26:07.049Z"
   },
   {
    "duration": 19,
    "start_time": "2022-11-09T15:26:12.039Z"
   },
   {
    "duration": 36,
    "start_time": "2022-11-09T15:37:01.515Z"
   },
   {
    "duration": 169,
    "start_time": "2022-11-09T15:37:28.787Z"
   },
   {
    "duration": 151,
    "start_time": "2022-11-09T15:37:34.835Z"
   },
   {
    "duration": 50,
    "start_time": "2022-11-09T15:37:59.210Z"
   },
   {
    "duration": 48,
    "start_time": "2022-11-09T15:38:04.001Z"
   },
   {
    "duration": 58,
    "start_time": "2022-11-09T15:40:27.576Z"
   },
   {
    "duration": 157,
    "start_time": "2022-11-09T15:40:42.649Z"
   },
   {
    "duration": 156,
    "start_time": "2022-11-09T15:41:08.409Z"
   },
   {
    "duration": 146,
    "start_time": "2022-11-09T15:41:29.409Z"
   },
   {
    "duration": 161,
    "start_time": "2022-11-09T15:41:37.362Z"
   },
   {
    "duration": 153,
    "start_time": "2022-11-09T15:41:56.967Z"
   },
   {
    "duration": 155,
    "start_time": "2022-11-09T15:44:15.824Z"
   },
   {
    "duration": 152,
    "start_time": "2022-11-09T15:44:35.000Z"
   },
   {
    "duration": 145,
    "start_time": "2022-11-09T15:46:13.583Z"
   },
   {
    "duration": 46,
    "start_time": "2022-11-09T20:34:03.224Z"
   },
   {
    "duration": 683,
    "start_time": "2022-11-09T20:34:08.540Z"
   },
   {
    "duration": 487,
    "start_time": "2022-11-09T20:34:16.865Z"
   },
   {
    "duration": 16,
    "start_time": "2022-11-09T20:34:32.341Z"
   },
   {
    "duration": 55,
    "start_time": "2022-11-09T20:35:25.424Z"
   },
   {
    "duration": 153,
    "start_time": "2022-11-09T20:35:41.903Z"
   },
   {
    "duration": 149,
    "start_time": "2022-11-09T20:35:56.840Z"
   },
   {
    "duration": 152,
    "start_time": "2022-11-09T20:37:46.237Z"
   },
   {
    "duration": 183,
    "start_time": "2022-11-09T20:38:33.892Z"
   },
   {
    "duration": 145,
    "start_time": "2022-11-09T20:40:09.869Z"
   },
   {
    "duration": 145,
    "start_time": "2022-11-09T20:41:36.211Z"
   },
   {
    "duration": 51,
    "start_time": "2022-11-09T20:41:58.369Z"
   },
   {
    "duration": 836,
    "start_time": "2022-11-09T20:42:30.680Z"
   },
   {
    "duration": 138,
    "start_time": "2022-11-09T20:42:45.553Z"
   },
   {
    "duration": 143,
    "start_time": "2022-11-09T20:42:55.304Z"
   },
   {
    "duration": 144,
    "start_time": "2022-11-09T20:43:23.436Z"
   },
   {
    "duration": 140,
    "start_time": "2022-11-09T20:43:47.029Z"
   },
   {
    "duration": 134,
    "start_time": "2022-11-09T20:43:56.747Z"
   },
   {
    "duration": 167,
    "start_time": "2022-11-09T20:44:21.956Z"
   },
   {
    "duration": 372,
    "start_time": "2022-11-09T20:46:34.268Z"
   },
   {
    "duration": 579,
    "start_time": "2022-11-09T20:46:53.876Z"
   },
   {
    "duration": 241,
    "start_time": "2022-11-09T20:47:38.180Z"
   },
   {
    "duration": 497,
    "start_time": "2022-11-09T20:48:12.107Z"
   },
   {
    "duration": 404,
    "start_time": "2022-11-09T20:48:26.564Z"
   },
   {
    "duration": 434,
    "start_time": "2022-11-09T20:48:38.699Z"
   },
   {
    "duration": 373,
    "start_time": "2022-11-09T20:48:56.000Z"
   },
   {
    "duration": 379,
    "start_time": "2022-11-09T20:50:04.079Z"
   },
   {
    "duration": 13,
    "start_time": "2022-11-09T20:50:12.733Z"
   },
   {
    "duration": 432,
    "start_time": "2022-11-09T20:50:33.756Z"
   },
   {
    "duration": 358,
    "start_time": "2022-11-09T20:50:56.059Z"
   },
   {
    "duration": 49,
    "start_time": "2022-11-09T20:51:34.991Z"
   },
   {
    "duration": 408,
    "start_time": "2022-11-09T20:51:41.127Z"
   },
   {
    "duration": 430,
    "start_time": "2022-11-09T20:51:47.995Z"
   },
   {
    "duration": 396,
    "start_time": "2022-11-09T20:51:53.044Z"
   },
   {
    "duration": 383,
    "start_time": "2022-11-09T20:51:57.795Z"
   },
   {
    "duration": 393,
    "start_time": "2022-11-09T20:52:01.599Z"
   },
   {
    "duration": 395,
    "start_time": "2022-11-09T20:52:13.571Z"
   },
   {
    "duration": 257,
    "start_time": "2022-11-09T20:54:01.939Z"
   },
   {
    "duration": 369,
    "start_time": "2022-11-09T20:54:14.960Z"
   },
   {
    "duration": 260,
    "start_time": "2022-11-09T20:54:29.997Z"
   },
   {
    "duration": 146,
    "start_time": "2022-11-09T20:55:34.071Z"
   },
   {
    "duration": 653,
    "start_time": "2022-11-09T20:56:45.494Z"
   },
   {
    "duration": 39,
    "start_time": "2022-11-09T20:58:47.714Z"
   },
   {
    "duration": 325,
    "start_time": "2022-11-09T20:59:05.063Z"
   },
   {
    "duration": 555,
    "start_time": "2022-11-10T11:50:47.662Z"
   },
   {
    "duration": 69,
    "start_time": "2022-11-10T11:51:33.143Z"
   },
   {
    "duration": 27,
    "start_time": "2022-11-10T11:51:43.239Z"
   },
   {
    "duration": 8,
    "start_time": "2022-11-10T11:51:45.575Z"
   },
   {
    "duration": 89,
    "start_time": "2022-11-10T11:51:46.636Z"
   },
   {
    "duration": 8,
    "start_time": "2022-11-10T11:51:50.142Z"
   },
   {
    "duration": 37,
    "start_time": "2022-11-10T11:51:51.950Z"
   },
   {
    "duration": 18,
    "start_time": "2022-11-10T11:51:54.641Z"
   },
   {
    "duration": 283,
    "start_time": "2022-11-10T11:51:58.091Z"
   },
   {
    "duration": 15,
    "start_time": "2022-11-10T12:50:56.410Z"
   },
   {
    "duration": 793,
    "start_time": "2022-11-10T12:54:53.687Z"
   },
   {
    "duration": 279,
    "start_time": "2022-11-10T12:55:38.939Z"
   },
   {
    "duration": 295,
    "start_time": "2022-11-10T12:56:41.812Z"
   },
   {
    "duration": 336,
    "start_time": "2022-11-10T12:57:13.984Z"
   },
   {
    "duration": 300,
    "start_time": "2022-11-10T12:59:56.018Z"
   },
   {
    "duration": 300,
    "start_time": "2022-11-10T13:07:29.142Z"
   },
   {
    "duration": 312,
    "start_time": "2022-11-10T13:07:48.568Z"
   },
   {
    "duration": 301,
    "start_time": "2022-11-10T13:09:30.452Z"
   },
   {
    "duration": 295,
    "start_time": "2022-11-10T13:09:39.150Z"
   },
   {
    "duration": 289,
    "start_time": "2022-11-10T13:11:48.249Z"
   },
   {
    "duration": 596,
    "start_time": "2022-11-10T13:12:35.297Z"
   },
   {
    "duration": 253,
    "start_time": "2022-11-10T13:13:16.712Z"
   },
   {
    "duration": 274,
    "start_time": "2022-11-10T13:13:46.173Z"
   },
   {
    "duration": 263,
    "start_time": "2022-11-10T13:14:00.665Z"
   },
   {
    "duration": 1454,
    "start_time": "2022-11-10T13:14:23.359Z"
   },
   {
    "duration": 269,
    "start_time": "2022-11-10T13:14:36.927Z"
   },
   {
    "duration": 1273,
    "start_time": "2022-11-10T13:15:48.191Z"
   },
   {
    "duration": 1240,
    "start_time": "2022-11-10T13:16:12.157Z"
   },
   {
    "duration": 119,
    "start_time": "2022-11-10T13:16:44.641Z"
   },
   {
    "duration": 325,
    "start_time": "2022-11-10T13:17:39.721Z"
   },
   {
    "duration": 31,
    "start_time": "2022-11-10T13:18:18.673Z"
   },
   {
    "duration": 26,
    "start_time": "2022-11-10T13:18:51.521Z"
   },
   {
    "duration": 31,
    "start_time": "2022-11-10T13:18:59.567Z"
   },
   {
    "duration": 1157,
    "start_time": "2022-11-10T13:19:15.965Z"
   },
   {
    "duration": 161,
    "start_time": "2022-11-10T13:19:24.749Z"
   },
   {
    "duration": 172,
    "start_time": "2022-11-10T13:20:01.806Z"
   },
   {
    "duration": 184,
    "start_time": "2022-11-10T13:20:05.093Z"
   },
   {
    "duration": 154,
    "start_time": "2022-11-10T13:24:41.428Z"
   },
   {
    "duration": 166,
    "start_time": "2022-11-10T13:25:11.921Z"
   },
   {
    "duration": 330,
    "start_time": "2022-11-10T13:34:24.947Z"
   },
   {
    "duration": 1119,
    "start_time": "2022-11-10T13:34:48.453Z"
   },
   {
    "duration": 188,
    "start_time": "2022-11-10T13:35:02.162Z"
   },
   {
    "duration": 170,
    "start_time": "2022-11-10T13:35:24.933Z"
   },
   {
    "duration": 213,
    "start_time": "2022-11-10T13:36:44.004Z"
   },
   {
    "duration": 158,
    "start_time": "2022-11-10T13:37:31.200Z"
   },
   {
    "duration": 155,
    "start_time": "2022-11-10T13:39:17.547Z"
   },
   {
    "duration": 184,
    "start_time": "2022-11-10T13:40:04.135Z"
   },
   {
    "duration": 151,
    "start_time": "2022-11-10T13:45:50.147Z"
   },
   {
    "duration": 165,
    "start_time": "2022-11-10T13:46:03.434Z"
   },
   {
    "duration": 151,
    "start_time": "2022-11-10T13:46:11.449Z"
   },
   {
    "duration": 212,
    "start_time": "2022-11-10T13:46:23.971Z"
   },
   {
    "duration": 157,
    "start_time": "2022-11-10T13:46:40.192Z"
   },
   {
    "duration": 152,
    "start_time": "2022-11-10T13:46:46.282Z"
   },
   {
    "duration": 145,
    "start_time": "2022-11-10T13:46:54.971Z"
   },
   {
    "duration": 168,
    "start_time": "2022-11-10T13:46:59.963Z"
   },
   {
    "duration": 157,
    "start_time": "2022-11-10T13:47:15.579Z"
   },
   {
    "duration": 294,
    "start_time": "2022-11-10T13:47:23.074Z"
   },
   {
    "duration": 147,
    "start_time": "2022-11-10T13:47:34.244Z"
   },
   {
    "duration": 166,
    "start_time": "2022-11-10T13:53:03.437Z"
   },
   {
    "duration": 1355,
    "start_time": "2022-11-10T13:57:26.733Z"
   },
   {
    "duration": 316,
    "start_time": "2022-11-10T13:57:50.125Z"
   },
   {
    "duration": 181,
    "start_time": "2022-11-10T13:58:19.701Z"
   },
   {
    "duration": 109,
    "start_time": "2022-11-10T14:39:41.180Z"
   },
   {
    "duration": 92,
    "start_time": "2022-11-10T14:39:58.702Z"
   },
   {
    "duration": 100,
    "start_time": "2022-11-10T14:40:14.443Z"
   },
   {
    "duration": 95,
    "start_time": "2022-11-10T14:40:22.319Z"
   },
   {
    "duration": 95,
    "start_time": "2022-11-10T14:40:35.937Z"
   },
   {
    "duration": 136,
    "start_time": "2022-11-10T14:40:42.817Z"
   },
   {
    "duration": 103,
    "start_time": "2022-11-10T14:40:50.478Z"
   },
   {
    "duration": 97,
    "start_time": "2022-11-10T14:40:56.371Z"
   },
   {
    "duration": 96,
    "start_time": "2022-11-10T14:40:59.822Z"
   },
   {
    "duration": 108,
    "start_time": "2022-11-10T14:41:07.082Z"
   },
   {
    "duration": 198,
    "start_time": "2022-11-10T14:54:15.946Z"
   },
   {
    "duration": 235,
    "start_time": "2022-11-10T15:21:35.499Z"
   },
   {
    "duration": 445,
    "start_time": "2022-11-10T15:22:28.636Z"
   },
   {
    "duration": 286,
    "start_time": "2022-11-10T15:22:42.355Z"
   },
   {
    "duration": 190,
    "start_time": "2022-11-10T15:23:11.004Z"
   },
   {
    "duration": 245,
    "start_time": "2022-11-10T15:23:29.968Z"
   },
   {
    "duration": 284,
    "start_time": "2022-11-10T15:27:46.072Z"
   },
   {
    "duration": 397,
    "start_time": "2022-11-10T15:29:06.015Z"
   },
   {
    "duration": 240,
    "start_time": "2022-11-10T15:29:25.783Z"
   },
   {
    "duration": 14,
    "start_time": "2022-11-10T15:29:53.731Z"
   },
   {
    "duration": 237,
    "start_time": "2022-11-10T15:30:25.347Z"
   },
   {
    "duration": 248,
    "start_time": "2022-11-10T15:33:40.030Z"
   },
   {
    "duration": 1039,
    "start_time": "2022-11-10T15:34:27.124Z"
   },
   {
    "duration": 215,
    "start_time": "2022-11-10T15:38:21.784Z"
   },
   {
    "duration": 253,
    "start_time": "2022-11-10T15:38:45.525Z"
   },
   {
    "duration": 136,
    "start_time": "2022-11-10T15:38:54.079Z"
   },
   {
    "duration": 78,
    "start_time": "2022-11-10T15:40:31.371Z"
   },
   {
    "duration": 148,
    "start_time": "2022-11-10T15:42:04.110Z"
   },
   {
    "duration": 142,
    "start_time": "2022-11-10T15:42:27.126Z"
   },
   {
    "duration": 290,
    "start_time": "2022-11-10T15:42:58.394Z"
   },
   {
    "duration": 288,
    "start_time": "2022-11-10T15:43:21.758Z"
   },
   {
    "duration": 461,
    "start_time": "2022-11-10T15:44:00.202Z"
   },
   {
    "duration": 292,
    "start_time": "2022-11-10T15:44:23.091Z"
   },
   {
    "duration": 308,
    "start_time": "2022-11-10T15:44:31.466Z"
   },
   {
    "duration": 301,
    "start_time": "2022-11-10T15:44:35.106Z"
   },
   {
    "duration": 228,
    "start_time": "2022-11-10T15:49:08.606Z"
   },
   {
    "duration": 142,
    "start_time": "2022-11-10T15:49:15.658Z"
   },
   {
    "duration": 209,
    "start_time": "2022-11-10T15:53:33.330Z"
   },
   {
    "duration": 431,
    "start_time": "2022-11-10T15:53:47.499Z"
   },
   {
    "duration": 274,
    "start_time": "2022-11-10T15:55:02.672Z"
   },
   {
    "duration": 262,
    "start_time": "2022-11-10T15:55:06.803Z"
   },
   {
    "duration": 1615,
    "start_time": "2022-11-10T15:55:12.856Z"
   },
   {
    "duration": 201,
    "start_time": "2022-11-10T15:55:20.383Z"
   },
   {
    "duration": 208,
    "start_time": "2022-11-10T15:55:27.662Z"
   },
   {
    "duration": 261,
    "start_time": "2022-11-10T15:57:04.237Z"
   },
   {
    "duration": 131,
    "start_time": "2022-11-10T16:05:26.046Z"
   },
   {
    "duration": 402,
    "start_time": "2022-11-10T16:06:42.179Z"
   },
   {
    "duration": 432,
    "start_time": "2022-11-10T16:07:20.801Z"
   },
   {
    "duration": 671,
    "start_time": "2022-11-10T16:07:31.906Z"
   },
   {
    "duration": 417,
    "start_time": "2022-11-10T16:07:39.277Z"
   },
   {
    "duration": 399,
    "start_time": "2022-11-10T16:07:47.327Z"
   },
   {
    "duration": 1224,
    "start_time": "2022-11-10T16:20:22.438Z"
   },
   {
    "duration": 1184,
    "start_time": "2022-11-10T16:20:42.516Z"
   },
   {
    "duration": 15,
    "start_time": "2022-11-10T16:21:01.982Z"
   },
   {
    "duration": 96,
    "start_time": "2022-11-10T16:21:10.370Z"
   },
   {
    "duration": 25,
    "start_time": "2022-11-10T16:21:15.790Z"
   },
   {
    "duration": 273,
    "start_time": "2022-11-10T16:21:20.102Z"
   },
   {
    "duration": 185,
    "start_time": "2022-11-10T16:21:30.618Z"
   },
   {
    "duration": 387,
    "start_time": "2022-11-10T16:21:52.902Z"
   },
   {
    "duration": 179,
    "start_time": "2022-11-10T16:22:56.618Z"
   },
   {
    "duration": 182,
    "start_time": "2022-11-10T16:23:15.958Z"
   },
   {
    "duration": 189,
    "start_time": "2022-11-10T16:23:38.654Z"
   },
   {
    "duration": 440,
    "start_time": "2022-11-10T16:24:44.870Z"
   },
   {
    "duration": 1238,
    "start_time": "2022-11-10T16:26:54.850Z"
   },
   {
    "duration": 1270,
    "start_time": "2022-11-10T16:27:15.810Z"
   },
   {
    "duration": 15,
    "start_time": "2022-11-10T16:27:29.102Z"
   },
   {
    "duration": 1353,
    "start_time": "2022-11-10T16:27:32.766Z"
   },
   {
    "duration": 397,
    "start_time": "2022-11-10T16:27:45.230Z"
   },
   {
    "duration": 415,
    "start_time": "2022-11-10T16:27:54.141Z"
   },
   {
    "duration": 1651,
    "start_time": "2022-11-10T16:30:51.443Z"
   },
   {
    "duration": 1492,
    "start_time": "2022-11-10T16:34:37.339Z"
   },
   {
    "duration": 582,
    "start_time": "2022-11-10T16:35:01.164Z"
   },
   {
    "duration": 549,
    "start_time": "2022-11-10T16:35:11.505Z"
   },
   {
    "duration": 587,
    "start_time": "2022-11-10T16:35:20.679Z"
   },
   {
    "duration": 568,
    "start_time": "2022-11-10T16:36:01.767Z"
   },
   {
    "duration": 895,
    "start_time": "2022-11-10T16:36:18.484Z"
   },
   {
    "duration": 560,
    "start_time": "2022-11-10T16:36:29.392Z"
   },
   {
    "duration": 573,
    "start_time": "2022-11-10T16:36:36.192Z"
   },
   {
    "duration": 740,
    "start_time": "2022-11-10T16:36:41.375Z"
   },
   {
    "duration": 730,
    "start_time": "2022-11-10T16:36:53.736Z"
   },
   {
    "duration": 795,
    "start_time": "2022-11-10T16:37:01.302Z"
   },
   {
    "duration": 599,
    "start_time": "2022-11-10T16:37:11.414Z"
   },
   {
    "duration": 428,
    "start_time": "2022-11-10T17:27:44.581Z"
   },
   {
    "duration": 553,
    "start_time": "2022-11-10T17:27:58.009Z"
   },
   {
    "duration": 394,
    "start_time": "2022-11-10T17:28:04.810Z"
   },
   {
    "duration": 49,
    "start_time": "2022-11-12T09:40:20.329Z"
   },
   {
    "duration": 1132,
    "start_time": "2022-11-12T09:40:25.272Z"
   },
   {
    "duration": 22,
    "start_time": "2022-11-12T09:40:31.693Z"
   },
   {
    "duration": 2094,
    "start_time": "2022-11-12T09:40:32.943Z"
   },
   {
    "duration": 26,
    "start_time": "2022-11-12T09:40:39.292Z"
   },
   {
    "duration": 10,
    "start_time": "2022-11-12T09:40:43.216Z"
   },
   {
    "duration": 140,
    "start_time": "2022-11-12T09:40:45.258Z"
   },
   {
    "duration": 66,
    "start_time": "2022-11-12T09:43:35.975Z"
   },
   {
    "duration": 62,
    "start_time": "2022-11-12T09:43:46.798Z"
   },
   {
    "duration": 22,
    "start_time": "2022-11-12T09:43:49.032Z"
   },
   {
    "duration": 285,
    "start_time": "2022-11-12T09:43:52.982Z"
   },
   {
    "duration": 404,
    "start_time": "2022-11-12T09:44:02.690Z"
   },
   {
    "duration": 454,
    "start_time": "2022-11-12T09:44:16.195Z"
   },
   {
    "duration": 454,
    "start_time": "2022-11-12T09:46:33.104Z"
   },
   {
    "duration": 369,
    "start_time": "2022-11-12T09:49:24.692Z"
   },
   {
    "duration": 6,
    "start_time": "2022-11-12T09:55:20.472Z"
   },
   {
    "duration": 6,
    "start_time": "2022-11-12T09:56:52.612Z"
   },
   {
    "duration": 7,
    "start_time": "2022-11-12T09:56:57.720Z"
   },
   {
    "duration": 16,
    "start_time": "2022-11-12T09:58:06.390Z"
   },
   {
    "duration": 15,
    "start_time": "2022-11-12T09:58:38.695Z"
   },
   {
    "duration": 15,
    "start_time": "2022-11-12T10:13:05.664Z"
   },
   {
    "duration": 20,
    "start_time": "2022-11-12T10:13:08.622Z"
   },
   {
    "duration": 14,
    "start_time": "2022-11-12T10:14:27.878Z"
   },
   {
    "duration": 14,
    "start_time": "2022-11-12T10:14:30.591Z"
   },
   {
    "duration": 18,
    "start_time": "2022-11-12T10:14:49.423Z"
   },
   {
    "duration": 14,
    "start_time": "2022-11-12T10:15:33.122Z"
   },
   {
    "duration": 372,
    "start_time": "2022-11-12T10:15:36.751Z"
   },
   {
    "duration": 402,
    "start_time": "2022-11-12T10:16:25.415Z"
   },
   {
    "duration": 449,
    "start_time": "2022-11-12T10:19:48.510Z"
   },
   {
    "duration": 459,
    "start_time": "2022-11-12T10:20:02.510Z"
   },
   {
    "duration": 397,
    "start_time": "2022-11-12T10:20:09.218Z"
   },
   {
    "duration": 550,
    "start_time": "2022-11-12T10:21:19.252Z"
   },
   {
    "duration": 140,
    "start_time": "2022-11-12T10:23:10.522Z"
   },
   {
    "duration": 13,
    "start_time": "2022-11-12T10:31:26.833Z"
   },
   {
    "duration": 5,
    "start_time": "2022-11-12T10:32:01.793Z"
   },
   {
    "duration": 149,
    "start_time": "2022-11-12T10:33:42.037Z"
   },
   {
    "duration": 158,
    "start_time": "2022-11-12T10:34:08.477Z"
   },
   {
    "duration": 250,
    "start_time": "2022-11-12T10:34:42.092Z"
   },
   {
    "duration": 158,
    "start_time": "2022-11-12T10:36:03.839Z"
   },
   {
    "duration": 159,
    "start_time": "2022-11-12T10:36:28.220Z"
   },
   {
    "duration": 148,
    "start_time": "2022-11-12T10:36:58.245Z"
   },
   {
    "duration": 157,
    "start_time": "2022-11-12T10:37:06.757Z"
   },
   {
    "duration": 53,
    "start_time": "2022-11-12T10:37:54.260Z"
   },
   {
    "duration": 6,
    "start_time": "2022-11-12T10:50:38.843Z"
   },
   {
    "duration": 648,
    "start_time": "2022-11-12T10:51:14.003Z"
   },
   {
    "duration": 567,
    "start_time": "2022-11-12T10:51:42.828Z"
   },
   {
    "duration": 630,
    "start_time": "2022-11-12T10:52:01.852Z"
   },
   {
    "duration": 635,
    "start_time": "2022-11-12T10:52:09.017Z"
   },
   {
    "duration": 704,
    "start_time": "2022-11-12T10:52:24.682Z"
   },
   {
    "duration": 620,
    "start_time": "2022-11-12T10:55:49.467Z"
   },
   {
    "duration": 24,
    "start_time": "2022-11-12T11:10:34.208Z"
   },
   {
    "duration": 18,
    "start_time": "2022-11-12T11:11:23.023Z"
   },
   {
    "duration": 114,
    "start_time": "2022-11-12T11:13:15.682Z"
   },
   {
    "duration": 48,
    "start_time": "2022-11-12T11:25:15.666Z"
   },
   {
    "duration": 129,
    "start_time": "2022-11-12T11:25:19.854Z"
   },
   {
    "duration": 139,
    "start_time": "2022-11-12T11:25:36.803Z"
   },
   {
    "duration": 131,
    "start_time": "2022-11-12T11:25:43.095Z"
   },
   {
    "duration": 139,
    "start_time": "2022-11-12T11:25:46.510Z"
   },
   {
    "duration": 141,
    "start_time": "2022-11-12T11:25:54.579Z"
   },
   {
    "duration": 289,
    "start_time": "2022-11-12T12:46:23.104Z"
   },
   {
    "duration": 420,
    "start_time": "2022-11-12T12:46:52.543Z"
   },
   {
    "duration": 303,
    "start_time": "2022-11-12T12:47:06.855Z"
   },
   {
    "duration": 308,
    "start_time": "2022-11-12T12:47:18.014Z"
   },
   {
    "duration": 1667,
    "start_time": "2022-11-12T12:51:50.067Z"
   },
   {
    "duration": 19,
    "start_time": "2022-11-12T12:51:51.736Z"
   },
   {
    "duration": 1744,
    "start_time": "2022-11-12T12:51:51.756Z"
   },
   {
    "duration": 46,
    "start_time": "2022-11-12T12:51:53.503Z"
   },
   {
    "duration": 9,
    "start_time": "2022-11-12T12:51:53.550Z"
   },
   {
    "duration": 82,
    "start_time": "2022-11-12T12:51:53.560Z"
   },
   {
    "duration": 6,
    "start_time": "2022-11-12T12:51:53.644Z"
   },
   {
    "duration": 36,
    "start_time": "2022-11-12T12:51:53.651Z"
   },
   {
    "duration": 18,
    "start_time": "2022-11-12T12:51:53.688Z"
   },
   {
    "duration": 245,
    "start_time": "2022-11-12T12:51:53.729Z"
   },
   {
    "duration": 245,
    "start_time": "2022-11-12T12:51:53.976Z"
   },
   {
    "duration": 222,
    "start_time": "2022-11-12T12:51:54.222Z"
   },
   {
    "duration": 187,
    "start_time": "2022-11-12T12:51:54.446Z"
   },
   {
    "duration": 250,
    "start_time": "2022-11-12T12:51:54.635Z"
   },
   {
    "duration": 155,
    "start_time": "2022-11-12T12:51:54.887Z"
   },
   {
    "duration": 192,
    "start_time": "2022-11-12T12:51:55.043Z"
   },
   {
    "duration": 199,
    "start_time": "2022-11-12T12:51:55.237Z"
   },
   {
    "duration": 142,
    "start_time": "2022-11-12T12:51:55.437Z"
   },
   {
    "duration": 267,
    "start_time": "2022-11-12T12:51:55.581Z"
   },
   {
    "duration": 204,
    "start_time": "2022-11-12T12:51:55.850Z"
   },
   {
    "duration": 235,
    "start_time": "2022-11-12T12:51:56.056Z"
   },
   {
    "duration": 207,
    "start_time": "2022-11-12T12:51:56.292Z"
   },
   {
    "duration": 158,
    "start_time": "2022-11-12T12:51:56.501Z"
   },
   {
    "duration": 158,
    "start_time": "2022-11-12T12:51:56.661Z"
   },
   {
    "duration": 134,
    "start_time": "2022-11-12T12:51:56.821Z"
   },
   {
    "duration": 460,
    "start_time": "2022-11-12T12:51:56.956Z"
   },
   {
    "duration": 90,
    "start_time": "2022-11-12T12:51:57.417Z"
   },
   {
    "duration": 364,
    "start_time": "2022-11-12T12:51:57.509Z"
   },
   {
    "duration": 383,
    "start_time": "2022-11-12T12:51:57.875Z"
   },
   {
    "duration": 353,
    "start_time": "2022-11-12T12:51:58.259Z"
   },
   {
    "duration": 211,
    "start_time": "2022-11-12T12:51:58.614Z"
   },
   {
    "duration": 136,
    "start_time": "2022-11-12T12:51:58.829Z"
   },
   {
    "duration": 834,
    "start_time": "2022-11-12T12:51:58.966Z"
   },
   {
    "duration": 45,
    "start_time": "2022-11-12T12:51:59.801Z"
   },
   {
    "duration": 7,
    "start_time": "2022-11-12T12:51:59.847Z"
   },
   {
    "duration": 12,
    "start_time": "2022-11-12T12:51:59.856Z"
   },
   {
    "duration": 64,
    "start_time": "2022-11-12T12:51:59.870Z"
   },
   {
    "duration": 24,
    "start_time": "2022-11-12T12:54:46.250Z"
   },
   {
    "duration": 85,
    "start_time": "2022-11-12T12:54:49.064Z"
   },
   {
    "duration": 7,
    "start_time": "2022-11-12T12:56:26.786Z"
   },
   {
    "duration": 6,
    "start_time": "2022-11-12T12:56:32.129Z"
   },
   {
    "duration": 37,
    "start_time": "2022-11-12T12:56:44.974Z"
   },
   {
    "duration": 47,
    "start_time": "2022-11-12T14:57:41.888Z"
   },
   {
    "duration": 6,
    "start_time": "2022-11-12T14:58:07.782Z"
   },
   {
    "duration": 888,
    "start_time": "2022-11-12T15:02:58.774Z"
   },
   {
    "duration": 18,
    "start_time": "2022-11-12T15:02:59.664Z"
   },
   {
    "duration": 1979,
    "start_time": "2022-11-12T15:02:59.685Z"
   },
   {
    "duration": 26,
    "start_time": "2022-11-12T15:03:01.666Z"
   },
   {
    "duration": 8,
    "start_time": "2022-11-12T15:03:01.694Z"
   },
   {
    "duration": 108,
    "start_time": "2022-11-12T15:03:01.704Z"
   },
   {
    "duration": 7,
    "start_time": "2022-11-12T15:03:01.814Z"
   },
   {
    "duration": 57,
    "start_time": "2022-11-12T15:03:01.823Z"
   },
   {
    "duration": 21,
    "start_time": "2022-11-12T15:03:01.883Z"
   },
   {
    "duration": 299,
    "start_time": "2022-11-12T15:03:01.906Z"
   },
   {
    "duration": 203,
    "start_time": "2022-11-12T15:03:02.207Z"
   },
   {
    "duration": 320,
    "start_time": "2022-11-12T15:03:02.412Z"
   },
   {
    "duration": 200,
    "start_time": "2022-11-12T15:03:02.741Z"
   },
   {
    "duration": 266,
    "start_time": "2022-11-12T15:03:02.943Z"
   },
   {
    "duration": 140,
    "start_time": "2022-11-12T15:03:03.211Z"
   },
   {
    "duration": 160,
    "start_time": "2022-11-12T15:03:03.352Z"
   },
   {
    "duration": 164,
    "start_time": "2022-11-12T15:03:03.514Z"
   },
   {
    "duration": 130,
    "start_time": "2022-11-12T15:03:03.679Z"
   },
   {
    "duration": 210,
    "start_time": "2022-11-12T15:03:03.811Z"
   },
   {
    "duration": 277,
    "start_time": "2022-11-12T15:03:04.022Z"
   },
   {
    "duration": 244,
    "start_time": "2022-11-12T15:03:04.300Z"
   },
   {
    "duration": 232,
    "start_time": "2022-11-12T15:03:04.545Z"
   },
   {
    "duration": 183,
    "start_time": "2022-11-12T15:03:04.779Z"
   },
   {
    "duration": 146,
    "start_time": "2022-11-12T15:03:04.963Z"
   },
   {
    "duration": 138,
    "start_time": "2022-11-12T15:03:05.111Z"
   },
   {
    "duration": 427,
    "start_time": "2022-11-12T15:03:05.251Z"
   },
   {
    "duration": 158,
    "start_time": "2022-11-12T15:03:05.681Z"
   },
   {
    "duration": 365,
    "start_time": "2022-11-12T15:03:05.840Z"
   },
   {
    "duration": 403,
    "start_time": "2022-11-12T15:03:06.207Z"
   },
   {
    "duration": 371,
    "start_time": "2022-11-12T15:03:06.612Z"
   },
   {
    "duration": 157,
    "start_time": "2022-11-12T15:03:06.985Z"
   },
   {
    "duration": 160,
    "start_time": "2022-11-12T15:03:07.144Z"
   },
   {
    "duration": 626,
    "start_time": "2022-11-12T15:03:07.305Z"
   },
   {
    "duration": 21,
    "start_time": "2022-11-12T15:03:07.932Z"
   },
   {
    "duration": 7,
    "start_time": "2022-11-12T15:03:07.955Z"
   },
   {
    "duration": 8,
    "start_time": "2022-11-12T15:03:07.978Z"
   },
   {
    "duration": 49,
    "start_time": "2022-11-12T15:03:07.987Z"
   },
   {
    "duration": 770,
    "start_time": "2022-11-13T14:31:41.025Z"
   },
   {
    "duration": 160,
    "start_time": "2022-11-13T14:31:41.797Z"
   },
   {
    "duration": 25,
    "start_time": "2022-11-13T14:31:41.959Z"
   },
   {
    "duration": 1953,
    "start_time": "2022-11-13T14:31:41.988Z"
   },
   {
    "duration": 25,
    "start_time": "2022-11-13T14:31:43.943Z"
   },
   {
    "duration": 10,
    "start_time": "2022-11-13T14:31:43.970Z"
   },
   {
    "duration": 126,
    "start_time": "2022-11-13T14:31:43.981Z"
   },
   {
    "duration": 8,
    "start_time": "2022-11-13T14:31:44.108Z"
   },
   {
    "duration": 70,
    "start_time": "2022-11-13T14:31:44.117Z"
   },
   {
    "duration": 25,
    "start_time": "2022-11-13T14:31:44.190Z"
   },
   {
    "duration": 300,
    "start_time": "2022-11-13T14:31:44.217Z"
   },
   {
    "duration": 191,
    "start_time": "2022-11-13T14:31:44.518Z"
   },
   {
    "duration": 328,
    "start_time": "2022-11-13T14:31:44.711Z"
   },
   {
    "duration": 195,
    "start_time": "2022-11-13T14:31:45.040Z"
   },
   {
    "duration": 248,
    "start_time": "2022-11-13T14:31:45.237Z"
   },
   {
    "duration": 148,
    "start_time": "2022-11-13T14:31:45.486Z"
   },
   {
    "duration": 167,
    "start_time": "2022-11-13T14:31:45.637Z"
   },
   {
    "duration": 167,
    "start_time": "2022-11-13T14:31:45.806Z"
   },
   {
    "duration": 147,
    "start_time": "2022-11-13T14:31:45.975Z"
   },
   {
    "duration": 190,
    "start_time": "2022-11-13T14:31:46.125Z"
   },
   {
    "duration": 289,
    "start_time": "2022-11-13T14:31:46.317Z"
   },
   {
    "duration": 265,
    "start_time": "2022-11-13T14:31:46.608Z"
   },
   {
    "duration": 227,
    "start_time": "2022-11-13T14:31:46.874Z"
   },
   {
    "duration": 179,
    "start_time": "2022-11-13T14:31:47.105Z"
   },
   {
    "duration": 163,
    "start_time": "2022-11-13T14:31:47.286Z"
   },
   {
    "duration": 208,
    "start_time": "2022-11-13T14:31:47.451Z"
   },
   {
    "duration": 458,
    "start_time": "2022-11-13T14:31:47.661Z"
   },
   {
    "duration": 210,
    "start_time": "2022-11-13T14:31:48.123Z"
   },
   {
    "duration": 387,
    "start_time": "2022-11-13T14:31:48.335Z"
   },
   {
    "duration": 433,
    "start_time": "2022-11-13T14:31:48.723Z"
   },
   {
    "duration": 397,
    "start_time": "2022-11-13T14:31:49.157Z"
   },
   {
    "duration": 168,
    "start_time": "2022-11-13T14:31:49.555Z"
   },
   {
    "duration": 155,
    "start_time": "2022-11-13T14:31:49.725Z"
   },
   {
    "duration": 676,
    "start_time": "2022-11-13T14:31:49.882Z"
   },
   {
    "duration": 23,
    "start_time": "2022-11-13T14:31:50.560Z"
   },
   {
    "duration": 21,
    "start_time": "2022-11-13T14:31:50.585Z"
   },
   {
    "duration": 10,
    "start_time": "2022-11-13T14:31:50.608Z"
   },
   {
    "duration": 65,
    "start_time": "2022-11-13T14:31:50.619Z"
   },
   {
    "duration": 86,
    "start_time": "2022-11-13T14:48:37.502Z"
   },
   {
    "duration": 33,
    "start_time": "2022-11-13T14:54:36.497Z"
   },
   {
    "duration": 26,
    "start_time": "2022-11-13T14:54:40.764Z"
   },
   {
    "duration": 101,
    "start_time": "2022-11-13T14:54:50.239Z"
   },
   {
    "duration": 19,
    "start_time": "2022-11-13T14:54:56.601Z"
   },
   {
    "duration": 7,
    "start_time": "2022-11-13T14:55:00.120Z"
   },
   {
    "duration": 22,
    "start_time": "2022-11-13T14:55:05.021Z"
   },
   {
    "duration": 119,
    "start_time": "2022-11-13T14:55:13.279Z"
   },
   {
    "duration": 107,
    "start_time": "2022-11-13T14:55:52.655Z"
   },
   {
    "duration": 26,
    "start_time": "2022-11-13T14:56:05.677Z"
   },
   {
    "duration": 27,
    "start_time": "2022-11-13T14:56:28.143Z"
   },
   {
    "duration": 75,
    "start_time": "2022-11-13T14:57:50.151Z"
   },
   {
    "duration": 3,
    "start_time": "2022-11-13T14:58:26.132Z"
   },
   {
    "duration": 21,
    "start_time": "2022-11-13T15:01:07.021Z"
   },
   {
    "duration": 21,
    "start_time": "2022-11-13T15:01:31.556Z"
   },
   {
    "duration": 28,
    "start_time": "2022-11-13T15:01:39.822Z"
   },
   {
    "duration": 32,
    "start_time": "2022-11-13T15:01:48.918Z"
   },
   {
    "duration": 35,
    "start_time": "2022-11-13T15:02:27.647Z"
   },
   {
    "duration": 40,
    "start_time": "2022-11-13T15:03:50.407Z"
   },
   {
    "duration": 26,
    "start_time": "2022-11-13T15:03:59.319Z"
   },
   {
    "duration": 83,
    "start_time": "2022-11-13T15:07:10.591Z"
   },
   {
    "duration": 8,
    "start_time": "2022-11-13T15:07:16.298Z"
   },
   {
    "duration": 8,
    "start_time": "2022-11-13T15:07:27.271Z"
   },
   {
    "duration": 8,
    "start_time": "2022-11-13T15:07:48.123Z"
   },
   {
    "duration": 8,
    "start_time": "2022-11-13T15:08:06.927Z"
   },
   {
    "duration": 6,
    "start_time": "2022-11-13T15:08:24.159Z"
   },
   {
    "duration": 8,
    "start_time": "2022-11-13T15:08:57.162Z"
   },
   {
    "duration": 14,
    "start_time": "2022-11-13T15:09:26.458Z"
   },
   {
    "duration": 9,
    "start_time": "2022-11-13T15:09:38.143Z"
   },
   {
    "duration": 8,
    "start_time": "2022-11-13T15:09:49.535Z"
   },
   {
    "duration": 106,
    "start_time": "2022-11-13T15:13:31.562Z"
   },
   {
    "duration": 5,
    "start_time": "2022-11-13T15:14:23.308Z"
   },
   {
    "duration": 14,
    "start_time": "2022-11-13T15:14:27.742Z"
   },
   {
    "duration": 4,
    "start_time": "2022-11-13T15:14:40.288Z"
   },
   {
    "duration": 108,
    "start_time": "2022-11-13T15:14:43.902Z"
   },
   {
    "duration": 111,
    "start_time": "2022-11-13T15:14:59.520Z"
   },
   {
    "duration": 11,
    "start_time": "2022-11-13T15:15:06.062Z"
   },
   {
    "duration": 91,
    "start_time": "2022-11-13T15:15:23.386Z"
   },
   {
    "duration": 11,
    "start_time": "2022-11-13T15:17:15.234Z"
   },
   {
    "duration": 9,
    "start_time": "2022-11-13T15:21:32.906Z"
   },
   {
    "duration": 339,
    "start_time": "2022-11-13T15:22:20.765Z"
   },
   {
    "duration": 255,
    "start_time": "2022-11-13T15:22:48.242Z"
   },
   {
    "duration": 221,
    "start_time": "2022-11-13T15:22:54.146Z"
   },
   {
    "duration": 236,
    "start_time": "2022-11-13T15:22:57.790Z"
   },
   {
    "duration": 4,
    "start_time": "2022-11-13T15:23:01.299Z"
   },
   {
    "duration": 251,
    "start_time": "2022-11-13T15:23:03.723Z"
   },
   {
    "duration": 265,
    "start_time": "2022-11-13T15:23:19.406Z"
   },
   {
    "duration": 318,
    "start_time": "2022-11-13T15:23:32.760Z"
   },
   {
    "duration": 227,
    "start_time": "2022-11-13T15:23:44.214Z"
   },
   {
    "duration": 233,
    "start_time": "2022-11-13T15:23:50.086Z"
   },
   {
    "duration": 224,
    "start_time": "2022-11-13T15:23:53.466Z"
   },
   {
    "duration": 223,
    "start_time": "2022-11-13T15:23:57.107Z"
   },
   {
    "duration": 330,
    "start_time": "2022-11-13T15:24:06.054Z"
   },
   {
    "duration": 267,
    "start_time": "2022-11-13T15:24:32.570Z"
   },
   {
    "duration": 226,
    "start_time": "2022-11-13T15:24:37.660Z"
   },
   {
    "duration": 238,
    "start_time": "2022-11-13T15:24:40.778Z"
   },
   {
    "duration": 238,
    "start_time": "2022-11-13T15:24:45.154Z"
   },
   {
    "duration": 110,
    "start_time": "2022-11-13T15:24:56.674Z"
   },
   {
    "duration": 94,
    "start_time": "2022-11-13T15:25:05.836Z"
   },
   {
    "duration": 240,
    "start_time": "2022-11-13T15:25:26.842Z"
   },
   {
    "duration": 371,
    "start_time": "2022-11-13T15:25:37.550Z"
   },
   {
    "duration": 287,
    "start_time": "2022-11-13T15:25:51.667Z"
   },
   {
    "duration": 160,
    "start_time": "2022-11-13T15:26:00.878Z"
   },
   {
    "duration": 152,
    "start_time": "2022-11-13T15:26:04.994Z"
   },
   {
    "duration": 325,
    "start_time": "2022-11-13T15:26:12.698Z"
   },
   {
    "duration": 309,
    "start_time": "2022-11-13T15:26:27.091Z"
   },
   {
    "duration": 393,
    "start_time": "2022-11-13T15:26:42.194Z"
   },
   {
    "duration": 106,
    "start_time": "2022-11-13T15:26:50.006Z"
   },
   {
    "duration": 108,
    "start_time": "2022-11-13T15:26:56.294Z"
   },
   {
    "duration": 13,
    "start_time": "2022-11-13T15:27:22.491Z"
   },
   {
    "duration": 285,
    "start_time": "2022-11-13T15:34:08.488Z"
   },
   {
    "duration": 267,
    "start_time": "2022-11-13T15:34:14.849Z"
   },
   {
    "duration": 357,
    "start_time": "2022-11-13T15:35:07.366Z"
   },
   {
    "duration": 109,
    "start_time": "2022-11-13T15:35:29.078Z"
   },
   {
    "duration": 92,
    "start_time": "2022-11-13T15:35:34.650Z"
   },
   {
    "duration": 135,
    "start_time": "2022-11-13T15:35:39.070Z"
   },
   {
    "duration": 96,
    "start_time": "2022-11-13T15:35:43.013Z"
   },
   {
    "duration": 223,
    "start_time": "2022-11-13T15:35:46.205Z"
   },
   {
    "duration": 102,
    "start_time": "2022-11-13T15:35:56.583Z"
   },
   {
    "duration": 109,
    "start_time": "2022-11-13T15:36:05.774Z"
   },
   {
    "duration": 130,
    "start_time": "2022-11-13T15:36:20.084Z"
   },
   {
    "duration": 111,
    "start_time": "2022-11-13T15:36:41.430Z"
   },
   {
    "duration": 111,
    "start_time": "2022-11-13T15:37:07.294Z"
   },
   {
    "duration": 92,
    "start_time": "2022-11-13T15:37:12.461Z"
   },
   {
    "duration": 116,
    "start_time": "2022-11-13T15:37:15.109Z"
   },
   {
    "duration": 97,
    "start_time": "2022-11-13T15:37:18.974Z"
   },
   {
    "duration": 99,
    "start_time": "2022-11-13T15:37:22.070Z"
   },
   {
    "duration": 108,
    "start_time": "2022-11-13T15:37:25.881Z"
   },
   {
    "duration": 23,
    "start_time": "2022-11-13T15:41:24.537Z"
   },
   {
    "duration": 25,
    "start_time": "2022-11-13T15:41:41.697Z"
   },
   {
    "duration": 23,
    "start_time": "2022-11-13T15:41:44.779Z"
   },
   {
    "duration": 23,
    "start_time": "2022-11-13T15:42:02.929Z"
   },
   {
    "duration": 91,
    "start_time": "2022-11-13T15:48:01.533Z"
   },
   {
    "duration": 327,
    "start_time": "2022-11-13T15:48:15.176Z"
   },
   {
    "duration": 254,
    "start_time": "2022-11-13T15:48:46.281Z"
   },
   {
    "duration": 9,
    "start_time": "2022-11-13T15:49:21.345Z"
   },
   {
    "duration": 6,
    "start_time": "2022-11-13T15:49:23.564Z"
   },
   {
    "duration": 7,
    "start_time": "2022-11-13T15:49:32.728Z"
   },
   {
    "duration": 7,
    "start_time": "2022-11-13T15:49:36.048Z"
   },
   {
    "duration": 4,
    "start_time": "2022-11-13T15:49:52.021Z"
   },
   {
    "duration": 7,
    "start_time": "2022-11-13T15:49:56.408Z"
   },
   {
    "duration": 6,
    "start_time": "2022-11-13T15:49:58.829Z"
   },
   {
    "duration": 7,
    "start_time": "2022-11-13T15:49:59.859Z"
   },
   {
    "duration": 8,
    "start_time": "2022-11-13T15:50:02.336Z"
   },
   {
    "duration": 7,
    "start_time": "2022-11-13T15:50:03.239Z"
   },
   {
    "duration": 8,
    "start_time": "2022-11-13T15:50:07.988Z"
   },
   {
    "duration": 8,
    "start_time": "2022-11-13T15:50:10.513Z"
   },
   {
    "duration": 8,
    "start_time": "2022-11-13T15:50:11.481Z"
   },
   {
    "duration": 9,
    "start_time": "2022-11-13T15:50:20.213Z"
   },
   {
    "duration": 9,
    "start_time": "2022-11-13T15:50:25.098Z"
   },
   {
    "duration": 10,
    "start_time": "2022-11-13T15:50:28.636Z"
   },
   {
    "duration": 8,
    "start_time": "2022-11-13T15:50:39.417Z"
   },
   {
    "duration": 12,
    "start_time": "2022-11-13T15:50:44.193Z"
   },
   {
    "duration": 12,
    "start_time": "2022-11-13T15:50:58.645Z"
   },
   {
    "duration": 123,
    "start_time": "2022-11-13T15:51:24.380Z"
   },
   {
    "duration": 103,
    "start_time": "2022-11-13T15:52:22.840Z"
   },
   {
    "duration": 304,
    "start_time": "2022-11-13T15:52:36.584Z"
   },
   {
    "duration": 22,
    "start_time": "2022-11-13T15:53:29.260Z"
   },
   {
    "duration": 5,
    "start_time": "2022-11-13T15:53:51.424Z"
   },
   {
    "duration": 7,
    "start_time": "2022-11-13T15:53:55.520Z"
   },
   {
    "duration": 6,
    "start_time": "2022-11-13T15:54:12.740Z"
   },
   {
    "duration": 8,
    "start_time": "2022-11-13T15:54:17.173Z"
   },
   {
    "duration": 289,
    "start_time": "2022-11-13T15:54:38.416Z"
   },
   {
    "duration": 96,
    "start_time": "2022-11-13T15:54:44.936Z"
   },
   {
    "duration": 94,
    "start_time": "2022-11-13T15:54:48.358Z"
   },
   {
    "duration": 21,
    "start_time": "2022-11-13T15:57:33.270Z"
   },
   {
    "duration": 21,
    "start_time": "2022-11-13T15:58:24.831Z"
   },
   {
    "duration": 20,
    "start_time": "2022-11-13T15:58:30.575Z"
   },
   {
    "duration": 90,
    "start_time": "2022-11-13T15:58:39.066Z"
   },
   {
    "duration": 89,
    "start_time": "2022-11-13T15:58:43.873Z"
   },
   {
    "duration": 15,
    "start_time": "2022-11-13T15:58:46.916Z"
   },
   {
    "duration": 1895,
    "start_time": "2022-11-13T15:58:49.332Z"
   },
   {
    "duration": 25,
    "start_time": "2022-11-13T15:58:54.191Z"
   },
   {
    "duration": 9,
    "start_time": "2022-11-13T15:58:58.772Z"
   },
   {
    "duration": 99,
    "start_time": "2022-11-13T15:59:01.045Z"
   },
   {
    "duration": 7,
    "start_time": "2022-11-13T15:59:03.508Z"
   },
   {
    "duration": 38,
    "start_time": "2022-11-13T15:59:25.405Z"
   },
   {
    "duration": 22,
    "start_time": "2022-11-13T15:59:30.835Z"
   },
   {
    "duration": 23,
    "start_time": "2022-11-13T15:59:33.608Z"
   },
   {
    "duration": 91,
    "start_time": "2022-11-13T15:59:36.180Z"
   },
   {
    "duration": 23,
    "start_time": "2022-11-13T15:59:44.732Z"
   },
   {
    "duration": 29,
    "start_time": "2022-11-13T15:59:47.676Z"
   },
   {
    "duration": 11,
    "start_time": "2022-11-13T15:59:50.543Z"
   },
   {
    "duration": 95,
    "start_time": "2022-11-13T16:02:17.679Z"
   },
   {
    "duration": 100,
    "start_time": "2022-11-13T16:02:38.875Z"
   },
   {
    "duration": 94,
    "start_time": "2022-11-13T16:02:40.428Z"
   },
   {
    "duration": 284,
    "start_time": "2022-11-13T16:02:53.874Z"
   },
   {
    "duration": 25,
    "start_time": "2022-11-13T16:03:19.719Z"
   },
   {
    "duration": 282,
    "start_time": "2022-11-13T16:03:30.930Z"
   },
   {
    "duration": 8,
    "start_time": "2022-11-13T16:05:14.480Z"
   },
   {
    "duration": 13,
    "start_time": "2022-11-13T16:05:17.583Z"
   },
   {
    "duration": 856,
    "start_time": "2022-11-13T16:06:14.218Z"
   },
   {
    "duration": 725,
    "start_time": "2022-11-13T16:06:22.868Z"
   },
   {
    "duration": 728,
    "start_time": "2022-11-13T16:06:50.178Z"
   },
   {
    "duration": 745,
    "start_time": "2022-11-13T16:06:54.476Z"
   },
   {
    "duration": 759,
    "start_time": "2022-11-13T16:06:58.238Z"
   },
   {
    "duration": 709,
    "start_time": "2022-11-13T16:07:15.848Z"
   },
   {
    "duration": 683,
    "start_time": "2022-11-13T16:08:28.296Z"
   },
   {
    "duration": 758,
    "start_time": "2022-11-13T16:08:32.400Z"
   },
   {
    "duration": 624,
    "start_time": "2022-11-13T16:08:39.010Z"
   },
   {
    "duration": 736,
    "start_time": "2022-11-13T16:08:47.366Z"
   },
   {
    "duration": 678,
    "start_time": "2022-11-13T16:09:10.711Z"
   },
   {
    "duration": 855,
    "start_time": "2022-11-13T16:09:27.838Z"
   },
   {
    "duration": 647,
    "start_time": "2022-11-13T16:09:42.678Z"
   },
   {
    "duration": 795,
    "start_time": "2022-11-13T16:09:54.163Z"
   },
   {
    "duration": 713,
    "start_time": "2022-11-13T16:10:01.864Z"
   },
   {
    "duration": 896,
    "start_time": "2022-11-13T16:10:07.504Z"
   },
   {
    "duration": 10,
    "start_time": "2022-11-13T16:10:54.018Z"
   },
   {
    "duration": 8,
    "start_time": "2022-11-13T16:11:31.878Z"
   },
   {
    "duration": 11,
    "start_time": "2022-11-13T16:15:26.160Z"
   },
   {
    "duration": 9,
    "start_time": "2022-11-13T16:16:01.454Z"
   },
   {
    "duration": 4,
    "start_time": "2022-11-13T16:16:11.962Z"
   },
   {
    "duration": 9,
    "start_time": "2022-11-13T16:16:36.574Z"
   },
   {
    "duration": 35,
    "start_time": "2022-11-13T16:16:40.460Z"
   },
   {
    "duration": 4,
    "start_time": "2022-11-13T16:16:51.602Z"
   },
   {
    "duration": 4,
    "start_time": "2022-11-13T16:20:30.322Z"
   },
   {
    "duration": 9,
    "start_time": "2022-11-13T16:22:03.265Z"
   },
   {
    "duration": 627,
    "start_time": "2022-11-13T16:22:07.821Z"
   },
   {
    "duration": 6,
    "start_time": "2022-11-13T16:22:39.035Z"
   },
   {
    "duration": 6,
    "start_time": "2022-11-13T16:23:05.921Z"
   },
   {
    "duration": 5,
    "start_time": "2022-11-13T16:23:16.306Z"
   },
   {
    "duration": 193,
    "start_time": "2022-11-13T16:24:37.502Z"
   },
   {
    "duration": 186,
    "start_time": "2022-11-13T16:24:47.470Z"
   },
   {
    "duration": 259,
    "start_time": "2022-11-13T16:24:52.538Z"
   },
   {
    "duration": 141,
    "start_time": "2022-11-13T16:24:57.729Z"
   },
   {
    "duration": 245,
    "start_time": "2022-11-13T16:25:19.304Z"
   },
   {
    "duration": 263,
    "start_time": "2022-11-13T16:25:23.114Z"
   },
   {
    "duration": 166,
    "start_time": "2022-11-13T16:25:29.209Z"
   },
   {
    "duration": 138,
    "start_time": "2022-11-13T16:25:34.336Z"
   },
   {
    "duration": 136,
    "start_time": "2022-11-13T16:25:38.432Z"
   },
   {
    "duration": 221,
    "start_time": "2022-11-13T16:25:48.082Z"
   },
   {
    "duration": 202,
    "start_time": "2022-11-13T16:26:07.558Z"
   },
   {
    "duration": 6,
    "start_time": "2022-11-13T16:26:52.743Z"
   },
   {
    "duration": 8,
    "start_time": "2022-11-13T16:30:03.133Z"
   },
   {
    "duration": 8,
    "start_time": "2022-11-13T16:30:15.541Z"
   },
   {
    "duration": 4,
    "start_time": "2022-11-13T16:30:19.737Z"
   },
   {
    "duration": 18,
    "start_time": "2022-11-13T16:30:34.468Z"
   },
   {
    "duration": 4,
    "start_time": "2022-11-13T16:31:10.876Z"
   },
   {
    "duration": 4,
    "start_time": "2022-11-13T16:31:16.817Z"
   },
   {
    "duration": 4,
    "start_time": "2022-11-13T16:38:15.900Z"
   },
   {
    "duration": 7,
    "start_time": "2022-11-13T16:41:26.079Z"
   },
   {
    "duration": 11,
    "start_time": "2022-11-13T16:43:00.457Z"
   },
   {
    "duration": 16,
    "start_time": "2022-11-13T16:43:04.658Z"
   },
   {
    "duration": 17,
    "start_time": "2022-11-13T16:44:08.654Z"
   },
   {
    "duration": 17,
    "start_time": "2022-11-13T16:44:21.040Z"
   },
   {
    "duration": 31,
    "start_time": "2022-11-13T16:45:16.756Z"
   },
   {
    "duration": 35,
    "start_time": "2022-11-13T16:45:28.429Z"
   },
   {
    "duration": 31,
    "start_time": "2022-11-13T16:45:40.543Z"
   },
   {
    "duration": 37,
    "start_time": "2022-11-13T16:45:58.251Z"
   },
   {
    "duration": 34,
    "start_time": "2022-11-13T16:46:09.179Z"
   },
   {
    "duration": 39,
    "start_time": "2022-11-13T16:46:19.112Z"
   },
   {
    "duration": 30,
    "start_time": "2022-11-13T16:46:46.777Z"
   },
   {
    "duration": 33,
    "start_time": "2022-11-13T16:47:12.831Z"
   },
   {
    "duration": 33,
    "start_time": "2022-11-13T16:47:26.792Z"
   },
   {
    "duration": 171,
    "start_time": "2022-11-13T16:48:48.280Z"
   },
   {
    "duration": 788,
    "start_time": "2022-11-13T16:49:18.006Z"
   },
   {
    "duration": 676,
    "start_time": "2022-11-13T16:49:48.896Z"
   },
   {
    "duration": 325,
    "start_time": "2022-11-13T16:50:00.439Z"
   },
   {
    "duration": 150,
    "start_time": "2022-11-13T16:50:50.040Z"
   },
   {
    "duration": 273,
    "start_time": "2022-11-13T16:50:52.714Z"
   },
   {
    "duration": 165,
    "start_time": "2022-11-13T16:54:35.558Z"
   },
   {
    "duration": 2,
    "start_time": "2022-11-13T16:59:38.754Z"
   },
   {
    "duration": 8,
    "start_time": "2022-11-13T17:00:03.870Z"
   },
   {
    "duration": 9,
    "start_time": "2022-11-13T17:00:54.202Z"
   },
   {
    "duration": 5,
    "start_time": "2022-11-13T17:00:57.778Z"
   },
   {
    "duration": 4,
    "start_time": "2022-11-13T17:01:00.064Z"
   },
   {
    "duration": 19,
    "start_time": "2022-11-13T17:01:07.318Z"
   },
   {
    "duration": 22,
    "start_time": "2022-11-13T17:01:27.374Z"
   },
   {
    "duration": 282,
    "start_time": "2022-11-13T17:11:14.358Z"
   },
   {
    "duration": 306,
    "start_time": "2022-11-13T17:12:04.938Z"
   },
   {
    "duration": 231,
    "start_time": "2022-11-13T17:14:13.519Z"
   },
   {
    "duration": 357,
    "start_time": "2022-11-13T17:17:31.032Z"
   },
   {
    "duration": 75,
    "start_time": "2022-11-13T17:17:48.671Z"
   },
   {
    "duration": 83,
    "start_time": "2022-11-13T17:17:59.246Z"
   },
   {
    "duration": 73,
    "start_time": "2022-11-13T17:18:11.746Z"
   },
   {
    "duration": 82,
    "start_time": "2022-11-13T17:18:17.242Z"
   },
   {
    "duration": 110,
    "start_time": "2022-11-13T17:18:20.971Z"
   },
   {
    "duration": 84,
    "start_time": "2022-11-13T17:18:28.739Z"
   },
   {
    "duration": 70,
    "start_time": "2022-11-13T17:18:32.508Z"
   },
   {
    "duration": 68,
    "start_time": "2022-11-13T17:18:36.134Z"
   },
   {
    "duration": 76,
    "start_time": "2022-11-13T17:18:43.059Z"
   },
   {
    "duration": 72,
    "start_time": "2022-11-13T17:18:58.011Z"
   },
   {
    "duration": 69,
    "start_time": "2022-11-13T17:19:03.338Z"
   },
   {
    "duration": 75,
    "start_time": "2022-11-13T17:19:14.982Z"
   },
   {
    "duration": 108,
    "start_time": "2022-11-13T17:19:28.102Z"
   },
   {
    "duration": 94,
    "start_time": "2022-11-13T17:19:31.517Z"
   },
   {
    "duration": 633,
    "start_time": "2022-11-13T17:19:38.277Z"
   },
   {
    "duration": 101,
    "start_time": "2022-11-13T17:19:38.912Z"
   },
   {
    "duration": 24,
    "start_time": "2022-11-13T17:19:39.015Z"
   },
   {
    "duration": 1912,
    "start_time": "2022-11-13T17:19:39.041Z"
   },
   {
    "duration": 27,
    "start_time": "2022-11-13T17:19:40.955Z"
   },
   {
    "duration": 8,
    "start_time": "2022-11-13T17:19:40.983Z"
   },
   {
    "duration": 99,
    "start_time": "2022-11-13T17:19:40.993Z"
   },
   {
    "duration": 17,
    "start_time": "2022-11-13T17:19:41.093Z"
   },
   {
    "duration": 44,
    "start_time": "2022-11-13T17:19:41.112Z"
   },
   {
    "duration": 20,
    "start_time": "2022-11-13T17:19:41.159Z"
   },
   {
    "duration": 29,
    "start_time": "2022-11-13T17:19:41.181Z"
   },
   {
    "duration": 8,
    "start_time": "2022-11-13T17:19:41.212Z"
   },
   {
    "duration": 198,
    "start_time": "2022-11-13T17:19:41.221Z"
   },
   {
    "duration": 8,
    "start_time": "2022-11-13T17:19:41.421Z"
   },
   {
    "duration": 102,
    "start_time": "2022-11-13T17:19:41.430Z"
   },
   {
    "duration": 9,
    "start_time": "2022-11-13T17:19:41.534Z"
   },
   {
    "duration": 7,
    "start_time": "2022-11-13T17:19:41.544Z"
   },
   {
    "duration": 295,
    "start_time": "2022-11-13T17:19:41.553Z"
   },
   {
    "duration": 189,
    "start_time": "2022-11-13T17:19:41.850Z"
   },
   {
    "duration": 324,
    "start_time": "2022-11-13T17:19:42.040Z"
   },
   {
    "duration": 197,
    "start_time": "2022-11-13T17:19:42.365Z"
   },
   {
    "duration": 258,
    "start_time": "2022-11-13T17:19:42.564Z"
   },
   {
    "duration": 140,
    "start_time": "2022-11-13T17:19:42.823Z"
   },
   {
    "duration": 149,
    "start_time": "2022-11-13T17:19:42.965Z"
   },
   {
    "duration": 170,
    "start_time": "2022-11-13T17:19:43.116Z"
   },
   {
    "duration": 135,
    "start_time": "2022-11-13T17:19:43.288Z"
   },
   {
    "duration": 160,
    "start_time": "2022-11-13T17:19:43.424Z"
   },
   {
    "duration": 352,
    "start_time": "2022-11-13T17:19:43.587Z"
   },
   {
    "duration": 0,
    "start_time": "2022-11-13T17:19:43.941Z"
   },
   {
    "duration": 0,
    "start_time": "2022-11-13T17:19:43.942Z"
   },
   {
    "duration": 0,
    "start_time": "2022-11-13T17:19:43.943Z"
   },
   {
    "duration": 0,
    "start_time": "2022-11-13T17:19:43.945Z"
   },
   {
    "duration": 0,
    "start_time": "2022-11-13T17:19:43.946Z"
   },
   {
    "duration": 0,
    "start_time": "2022-11-13T17:19:43.948Z"
   },
   {
    "duration": 0,
    "start_time": "2022-11-13T17:19:43.949Z"
   },
   {
    "duration": 0,
    "start_time": "2022-11-13T17:19:43.951Z"
   },
   {
    "duration": 0,
    "start_time": "2022-11-13T17:19:43.952Z"
   },
   {
    "duration": 0,
    "start_time": "2022-11-13T17:19:43.953Z"
   },
   {
    "duration": 0,
    "start_time": "2022-11-13T17:19:43.954Z"
   },
   {
    "duration": 0,
    "start_time": "2022-11-13T17:19:43.955Z"
   },
   {
    "duration": 0,
    "start_time": "2022-11-13T17:19:43.957Z"
   },
   {
    "duration": 0,
    "start_time": "2022-11-13T17:19:43.958Z"
   },
   {
    "duration": 0,
    "start_time": "2022-11-13T17:19:43.959Z"
   },
   {
    "duration": 0,
    "start_time": "2022-11-13T17:19:43.960Z"
   },
   {
    "duration": 0,
    "start_time": "2022-11-13T17:19:43.961Z"
   },
   {
    "duration": 318,
    "start_time": "2022-11-13T17:20:23.919Z"
   },
   {
    "duration": 76,
    "start_time": "2022-11-13T17:20:46.529Z"
   },
   {
    "duration": 646,
    "start_time": "2022-11-13T17:20:59.917Z"
   },
   {
    "duration": 111,
    "start_time": "2022-11-13T17:21:00.565Z"
   },
   {
    "duration": 36,
    "start_time": "2022-11-13T17:21:00.677Z"
   },
   {
    "duration": 1949,
    "start_time": "2022-11-13T17:21:00.715Z"
   },
   {
    "duration": 27,
    "start_time": "2022-11-13T17:21:02.671Z"
   },
   {
    "duration": 11,
    "start_time": "2022-11-13T17:21:02.700Z"
   },
   {
    "duration": 112,
    "start_time": "2022-11-13T17:21:02.712Z"
   },
   {
    "duration": 8,
    "start_time": "2022-11-13T17:21:02.825Z"
   },
   {
    "duration": 54,
    "start_time": "2022-11-13T17:21:02.835Z"
   },
   {
    "duration": 25,
    "start_time": "2022-11-13T17:21:02.891Z"
   },
   {
    "duration": 9,
    "start_time": "2022-11-13T17:21:02.918Z"
   },
   {
    "duration": 12,
    "start_time": "2022-11-13T17:21:02.928Z"
   },
   {
    "duration": 198,
    "start_time": "2022-11-13T17:21:02.941Z"
   },
   {
    "duration": 7,
    "start_time": "2022-11-13T17:21:03.142Z"
   },
   {
    "duration": 99,
    "start_time": "2022-11-13T17:21:03.151Z"
   },
   {
    "duration": 9,
    "start_time": "2022-11-13T17:21:03.251Z"
   },
   {
    "duration": 13,
    "start_time": "2022-11-13T17:21:03.262Z"
   },
   {
    "duration": 294,
    "start_time": "2022-11-13T17:21:03.277Z"
   },
   {
    "duration": 194,
    "start_time": "2022-11-13T17:21:03.572Z"
   },
   {
    "duration": 321,
    "start_time": "2022-11-13T17:21:03.768Z"
   },
   {
    "duration": 201,
    "start_time": "2022-11-13T17:21:04.091Z"
   },
   {
    "duration": 250,
    "start_time": "2022-11-13T17:21:04.293Z"
   },
   {
    "duration": 142,
    "start_time": "2022-11-13T17:21:04.545Z"
   },
   {
    "duration": 162,
    "start_time": "2022-11-13T17:21:04.689Z"
   },
   {
    "duration": 169,
    "start_time": "2022-11-13T17:21:04.853Z"
   },
   {
    "duration": 153,
    "start_time": "2022-11-13T17:21:05.025Z"
   },
   {
    "duration": 178,
    "start_time": "2022-11-13T17:21:05.180Z"
   },
   {
    "duration": 371,
    "start_time": "2022-11-13T17:21:05.360Z"
   },
   {
    "duration": 0,
    "start_time": "2022-11-13T17:21:05.733Z"
   },
   {
    "duration": 0,
    "start_time": "2022-11-13T17:21:05.734Z"
   },
   {
    "duration": 0,
    "start_time": "2022-11-13T17:21:05.735Z"
   },
   {
    "duration": 0,
    "start_time": "2022-11-13T17:21:05.736Z"
   },
   {
    "duration": 0,
    "start_time": "2022-11-13T17:21:05.737Z"
   },
   {
    "duration": 0,
    "start_time": "2022-11-13T17:21:05.738Z"
   },
   {
    "duration": 0,
    "start_time": "2022-11-13T17:21:05.739Z"
   },
   {
    "duration": 0,
    "start_time": "2022-11-13T17:21:05.740Z"
   },
   {
    "duration": 0,
    "start_time": "2022-11-13T17:21:05.741Z"
   },
   {
    "duration": 0,
    "start_time": "2022-11-13T17:21:05.742Z"
   },
   {
    "duration": 0,
    "start_time": "2022-11-13T17:21:05.743Z"
   },
   {
    "duration": 0,
    "start_time": "2022-11-13T17:21:05.744Z"
   },
   {
    "duration": 0,
    "start_time": "2022-11-13T17:21:05.745Z"
   },
   {
    "duration": 0,
    "start_time": "2022-11-13T17:21:05.746Z"
   },
   {
    "duration": 0,
    "start_time": "2022-11-13T17:21:05.747Z"
   },
   {
    "duration": 0,
    "start_time": "2022-11-13T17:21:05.749Z"
   },
   {
    "duration": 0,
    "start_time": "2022-11-13T17:21:05.750Z"
   },
   {
    "duration": 289,
    "start_time": "2022-11-13T17:21:57.329Z"
   },
   {
    "duration": 653,
    "start_time": "2022-11-13T17:22:26.479Z"
   },
   {
    "duration": 105,
    "start_time": "2022-11-13T17:22:27.134Z"
   },
   {
    "duration": 27,
    "start_time": "2022-11-13T17:22:27.240Z"
   },
   {
    "duration": 2088,
    "start_time": "2022-11-13T17:22:27.269Z"
   },
   {
    "duration": 30,
    "start_time": "2022-11-13T17:22:29.360Z"
   },
   {
    "duration": 9,
    "start_time": "2022-11-13T17:22:29.392Z"
   },
   {
    "duration": 104,
    "start_time": "2022-11-13T17:22:29.405Z"
   },
   {
    "duration": 8,
    "start_time": "2022-11-13T17:22:29.511Z"
   },
   {
    "duration": 45,
    "start_time": "2022-11-13T17:22:29.521Z"
   },
   {
    "duration": 51,
    "start_time": "2022-11-13T17:22:29.568Z"
   },
   {
    "duration": 12,
    "start_time": "2022-11-13T17:22:29.620Z"
   },
   {
    "duration": 13,
    "start_time": "2022-11-13T17:22:29.634Z"
   },
   {
    "duration": 209,
    "start_time": "2022-11-13T17:22:29.649Z"
   },
   {
    "duration": 8,
    "start_time": "2022-11-13T17:22:29.863Z"
   },
   {
    "duration": 108,
    "start_time": "2022-11-13T17:22:29.873Z"
   },
   {
    "duration": 8,
    "start_time": "2022-11-13T17:22:29.983Z"
   },
   {
    "duration": 14,
    "start_time": "2022-11-13T17:22:29.993Z"
   },
   {
    "duration": 333,
    "start_time": "2022-11-13T17:22:30.009Z"
   },
   {
    "duration": 204,
    "start_time": "2022-11-13T17:22:30.344Z"
   },
   {
    "duration": 335,
    "start_time": "2022-11-13T17:22:30.550Z"
   },
   {
    "duration": 217,
    "start_time": "2022-11-13T17:22:30.887Z"
   },
   {
    "duration": 274,
    "start_time": "2022-11-13T17:22:31.106Z"
   },
   {
    "duration": 159,
    "start_time": "2022-11-13T17:22:31.381Z"
   },
   {
    "duration": 165,
    "start_time": "2022-11-13T17:22:31.541Z"
   },
   {
    "duration": 176,
    "start_time": "2022-11-13T17:22:31.707Z"
   },
   {
    "duration": 156,
    "start_time": "2022-11-13T17:22:31.885Z"
   },
   {
    "duration": 200,
    "start_time": "2022-11-13T17:22:32.042Z"
   },
   {
    "duration": 341,
    "start_time": "2022-11-13T17:22:32.245Z"
   },
   {
    "duration": 330,
    "start_time": "2022-11-13T17:22:32.589Z"
   },
   {
    "duration": 255,
    "start_time": "2022-11-13T17:22:32.921Z"
   },
   {
    "duration": 193,
    "start_time": "2022-11-13T17:22:33.177Z"
   },
   {
    "duration": 156,
    "start_time": "2022-11-13T17:22:33.371Z"
   },
   {
    "duration": 151,
    "start_time": "2022-11-13T17:22:33.529Z"
   },
   {
    "duration": 553,
    "start_time": "2022-11-13T17:22:33.682Z"
   },
   {
    "duration": 113,
    "start_time": "2022-11-13T17:22:34.237Z"
   },
   {
    "duration": 77,
    "start_time": "2022-11-13T17:22:34.352Z"
   },
   {
    "duration": 0,
    "start_time": "2022-11-13T17:22:34.431Z"
   },
   {
    "duration": 0,
    "start_time": "2022-11-13T17:22:34.432Z"
   },
   {
    "duration": 0,
    "start_time": "2022-11-13T17:22:34.434Z"
   },
   {
    "duration": 0,
    "start_time": "2022-11-13T17:22:34.435Z"
   },
   {
    "duration": 0,
    "start_time": "2022-11-13T17:22:34.437Z"
   },
   {
    "duration": 0,
    "start_time": "2022-11-13T17:22:34.439Z"
   },
   {
    "duration": 0,
    "start_time": "2022-11-13T17:22:34.441Z"
   },
   {
    "duration": 0,
    "start_time": "2022-11-13T17:22:34.443Z"
   },
   {
    "duration": 0,
    "start_time": "2022-11-13T17:22:34.444Z"
   },
   {
    "duration": 72,
    "start_time": "2022-11-13T17:22:44.387Z"
   },
   {
    "duration": 91,
    "start_time": "2022-11-13T17:22:47.194Z"
   },
   {
    "duration": 362,
    "start_time": "2022-11-13T17:22:56.358Z"
   },
   {
    "duration": 416,
    "start_time": "2022-11-13T17:23:07.251Z"
   },
   {
    "duration": 629,
    "start_time": "2022-11-13T17:23:17.570Z"
   },
   {
    "duration": 102,
    "start_time": "2022-11-13T17:23:18.201Z"
   },
   {
    "duration": 24,
    "start_time": "2022-11-13T17:23:18.305Z"
   },
   {
    "duration": 2039,
    "start_time": "2022-11-13T17:23:18.330Z"
   },
   {
    "duration": 25,
    "start_time": "2022-11-13T17:23:20.371Z"
   },
   {
    "duration": 13,
    "start_time": "2022-11-13T17:23:20.398Z"
   },
   {
    "duration": 98,
    "start_time": "2022-11-13T17:23:20.413Z"
   },
   {
    "duration": 7,
    "start_time": "2022-11-13T17:23:20.512Z"
   },
   {
    "duration": 67,
    "start_time": "2022-11-13T17:23:20.520Z"
   },
   {
    "duration": 20,
    "start_time": "2022-11-13T17:23:20.590Z"
   },
   {
    "duration": 31,
    "start_time": "2022-11-13T17:23:20.611Z"
   },
   {
    "duration": 18,
    "start_time": "2022-11-13T17:23:20.644Z"
   },
   {
    "duration": 182,
    "start_time": "2022-11-13T17:23:20.664Z"
   },
   {
    "duration": 7,
    "start_time": "2022-11-13T17:23:20.848Z"
   },
   {
    "duration": 98,
    "start_time": "2022-11-13T17:23:20.857Z"
   },
   {
    "duration": 8,
    "start_time": "2022-11-13T17:23:20.956Z"
   },
   {
    "duration": 9,
    "start_time": "2022-11-13T17:23:20.965Z"
   },
   {
    "duration": 283,
    "start_time": "2022-11-13T17:23:20.975Z"
   },
   {
    "duration": 168,
    "start_time": "2022-11-13T17:23:21.259Z"
   },
   {
    "duration": 300,
    "start_time": "2022-11-13T17:23:21.429Z"
   },
   {
    "duration": 188,
    "start_time": "2022-11-13T17:23:21.731Z"
   },
   {
    "duration": 245,
    "start_time": "2022-11-13T17:23:21.920Z"
   },
   {
    "duration": 139,
    "start_time": "2022-11-13T17:23:22.167Z"
   },
   {
    "duration": 163,
    "start_time": "2022-11-13T17:23:22.307Z"
   },
   {
    "duration": 188,
    "start_time": "2022-11-13T17:23:22.471Z"
   },
   {
    "duration": 135,
    "start_time": "2022-11-13T17:23:22.661Z"
   },
   {
    "duration": 165,
    "start_time": "2022-11-13T17:23:22.804Z"
   },
   {
    "duration": 308,
    "start_time": "2022-11-13T17:23:22.973Z"
   },
   {
    "duration": 263,
    "start_time": "2022-11-13T17:23:23.283Z"
   },
   {
    "duration": 259,
    "start_time": "2022-11-13T17:23:23.549Z"
   },
   {
    "duration": 178,
    "start_time": "2022-11-13T17:23:23.810Z"
   },
   {
    "duration": 145,
    "start_time": "2022-11-13T17:23:23.990Z"
   },
   {
    "duration": 147,
    "start_time": "2022-11-13T17:23:24.136Z"
   },
   {
    "duration": 521,
    "start_time": "2022-11-13T17:23:24.284Z"
   },
   {
    "duration": 106,
    "start_time": "2022-11-13T17:23:24.807Z"
   },
   {
    "duration": 378,
    "start_time": "2022-11-13T17:23:24.915Z"
   },
   {
    "duration": 389,
    "start_time": "2022-11-13T17:23:25.294Z"
   },
   {
    "duration": 362,
    "start_time": "2022-11-13T17:23:25.685Z"
   },
   {
    "duration": 170,
    "start_time": "2022-11-13T17:23:26.049Z"
   },
   {
    "duration": 149,
    "start_time": "2022-11-13T17:23:26.220Z"
   },
   {
    "duration": 696,
    "start_time": "2022-11-13T17:23:26.370Z"
   },
   {
    "duration": 24,
    "start_time": "2022-11-13T17:23:27.067Z"
   },
   {
    "duration": 16,
    "start_time": "2022-11-13T17:23:27.092Z"
   },
   {
    "duration": 10,
    "start_time": "2022-11-13T17:23:27.109Z"
   },
   {
    "duration": 121,
    "start_time": "2022-11-13T17:23:27.120Z"
   },
   {
    "duration": 408,
    "start_time": "2022-11-13T17:23:57.455Z"
   },
   {
    "duration": 376,
    "start_time": "2022-11-13T17:24:24.927Z"
   },
   {
    "duration": 236,
    "start_time": "2022-11-13T17:24:32.351Z"
   },
   {
    "duration": 141,
    "start_time": "2022-11-13T17:25:07.910Z"
   },
   {
    "duration": 368,
    "start_time": "2022-11-13T17:26:31.722Z"
   },
   {
    "duration": 70,
    "start_time": "2022-11-13T17:26:53.841Z"
   },
   {
    "duration": 364,
    "start_time": "2022-11-13T17:26:58.745Z"
   },
   {
    "duration": 393,
    "start_time": "2022-11-13T17:27:07.132Z"
   },
   {
    "duration": 150,
    "start_time": "2022-11-13T17:27:20.831Z"
   },
   {
    "duration": 79,
    "start_time": "2022-11-13T17:28:54.535Z"
   },
   {
    "duration": 18,
    "start_time": "2022-11-13T17:35:19.172Z"
   },
   {
    "duration": 594,
    "start_time": "2022-11-13T17:35:53.417Z"
   },
   {
    "duration": 958,
    "start_time": "2022-11-13T17:36:49.357Z"
   },
   {
    "duration": 745,
    "start_time": "2022-11-13T17:37:02.645Z"
   },
   {
    "duration": 1488,
    "start_time": "2022-11-13T17:37:10.868Z"
   },
   {
    "duration": 738,
    "start_time": "2022-11-13T17:37:20.741Z"
   },
   {
    "duration": 764,
    "start_time": "2022-11-13T17:37:42.021Z"
   },
   {
    "duration": 530,
    "start_time": "2022-11-13T17:38:00.597Z"
   },
   {
    "duration": 443,
    "start_time": "2022-11-13T17:38:06.661Z"
   },
   {
    "duration": 419,
    "start_time": "2022-11-13T17:41:59.085Z"
   },
   {
    "duration": 450,
    "start_time": "2022-11-13T17:44:42.740Z"
   },
   {
    "duration": 37,
    "start_time": "2022-11-13T17:48:28.908Z"
   },
   {
    "duration": 38,
    "start_time": "2022-11-13T17:48:52.571Z"
   },
   {
    "duration": 5,
    "start_time": "2022-11-13T17:49:50.620Z"
   },
   {
    "duration": 38,
    "start_time": "2022-11-13T17:49:51.947Z"
   },
   {
    "duration": 63,
    "start_time": "2022-11-13T17:51:16.630Z"
   },
   {
    "duration": 646,
    "start_time": "2022-11-14T05:25:31.798Z"
   },
   {
    "duration": 107,
    "start_time": "2022-11-14T05:25:32.446Z"
   },
   {
    "duration": 26,
    "start_time": "2022-11-14T05:25:32.555Z"
   },
   {
    "duration": 2092,
    "start_time": "2022-11-14T05:25:32.583Z"
   },
   {
    "duration": 29,
    "start_time": "2022-11-14T05:25:34.676Z"
   },
   {
    "duration": 9,
    "start_time": "2022-11-14T05:25:34.706Z"
   },
   {
    "duration": 105,
    "start_time": "2022-11-14T05:25:34.716Z"
   },
   {
    "duration": 9,
    "start_time": "2022-11-14T05:25:34.822Z"
   },
   {
    "duration": 45,
    "start_time": "2022-11-14T05:25:34.832Z"
   },
   {
    "duration": 22,
    "start_time": "2022-11-14T05:25:34.879Z"
   },
   {
    "duration": 10,
    "start_time": "2022-11-14T05:25:34.920Z"
   },
   {
    "duration": 8,
    "start_time": "2022-11-14T05:25:34.931Z"
   },
   {
    "duration": 218,
    "start_time": "2022-11-14T05:25:34.941Z"
   },
   {
    "duration": 7,
    "start_time": "2022-11-14T05:25:35.160Z"
   },
   {
    "duration": 107,
    "start_time": "2022-11-14T05:25:35.169Z"
   },
   {
    "duration": 9,
    "start_time": "2022-11-14T05:25:35.278Z"
   },
   {
    "duration": 17,
    "start_time": "2022-11-14T05:25:35.288Z"
   },
   {
    "duration": 316,
    "start_time": "2022-11-14T05:25:35.306Z"
   },
   {
    "duration": 201,
    "start_time": "2022-11-14T05:25:35.623Z"
   },
   {
    "duration": 345,
    "start_time": "2022-11-14T05:25:35.826Z"
   },
   {
    "duration": 250,
    "start_time": "2022-11-14T05:25:36.173Z"
   },
   {
    "duration": 306,
    "start_time": "2022-11-14T05:25:36.426Z"
   },
   {
    "duration": 167,
    "start_time": "2022-11-14T05:25:36.734Z"
   },
   {
    "duration": 178,
    "start_time": "2022-11-14T05:25:36.903Z"
   },
   {
    "duration": 180,
    "start_time": "2022-11-14T05:25:37.083Z"
   },
   {
    "duration": 155,
    "start_time": "2022-11-14T05:25:37.265Z"
   },
   {
    "duration": 189,
    "start_time": "2022-11-14T05:25:37.422Z"
   },
   {
    "duration": 310,
    "start_time": "2022-11-14T05:25:37.619Z"
   },
   {
    "duration": 272,
    "start_time": "2022-11-14T05:25:37.932Z"
   },
   {
    "duration": 246,
    "start_time": "2022-11-14T05:25:38.205Z"
   },
   {
    "duration": 186,
    "start_time": "2022-11-14T05:25:38.452Z"
   },
   {
    "duration": 155,
    "start_time": "2022-11-14T05:25:38.639Z"
   },
   {
    "duration": 160,
    "start_time": "2022-11-14T05:25:38.795Z"
   },
   {
    "duration": 558,
    "start_time": "2022-11-14T05:25:38.957Z"
   },
   {
    "duration": 110,
    "start_time": "2022-11-14T05:25:39.518Z"
   },
   {
    "duration": 408,
    "start_time": "2022-11-14T05:25:39.630Z"
   },
   {
    "duration": 422,
    "start_time": "2022-11-14T05:25:40.039Z"
   },
   {
    "duration": 405,
    "start_time": "2022-11-14T05:25:40.463Z"
   },
   {
    "duration": 158,
    "start_time": "2022-11-14T05:25:40.870Z"
   },
   {
    "duration": 168,
    "start_time": "2022-11-14T05:25:41.030Z"
   },
   {
    "duration": 478,
    "start_time": "2022-11-14T05:25:41.200Z"
   },
   {
    "duration": 465,
    "start_time": "2022-11-14T05:25:41.680Z"
   },
   {
    "duration": 417,
    "start_time": "2022-11-14T05:25:42.146Z"
   },
   {
    "duration": 24,
    "start_time": "2022-11-14T05:25:42.566Z"
   },
   {
    "duration": 6,
    "start_time": "2022-11-14T05:25:42.592Z"
   },
   {
    "duration": 29,
    "start_time": "2022-11-14T05:25:42.600Z"
   },
   {
    "duration": 73,
    "start_time": "2022-11-14T05:25:42.631Z"
   },
   {
    "duration": 72,
    "start_time": "2022-11-14T05:26:24.750Z"
   },
   {
    "duration": 14,
    "start_time": "2022-11-14T05:26:28.231Z"
   },
   {
    "duration": 138,
    "start_time": "2022-11-14T05:26:31.538Z"
   },
   {
    "duration": 11,
    "start_time": "2022-11-14T05:26:46.633Z"
   },
   {
    "duration": 43,
    "start_time": "2022-11-14T08:57:01.205Z"
   },
   {
    "duration": 707,
    "start_time": "2022-11-14T08:57:22.594Z"
   },
   {
    "duration": 149,
    "start_time": "2022-11-14T08:57:23.303Z"
   },
   {
    "duration": 26,
    "start_time": "2022-11-14T08:57:23.453Z"
   },
   {
    "duration": 1826,
    "start_time": "2022-11-14T08:57:23.482Z"
   },
   {
    "duration": 27,
    "start_time": "2022-11-14T08:57:25.309Z"
   },
   {
    "duration": 8,
    "start_time": "2022-11-14T08:57:25.338Z"
   },
   {
    "duration": 110,
    "start_time": "2022-11-14T08:57:25.347Z"
   },
   {
    "duration": 7,
    "start_time": "2022-11-14T08:57:25.459Z"
   },
   {
    "duration": 42,
    "start_time": "2022-11-14T08:57:25.467Z"
   },
   {
    "duration": 20,
    "start_time": "2022-11-14T08:57:25.512Z"
   },
   {
    "duration": 8,
    "start_time": "2022-11-14T08:57:25.533Z"
   },
   {
    "duration": 7,
    "start_time": "2022-11-14T08:57:25.543Z"
   },
   {
    "duration": 230,
    "start_time": "2022-11-14T08:57:25.552Z"
   },
   {
    "duration": 7,
    "start_time": "2022-11-14T08:57:25.784Z"
   },
   {
    "duration": 95,
    "start_time": "2022-11-14T08:57:25.793Z"
   },
   {
    "duration": 7,
    "start_time": "2022-11-14T08:57:25.890Z"
   },
   {
    "duration": 7,
    "start_time": "2022-11-14T08:57:25.899Z"
   },
   {
    "duration": 293,
    "start_time": "2022-11-14T08:57:25.907Z"
   },
   {
    "duration": 183,
    "start_time": "2022-11-14T08:57:26.203Z"
   },
   {
    "duration": 303,
    "start_time": "2022-11-14T08:57:26.387Z"
   },
   {
    "duration": 193,
    "start_time": "2022-11-14T08:57:26.692Z"
   },
   {
    "duration": 255,
    "start_time": "2022-11-14T08:57:26.886Z"
   },
   {
    "duration": 140,
    "start_time": "2022-11-14T08:57:27.143Z"
   },
   {
    "duration": 152,
    "start_time": "2022-11-14T08:57:27.284Z"
   },
   {
    "duration": 154,
    "start_time": "2022-11-14T08:57:27.437Z"
   },
   {
    "duration": 139,
    "start_time": "2022-11-14T08:57:27.593Z"
   },
   {
    "duration": 186,
    "start_time": "2022-11-14T08:57:27.733Z"
   },
   {
    "duration": 305,
    "start_time": "2022-11-14T08:57:27.923Z"
   },
   {
    "duration": 260,
    "start_time": "2022-11-14T08:57:28.230Z"
   },
   {
    "duration": 231,
    "start_time": "2022-11-14T08:57:28.492Z"
   },
   {
    "duration": 169,
    "start_time": "2022-11-14T08:57:28.725Z"
   },
   {
    "duration": 145,
    "start_time": "2022-11-14T08:57:28.895Z"
   },
   {
    "duration": 132,
    "start_time": "2022-11-14T08:57:29.041Z"
   },
   {
    "duration": 500,
    "start_time": "2022-11-14T08:57:29.178Z"
   },
   {
    "duration": 99,
    "start_time": "2022-11-14T08:57:29.680Z"
   },
   {
    "duration": 386,
    "start_time": "2022-11-14T08:57:29.781Z"
   },
   {
    "duration": 410,
    "start_time": "2022-11-14T08:57:30.169Z"
   },
   {
    "duration": 406,
    "start_time": "2022-11-14T08:57:30.581Z"
   },
   {
    "duration": 161,
    "start_time": "2022-11-14T08:57:30.989Z"
   },
   {
    "duration": 152,
    "start_time": "2022-11-14T08:57:31.152Z"
   },
   {
    "duration": 624,
    "start_time": "2022-11-14T08:57:31.306Z"
   },
   {
    "duration": 446,
    "start_time": "2022-11-14T08:57:31.932Z"
   },
   {
    "duration": 387,
    "start_time": "2022-11-14T08:57:32.379Z"
   },
   {
    "duration": 29,
    "start_time": "2022-11-14T08:57:32.767Z"
   },
   {
    "duration": 7,
    "start_time": "2022-11-14T08:57:32.798Z"
   },
   {
    "duration": 13,
    "start_time": "2022-11-14T08:57:32.806Z"
   },
   {
    "duration": 136,
    "start_time": "2022-11-14T08:57:32.821Z"
   },
   {
    "duration": 158,
    "start_time": "2022-11-14T08:57:57.589Z"
   },
   {
    "duration": 655,
    "start_time": "2022-11-14T09:04:19.060Z"
   },
   {
    "duration": 149,
    "start_time": "2022-11-14T09:06:18.168Z"
   },
   {
    "duration": 552,
    "start_time": "2022-11-14T09:11:28.061Z"
   },
   {
    "duration": 149,
    "start_time": "2022-11-14T09:12:03.360Z"
   },
   {
    "duration": 173,
    "start_time": "2022-11-14T09:15:20.773Z"
   },
   {
    "duration": 167,
    "start_time": "2022-11-14T09:15:28.329Z"
   },
   {
    "duration": 175,
    "start_time": "2022-11-14T09:15:38.499Z"
   },
   {
    "duration": 153,
    "start_time": "2022-11-14T09:15:48.348Z"
   },
   {
    "duration": 669,
    "start_time": "2022-11-14T16:45:06.777Z"
   },
   {
    "duration": 112,
    "start_time": "2022-11-14T16:45:07.450Z"
   },
   {
    "duration": 34,
    "start_time": "2022-11-14T16:45:07.565Z"
   },
   {
    "duration": 2399,
    "start_time": "2022-11-14T16:45:07.603Z"
   },
   {
    "duration": 33,
    "start_time": "2022-11-14T16:45:10.004Z"
   },
   {
    "duration": 14,
    "start_time": "2022-11-14T16:45:10.051Z"
   },
   {
    "duration": 159,
    "start_time": "2022-11-14T16:45:10.067Z"
   },
   {
    "duration": 10,
    "start_time": "2022-11-14T16:45:10.228Z"
   },
   {
    "duration": 57,
    "start_time": "2022-11-14T16:45:10.240Z"
   },
   {
    "duration": 23,
    "start_time": "2022-11-14T16:45:10.300Z"
   },
   {
    "duration": 34,
    "start_time": "2022-11-14T16:45:10.325Z"
   },
   {
    "duration": 10,
    "start_time": "2022-11-14T16:45:10.361Z"
   },
   {
    "duration": 231,
    "start_time": "2022-11-14T16:45:10.373Z"
   },
   {
    "duration": 11,
    "start_time": "2022-11-14T16:45:10.606Z"
   },
   {
    "duration": 163,
    "start_time": "2022-11-14T16:45:10.619Z"
   },
   {
    "duration": 10,
    "start_time": "2022-11-14T16:45:10.784Z"
   },
   {
    "duration": 16,
    "start_time": "2022-11-14T16:45:10.796Z"
   },
   {
    "duration": 378,
    "start_time": "2022-11-14T16:45:10.814Z"
   },
   {
    "duration": 225,
    "start_time": "2022-11-14T16:45:11.194Z"
   },
   {
    "duration": 383,
    "start_time": "2022-11-14T16:45:11.421Z"
   },
   {
    "duration": 227,
    "start_time": "2022-11-14T16:45:11.806Z"
   },
   {
    "duration": 319,
    "start_time": "2022-11-14T16:45:12.035Z"
   },
   {
    "duration": 180,
    "start_time": "2022-11-14T16:45:12.356Z"
   },
   {
    "duration": 195,
    "start_time": "2022-11-14T16:45:12.538Z"
   },
   {
    "duration": 208,
    "start_time": "2022-11-14T16:45:12.734Z"
   },
   {
    "duration": 189,
    "start_time": "2022-11-14T16:45:12.944Z"
   },
   {
    "duration": 237,
    "start_time": "2022-11-14T16:45:13.135Z"
   },
   {
    "duration": 349,
    "start_time": "2022-11-14T16:45:13.377Z"
   },
   {
    "duration": 315,
    "start_time": "2022-11-14T16:45:13.728Z"
   },
   {
    "duration": 292,
    "start_time": "2022-11-14T16:45:14.045Z"
   },
   {
    "duration": 238,
    "start_time": "2022-11-14T16:45:14.340Z"
   },
   {
    "duration": 180,
    "start_time": "2022-11-14T16:45:14.581Z"
   },
   {
    "duration": 179,
    "start_time": "2022-11-14T16:45:14.764Z"
   },
   {
    "duration": 625,
    "start_time": "2022-11-14T16:45:14.945Z"
   },
   {
    "duration": 126,
    "start_time": "2022-11-14T16:45:15.572Z"
   },
   {
    "duration": 492,
    "start_time": "2022-11-14T16:45:15.700Z"
   },
   {
    "duration": 482,
    "start_time": "2022-11-14T16:45:16.195Z"
   },
   {
    "duration": 458,
    "start_time": "2022-11-14T16:45:16.679Z"
   },
   {
    "duration": 176,
    "start_time": "2022-11-14T16:45:17.140Z"
   },
   {
    "duration": 198,
    "start_time": "2022-11-14T16:45:17.318Z"
   },
   {
    "duration": 215,
    "start_time": "2022-11-14T16:45:17.518Z"
   },
   {
    "duration": 200,
    "start_time": "2022-11-14T16:45:17.735Z"
   },
   {
    "duration": 194,
    "start_time": "2022-11-14T16:45:17.936Z"
   },
   {
    "duration": 40,
    "start_time": "2022-11-14T16:45:18.132Z"
   },
   {
    "duration": 10,
    "start_time": "2022-11-14T16:45:18.176Z"
   },
   {
    "duration": 23,
    "start_time": "2022-11-14T16:45:18.188Z"
   },
   {
    "duration": 104,
    "start_time": "2022-11-14T16:45:18.214Z"
   }
  ],
  "kernelspec": {
   "display_name": "Python 3 (ipykernel)",
   "language": "python",
   "name": "python3"
  },
  "language_info": {
   "codemirror_mode": {
    "name": "ipython",
    "version": 3
   },
   "file_extension": ".py",
   "mimetype": "text/x-python",
   "name": "python",
   "nbconvert_exporter": "python",
   "pygments_lexer": "ipython3",
   "version": "3.9.13"
  },
  "toc": {
   "base_numbering": 1,
   "nav_menu": {},
   "number_sections": true,
   "sideBar": true,
   "skip_h1_title": true,
   "title_cell": "Table of Contents",
   "title_sidebar": "Contents",
   "toc_cell": false,
   "toc_position": {},
   "toc_section_display": true,
   "toc_window_display": false
  }
 },
 "nbformat": 4,
 "nbformat_minor": 2
}
