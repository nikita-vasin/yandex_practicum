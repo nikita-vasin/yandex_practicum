{
 "cells": [
  {
   "cell_type": "markdown",
   "metadata": {},
   "source": [
    "### Проект по SQL"
   ]
  },
  {
   "cell_type": "markdown",
   "metadata": {},
   "source": [
    "<b>Описание:</b>\n",
    "#### Компания решила быть на волне и купила крупный сервис для чтения книг по подписке.  Первая задача — проанализировать базу данных.</br>\n",
    "<br><b>Цель:</b></br>\n",
    "<br>Сформулировать ценностное предложение для нового продукта.</br>\n",
    "<br></br>"
   ]
  },
  {
   "cell_type": "markdown",
   "metadata": {},
   "source": [
    "#### Описание данных\n",
    "##### Таблица books\n",
    "###### Содержит данные о книгах:\n",
    "- `book_id` — идентификатор книги;\n",
    "- `author_id` — идентификатор автора;\n",
    "- `title` — название книги;\n",
    "- `num_pages` — количество страниц;\n",
    "- `publication_date` — дата публикации книги;\n",
    "- `publisher_id` — идентификатор издателя.\n",
    "##### Таблица authors\n",
    "###### Содержит данные об авторах:\n",
    "- `author_id` — идентификатор автора;\n",
    "- `author` — имя автора.\n",
    "##### Таблица publishers\n",
    "###### Содержит данные об издательствах:\n",
    "- `publisher_id` — идентификатор издательства;\n",
    "- `publisher` — название издательства;\n",
    "##### Таблица ratings\n",
    "###### Содержит данные о пользовательских оценках книг:\n",
    "- `rating_id` — идентификатор оценки;\n",
    "- `book_id` — идентификатор книги;\n",
    "- `username` — имя пользователя, оставившего оценку;\n",
    "- `rating` — оценка книги.\n",
    "##### Таблица reviews\n",
    "###### Содержит данные о пользовательских обзорах:\n",
    "- `review_id` — идентификатор обзора;\n",
    "- `book_id` — идентификатор книги;\n",
    "- `username` — имя автора обзора;\n",
    "- `text` — текст обзора.\n"
   ]
  },
  {
   "cell_type": "markdown",
   "metadata": {},
   "source": [
    "#### Схема данных"
   ]
  },
  {
   "cell_type": "markdown",
   "metadata": {},
   "source": [
    "![picture_of_bird](https://pictures.s3.yandex.net/resources/scheme_1589269096.png)"
   ]
  },
  {
   "cell_type": "markdown",
   "metadata": {},
   "source": [
    "### Загрузка данных и изучение общей информации"
   ]
  },
  {
   "cell_type": "markdown",
   "metadata": {},
   "source": [
    "#### Импортируем необходимые библиотеки для работы"
   ]
  },
  {
   "cell_type": "code",
   "execution_count": 1,
   "metadata": {},
   "outputs": [],
   "source": [
    "# импортируем библиотеки\n",
    "import pandas as pd\n",
    "from sqlalchemy import create_engine\n",
    "# устанавливаем параметры\n",
    "db_config = {'user': 'praktikum_student', # имя пользователя\n",
    "'pwd': 'Sdf4$2;d-d30pp', # пароль\n",
    "'host': 'rc1b-wcoijxj3yxfsf3fs.mdb.yandexcloud.net',\n",
    "'port': 6432, # порт подключения\n",
    "'db': 'data-analyst-final-project-db'} # название базы данных\n",
    "connection_string = 'postgresql://{}:{}@{}:{}/{}'.format(db_config['user'],\n",
    " db_config['pwd'],\n",
    " db_config['host'],\n",
    " db_config['port'],\n",
    " db_config['db'])\n",
    "# сохраняем коннектор\n",
    "engine = create_engine(connection_string, connect_args={'sslmode':'require'}) "
   ]
  },
  {
   "cell_type": "code",
   "execution_count": 2,
   "metadata": {},
   "outputs": [],
   "source": [
    "#Напишем функцию выводящую результат SQL-запроса:\n",
    "def sql_result(query):\n",
    "    return pd.io.sql.read_sql(query, con = engine)"
   ]
  },
  {
   "cell_type": "markdown",
   "metadata": {},
   "source": [
    "#### Смотрим на содержание таблиц"
   ]
  },
  {
   "cell_type": "code",
   "execution_count": 3,
   "metadata": {},
   "outputs": [
    {
     "data": {
      "text/html": [
       "<div>\n",
       "<style scoped>\n",
       "    .dataframe tbody tr th:only-of-type {\n",
       "        vertical-align: middle;\n",
       "    }\n",
       "\n",
       "    .dataframe tbody tr th {\n",
       "        vertical-align: top;\n",
       "    }\n",
       "\n",
       "    .dataframe thead th {\n",
       "        text-align: right;\n",
       "    }\n",
       "</style>\n",
       "<table border=\"1\" class=\"dataframe\">\n",
       "  <thead>\n",
       "    <tr style=\"text-align: right;\">\n",
       "      <th></th>\n",
       "      <th>book_id</th>\n",
       "      <th>author_id</th>\n",
       "      <th>title</th>\n",
       "      <th>num_pages</th>\n",
       "      <th>publication_date</th>\n",
       "      <th>publisher_id</th>\n",
       "    </tr>\n",
       "  </thead>\n",
       "  <tbody>\n",
       "    <tr>\n",
       "      <th>0</th>\n",
       "      <td>1</td>\n",
       "      <td>546</td>\n",
       "      <td>'Salem's Lot</td>\n",
       "      <td>594</td>\n",
       "      <td>2005-11-01</td>\n",
       "      <td>93</td>\n",
       "    </tr>\n",
       "    <tr>\n",
       "      <th>1</th>\n",
       "      <td>2</td>\n",
       "      <td>465</td>\n",
       "      <td>1 000 Places to See Before You Die</td>\n",
       "      <td>992</td>\n",
       "      <td>2003-05-22</td>\n",
       "      <td>336</td>\n",
       "    </tr>\n",
       "    <tr>\n",
       "      <th>2</th>\n",
       "      <td>3</td>\n",
       "      <td>407</td>\n",
       "      <td>13 Little Blue Envelopes (Little Blue Envelope...</td>\n",
       "      <td>322</td>\n",
       "      <td>2010-12-21</td>\n",
       "      <td>135</td>\n",
       "    </tr>\n",
       "    <tr>\n",
       "      <th>3</th>\n",
       "      <td>4</td>\n",
       "      <td>82</td>\n",
       "      <td>1491: New Revelations of the Americas Before C...</td>\n",
       "      <td>541</td>\n",
       "      <td>2006-10-10</td>\n",
       "      <td>309</td>\n",
       "    </tr>\n",
       "    <tr>\n",
       "      <th>4</th>\n",
       "      <td>5</td>\n",
       "      <td>125</td>\n",
       "      <td>1776</td>\n",
       "      <td>386</td>\n",
       "      <td>2006-07-04</td>\n",
       "      <td>268</td>\n",
       "    </tr>\n",
       "  </tbody>\n",
       "</table>\n",
       "</div>"
      ],
      "text/plain": [
       "   book_id  author_id                                              title  \\\n",
       "0        1        546                                       'Salem's Lot   \n",
       "1        2        465                 1 000 Places to See Before You Die   \n",
       "2        3        407  13 Little Blue Envelopes (Little Blue Envelope...   \n",
       "3        4         82  1491: New Revelations of the Americas Before C...   \n",
       "4        5        125                                               1776   \n",
       "\n",
       "   num_pages publication_date  publisher_id  \n",
       "0        594       2005-11-01            93  \n",
       "1        992       2003-05-22           336  \n",
       "2        322       2010-12-21           135  \n",
       "3        541       2006-10-10           309  \n",
       "4        386       2006-07-04           268  "
      ]
     },
     "execution_count": 3,
     "metadata": {},
     "output_type": "execute_result"
    }
   ],
   "source": [
    "query  = '''\n",
    "        SELECT * \n",
    "        FROM books\n",
    "        LIMIT 5\n",
    "        '''\n",
    "sql_result(query)"
   ]
  },
  {
   "cell_type": "code",
   "execution_count": 4,
   "metadata": {},
   "outputs": [
    {
     "data": {
      "text/html": [
       "<div>\n",
       "<style scoped>\n",
       "    .dataframe tbody tr th:only-of-type {\n",
       "        vertical-align: middle;\n",
       "    }\n",
       "\n",
       "    .dataframe tbody tr th {\n",
       "        vertical-align: top;\n",
       "    }\n",
       "\n",
       "    .dataframe thead th {\n",
       "        text-align: right;\n",
       "    }\n",
       "</style>\n",
       "<table border=\"1\" class=\"dataframe\">\n",
       "  <thead>\n",
       "    <tr style=\"text-align: right;\">\n",
       "      <th></th>\n",
       "      <th>author_id</th>\n",
       "      <th>author</th>\n",
       "    </tr>\n",
       "  </thead>\n",
       "  <tbody>\n",
       "    <tr>\n",
       "      <th>0</th>\n",
       "      <td>1</td>\n",
       "      <td>A.S. Byatt</td>\n",
       "    </tr>\n",
       "    <tr>\n",
       "      <th>1</th>\n",
       "      <td>2</td>\n",
       "      <td>Aesop/Laura Harris/Laura Gibbs</td>\n",
       "    </tr>\n",
       "    <tr>\n",
       "      <th>2</th>\n",
       "      <td>3</td>\n",
       "      <td>Agatha Christie</td>\n",
       "    </tr>\n",
       "    <tr>\n",
       "      <th>3</th>\n",
       "      <td>4</td>\n",
       "      <td>Alan Brennert</td>\n",
       "    </tr>\n",
       "    <tr>\n",
       "      <th>4</th>\n",
       "      <td>5</td>\n",
       "      <td>Alan Moore/David   Lloyd</td>\n",
       "    </tr>\n",
       "  </tbody>\n",
       "</table>\n",
       "</div>"
      ],
      "text/plain": [
       "   author_id                          author\n",
       "0          1                      A.S. Byatt\n",
       "1          2  Aesop/Laura Harris/Laura Gibbs\n",
       "2          3                 Agatha Christie\n",
       "3          4                   Alan Brennert\n",
       "4          5        Alan Moore/David   Lloyd"
      ]
     },
     "execution_count": 4,
     "metadata": {},
     "output_type": "execute_result"
    }
   ],
   "source": [
    "query ='''\n",
    "        SELECT * \n",
    "        FROM authors\n",
    "        LIMIT 5\n",
    "        '''\n",
    "sql_result(query)"
   ]
  },
  {
   "cell_type": "code",
   "execution_count": 5,
   "metadata": {},
   "outputs": [
    {
     "data": {
      "text/html": [
       "<div>\n",
       "<style scoped>\n",
       "    .dataframe tbody tr th:only-of-type {\n",
       "        vertical-align: middle;\n",
       "    }\n",
       "\n",
       "    .dataframe tbody tr th {\n",
       "        vertical-align: top;\n",
       "    }\n",
       "\n",
       "    .dataframe thead th {\n",
       "        text-align: right;\n",
       "    }\n",
       "</style>\n",
       "<table border=\"1\" class=\"dataframe\">\n",
       "  <thead>\n",
       "    <tr style=\"text-align: right;\">\n",
       "      <th></th>\n",
       "      <th>publisher_id</th>\n",
       "      <th>publisher</th>\n",
       "    </tr>\n",
       "  </thead>\n",
       "  <tbody>\n",
       "    <tr>\n",
       "      <th>0</th>\n",
       "      <td>1</td>\n",
       "      <td>Ace</td>\n",
       "    </tr>\n",
       "    <tr>\n",
       "      <th>1</th>\n",
       "      <td>2</td>\n",
       "      <td>Ace Book</td>\n",
       "    </tr>\n",
       "    <tr>\n",
       "      <th>2</th>\n",
       "      <td>3</td>\n",
       "      <td>Ace Books</td>\n",
       "    </tr>\n",
       "    <tr>\n",
       "      <th>3</th>\n",
       "      <td>4</td>\n",
       "      <td>Ace Hardcover</td>\n",
       "    </tr>\n",
       "    <tr>\n",
       "      <th>4</th>\n",
       "      <td>5</td>\n",
       "      <td>Addison Wesley Publishing Company</td>\n",
       "    </tr>\n",
       "  </tbody>\n",
       "</table>\n",
       "</div>"
      ],
      "text/plain": [
       "   publisher_id                          publisher\n",
       "0             1                                Ace\n",
       "1             2                           Ace Book\n",
       "2             3                          Ace Books\n",
       "3             4                      Ace Hardcover\n",
       "4             5  Addison Wesley Publishing Company"
      ]
     },
     "execution_count": 5,
     "metadata": {},
     "output_type": "execute_result"
    }
   ],
   "source": [
    "query = '''\n",
    "        SELECT * \n",
    "        FROM publishers\n",
    "        LIMIT 5\n",
    "        '''\n",
    "sql_result(query)"
   ]
  },
  {
   "cell_type": "code",
   "execution_count": 6,
   "metadata": {},
   "outputs": [
    {
     "data": {
      "text/html": [
       "<div>\n",
       "<style scoped>\n",
       "    .dataframe tbody tr th:only-of-type {\n",
       "        vertical-align: middle;\n",
       "    }\n",
       "\n",
       "    .dataframe tbody tr th {\n",
       "        vertical-align: top;\n",
       "    }\n",
       "\n",
       "    .dataframe thead th {\n",
       "        text-align: right;\n",
       "    }\n",
       "</style>\n",
       "<table border=\"1\" class=\"dataframe\">\n",
       "  <thead>\n",
       "    <tr style=\"text-align: right;\">\n",
       "      <th></th>\n",
       "      <th>rating_id</th>\n",
       "      <th>book_id</th>\n",
       "      <th>username</th>\n",
       "      <th>rating</th>\n",
       "    </tr>\n",
       "  </thead>\n",
       "  <tbody>\n",
       "    <tr>\n",
       "      <th>0</th>\n",
       "      <td>1</td>\n",
       "      <td>1</td>\n",
       "      <td>ryanfranco</td>\n",
       "      <td>4</td>\n",
       "    </tr>\n",
       "    <tr>\n",
       "      <th>1</th>\n",
       "      <td>2</td>\n",
       "      <td>1</td>\n",
       "      <td>grantpatricia</td>\n",
       "      <td>2</td>\n",
       "    </tr>\n",
       "    <tr>\n",
       "      <th>2</th>\n",
       "      <td>3</td>\n",
       "      <td>1</td>\n",
       "      <td>brandtandrea</td>\n",
       "      <td>5</td>\n",
       "    </tr>\n",
       "    <tr>\n",
       "      <th>3</th>\n",
       "      <td>4</td>\n",
       "      <td>2</td>\n",
       "      <td>lorichen</td>\n",
       "      <td>3</td>\n",
       "    </tr>\n",
       "    <tr>\n",
       "      <th>4</th>\n",
       "      <td>5</td>\n",
       "      <td>2</td>\n",
       "      <td>mariokeller</td>\n",
       "      <td>2</td>\n",
       "    </tr>\n",
       "  </tbody>\n",
       "</table>\n",
       "</div>"
      ],
      "text/plain": [
       "   rating_id  book_id       username  rating\n",
       "0          1        1     ryanfranco       4\n",
       "1          2        1  grantpatricia       2\n",
       "2          3        1   brandtandrea       5\n",
       "3          4        2       lorichen       3\n",
       "4          5        2    mariokeller       2"
      ]
     },
     "execution_count": 6,
     "metadata": {},
     "output_type": "execute_result"
    }
   ],
   "source": [
    "query = '''\n",
    "        SELECT * \n",
    "        FROM ratings\n",
    "        LIMIT 5\n",
    "        '''\n",
    "sql_result(query)"
   ]
  },
  {
   "cell_type": "code",
   "execution_count": 7,
   "metadata": {},
   "outputs": [
    {
     "data": {
      "text/html": [
       "<div>\n",
       "<style scoped>\n",
       "    .dataframe tbody tr th:only-of-type {\n",
       "        vertical-align: middle;\n",
       "    }\n",
       "\n",
       "    .dataframe tbody tr th {\n",
       "        vertical-align: top;\n",
       "    }\n",
       "\n",
       "    .dataframe thead th {\n",
       "        text-align: right;\n",
       "    }\n",
       "</style>\n",
       "<table border=\"1\" class=\"dataframe\">\n",
       "  <thead>\n",
       "    <tr style=\"text-align: right;\">\n",
       "      <th></th>\n",
       "      <th>review_id</th>\n",
       "      <th>book_id</th>\n",
       "      <th>username</th>\n",
       "      <th>text</th>\n",
       "    </tr>\n",
       "  </thead>\n",
       "  <tbody>\n",
       "    <tr>\n",
       "      <th>0</th>\n",
       "      <td>1</td>\n",
       "      <td>1</td>\n",
       "      <td>brandtandrea</td>\n",
       "      <td>Mention society tell send professor analysis. ...</td>\n",
       "    </tr>\n",
       "    <tr>\n",
       "      <th>1</th>\n",
       "      <td>2</td>\n",
       "      <td>1</td>\n",
       "      <td>ryanfranco</td>\n",
       "      <td>Foot glass pretty audience hit themselves. Amo...</td>\n",
       "    </tr>\n",
       "    <tr>\n",
       "      <th>2</th>\n",
       "      <td>3</td>\n",
       "      <td>2</td>\n",
       "      <td>lorichen</td>\n",
       "      <td>Listen treat keep worry. Miss husband tax but ...</td>\n",
       "    </tr>\n",
       "    <tr>\n",
       "      <th>3</th>\n",
       "      <td>4</td>\n",
       "      <td>3</td>\n",
       "      <td>johnsonamanda</td>\n",
       "      <td>Finally month interesting blue could nature cu...</td>\n",
       "    </tr>\n",
       "    <tr>\n",
       "      <th>4</th>\n",
       "      <td>5</td>\n",
       "      <td>3</td>\n",
       "      <td>scotttamara</td>\n",
       "      <td>Nation purpose heavy give wait song will. List...</td>\n",
       "    </tr>\n",
       "  </tbody>\n",
       "</table>\n",
       "</div>"
      ],
      "text/plain": [
       "   review_id  book_id       username  \\\n",
       "0          1        1   brandtandrea   \n",
       "1          2        1     ryanfranco   \n",
       "2          3        2       lorichen   \n",
       "3          4        3  johnsonamanda   \n",
       "4          5        3    scotttamara   \n",
       "\n",
       "                                                text  \n",
       "0  Mention society tell send professor analysis. ...  \n",
       "1  Foot glass pretty audience hit themselves. Amo...  \n",
       "2  Listen treat keep worry. Miss husband tax but ...  \n",
       "3  Finally month interesting blue could nature cu...  \n",
       "4  Nation purpose heavy give wait song will. List...  "
      ]
     },
     "execution_count": 7,
     "metadata": {},
     "output_type": "execute_result"
    }
   ],
   "source": [
    "query = '''\n",
    "        SELECT * \n",
    "        FROM reviews\n",
    "        LIMIT 5\n",
    "        '''\n",
    "sql_result(query)"
   ]
  },
  {
   "cell_type": "markdown",
   "metadata": {},
   "source": [
    "### Исследовательский анализ"
   ]
  },
  {
   "cell_type": "markdown",
   "metadata": {},
   "source": [
    "#### Посчитайте, сколько книг вышло после 1 января 2000 года;"
   ]
  },
  {
   "cell_type": "code",
   "execution_count": 8,
   "metadata": {},
   "outputs": [
    {
     "data": {
      "text/html": [
       "<div>\n",
       "<style scoped>\n",
       "    .dataframe tbody tr th:only-of-type {\n",
       "        vertical-align: middle;\n",
       "    }\n",
       "\n",
       "    .dataframe tbody tr th {\n",
       "        vertical-align: top;\n",
       "    }\n",
       "\n",
       "    .dataframe thead th {\n",
       "        text-align: right;\n",
       "    }\n",
       "</style>\n",
       "<table border=\"1\" class=\"dataframe\">\n",
       "  <thead>\n",
       "    <tr style=\"text-align: right;\">\n",
       "      <th></th>\n",
       "      <th>count</th>\n",
       "    </tr>\n",
       "  </thead>\n",
       "  <tbody>\n",
       "    <tr>\n",
       "      <th>0</th>\n",
       "      <td>819</td>\n",
       "    </tr>\n",
       "  </tbody>\n",
       "</table>\n",
       "</div>"
      ],
      "text/plain": [
       "   count\n",
       "0    819"
      ]
     },
     "execution_count": 8,
     "metadata": {},
     "output_type": "execute_result"
    }
   ],
   "source": [
    "query = '''\n",
    "        SELECT COUNT(DISTINCT book_id) \n",
    "        FROM books \n",
    "        WHERE publication_date > '2000-01-01' \n",
    "        '''\n",
    "sql_result(query)"
   ]
  },
  {
   "cell_type": "markdown",
   "metadata": {},
   "source": [
    "<div class=\"alert alert-info\"> Всего вышло 786 книг после 1 января 2000 года.</div>"
   ]
  },
  {
   "cell_type": "markdown",
   "metadata": {},
   "source": [
    "#### Для каждой книги посчитайте количество обзоров и среднюю оценку;"
   ]
  },
  {
   "cell_type": "code",
   "execution_count": 9,
   "metadata": {},
   "outputs": [
    {
     "data": {
      "text/html": [
       "<div>\n",
       "<style scoped>\n",
       "    .dataframe tbody tr th:only-of-type {\n",
       "        vertical-align: middle;\n",
       "    }\n",
       "\n",
       "    .dataframe tbody tr th {\n",
       "        vertical-align: top;\n",
       "    }\n",
       "\n",
       "    .dataframe thead th {\n",
       "        text-align: right;\n",
       "    }\n",
       "</style>\n",
       "<table border=\"1\" class=\"dataframe\">\n",
       "  <thead>\n",
       "    <tr style=\"text-align: right;\">\n",
       "      <th></th>\n",
       "      <th>title</th>\n",
       "      <th>review_cnt</th>\n",
       "      <th>avg_rating</th>\n",
       "    </tr>\n",
       "  </thead>\n",
       "  <tbody>\n",
       "    <tr>\n",
       "      <th>0</th>\n",
       "      <td>Twilight (Twilight  #1)</td>\n",
       "      <td>7</td>\n",
       "      <td>3.662500</td>\n",
       "    </tr>\n",
       "    <tr>\n",
       "      <th>1</th>\n",
       "      <td>The Hobbit  or There and Back Again</td>\n",
       "      <td>6</td>\n",
       "      <td>4.125000</td>\n",
       "    </tr>\n",
       "    <tr>\n",
       "      <th>2</th>\n",
       "      <td>The Catcher in the Rye</td>\n",
       "      <td>6</td>\n",
       "      <td>3.825581</td>\n",
       "    </tr>\n",
       "    <tr>\n",
       "      <th>3</th>\n",
       "      <td>Harry Potter and the Prisoner of Azkaban (Harr...</td>\n",
       "      <td>6</td>\n",
       "      <td>4.414634</td>\n",
       "    </tr>\n",
       "    <tr>\n",
       "      <th>4</th>\n",
       "      <td>Harry Potter and the Chamber of Secrets (Harry...</td>\n",
       "      <td>6</td>\n",
       "      <td>4.287500</td>\n",
       "    </tr>\n",
       "    <tr>\n",
       "      <th>...</th>\n",
       "      <td>...</td>\n",
       "      <td>...</td>\n",
       "      <td>...</td>\n",
       "    </tr>\n",
       "    <tr>\n",
       "      <th>994</th>\n",
       "      <td>Disney's Beauty and the Beast (A Little Golden...</td>\n",
       "      <td>0</td>\n",
       "      <td>4.000000</td>\n",
       "    </tr>\n",
       "    <tr>\n",
       "      <th>995</th>\n",
       "      <td>Essential Tales and Poems</td>\n",
       "      <td>0</td>\n",
       "      <td>4.000000</td>\n",
       "    </tr>\n",
       "    <tr>\n",
       "      <th>996</th>\n",
       "      <td>Leonardo's Notebooks</td>\n",
       "      <td>0</td>\n",
       "      <td>4.000000</td>\n",
       "    </tr>\n",
       "    <tr>\n",
       "      <th>997</th>\n",
       "      <td>The Natural Way to Draw</td>\n",
       "      <td>0</td>\n",
       "      <td>3.000000</td>\n",
       "    </tr>\n",
       "    <tr>\n",
       "      <th>998</th>\n",
       "      <td>The Cat in the Hat and Other Dr. Seuss Favorites</td>\n",
       "      <td>0</td>\n",
       "      <td>5.000000</td>\n",
       "    </tr>\n",
       "  </tbody>\n",
       "</table>\n",
       "<p>999 rows × 3 columns</p>\n",
       "</div>"
      ],
      "text/plain": [
       "                                                 title  review_cnt  avg_rating\n",
       "0                              Twilight (Twilight  #1)           7    3.662500\n",
       "1                  The Hobbit  or There and Back Again           6    4.125000\n",
       "2                               The Catcher in the Rye           6    3.825581\n",
       "3    Harry Potter and the Prisoner of Azkaban (Harr...           6    4.414634\n",
       "4    Harry Potter and the Chamber of Secrets (Harry...           6    4.287500\n",
       "..                                                 ...         ...         ...\n",
       "994  Disney's Beauty and the Beast (A Little Golden...           0    4.000000\n",
       "995                          Essential Tales and Poems           0    4.000000\n",
       "996                               Leonardo's Notebooks           0    4.000000\n",
       "997                            The Natural Way to Draw           0    3.000000\n",
       "998   The Cat in the Hat and Other Dr. Seuss Favorites           0    5.000000\n",
       "\n",
       "[999 rows x 3 columns]"
      ]
     },
     "execution_count": 9,
     "metadata": {},
     "output_type": "execute_result"
    }
   ],
   "source": [
    "query = '''\n",
    "        SELECT books.title,\n",
    "        COUNT(distinct review_id) as review_cnt,\n",
    "        AVG(rating) AS avg_rating\n",
    "        \n",
    "        FROM books\n",
    "        LEFT JOIN reviews ON reviews.book_id = books.book_id\n",
    "        LEFT JOIN ratings ON ratings.book_id = books.book_id\n",
    "        GROUP BY books.title\n",
    "        ORDER BY \n",
    "        COUNT(reviews.review_id) DESC\n",
    "        '''\n",
    "sql_result(query)"
   ]
  },
  {
   "cell_type": "markdown",
   "metadata": {},
   "source": [
    "<div class=\"alert alert-info\">Вывел топ 10 книг и отсортировал по количеству обзоров. Безоговорочным лидером является книга Twilight (Twilight #1) с 7 просмотрами.</div>"
   ]
  },
  {
   "cell_type": "markdown",
   "metadata": {},
   "source": [
    "#### Определите издательство, которое выпустило наибольшее число книг толще 50 страниц — так вы исключите из анализа брошюры;"
   ]
  },
  {
   "cell_type": "code",
   "execution_count": 10,
   "metadata": {},
   "outputs": [
    {
     "data": {
      "text/html": [
       "<div>\n",
       "<style scoped>\n",
       "    .dataframe tbody tr th:only-of-type {\n",
       "        vertical-align: middle;\n",
       "    }\n",
       "\n",
       "    .dataframe tbody tr th {\n",
       "        vertical-align: top;\n",
       "    }\n",
       "\n",
       "    .dataframe thead th {\n",
       "        text-align: right;\n",
       "    }\n",
       "</style>\n",
       "<table border=\"1\" class=\"dataframe\">\n",
       "  <thead>\n",
       "    <tr style=\"text-align: right;\">\n",
       "      <th></th>\n",
       "      <th>publisher</th>\n",
       "      <th>count_books</th>\n",
       "    </tr>\n",
       "  </thead>\n",
       "  <tbody>\n",
       "    <tr>\n",
       "      <th>0</th>\n",
       "      <td>Penguin Books</td>\n",
       "      <td>42</td>\n",
       "    </tr>\n",
       "    <tr>\n",
       "      <th>1</th>\n",
       "      <td>Vintage</td>\n",
       "      <td>31</td>\n",
       "    </tr>\n",
       "    <tr>\n",
       "      <th>2</th>\n",
       "      <td>Grand Central Publishing</td>\n",
       "      <td>25</td>\n",
       "    </tr>\n",
       "    <tr>\n",
       "      <th>3</th>\n",
       "      <td>Penguin Classics</td>\n",
       "      <td>24</td>\n",
       "    </tr>\n",
       "    <tr>\n",
       "      <th>4</th>\n",
       "      <td>Bantam</td>\n",
       "      <td>19</td>\n",
       "    </tr>\n",
       "  </tbody>\n",
       "</table>\n",
       "</div>"
      ],
      "text/plain": [
       "                  publisher  count_books\n",
       "0             Penguin Books           42\n",
       "1                   Vintage           31\n",
       "2  Grand Central Publishing           25\n",
       "3          Penguin Classics           24\n",
       "4                    Bantam           19"
      ]
     },
     "execution_count": 10,
     "metadata": {},
     "output_type": "execute_result"
    }
   ],
   "source": [
    "query = '''\n",
    "                   SELECT p.publisher,\n",
    "                   COUNT(b.book_id) as count_books\n",
    "                   FROM books b\n",
    "                   LEFT JOIN publishers p ON b.publisher_id = p.publisher_id \n",
    "                   WHERE num_pages > 50\n",
    "                   GROUP BY 1\n",
    "                   ORDER BY count_books DESC \n",
    "                   LIMIT 5\n",
    "                   '''\n",
    "sql_result(query)"
   ]
  },
  {
   "cell_type": "markdown",
   "metadata": {},
   "source": [
    "<div class=\"alert alert-info\">Наибольшее число книг толще 50 страниц выпустило издательство Penguin Books - 42 книги.</div>"
   ]
  },
  {
   "cell_type": "markdown",
   "metadata": {},
   "source": [
    "#### Определите автора с самой высокой средней оценкой книг — учитывайте только книги с 50 и более оценками;"
   ]
  },
  {
   "cell_type": "code",
   "execution_count": 11,
   "metadata": {},
   "outputs": [
    {
     "data": {
      "text/html": [
       "<div>\n",
       "<style scoped>\n",
       "    .dataframe tbody tr th:only-of-type {\n",
       "        vertical-align: middle;\n",
       "    }\n",
       "\n",
       "    .dataframe tbody tr th {\n",
       "        vertical-align: top;\n",
       "    }\n",
       "\n",
       "    .dataframe thead th {\n",
       "        text-align: right;\n",
       "    }\n",
       "</style>\n",
       "<table border=\"1\" class=\"dataframe\">\n",
       "  <thead>\n",
       "    <tr style=\"text-align: right;\">\n",
       "      <th></th>\n",
       "      <th>имя_автора</th>\n",
       "      <th>количество_оценок</th>\n",
       "      <th>средний_рейтинг</th>\n",
       "    </tr>\n",
       "  </thead>\n",
       "  <tbody>\n",
       "    <tr>\n",
       "      <th>0</th>\n",
       "      <td>J.K. Rowling/Mary GrandPré</td>\n",
       "      <td>312</td>\n",
       "      <td>4.29</td>\n",
       "    </tr>\n",
       "    <tr>\n",
       "      <th>1</th>\n",
       "      <td>J.R.R. Tolkien</td>\n",
       "      <td>166</td>\n",
       "      <td>4.24</td>\n",
       "    </tr>\n",
       "    <tr>\n",
       "      <th>2</th>\n",
       "      <td>Stephenie Meyer</td>\n",
       "      <td>160</td>\n",
       "      <td>3.66</td>\n",
       "    </tr>\n",
       "    <tr>\n",
       "      <th>3</th>\n",
       "      <td>Dan Brown</td>\n",
       "      <td>143</td>\n",
       "      <td>3.74</td>\n",
       "    </tr>\n",
       "    <tr>\n",
       "      <th>4</th>\n",
       "      <td>Nicholas Sparks</td>\n",
       "      <td>111</td>\n",
       "      <td>3.88</td>\n",
       "    </tr>\n",
       "  </tbody>\n",
       "</table>\n",
       "</div>"
      ],
      "text/plain": [
       "                   имя_автора  количество_оценок  средний_рейтинг\n",
       "0  J.K. Rowling/Mary GrandPré                312             4.29\n",
       "1              J.R.R. Tolkien                166             4.24\n",
       "2             Stephenie Meyer                160             3.66\n",
       "3                   Dan Brown                143             3.74\n",
       "4             Nicholas Sparks                111             3.88"
      ]
     },
     "execution_count": 11,
     "metadata": {},
     "output_type": "execute_result"
    }
   ],
   "source": [
    "query = ''' WITH author as(\n",
    "                   SELECT a.author_id ,\n",
    "                   a.author as имя_автора\n",
    "                   \n",
    "                   FROM authors a\n",
    "                   LEFT JOIN books b ON a.author_id = b.author_id\n",
    "                   GROUP BY 1,2),\n",
    "                   \n",
    "                   rating as(SELECT b.author_id, \n",
    "                   COUNT(r.rating_id) as количество_оценок,\n",
    "                   ROUND(avg(r.rating),2) as средний_рейтинг\n",
    "                   \n",
    "                   FROM books b\n",
    "                   LEFT JOIN ratings r on b.book_id = r.book_id\n",
    "                   GROUP BY 1\n",
    "                   HAVING count(rating_id) >= 50\n",
    "                   ORDER BY количество_оценок desc\n",
    "                   )\n",
    "                   \n",
    "                   SELECT author.имя_автора,\n",
    "                   rating.количество_оценок,\n",
    "                   rating.средний_рейтинг\n",
    "                   FROM author \n",
    "                   JOIN rating on author.author_id = rating.author_id\n",
    "                   GROUP BY 1,2,3\n",
    "                   ORDER BY 2 DESC\n",
    "                   LIMIT 5\n",
    "                   '''\n",
    "\n",
    "sql_result(query)"
   ]
  },
  {
   "cell_type": "markdown",
   "metadata": {},
   "source": [
    "<div class=\"alert alert-info\">Автором с самой высокой средней оценкой книг — с учитом книги только с 50-ю и более оценками, стала J.K. Rowling/Mary GrandPré\t, её рейтинг равен 4,29</div>"
   ]
  },
  {
   "cell_type": "markdown",
   "metadata": {},
   "source": [
    "#### Посчитайте среднее количество обзоров от пользователей, которые поставили больше 50 оценок."
   ]
  },
  {
   "cell_type": "code",
   "execution_count": 12,
   "metadata": {},
   "outputs": [
    {
     "data": {
      "text/html": [
       "<div>\n",
       "<style scoped>\n",
       "    .dataframe tbody tr th:only-of-type {\n",
       "        vertical-align: middle;\n",
       "    }\n",
       "\n",
       "    .dataframe tbody tr th {\n",
       "        vertical-align: top;\n",
       "    }\n",
       "\n",
       "    .dataframe thead th {\n",
       "        text-align: right;\n",
       "    }\n",
       "</style>\n",
       "<table border=\"1\" class=\"dataframe\">\n",
       "  <thead>\n",
       "    <tr style=\"text-align: right;\">\n",
       "      <th></th>\n",
       "      <th>среднее_количество_обзоров</th>\n",
       "    </tr>\n",
       "  </thead>\n",
       "  <tbody>\n",
       "    <tr>\n",
       "      <th>0</th>\n",
       "      <td>24.33</td>\n",
       "    </tr>\n",
       "  </tbody>\n",
       "</table>\n",
       "</div>"
      ],
      "text/plain": [
       "   среднее_количество_обзоров\n",
       "0                       24.33"
      ]
     },
     "execution_count": 12,
     "metadata": {},
     "output_type": "execute_result"
    }
   ],
   "source": [
    "query = ''' SELECT\n",
    "                                     ROUND(AVG(review_cnt),2) as среднее_количество_обзоров\n",
    "            \n",
    "                                     FROM (SELECT\n",
    "                                     COUNT(review_id) as review_cnt\n",
    "                  \n",
    "                                     FROM reviews\n",
    "                                     WHERE username IN(SELECT username\n",
    "                  \n",
    "                                                       FROM ratings\n",
    "                                                       GROUP BY username\n",
    "                                                       HAVING COUNT(ratings) > 50)\n",
    "                                     GROUP BY username) as sub_review_cnt\n",
    "                                 '''\n",
    "sql_result(query)"
   ]
  },
  {
   "cell_type": "markdown",
   "metadata": {},
   "source": [
    "<div class=\"alert alert-info\">Среднее количество обзоров от пользователей, которые поставили больше 50 оценок, равно 24.33</div>"
   ]
  },
  {
   "cell_type": "markdown",
   "metadata": {},
   "source": [
    "Благодарю за совместную работу и хочу поздравить, ты большой молодец, что прошёл такой путь и освоил программу, надеюсь у тебя сбудутся все намеченные планы.\n",
    "\n",
    "У Практикума развивается сообщество выпускников, так что рекомендую про него не забывать, в случае необходимости.\n",
    "\n",
    "\n",
    "Понравилось, что ты переписал блок для получения первичного анализа по датафреймам, мне больше нравится функции, чтобы получался не такой большой блок вывода по кода, а потом как раз можно вставить краткий вывод в `markdown` ячейке. Но вообще автоматизировать повторяющиеся задачи - полезное стремление аналитика и я хочу порекламировать библиотеку `pandas profiling`, она как раз для первичного анализа). По визуализациям ниже предлагаю набор различных способов сделать их информативнее, там и возможность подписывать столбцы на столбчатых диаграммах и ещё всякое. Желаю удачи!)\n",
    "\n",
    "Оформление презентаций дело субъективное и зачастую в разных компаниях имеются свои требования, но вот видео от Яндекса по созданию презентаций https://www.youtube.com/watch?v=S0r0fMJa9eA, а ещё на платформе практикума открылся бесплатный курс по созданию презентаций, рекомендую.\n",
    "\n",
    "Для более глубокого изучения tableau, в случае необходимости рекомендую материал https://tableau.pro/m01, этот курс делает классная команда, у них бывают и другие интересные мини курсы. Но в последнее время российские компании уходят от tableau или уже ушли, поэтому возможно придётся познакомиться с другими инструментами.\n",
    "\n",
    "Задачи на статистику или вокруг неё часто возникают на собеседовании, для укрепления этого фундамента рекомендую статью для выбора критерия проверки гипотез https://lit-review.ru/biostatistika/vybor-statisticheskogo-kriteriya/, https://statpsy.ru/ - информация по критериям проверки гипотез.\n",
    "\n",
    "Визуализации данных для аналитиков очень важны, при помощи них легче доносить желаемые мысли, а для того, чтобы лучше отобразить, нужно понимать, какие вообще существуют визуализации, делюсь с тобой своей подборкой для разных случае жизни https://www.notion.so/d9392e1cb71f48cfb1fbf7f557a2b7e7 \n",
    "\n",
    "\n",
    "SQL важный навык, который нужно поддерживать для этого существует много тренажёров:\n",
    "* Статья на хабр с топ-тренажёрами: https://techrocks.ru/2019/11/22/7-sites-to-perfect-sql-query-writing-skills/\n",
    "* задачки SQL - https://habr.com/ru/company/dcmiran/blog/500360/\n",
    "* https://sqlzoo.net/\n"
   ]
  },
  {
   "cell_type": "markdown",
   "metadata": {},
   "source": [
    "### Вывод"
   ]
  },
  {
   "cell_type": "markdown",
   "metadata": {},
   "source": [
    "- `После 1 января 2000 года вышло 819 книг;`\n",
    "- `На книгу Twilight (Twilight #1) вышло максимальное количество обзоров` - 7, - `рейтинг книги` - 3.7;\n",
    "- `Издательство, выпустившее наибольшее число книг толще 50 страниц:` Penguin Books, они выпустили 42 книги;\n",
    "- `Автор с самой высокой средней оценкой книг:` J.K. Rowling/Mary GrandPré с рейтингом 4.29;\n",
    "- `Среднее количество обзоров от пользователей, которые поставили больше 50 оценок:` 24.33."
   ]
  }
 ],
 "metadata": {
  "ExecuteTimeLog": [
   {
    "duration": 8332,
    "start_time": "2023-04-15T09:09:47.544Z"
   },
   {
    "duration": 73,
    "start_time": "2023-04-15T09:14:05.733Z"
   },
   {
    "duration": 7,
    "start_time": "2023-04-15T09:14:31.883Z"
   },
   {
    "duration": 9,
    "start_time": "2023-04-15T09:15:16.037Z"
   },
   {
    "duration": 64,
    "start_time": "2023-04-15T09:16:33.533Z"
   },
   {
    "duration": 12,
    "start_time": "2023-04-15T09:18:04.503Z"
   },
   {
    "duration": 11,
    "start_time": "2023-04-15T09:18:05.266Z"
   },
   {
    "duration": 11,
    "start_time": "2023-04-15T09:18:06.098Z"
   },
   {
    "duration": 11,
    "start_time": "2023-04-15T09:18:06.983Z"
   },
   {
    "duration": 12,
    "start_time": "2023-04-15T09:22:44.137Z"
   },
   {
    "duration": 12,
    "start_time": "2023-04-15T09:23:00.687Z"
   },
   {
    "duration": 10,
    "start_time": "2023-04-15T09:26:47.724Z"
   },
   {
    "duration": 148,
    "start_time": "2023-04-15T09:29:42.536Z"
   },
   {
    "duration": 103,
    "start_time": "2023-04-15T09:31:14.860Z"
   },
   {
    "duration": 112,
    "start_time": "2023-04-15T09:31:59.640Z"
   },
   {
    "duration": 88,
    "start_time": "2023-04-15T09:32:06.084Z"
   },
   {
    "duration": 10,
    "start_time": "2023-04-15T09:35:11.911Z"
   },
   {
    "duration": 10,
    "start_time": "2023-04-15T09:35:16.707Z"
   },
   {
    "duration": 93,
    "start_time": "2023-04-15T09:36:11.794Z"
   },
   {
    "duration": 105,
    "start_time": "2023-04-15T09:36:16.915Z"
   },
   {
    "duration": 87,
    "start_time": "2023-04-15T09:36:18.619Z"
   },
   {
    "duration": 27,
    "start_time": "2023-04-15T09:38:50.047Z"
   },
   {
    "duration": 28,
    "start_time": "2023-04-15T09:39:09.535Z"
   },
   {
    "duration": 99,
    "start_time": "2023-04-15T09:40:03.707Z"
   },
   {
    "duration": 26,
    "start_time": "2023-04-15T09:40:17.391Z"
   },
   {
    "duration": 585,
    "start_time": "2023-04-15T09:40:24.778Z"
   },
   {
    "duration": 32,
    "start_time": "2023-04-15T09:40:36.147Z"
   },
   {
    "duration": 27,
    "start_time": "2023-04-15T09:41:02.599Z"
   },
   {
    "duration": 87,
    "start_time": "2023-04-15T09:49:19.502Z"
   },
   {
    "duration": 111,
    "start_time": "2023-04-15T09:50:05.977Z"
   },
   {
    "duration": 91,
    "start_time": "2023-04-15T09:50:47.650Z"
   },
   {
    "duration": 13,
    "start_time": "2023-04-15T09:51:14.899Z"
   },
   {
    "duration": 86,
    "start_time": "2023-04-15T09:51:38.917Z"
   },
   {
    "duration": 101,
    "start_time": "2023-04-15T09:51:44.886Z"
   },
   {
    "duration": 130,
    "start_time": "2023-04-15T09:51:57.758Z"
   },
   {
    "duration": 14,
    "start_time": "2023-04-15T09:52:03.480Z"
   },
   {
    "duration": 14,
    "start_time": "2023-04-15T09:52:15.858Z"
   },
   {
    "duration": 14,
    "start_time": "2023-04-15T09:52:28.454Z"
   },
   {
    "duration": 16,
    "start_time": "2023-04-15T09:53:32.585Z"
   },
   {
    "duration": 17,
    "start_time": "2023-04-15T10:02:21.577Z"
   },
   {
    "duration": 17,
    "start_time": "2023-04-15T10:03:04.033Z"
   },
   {
    "duration": 20,
    "start_time": "2023-04-15T10:03:30.629Z"
   },
   {
    "duration": 133,
    "start_time": "2023-04-15T10:04:06.797Z"
   },
   {
    "duration": 129,
    "start_time": "2023-04-15T10:04:12.177Z"
   },
   {
    "duration": 95,
    "start_time": "2023-04-15T10:04:36.037Z"
   },
   {
    "duration": 19,
    "start_time": "2023-04-15T10:04:43.442Z"
   },
   {
    "duration": 88,
    "start_time": "2023-04-15T10:06:57.849Z"
   },
   {
    "duration": 84,
    "start_time": "2023-04-15T10:07:19.745Z"
   },
   {
    "duration": 110,
    "start_time": "2023-04-15T10:07:47.759Z"
   },
   {
    "duration": 16,
    "start_time": "2023-04-15T10:08:13.585Z"
   },
   {
    "duration": 16,
    "start_time": "2023-04-15T10:08:54.525Z"
   },
   {
    "duration": 18,
    "start_time": "2023-04-15T10:09:06.934Z"
   },
   {
    "duration": 19,
    "start_time": "2023-04-15T10:09:59.384Z"
   },
   {
    "duration": 22,
    "start_time": "2023-04-15T10:10:21.270Z"
   },
   {
    "duration": 15,
    "start_time": "2023-04-15T10:10:51.873Z"
   },
   {
    "duration": 16,
    "start_time": "2023-04-15T10:11:55.358Z"
   },
   {
    "duration": 17,
    "start_time": "2023-04-15T10:12:11.776Z"
   },
   {
    "duration": 15,
    "start_time": "2023-04-15T10:12:18.952Z"
   },
   {
    "duration": 103,
    "start_time": "2023-04-15T10:16:23.749Z"
   },
   {
    "duration": 25,
    "start_time": "2023-04-15T10:16:29.736Z"
   },
   {
    "duration": 17,
    "start_time": "2023-04-15T10:24:04.951Z"
   },
   {
    "duration": 12,
    "start_time": "2023-04-15T10:24:34.473Z"
   },
   {
    "duration": 105,
    "start_time": "2023-04-15T10:27:40.180Z"
   },
   {
    "duration": 407,
    "start_time": "2023-04-15T10:27:52.674Z"
   },
   {
    "duration": 12,
    "start_time": "2023-04-15T10:28:21.616Z"
   },
   {
    "duration": 100,
    "start_time": "2023-04-15T10:28:42.806Z"
   },
   {
    "duration": 14,
    "start_time": "2023-04-15T10:28:53.327Z"
   },
   {
    "duration": 14,
    "start_time": "2023-04-15T10:29:47.722Z"
   },
   {
    "duration": 14,
    "start_time": "2023-04-15T10:29:57.453Z"
   },
   {
    "duration": 131,
    "start_time": "2023-04-15T10:30:19.920Z"
   },
   {
    "duration": 132,
    "start_time": "2023-04-15T10:31:13.116Z"
   },
   {
    "duration": 115,
    "start_time": "2023-04-15T10:31:51.432Z"
   },
   {
    "duration": 26,
    "start_time": "2023-04-15T10:32:07.535Z"
   },
   {
    "duration": 13,
    "start_time": "2023-04-15T10:32:37.416Z"
   },
   {
    "duration": 14,
    "start_time": "2023-04-15T10:33:04.400Z"
   },
   {
    "duration": 11,
    "start_time": "2023-04-15T10:33:50.479Z"
   },
   {
    "duration": 13,
    "start_time": "2023-04-15T10:34:10.755Z"
   },
   {
    "duration": 15,
    "start_time": "2023-04-15T10:34:20.400Z"
   },
   {
    "duration": 16,
    "start_time": "2023-04-15T10:34:28.983Z"
   },
   {
    "duration": 18,
    "start_time": "2023-04-15T10:38:37.765Z"
   },
   {
    "duration": 25,
    "start_time": "2023-04-15T10:38:52.836Z"
   },
   {
    "duration": 116,
    "start_time": "2023-04-15T10:39:23.570Z"
   },
   {
    "duration": 92,
    "start_time": "2023-04-15T10:39:32.795Z"
   },
   {
    "duration": 22,
    "start_time": "2023-04-15T10:39:48.875Z"
   },
   {
    "duration": 17,
    "start_time": "2023-04-15T10:40:06.649Z"
   },
   {
    "duration": 16,
    "start_time": "2023-04-15T10:40:37.347Z"
   },
   {
    "duration": 17,
    "start_time": "2023-04-15T10:42:51.306Z"
   },
   {
    "duration": 26,
    "start_time": "2023-04-15T10:42:56.430Z"
   },
   {
    "duration": 30,
    "start_time": "2023-04-15T10:45:46.140Z"
   },
   {
    "duration": 3,
    "start_time": "2023-04-15T10:52:11.589Z"
   },
   {
    "duration": 38,
    "start_time": "2023-04-15T10:52:24.111Z"
   },
   {
    "duration": 97,
    "start_time": "2023-04-15T10:52:47.201Z"
   },
   {
    "duration": 23,
    "start_time": "2023-04-15T10:52:55.769Z"
   },
   {
    "duration": 23,
    "start_time": "2023-04-15T10:53:19.206Z"
   },
   {
    "duration": 23,
    "start_time": "2023-04-15T10:55:37.647Z"
   },
   {
    "duration": 110,
    "start_time": "2023-04-15T10:56:16.994Z"
   },
   {
    "duration": 43,
    "start_time": "2023-04-15T10:56:33.390Z"
   },
   {
    "duration": 48,
    "start_time": "2023-04-15T10:56:37.030Z"
   },
   {
    "duration": 28,
    "start_time": "2023-04-15T10:57:12.382Z"
   },
   {
    "duration": 30,
    "start_time": "2023-04-15T11:01:08.195Z"
   },
   {
    "duration": 43,
    "start_time": "2023-04-15T11:01:51.935Z"
   },
   {
    "duration": 26,
    "start_time": "2023-04-15T11:01:56.395Z"
   },
   {
    "duration": 23,
    "start_time": "2023-04-15T11:05:41.511Z"
   },
   {
    "duration": 23,
    "start_time": "2023-04-15T11:08:59.510Z"
   },
   {
    "duration": 11,
    "start_time": "2023-04-15T11:10:18.319Z"
   },
   {
    "duration": 11,
    "start_time": "2023-04-15T11:10:56.723Z"
   },
   {
    "duration": 27,
    "start_time": "2023-04-15T11:12:26.232Z"
   },
   {
    "duration": 27,
    "start_time": "2023-04-15T11:17:14.132Z"
   },
   {
    "duration": 13,
    "start_time": "2023-04-15T11:17:48.550Z"
   },
   {
    "duration": 28,
    "start_time": "2023-04-15T11:18:31.524Z"
   },
   {
    "duration": 102,
    "start_time": "2023-04-15T11:21:02.048Z"
   },
   {
    "duration": 20,
    "start_time": "2023-04-15T11:21:16.138Z"
   },
   {
    "duration": 14,
    "start_time": "2023-04-15T11:21:38.155Z"
   },
   {
    "duration": 127,
    "start_time": "2023-04-15T11:26:30.777Z"
   },
   {
    "duration": 17,
    "start_time": "2023-04-15T11:26:38.491Z"
   },
   {
    "duration": 16,
    "start_time": "2023-04-15T11:26:43.007Z"
   },
   {
    "duration": 16,
    "start_time": "2023-04-15T11:26:59.479Z"
   },
   {
    "duration": 15,
    "start_time": "2023-04-15T11:27:05.248Z"
   },
   {
    "duration": 11,
    "start_time": "2023-04-15T11:28:30.111Z"
   },
   {
    "duration": 11,
    "start_time": "2023-04-15T11:28:49.847Z"
   },
   {
    "duration": 25,
    "start_time": "2023-04-15T11:31:20.673Z"
   },
   {
    "duration": 31,
    "start_time": "2023-04-15T11:31:57.394Z"
   },
   {
    "duration": 40,
    "start_time": "2023-04-15T11:32:42.393Z"
   },
   {
    "duration": 108,
    "start_time": "2023-04-15T11:34:16.693Z"
   },
   {
    "duration": 120,
    "start_time": "2023-04-15T11:34:22.004Z"
   },
   {
    "duration": 370,
    "start_time": "2023-04-15T11:35:04.752Z"
   },
   {
    "duration": 127,
    "start_time": "2023-04-15T11:37:47.180Z"
   },
   {
    "duration": 102,
    "start_time": "2023-04-15T11:38:37.554Z"
   },
   {
    "duration": 33,
    "start_time": "2023-04-15T11:43:56.770Z"
   },
   {
    "duration": 115,
    "start_time": "2023-04-15T11:49:17.898Z"
   },
   {
    "duration": 3,
    "start_time": "2023-04-15T11:49:23.957Z"
   },
   {
    "duration": 21,
    "start_time": "2023-04-15T11:49:47.538Z"
   },
   {
    "duration": 28,
    "start_time": "2023-04-15T11:53:32.980Z"
   },
   {
    "duration": 15,
    "start_time": "2023-04-15T11:53:33.701Z"
   },
   {
    "duration": 16,
    "start_time": "2023-04-15T11:53:34.800Z"
   },
   {
    "duration": 17,
    "start_time": "2023-04-15T11:53:35.690Z"
   },
   {
    "duration": 24,
    "start_time": "2023-04-15T11:53:36.628Z"
   },
   {
    "duration": 19,
    "start_time": "2023-04-15T11:54:31.753Z"
   },
   {
    "duration": 9007,
    "start_time": "2023-04-15T11:54:39.805Z"
   },
   {
    "duration": 4,
    "start_time": "2023-04-15T11:54:48.814Z"
   },
   {
    "duration": 66,
    "start_time": "2023-04-15T11:54:48.819Z"
   },
   {
    "duration": 11,
    "start_time": "2023-04-15T11:54:48.887Z"
   },
   {
    "duration": 11,
    "start_time": "2023-04-15T11:54:48.900Z"
   },
   {
    "duration": 24,
    "start_time": "2023-04-15T11:54:48.913Z"
   },
   {
    "duration": 31,
    "start_time": "2023-04-15T11:54:48.939Z"
   },
   {
    "duration": 20,
    "start_time": "2023-04-15T11:54:48.973Z"
   },
   {
    "duration": 35,
    "start_time": "2023-04-15T11:54:48.994Z"
   },
   {
    "duration": 28,
    "start_time": "2023-04-15T11:54:49.030Z"
   },
   {
    "duration": 20,
    "start_time": "2023-04-15T11:54:49.060Z"
   },
   {
    "duration": 17,
    "start_time": "2023-04-15T11:54:49.082Z"
   }
  ],
  "kernelspec": {
   "display_name": "Python 3 (ipykernel)",
   "language": "python",
   "name": "python3"
  },
  "language_info": {
   "codemirror_mode": {
    "name": "ipython",
    "version": 3
   },
   "file_extension": ".py",
   "mimetype": "text/x-python",
   "name": "python",
   "nbconvert_exporter": "python",
   "pygments_lexer": "ipython3",
   "version": "3.9.13"
  },
  "toc": {
   "base_numbering": 1,
   "nav_menu": {},
   "number_sections": true,
   "sideBar": true,
   "skip_h1_title": true,
   "title_cell": "Table of Contents",
   "title_sidebar": "Contents",
   "toc_cell": false,
   "toc_position": {},
   "toc_section_display": true,
   "toc_window_display": false
  }
 },
 "nbformat": 4,
 "nbformat_minor": 2
}
